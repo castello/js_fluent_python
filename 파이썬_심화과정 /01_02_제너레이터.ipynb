{
 "cells": [
  {
   "cell_type": "code",
   "execution_count": 1,
   "id": "63687106",
   "metadata": {},
   "outputs": [
    {
     "data": {
      "text/plain": [
       "'3.9.16'"
      ]
     },
     "execution_count": 1,
     "metadata": {},
     "output_type": "execute_result"
    }
   ],
   "source": [
    "import platform\n",
    "\n",
    "platform.python_version()"
   ]
  },
  {
   "cell_type": "code",
   "execution_count": null,
   "id": "337a52c1",
   "metadata": {},
   "outputs": [],
   "source": []
  },
  {
   "cell_type": "code",
   "execution_count": null,
   "id": "9016a92c",
   "metadata": {},
   "outputs": [],
   "source": [
    "## 1. 파이썬 제너레이터(Generator)\n",
    "\n",
    "- 값을 생성해주는 이터레이터를 생성하는 함수입니다. \n",
    "- 이터레이터와 달리 모든 값을 메모리에 저장하지 않고, 필요할 때마다 값을 생성하므로 메모리를 효율적으로 사용할 수 있습니다."
   ]
  },
  {
   "cell_type": "code",
   "execution_count": null,
   "id": "148fa862",
   "metadata": {},
   "outputs": [],
   "source": []
  },
  {
   "cell_type": "markdown",
   "id": "f2b8de38",
   "metadata": {},
   "source": [
    "## 1-1 제너레이터 표현식 "
   ]
  },
  {
   "cell_type": "code",
   "execution_count": 7,
   "id": "989deec4",
   "metadata": {},
   "outputs": [],
   "source": [
    "gg = (x for x in range(5))"
   ]
  },
  {
   "cell_type": "code",
   "execution_count": 8,
   "id": "52c7a11f",
   "metadata": {},
   "outputs": [
    {
     "data": {
      "text/plain": [
       "<generator object <genexpr> at 0x107825f90>"
      ]
     },
     "execution_count": 8,
     "metadata": {},
     "output_type": "execute_result"
    }
   ],
   "source": [
    "gg"
   ]
  },
  {
   "cell_type": "code",
   "execution_count": 9,
   "id": "254abbdb",
   "metadata": {},
   "outputs": [
    {
     "name": "stdout",
     "output_type": "stream",
     "text": [
      "0, 1, 2, 3, 4, "
     ]
    }
   ],
   "source": [
    "for i in gg :\n",
    "    print(i, end=\", \")"
   ]
  },
  {
   "cell_type": "code",
   "execution_count": null,
   "id": "7f7c9d17",
   "metadata": {},
   "outputs": [],
   "source": []
  },
  {
   "cell_type": "markdown",
   "id": "d8587790",
   "metadata": {},
   "source": [
    "\n",
    "## 1-2 제너레이터  문장"
   ]
  },
  {
   "cell_type": "markdown",
   "id": "23f4cd26",
   "metadata": {},
   "source": [
    "## 제너레이터를 정의하고 실행하기 "
   ]
  },
  {
   "cell_type": "code",
   "execution_count": 2,
   "id": "04b79053",
   "metadata": {},
   "outputs": [],
   "source": [
    "def mygenerator() :\n",
    "    yield 1\n",
    "    yield 2\n",
    "    yield 3"
   ]
  },
  {
   "cell_type": "markdown",
   "id": "906c4120",
   "metadata": {},
   "source": [
    "### 제너레이터를 생성 "
   ]
  },
  {
   "cell_type": "code",
   "execution_count": 3,
   "id": "7ddd0b97",
   "metadata": {},
   "outputs": [
    {
     "data": {
      "text/plain": [
       "<generator object mygenerator at 0x106e0a2e0>"
      ]
     },
     "execution_count": 3,
     "metadata": {},
     "output_type": "execute_result"
    }
   ],
   "source": [
    "mygenerator()"
   ]
  },
  {
   "cell_type": "code",
   "execution_count": 4,
   "id": "b7ff5aa1",
   "metadata": {},
   "outputs": [],
   "source": [
    "g = mygenerator()"
   ]
  },
  {
   "cell_type": "markdown",
   "id": "71104db2",
   "metadata": {},
   "source": [
    "### 제너레이터 순환 "
   ]
  },
  {
   "cell_type": "code",
   "execution_count": 5,
   "id": "1948506f",
   "metadata": {},
   "outputs": [
    {
     "data": {
      "text/plain": [
       "(1, 2, 3)"
      ]
     },
     "execution_count": 5,
     "metadata": {},
     "output_type": "execute_result"
    }
   ],
   "source": [
    "next(g), next(g), next(g)"
   ]
  },
  {
   "cell_type": "markdown",
   "id": "a6461e95",
   "metadata": {},
   "source": [
    "### 전부 사용하면 아무것도 없다는 뜻으로 예외 발생 "
   ]
  },
  {
   "cell_type": "code",
   "execution_count": 6,
   "id": "8c36de3d",
   "metadata": {},
   "outputs": [
    {
     "ename": "StopIteration",
     "evalue": "",
     "output_type": "error",
     "traceback": [
      "\u001b[0;31m---------------------------------------------------------------------------\u001b[0m",
      "\u001b[0;31mStopIteration\u001b[0m                             Traceback (most recent call last)",
      "Cell \u001b[0;32mIn[6], line 1\u001b[0m\n\u001b[0;32m----> 1\u001b[0m \u001b[38;5;28;43mnext\u001b[39;49m\u001b[43m(\u001b[49m\u001b[43mg\u001b[49m\u001b[43m)\u001b[49m\n",
      "\u001b[0;31mStopIteration\u001b[0m: "
     ]
    }
   ],
   "source": [
    "next(g)"
   ]
  },
  {
   "cell_type": "markdown",
   "id": "ca63c55f",
   "metadata": {},
   "source": [
    "### 사용할 때마다 생성이 필요 "
   ]
  },
  {
   "cell_type": "code",
   "execution_count": 10,
   "id": "4c156424",
   "metadata": {},
   "outputs": [],
   "source": [
    "g1 = mygenerator()"
   ]
  },
  {
   "cell_type": "code",
   "execution_count": 11,
   "id": "ca049e22",
   "metadata": {},
   "outputs": [
    {
     "name": "stdout",
     "output_type": "stream",
     "text": [
      "1, 2, 3, "
     ]
    }
   ],
   "source": [
    "for i in g1 :\n",
    "    print(i, end=\", \")"
   ]
  },
  {
   "cell_type": "markdown",
   "id": "c708c341",
   "metadata": {},
   "source": [
    "## 1-3 제너레이터 활용 "
   ]
  },
  {
   "cell_type": "markdown",
   "id": "0b7b3b85",
   "metadata": {},
   "source": [
    "## 특정 범위까지 처리하는 제너레이터 "
   ]
  },
  {
   "cell_type": "code",
   "execution_count": 12,
   "id": "fbf76a71",
   "metadata": {},
   "outputs": [
    {
     "name": "stdout",
     "output_type": "stream",
     "text": [
      "5\n",
      "4\n",
      "3\n",
      "2\n",
      "1\n"
     ]
    }
   ],
   "source": [
    "def countdown(n):\n",
    "    while n > 0:\n",
    "        yield n\n",
    "        n -= 1\n",
    "\n",
    "# countdown 함수를 호출하여 제너레이터 객체 생성\n",
    "counter = countdown(5)\n",
    "\n",
    "# 제너레이터 객체를 이용하여 값을 하나씩 생성\n",
    "for num in counter:\n",
    "    print(num)\n"
   ]
  },
  {
   "cell_type": "code",
   "execution_count": null,
   "id": "e8060c94",
   "metadata": {},
   "outputs": [],
   "source": []
  },
  {
   "cell_type": "markdown",
   "id": "4e6bba66",
   "metadata": {},
   "source": [
    "## 1-4  두 제너레이터의 연결\n",
    "\n",
    "- yield from 구문은 파이썬 3.3부터 도입된 기능으로, 제너레이터 함수 안에서 다른 제너레이터를 호출하고 그 결과를 반환하는 데 사용\n",
    "- 이를 통해 중첩된 제너레이터를 더 간결하게 작성할 수 있습니다."
   ]
  },
  {
   "cell_type": "markdown",
   "id": "804b1cd4",
   "metadata": {},
   "source": [
    "### 두개의 제너레이터를 순환문 연결 "
   ]
  },
  {
   "cell_type": "code",
   "execution_count": 19,
   "id": "c30c45cb",
   "metadata": {},
   "outputs": [],
   "source": [
    "def generator1():\n",
    "    yield 1\n",
    "    yield 2\n",
    "    yield 3"
   ]
  },
  {
   "cell_type": "code",
   "execution_count": 20,
   "id": "3f99ff4d",
   "metadata": {},
   "outputs": [],
   "source": [
    "def generator2():\n",
    "    for i in generator1() :\n",
    "        print(i)\n",
    "    yield 4\n",
    "    yield 5"
   ]
  },
  {
   "cell_type": "code",
   "execution_count": 23,
   "id": "64c8e951",
   "metadata": {},
   "outputs": [
    {
     "name": "stdout",
     "output_type": "stream",
     "text": [
      "1\n",
      "2\n",
      "3\n",
      "4\n",
      "5\n"
     ]
    }
   ],
   "source": [
    "for i in generator2() :\n",
    "    print(i)"
   ]
  },
  {
   "cell_type": "markdown",
   "id": "ab449698",
   "metadata": {},
   "source": [
    "### 두개의 제너레이터를 yield from 으로 연결 "
   ]
  },
  {
   "cell_type": "code",
   "execution_count": 25,
   "id": "f824e23e",
   "metadata": {},
   "outputs": [],
   "source": [
    "def generator3():\n",
    "    yield from generator1()\n",
    "    yield 4\n",
    "    yield 5\n"
   ]
  },
  {
   "cell_type": "code",
   "execution_count": 26,
   "id": "1f439526",
   "metadata": {},
   "outputs": [
    {
     "name": "stdout",
     "output_type": "stream",
     "text": [
      "1\n",
      "2\n",
      "3\n",
      "4\n",
      "5\n"
     ]
    }
   ],
   "source": [
    "for num in generator3():\n",
    "    print(num)"
   ]
  },
  {
   "cell_type": "markdown",
   "id": "5f8efea0",
   "metadata": {},
   "source": [
    "## 1-5  코루틴 \n",
    "\n",
    "- 코루틴(Coroutine)은 제너레이터를 기반으로 하며, 비동기 프로그래밍을 간단하게 작성할 수 있는 방법 중 하나\n",
    "- 코루틴은 함수 실행을 중단하고 나중에 다시 이어서 실행할 수 있도록 하는 개념\n",
    "- yield 키워드를 사용하여 값을 생성하는 것과 마찬가지로 yield 키워드를 사용하여 값을 받아올 수 있음."
   ]
  },
  {
   "cell_type": "code",
   "execution_count": 13,
   "id": "57d1bc58",
   "metadata": {},
   "outputs": [],
   "source": [
    "def my_coroutine():\n",
    "    while True:\n",
    "        received_value = yield\n",
    "        print(f\"Received: {received_value}\")\n",
    "\n"
   ]
  },
  {
   "cell_type": "code",
   "execution_count": 14,
   "id": "0b531447",
   "metadata": {},
   "outputs": [],
   "source": [
    "# 코루틴 객체 생성\n",
    "coroutine = my_coroutine()"
   ]
  },
  {
   "cell_type": "code",
   "execution_count": 15,
   "id": "6945aabb",
   "metadata": {},
   "outputs": [],
   "source": [
    "# 코루틴 시작\n",
    "next(coroutine)\n"
   ]
  },
  {
   "cell_type": "code",
   "execution_count": 16,
   "id": "df8cfa29",
   "metadata": {},
   "outputs": [
    {
     "name": "stdout",
     "output_type": "stream",
     "text": [
      "Received: Hello\n",
      "Received: World\n"
     ]
    }
   ],
   "source": [
    "# 값을 코루틴으로 보내기\n",
    "coroutine.send(\"Hello\")\n",
    "coroutine.send(\"World\")"
   ]
  },
  {
   "cell_type": "code",
   "execution_count": null,
   "id": "1c42431b",
   "metadata": {},
   "outputs": [],
   "source": []
  }
 ],
 "metadata": {
  "kernelspec": {
   "display_name": "Python 3 (ipykernel)",
   "language": "python",
   "name": "python3"
  },
  "language_info": {
   "codemirror_mode": {
    "name": "ipython",
    "version": 3
   },
   "file_extension": ".py",
   "mimetype": "text/x-python",
   "name": "python",
   "nbconvert_exporter": "python",
   "pygments_lexer": "ipython3",
   "version": "3.9.16"
  }
 },
 "nbformat": 4,
 "nbformat_minor": 5
}
