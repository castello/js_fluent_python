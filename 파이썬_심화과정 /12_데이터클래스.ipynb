{
 "cells": [
  {
   "cell_type": "code",
   "execution_count": 5,
   "id": "e088d06d",
   "metadata": {},
   "outputs": [
    {
     "data": {
      "text/plain": [
       "'3.11.3'"
      ]
     },
     "execution_count": 5,
     "metadata": {},
     "output_type": "execute_result"
    }
   ],
   "source": [
    "import platform\n",
    "platform.python_version()"
   ]
  },
  {
   "cell_type": "code",
   "execution_count": null,
   "id": "9cf5c883",
   "metadata": {},
   "outputs": [],
   "source": []
  },
  {
   "cell_type": "code",
   "execution_count": null,
   "id": "ef8bc390",
   "metadata": {},
   "outputs": [],
   "source": []
  },
  {
   "cell_type": "markdown",
   "id": "95a1ed1f",
   "metadata": {},
   "source": [
    "## 데이터 클래스 "
   ]
  },
  {
   "cell_type": "code",
   "execution_count": null,
   "id": "07e62785",
   "metadata": {},
   "outputs": [],
   "source": [
    "from dataclasses import dataclass"
   ]
  },
  {
   "cell_type": "code",
   "execution_count": 1,
   "id": "007a1936",
   "metadata": {},
   "outputs": [],
   "source": [
    "from dataclasses import dataclass\n",
    "from datetime import date\n",
    "\n",
    "\n",
    "@dataclass\n",
    "class User:\n",
    "    id: int\n",
    "    name: str\n",
    "    birthdate: date\n",
    "    admin: bool = False"
   ]
  },
  {
   "cell_type": "code",
   "execution_count": 2,
   "id": "e215037c",
   "metadata": {},
   "outputs": [],
   "source": [
    "user1 = User(id=1, name=\"Steve Jobs\", birthdate=date(1955, 2, 24))"
   ]
  },
  {
   "cell_type": "code",
   "execution_count": 3,
   "id": "b075b308",
   "metadata": {},
   "outputs": [
    {
     "data": {
      "text/plain": [
       "User(id=1, name='Steve Jobs', birthdate=datetime.date(1955, 2, 24), admin=False)"
      ]
     },
     "execution_count": 3,
     "metadata": {},
     "output_type": "execute_result"
    }
   ],
   "source": [
    "user1"
   ]
  },
  {
   "cell_type": "code",
   "execution_count": null,
   "id": "0bb9f9fa",
   "metadata": {},
   "outputs": [],
   "source": []
  },
  {
   "cell_type": "code",
   "execution_count": null,
   "id": "4c45b7c7",
   "metadata": {},
   "outputs": [],
   "source": []
  },
  {
   "cell_type": "markdown",
   "id": "5a850a6c",
   "metadata": {},
   "source": [
    "## pydantic: \n",
    "- pydantic은 데이터 검증과 설정을 위한 모듈로, 데이터 클래스와 유사한 모델 클래스를 생성하면서 입력 데이터의 유효성을 검사하고 변환할 수 있습니다. \n",
    "- 주로 데이터 유효성 검증이 필요한 설정 파일이나 사용자 입력 처리에 유용합니다."
   ]
  },
  {
   "cell_type": "code",
   "execution_count": null,
   "id": "fffc375e",
   "metadata": {},
   "outputs": [],
   "source": [
    "from pydantic import BaseModel"
   ]
  },
  {
   "cell_type": "code",
   "execution_count": 4,
   "id": "feb50691",
   "metadata": {},
   "outputs": [
    {
     "name": "stdout",
     "output_type": "stream",
     "text": [
      "Alice\n",
      "30\n",
      "alice@example.com\n",
      "Error: 1 validation error for Person\n",
      "age\n",
      "  value is not a valid integer (type=type_error.integer)\n"
     ]
    }
   ],
   "source": [
    "from pydantic import BaseModel\n",
    "\n",
    "# Pydantic 모델 정의\n",
    "class Person(BaseModel):\n",
    "    name: str\n",
    "    age: int\n",
    "    email: str\n",
    "\n",
    "# 유효성 검증 및 데이터 변환\n",
    "data = {\n",
    "    \"name\": \"Alice\",\n",
    "    \"age\": 30,\n",
    "    \"email\": \"alice@example.com\"\n",
    "}\n",
    "\n",
    "person = Person(**data)\n",
    "\n",
    "print(person.name)   # 출력: Alice\n",
    "print(person.age)    # 출력: 30\n",
    "print(person.email)  # 출력: alice@example.com\n",
    "\n",
    "# 유효하지 않은 데이터 처리\n",
    "invalid_data = {\n",
    "    \"name\": \"Bob\",\n",
    "    \"age\": \"twenty-five\",  # 잘못된 타입\n",
    "    \"email\": \"bob@example.com\"\n",
    "}\n",
    "\n",
    "try:\n",
    "    invalid_person = Person(**invalid_data)\n",
    "except ValueError as e:\n",
    "    print(\"Error:\", e)\n"
   ]
  },
  {
   "cell_type": "code",
   "execution_count": null,
   "id": "55d9cb60",
   "metadata": {},
   "outputs": [],
   "source": []
  },
  {
   "cell_type": "code",
   "execution_count": null,
   "id": "aad42edc",
   "metadata": {},
   "outputs": [],
   "source": []
  }
 ],
 "metadata": {
  "kernelspec": {
   "display_name": "Python 3 (ipykernel)",
   "language": "python",
   "name": "python3"
  },
  "language_info": {
   "codemirror_mode": {
    "name": "ipython",
    "version": 3
   },
   "file_extension": ".py",
   "mimetype": "text/x-python",
   "name": "python",
   "nbconvert_exporter": "python",
   "pygments_lexer": "ipython3",
   "version": "3.11.3"
  }
 },
 "nbformat": 4,
 "nbformat_minor": 5
}
