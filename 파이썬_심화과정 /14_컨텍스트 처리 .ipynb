{
 "cells": [
  {
   "cell_type": "code",
   "execution_count": 1,
   "id": "7a82a224",
   "metadata": {},
   "outputs": [
    {
     "name": "stdout",
     "output_type": "stream",
     "text": [
      "Writing example.txt\n"
     ]
    }
   ],
   "source": [
    "%%writefile example.txt\n",
    "가을이\n",
    "겨울이\n",
    "산전수전"
   ]
  },
  {
   "cell_type": "code",
   "execution_count": null,
   "id": "16a8bfa9",
   "metadata": {},
   "outputs": [],
   "source": []
  },
  {
   "cell_type": "markdown",
   "id": "0f1cbde4",
   "metadata": {},
   "source": [
    "## 1. with 구문 \n",
    "- 파이썬에서 파일이나 리소스 관리 등의 작업을 좀 더 안전하고 간편하게 처리하기 위해 사용되는 구문\n",
    "- with 구문은 \"컨텍스트 매니저\"를 사용하여 구현되며, 코드 블록이 실행되기 전에 자원을 할당하고, 코드 블록이 종료될 때 자원을 자동으로 해제하는 역할을 합니다."
   ]
  },
  {
   "cell_type": "markdown",
   "id": "67a7c895",
   "metadata": {},
   "source": [
    "##  1-1  파일 처리 "
   ]
  },
  {
   "cell_type": "code",
   "execution_count": 6,
   "id": "c8f0c4a5",
   "metadata": {},
   "outputs": [
    {
     "name": "stdout",
     "output_type": "stream",
     "text": [
      "가을이\n",
      "겨울이\n",
      "산전수전\n",
      "\n"
     ]
    }
   ],
   "source": [
    "f = open('example.txt', 'r')\n",
    "\n",
    "content = f.read()\n",
    "print(content)\n",
    "\n",
    "f.close()"
   ]
  },
  {
   "cell_type": "markdown",
   "id": "3cd12f7e",
   "metadata": {},
   "source": [
    "## 1-2 with구문 사용 "
   ]
  },
  {
   "cell_type": "code",
   "execution_count": 3,
   "id": "f944ac44",
   "metadata": {},
   "outputs": [
    {
     "name": "stdout",
     "output_type": "stream",
     "text": [
      "가을이\n",
      "겨울이\n",
      "산전수전\n",
      "\n"
     ]
    }
   ],
   "source": [
    "with open('example.txt', 'r') as file:\n",
    "    content = file.read()\n",
    "    print(content)"
   ]
  },
  {
   "cell_type": "code",
   "execution_count": null,
   "id": "bef4298c",
   "metadata": {},
   "outputs": [],
   "source": []
  },
  {
   "cell_type": "code",
   "execution_count": null,
   "id": "c4621894",
   "metadata": {},
   "outputs": [],
   "source": []
  },
  {
   "cell_type": "markdown",
   "id": "1a89ab1d",
   "metadata": {},
   "source": [
    "## 2. 컨텍스트 매니저는 with 구문과 함께 사용\n",
    "\n",
    "-  `__enter__`()와 `__exit__`() 메서드를 구현하여 원하는 동작을 정의"
   ]
  },
  {
   "cell_type": "markdown",
   "id": "894bf03f",
   "metadata": {},
   "source": [
    "###  클래스 정의 "
   ]
  },
  {
   "cell_type": "code",
   "execution_count": 7,
   "id": "f3ed55e4",
   "metadata": {},
   "outputs": [],
   "source": [
    "class FileContext:\n",
    "    def __init__(self, filename, mode):\n",
    "        self.filename = filename\n",
    "        self.mode = mode\n",
    "        self.file = None\n",
    "\n",
    "    def __enter__(self):\n",
    "        self.file = open(self.filename, self.mode)\n",
    "        return self.file\n",
    "\n",
    "    def __exit__(self, exc_type, exc_value, traceback):\n",
    "        self.file.close()\n"
   ]
  },
  {
   "cell_type": "markdown",
   "id": "c1cd1885",
   "metadata": {},
   "source": [
    "### 컨텍스트 처리 "
   ]
  },
  {
   "cell_type": "code",
   "execution_count": 8,
   "id": "dc55ad78",
   "metadata": {},
   "outputs": [
    {
     "name": "stdout",
     "output_type": "stream",
     "text": [
      "가을이\n",
      "겨울이\n",
      "산전수전\n",
      "\n"
     ]
    }
   ],
   "source": [
    "# with 구문을 사용하여 파일 핸들을 열고 닫음\n",
    "with FileContext('example.txt', 'r') as file:\n",
    "    content = file.read()\n",
    "    print(content)\n",
    "\n",
    "# 여기서 파일은 자동으로 닫힘"
   ]
  },
  {
   "cell_type": "code",
   "execution_count": null,
   "id": "2c15ccc7",
   "metadata": {},
   "outputs": [],
   "source": []
  }
 ],
 "metadata": {
  "kernelspec": {
   "display_name": "Python 3 (ipykernel)",
   "language": "python",
   "name": "python3"
  },
  "language_info": {
   "codemirror_mode": {
    "name": "ipython",
    "version": 3
   },
   "file_extension": ".py",
   "mimetype": "text/x-python",
   "name": "python",
   "nbconvert_exporter": "python",
   "pygments_lexer": "ipython3",
   "version": "3.11.3"
  }
 },
 "nbformat": 4,
 "nbformat_minor": 5
}
