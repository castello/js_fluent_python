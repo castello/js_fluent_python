{
 "cells": [
  {
   "cell_type": "code",
   "execution_count": 1,
   "id": "a8110e15",
   "metadata": {},
   "outputs": [
    {
     "data": {
      "text/plain": [
       "'3.11.3'"
      ]
     },
     "execution_count": 1,
     "metadata": {},
     "output_type": "execute_result"
    }
   ],
   "source": [
    "import platform\n",
    "\n",
    "platform.python_version()"
   ]
  },
  {
   "cell_type": "code",
   "execution_count": null,
   "id": "0e851f07",
   "metadata": {},
   "outputs": [],
   "source": []
  },
  {
   "cell_type": "code",
   "execution_count": null,
   "id": "31c40dc5",
   "metadata": {},
   "outputs": [],
   "source": []
  },
  {
   "cell_type": "markdown",
   "id": "724eebe6",
   "metadata": {},
   "source": [
    "## 1. 파이썬 스코프 네임스페이스(namespace)는 \n",
    "\n",
    "- 변수, 함수, 클래스 등 식별자의 이름들이 저장되는 추상적인 공간 \n",
    "- 네임스페이스는 기본적으로 딕셔너리 구조로 관리하기 때문에 동일한 이름이 있을 경우 마지막 값으로 갱신 \n",
    "\n",
    "## 식별자와 이름\n",
    "- 파이썬에서는 변수, 함수, 클래스 등의 식별자의 이름을 해당하는 네임스페이스에 저장\n",
    "- 이 이름을 참조할 때  해당 네임스페이스 내의 객체에 접근함 \n",
    "- 네임스페이스는 프로그램 내에서 이름 충돌을 방지하고, 코드의 구조화와 모듈화를 지원하는 중요한 개념입니다.\n",
    "\n",
    "## 스코프 네임스페이스의 주요 영역들 \n",
    "\n",
    "### 전역 네임스페이스(Global Namespace):\n",
    "- 파이썬 프로그램이 시작될 때 생성되며, 프로그램 전체에서 사용 가능한 이름들을 저장합니다. 모듈 수준에서 정의되는 변수, 함수, 클래스 등이 여기에 속합니다.\n",
    "\n",
    "### 로컬 네임스페이스(Local Namespace):\n",
    "- 함수나 메서드가 호출될 때 생성되며, 함수 내에서 정의되는 변수, 함수, 클래스 등이 여기에 속합니다. 함수가 종료되면 해당 로컬 네임스페이스는 사라집니다.\n",
    "\n",
    "### 빌트인 네임스페이스(Built-in Namespace):\n",
    "- 파이썬이 실행되면 항상 존재하는 네임스페이스로, 내장 함수와 예약어 등이 여기에 속합니다."
   ]
  },
  {
   "cell_type": "code",
   "execution_count": null,
   "id": "dc67c532",
   "metadata": {},
   "outputs": [],
   "source": []
  },
  {
   "cell_type": "markdown",
   "id": "8793df49",
   "metadata": {},
   "source": [
    "## 1-1 빌트인 네임스페이스\n",
    "\n",
    "- 프로그램 언어가 import 없이 사용할 수 있는 영역의 네임스페이스\n",
    "- 내장 함수나 내장 클래스 등이 저장된 영역이다. \n",
    "- 빌트인 모든 네임스페이스는 딕셔너리로 구성한다\n",
    "\n",
    "### dir(): \n",
    "- 객체가 가지고 있는 이름들을 리스트로 반환합니다.\n"
   ]
  },
  {
   "cell_type": "markdown",
   "id": "051ab0fd",
   "metadata": {},
   "source": [
    "### 빌트인 영역 확인 "
   ]
  },
  {
   "cell_type": "code",
   "execution_count": 30,
   "id": "59ea9eeb",
   "metadata": {},
   "outputs": [
    {
     "data": {
      "text/plain": [
       "['ArithmeticError',\n",
       " 'AssertionError',\n",
       " 'AttributeError',\n",
       " 'BaseException',\n",
       " 'BaseExceptionGroup',\n",
       " 'BlockingIOError',\n",
       " 'BrokenPipeError',\n",
       " 'BufferError',\n",
       " 'BytesWarning',\n",
       " 'ChildProcessError',\n",
       " 'ConnectionAbortedError',\n",
       " 'ConnectionError',\n",
       " 'ConnectionRefusedError',\n",
       " 'ConnectionResetError',\n",
       " 'DeprecationWarning',\n",
       " 'EOFError',\n",
       " 'Ellipsis',\n",
       " 'EncodingWarning',\n",
       " 'EnvironmentError',\n",
       " 'Exception',\n",
       " 'ExceptionGroup',\n",
       " 'False',\n",
       " 'FileExistsError',\n",
       " 'FileNotFoundError',\n",
       " 'FloatingPointError',\n",
       " 'FutureWarning',\n",
       " 'GeneratorExit',\n",
       " 'IOError',\n",
       " 'ImportError',\n",
       " 'ImportWarning',\n",
       " 'IndentationError',\n",
       " 'IndexError',\n",
       " 'InterruptedError',\n",
       " 'IsADirectoryError',\n",
       " 'KeyError',\n",
       " 'KeyboardInterrupt',\n",
       " 'LookupError',\n",
       " 'MemoryError',\n",
       " 'ModuleNotFoundError',\n",
       " 'NameError',\n",
       " 'None',\n",
       " 'NotADirectoryError',\n",
       " 'NotImplemented',\n",
       " 'NotImplementedError',\n",
       " 'OSError',\n",
       " 'OverflowError',\n",
       " 'PendingDeprecationWarning',\n",
       " 'PermissionError',\n",
       " 'ProcessLookupError',\n",
       " 'RecursionError',\n",
       " 'ReferenceError',\n",
       " 'ResourceWarning',\n",
       " 'RuntimeError',\n",
       " 'RuntimeWarning',\n",
       " 'StopAsyncIteration',\n",
       " 'StopIteration',\n",
       " 'SyntaxError',\n",
       " 'SyntaxWarning',\n",
       " 'SystemError',\n",
       " 'SystemExit',\n",
       " 'TabError',\n",
       " 'TimeoutError',\n",
       " 'True',\n",
       " 'TypeError',\n",
       " 'UnboundLocalError',\n",
       " 'UnicodeDecodeError',\n",
       " 'UnicodeEncodeError',\n",
       " 'UnicodeError',\n",
       " 'UnicodeTranslateError',\n",
       " 'UnicodeWarning',\n",
       " 'UserWarning',\n",
       " 'ValueError',\n",
       " 'Warning',\n",
       " 'ZeroDivisionError',\n",
       " '__IPYTHON__',\n",
       " '__build_class__',\n",
       " '__debug__',\n",
       " '__doc__',\n",
       " '__import__',\n",
       " '__loader__',\n",
       " '__name__',\n",
       " '__package__',\n",
       " '__spec__',\n",
       " 'abs',\n",
       " 'aiter',\n",
       " 'all',\n",
       " 'anext',\n",
       " 'any',\n",
       " 'ascii',\n",
       " 'bin',\n",
       " 'bool',\n",
       " 'breakpoint',\n",
       " 'bytearray',\n",
       " 'bytes',\n",
       " 'callable',\n",
       " 'chr',\n",
       " 'classmethod',\n",
       " 'compile',\n",
       " 'complex',\n",
       " 'copyright',\n",
       " 'credits',\n",
       " 'delattr',\n",
       " 'dict',\n",
       " 'dir',\n",
       " 'display',\n",
       " 'divmod',\n",
       " 'enumerate',\n",
       " 'eval',\n",
       " 'exec',\n",
       " 'execfile',\n",
       " 'filter',\n",
       " 'float',\n",
       " 'format',\n",
       " 'frozenset',\n",
       " 'get_ipython',\n",
       " 'getattr',\n",
       " 'globals',\n",
       " 'hasattr',\n",
       " 'hash',\n",
       " 'help',\n",
       " 'hex',\n",
       " 'id',\n",
       " 'input',\n",
       " 'int',\n",
       " 'isinstance',\n",
       " 'issubclass',\n",
       " 'iter',\n",
       " 'len',\n",
       " 'license',\n",
       " 'list',\n",
       " 'locals',\n",
       " 'map',\n",
       " 'max',\n",
       " 'memoryview',\n",
       " 'min',\n",
       " 'next',\n",
       " 'object',\n",
       " 'oct',\n",
       " 'open',\n",
       " 'ord',\n",
       " 'pow',\n",
       " 'print',\n",
       " 'property',\n",
       " 'range',\n",
       " 'repr',\n",
       " 'reversed',\n",
       " 'round',\n",
       " 'runfile',\n",
       " 'set',\n",
       " 'setattr',\n",
       " 'slice',\n",
       " 'sorted',\n",
       " 'staticmethod',\n",
       " 'str',\n",
       " 'sum',\n",
       " 'super',\n",
       " 'tuple',\n",
       " 'type',\n",
       " 'vars',\n",
       " 'zip']"
      ]
     },
     "execution_count": 30,
     "metadata": {},
     "output_type": "execute_result"
    }
   ],
   "source": [
    "dir(__builtins__)"
   ]
  },
  {
   "cell_type": "markdown",
   "id": "e5204a1c",
   "metadata": {},
   "source": [
    "## 1-2  전역과 지역 네임스페이스 처리 \n",
    "- 함수 스코프를 확인하는 함수에는 globals, locals가 있다.\n",
    "\n",
    "### globals(): \n",
    "- 현재 전역 네임스페이스를 나타내는 딕셔너리 객체를 반환합니다.\n",
    "\n",
    "### locals(): \n",
    "- 현재 로컬 네임스페이스를 나타내는 딕셔너리 객체를 반환합니다."
   ]
  },
  {
   "cell_type": "markdown",
   "id": "cd02e30b",
   "metadata": {},
   "source": [
    "## 1-2-1 함수와 모듈의 네임스페이스 확인\n",
    "\n",
    "- 주피터노트북 파일을 하나의 모듈로 본다 \n",
    "- 그래서 현재 작성되는 모듈이 실행되므로 항상 메인 모듈이다 "
   ]
  },
  {
   "cell_type": "markdown",
   "id": "508f56f2",
   "metadata": {},
   "source": [
    "## 전역변수와 지역변수 정의 "
   ]
  },
  {
   "cell_type": "code",
   "execution_count": 25,
   "id": "20d82161",
   "metadata": {},
   "outputs": [],
   "source": [
    "global_var = 10  # 전역 네임스페이스에 속하는 변수\n",
    "\n",
    "def my_function():\n",
    "    local_var = 20  # 지역 네임스페이스에 속하는 변수\n",
    "    print(\"지역 변수 local_var:\", local_var)\n",
    "    print(\"전역 변수 global_var (함수 내):\", global_var)\n",
    "    print(locals())\n"
   ]
  },
  {
   "cell_type": "markdown",
   "id": "32ac4291",
   "metadata": {},
   "source": [
    "## 함수 실행에 따른 네임스페이스 확인 "
   ]
  },
  {
   "cell_type": "code",
   "execution_count": 24,
   "id": "b2f0bac0",
   "metadata": {},
   "outputs": [
    {
     "name": "stdout",
     "output_type": "stream",
     "text": [
      "지역 변수 local_var: 20\n",
      "전역 변수 global_var (함수 내): 10\n",
      "{'local_var': 20}\n",
      "전역 변수 global_var (함수 밖): 10\n"
     ]
    }
   ],
   "source": [
    "my_function()\n",
    "print(\"전역 변수 global_var (함수 밖):\", global_var)"
   ]
  },
  {
   "cell_type": "markdown",
   "id": "08257d61",
   "metadata": {},
   "source": [
    "## 전역네임스페이스를 확인 "
   ]
  },
  {
   "cell_type": "code",
   "execution_count": 26,
   "id": "8e550af5",
   "metadata": {},
   "outputs": [
    {
     "data": {
      "text/plain": [
       "10"
      ]
     },
     "execution_count": 26,
     "metadata": {},
     "output_type": "execute_result"
    }
   ],
   "source": [
    "globals()['global_var']"
   ]
  },
  {
   "cell_type": "code",
   "execution_count": null,
   "id": "5311f671",
   "metadata": {},
   "outputs": [],
   "source": []
  },
  {
   "cell_type": "markdown",
   "id": "d45eab26",
   "metadata": {},
   "source": [
    "## 1-2-2 함수가 참조하는 모듈\n",
    "\n",
    "- 스코프 처리에 따라 함수는 항상 정의된 모듈을 전역 네임스페이스\n",
    "- 그래서 함수는 전역 네임스페이스를 항상 참조 "
   ]
  },
  {
   "cell_type": "markdown",
   "id": "a1c7be96",
   "metadata": {},
   "source": [
    "## 함수는 정의된 모듈에 속한다.\n"
   ]
  },
  {
   "cell_type": "code",
   "execution_count": 28,
   "id": "6771050d",
   "metadata": {},
   "outputs": [
    {
     "data": {
      "text/plain": [
       "True"
      ]
     },
     "execution_count": 28,
     "metadata": {},
     "output_type": "execute_result"
    }
   ],
   "source": [
    "my_function.__globals__ == globals()"
   ]
  },
  {
   "cell_type": "code",
   "execution_count": null,
   "id": "d7a83566",
   "metadata": {},
   "outputs": [],
   "source": []
  },
  {
   "cell_type": "markdown",
   "id": "b4222108",
   "metadata": {},
   "source": [
    "## 1-2-3. 컴프리헨션에도 지역네임스페이스\n",
    "\n",
    "- 컴프리헨션도 내부에 지역 네임스페이스를 제공\n",
    "- 그래서 컴프리헨션에서 사용한 변수는 외부에서 접근할 수 없다. "
   ]
  },
  {
   "cell_type": "markdown",
   "id": "0565639f",
   "metadata": {},
   "source": [
    "## 컴프리헨션의 변수도 지역 처리"
   ]
  },
  {
   "cell_type": "code",
   "execution_count": 29,
   "id": "1829a00c",
   "metadata": {},
   "outputs": [
    {
     "name": "stdout",
     "output_type": "stream",
     "text": [
      "{'.0': <range_iterator object at 0x1118ee160>, 'x': 0}\n",
      "{'.0': <range_iterator object at 0x1118ee160>, 'x': 1}\n",
      "{'.0': <range_iterator object at 0x1118ee160>, 'x': 2}\n"
     ]
    },
    {
     "data": {
      "text/plain": [
       "[None, None, None]"
      ]
     },
     "execution_count": 29,
     "metadata": {},
     "output_type": "execute_result"
    }
   ],
   "source": [
    "[print(locals()) for x in range(3)]"
   ]
  },
  {
   "cell_type": "code",
   "execution_count": null,
   "id": "278652ad",
   "metadata": {},
   "outputs": [],
   "source": []
  },
  {
   "cell_type": "markdown",
   "id": "b71e019f",
   "metadata": {},
   "source": [
    "## 1-2-4 모듈의 네임스페이스\n",
    "\n",
    "### import: \n",
    "- 모듈을 가져와서 해당 모듈의 네임스페이스를 사용합니다.\n",
    "### from module import *: \n",
    "- 모듈의 모든 이름을 현재 네임스페이스로 가져옵니다. (주의: 권장되지 않습니다)"
   ]
  },
  {
   "cell_type": "markdown",
   "id": "b96e0f76",
   "metadata": {},
   "source": [
    "## 현재 작성하는 메인 모듈 외에 참고할 모듈은 import 해서 사용 "
   ]
  },
  {
   "cell_type": "code",
   "execution_count": null,
   "id": "a584c484",
   "metadata": {},
   "outputs": [],
   "source": []
  },
  {
   "cell_type": "code",
   "execution_count": 2,
   "id": "8588aa44",
   "metadata": {},
   "outputs": [
    {
     "name": "stdout",
     "output_type": "stream",
     "text": [
      "4.0\n"
     ]
    }
   ],
   "source": [
    "import math  # math 모듈 전체를 가져옴\n",
    "print(math.sqrt(16))  # math 모듈의 sqrt 함수 호출"
   ]
  },
  {
   "cell_type": "code",
   "execution_count": 3,
   "id": "9857dee0",
   "metadata": {},
   "outputs": [
    {
     "name": "stdout",
     "output_type": "stream",
     "text": [
      "5.0\n"
     ]
    }
   ],
   "source": [
    "from math import sqrt  # math 모듈의 sqrt 함수만 가져옴\n",
    "print(sqrt(25))  # sqrt 함수 호출"
   ]
  },
  {
   "cell_type": "code",
   "execution_count": 4,
   "id": "14e8c9be",
   "metadata": {},
   "outputs": [],
   "source": [
    "import numpy as np  # numpy 모듈을 np로 별칭 지정\n",
    "arr = np.array([1, 2, 3])  # np.array 함수 호출"
   ]
  },
  {
   "cell_type": "code",
   "execution_count": 5,
   "id": "067944e3",
   "metadata": {},
   "outputs": [
    {
     "name": "stdout",
     "output_type": "stream",
     "text": [
      "6.0\n",
      "3.141592653589793\n"
     ]
    }
   ],
   "source": [
    "from math import *  # math 모듈의 모든 요소를 가져옴\n",
    "print(sqrt(36))\n",
    "print(pi)"
   ]
  },
  {
   "cell_type": "markdown",
   "id": "a4e8b10a",
   "metadata": {},
   "source": [
    "## 1-2-5  패키지 내의 모듈을 import 처리 "
   ]
  },
  {
   "cell_type": "markdown",
   "id": "93c010f0",
   "metadata": {},
   "source": [
    "## 파이썬 패키지는 `__init__`.py 가 필요 "
   ]
  },
  {
   "cell_type": "code",
   "execution_count": 6,
   "id": "7044032b",
   "metadata": {},
   "outputs": [],
   "source": [
    "%mkdir mypackage"
   ]
  },
  {
   "cell_type": "code",
   "execution_count": 7,
   "id": "a1541d50",
   "metadata": {},
   "outputs": [
    {
     "name": "stdout",
     "output_type": "stream",
     "text": [
      "/Users/a06411/Documents/GitHub/js_fluent_python/파이썬_심화과정 /mypackage\n"
     ]
    }
   ],
   "source": [
    "%cd mypackage"
   ]
  },
  {
   "cell_type": "code",
   "execution_count": 8,
   "id": "4ac51704",
   "metadata": {},
   "outputs": [
    {
     "name": "stdout",
     "output_type": "stream",
     "text": [
      "Writing __init__.py\n"
     ]
    }
   ],
   "source": [
    "%%writefile __init__.py\n",
    "\n",
    "## 아무것도 필요없음 "
   ]
  },
  {
   "cell_type": "markdown",
   "id": "42dd278b",
   "metadata": {},
   "source": [
    "### 패키지 내에 모듈 지정 "
   ]
  },
  {
   "cell_type": "code",
   "execution_count": 9,
   "id": "8326992d",
   "metadata": {},
   "outputs": [
    {
     "name": "stdout",
     "output_type": "stream",
     "text": [
      "Writing mymodule.py\n"
     ]
    }
   ],
   "source": [
    "%%writefile mymodule.py\n",
    "\n",
    "def my_function() :\n",
    "    print(\" call \")"
   ]
  },
  {
   "cell_type": "markdown",
   "id": "406ec06d",
   "metadata": {},
   "source": [
    "## 패키지 내의 모듈 사용 "
   ]
  },
  {
   "cell_type": "code",
   "execution_count": 10,
   "id": "58743f19",
   "metadata": {},
   "outputs": [
    {
     "name": "stdout",
     "output_type": "stream",
     "text": [
      " call \n"
     ]
    }
   ],
   "source": [
    "from mypackage import mymodule  # mypackage 패키지 내의 mymodule 모듈을 가져옴\n",
    "mymodule.my_function()  # mymodule 모듈의 함수 호출"
   ]
  },
  {
   "cell_type": "code",
   "execution_count": null,
   "id": "620be35d",
   "metadata": {},
   "outputs": [],
   "source": []
  },
  {
   "cell_type": "markdown",
   "id": "b97e332b",
   "metadata": {},
   "source": [
    "# 2. 클래스/인스턴스 네임스페이스 "
   ]
  },
  {
   "cell_type": "markdown",
   "id": "ac17a382",
   "metadata": {},
   "source": [
    "\n",
    "### 파이썬 클래스와 인스턴스 각각은 독립적인 네임스페이스(namespace)를 가지고 있습니다. \n",
    "\n",
    "- 클래스 네임스페이스는 클래스 자체와 관련된 변수, 메서드, 속성 등을 저장하며, 인스턴스 네임스페이스는 특정 객체의 속성들을 저장합니다.\n",
    "\n",
    "### 클래스와 인스턴스 네임스페이스도 딕셔너리로 구성한다 \n",
    "\n",
    "\n",
    "### 클래스와 인스턴스 네임스페이스의 차이점은 다음과 같습니다:\n",
    "\n",
    "- 클래스 네임스페이스는 클래스 자체와 관련된 멤버를 저장합니다.\n",
    "- 인스턴스 네임스페이스는 특정 객체(인스턴스)의 멤버를 저장합니다."
   ]
  },
  {
   "cell_type": "markdown",
   "id": "6d8fac49",
   "metadata": {},
   "source": [
    "## 2-1. 클래스 네임스페이스(Class Namespace):\n",
    "- 클래스 네임스페이스는 클래스 정의 시에 생성되며, 클래스 내부의 변수, 메서드, 내부 클래스 등을 저장합니다.\n",
    "- 이들은 클래스 수준에서 접근 가능한 멤버들입니다.\n",
    "- 클래스 네임스페이스는 클래스가 메모리에 로드되면 생성되며, 클래스 자체와 관련된 정보를 저장합니다.\n"
   ]
  },
  {
   "cell_type": "code",
   "execution_count": 1,
   "id": "223edb32",
   "metadata": {},
   "outputs": [],
   "source": [
    "class MyClass:\n",
    "    class_var = \"클래스 변수\"  # 클래스 네임스페이스에 속하는 변수\n",
    "\n",
    "    def __init__(self, value):\n",
    "        self.instance_var = value  # 인스턴스 네임스페이스에 속하는 변수\n",
    "\n",
    "    def instance_method(self):\n",
    "        print(\"인스턴스 메서드 호출\")\n"
   ]
  },
  {
   "cell_type": "code",
   "execution_count": 2,
   "id": "cebf9c43",
   "metadata": {},
   "outputs": [
    {
     "data": {
      "text/plain": [
       "mappingproxy({'__module__': '__main__',\n",
       "              'class_var': '클래스 변수',\n",
       "              '__init__': <function __main__.MyClass.__init__(self, value)>,\n",
       "              'instance_method': <function __main__.MyClass.instance_method(self)>,\n",
       "              '__dict__': <attribute '__dict__' of 'MyClass' objects>,\n",
       "              '__weakref__': <attribute '__weakref__' of 'MyClass' objects>,\n",
       "              '__doc__': None})"
      ]
     },
     "execution_count": 2,
     "metadata": {},
     "output_type": "execute_result"
    }
   ],
   "source": [
    "MyClass.__dict__"
   ]
  },
  {
   "cell_type": "code",
   "execution_count": 3,
   "id": "288557a0",
   "metadata": {},
   "outputs": [
    {
     "name": "stdout",
     "output_type": "stream",
     "text": [
      "클래스 변수\n"
     ]
    }
   ],
   "source": [
    "# 클래스 네임스페이스의 멤버 접근\n",
    "print(MyClass.class_var)"
   ]
  },
  {
   "cell_type": "code",
   "execution_count": 4,
   "id": "7a2792cd",
   "metadata": {},
   "outputs": [],
   "source": [
    "# 인스턴스 생성 및 인스턴스 네임스페이스의 멤버 접근\n",
    "obj = MyClass(\"인스턴스\")\n"
   ]
  },
  {
   "cell_type": "markdown",
   "id": "35a27819",
   "metadata": {},
   "source": [
    "## 2-2 인스턴스 네임스페이스(Instance Namespace):\n",
    "- 인스턴스 네임스페이스는 클래스의 인스턴스를 생성할 때마다 독립적으로 생성됩니다. \n",
    "- 인스턴스가 가지는 변수, 메서드, 속성 등을 저장하며, 각 인스턴스마다 고유한 네임스페이스를 가집니다."
   ]
  },
  {
   "cell_type": "code",
   "execution_count": 5,
   "id": "726872eb",
   "metadata": {},
   "outputs": [
    {
     "data": {
      "text/plain": [
       "{'instance_var': '인스턴스'}"
      ]
     },
     "execution_count": 5,
     "metadata": {},
     "output_type": "execute_result"
    }
   ],
   "source": [
    "obj.__dict__"
   ]
  },
  {
   "cell_type": "code",
   "execution_count": 6,
   "id": "b53c7c4b",
   "metadata": {},
   "outputs": [
    {
     "name": "stdout",
     "output_type": "stream",
     "text": [
      "인스턴스\n",
      "인스턴스 메서드 호출\n"
     ]
    }
   ],
   "source": [
    "print(obj.instance_var)\n",
    "obj.instance_method()"
   ]
  },
  {
   "cell_type": "code",
   "execution_count": null,
   "id": "b98b6c86",
   "metadata": {},
   "outputs": [],
   "source": []
  },
  {
   "cell_type": "markdown",
   "id": "bb6f4af7",
   "metadata": {},
   "source": [
    "## 2-3 변경 불가능한 클래스 정의하기"
   ]
  },
  {
   "cell_type": "markdown",
   "id": "cf3ae20d",
   "metadata": {},
   "source": [
    "## __slots__ \n",
    "\n",
    "- 파이썬 클래스에서 인스턴스의 속성을 제한하는 방법을 제공하는 특수한 속성입니다. \n",
    "- 일반적으로 파이썬 클래스는 동적으로 속성을 추가할 수 있지만, __slots__를 사용하면 클래스의 인스턴스가 가질 수 있는 속성을 미리 정의\n",
    "- 메모리 사용량을 줄이고 속성 이름 오타 등의 문제를 방지할 수 있습니다"
   ]
  },
  {
   "cell_type": "markdown",
   "id": "91df18ee",
   "metadata": {},
   "source": [
    "### 일반적인 클래스 정의하기 "
   ]
  },
  {
   "cell_type": "code",
   "execution_count": 16,
   "id": "53d00fe5",
   "metadata": {},
   "outputs": [],
   "source": [
    "class User:\n",
    "\n",
    "    def __init__(self, name, age):\n",
    "        self.name = name\n",
    "        self.age = age\n",
    "\n",
    "# 정의된 속성만 사용 가능한 Person 클래스의 인스턴스 생성\n",
    "user = User('Alice', 30)"
   ]
  },
  {
   "cell_type": "code",
   "execution_count": 18,
   "id": "0ae0a245",
   "metadata": {},
   "outputs": [
    {
     "data": {
      "text/plain": [
       "mappingproxy({'__module__': '__main__',\n",
       "              '__init__': <function __main__.User.__init__(self, name, age)>,\n",
       "              '__dict__': <attribute '__dict__' of 'User' objects>,\n",
       "              '__weakref__': <attribute '__weakref__' of 'User' objects>,\n",
       "              '__doc__': None})"
      ]
     },
     "execution_count": 18,
     "metadata": {},
     "output_type": "execute_result"
    }
   ],
   "source": [
    "User.__dict__"
   ]
  },
  {
   "cell_type": "markdown",
   "id": "e6d2460c",
   "metadata": {},
   "source": [
    "### 변경불가능한 클래스 정의하가 "
   ]
  },
  {
   "cell_type": "code",
   "execution_count": 11,
   "id": "de918774",
   "metadata": {},
   "outputs": [
    {
     "name": "stdout",
     "output_type": "stream",
     "text": [
      "Alice\n",
      "30\n"
     ]
    }
   ],
   "source": [
    "class Person:\n",
    "    # __slots__를 사용하여 인스턴스에 허용되는 속성 목록을 정의\n",
    "    __slots__ = ('name', 'age')\n",
    "\n",
    "    def __init__(self, name, age):\n",
    "        self.name = name\n",
    "        self.age = age\n",
    "\n",
    "# 정의된 속성만 사용 가능한 Person 클래스의 인스턴스 생성\n",
    "person = Person('Alice', 30)"
   ]
  },
  {
   "cell_type": "code",
   "execution_count": 19,
   "id": "1109699d",
   "metadata": {},
   "outputs": [
    {
     "name": "stdout",
     "output_type": "stream",
     "text": [
      "{'__module__': '__main__', '__slots__': ('name', 'age'), '__init__': <function Person.__init__ at 0x106ea9760>, 'age': <member 'age' of 'Person' objects>, 'name': <member 'name' of 'Person' objects>, '__doc__': None}\n"
     ]
    }
   ],
   "source": [
    "print(Person.__dict__)\n"
   ]
  },
  {
   "cell_type": "markdown",
   "id": "7c7dc4f0",
   "metadata": {},
   "source": [
    "###  인스턴스 네임스페이스가 없음 "
   ]
  },
  {
   "cell_type": "code",
   "execution_count": 21,
   "id": "6730aea8",
   "metadata": {},
   "outputs": [
    {
     "name": "stdout",
     "output_type": "stream",
     "text": [
      "'Person' object has no attribute '__dict__'\n"
     ]
    }
   ],
   "source": [
    "try : \n",
    "    person.__dict__\n",
    "except Exception as e :\n",
    "    print(e)"
   ]
  },
  {
   "cell_type": "code",
   "execution_count": 12,
   "id": "9fa8e9f7",
   "metadata": {},
   "outputs": [
    {
     "name": "stdout",
     "output_type": "stream",
     "text": [
      "Alice\n",
      "30\n"
     ]
    }
   ],
   "source": [
    "# 정의된 속성에 접근\n",
    "print(person.name)\n",
    "print(person.age)"
   ]
  },
  {
   "cell_type": "markdown",
   "id": "57dcbd94",
   "metadata": {},
   "source": [
    "### 변경 불가능해서 속성을 추가할 수 없음  "
   ]
  },
  {
   "cell_type": "code",
   "execution_count": 10,
   "id": "f7042806",
   "metadata": {},
   "outputs": [
    {
     "name": "stdout",
     "output_type": "stream",
     "text": [
      "'Person' object has no attribute 'email'\n"
     ]
    }
   ],
   "source": [
    "\n",
    "# 새 속성을 추가하려고 하면 AttributeError가 발생\n",
    "try : \n",
    "    person.email = 'alice@example.com'\n",
    "except Exception as e :\n",
    "    print(e)\n",
    "\n",
    "# __slots__를 사용하여 정의된 속성 외에는 새로운 속성을 추가할 수 없음\n",
    "# AttributeError: 'Person' object has no attribute 'email'"
   ]
  },
  {
   "cell_type": "code",
   "execution_count": null,
   "id": "cc5f4128",
   "metadata": {},
   "outputs": [],
   "source": []
  }
 ],
 "metadata": {
  "kernelspec": {
   "display_name": "Python 3 (ipykernel)",
   "language": "python",
   "name": "python3"
  },
  "language_info": {
   "codemirror_mode": {
    "name": "ipython",
    "version": 3
   },
   "file_extension": ".py",
   "mimetype": "text/x-python",
   "name": "python",
   "nbconvert_exporter": "python",
   "pygments_lexer": "ipython3",
   "version": "3.9.16"
  }
 },
 "nbformat": 4,
 "nbformat_minor": 5
}
