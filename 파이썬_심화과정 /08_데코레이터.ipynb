{
 "cells": [
  {
   "cell_type": "code",
   "execution_count": null,
   "id": "7ee256df",
   "metadata": {},
   "outputs": [],
   "source": []
  },
  {
   "cell_type": "markdown",
   "id": "320caffa",
   "metadata": {},
   "source": [
    "# 1. 데코레이터 이해하기\n",
    "\n",
    "-  함수나 메서드의 동작을 수정하거나 기능을 추가하는 강력한 기능입니다. \n",
    "-  함수를 인자로 받아서 다른 함수를 반환하는 고위 함수(Higher-Order Function)로서 동작합니다. \n",
    "-  데코레이터는 @ 기호를 사용하여 함수 위에 특별한 형태로 적용됩니다."
   ]
  },
  {
   "cell_type": "markdown",
   "id": "ecaf9b72",
   "metadata": {},
   "source": [
    "## 1-1. 함수는 1급 객체 \n",
    "\n",
    "- 함수 안에 함수를 정의해서 사용할 수 있다. \n",
    "- 함수는 매개변수에 할당할 수 있다.\n",
    "- 함수는 반환값으로 사용할 수 있다."
   ]
  },
  {
   "cell_type": "markdown",
   "id": "fc16c515",
   "metadata": {},
   "source": [
    "###  함수를 다른 함수의 매개변수로 전달"
   ]
  },
  {
   "cell_type": "code",
   "execution_count": 1,
   "id": "87268fe1",
   "metadata": {},
   "outputs": [
    {
     "name": "stdout",
     "output_type": "stream",
     "text": [
      "10\n"
     ]
    }
   ],
   "source": [
    "def add(x, y):\n",
    "    return x + y\n",
    "\n",
    "def calculate(func, x, y):\n",
    "    return func(x, y)\n",
    "\n",
    "result = calculate(add, 4, 6)    # 인자로 전달하기 \n",
    "print(result)                    # prints 10"
   ]
  },
  {
   "cell_type": "code",
   "execution_count": null,
   "id": "932f3ac0",
   "metadata": {},
   "outputs": [],
   "source": []
  },
  {
   "cell_type": "code",
   "execution_count": null,
   "id": "170af359",
   "metadata": {},
   "outputs": [],
   "source": []
  },
  {
   "cell_type": "markdown",
   "id": "fb177169",
   "metadata": {},
   "source": [
    "### 함수 내에 내부함수 정의하고 반환값으로 처리 하기"
   ]
  },
  {
   "cell_type": "code",
   "execution_count": 2,
   "id": "13873231",
   "metadata": {},
   "outputs": [
    {
     "name": "stdout",
     "output_type": "stream",
     "text": [
      "11\n"
     ]
    }
   ],
   "source": [
    "def outer(x):\n",
    "    def inner(y):\n",
    "        return x + y\n",
    "    return inner\n",
    "\n",
    "add_five = outer(5)          # 함수를 실행하고 내부 함수를 반환\n",
    "result = add_five(6)         # 내부 함수를 다시 실행하기 \n",
    "print(result)                # prints 11"
   ]
  },
  {
   "cell_type": "markdown",
   "id": "04152d92",
   "metadata": {},
   "source": [
    "#### 내부 함수가 반환된 것을 확인할 수 있다. "
   ]
  },
  {
   "cell_type": "code",
   "execution_count": 3,
   "id": "a4d647d0",
   "metadata": {},
   "outputs": [
    {
     "data": {
      "text/plain": [
       "<function __main__.outer.<locals>.inner(y)>"
      ]
     },
     "execution_count": 3,
     "metadata": {},
     "output_type": "execute_result"
    }
   ],
   "source": [
    "add_five"
   ]
  },
  {
   "cell_type": "code",
   "execution_count": null,
   "id": "21424e34",
   "metadata": {},
   "outputs": [],
   "source": []
  },
  {
   "cell_type": "markdown",
   "id": "d50eec02",
   "metadata": {},
   "source": [
    "## 1-2. 데코레이터 구성하기 \n",
    "\n",
    "- 함수를 정의하고 함수를 인자로 전달을 받고 내부 함수를 반환\n",
    "- 내부함수에서 저장된 함수의 인자를 받아서 내부 함수 실행될 때 저장된 함수 실행"
   ]
  },
  {
   "cell_type": "markdown",
   "id": "cf87e8d2",
   "metadata": {},
   "source": [
    "### 데코레이터 함수 구성하기 "
   ]
  },
  {
   "cell_type": "code",
   "execution_count": 4,
   "id": "b2d0ad46",
   "metadata": {},
   "outputs": [],
   "source": [
    "def my_first_decorator(func):\n",
    "    def wrapper():\n",
    "        print(\"Before the function call\")\n",
    "        func()\n",
    "        print(\"After the function call\")\n",
    "    return wrapper\n",
    "\n",
    "def hello_world():\n",
    "    print(\"Hello, World!\")\n"
   ]
  },
  {
   "cell_type": "markdown",
   "id": "bad365b7",
   "metadata": {},
   "source": [
    "### 데코레이터 함수에 실행함수를 전달하고 실행하기 "
   ]
  },
  {
   "cell_type": "code",
   "execution_count": 5,
   "id": "99341609",
   "metadata": {},
   "outputs": [
    {
     "name": "stdout",
     "output_type": "stream",
     "text": [
      "Before the function call\n",
      "Hello, World!\n",
      "After the function call\n"
     ]
    }
   ],
   "source": [
    "hello_world = my_first_decorator(hello_world)\n",
    "hello_world()"
   ]
  },
  {
   "cell_type": "markdown",
   "id": "5e0f13ed",
   "metadata": {},
   "source": [
    "### @ 표기법을 사용해서 데코레이터 처리하기"
   ]
  },
  {
   "cell_type": "code",
   "execution_count": null,
   "id": "8bb32a61",
   "metadata": {},
   "outputs": [],
   "source": [
    "def my_first_decorator(func):\n",
    "    def wrapper():\n",
    "        print(\"Before the function call\")\n",
    "        func()\n",
    "        print(\"After the function call\")\n",
    "    return wrapper\n"
   ]
  },
  {
   "cell_type": "code",
   "execution_count": 7,
   "id": "40616458",
   "metadata": {},
   "outputs": [
    {
     "name": "stdout",
     "output_type": "stream",
     "text": [
      "Before the function call\n",
      "Hello, World!\n",
      "After the function call\n"
     ]
    }
   ],
   "source": [
    "@my_first_decorator\n",
    "def hello_world():\n",
    "    print(\"Hello, World!\")\n",
    "\n",
    "hello_world()"
   ]
  },
  {
   "cell_type": "code",
   "execution_count": null,
   "id": "2b6dd0fe",
   "metadata": {},
   "outputs": [],
   "source": []
  },
  {
   "cell_type": "markdown",
   "id": "e29acaf8",
   "metadata": {},
   "source": [
    "## 1-3.  파라미터 데코레이터 \n",
    "\n",
    "- 데코레이터를 구성하기 전에 데코레이터에 대한 추가 처리를 위한 매개변수를 전달을 받는다. "
   ]
  },
  {
   "cell_type": "code",
   "execution_count": 8,
   "id": "54d3cfda",
   "metadata": {},
   "outputs": [],
   "source": [
    "def my_parameterized_decorator(arg1, arg2):\n",
    "    def decorator_function(func):\n",
    "        def wrapper(*args, **kwargs):\n",
    "            print(f\"Decorator arguments: {arg1}, {arg2}\")\n",
    "            return func(*args, **kwargs)\n",
    "        return wrapper\n",
    "    return decorator_function\n"
   ]
  },
  {
   "cell_type": "code",
   "execution_count": 9,
   "id": "7a159dd9",
   "metadata": {},
   "outputs": [
    {
     "name": "stdout",
     "output_type": "stream",
     "text": [
      "Decorator arguments: Hello, World\n",
      "Inside the function\n"
     ]
    }
   ],
   "source": [
    "@my_parameterized_decorator(\"Hello\", \"World\")\n",
    "def my_function():\n",
    "    print(\"Inside the function\")\n",
    "\n",
    "my_function()"
   ]
  },
  {
   "cell_type": "code",
   "execution_count": null,
   "id": "171d3d9b",
   "metadata": {},
   "outputs": [],
   "source": []
  },
  {
   "cell_type": "markdown",
   "id": "15d1ea42",
   "metadata": {},
   "source": [
    "## 1-4 실행함수에 대한 정보를 유지"
   ]
  },
  {
   "cell_type": "code",
   "execution_count": 10,
   "id": "d3411072",
   "metadata": {},
   "outputs": [],
   "source": [
    "import functools"
   ]
  },
  {
   "cell_type": "code",
   "execution_count": 11,
   "id": "f77294ad",
   "metadata": {},
   "outputs": [],
   "source": [
    "def memoize(func):\n",
    "    cache = {}\n",
    "    @functools.wraps(func)\n",
    "    def wrapper(*args):\n",
    "        if args in cache:\n",
    "            return cache[args]\n",
    "        result = func(*args)\n",
    "        cache[args] = result\n",
    "        return result\n",
    "    return wrapper"
   ]
  },
  {
   "cell_type": "code",
   "execution_count": 12,
   "id": "ce9ed2fe",
   "metadata": {},
   "outputs": [],
   "source": [
    "@memoize\n",
    "def fibonacci(n):\n",
    "    if n in (0, 1):\n",
    "        return n\n",
    "    return fibonacci(n - 1) + fibonacci(n - 2)"
   ]
  },
  {
   "cell_type": "code",
   "execution_count": 13,
   "id": "51f250f3",
   "metadata": {},
   "outputs": [
    {
     "data": {
      "text/plain": [
       "55"
      ]
     },
     "execution_count": 13,
     "metadata": {},
     "output_type": "execute_result"
    }
   ],
   "source": [
    "fibonacci(10)"
   ]
  },
  {
   "cell_type": "code",
   "execution_count": null,
   "id": "500496cc",
   "metadata": {},
   "outputs": [],
   "source": []
  },
  {
   "cell_type": "markdown",
   "id": "a7236487",
   "metadata": {},
   "source": [
    "## 1-5. 특정 공간에 함수 등록 "
   ]
  },
  {
   "cell_type": "code",
   "execution_count": 14,
   "id": "4efb7007",
   "metadata": {},
   "outputs": [],
   "source": [
    "imgproc_registry = {}\n",
    "\n",
    "def imgproc(format):\n",
    "    def decorator_function(func):\n",
    "        imgproc_registry[format] = func\n",
    "        return func\n",
    "    return decorator_function\n",
    "\n"
   ]
  },
  {
   "cell_type": "code",
   "execution_count": 15,
   "id": "dcf30112",
   "metadata": {},
   "outputs": [],
   "source": [
    "@imgproc(format=\"PNG\")\n",
    "def process_png(file):\n",
    "    print(f\"Processing code for {file} PNG files\")\n",
    "\n",
    "@imgproc(format=\"JPEG\")\n",
    "def process_jpeg(file):\n",
    "    print(f\"Processing code for {file} JPEG files\")"
   ]
  },
  {
   "cell_type": "code",
   "execution_count": 16,
   "id": "e56e5235",
   "metadata": {},
   "outputs": [
    {
     "name": "stdout",
     "output_type": "stream",
     "text": [
      "Processing code for aaa PNG files\n"
     ]
    }
   ],
   "source": [
    "process_png(\"aaa\")"
   ]
  },
  {
   "cell_type": "code",
   "execution_count": 17,
   "id": "362c63c7",
   "metadata": {},
   "outputs": [
    {
     "name": "stdout",
     "output_type": "stream",
     "text": [
      "Processing code for bbb JPEG files\n"
     ]
    }
   ],
   "source": [
    "process_jpeg(\"bbb\")"
   ]
  },
  {
   "cell_type": "markdown",
   "id": "d8147531",
   "metadata": {},
   "source": [
    "### 함수가 등록된 영역 "
   ]
  },
  {
   "cell_type": "code",
   "execution_count": 18,
   "id": "358e9b5a",
   "metadata": {},
   "outputs": [
    {
     "data": {
      "text/plain": [
       "{'PNG': <function __main__.process_png(file)>,\n",
       " 'JPEG': <function __main__.process_jpeg(file)>}"
      ]
     },
     "execution_count": 18,
     "metadata": {},
     "output_type": "execute_result"
    }
   ],
   "source": [
    "imgproc_registry"
   ]
  },
  {
   "cell_type": "code",
   "execution_count": null,
   "id": "1b9c8cac",
   "metadata": {},
   "outputs": [],
   "source": []
  },
  {
   "cell_type": "markdown",
   "id": "638c21a3",
   "metadata": {},
   "source": [
    "## 1-6. 데코레이터 체이닝"
   ]
  },
  {
   "cell_type": "code",
   "execution_count": null,
   "id": "43d2890e",
   "metadata": {},
   "outputs": [],
   "source": []
  },
  {
   "cell_type": "code",
   "execution_count": 19,
   "id": "86a48ed8",
   "metadata": {},
   "outputs": [],
   "source": [
    "def star(func):\n",
    "    def inner(*args, **kwargs):\n",
    "        print(\"*\" * 15)\n",
    "        func(*args, **kwargs)\n",
    "        print(\"*\" * 15)\n",
    "    return inner"
   ]
  },
  {
   "cell_type": "code",
   "execution_count": 20,
   "id": "1890e0e6",
   "metadata": {},
   "outputs": [],
   "source": [
    "def percent(func):\n",
    "    def inner(*args, **kwargs):\n",
    "        print(\"%\" * 15)\n",
    "        func(*args, **kwargs)\n",
    "        print(\"%\" * 15)\n",
    "    return inner"
   ]
  },
  {
   "cell_type": "code",
   "execution_count": 21,
   "id": "9d4d7d60",
   "metadata": {},
   "outputs": [
    {
     "name": "stdout",
     "output_type": "stream",
     "text": [
      "***************\n",
      "%%%%%%%%%%%%%%%\n",
      "Hello\n",
      "%%%%%%%%%%%%%%%\n",
      "***************\n"
     ]
    }
   ],
   "source": [
    "@star\n",
    "@percent\n",
    "def printer(msg):\n",
    "    print(msg)\n",
    "\n",
    "printer(\"Hello\")"
   ]
  },
  {
   "cell_type": "code",
   "execution_count": null,
   "id": "0dd5316f",
   "metadata": {},
   "outputs": [],
   "source": []
  },
  {
   "cell_type": "markdown",
   "id": "44b3fb08",
   "metadata": {},
   "source": [
    "# 2. 다양한 데코레이터(Decorator)  구성하기 \n",
    "\n"
   ]
  },
  {
   "cell_type": "markdown",
   "id": "c4b69716",
   "metadata": {},
   "source": [
    "## 2-1.  함수 데코레이터"
   ]
  },
  {
   "cell_type": "code",
   "execution_count": 22,
   "id": "27e8bba2",
   "metadata": {},
   "outputs": [],
   "source": [
    "# 함수 데코레이터 정의\n",
    "def add_prefix_decorator(func):\n",
    "    def wrapper(*args, **kwargs):\n",
    "        print(\"Prefix added:\")\n",
    "        return func(*args, **kwargs)\n",
    "    return wrapper\n"
   ]
  },
  {
   "cell_type": "code",
   "execution_count": 23,
   "id": "b9088e9a",
   "metadata": {},
   "outputs": [],
   "source": [
    "# 함수 정의\n",
    "@add_prefix_decorator\n",
    "def print_message(message):\n",
    "    print(message)"
   ]
  },
  {
   "cell_type": "code",
   "execution_count": 24,
   "id": "d9795a9b",
   "metadata": {},
   "outputs": [
    {
     "name": "stdout",
     "output_type": "stream",
     "text": [
      "Prefix added:\n",
      "Hello, world!\n"
     ]
    }
   ],
   "source": [
    "# 함수 호출\n",
    "print_message(\"Hello, world!\")"
   ]
  },
  {
   "cell_type": "code",
   "execution_count": null,
   "id": "503a946e",
   "metadata": {},
   "outputs": [],
   "source": []
  },
  {
   "cell_type": "markdown",
   "id": "3f0e7930",
   "metadata": {},
   "source": [
    "## 2-2. 클래스 데코레이터"
   ]
  },
  {
   "cell_type": "code",
   "execution_count": 25,
   "id": "1d60b0c8",
   "metadata": {},
   "outputs": [],
   "source": [
    "# 클래스 데코레이터 정의\n",
    "def add_custom_method(cls):\n",
    "    class NewClass(cls):\n",
    "        def custom_method(self):\n",
    "            print(\"This is a custom method added by the decorator.\")\n",
    "    return NewClass\n"
   ]
  },
  {
   "cell_type": "code",
   "execution_count": 26,
   "id": "be6efc60",
   "metadata": {},
   "outputs": [],
   "source": [
    "# 클래스 데코레이터를 사용하여 클래스 수정\n",
    "@add_custom_method\n",
    "class OriginalClass:\n",
    "    def original_method(self):\n",
    "        print(\"This is the original method.\")"
   ]
  },
  {
   "cell_type": "code",
   "execution_count": 27,
   "id": "12e9461b",
   "metadata": {},
   "outputs": [
    {
     "name": "stdout",
     "output_type": "stream",
     "text": [
      "This is the original method.\n",
      "This is a custom method added by the decorator.\n"
     ]
    }
   ],
   "source": [
    "# 인스턴스 생성\n",
    "obj = OriginalClass()\n",
    "\n",
    "# 원래 클래스의 메서드 호출\n",
    "obj.original_method()   # 출력: This is the original method.\n",
    "\n",
    "# 클래스 데코레이터로 추가된 메서드 호출\n",
    "obj.custom_method()     # 출력: This is a custom method added by the decorator."
   ]
  },
  {
   "cell_type": "code",
   "execution_count": null,
   "id": "f2847cca",
   "metadata": {},
   "outputs": [],
   "source": []
  },
  {
   "cell_type": "markdown",
   "id": "06fa13ad",
   "metadata": {},
   "source": [
    "## 2-3. 메서드 데코레이터 "
   ]
  },
  {
   "cell_type": "code",
   "execution_count": 28,
   "id": "8c2f374a",
   "metadata": {},
   "outputs": [],
   "source": [
    "# 메서드 데코레이터 정의\n",
    "def add_prefix_decorator(func):\n",
    "    def wrapper(self, *args, **kwargs):\n",
    "        print(\"Prefix added:\")\n",
    "        return func(self, *args, **kwargs)\n",
    "    return wrapper\n"
   ]
  },
  {
   "cell_type": "code",
   "execution_count": 29,
   "id": "5c16191a",
   "metadata": {},
   "outputs": [],
   "source": [
    "# 클래스 정의\n",
    "class MyClass:\n",
    "    def __init__(self, value):\n",
    "        self.value = value\n",
    "\n",
    "    # 메서드 데코레이터를 사용하여 메서드 수정\n",
    "    @add_prefix_decorator\n",
    "    def print_value(self):\n",
    "        print(self.value)"
   ]
  },
  {
   "cell_type": "code",
   "execution_count": 30,
   "id": "080baa1c",
   "metadata": {},
   "outputs": [
    {
     "name": "stdout",
     "output_type": "stream",
     "text": [
      "Prefix added:\n",
      "42\n"
     ]
    }
   ],
   "source": [
    "# 인스턴스 생성\n",
    "obj = MyClass(42)\n",
    "\n",
    "# 메서드 호출\n",
    "obj.print_value()"
   ]
  },
  {
   "cell_type": "code",
   "execution_count": null,
   "id": "3a205389",
   "metadata": {},
   "outputs": [],
   "source": []
  },
  {
   "cell_type": "markdown",
   "id": "6abcc148",
   "metadata": {},
   "source": [
    "## 3. 데코레이터 만드는  아이템을 기준으로 처리하기 \n",
    "\n",
    "- 데코레이터 함수 대신 다양한 것으로 만들 수 잇다. "
   ]
  },
  {
   "cell_type": "code",
   "execution_count": null,
   "id": "aa7e4377",
   "metadata": {},
   "outputs": [],
   "source": []
  },
  {
   "cell_type": "markdown",
   "id": "0396e931",
   "metadata": {},
   "source": [
    "##  3-1. 데코레이터를 클래스로 만들기"
   ]
  },
  {
   "cell_type": "code",
   "execution_count": 31,
   "id": "7f062841",
   "metadata": {},
   "outputs": [],
   "source": [
    "# 인스턴스 데코레이터 클래스 정의\n",
    "class PrefixDecorator:\n",
    "    def __init__(self, method):\n",
    "        self.method = method\n",
    "\n",
    "    def __call__(self, *args, **kwargs):\n",
    "        print(\"Prefix added:\")\n",
    "        return self.method(*args, **kwargs)\n"
   ]
  },
  {
   "cell_type": "code",
   "execution_count": 32,
   "id": "d642a0fa",
   "metadata": {},
   "outputs": [],
   "source": [
    "# 클래스 정의\n",
    "class MyClass:\n",
    "    def __init__(self, value):\n",
    "        self.value = value\n",
    "\n",
    "    # 인스턴스 데코레이터를 사용하여 인스턴스 메서드 수정\n",
    "    @PrefixDecorator\n",
    "    def print_value(self):\n",
    "        print(self.value)"
   ]
  },
  {
   "cell_type": "code",
   "execution_count": 33,
   "id": "1f3dc1b0",
   "metadata": {},
   "outputs": [
    {
     "name": "stdout",
     "output_type": "stream",
     "text": [
      "Prefix added:\n",
      "42\n"
     ]
    }
   ],
   "source": [
    "# 인스턴스 생성\n",
    "obj = MyClass(42)\n",
    "\n",
    "# 인스턴스 메서드 호출\n",
    "obj.print_value(obj)"
   ]
  },
  {
   "cell_type": "code",
   "execution_count": null,
   "id": "36649dba",
   "metadata": {},
   "outputs": [],
   "source": []
  },
  {
   "cell_type": "code",
   "execution_count": null,
   "id": "3d3c3f91",
   "metadata": {},
   "outputs": [],
   "source": []
  },
  {
   "cell_type": "code",
   "execution_count": 34,
   "id": "429f05b8",
   "metadata": {},
   "outputs": [],
   "source": [
    "# 클래스 정의\n",
    "class DecoratorManager:\n",
    "    def __init__(self, method):\n",
    "        self.method = method\n",
    "\n",
    "    # 데코레이터 메서드\n",
    "    def add_prefix_decorator(self, *args, **kwargs):\n",
    "        print(\"Prefix added:\")\n",
    "        return self.method(*args, **kwargs)\n"
   ]
  },
  {
   "cell_type": "code",
   "execution_count": 35,
   "id": "6b03541e",
   "metadata": {},
   "outputs": [],
   "source": [
    "# 클래스 정의\n",
    "class MyClass:\n",
    "    def __init__(self, value):\n",
    "        self.value = value\n",
    "\n",
    "    # 메서드로 데코레이터 적용\n",
    "    def print_value(self):\n",
    "        print(self.value)"
   ]
  },
  {
   "cell_type": "code",
   "execution_count": 36,
   "id": "6b083d18",
   "metadata": {},
   "outputs": [
    {
     "name": "stdout",
     "output_type": "stream",
     "text": [
      "Prefix added:\n",
      "42\n"
     ]
    }
   ],
   "source": [
    "# 인스턴스 생성\n",
    "obj = MyClass(42)\n",
    "\n",
    "# 데코레이터 적용 및 메서드 호출\n",
    "decorator_manager = DecoratorManager(obj.print_value)\n",
    "decorator_manager.add_prefix_decorator()"
   ]
  },
  {
   "cell_type": "code",
   "execution_count": null,
   "id": "698aab14",
   "metadata": {},
   "outputs": [],
   "source": []
  },
  {
   "cell_type": "code",
   "execution_count": 37,
   "id": "7a4c01f5",
   "metadata": {},
   "outputs": [],
   "source": [
    "# 클래스 정의\n",
    "class DecoratorManager:\n",
    "    def __init__(self, method):\n",
    "        self.method = method\n",
    "\n",
    "    # 데코레이터 메서드\n",
    "    def add_prefix_decorator(self, *args, **kwargs):\n",
    "        print(\"Prefix added:\")\n",
    "        return self.method(*args, **kwargs)\n"
   ]
  },
  {
   "cell_type": "code",
   "execution_count": 38,
   "id": "320bf627",
   "metadata": {},
   "outputs": [],
   "source": [
    "# 클래스 정의\n",
    "class MyClass:\n",
    "    def __init__(self, value):\n",
    "        self.value = value\n",
    "\n",
    "    # 메서드로 데코레이터 적용\n",
    "    @DecoratorManager\n",
    "    def print_value(self):\n",
    "        print(self.value)"
   ]
  },
  {
   "cell_type": "code",
   "execution_count": 39,
   "id": "c13917ba",
   "metadata": {},
   "outputs": [
    {
     "name": "stdout",
     "output_type": "stream",
     "text": [
      "Prefix added:\n",
      "42\n"
     ]
    }
   ],
   "source": [
    "# 인스턴스 생성\n",
    "obj = MyClass(42)\n",
    "\n",
    "obj.print_value.add_prefix_decorator(obj)"
   ]
  },
  {
   "cell_type": "code",
   "execution_count": null,
   "id": "569beb56",
   "metadata": {},
   "outputs": [],
   "source": []
  },
  {
   "cell_type": "markdown",
   "id": "a192f8ee",
   "metadata": {},
   "source": [
    "## 3-2 데코레이터를  인스턴스로 하기 "
   ]
  },
  {
   "cell_type": "code",
   "execution_count": null,
   "id": "a225cdfc",
   "metadata": {},
   "outputs": [],
   "source": []
  },
  {
   "cell_type": "code",
   "execution_count": 40,
   "id": "1a84b9bd",
   "metadata": {},
   "outputs": [],
   "source": [
    "class InsDecorator :\n",
    "    \n",
    "    def __call__(self, func) :\n",
    "        self._func = func\n",
    "        def inner(*args, **kwargs) :\n",
    "            return self._func(*args, **kwargs)\n",
    "        return inner"
   ]
  },
  {
   "cell_type": "code",
   "execution_count": 41,
   "id": "75d89e00",
   "metadata": {},
   "outputs": [],
   "source": [
    "ins = InsDecorator()"
   ]
  },
  {
   "cell_type": "code",
   "execution_count": 42,
   "id": "c898cf45",
   "metadata": {},
   "outputs": [],
   "source": [
    "@ins\n",
    "def mul(x,y) :\n",
    "    return x*y"
   ]
  },
  {
   "cell_type": "code",
   "execution_count": 43,
   "id": "f5b578d4",
   "metadata": {},
   "outputs": [
    {
     "data": {
      "text/plain": [
       "200"
      ]
     },
     "execution_count": 43,
     "metadata": {},
     "output_type": "execute_result"
    }
   ],
   "source": [
    "mul(10,20)"
   ]
  },
  {
   "cell_type": "code",
   "execution_count": null,
   "id": "5f76c462",
   "metadata": {},
   "outputs": [],
   "source": []
  },
  {
   "cell_type": "code",
   "execution_count": 44,
   "id": "14554fd9",
   "metadata": {},
   "outputs": [],
   "source": [
    "import functools as ft"
   ]
  },
  {
   "cell_type": "code",
   "execution_count": 45,
   "id": "492e875a",
   "metadata": {},
   "outputs": [],
   "source": [
    "class InsDecorator1 :\n",
    "    \n",
    "    def __call__(self, func) :\n",
    "        self._func = func\n",
    "        @ft.wraps(self._func)\n",
    "        def inner(*args, **kwargs) :\n",
    "            return self._func(*args, **kwargs)\n",
    "        return inner"
   ]
  },
  {
   "cell_type": "code",
   "execution_count": null,
   "id": "3d0eb407",
   "metadata": {},
   "outputs": [],
   "source": []
  },
  {
   "cell_type": "code",
   "execution_count": 46,
   "id": "0dbc9dda",
   "metadata": {},
   "outputs": [],
   "source": [
    "@InsDecorator1()\n",
    "def mul(x,y) :\n",
    "    return x*y"
   ]
  },
  {
   "cell_type": "code",
   "execution_count": 47,
   "id": "0f4e22d7",
   "metadata": {},
   "outputs": [
    {
     "data": {
      "text/plain": [
       "20000"
      ]
     },
     "execution_count": 47,
     "metadata": {},
     "output_type": "execute_result"
    }
   ],
   "source": [
    "mul(100,200)"
   ]
  },
  {
   "cell_type": "code",
   "execution_count": null,
   "id": "12849aeb",
   "metadata": {},
   "outputs": [],
   "source": []
  },
  {
   "cell_type": "markdown",
   "id": "1b85fbf7",
   "metadata": {},
   "source": [
    "## 3-3 데코레이터를 메서드로 처리하기 "
   ]
  },
  {
   "cell_type": "code",
   "execution_count": null,
   "id": "d54b3ea9",
   "metadata": {},
   "outputs": [],
   "source": []
  },
  {
   "cell_type": "code",
   "execution_count": 48,
   "id": "5b293abb",
   "metadata": {},
   "outputs": [],
   "source": [
    "class MethodDecorator :\n",
    "    \n",
    "        \n",
    "    def method(self, func) :\n",
    "        self._func = func\n",
    "        @ft.wraps(self._func) \n",
    "        def inner(*args, **kwargs) :\n",
    "            return self._func(*args, **kwargs)\n",
    "        return inner"
   ]
  },
  {
   "cell_type": "code",
   "execution_count": null,
   "id": "668db954",
   "metadata": {},
   "outputs": [],
   "source": []
  },
  {
   "cell_type": "code",
   "execution_count": 49,
   "id": "69689aec",
   "metadata": {},
   "outputs": [],
   "source": [
    "metdeco = MethodDecorator()"
   ]
  },
  {
   "cell_type": "code",
   "execution_count": 50,
   "id": "64904f26",
   "metadata": {},
   "outputs": [],
   "source": [
    "@metdeco.method\n",
    "def mul(x,y) :\n",
    "    return x*y"
   ]
  },
  {
   "cell_type": "code",
   "execution_count": 51,
   "id": "1633ede9",
   "metadata": {},
   "outputs": [
    {
     "data": {
      "text/plain": [
       "690000"
      ]
     },
     "execution_count": 51,
     "metadata": {},
     "output_type": "execute_result"
    }
   ],
   "source": [
    "mul(2000,345)"
   ]
  },
  {
   "cell_type": "code",
   "execution_count": null,
   "id": "6459f241",
   "metadata": {},
   "outputs": [],
   "source": []
  },
  {
   "cell_type": "code",
   "execution_count": null,
   "id": "d6f6297b",
   "metadata": {},
   "outputs": [],
   "source": []
  },
  {
   "cell_type": "code",
   "execution_count": null,
   "id": "02984f86",
   "metadata": {},
   "outputs": [],
   "source": []
  },
  {
   "cell_type": "code",
   "execution_count": null,
   "id": "844b74d3",
   "metadata": {},
   "outputs": [],
   "source": []
  },
  {
   "cell_type": "code",
   "execution_count": null,
   "id": "50e79a45",
   "metadata": {},
   "outputs": [],
   "source": []
  }
 ],
 "metadata": {
  "kernelspec": {
   "display_name": "Python 3 (ipykernel)",
   "language": "python",
   "name": "python3"
  },
  "language_info": {
   "codemirror_mode": {
    "name": "ipython",
    "version": 3
   },
   "file_extension": ".py",
   "mimetype": "text/x-python",
   "name": "python",
   "nbconvert_exporter": "python",
   "pygments_lexer": "ipython3",
   "version": "3.11.3"
  }
 },
 "nbformat": 4,
 "nbformat_minor": 5
}
