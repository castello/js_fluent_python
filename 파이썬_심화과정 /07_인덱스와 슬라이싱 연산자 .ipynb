{
 "cells": [
  {
   "cell_type": "code",
   "execution_count": null,
   "id": "1f02581a",
   "metadata": {},
   "outputs": [],
   "source": []
  },
  {
   "cell_type": "code",
   "execution_count": null,
   "id": "1b380e1f",
   "metadata": {},
   "outputs": [],
   "source": []
  },
  {
   "cell_type": "markdown",
   "id": "c9bb9199",
   "metadata": {},
   "source": [
    "## ` __getitem__ `\n",
    "-  매직 메서드 중 하나로, 인스턴스에 대해 인덱싱 연산을 가능하게 해주는 메서드입니다. \n",
    "- 이 매직 메서드를 정의하면 해당 클래스의 인스턴스를 인덱스로 접근할 때, obj[index]와 같은 문법으로 접근할 수 있습니다."
   ]
  },
  {
   "cell_type": "markdown",
   "id": "35aa3a1e",
   "metadata": {},
   "source": [
    "## 인덱스 검색 "
   ]
  },
  {
   "cell_type": "code",
   "execution_count": 1,
   "id": "7773e746",
   "metadata": {},
   "outputs": [
    {
     "name": "stdout",
     "output_type": "stream",
     "text": [
      "3\n",
      "5\n"
     ]
    }
   ],
   "source": [
    "class MyList:\n",
    "    def __init__(self, data):\n",
    "        self.data = data\n",
    "\n",
    "    def __getitem__(self, index):\n",
    "        return self.data[index]\n",
    "\n",
    "# 사용자 정의 리스트 클래스를 생성\n",
    "my_list = MyList([1, 2, 3, 4, 5])\n",
    "\n",
    "# 인덱싱 연산으로 요소에 접근\n",
    "print(my_list[2])  # 출력: 3\n",
    "print(my_list[4])  # 출력: 5\n"
   ]
  },
  {
   "cell_type": "markdown",
   "id": "f90db698",
   "metadata": {},
   "source": [
    "## 슬라이스 처리\n",
    "\n",
    "- `__getitem__` 메서드와 슬라이스(slice)를 함께 사용하여 클래스에서 인덱싱 및 슬라이싱 연산을 처리할 수 있습니다. \n",
    "- 슬라이스는 인덱스 범위를 지정하여 원하는 부분을 추출하는 기능을 제공합니다. "
   ]
  },
  {
   "cell_type": "code",
   "execution_count": null,
   "id": "4839210c",
   "metadata": {},
   "outputs": [],
   "source": []
  },
  {
   "cell_type": "code",
   "execution_count": 11,
   "id": "14ac61f5",
   "metadata": {},
   "outputs": [
    {
     "name": "stdout",
     "output_type": "stream",
     "text": [
      "3\n",
      "[2, 3, 4, 5]\n",
      "[1, 3, 5, 7, 9]\n"
     ]
    }
   ],
   "source": [
    "class MyList:\n",
    "    def __init__(self, data):\n",
    "        self.data = data\n",
    "\n",
    "    def __getitem__(self, index):\n",
    "        if isinstance(index, slice):\n",
    "            return self.data[index.start : index.stop : index.step]\n",
    "        else:\n",
    "            return self.data[index]\n",
    "\n",
    "# 사용자 정의 리스트 클래스를 생성\n",
    "my_list = MyList([1, 2, 3, 4, 5, 6, 7, 8, 9, 10])\n",
    "\n",
    "# 인덱싱 연산으로 요소에 접근\n",
    "print(my_list[2])  # 출력: 3\n",
    "\n",
    "# 슬라이스 연산으로 부분 리스트 추출\n",
    "print(my_list[1:5])    # 출력: [2, 3, 4, 5]\n",
    "print(my_list[::2])    # 출력: [1, 3, 5, 7, 9]\n"
   ]
  },
  {
   "cell_type": "code",
   "execution_count": null,
   "id": "46affbf5",
   "metadata": {},
   "outputs": [],
   "source": []
  },
  {
   "cell_type": "markdown",
   "id": "846df250",
   "metadata": {},
   "source": [
    "## `__setitem__`은 \n",
    "- 파이썬 클래스에서 사용하는 매직 메서드 중 하나로, 인스턴스에 대해 인덱스 연산을 통해 값을 할당하는 기능을 제공하는 메서드입니다.\n",
    "- 이 매직 메서드를 정의하면 해당 클래스의 인스턴스에 대해 obj[index] = value와 같은 문법으로 값을 할당할 수 있습니다."
   ]
  },
  {
   "cell_type": "markdown",
   "id": "6ca35ad3",
   "metadata": {},
   "source": [
    "## 인덱스 검색 "
   ]
  },
  {
   "cell_type": "code",
   "execution_count": 8,
   "id": "2052de7a",
   "metadata": {},
   "outputs": [
    {
     "name": "stdout",
     "output_type": "stream",
     "text": [
      "10\n",
      "30\n",
      "30\n"
     ]
    }
   ],
   "source": [
    "class MyList1:\n",
    "    def __init__(self):\n",
    "        self.data = [0,0,0]\n",
    "\n",
    "    def __getitem__(self, index):\n",
    "        return self.data[index]\n",
    "\n",
    "    def __setitem__(self, index, value):\n",
    "        self.data[index] = value\n",
    "\n",
    "# 사용자 정의 리스트 클래스를 생성\n",
    "my_list = MyList1()\n",
    "\n",
    "# 값 할당을 통한 인덱스 요소 변경\n",
    "my_list[0] = 10\n",
    "my_list[1] = 30\n",
    "my_list[2] = 30\n",
    "\n",
    "# 인덱싱 연산으로 요소에 접근\n",
    "print(my_list[0])  \n",
    "print(my_list[1]) \n",
    "print(my_list[2]) "
   ]
  },
  {
   "cell_type": "markdown",
   "id": "28546984",
   "metadata": {},
   "source": [
    "## 슬라이스 처리 \n",
    "\n",
    "_ `__setitem__` 메서드와 슬라이스(slice)를 함께 사용하여 클래스에서 슬라이스에 값을 할당하는 기능을 구현할 수 있습니다. \n",
    "- 슬라이스를 이용하여 원하는 범위에 여러 값을 할당하거나 수정할 수 있습니다."
   ]
  },
  {
   "cell_type": "code",
   "execution_count": 12,
   "id": "ed39265e",
   "metadata": {},
   "outputs": [
    {
     "name": "stdout",
     "output_type": "stream",
     "text": [
      "[0, 20, 0, 40, 0, 6, 0, 8, 0, 10]\n"
     ]
    }
   ],
   "source": [
    "class MyList:\n",
    "    def __init__(self, data):\n",
    "        self.data = data\n",
    "\n",
    "    def __getitem__(self, index):\n",
    "        if isinstance(index, slice):\n",
    "            return self.data[index]\n",
    "        else:\n",
    "            return self.data[index]\n",
    "\n",
    "    def __setitem__(self, index, value):\n",
    "        if isinstance(index, slice):\n",
    "            self.data[index] = value\n",
    "        else:\n",
    "            self.data[index] = value\n",
    "\n",
    "# 사용자 정의 리스트 클래스를 생성\n",
    "my_list = MyList([1, 2, 3, 4, 5, 6, 7, 8, 9, 10])\n",
    "\n",
    "# 슬라이스 연산을 통한 여러 값 할당\n",
    "my_list[1:5] = [20, 30, 40, 50]\n",
    "\n",
    "# 슬라이스 연산을 통한 여러 값 수정\n",
    "my_list[::2] = [0, 0, 0, 0, 0]\n",
    "\n",
    "# 변경된 리스트 출력\n",
    "print(my_list.data)  # 출력: [0, 2, 0, 4, 0, 6, 0, 8, 0, 10]\n"
   ]
  },
  {
   "cell_type": "code",
   "execution_count": null,
   "id": "a6ea6ec8",
   "metadata": {},
   "outputs": [],
   "source": []
  },
  {
   "cell_type": "markdown",
   "id": "21905b7e",
   "metadata": {},
   "source": [
    "## `__delitem__` \n",
    "- 파이썬 클래스에서 사용하는 매직 메서드 중 하나로, 인스턴스에 대해 인덱스 연산을 통해 요소를 삭제하는 기능을 제공하는 메서드입니다. \n",
    "- 이 매직 메서드를 정의하면 해당 클래스의 인스턴스에 대해 del obj[index]와 같은 문법으로 요소를 삭제할 수 있습니다."
   ]
  },
  {
   "cell_type": "markdown",
   "id": "cb04338b",
   "metadata": {},
   "source": [
    "## 인덱스 처리 "
   ]
  },
  {
   "cell_type": "code",
   "execution_count": 10,
   "id": "9d07c144",
   "metadata": {},
   "outputs": [
    {
     "name": "stdout",
     "output_type": "stream",
     "text": [
      "1\n",
      "2\n",
      "4\n"
     ]
    }
   ],
   "source": [
    "class MyList:\n",
    "    def __init__(self):\n",
    "        self.data = []\n",
    "\n",
    "    def __getitem__(self, index):\n",
    "        return self.data[index]\n",
    "\n",
    "    def __setitem__(self, index, value):\n",
    "        self.data[index] = value\n",
    "\n",
    "    def __delitem__(self, index):\n",
    "        del self.data[index]\n",
    "\n",
    "# 사용자 정의 리스트 클래스를 생성\n",
    "my_list = MyList()\n",
    "my_list.data = [1, 2, 3, 4, 5]\n",
    "\n",
    "# 인덱스 요소 삭제\n",
    "del my_list[2]\n",
    "\n",
    "# 인덱싱 연산으로 요소에 접근\n",
    "print(my_list[0])  # 출력: 1\n",
    "print(my_list[1])  # 출력: 2\n",
    "print(my_list[2])  # 출력: 4\n"
   ]
  },
  {
   "cell_type": "code",
   "execution_count": null,
   "id": "db7f486d",
   "metadata": {},
   "outputs": [],
   "source": []
  },
  {
   "cell_type": "markdown",
   "id": "cea558bb",
   "metadata": {},
   "source": [
    "## 슬라이스 처리 \n",
    "\n",
    "- `__delitem__` 메서드와 슬라이스(slice)를 함께 사용하여 클래스에서 슬라이스 범위에 해당하는 요소를 삭제할 수 있습니다. \n",
    "- 이를 통해 클래스의 인스턴스에서 슬라이스 연산을 사용하여 여러 요소를 삭제할 수 있습니다."
   ]
  },
  {
   "cell_type": "code",
   "execution_count": 13,
   "id": "7752fb42",
   "metadata": {},
   "outputs": [
    {
     "name": "stdout",
     "output_type": "stream",
     "text": [
      "[1, 6, 7, 8, 9, 10]\n"
     ]
    }
   ],
   "source": [
    "class MyList:\n",
    "    def __init__(self, data):\n",
    "        self.data = data\n",
    "\n",
    "    def __getitem__(self, index):\n",
    "        if isinstance(index, slice):\n",
    "            return self.data[index]\n",
    "        else:\n",
    "            return self.data[index]\n",
    "\n",
    "    def __setitem__(self, index, value):\n",
    "        if isinstance(index, slice):\n",
    "            self.data[index] = value\n",
    "        else:\n",
    "            self.data[index] = value\n",
    "\n",
    "    def __delitem__(self, index):\n",
    "        if isinstance(index, slice):\n",
    "            del self.data[index]\n",
    "        else:\n",
    "            del self.data[index]\n",
    "\n",
    "# 사용자 정의 리스트 클래스를 생성\n",
    "my_list = MyList([1, 2, 3, 4, 5, 6, 7, 8, 9, 10])\n",
    "\n",
    "# 슬라이스 연산을 통한 여러 요소 삭제\n",
    "del my_list[1:5]\n",
    "\n",
    "# 변경된 리스트 출력\n",
    "print(my_list.data)  # 출력: [1, 6, 7, 8, 9, 10]\n"
   ]
  },
  {
   "cell_type": "code",
   "execution_count": null,
   "id": "3e4af941",
   "metadata": {},
   "outputs": [],
   "source": []
  }
 ],
 "metadata": {
  "kernelspec": {
   "display_name": "Python 3 (ipykernel)",
   "language": "python",
   "name": "python3"
  },
  "language_info": {
   "codemirror_mode": {
    "name": "ipython",
    "version": 3
   },
   "file_extension": ".py",
   "mimetype": "text/x-python",
   "name": "python",
   "nbconvert_exporter": "python",
   "pygments_lexer": "ipython3",
   "version": "3.11.3"
  }
 },
 "nbformat": 4,
 "nbformat_minor": 5
}
