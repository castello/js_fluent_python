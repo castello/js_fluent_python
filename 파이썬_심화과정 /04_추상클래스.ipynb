{
 "cells": [
  {
   "cell_type": "code",
   "execution_count": 1,
   "id": "331e3489",
   "metadata": {},
   "outputs": [
    {
     "data": {
      "text/plain": [
       "'3.9.16'"
      ]
     },
     "execution_count": 1,
     "metadata": {},
     "output_type": "execute_result"
    }
   ],
   "source": [
    "import platform \n",
    "platform.python_version()"
   ]
  },
  {
   "cell_type": "code",
   "execution_count": null,
   "id": "34b02bef",
   "metadata": {},
   "outputs": [],
   "source": []
  },
  {
   "cell_type": "markdown",
   "id": "caf6bf2a",
   "metadata": {},
   "source": [
    "## 1. 파이썬에서 추상 클래스(Abstract Class)는\n",
    "- 인스턴스를 생성할 수 없는 클래스로, 다른 클래스들이 공통적으로 가져야 하는 특성과 메서드를 정의하기 위해 사용됩니다. \n",
    "- 추상 클래스는 직접적으로 객체를 생성할 수 없으며, 이를 상속받는 하위 클래스들이 추상 클래스의 추상 메서드를 구현하여 사용합니다.\n",
    "\n",
    "- 추상 클래스를 만들기 위해서는 abc (Abstract Base Classes) 모듈을 사용합니다. 이 모듈을 통해 추상 클래스와 추상 메서드를 정의할 수 있습니다."
   ]
  },
  {
   "cell_type": "code",
   "execution_count": null,
   "id": "56452c00",
   "metadata": {},
   "outputs": [],
   "source": []
  },
  {
   "cell_type": "markdown",
   "id": "a0f4eb4c",
   "metadata": {},
   "source": [
    "##  1-1 추상클래스 알아보기 "
   ]
  },
  {
   "cell_type": "code",
   "execution_count": 2,
   "id": "c560eb6e",
   "metadata": {},
   "outputs": [],
   "source": [
    "from abc import ABC, abstractmethod"
   ]
  },
  {
   "cell_type": "code",
   "execution_count": 4,
   "id": "f8ad295e",
   "metadata": {},
   "outputs": [
    {
     "data": {
      "text/plain": [
       "['ABC',\n",
       " 'ABCMeta',\n",
       " '__builtins__',\n",
       " '__cached__',\n",
       " '__doc__',\n",
       " '__file__',\n",
       " '__loader__',\n",
       " '__name__',\n",
       " '__package__',\n",
       " '__spec__',\n",
       " '_abc_init',\n",
       " '_abc_instancecheck',\n",
       " '_abc_register',\n",
       " '_abc_subclasscheck',\n",
       " '_get_dump',\n",
       " '_reset_caches',\n",
       " '_reset_registry',\n",
       " 'abstractclassmethod',\n",
       " 'abstractmethod',\n",
       " 'abstractproperty',\n",
       " 'abstractstaticmethod',\n",
       " 'get_cache_token']"
      ]
     },
     "execution_count": 4,
     "metadata": {},
     "output_type": "execute_result"
    }
   ],
   "source": [
    "import abc\n",
    "dir(abc)"
   ]
  },
  {
   "cell_type": "code",
   "execution_count": 7,
   "id": "e6b0f174",
   "metadata": {},
   "outputs": [
    {
     "name": "stdout",
     "output_type": "stream",
     "text": [
      "__class__, __delattr__, __dir__, __doc__, __eq__, __format__, __ge__, __getattribute__, __gt__, __hash__, __init__, __init_subclass__, __le__, __lt__, __ne__, __new__, __reduce__, __reduce_ex__, __repr__, __setattr__, __sizeof__, __str__, __subclasshook__, "
     ]
    }
   ],
   "source": [
    "for i in dir(object) :\n",
    "    print(i, end=\", \")"
   ]
  },
  {
   "cell_type": "code",
   "execution_count": 6,
   "id": "ae57593b",
   "metadata": {},
   "outputs": [
    {
     "name": "stdout",
     "output_type": "stream",
     "text": [
      "__abstractmethods__, __class__, __delattr__, __dir__, __doc__, __eq__, __format__, __ge__, __getattribute__, __gt__, __hash__, __init__, __init_subclass__, __le__, __lt__, __module__, __ne__, __new__, __reduce__, __reduce_ex__, __repr__, __setattr__, __sizeof__, __slots__, __str__, __subclasshook__, _abc_impl, "
     ]
    }
   ],
   "source": [
    "for i in dir(ABC) :\n",
    "    print(i, end=\", \")"
   ]
  },
  {
   "cell_type": "code",
   "execution_count": null,
   "id": "ce13cb27",
   "metadata": {},
   "outputs": [],
   "source": []
  },
  {
   "cell_type": "code",
   "execution_count": 8,
   "id": "5c002aa5",
   "metadata": {},
   "outputs": [
    {
     "data": {
      "text/plain": [
       "True"
      ]
     },
     "execution_count": 8,
     "metadata": {},
     "output_type": "execute_result"
    }
   ],
   "source": [
    "issubclass(ABC, object)"
   ]
  },
  {
   "cell_type": "code",
   "execution_count": null,
   "id": "7b939e5b",
   "metadata": {},
   "outputs": [],
   "source": []
  },
  {
   "cell_type": "markdown",
   "id": "b019e7ef",
   "metadata": {},
   "source": [
    "## 1-2 사용자 추상 클래스 정의하기 \n",
    "\n",
    "- ABC 추상클래스를 상속을 받고 사용자 정의 추상클래스 만들기 "
   ]
  },
  {
   "cell_type": "markdown",
   "id": "d6b90b8b",
   "metadata": {},
   "source": [
    "## 추상 클래스 정의하기 "
   ]
  },
  {
   "cell_type": "code",
   "execution_count": 18,
   "id": "fd03e136",
   "metadata": {},
   "outputs": [],
   "source": [
    "# 추상 클래스 정의\n",
    "class Shape(ABC):\n",
    "    @abstractmethod\n",
    "    def area(self):\n",
    "        pass\n"
   ]
  },
  {
   "cell_type": "markdown",
   "id": "79bc6a84",
   "metadata": {},
   "source": [
    "## 추상클래스를 상속을 받은 구현 클래스 정의 "
   ]
  },
  {
   "cell_type": "code",
   "execution_count": 19,
   "id": "e19bcc1e",
   "metadata": {},
   "outputs": [],
   "source": [
    "# 추상 클래스를 상속받는 하위 클래스\n",
    "class Circle(Shape):\n",
    "    def __init__(self, radius):\n",
    "        self.radius = radius\n",
    "\n",
    "    def area(self):\n",
    "        return 3.14 * self.radius ** 2"
   ]
  },
  {
   "cell_type": "code",
   "execution_count": 20,
   "id": "353c5dc2",
   "metadata": {},
   "outputs": [],
   "source": [
    "class Rectangle(Shape):\n",
    "    def __init__(self, width, height):\n",
    "        self.width = width\n",
    "        self.height = height\n",
    "\n",
    "    def area(self):\n",
    "        return self.width * self.height\n",
    "\n",
    "\n"
   ]
  },
  {
   "cell_type": "markdown",
   "id": "a096764d",
   "metadata": {},
   "source": [
    "## 객체를 생성하고 메서드 호출하기 "
   ]
  },
  {
   "cell_type": "code",
   "execution_count": 21,
   "id": "a10b1b6a",
   "metadata": {},
   "outputs": [
    {
     "name": "stdout",
     "output_type": "stream",
     "text": [
      "면적: 78.5\n",
      "면적: 12\n"
     ]
    }
   ],
   "source": [
    "# 추상 클래스를 사용하는 예제\n",
    "shapes = [Circle(5), Rectangle(3, 4)]\n",
    "\n",
    "for shape in shapes:\n",
    "    print(\"면적:\", shape.area())"
   ]
  },
  {
   "cell_type": "code",
   "execution_count": null,
   "id": "223a7d47",
   "metadata": {},
   "outputs": [],
   "source": []
  },
  {
   "cell_type": "markdown",
   "id": "11989f78",
   "metadata": {},
   "source": [
    "## 2. 추상 메타 클래스(Abstract Metaclass)\n",
    "\n",
    "- 클래스를 생성할 때 클래스의 속성과 메서드를 제어하거나 변형하는 역할을 수행하는 메타 클래스입니다. \n",
    "- 메타 클래스는 클래스를 만들기 위한 \"클래스의 클래스\"로 생각할 수 있습니다. \n",
    "- 추상 메타 클래스는 추상 클래스와 마찬가지로 인스턴스를 생성할 수 없는 클래스입니다.\n"
   ]
  },
  {
   "cell_type": "code",
   "execution_count": 10,
   "id": "4dd5c0b9",
   "metadata": {},
   "outputs": [],
   "source": [
    "from abc import ABCMeta, abstractmethod"
   ]
  },
  {
   "cell_type": "markdown",
   "id": "e723bc04",
   "metadata": {},
   "source": [
    "##  2-1 추상메타 클래스 확인하기 "
   ]
  },
  {
   "cell_type": "code",
   "execution_count": 11,
   "id": "f2a02e3f",
   "metadata": {},
   "outputs": [
    {
     "name": "stdout",
     "output_type": "stream",
     "text": [
      "__abstractmethods__, __base__, __bases__, __basicsize__, __call__, __class__, __delattr__, __dict__, __dictoffset__, __dir__, __doc__, __eq__, __flags__, __format__, __ge__, __getattribute__, __gt__, __hash__, __init__, __init_subclass__, __instancecheck__, __itemsize__, __le__, __lt__, __module__, __mro__, __name__, __ne__, __new__, __prepare__, __qualname__, __reduce__, __reduce_ex__, __repr__, __setattr__, __sizeof__, __str__, __subclasscheck__, __subclasses__, __subclasshook__, __text_signature__, __weakrefoffset__, _abc_caches_clear, _abc_registry_clear, _dump_registry, mro, register, "
     ]
    }
   ],
   "source": [
    "for i in dir(ABCMeta) :\n",
    "    print(i, end=\", \")"
   ]
  },
  {
   "cell_type": "code",
   "execution_count": 12,
   "id": "8bc5a04d",
   "metadata": {},
   "outputs": [
    {
     "name": "stdout",
     "output_type": "stream",
     "text": [
      "__abstractmethods__, __base__, __bases__, __basicsize__, __call__, __class__, __delattr__, __dict__, __dictoffset__, __dir__, __doc__, __eq__, __flags__, __format__, __ge__, __getattribute__, __gt__, __hash__, __init__, __init_subclass__, __instancecheck__, __itemsize__, __le__, __lt__, __module__, __mro__, __name__, __ne__, __new__, __prepare__, __qualname__, __reduce__, __reduce_ex__, __repr__, __setattr__, __sizeof__, __str__, __subclasscheck__, __subclasses__, __subclasshook__, __text_signature__, __weakrefoffset__, mro, "
     ]
    }
   ],
   "source": [
    "for i in dir(type) :\n",
    "    print(i, end=\", \")"
   ]
  },
  {
   "cell_type": "markdown",
   "id": "cad0e119",
   "metadata": {},
   "source": [
    "## 추상메테클래스는 메타클래스를 상속을 받아서 구현"
   ]
  },
  {
   "cell_type": "code",
   "execution_count": 14,
   "id": "2a5fc058",
   "metadata": {},
   "outputs": [
    {
     "data": {
      "text/plain": [
       "True"
      ]
     },
     "execution_count": 14,
     "metadata": {},
     "output_type": "execute_result"
    }
   ],
   "source": [
    "issubclass(ABCMeta, type)"
   ]
  },
  {
   "cell_type": "markdown",
   "id": "97d2944a",
   "metadata": {},
   "source": [
    "## 2-2 사용자 추상메타 클래스 정의 \n",
    "\n",
    "- 메타클래스는 클래스에 지정해서 사용"
   ]
  },
  {
   "cell_type": "markdown",
   "id": "92be2cbd",
   "metadata": {},
   "source": [
    "## 2-2-1 type을 사용한  추상 메타 클래스 정의"
   ]
  },
  {
   "cell_type": "code",
   "execution_count": 16,
   "id": "69839d1a",
   "metadata": {},
   "outputs": [],
   "source": [
    "class UserAbstractMeta(type):\n",
    "    pass\n"
   ]
  },
  {
   "cell_type": "markdown",
   "id": "3347b158",
   "metadata": {},
   "source": [
    "## 추상 클래스에 추상 메타 클래스를 메타클래스로 지정 "
   ]
  },
  {
   "cell_type": "code",
   "execution_count": 17,
   "id": "04df50de",
   "metadata": {},
   "outputs": [],
   "source": [
    "class AbstractClass(metaclass=UserAbstractMeta):\n",
    "    @abstractmethod\n",
    "    def method(self):\n",
    "        pass"
   ]
  },
  {
   "cell_type": "markdown",
   "id": "02fd7ab9",
   "metadata": {},
   "source": [
    "## 추상클래스를 상속받는 구현 클래스를 정의하기"
   ]
  },
  {
   "cell_type": "code",
   "execution_count": 17,
   "id": "16a55631",
   "metadata": {},
   "outputs": [],
   "source": [
    "# 추상 메타 클래스를 상속받는 하위 클래스\n",
    "class ConcreteClass(AbstractClass):\n",
    "    def method(self):\n",
    "        return \"Concrete method implementation\""
   ]
  },
  {
   "cell_type": "markdown",
   "id": "175bf444",
   "metadata": {},
   "source": [
    "## 인스턴스 생성하고 메서드 실행 "
   ]
  },
  {
   "cell_type": "code",
   "execution_count": 18,
   "id": "97d1716d",
   "metadata": {},
   "outputs": [
    {
     "name": "stdout",
     "output_type": "stream",
     "text": [
      "Concrete method implementation\n"
     ]
    }
   ],
   "source": [
    "# 추상 클래스를 사용하는 예제\n",
    "concrete_obj = ConcreteClass()\n",
    "print(concrete_obj.method())"
   ]
  },
  {
   "cell_type": "code",
   "execution_count": null,
   "id": "d896f880",
   "metadata": {},
   "outputs": [],
   "source": []
  },
  {
   "cell_type": "markdown",
   "id": "46198480",
   "metadata": {},
   "source": [
    "## 2-2-2 ABCMeta를 사용한  추상 메타 클래스 정의"
   ]
  },
  {
   "cell_type": "code",
   "execution_count": 21,
   "id": "6b4435fb",
   "metadata": {},
   "outputs": [],
   "source": [
    "# 추상 메타 클래스 정의\n",
    "class AbstractMeta(ABCMeta):\n",
    "    def __new__(cls, name, bases, attrs):\n",
    "        new_attrs = {}\n",
    "        for key, value in attrs.items():\n",
    "            if key == \"method\":\n",
    "                if callable(value):\n",
    "                    new_attrs[key] = value\n",
    "                else:\n",
    "                    raise NotImplementedError(f\"{key} is not a method.\")\n",
    "            else:\n",
    "                new_attrs[key] = value\n",
    "        return super().__new__(cls, name, bases, new_attrs)\n"
   ]
  },
  {
   "cell_type": "code",
   "execution_count": null,
   "id": "135a758a",
   "metadata": {},
   "outputs": [],
   "source": []
  },
  {
   "cell_type": "code",
   "execution_count": 22,
   "id": "5cea072d",
   "metadata": {},
   "outputs": [],
   "source": [
    "# 추상 메타 클래스를 사용한 추상 클래스 정의\n",
    "class AbstractClass(metaclass=AbstractMeta):\n",
    "    @abstractmethod\n",
    "    def method(self):\n",
    "        pass"
   ]
  },
  {
   "cell_type": "code",
   "execution_count": 23,
   "id": "f04a03f6",
   "metadata": {},
   "outputs": [],
   "source": [
    "# 추상 메타 클래스를 상속받는 하위 클래스\n",
    "class ConcreteClass(AbstractClass):\n",
    "    def method(self):\n",
    "        return \"Concrete method implementation\"\n"
   ]
  },
  {
   "cell_type": "code",
   "execution_count": 24,
   "id": "028535e3",
   "metadata": {},
   "outputs": [
    {
     "name": "stdout",
     "output_type": "stream",
     "text": [
      "Concrete method implementation\n"
     ]
    }
   ],
   "source": [
    "# 추상 클래스를 사용하는 예제\n",
    "concrete_obj = ConcreteClass()\n",
    "print(concrete_obj.method())\n"
   ]
  },
  {
   "cell_type": "code",
   "execution_count": null,
   "id": "08a4f9d6",
   "metadata": {},
   "outputs": [],
   "source": []
  }
 ],
 "metadata": {
  "kernelspec": {
   "display_name": "Python 3 (ipykernel)",
   "language": "python",
   "name": "python3"
  },
  "language_info": {
   "codemirror_mode": {
    "name": "ipython",
    "version": 3
   },
   "file_extension": ".py",
   "mimetype": "text/x-python",
   "name": "python",
   "nbconvert_exporter": "python",
   "pygments_lexer": "ipython3",
   "version": "3.9.16"
  }
 },
 "nbformat": 4,
 "nbformat_minor": 5
}
