{
 "cells": [
  {
   "cell_type": "code",
   "execution_count": 1,
   "id": "331e3489",
   "metadata": {},
   "outputs": [
    {
     "data": {
      "text/plain": [
       "'3.11.3'"
      ]
     },
     "execution_count": 1,
     "metadata": {},
     "output_type": "execute_result"
    }
   ],
   "source": [
    "import platform \n",
    "platform.python_version()"
   ]
  },
  {
   "cell_type": "code",
   "execution_count": null,
   "id": "34b02bef",
   "metadata": {},
   "outputs": [],
   "source": []
  },
  {
   "cell_type": "markdown",
   "id": "caf6bf2a",
   "metadata": {},
   "source": [
    "## 파이썬에서 추상 클래스(Abstract Class)는\n",
    "- 인스턴스를 생성할 수 없는 클래스로, 다른 클래스들이 공통적으로 가져야 하는 특성과 메서드를 정의하기 위해 사용됩니다. \n",
    "- 추상 클래스는 직접적으로 객체를 생성할 수 없으며, 이를 상속받는 하위 클래스들이 추상 클래스의 추상 메서드를 구현하여 사용합니다.\n",
    "\n",
    "- 추상 클래스를 만들기 위해서는 abc (Abstract Base Classes) 모듈을 사용합니다. 이 모듈을 통해 추상 클래스와 추상 메서드를 정의할 수 있습니다."
   ]
  },
  {
   "cell_type": "code",
   "execution_count": null,
   "id": "56452c00",
   "metadata": {},
   "outputs": [],
   "source": []
  },
  {
   "cell_type": "code",
   "execution_count": 2,
   "id": "c560eb6e",
   "metadata": {},
   "outputs": [],
   "source": [
    "from abc import ABC, abstractmethod"
   ]
  },
  {
   "cell_type": "code",
   "execution_count": null,
   "id": "f8ad295e",
   "metadata": {},
   "outputs": [],
   "source": []
  },
  {
   "cell_type": "code",
   "execution_count": null,
   "id": "e6b0f174",
   "metadata": {},
   "outputs": [],
   "source": []
  },
  {
   "cell_type": "code",
   "execution_count": 3,
   "id": "fd03e136",
   "metadata": {},
   "outputs": [],
   "source": [
    "# 추상 클래스 정의\n",
    "class Shape(ABC):\n",
    "    @abstractmethod\n",
    "    def area(self):\n",
    "        pass\n",
    "\n",
    "# 추상 클래스를 상속받는 하위 클래스\n",
    "class Circle(Shape):\n",
    "    def __init__(self, radius):\n",
    "        self.radius = radius\n",
    "\n",
    "    def area(self):\n",
    "        return 3.14 * self.radius ** 2"
   ]
  },
  {
   "cell_type": "code",
   "execution_count": 4,
   "id": "353c5dc2",
   "metadata": {},
   "outputs": [],
   "source": [
    "class Rectangle(Shape):\n",
    "    def __init__(self, width, height):\n",
    "        self.width = width\n",
    "        self.height = height\n",
    "\n",
    "    def area(self):\n",
    "        return self.width * self.height\n",
    "\n",
    "\n"
   ]
  },
  {
   "cell_type": "code",
   "execution_count": null,
   "id": "2c72ced5",
   "metadata": {},
   "outputs": [],
   "source": []
  },
  {
   "cell_type": "code",
   "execution_count": 5,
   "id": "a10b1b6a",
   "metadata": {},
   "outputs": [
    {
     "name": "stdout",
     "output_type": "stream",
     "text": [
      "면적: 78.5\n",
      "면적: 12\n"
     ]
    }
   ],
   "source": [
    "# 추상 클래스를 사용하는 예제\n",
    "shapes = [Circle(5), Rectangle(3, 4)]\n",
    "\n",
    "for shape in shapes:\n",
    "    print(\"면적:\", shape.area())"
   ]
  },
  {
   "cell_type": "code",
   "execution_count": null,
   "id": "223a7d47",
   "metadata": {},
   "outputs": [],
   "source": []
  },
  {
   "cell_type": "markdown",
   "id": "11989f78",
   "metadata": {},
   "source": [
    "## 추상 메타 클래스(Abstract Metaclass)\n",
    "\n",
    "- 클래스를 생성할 때 클래스의 속성과 메서드를 제어하거나 변형하는 역할을 수행하는 메타 클래스입니다. \n",
    "- 메타 클래스는 클래스를 만들기 위한 \"클래스의 클래스\"로 생각할 수 있습니다. \n",
    "- 추상 메타 클래스는 추상 클래스와 마찬가지로 인스턴스를 생성할 수 없는 클래스입니다.\n"
   ]
  },
  {
   "cell_type": "code",
   "execution_count": 6,
   "id": "4dd5c0b9",
   "metadata": {},
   "outputs": [],
   "source": [
    "from abc import ABCMeta, abstractmethod"
   ]
  },
  {
   "cell_type": "code",
   "execution_count": 15,
   "id": "69839d1a",
   "metadata": {},
   "outputs": [],
   "source": [
    "# 추상 메타 클래스 정의\n",
    "class UserAbstractMeta(type):\n",
    "    pass\n"
   ]
  },
  {
   "cell_type": "code",
   "execution_count": 16,
   "id": "04df50de",
   "metadata": {},
   "outputs": [],
   "source": [
    "# 추상 메타 클래스를 사용한 추상 클래스 정의\n",
    "class AbstractClass(metaclass=UserAbstractMeta):\n",
    "    @abstractmethod\n",
    "    def method(self):\n",
    "        pass"
   ]
  },
  {
   "cell_type": "code",
   "execution_count": 17,
   "id": "16a55631",
   "metadata": {},
   "outputs": [],
   "source": [
    "# 추상 메타 클래스를 상속받는 하위 클래스\n",
    "class ConcreteClass(AbstractClass):\n",
    "    def method(self):\n",
    "        return \"Concrete method implementation\""
   ]
  },
  {
   "cell_type": "code",
   "execution_count": null,
   "id": "d3eeddb2",
   "metadata": {},
   "outputs": [],
   "source": []
  },
  {
   "cell_type": "code",
   "execution_count": 18,
   "id": "97d1716d",
   "metadata": {},
   "outputs": [
    {
     "name": "stdout",
     "output_type": "stream",
     "text": [
      "Concrete method implementation\n"
     ]
    }
   ],
   "source": [
    "# 추상 클래스를 사용하는 예제\n",
    "concrete_obj = ConcreteClass()\n",
    "print(concrete_obj.method())"
   ]
  },
  {
   "cell_type": "code",
   "execution_count": null,
   "id": "d896f880",
   "metadata": {},
   "outputs": [],
   "source": []
  },
  {
   "cell_type": "code",
   "execution_count": null,
   "id": "f0e80f83",
   "metadata": {},
   "outputs": [],
   "source": []
  },
  {
   "cell_type": "code",
   "execution_count": 21,
   "id": "6b4435fb",
   "metadata": {},
   "outputs": [],
   "source": [
    "# 추상 메타 클래스 정의\n",
    "class AbstractMeta(ABCMeta):\n",
    "    def __new__(cls, name, bases, attrs):\n",
    "        new_attrs = {}\n",
    "        for key, value in attrs.items():\n",
    "            if key == \"method\":\n",
    "                if callable(value):\n",
    "                    new_attrs[key] = value\n",
    "                else:\n",
    "                    raise NotImplementedError(f\"{key} is not a method.\")\n",
    "            else:\n",
    "                new_attrs[key] = value\n",
    "        return super().__new__(cls, name, bases, new_attrs)\n"
   ]
  },
  {
   "cell_type": "code",
   "execution_count": null,
   "id": "135a758a",
   "metadata": {},
   "outputs": [],
   "source": []
  },
  {
   "cell_type": "code",
   "execution_count": 22,
   "id": "5cea072d",
   "metadata": {},
   "outputs": [],
   "source": [
    "# 추상 메타 클래스를 사용한 추상 클래스 정의\n",
    "class AbstractClass(metaclass=AbstractMeta):\n",
    "    @abstractmethod\n",
    "    def method(self):\n",
    "        pass"
   ]
  },
  {
   "cell_type": "code",
   "execution_count": 23,
   "id": "f04a03f6",
   "metadata": {},
   "outputs": [],
   "source": [
    "# 추상 메타 클래스를 상속받는 하위 클래스\n",
    "class ConcreteClass(AbstractClass):\n",
    "    def method(self):\n",
    "        return \"Concrete method implementation\"\n"
   ]
  },
  {
   "cell_type": "code",
   "execution_count": 24,
   "id": "028535e3",
   "metadata": {},
   "outputs": [
    {
     "name": "stdout",
     "output_type": "stream",
     "text": [
      "Concrete method implementation\n"
     ]
    }
   ],
   "source": [
    "# 추상 클래스를 사용하는 예제\n",
    "concrete_obj = ConcreteClass()\n",
    "print(concrete_obj.method())\n"
   ]
  },
  {
   "cell_type": "code",
   "execution_count": null,
   "id": "08a4f9d6",
   "metadata": {},
   "outputs": [],
   "source": []
  }
 ],
 "metadata": {
  "kernelspec": {
   "display_name": "Python 3 (ipykernel)",
   "language": "python",
   "name": "python3"
  },
  "language_info": {
   "codemirror_mode": {
    "name": "ipython",
    "version": 3
   },
   "file_extension": ".py",
   "mimetype": "text/x-python",
   "name": "python",
   "nbconvert_exporter": "python",
   "pygments_lexer": "ipython3",
   "version": "3.11.3"
  }
 },
 "nbformat": 4,
 "nbformat_minor": 5
}
