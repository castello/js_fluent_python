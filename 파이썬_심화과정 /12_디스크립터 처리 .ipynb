{
 "cells": [
  {
   "cell_type": "code",
   "execution_count": null,
   "id": "48a64ba7",
   "metadata": {},
   "outputs": [],
   "source": []
  },
  {
   "cell_type": "markdown",
   "id": "d52af717",
   "metadata": {},
   "source": [
    "## 1. 디스크립터 프로토콜 "
   ]
  },
  {
   "cell_type": "markdown",
   "id": "ae5d9493",
   "metadata": {},
   "source": [
    "## 프로퍼티 이해하기 "
   ]
  },
  {
   "cell_type": "code",
   "execution_count": 1,
   "id": "2715a331",
   "metadata": {},
   "outputs": [],
   "source": [
    "class Klass :\n",
    "    def __init__(self, name) :\n",
    "        self._name = name\n",
    "        \n",
    "    @property    \n",
    "    def Name(self) :\n",
    "        return self._name\n",
    "    \n",
    "    @Name.setter\n",
    "    def Name(self, value) :\n",
    "        self._name = value"
   ]
  },
  {
   "cell_type": "code",
   "execution_count": 2,
   "id": "ce66c826",
   "metadata": {},
   "outputs": [],
   "source": [
    "k = Klass(\"이름\")"
   ]
  },
  {
   "cell_type": "code",
   "execution_count": 3,
   "id": "a5da9636",
   "metadata": {},
   "outputs": [
    {
     "data": {
      "text/plain": [
       "{'_name': '이름'}"
      ]
     },
     "execution_count": 3,
     "metadata": {},
     "output_type": "execute_result"
    }
   ],
   "source": [
    "k.__dict__"
   ]
  },
  {
   "cell_type": "code",
   "execution_count": 4,
   "id": "f1bb5d5e",
   "metadata": {},
   "outputs": [
    {
     "data": {
      "text/plain": [
       "('이름', '이름')"
      ]
     },
     "execution_count": 4,
     "metadata": {},
     "output_type": "execute_result"
    }
   ],
   "source": [
    "k.Name, k._name"
   ]
  },
  {
   "cell_type": "markdown",
   "id": "e1d336c8",
   "metadata": {},
   "source": [
    "### 점연산자 대신 내장함수 사용하기"
   ]
  },
  {
   "cell_type": "code",
   "execution_count": 5,
   "id": "a3b89d4f",
   "metadata": {},
   "outputs": [
    {
     "data": {
      "text/plain": [
       "'이름'"
      ]
     },
     "execution_count": 5,
     "metadata": {},
     "output_type": "execute_result"
    }
   ],
   "source": [
    "getattr(k,'_name')"
   ]
  },
  {
   "cell_type": "code",
   "execution_count": 6,
   "id": "be39826a",
   "metadata": {},
   "outputs": [],
   "source": [
    "setattr(k,'_name', \"농협\")"
   ]
  },
  {
   "cell_type": "code",
   "execution_count": 7,
   "id": "97d11dae",
   "metadata": {},
   "outputs": [
    {
     "data": {
      "text/plain": [
       "{'_name': '농협'}"
      ]
     },
     "execution_count": 7,
     "metadata": {},
     "output_type": "execute_result"
    }
   ],
   "source": [
    "k.__dict__"
   ]
  },
  {
   "cell_type": "markdown",
   "id": "b565adb8",
   "metadata": {},
   "source": [
    "## 1-1 property "
   ]
  },
  {
   "cell_type": "code",
   "execution_count": null,
   "id": "e3ad63e4",
   "metadata": {},
   "outputs": [],
   "source": []
  },
  {
   "cell_type": "code",
   "execution_count": 11,
   "id": "f468436d",
   "metadata": {},
   "outputs": [],
   "source": [
    "class Colour:\n",
    "    def __init__(self, hex_string):\n",
    "        self.hex = hex_string\n",
    "\n",
    "    @property\n",
    "    def r(self):\n",
    "        return int(self.hex[1:3], 16)\n",
    "\n",
    "    @property\n",
    "    def g(self):\n",
    "        return int(self.hex[3:5], 16)\n",
    "\n",
    "    @property\n",
    "    def b(self):\n",
    "        return int(self.hex[5:7], 16)"
   ]
  },
  {
   "cell_type": "code",
   "execution_count": 12,
   "id": "4d340db3",
   "metadata": {},
   "outputs": [],
   "source": [
    "red = Colour(\"#ff0000\")"
   ]
  },
  {
   "cell_type": "code",
   "execution_count": 13,
   "id": "124fa6be",
   "metadata": {},
   "outputs": [
    {
     "data": {
      "text/plain": [
       "(255, 0, 0)"
      ]
     },
     "execution_count": 13,
     "metadata": {},
     "output_type": "execute_result"
    }
   ],
   "source": [
    "red.r, red.g, red.b"
   ]
  },
  {
   "cell_type": "code",
   "execution_count": null,
   "id": "dcf962ce",
   "metadata": {},
   "outputs": [],
   "source": []
  },
  {
   "cell_type": "code",
   "execution_count": null,
   "id": "202c9ddc",
   "metadata": {},
   "outputs": [],
   "source": [
    "class Person:\n",
    "    def __init__(self, name):\n",
    "        self._name = name\n",
    "\n",
    "    @property\n",
    "    def name(self):\n",
    "        return self._name\n",
    "\n",
    "    @name.setter\n",
    "    def name(self, value):\n",
    "        self._name = value\n",
    "\n",
    "# 사용 예시\n",
    "person = Person(\"Alice\")\n",
    "print(person.name)  # 출력: Alice\n",
    "\n",
    "person.name = \"Bob\"\n",
    "print(person.name)  # 출력: Bob\n"
   ]
  },
  {
   "cell_type": "code",
   "execution_count": null,
   "id": "be16c593",
   "metadata": {},
   "outputs": [],
   "source": []
  },
  {
   "cell_type": "markdown",
   "id": "7042799a",
   "metadata": {},
   "source": [
    "## 2. 파이썬 디스크립터 프로토콜\n",
    "\n",
    "- 클래스의 속성(attribute) 접근을 제어하고 커스텀 동작을 정의하기 위한 프로토콜입니다. \n",
    "- 디스크립터는 `__get__`, `__set__`,` __delete__`, `__set_name__` 메서드를 구현하는 클래스로, \n",
    "- 이러한 메서드를 갖는 클래스를 디스크립터 클래스라고 합니다.\n",
    "\n",
    "## 디스크립터 프로토콜의 세 가지 메서드:\n",
    "\n",
    "### ` __get__`(self, instance, owner): \n",
    "- 속성에 접근할 때 호출되는 메서드입니다. \n",
    "- self는 디스크립터 인스턴스 자체를 가리키고, instance는 속성이 접근되는 객체를 가리킵니다. \n",
    "- owner는 속성이 속한 클래스를 가리킵니다. \n",
    "- 이 메서드를 구현하면 객체의 속성에 접근할 때 디스크립터의 동작을 정의할 수 있습니다.\n",
    "\n",
    "### `__set__`(self, instance, value): \n",
    "- 속성에 값을 할당할 때 호출되는 메서드입니다. \n",
    "- self는 디스크립터 인스턴스 자체를 가리키고, instance는 속성이 속한 객체를 가리킵니다. \n",
    "- value는 할당되는 값입니다. \n",
    "- 이 메서드를 구현하면 객체의 속성에 값을 할당할 때 디스크립터의 동작을 정의할 수 있습니다.\n",
    "\n",
    "### `__delete__`(self, instance): \n",
    "- 속성을 삭제할 때 호출되는 메서드입니다. \n",
    "- self는 디스크립터 인스턴스 자체를 가리키고, instance는 속성이 속한 객체를 가리킵니다.\n",
    "- 이 메서드를 구현하면 객체의 속성을 삭제할 때 디스크립터의 동작을 정의할 수 있습니다.\n",
    "\n",
    "###  `__set_name__`(self, owner,name) : \n",
    "- 파이썬 3.6 버전부터 추가된 디스크립터 프로토콜의 메서드입니다. \n",
    "- 이 메서드는 디스크립터를 클래스의 속성으로 할당할 때 호출되며, 속성의 이름과 속성이 속한 클래스에 대한 정보를 전달합니다.\n",
    "- owner: 디스크립터가 속한 클래스를 가리킵니다.\n",
    "- name: 디스크립터가 할당되는 속성의 이름을 가리킵니다.\n"
   ]
  },
  {
   "cell_type": "code",
   "execution_count": null,
   "id": "98a05db2",
   "metadata": {},
   "outputs": [],
   "source": []
  },
  {
   "cell_type": "code",
   "execution_count": null,
   "id": "0105517d",
   "metadata": {},
   "outputs": [],
   "source": []
  },
  {
   "cell_type": "code",
   "execution_count": null,
   "id": "b157a78c",
   "metadata": {},
   "outputs": [],
   "source": []
  },
  {
   "cell_type": "markdown",
   "id": "f664dced",
   "metadata": {},
   "source": [
    "## 2-1 함수도 디스크립터\n",
    "\n",
    "### 파이썬에서 함수 또한 디스크립터로 동작합니다. \n",
    "\n",
    "- 함수를 디스크립터로 사용하면 함수에 접근할 때 해당 함수가 호출되는 것을 말합니다. \n",
    "- 이렇게 함수를 디스크립터로 사용하는 경우, 클래스의 메서드처럼 동작하면서도 추가적인 로직을 수행할 수 있게 됩니다.\n",
    "\n",
    "- 함수를 디스크립터로 사용하는 방법은 property와 유사합니다. \n",
    "- property와 달리 함수를 디스크립터로 사용하려면 `__get__`메서드만 구현하면 됩니다. \n",
    "- `__get__` 메서드는 함수가 호출될 때 어떤 동작을 할지를 정의합니다."
   ]
  },
  {
   "cell_type": "code",
   "execution_count": null,
   "id": "b639dca0",
   "metadata": {},
   "outputs": [],
   "source": []
  },
  {
   "cell_type": "code",
   "execution_count": 8,
   "id": "38db2710",
   "metadata": {},
   "outputs": [
    {
     "name": "stdout",
     "output_type": "stream",
     "text": [
      "Hello, Alice!\n",
      "Goodbye, Bob!\n"
     ]
    }
   ],
   "source": [
    "class Greeting:\n",
    "    def __init__(self, greeting_text):\n",
    "        self.greeting_text = greeting_text\n",
    "\n",
    "    def greet(self, name):\n",
    "        return f\"{self.greeting_text}, {name}!\"\n",
    "\n",
    "    def __get__(self, instance, owner):\n",
    "        # instance는 클래스의 인스턴스, owner는 클래스 자체를 가리킴\n",
    "        return lambda name: self.greet(name)\n",
    "\n",
    "class MyClass:\n",
    "    hello = Greeting(\"Hello\")\n",
    "    goodbye = Greeting(\"Goodbye\")\n",
    "\n",
    "# 사용 예시\n",
    "obj = MyClass()\n",
    "print(obj.hello(\"Alice\"))   # 출력: Hello, Alice!\n",
    "print(obj.goodbye(\"Bob\"))   # 출력: Goodbye, Bob!\n"
   ]
  },
  {
   "cell_type": "code",
   "execution_count": null,
   "id": "76f912b2",
   "metadata": {},
   "outputs": [],
   "source": []
  },
  {
   "cell_type": "code",
   "execution_count": null,
   "id": "c19b2554",
   "metadata": {},
   "outputs": [],
   "source": []
  },
  {
   "cell_type": "markdown",
   "id": "140666a6",
   "metadata": {},
   "source": [
    "#  3.  디스크립터 클래스 정의해서 사용하기 "
   ]
  },
  {
   "cell_type": "code",
   "execution_count": null,
   "id": "cb2e82d9",
   "metadata": {},
   "outputs": [],
   "source": []
  },
  {
   "cell_type": "markdown",
   "id": "31635369",
   "metadata": {},
   "source": [
    "## 3-1 디스크립터 정의 "
   ]
  },
  {
   "cell_type": "code",
   "execution_count": null,
   "id": "4348b0ea",
   "metadata": {},
   "outputs": [],
   "source": []
  },
  {
   "cell_type": "code",
   "execution_count": 14,
   "id": "bccc99b2",
   "metadata": {},
   "outputs": [],
   "source": [
    "class ColourComponent:\n",
    "    def __init__(self, start, end):\n",
    "        self.start = start\n",
    "        self.end = end\n",
    "\n",
    "    def __get__(self, obj, _):\n",
    "        return int(obj.hex[self.start : self.end], 16)\n",
    "\n",
    "class Colour:\n",
    "    r = ColourComponent(1, 3)\n",
    "    g = ColourComponent(3, 5)\n",
    "    b = ColourComponent(5, 7)\n",
    "\n",
    "    def __init__(self, hex):\n",
    "        self.hex = hex"
   ]
  },
  {
   "cell_type": "code",
   "execution_count": 15,
   "id": "95dfd702",
   "metadata": {},
   "outputs": [],
   "source": [
    "red = Colour(\"#ff0000\")"
   ]
  },
  {
   "cell_type": "code",
   "execution_count": 16,
   "id": "01e8e53e",
   "metadata": {},
   "outputs": [
    {
     "data": {
      "text/plain": [
       "(255, 0, 0)"
      ]
     },
     "execution_count": 16,
     "metadata": {},
     "output_type": "execute_result"
    }
   ],
   "source": [
    "red.r, red.g, red.b"
   ]
  },
  {
   "cell_type": "code",
   "execution_count": null,
   "id": "890c77fe",
   "metadata": {},
   "outputs": [],
   "source": []
  },
  {
   "cell_type": "code",
   "execution_count": null,
   "id": "ab6ef54b",
   "metadata": {},
   "outputs": [],
   "source": []
  },
  {
   "cell_type": "code",
   "execution_count": 3,
   "id": "1d155c33",
   "metadata": {},
   "outputs": [],
   "source": [
    "class CustomDescriptor:\n",
    "    def __set_name__(self, owner, name):\n",
    "        self.name = name\n",
    "\n",
    "    def __get__(self, instance, owner):\n",
    "        return instance.__dict__[self.name]\n",
    "\n",
    "    def __set__(self, instance, value):\n",
    "        instance.__dict__[self.name] = value\n",
    "\n",
    "class MyClass:\n",
    "    attribute = CustomDescriptor()\n"
   ]
  },
  {
   "cell_type": "code",
   "execution_count": 4,
   "id": "202f091d",
   "metadata": {},
   "outputs": [
    {
     "name": "stdout",
     "output_type": "stream",
     "text": [
      "42\n"
     ]
    }
   ],
   "source": [
    "# 객체 생성\n",
    "obj = MyClass()\n",
    "\n",
    "# 디스크립터를 이용하여 속성 설정\n",
    "obj.attribute = 42\n",
    "\n",
    "# 디스크립터를 이용하여 속성 조회\n",
    "print(obj.attribute)  # 출력: 42"
   ]
  },
  {
   "cell_type": "code",
   "execution_count": null,
   "id": "3e566d0f",
   "metadata": {},
   "outputs": [],
   "source": []
  },
  {
   "cell_type": "markdown",
   "id": "ec61fc6a",
   "metadata": {},
   "source": [
    "## 3-2 데이터 디스크립터와 비 데이터 디스크립터 사용하기 "
   ]
  },
  {
   "cell_type": "markdown",
   "id": "1d22a686",
   "metadata": {},
   "source": [
    "## 데이터 디스크립터 (Data Descriptor):\n",
    "- 데이터 디스크립터는 __set__ 메서드를 구현하고 있어서 속성의 값을 설정할 수 있습니다. \n",
    "- 즉, 디스크립터가 클래스의 속성으로 할당되면, 해당 속성에 값을 할당할 때 디스크립터의 __set__ 메서드가 호출되는 것을 말합니다. \n",
    "- 데이터 디스크립터는 속성의 값을 제어하는데 사용될 수 있습니다."
   ]
  },
  {
   "cell_type": "code",
   "execution_count": 9,
   "id": "274c9c18",
   "metadata": {},
   "outputs": [],
   "source": [
    "class DataDescriptor:\n",
    "    def __set__(self, instance, value):\n",
    "        print(\"Setting value via data descriptor\")\n",
    "        instance._data = value"
   ]
  },
  {
   "cell_type": "markdown",
   "id": "acbc4b3b",
   "metadata": {},
   "source": [
    "## 비데이터 디스크립터 (Non-Data Descriptor):\n",
    "- 비데이터 디스크립터는 __set__ 메서드를 구현하지 않아서 속성의 값을 설정할 수 없습니다. \n",
    "- 디스크립터가 클래스의 속성으로 할당되더라도, 해당 속성에 값을 할당할 때 디스크립터의 __set__ 메서드가 호출되지 않습니다. \n",
    "- 비데이터 디스크립터는 주로 속성의 값을 조회하거나 다른 계산에 사용될 때 유용하게 사용됩니다."
   ]
  },
  {
   "cell_type": "code",
   "execution_count": 10,
   "id": "f0cc8b58",
   "metadata": {},
   "outputs": [],
   "source": [
    "class NonDataDescriptor:\n",
    "    def __get__(self, instance, owner):\n",
    "        print(\"Getting value via non-data descriptor\")\n",
    "        return instance._data if hasattr(instance, \"_data\") else None"
   ]
  },
  {
   "cell_type": "code",
   "execution_count": null,
   "id": "0db05a3c",
   "metadata": {},
   "outputs": [],
   "source": []
  },
  {
   "cell_type": "code",
   "execution_count": 1,
   "id": "32d2443d",
   "metadata": {},
   "outputs": [],
   "source": [
    "class MyClass:\n",
    "    data_attr = DataDescriptor()\n",
    "    non_data_attr = NonDataDescriptor()\n",
    "\n"
   ]
  },
  {
   "cell_type": "code",
   "execution_count": 2,
   "id": "e50bdecf",
   "metadata": {},
   "outputs": [
    {
     "name": "stdout",
     "output_type": "stream",
     "text": [
      "Setting value via data descriptor\n",
      "<__main__.DataDescriptor object at 0x107b3e650>\n"
     ]
    }
   ],
   "source": [
    "obj = MyClass()\n",
    "\n",
    "obj.data_attr = 42\n",
    "# 출력: Setting value via data descriptor\n",
    "\n",
    "print(obj.data_attr)\n",
    "# 출력: Getting value via non-data descriptor\n",
    "# 출력: 42\n",
    "\n",
    "obj.non_data_attr = 10\n",
    "# TypeError: 'NonDataDescriptor' object is not callable"
   ]
  },
  {
   "cell_type": "code",
   "execution_count": null,
   "id": "ceac62c3",
   "metadata": {},
   "outputs": [],
   "source": []
  },
  {
   "cell_type": "code",
   "execution_count": null,
   "id": "44a1c14a",
   "metadata": {},
   "outputs": [],
   "source": []
  },
  {
   "cell_type": "code",
   "execution_count": null,
   "id": "2e03905a",
   "metadata": {},
   "outputs": [],
   "source": []
  }
 ],
 "metadata": {
  "kernelspec": {
   "display_name": "Python 3 (ipykernel)",
   "language": "python",
   "name": "python3"
  },
  "language_info": {
   "codemirror_mode": {
    "name": "ipython",
    "version": 3
   },
   "file_extension": ".py",
   "mimetype": "text/x-python",
   "name": "python",
   "nbconvert_exporter": "python",
   "pygments_lexer": "ipython3",
   "version": "3.11.3"
  }
 },
 "nbformat": 4,
 "nbformat_minor": 5
}
