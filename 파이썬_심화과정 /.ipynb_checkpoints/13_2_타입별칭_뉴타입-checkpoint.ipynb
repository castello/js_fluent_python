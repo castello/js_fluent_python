{
 "cells": [
  {
   "cell_type": "code",
   "execution_count": null,
   "id": "ce7a8500",
   "metadata": {},
   "outputs": [],
   "source": []
  },
  {
   "cell_type": "markdown",
   "id": "7b649505",
   "metadata": {},
   "source": [
    "## typing 모듈 \n",
    "\n",
    "- TypeAlias 클래스는 지원되지 않는 것으로 알려져 있습니다. 따라서 from typing import TypeAlias와 같은 방식으로 타입 별칭을 정의하는 것은 파이썬의 현재 버전에서는 사용할 수 없는 것으로 보입니다.\n",
    "\n",
    "- 만약 타입 별칭을 정의하려면, 기존에 제공되는 List, Tuple, Union, Dict 등의 제너릭 타입을 사용하거나, 클래스나 함수의 매개변수와 반환 값에 타입 힌트를 직접 적용하여 타입을 명시해야 합니다. \n",
    "- 이를 통해 코드의 가독성을 높이고 타입 안전성을 확보할 수 있습니다."
   ]
  },
  {
   "cell_type": "markdown",
   "id": "d574b1ab",
   "metadata": {},
   "source": [
    "## 1. 타입 별칭 처리"
   ]
  },
  {
   "cell_type": "code",
   "execution_count": 2,
   "id": "9e98a6c5",
   "metadata": {},
   "outputs": [],
   "source": [
    "from typing import TypeAlias, List, Tuple, Type\n",
    "\n",
    "# 타입 별칭 정의\n",
    "IntList:TypeAlias = List[int]\n",
    "Coordinates:TypeAlias = List[Tuple[float, float]]\n"
   ]
  },
  {
   "cell_type": "code",
   "execution_count": 5,
   "id": "35ced0e7",
   "metadata": {},
   "outputs": [],
   "source": [
    "# 타입 별칭 사용\n",
    "def process_integers(data: IntList) -> None:\n",
    "    for num in data:\n",
    "        print(num)\n"
   ]
  },
  {
   "cell_type": "code",
   "execution_count": 6,
   "id": "92e97691",
   "metadata": {},
   "outputs": [
    {
     "name": "stdout",
     "output_type": "stream",
     "text": [
      "1\n",
      "2\n",
      "3\n",
      "4\n",
      "5\n"
     ]
    }
   ],
   "source": [
    "# 타입 별칭을 사용한 함수 호출\n",
    "integers = [1, 2, 3, 4, 5]\n",
    "process_integers(integers)\n"
   ]
  },
  {
   "cell_type": "code",
   "execution_count": 7,
   "id": "269f2a88",
   "metadata": {},
   "outputs": [],
   "source": [
    "def calculate_distance(points: Coordinates) -> List[float]:\n",
    "    return [((x**2 + y**2)**0.5) for x, y in points]"
   ]
  },
  {
   "cell_type": "code",
   "execution_count": 8,
   "id": "0d301d7f",
   "metadata": {},
   "outputs": [
    {
     "name": "stdout",
     "output_type": "stream",
     "text": [
      "[5.0, 2.23606797749979, 0.0]\n"
     ]
    }
   ],
   "source": [
    "coordinates = [(3.0, 4.0), (1.0, 2.0), (0.0, 0.0)]\n",
    "distances = calculate_distance(coordinates)\n",
    "print(distances)"
   ]
  },
  {
   "cell_type": "code",
   "execution_count": null,
   "id": "7986cabc",
   "metadata": {},
   "outputs": [],
   "source": []
  },
  {
   "cell_type": "markdown",
   "id": "102ec81d",
   "metadata": {},
   "source": [
    "## 2. 뉴타입 정의하기 \n",
    "\n",
    "- newtype이란 개념은 몇몇 프로그래밍 언어에서 사용되는 것으로, 기존 타입의 래핑(wrapper)을 통해 새로운 타입을 만들 수 있는 기능을 나타냅니다.\n",
    "\n",
    "- 대신, 파이썬에서는 typing 모듈을 사용하여 타입을 명시하고 조작할 수 있습니다.\n",
    "- typing 모듈은 타입 힌트와 제너릭 타입을 정의하고 활용하는 데 사용되며, 이를 통해 코드의 가독성을 높이고 타입 안전성을 확보할 수 있습니다."
   ]
  },
  {
   "cell_type": "code",
   "execution_count": 9,
   "id": "9cb3e1ba",
   "metadata": {},
   "outputs": [],
   "source": [
    "from typing import NewType, List\n",
    "\n",
    "# NewType을 사용하여 새로운 타입 정의\n",
    "UserId = NewType('UserId', int)\n",
    "Username = NewType('Username', str)\n"
   ]
  },
  {
   "cell_type": "code",
   "execution_count": null,
   "id": "0cc9f7fc",
   "metadata": {},
   "outputs": [],
   "source": []
  },
  {
   "cell_type": "code",
   "execution_count": 10,
   "id": "2b7f63b1",
   "metadata": {},
   "outputs": [],
   "source": [
    "def process_user(user_id: UserId, username: Username) -> None:\n",
    "    print(f\"Processing user: ID={user_id}, Name={username}\")"
   ]
  },
  {
   "cell_type": "code",
   "execution_count": 11,
   "id": "83685dc8",
   "metadata": {},
   "outputs": [
    {
     "name": "stdout",
     "output_type": "stream",
     "text": [
      "Processing user: ID=123, Name=john_doe\n"
     ]
    }
   ],
   "source": [
    "# 새로운 타입 사용\n",
    "user_id = UserId(123)\n",
    "username = Username(\"john_doe\")\n",
    "process_user(user_id, username)"
   ]
  },
  {
   "cell_type": "code",
   "execution_count": null,
   "id": "42fb9071",
   "metadata": {},
   "outputs": [],
   "source": []
  },
  {
   "cell_type": "code",
   "execution_count": null,
   "id": "bd26d128",
   "metadata": {},
   "outputs": [],
   "source": []
  },
  {
   "cell_type": "code",
   "execution_count": 13,
   "id": "b09f4754",
   "metadata": {},
   "outputs": [
    {
     "data": {
      "text/plain": [
       "True"
      ]
     },
     "execution_count": 13,
     "metadata": {},
     "output_type": "execute_result"
    }
   ],
   "source": [
    "issubclass(type(user_id), int)"
   ]
  },
  {
   "cell_type": "code",
   "execution_count": 16,
   "id": "747bcf92",
   "metadata": {},
   "outputs": [
    {
     "data": {
      "text/plain": [
       "True"
      ]
     },
     "execution_count": 16,
     "metadata": {},
     "output_type": "execute_result"
    }
   ],
   "source": [
    "issubclass(type(username), str)"
   ]
  },
  {
   "cell_type": "code",
   "execution_count": null,
   "id": "fc714ea4",
   "metadata": {},
   "outputs": [],
   "source": []
  }
 ],
 "metadata": {
  "kernelspec": {
   "display_name": "Python 3 (ipykernel)",
   "language": "python",
   "name": "python3"
  },
  "language_info": {
   "codemirror_mode": {
    "name": "ipython",
    "version": 3
   },
   "file_extension": ".py",
   "mimetype": "text/x-python",
   "name": "python",
   "nbconvert_exporter": "python",
   "pygments_lexer": "ipython3",
   "version": "3.9.16"
  }
 },
 "nbformat": 4,
 "nbformat_minor": 5
}
