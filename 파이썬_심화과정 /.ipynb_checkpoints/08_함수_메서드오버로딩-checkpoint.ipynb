{
 "cells": [
  {
   "cell_type": "code",
   "execution_count": 1,
   "id": "f51e49b8",
   "metadata": {},
   "outputs": [],
   "source": [
    "import platform "
   ]
  },
  {
   "cell_type": "code",
   "execution_count": 2,
   "id": "dec5117b",
   "metadata": {},
   "outputs": [
    {
     "data": {
      "text/plain": [
       "'3.11.3'"
      ]
     },
     "execution_count": 2,
     "metadata": {},
     "output_type": "execute_result"
    }
   ],
   "source": [
    "platform.python_version()"
   ]
  },
  {
   "cell_type": "code",
   "execution_count": null,
   "id": "bb6cc79d",
   "metadata": {},
   "outputs": [],
   "source": []
  },
  {
   "cell_type": "code",
   "execution_count": null,
   "id": "8934f35b",
   "metadata": {},
   "outputs": [],
   "source": []
  },
  {
   "cell_type": "markdown",
   "id": "973d23f2",
   "metadata": {},
   "source": [
    "## 2.  메서드 오버로딩 "
   ]
  },
  {
   "cell_type": "markdown",
   "id": "e335bb68",
   "metadata": {},
   "source": [
    "## 2-1 디폴트 매개변수(Default Parameters):\n",
    "메서드의 매개변수에 기본값을 지정하여, 해당 매개변수가 전달되지 않으면 기본값이 사용되도록 할 수 있습니다."
   ]
  },
  {
   "cell_type": "code",
   "execution_count": 13,
   "id": "e51ea7b1",
   "metadata": {},
   "outputs": [],
   "source": [
    "class MyClass:\n",
    "    def my_method(self, param1, param2=None):\n",
    "        if param2 is None:\n",
    "            ...# param2가 전달되지 않은 경우 처리\n",
    "        else:\n",
    "            ... # param2가 전달된 경우 처리\n"
   ]
  },
  {
   "cell_type": "code",
   "execution_count": null,
   "id": "1c0e0fa0",
   "metadata": {},
   "outputs": [],
   "source": []
  },
  {
   "cell_type": "markdown",
   "id": "e9a8a850",
   "metadata": {},
   "source": [
    "## 2-2. 가변 인자(*args)와 키워드 인자(**kwargs):\n",
    "가변 인자와 키워드 인자를 사용하면 임의의 개수의 매개변수를 처리할 수 있습니다."
   ]
  },
  {
   "cell_type": "code",
   "execution_count": 14,
   "id": "8cb52898",
   "metadata": {},
   "outputs": [],
   "source": [
    "class MyClass:\n",
    "    def my_method(self, *args, **kwargs):\n",
    "        ... # args는 위치 인자들을 튜플로 받음\n",
    "            # kwargs는 키워드 인자들을 딕셔너리로 받음\n",
    "             # 여기서 임의로 처리하고자 하는 로직을 작성"
   ]
  },
  {
   "cell_type": "code",
   "execution_count": null,
   "id": "11f1413c",
   "metadata": {},
   "outputs": [],
   "source": []
  },
  {
   "cell_type": "markdown",
   "id": "14e2b8f4",
   "metadata": {},
   "source": [
    "## 2-3 . 모듈을 사용한 함수 오버로딩 처리 "
   ]
  },
  {
   "cell_type": "code",
   "execution_count": null,
   "id": "98bcbe17",
   "metadata": {},
   "outputs": [],
   "source": []
  },
  {
   "cell_type": "code",
   "execution_count": 15,
   "id": "1b6a34e8",
   "metadata": {},
   "outputs": [],
   "source": [
    "from functools import singledispatch\n",
    "\n",
    "# 기본 구현\n",
    "@singledispatch\n",
    "def process_data(data):\n",
    "    raise NotImplementedError(\"Unsupported data type\")\n",
    "\n",
    "# 정수형 데이터 처리\n",
    "@process_data.register\n",
    "def _(data: int):\n",
    "    print(f\"Processing integer data: {data}\")\n",
    "\n",
    "# 실수형 데이터 처리\n",
    "@process_data.register\n",
    "def _(data: float):\n",
    "    print(f\"Processing float data: {data}\")\n",
    "\n",
    "# 문자열 데이터 처리\n",
    "@process_data.register\n",
    "def _(data: str):\n",
    "    print(f\"Processing string data: {data}\")\n",
    "\n",
    "# 리스트 데이터 처리\n",
    "@process_data.register\n",
    "def _(data: list):\n",
    "    print(f\"Processing list data: {data}\")\n"
   ]
  },
  {
   "cell_type": "code",
   "execution_count": 16,
   "id": "485883a3",
   "metadata": {},
   "outputs": [
    {
     "name": "stdout",
     "output_type": "stream",
     "text": [
      "Processing integer data: 123\n",
      "Processing float data: 3.14\n",
      "Processing string data: hello\n",
      "Processing list data: [1, 2, 3, 4, 5]\n",
      "Processing integer data: True\n"
     ]
    }
   ],
   "source": [
    "# 사용 예시\n",
    "process_data(123)              # 출력: Processing integer data: 123\n",
    "process_data(3.14)             # 출력: Processing float data: 3.14\n",
    "process_data(\"hello\")          # 출력: Processing string data: hello\n",
    "process_data([1, 2, 3, 4, 5])  # 출력: Processing list data: [1, 2, 3, 4, 5]\n",
    "process_data(True)             # NotImplementedError 발생"
   ]
  },
  {
   "cell_type": "code",
   "execution_count": null,
   "id": "eb5b2bbe",
   "metadata": {},
   "outputs": [],
   "source": []
  },
  {
   "cell_type": "markdown",
   "id": "2e1f0c4c",
   "metadata": {},
   "source": [
    "## 2-4. 여러 매개변수에 대한 오버로딩\n",
    "\n",
    "### 모듈 설치하기 \n",
    "pip install multipledispatch"
   ]
  },
  {
   "cell_type": "code",
   "execution_count": 17,
   "id": "fc3f6366",
   "metadata": {},
   "outputs": [
    {
     "name": "stdout",
     "output_type": "stream",
     "text": [
      "9\n",
      "f(x) = 6\n"
     ]
    }
   ],
   "source": [
    "from multipledispatch import dispatch\n",
    "\n",
    "\n",
    "@dispatch(int, int)\n",
    "def add(x, y):\n",
    "    return x + y\n",
    "\n",
    "\n",
    "@dispatch(str, int)\n",
    "def add(x, y):\n",
    "    return f\"{x} = {y}\"\n",
    "\n",
    "\n",
    "print(add(3, 6))\n",
    "print(add(\"f(x)\", 6))"
   ]
  },
  {
   "cell_type": "code",
   "execution_count": null,
   "id": "6d50e57e",
   "metadata": {},
   "outputs": [],
   "source": []
  },
  {
   "cell_type": "markdown",
   "id": "d423284e",
   "metadata": {},
   "source": [
    "## 2-5. 모듈을 사용한 메서드 오버로딩 처리 "
   ]
  },
  {
   "cell_type": "code",
   "execution_count": 18,
   "id": "3449c21a",
   "metadata": {},
   "outputs": [],
   "source": [
    "from typing import overload\n",
    "\n",
    "class Calculator:\n",
    "    @overload\n",
    "    def add(self, x: int, y: int) -> int: ...\n",
    "\n",
    "    @overload\n",
    "    def add(self, x: float, y: float) -> float: ...\n",
    "\n",
    "    def add(self, x, y):\n",
    "        return x + y"
   ]
  },
  {
   "cell_type": "code",
   "execution_count": 19,
   "id": "dccef73b",
   "metadata": {},
   "outputs": [
    {
     "name": "stdout",
     "output_type": "stream",
     "text": [
      "8\n",
      "6.2\n"
     ]
    }
   ],
   "source": [
    "# 사용 예시\n",
    "calculator = Calculator()\n",
    "\n",
    "result1 = calculator.add(3, 5)\n",
    "print(result1)  # 출력: 8\n",
    "\n",
    "result2 = calculator.add(2.5, 3.7)\n",
    "print(result2)  # 출력: 6.2"
   ]
  },
  {
   "cell_type": "markdown",
   "id": "fa652257",
   "metadata": {},
   "source": [
    "## 2-6. 멀티플디스패치를 이용한 오버로딩 "
   ]
  },
  {
   "cell_type": "code",
   "execution_count": 20,
   "id": "a4b773f3",
   "metadata": {},
   "outputs": [],
   "source": [
    "from multipledispatch import dispatch\n",
    "\n",
    "class Calculator:\n",
    "    @dispatch(int, int)\n",
    "    def add(self, x, y):\n",
    "        print(f\"Adding integers: {x} + {y} = {x + y}\")\n",
    "\n",
    "    @dispatch(float, float)\n",
    "    def add(self, x, y):\n",
    "        print(f\"Adding floats: {x} + {y} = {x + y}\")\n",
    "\n",
    "    @dispatch(str, str)\n",
    "    def add(self, x, y):\n",
    "        print(f\"Concatenating strings: {x} + {y} = {x + y}\")\n"
   ]
  },
  {
   "cell_type": "code",
   "execution_count": 21,
   "id": "82217a2f",
   "metadata": {},
   "outputs": [
    {
     "name": "stdout",
     "output_type": "stream",
     "text": [
      "Adding integers: 5 + 10 = 15\n",
      "Adding floats: 3.14 + 1.618 = 4.758\n",
      "Concatenating strings: Hello,  + world = Hello, world\n"
     ]
    }
   ],
   "source": [
    "# 사용 예시\n",
    "calculator = Calculator()\n",
    "\n",
    "calculator.add(5, 10)          # 출력: Adding integers: 5 + 10 = 15\n",
    "calculator.add(3.14, 1.618)    # 출력: Adding floats: 3.14 + 1.618 = 4.758\n",
    "calculator.add(\"Hello, \", \"world\")  # 출력: Concatenating strings: Hello,  + world = Hello, world"
   ]
  },
  {
   "cell_type": "code",
   "execution_count": null,
   "id": "b339c62f",
   "metadata": {},
   "outputs": [],
   "source": []
  }
 ],
 "metadata": {
  "kernelspec": {
   "display_name": "Python 3 (ipykernel)",
   "language": "python",
   "name": "python3"
  },
  "language_info": {
   "codemirror_mode": {
    "name": "ipython",
    "version": 3
   },
   "file_extension": ".py",
   "mimetype": "text/x-python",
   "name": "python",
   "nbconvert_exporter": "python",
   "pygments_lexer": "ipython3",
   "version": "3.11.3"
  }
 },
 "nbformat": 4,
 "nbformat_minor": 5
}
