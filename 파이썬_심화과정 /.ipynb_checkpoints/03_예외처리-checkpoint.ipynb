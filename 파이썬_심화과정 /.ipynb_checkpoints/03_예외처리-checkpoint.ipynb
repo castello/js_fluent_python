{
 "cells": [
  {
   "cell_type": "code",
   "execution_count": 1,
   "id": "6c0aea23",
   "metadata": {},
   "outputs": [
    {
     "data": {
      "text/plain": [
       "'3.11.3'"
      ]
     },
     "execution_count": 1,
     "metadata": {},
     "output_type": "execute_result"
    }
   ],
   "source": [
    "import platform\n",
    "\n",
    "platform.python_version()"
   ]
  },
  {
   "cell_type": "markdown",
   "id": "bd6162a2",
   "metadata": {},
   "source": [
    "## 1. 파이썬에서 예외(Exception) 처리는 \n",
    "- 프로그램 실행 중에 발생할 수 있는 오류나 예외 상황을 처리하는 메커니즘을 말합니다. \n",
    "- 예외 처리를 통해 프로그램이 비정상적으로 종료되는 것을 방지하고, 오류가 발생해도 graceful한 방식으로 처리할 수 있습니다. \n",
    "- 파이썬에서는 try, except, finally 등의 키워드를 사용하여 예외 처리를 구현할 수 있습니다"
   ]
  },
  {
   "cell_type": "code",
   "execution_count": 1,
   "id": "ca263c8e",
   "metadata": {},
   "outputs": [
    {
     "name": "stdout",
     "output_type": "stream",
     "text": [
      "정수를 입력하세요: 900\n",
      "결과: 0.011111111111111112\n",
      "예외 없이 성공적으로 실행되었습니다.\n",
      "종료합니다.\n"
     ]
    }
   ],
   "source": [
    "try:\n",
    "    # 예외가 발생할 수 있는 코드 블록\n",
    "    num = int(input(\"정수를 입력하세요: \"))\n",
    "    result = 10 / num\n",
    "    print(\"결과:\", result)\n",
    "except ZeroDivisionError:\n",
    "    # 0으로 나누기 예외 처리\n",
    "    print(\"0으로 나눌 수 없습니다.\")\n",
    "except ValueError:\n",
    "    # 변환 오류 예외 처리\n",
    "    print(\"올바른 정수를 입력하세요.\")\n",
    "except Exception as e:\n",
    "    # 기타 예외 처리 (모든 예외의 범주)\n",
    "    print(\"오류가 발생했습니다:\", e)\n",
    "else:\n",
    "    # 예외가 발생하지 않은 경우 실행\n",
    "    print(\"예외 없이 성공적으로 실행되었습니다.\")\n",
    "finally:\n",
    "    # 예외 발생 여부와 관계없이 항상 실행\n",
    "    print(\"종료합니다.\")\n"
   ]
  },
  {
   "cell_type": "code",
   "execution_count": null,
   "id": "8ed5c67c",
   "metadata": {},
   "outputs": [],
   "source": []
  },
  {
   "cell_type": "code",
   "execution_count": null,
   "id": "47d680f9",
   "metadata": {},
   "outputs": [],
   "source": []
  },
  {
   "cell_type": "markdown",
   "id": "bc1cf1cb",
   "metadata": {},
   "source": [
    "## 2. 예외 속성 알아보기 \n",
    "\n",
    "예외 객체에는 다양한 속성(attribute)들이 있습니다. \n",
    "\n",
    "\n",
    "- args: 예외 메시지와 관련된 매개변수들의 튜플\n",
    "- `__cause__`: 현재 예외의 원인(이전 예외)을 나타내는 예외 객체\n",
    "- `__context__`: 현재 예외를 둘러싼 추가적인 문맥을 나타내는 예외 객체\n",
    "- `__traceback__`: 예외가 발생한 스택 트레이스(traceback) 정보"
   ]
  },
  {
   "cell_type": "code",
   "execution_count": 6,
   "id": "7adec053",
   "metadata": {},
   "outputs": [
    {
     "name": "stdout",
     "output_type": "stream",
     "text": [
      "0으로 나눌 수 없습니다: division by zero\n"
     ]
    }
   ],
   "source": [
    "def divide(x, y):\n",
    "    try:\n",
    "        result = x / y\n",
    "    except ZeroDivisionError as e:\n",
    "        print(\"0으로 나눌 수 없습니다:\", e)\n",
    "    except Exception as e:\n",
    "        print(\"오류가 발생했습니다:\", e)\n",
    "        print(\"예외 메시지:\", e.args)\n",
    "        print(\"원인 예외:\", e.__cause__)\n",
    "        print(\"문맥 예외:\", e.__context__)\n",
    "        print(\"스택 트레이스:\", e.__traceback__)\n",
    "\n",
    "try:\n",
    "    divide(10, 0)\n",
    "except ZeroDivisionError as e:\n",
    "    print(\"사용자 정의 예외 발생:\", e)\n",
    "except Exception as e:\n",
    "    print(\"오류가 발생했습니다:\", e)\n"
   ]
  },
  {
   "cell_type": "code",
   "execution_count": null,
   "id": "9444619f",
   "metadata": {},
   "outputs": [],
   "source": []
  },
  {
   "cell_type": "code",
   "execution_count": 7,
   "id": "7eb880ca",
   "metadata": {},
   "outputs": [],
   "source": [
    "def divide(x, y):\n",
    "    try:\n",
    "        result = x / y\n",
    "    except Exception as e:\n",
    "        print(\"오류가 발생했습니다:\", e)\n",
    "        print(\"예외 메시지:\", e.args)\n",
    "        print(\"원인 예외:\", e.__cause__)\n",
    "        print(\"문맥 예외:\", e.__context__)\n",
    "        print(\"스택 트레이스:\", e.__traceback__)"
   ]
  },
  {
   "cell_type": "code",
   "execution_count": 8,
   "id": "bd801fec",
   "metadata": {},
   "outputs": [
    {
     "name": "stdout",
     "output_type": "stream",
     "text": [
      "오류가 발생했습니다: division by zero\n",
      "예외 메시지: ('division by zero',)\n",
      "원인 예외: None\n",
      "문맥 예외: None\n",
      "스택 트레이스: <traceback object at 0x1077e3c00>\n"
     ]
    }
   ],
   "source": [
    "divide(10, 0)"
   ]
  },
  {
   "cell_type": "code",
   "execution_count": null,
   "id": "7254b507",
   "metadata": {},
   "outputs": [],
   "source": []
  },
  {
   "cell_type": "markdown",
   "id": "603096fc",
   "metadata": {},
   "source": [
    "## traceback \n",
    "\n",
    "- e.__traceback__는 파이썬 예외 객체에서 발생한 예외의 스택 트레이스(traceback) 정보를 나타내는 속성입니다. \n",
    "- 스택 트레이스는 예외가 발생한 위치와 그 이전의 호출 스택 정보를 포함하고 있어서 어떤 함수나 메서드 호출 시점에서 예외가 발생했는지를 추적할 수 있게 도와줍니다."
   ]
  },
  {
   "cell_type": "code",
   "execution_count": 9,
   "id": "b06acd02",
   "metadata": {},
   "outputs": [
    {
     "name": "stdout",
     "output_type": "stream",
     "text": [
      "예외 발생: 예외 발생!\n"
     ]
    },
    {
     "name": "stderr",
     "output_type": "stream",
     "text": [
      "  File \"/var/folders/h4/44486vyn1_xbs13g1z50l5m00000gn/T/ipykernel_32254/1543814513.py\", line 10, in <module>\n",
      "    bar()\n",
      "  File \"/var/folders/h4/44486vyn1_xbs13g1z50l5m00000gn/T/ipykernel_32254/1543814513.py\", line 7, in bar\n",
      "    foo()\n",
      "  File \"/var/folders/h4/44486vyn1_xbs13g1z50l5m00000gn/T/ipykernel_32254/1543814513.py\", line 4, in foo\n",
      "    raise ValueError(\"예외 발생!\")\n"
     ]
    }
   ],
   "source": [
    "import traceback\n",
    "\n",
    "def foo():\n",
    "    raise ValueError(\"예외 발생!\")\n",
    "\n",
    "def bar():\n",
    "    foo()\n",
    "\n",
    "try:\n",
    "    bar()\n",
    "except Exception as e:\n",
    "    print(\"예외 발생:\", e)\n",
    "    traceback.print_tb(e.__traceback__)"
   ]
  },
  {
   "cell_type": "code",
   "execution_count": null,
   "id": "69a4d42c",
   "metadata": {},
   "outputs": [],
   "source": []
  },
  {
   "cell_type": "code",
   "execution_count": null,
   "id": "24c2a536",
   "metadata": {},
   "outputs": [],
   "source": []
  },
  {
   "cell_type": "markdown",
   "id": "4e86a295",
   "metadata": {},
   "source": [
    "## 3. 사용자 정의 예외 만들기"
   ]
  },
  {
   "cell_type": "markdown",
   "id": "14130d0d",
   "metadata": {},
   "source": [
    "## 사용자 예외 정의하기"
   ]
  },
  {
   "cell_type": "code",
   "execution_count": null,
   "id": "47fd5214",
   "metadata": {},
   "outputs": [],
   "source": []
  },
  {
   "cell_type": "code",
   "execution_count": 3,
   "id": "10f31afe",
   "metadata": {},
   "outputs": [],
   "source": [
    "# 사용자 예외 클래스 정의\n",
    "class MyCustomError(Exception):\n",
    "    def __init__(self, message):\n",
    "        self.message = message\n",
    "        super().__init__(self.message)"
   ]
  },
  {
   "cell_type": "code",
   "execution_count": null,
   "id": "84645481",
   "metadata": {},
   "outputs": [],
   "source": []
  },
  {
   "cell_type": "code",
   "execution_count": 4,
   "id": "c8fdf7f9",
   "metadata": {},
   "outputs": [],
   "source": [
    "def validate_age(age):\n",
    "    if age < 0:\n",
    "        raise MyCustomError(\"나이는 음수일 수 없습니다.\")\n",
    "    if age > 120:\n",
    "        raise MyCustomError(\"나이가 너무 큽니다.\")"
   ]
  },
  {
   "cell_type": "code",
   "execution_count": 5,
   "id": "cf4626f7",
   "metadata": {},
   "outputs": [
    {
     "name": "stdout",
     "output_type": "stream",
     "text": [
      "나이를 입력하세요: 999\n",
      "사용자 정의 예외 발생: 나이가 너무 큽니다.\n",
      "종료합니다.\n"
     ]
    }
   ],
   "source": [
    "try:\n",
    "    user_age = int(input(\"나이를 입력하세요: \"))\n",
    "    validate_age(user_age)\n",
    "except MyCustomError as e:\n",
    "    print(\"사용자 정의 예외 발생:\", e)\n",
    "except Exception as e:\n",
    "    print(\"오류가 발생했습니다:\", e)\n",
    "else:\n",
    "    print(\"나이가 정상적으로 입력되었습니다.\")\n",
    "finally:\n",
    "    print(\"종료합니다.\")\n"
   ]
  },
  {
   "cell_type": "code",
   "execution_count": null,
   "id": "323750fd",
   "metadata": {},
   "outputs": [],
   "source": []
  },
  {
   "cell_type": "markdown",
   "id": "65f16e04",
   "metadata": {},
   "source": [
    "## 사용자 에외에 속성 추가하기 "
   ]
  },
  {
   "cell_type": "code",
   "execution_count": 11,
   "id": "a162d9a5",
   "metadata": {},
   "outputs": [
    {
     "name": "stdout",
     "output_type": "stream",
     "text": [
      "정수를 입력하세요: ㅐㅔ\n",
      "오류 코드 1: 올바른 정수를 입력하세요.\n"
     ]
    }
   ],
   "source": [
    "class MyCustomError(Exception):\n",
    "    def __init__(self, message, code):\n",
    "        self.message = message\n",
    "        self.code = code\n",
    "        super().__init__(self.message)\n",
    "\n",
    "try:\n",
    "    user_input = input(\"정수를 입력하세요: \")\n",
    "    if not user_input.isdigit():\n",
    "        raise MyCustomError(\"올바른 정수를 입력하세요.\", code=1)\n",
    "    value = int(user_input)\n",
    "    if value < 0:\n",
    "        raise MyCustomError(\"양수만 입력하세요.\", code=2)\n",
    "except MyCustomError as e:\n",
    "    if e.code == 1:\n",
    "        print(\"오류 코드 1:\", e.message)\n",
    "    elif e.code == 2:\n",
    "        print(\"오류 코드 2:\", e.message)\n",
    "except Exception as e:\n",
    "    print(\"오류가 발생했습니다:\", e)\n"
   ]
  },
  {
   "cell_type": "code",
   "execution_count": null,
   "id": "264a1a5f",
   "metadata": {},
   "outputs": [],
   "source": []
  }
 ],
 "metadata": {
  "kernelspec": {
   "display_name": "Python 3 (ipykernel)",
   "language": "python",
   "name": "python3"
  },
  "language_info": {
   "codemirror_mode": {
    "name": "ipython",
    "version": 3
   },
   "file_extension": ".py",
   "mimetype": "text/x-python",
   "name": "python",
   "nbconvert_exporter": "python",
   "pygments_lexer": "ipython3",
   "version": "3.11.3"
  }
 },
 "nbformat": 4,
 "nbformat_minor": 5
}
