{
 "cells": [
  {
   "cell_type": "code",
   "execution_count": null,
   "id": "1276486f",
   "metadata": {},
   "outputs": [],
   "source": []
  },
  {
   "cell_type": "code",
   "execution_count": 12,
   "id": "3b4f9732",
   "metadata": {},
   "outputs": [
    {
     "data": {
      "text/plain": [
       "'3.11.3'"
      ]
     },
     "execution_count": 12,
     "metadata": {},
     "output_type": "execute_result"
    }
   ],
   "source": [
    "import platform\n",
    "\n",
    "platform.python_version()"
   ]
  },
  {
   "cell_type": "code",
   "execution_count": null,
   "id": "0270cfba",
   "metadata": {},
   "outputs": [],
   "source": []
  },
  {
   "cell_type": "markdown",
   "id": "67517422",
   "metadata": {},
   "source": [
    "## 동적 언어에서의 타입 검사\n",
    "- 파이썬은 동적 언어로 잘 알려진 언어입니다. 즉, 변수의 타입을 일일이 명시하지 않아도 되고, 특정 변수의 타입이 중간에 바뀌어도 됩니다. \n",
    "- 파이썬과 같은 동적 언어는 C, Java, Rust 등의 정적 언어보다 배우기도 쉽고, 좀 더 빠르게 프로그래밍이 가능하다는 장점이 있습니다. \n",
    "- 하지만, 잘못된 타입을 사용하여 예상치 못한 에러를 만들어내고, 이로 인해 프로그램이 망가질 수 있다는 단점도 있습니다. \n",
    "- 코드 양이 많아지고 복잡해질수록 잘못된 타입으로 인한 에러를 만날 확률이 높아지겠죠.\n",
    "\n"
   ]
  },
  {
   "cell_type": "markdown",
   "id": "f35cd5f3",
   "metadata": {},
   "source": [
    "## 이렇게 타입을 명시하면 다음과 같은 이점을 얻을 수 있습니다.\n",
    "\n",
    "###  코드의 가독성이 증가합니다.\n",
    "- 코드에 추가적인 정보 (타입)을 제공함으로써 코드에 대한 이해도가 증가합니다.\n",
    "\n",
    "### IDE의 도움을 받으면 코드의 생산성이 증가합니다.\n",
    "- vscode와 같은 현대 IDE에서는 명시한 타입을 코드를 작성할 때 보여주거나, 자동 완성해주는 기능을 가지고 있습니다. \n"
   ]
  },
  {
   "cell_type": "code",
   "execution_count": null,
   "id": "dc08c31c",
   "metadata": {},
   "outputs": [],
   "source": []
  },
  {
   "cell_type": "code",
   "execution_count": null,
   "id": "f433afcc",
   "metadata": {},
   "outputs": [],
   "source": []
  },
  {
   "cell_type": "markdown",
   "id": "6ed84378",
   "metadata": {},
   "source": [
    "## 1. 기본 제공 자료형으로 타입 주석 처리 "
   ]
  },
  {
   "cell_type": "markdown",
   "id": "33808437",
   "metadata": {},
   "source": [
    "## 1-1  기본 자료형 사용해서 타입주석 처리 "
   ]
  },
  {
   "cell_type": "code",
   "execution_count": 2,
   "id": "83e3868e",
   "metadata": {},
   "outputs": [],
   "source": [
    "# 변수 주석을 사용하여 변수의 타입 정보 추가하기\n",
    "name: str = \"Alice\"\n",
    "age: int = 30\n",
    "height: float = 175.5\n"
   ]
  },
  {
   "cell_type": "markdown",
   "id": "6f80089a",
   "metadata": {},
   "source": [
    "## 1-2 리스트, 튜플, 딕셔너리 타입주석 확인 "
   ]
  },
  {
   "cell_type": "code",
   "execution_count": 1,
   "id": "0241476b",
   "metadata": {},
   "outputs": [],
   "source": [
    "lll : list = [1,2,3,4]"
   ]
  },
  {
   "cell_type": "code",
   "execution_count": 3,
   "id": "c797af8e",
   "metadata": {},
   "outputs": [],
   "source": [
    "ttt : tuple = (1,2,3,4)"
   ]
  },
  {
   "cell_type": "code",
   "execution_count": 4,
   "id": "c730cf4c",
   "metadata": {},
   "outputs": [],
   "source": [
    "ddd : dict =  {1:2,3:4}"
   ]
  },
  {
   "cell_type": "markdown",
   "id": "4f53da2e",
   "metadata": {},
   "source": [
    "## 리스트, 튜플, 딕셔너리 주석에 구성된 타입 지정\n",
    "- 3.9 버전 이상부터 제공"
   ]
  },
  {
   "cell_type": "code",
   "execution_count": 10,
   "id": "715706ef",
   "metadata": {},
   "outputs": [],
   "source": [
    "names: list[str]\n",
    "locatlion: tuple[int, int]\n",
    "map: dict[str, str]"
   ]
  },
  {
   "cell_type": "code",
   "execution_count": null,
   "id": "e69a75c7",
   "metadata": {},
   "outputs": [],
   "source": []
  },
  {
   "cell_type": "code",
   "execution_count": null,
   "id": "5670783c",
   "metadata": {},
   "outputs": [],
   "source": []
  },
  {
   "cell_type": "code",
   "execution_count": null,
   "id": "a17d8cbc",
   "metadata": {},
   "outputs": [],
   "source": []
  },
  {
   "cell_type": "code",
   "execution_count": null,
   "id": "32dc341d",
   "metadata": {},
   "outputs": [],
   "source": []
  },
  {
   "cell_type": "markdown",
   "id": "868873c3",
   "metadata": {},
   "source": [
    "## 2. typing 모듈로 타입힌트 \n",
    "\n",
    "- 파이썬 3.5부터 도입된 타입 힌트(Type Hints)를 지원하는 모듈로, 코드의 가독성과 유지보수성을 높이기 위해 사용됩니다. \n",
    "- typing 모듈은 다양한 타입을 정의하고 조합하여 함수, 클래스, 변수 등에 타입 정보를 추가할 수 있는 기능을 제공합니다."
   ]
  },
  {
   "cell_type": "markdown",
   "id": "13c0626c",
   "metadata": {},
   "source": [
    "## 2-1 기초 타입 알아보기\n",
    "\n",
    "- 파이썬의 빌트인 타입인 int, str만으로는 우리가 원하는 모든 타입을 명확하게 명시할 수 없습니다. \n",
    "- 이런 경우에는 파이썬의 typing모듈의 도움을 받으면 됩니다. \n"
   ]
  },
  {
   "cell_type": "code",
   "execution_count": null,
   "id": "ac4c749c",
   "metadata": {},
   "outputs": [],
   "source": []
  },
  {
   "cell_type": "markdown",
   "id": "b8cdcc3b",
   "metadata": {},
   "source": [
    "## 2-1-1. typing.Union\n",
    "- 하나의 함수의 인자에 여러 타입이 사용될 수 있을 때는 typing.Union을 사용하면 됩니다."
   ]
  },
  {
   "cell_type": "code",
   "execution_count": 6,
   "id": "01ee6261",
   "metadata": {},
   "outputs": [
    {
     "name": "stdout",
     "output_type": "stream",
     "text": [
      "5.0\n",
      "6.0\n"
     ]
    }
   ],
   "source": [
    "from typing import Union\n",
    "\n",
    "def square_root(number: Union[int, float]) -> float:\n",
    "    return number ** 0.5\n",
    "\n",
    "# 정수 타입 사용\n",
    "result1 = square_root(25)\n",
    "print(result1)  # 출력: 5.0\n",
    "\n",
    "# 부동소수점 타입 사용\n",
    "result2 = square_root(36.0)\n",
    "print(result2)  # 출력: 6.0\n"
   ]
  },
  {
   "cell_type": "code",
   "execution_count": null,
   "id": "855f91f6",
   "metadata": {},
   "outputs": [],
   "source": []
  },
  {
   "cell_type": "code",
   "execution_count": 7,
   "id": "149eb00e",
   "metadata": {},
   "outputs": [
    {
     "name": "stdout",
     "output_type": "stream",
     "text": [
      "unsupported operand type(s) for ** or pow(): 'str' and 'float'\n"
     ]
    }
   ],
   "source": [
    "try :\n",
    "    # 타입 불일치 오류 발생\n",
    "    result3 = square_root(\"49\")\n",
    "except Exception as e :\n",
    "    print(e)"
   ]
  },
  {
   "cell_type": "code",
   "execution_count": null,
   "id": "9459a3fc",
   "metadata": {},
   "outputs": [],
   "source": []
  },
  {
   "cell_type": "markdown",
   "id": "017613a1",
   "metadata": {},
   "source": [
    "### 2-1-2. typing.Optional\n",
    "- typing.Optional은 파이썬 타입 힌트 모듈인 typing에서 제공하는 기능 중 하나로, 특정 타입 또는 None 값을 가질 수 있는 타입을 정의하는 데 사용됩니다.\n",
    "- 즉, Optional은 지정한 타입과 None 중 하나를 나타내는 옵셔널 타입(Optional Type)을 생성하는 데 사용됩니다. \n",
    "- 이를 통해 변수나 매개변수가 특정 타입 또는 None 값을 가질 수 있음을 나타낼 수 있습니다."
   ]
  },
  {
   "cell_type": "code",
   "execution_count": null,
   "id": "8379a343",
   "metadata": {},
   "outputs": [],
   "source": []
  },
  {
   "cell_type": "code",
   "execution_count": 9,
   "id": "9e1aae93",
   "metadata": {},
   "outputs": [
    {
     "name": "stdout",
     "output_type": "stream",
     "text": [
      "Mr. Name\n",
      "Unknown\n"
     ]
    }
   ],
   "source": [
    "from typing import Optional\n",
    "\n",
    "def get_name(prefix: Optional[str]) -> str:  ## str타입 또는 None값을 받음\n",
    "    if prefix is None:\n",
    "        return \"Unknown\"\n",
    "    return prefix + \" Name\"\n",
    "\n",
    "result1 = get_name(\"Mr.\")\n",
    "print(result1)  # 출력: \"Mr. Name\"\n",
    "\n",
    "result2 = get_name(None)\n",
    "print(result2)  # 출력: \"Unknown\"\n"
   ]
  },
  {
   "cell_type": "code",
   "execution_count": null,
   "id": "7c20bcd3",
   "metadata": {},
   "outputs": [],
   "source": []
  },
  {
   "cell_type": "markdown",
   "id": "6df4a975",
   "metadata": {},
   "source": [
    "## 2-1-3. typing.List, typing.Tuple, typing.Dict"
   ]
  },
  {
   "cell_type": "code",
   "execution_count": null,
   "id": "14192f7f",
   "metadata": {},
   "outputs": [],
   "source": []
  },
  {
   "cell_type": "code",
   "execution_count": 16,
   "id": "a29b10ff",
   "metadata": {},
   "outputs": [],
   "source": [
    "from typing import Dict,Tuple, List"
   ]
  },
  {
   "cell_type": "code",
   "execution_count": 10,
   "id": "5a4a3dca",
   "metadata": {},
   "outputs": [],
   "source": [
    "coordinates: Tuple[float, float] = (12.34, 56.78)"
   ]
  },
  {
   "cell_type": "code",
   "execution_count": null,
   "id": "1ae2fc35",
   "metadata": {},
   "outputs": [],
   "source": []
  },
  {
   "cell_type": "code",
   "execution_count": 7,
   "id": "6d4f8bc2",
   "metadata": {},
   "outputs": [],
   "source": [
    "\n",
    "\n",
    "# 문자열을 키로 가지고 정수를 값으로 가지는 딕셔너리 타입\n",
    "student_scores: Dict[str, int] = {\n",
    "    \"Alice\": 90,\n",
    "    \"Bob\": 85,\n",
    "    \"Charlie\": 95\n",
    "}\n",
    "\n",
    "# 정수를 키로 가지고 문자열을 값으로 가지는 딕셔너리 타입\n",
    "employee_names: Dict[int, str] = {\n",
    "    1: \"John\",\n",
    "    2: \"Jane\",\n",
    "    3: \"Alex\"\n",
    "}\n"
   ]
  },
  {
   "cell_type": "code",
   "execution_count": null,
   "id": "3a52029a",
   "metadata": {},
   "outputs": [],
   "source": []
  },
  {
   "cell_type": "code",
   "execution_count": null,
   "id": "38ef0b3d",
   "metadata": {},
   "outputs": [],
   "source": []
  },
  {
   "cell_type": "code",
   "execution_count": 9,
   "id": "f1144f3a",
   "metadata": {},
   "outputs": [],
   "source": [
    "user_data: Dict[str, Union[str, int]] = {\"name\": \"Bob\", \"age\": 25}"
   ]
  },
  {
   "cell_type": "code",
   "execution_count": null,
   "id": "83df5683",
   "metadata": {},
   "outputs": [],
   "source": []
  },
  {
   "cell_type": "markdown",
   "id": "169ebc0e",
   "metadata": {},
   "source": [
    "## 2-1-4. typing.TypedDict\n",
    "- 딕셔너리의 경우 밸류의 타입이 하나로 고정되는 일만 있는 것은 아닙니다. 이럴 때는 TypedDict를 활용할 수 있습니다. \n",
    "- TypedDict를 상속받은 클래스를 만드신 다음 아래와 같이 키와 밸류의 타입을 매칭 시켜주면 됩니다. (파이썬 3.8부터 지원)"
   ]
  },
  {
   "cell_type": "code",
   "execution_count": 11,
   "id": "139504ae",
   "metadata": {},
   "outputs": [],
   "source": [
    "from typing import TypedDict\n",
    "\n",
    "# TypedDict 정의\n",
    "class Person(TypedDict):\n",
    "    name: str\n",
    "    age: int\n",
    "\n",
    "# TypedDict를 사용하여 딕셔너리 생성\n",
    "person_info: Person = {\"name\": \"Alice\", \"age\": 30}\n",
    "\n",
    "# 타입 불일치 오류 발생\n",
    "invalid_person_info: Person = {\"name\": \"Bob\", \"gender\": \"Male\"}\n"
   ]
  },
  {
   "cell_type": "code",
   "execution_count": null,
   "id": "1870cd4d",
   "metadata": {},
   "outputs": [],
   "source": []
  },
  {
   "cell_type": "code",
   "execution_count": 16,
   "id": "10e36a2b",
   "metadata": {},
   "outputs": [
    {
     "name": "stderr",
     "output_type": "stream",
     "text": [
      "/var/folders/h4/44486vyn1_xbs13g1z50l5m00000gn/T/ipykernel_19771/3912624409.py:1: DeprecationWarning: The kwargs-based syntax for TypedDict definitions is deprecated in Python 3.11, will be removed in Python 3.13, and may not be understood by third-party type checkers.\n",
      "  Person = TypedDict(\"Person\", name=str, age=str, gender=str)\n"
     ]
    }
   ],
   "source": [
    "Person = TypedDict(\"Person\", name=str, age=str, gender=str)"
   ]
  },
  {
   "cell_type": "code",
   "execution_count": null,
   "id": "7e71f996",
   "metadata": {},
   "outputs": [],
   "source": []
  },
  {
   "cell_type": "code",
   "execution_count": 15,
   "id": "b6cb77e9",
   "metadata": {},
   "outputs": [],
   "source": [
    "Person = TypedDict(\"Person\", {\"name\": str, \"age\": int, \"gender\": str})"
   ]
  },
  {
   "cell_type": "code",
   "execution_count": null,
   "id": "15337de9",
   "metadata": {},
   "outputs": [],
   "source": []
  },
  {
   "cell_type": "code",
   "execution_count": null,
   "id": "40a8bcfd",
   "metadata": {},
   "outputs": [],
   "source": []
  },
  {
   "cell_type": "markdown",
   "id": "86ab8a25",
   "metadata": {},
   "source": [
    "## 2-1-5. typing.Generator, typing.Iterable, typing.Iterator"
   ]
  },
  {
   "cell_type": "code",
   "execution_count": null,
   "id": "b608644b",
   "metadata": {},
   "outputs": [],
   "source": []
  },
  {
   "cell_type": "code",
   "execution_count": null,
   "id": "542d4965",
   "metadata": {},
   "outputs": [],
   "source": []
  },
  {
   "cell_type": "code",
   "execution_count": null,
   "id": "f4a20065",
   "metadata": {},
   "outputs": [],
   "source": []
  },
  {
   "cell_type": "code",
   "execution_count": null,
   "id": "1e046cc7",
   "metadata": {},
   "outputs": [],
   "source": []
  },
  {
   "cell_type": "code",
   "execution_count": null,
   "id": "b4e02e63",
   "metadata": {},
   "outputs": [],
   "source": []
  },
  {
   "cell_type": "markdown",
   "id": "3ceec053",
   "metadata": {},
   "source": [
    "## 3. 함수와 클래스에 확장하기 "
   ]
  },
  {
   "cell_type": "markdown",
   "id": "fead6ac2",
   "metadata": {},
   "source": [
    "## 함수 매개변수 대한 타입힘트 "
   ]
  },
  {
   "cell_type": "code",
   "execution_count": 13,
   "id": "f8a84f52",
   "metadata": {},
   "outputs": [],
   "source": [
    "# 변수 주석을 사용하여 함수의 반환 값 타입 명시하기\n",
    "def calculate_square(x: int) -> int:\n",
    "    return x * x"
   ]
  },
  {
   "cell_type": "code",
   "execution_count": null,
   "id": "da820a77",
   "metadata": {},
   "outputs": [],
   "source": []
  },
  {
   "cell_type": "code",
   "execution_count": null,
   "id": "86042f4a",
   "metadata": {},
   "outputs": [],
   "source": []
  },
  {
   "cell_type": "markdown",
   "id": "720448e1",
   "metadata": {},
   "source": [
    "## 클래스에서의 타입힌트 "
   ]
  },
  {
   "cell_type": "code",
   "execution_count": 14,
   "id": "8a14adac",
   "metadata": {},
   "outputs": [],
   "source": [
    "class ShoppingCart:\n",
    "    def __init__(self, items: List[str]):\n",
    "        self.items = items\n",
    "    \n",
    "    def add_item(self, item: str) -> None:\n",
    "        self.items.append(item)\n",
    "    \n",
    "    def get_items(self) -> List[str]:\n",
    "        return self.items\n"
   ]
  },
  {
   "cell_type": "code",
   "execution_count": null,
   "id": "abd97c69",
   "metadata": {},
   "outputs": [],
   "source": []
  },
  {
   "cell_type": "code",
   "execution_count": 15,
   "id": "d8be14a6",
   "metadata": {},
   "outputs": [
    {
     "name": "stdout",
     "output_type": "stream",
     "text": [
      "['apple', 'banana', 'orange']\n"
     ]
    }
   ],
   "source": [
    "# 사용 예시\n",
    "cart = ShoppingCart(items=[\"apple\", \"banana\"])\n",
    "cart.add_item(\"orange\")\n",
    "items = cart.get_items()\n",
    "print(items)  # 출력: ['apple', 'banana', 'orange']"
   ]
  },
  {
   "cell_type": "code",
   "execution_count": null,
   "id": "1b617d7d",
   "metadata": {},
   "outputs": [],
   "source": []
  },
  {
   "cell_type": "markdown",
   "id": "f10796ca",
   "metadata": {},
   "source": [
    "## 클래스 알아보기 "
   ]
  },
  {
   "cell_type": "code",
   "execution_count": 20,
   "id": "854c0c33",
   "metadata": {},
   "outputs": [
    {
     "name": "stdout",
     "output_type": "stream",
     "text": [
      "__call__, __class__, __delattr__, __dict__, __dir__, __doc__, __eq__, __format__, __ge__, __getattr__, __getattribute__, __getitem__, __getstate__, __gt__, __hash__, __init__, __init_subclass__, __instancecheck__, __iter__, __le__, __lt__, __module__, __mro_entries__, __ne__, __new__, __or__, __origin__, __reduce__, __reduce_ex__, __repr__, __ror__, __setattr__, __sizeof__, __slots__, __str__, __subclasscheck__, __subclasshook__, __weakref__, _inst, _name, _nparams, append, clear, copy, copy_with, count, extend, index, insert, pop, remove, reverse, sort, "
     ]
    }
   ],
   "source": [
    "for i in dir(List) :\n",
    "    print(i,end=\", \")"
   ]
  },
  {
   "cell_type": "code",
   "execution_count": 23,
   "id": "229c2e56",
   "metadata": {},
   "outputs": [
    {
     "name": "stdout",
     "output_type": "stream",
     "text": [
      "Type List cannot be instantiated; use list() instead\n"
     ]
    }
   ],
   "source": [
    "try :\n",
    "    List(\"123\")\n",
    "except TypeError as e :\n",
    "    print(e)"
   ]
  },
  {
   "cell_type": "code",
   "execution_count": 24,
   "id": "87b535fd",
   "metadata": {},
   "outputs": [],
   "source": [
    "a : List = list(\"123\")"
   ]
  },
  {
   "cell_type": "code",
   "execution_count": 25,
   "id": "7610236d",
   "metadata": {},
   "outputs": [
    {
     "data": {
      "text/plain": [
       "['1', '2', '3']"
      ]
     },
     "execution_count": 25,
     "metadata": {},
     "output_type": "execute_result"
    }
   ],
   "source": [
    "a"
   ]
  },
  {
   "cell_type": "code",
   "execution_count": null,
   "id": "f4586d54",
   "metadata": {},
   "outputs": [],
   "source": []
  },
  {
   "cell_type": "markdown",
   "id": "33a0a8a8",
   "metadata": {},
   "source": [
    "## 메서드는 작동한다 "
   ]
  },
  {
   "cell_type": "code",
   "execution_count": 27,
   "id": "8b8841a3",
   "metadata": {},
   "outputs": [
    {
     "data": {
      "text/plain": [
       "'3'"
      ]
     },
     "execution_count": 27,
     "metadata": {},
     "output_type": "execute_result"
    }
   ],
   "source": [
    "List.pop(a)"
   ]
  },
  {
   "cell_type": "code",
   "execution_count": 28,
   "id": "50384cf3",
   "metadata": {},
   "outputs": [
    {
     "data": {
      "text/plain": [
       "'2'"
      ]
     },
     "execution_count": 28,
     "metadata": {},
     "output_type": "execute_result"
    }
   ],
   "source": [
    "a.pop()"
   ]
  },
  {
   "cell_type": "code",
   "execution_count": null,
   "id": "1868460d",
   "metadata": {},
   "outputs": [],
   "source": []
  }
 ],
 "metadata": {
  "kernelspec": {
   "display_name": "Python 3 (ipykernel)",
   "language": "python",
   "name": "python3"
  },
  "language_info": {
   "codemirror_mode": {
    "name": "ipython",
    "version": 3
   },
   "file_extension": ".py",
   "mimetype": "text/x-python",
   "name": "python",
   "nbconvert_exporter": "python",
   "pygments_lexer": "ipython3",
   "version": "3.11.3"
  }
 },
 "nbformat": 4,
 "nbformat_minor": 5
}
