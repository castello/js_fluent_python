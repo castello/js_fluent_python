{
 "cells": [
  {
   "cell_type": "code",
   "execution_count": null,
   "id": "f34b14f5",
   "metadata": {},
   "outputs": [],
   "source": []
  },
  {
   "cell_type": "markdown",
   "id": "6a33a436",
   "metadata": {},
   "source": [
    "## `__str__`  `__repr__` `__format__`"
   ]
  },
  {
   "cell_type": "markdown",
   "id": "5183edd0",
   "metadata": {},
   "source": [
    "## `__str__ `메서드:\n",
    "\n",
    "- print() 함수나 str() 함수를 사용하여 인스턴스를 출력할 때 호출됩니다.\n",
    "- 사용자 친화적인 형태의 문자열을 반환하는 것이 일반적입니다.\n",
    "- str() 함수로 변환할 때 주로 사용됩니다."
   ]
  },
  {
   "cell_type": "code",
   "execution_count": 2,
   "id": "448f691d",
   "metadata": {},
   "outputs": [],
   "source": [
    "class MyClass:\n",
    "    def __init__(self, value):\n",
    "        self.value = value\n",
    "    \n",
    "    def __str__(self):\n",
    "        return f\"MyClass 의 값 : {self.value}\"\n"
   ]
  },
  {
   "cell_type": "code",
   "execution_count": 3,
   "id": "ae7e75ec",
   "metadata": {},
   "outputs": [
    {
     "name": "stdout",
     "output_type": "stream",
     "text": [
      "MyClass 의 값 : 42\n"
     ]
    }
   ],
   "source": [
    "obj = MyClass(42)\n",
    "print(obj)  # 출력: MyClass instance with value: 42"
   ]
  },
  {
   "cell_type": "markdown",
   "id": "adcaa294",
   "metadata": {},
   "source": [
    "## `__repr__ `메서드:\n",
    "- repr() 함수를 사용하여 인스턴스를 문자열로 변환할 때 호출됩니다.\n",
    "- 개발자를 위한 형태의 문자열을 반환하는 것이 일반적입니다.\n",
    "- 객체의 유일한 식별자 정보를 포함해야 합니다."
   ]
  },
  {
   "cell_type": "code",
   "execution_count": 4,
   "id": "7c0a343c",
   "metadata": {},
   "outputs": [
    {
     "name": "stdout",
     "output_type": "stream",
     "text": [
      "MyClass1(42)\n"
     ]
    }
   ],
   "source": [
    "class MyClass1:\n",
    "    def __init__(self, value):\n",
    "        self.value = value\n",
    "    \n",
    "    def __repr__(self):\n",
    "        return f\"MyClass1({self.value})\"\n",
    "\n",
    "obj = MyClass1(42)\n",
    "print(repr(obj))  # 출력: MyClass(42)"
   ]
  },
  {
   "cell_type": "code",
   "execution_count": 5,
   "id": "d1128127",
   "metadata": {},
   "outputs": [
    {
     "data": {
      "text/plain": [
       "'MyClass1(42)'"
      ]
     },
     "execution_count": 5,
     "metadata": {},
     "output_type": "execute_result"
    }
   ],
   "source": [
    "repr(obj)"
   ]
  },
  {
   "cell_type": "code",
   "execution_count": null,
   "id": "d949b760",
   "metadata": {},
   "outputs": [],
   "source": []
  },
  {
   "cell_type": "markdown",
   "id": "914e71c2",
   "metadata": {},
   "source": [
    "### 파이썬에서 클래스에 __repr__\n",
    "- __repr__ 메서드를 정의하고 해당 메서드의 반환값을 처리하려면 단순히 클래스의 인스턴스를 repr() 함수로 호출하면 됩니다. \n",
    "- 이렇게 하면 클래스의 __repr__ 메서드가 실행되고, 해당 메서드에서 반환한 문자열을 얻을 수 있습니다.\n",
    "\n",
    "- 예를 들어, 다음과 같이 클래스에 __repr__ 메서드를 정의하고 이를 호출해 보겠습니다"
   ]
  },
  {
   "cell_type": "code",
   "execution_count": 15,
   "id": "2cd88e37",
   "metadata": {},
   "outputs": [
    {
     "name": "stdout",
     "output_type": "stream",
     "text": [
      "MyClass2(42)\n"
     ]
    }
   ],
   "source": [
    "\n",
    "class MyClass2:\n",
    "    def __init__(self, value):\n",
    "        self.value = value\n",
    "    def __str__(self):\n",
    "        return f\"MyClass2 의 값 : {self.value}\"\n",
    "    \n",
    "    def __repr__(self):\n",
    "        return f\"MyClass2({self.value})\"\n",
    "    \n",
    "obj = MyClass2(42)\n",
    "repr_string = repr(obj)\n",
    "print(repr_string)"
   ]
  },
  {
   "cell_type": "code",
   "execution_count": 16,
   "id": "3a8ae4ae",
   "metadata": {},
   "outputs": [],
   "source": [
    "var = eval(repr_string )"
   ]
  },
  {
   "cell_type": "code",
   "execution_count": 17,
   "id": "be0f13fc",
   "metadata": {},
   "outputs": [
    {
     "data": {
      "text/plain": [
       "MyClass2(42)"
      ]
     },
     "execution_count": 17,
     "metadata": {},
     "output_type": "execute_result"
    }
   ],
   "source": [
    "var"
   ]
  },
  {
   "cell_type": "code",
   "execution_count": 18,
   "id": "8c29e7ac",
   "metadata": {},
   "outputs": [
    {
     "data": {
      "text/plain": [
       "__main__.MyClass2"
      ]
     },
     "execution_count": 18,
     "metadata": {},
     "output_type": "execute_result"
    }
   ],
   "source": [
    "type(var)"
   ]
  },
  {
   "cell_type": "code",
   "execution_count": 19,
   "id": "ae46fc46",
   "metadata": {},
   "outputs": [
    {
     "data": {
      "text/plain": [
       "True"
      ]
     },
     "execution_count": 19,
     "metadata": {},
     "output_type": "execute_result"
    }
   ],
   "source": [
    "isinstance(var, MyClass2)"
   ]
  },
  {
   "cell_type": "code",
   "execution_count": null,
   "id": "da43e887",
   "metadata": {},
   "outputs": [],
   "source": []
  }
 ],
 "metadata": {
  "kernelspec": {
   "display_name": "Python 3 (ipykernel)",
   "language": "python",
   "name": "python3"
  },
  "language_info": {
   "codemirror_mode": {
    "name": "ipython",
    "version": 3
   },
   "file_extension": ".py",
   "mimetype": "text/x-python",
   "name": "python",
   "nbconvert_exporter": "python",
   "pygments_lexer": "ipython3",
   "version": "3.9.16"
  }
 },
 "nbformat": 4,
 "nbformat_minor": 5
}
