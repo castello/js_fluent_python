{
 "cells": [
  {
   "cell_type": "code",
   "execution_count": 1,
   "id": "f51e49b8",
   "metadata": {},
   "outputs": [],
   "source": [
    "import platform "
   ]
  },
  {
   "cell_type": "code",
   "execution_count": 2,
   "id": "dec5117b",
   "metadata": {},
   "outputs": [
    {
     "data": {
      "text/plain": [
       "'3.11.3'"
      ]
     },
     "execution_count": 2,
     "metadata": {},
     "output_type": "execute_result"
    }
   ],
   "source": [
    "platform.python_version()"
   ]
  },
  {
   "cell_type": "code",
   "execution_count": null,
   "id": "bb6cc79d",
   "metadata": {},
   "outputs": [],
   "source": []
  },
  {
   "cell_type": "markdown",
   "id": "ef8347fb",
   "metadata": {},
   "source": [
    "## 1. 사칙연산에 대한 연산자 오버로딩 "
   ]
  },
  {
   "cell_type": "code",
   "execution_count": 3,
   "id": "88624b63",
   "metadata": {},
   "outputs": [],
   "source": [
    "import operator as op"
   ]
  },
  {
   "cell_type": "markdown",
   "id": "da12687e",
   "metadata": {},
   "source": [
    "## 1-1. 사용자 정의 정수 클래스 정의\n",
    "\n",
    "-  덧셈과 뺄셈 연산자 정의 "
   ]
  },
  {
   "cell_type": "code",
   "execution_count": 4,
   "id": "22f44c86",
   "metadata": {},
   "outputs": [],
   "source": [
    "class MyInteger:\n",
    "    def __init__(self, value):\n",
    "        if not isinstance(value, int):\n",
    "            raise TypeError(\"Value must be an integer.\")\n",
    "        self.value = value\n",
    "\n",
    "    def __add__(self, other):\n",
    "        if isinstance(other, MyInteger):\n",
    "            return MyInteger(self.value + other.value)\n",
    "        elif isinstance(other, int):\n",
    "            return MyInteger(self.value + other)\n",
    "        else:\n",
    "            raise TypeError(\"Unsupported operand type for +\")\n",
    "\n",
    "    def __sub__(self, other):\n",
    "        if isinstance(other, MyInteger):\n",
    "            return MyInteger(self.value - other.value)\n",
    "        elif isinstance(other, int):\n",
    "            return MyInteger(self.value - other)\n",
    "        else:\n",
    "            raise TypeError(\"Unsupported operand type for -\")\n",
    "\n",
    "    def __str__(self):\n",
    "        return str(self.value)\n"
   ]
  },
  {
   "cell_type": "code",
   "execution_count": 5,
   "id": "d30a104d",
   "metadata": {},
   "outputs": [
    {
     "name": "stdout",
     "output_type": "stream",
     "text": [
      "15\n",
      "7\n"
     ]
    }
   ],
   "source": [
    "# 사용 예시\n",
    "num1 = MyInteger(5)\n",
    "num2 = MyInteger(10)\n",
    "result = num1 + num2\n",
    "print(result)  # 출력: 15\n",
    "\n",
    "result = num2 - 3\n",
    "print(result)  # 출력: 7"
   ]
  },
  {
   "cell_type": "code",
   "execution_count": null,
   "id": "a0be7bca",
   "metadata": {},
   "outputs": [],
   "source": []
  },
  {
   "cell_type": "markdown",
   "id": "d8d2e215",
   "metadata": {},
   "source": [
    "##  1-2. 사칙연산에 대한 메서드 "
   ]
  },
  {
   "cell_type": "markdown",
   "id": "873fcc37",
   "metadata": {},
   "source": [
    "- `__add__`(self, other): + 연산자를 오버로딩하여 덧셈 연산을 재정의합니다.\n",
    "- `__sub__`(self, other): - 연산자를 오버로딩하여 뺄셈 연산을 재정의합니다.\n",
    "- `__mul__`(self, other): * 연산자를 오버로딩하여 곱셈 연산을 재정의합니다.\n",
    "- `__truediv__`(self, other): / 연산자를 오버로딩하여 나눗셈 연산을 재정의합니다.\n",
    "- `__floordiv__`(self, other): // 연산자를 오버로딩하여 정수 나눗셈 연산을 재정의합니다.\n",
    "- `__mod__`(self, other): % 연산자를 오버로딩하여 나머지 연산을 재정의합니다.\n",
    "- `__pow__`(self, other): ** 연산자를 오버로딩하여 거듭제곱 연산을 재정의합니다."
   ]
  },
  {
   "cell_type": "code",
   "execution_count": 6,
   "id": "e760a972",
   "metadata": {},
   "outputs": [],
   "source": [
    "class Vector:\n",
    "    def __init__(self, x, y):\n",
    "        self.x = x\n",
    "        self.y = y\n",
    "\n",
    "    def __add__(self, other):\n",
    "        if isinstance(other, Vector):\n",
    "            return Vector(self.x + other.x, self.y + other.y)\n",
    "        else:\n",
    "            raise TypeError(\"Unsupported operand type for +\")\n",
    "\n",
    "    def __str__(self):\n",
    "        return f\"Vector({self.x}, {self.y})\"\n"
   ]
  },
  {
   "cell_type": "code",
   "execution_count": 7,
   "id": "9961c05b",
   "metadata": {},
   "outputs": [
    {
     "name": "stdout",
     "output_type": "stream",
     "text": [
      "Vector(4, 6)\n"
     ]
    }
   ],
   "source": [
    "# 사용 예시\n",
    "v1 = Vector(1, 2)\n",
    "v2 = Vector(3, 4)\n",
    "\n",
    "v3 = v1 + v2\n",
    "print(v3)  # 출력: Vector(4, 6)"
   ]
  },
  {
   "cell_type": "markdown",
   "id": "f63d36af",
   "metadata": {},
   "source": [
    "## 1-3. 우측연산과 할당연산자도 표시하기 "
   ]
  },
  {
   "cell_type": "code",
   "execution_count": 8,
   "id": "463d73fb",
   "metadata": {},
   "outputs": [],
   "source": [
    "class Add:\n",
    "    def __init__(self, value):\n",
    "        self.value = value\n",
    "\n",
    "    def __add__(self, other):\n",
    "        print(\" add 처리 \")\n",
    "        return self.value + int(other)\n",
    "\n",
    "    def __radd__(self, other):\n",
    "        print(\" radd 처리 \")\n",
    "        return self.value + other\n",
    "\n",
    "    def __iadd__(self, other):\n",
    "        print(\" iadd 처리 \")\n",
    "        return self.value + abs(other)\n"
   ]
  },
  {
   "cell_type": "code",
   "execution_count": 9,
   "id": "f7663478",
   "metadata": {},
   "outputs": [],
   "source": [
    "instance = Add(5)"
   ]
  },
  {
   "cell_type": "code",
   "execution_count": 10,
   "id": "0109b0d9",
   "metadata": {},
   "outputs": [
    {
     "name": "stdout",
     "output_type": "stream",
     "text": [
      " add 처리 \n"
     ]
    }
   ],
   "source": [
    "add = instance + 3.076923"
   ]
  },
  {
   "cell_type": "code",
   "execution_count": 11,
   "id": "d3b61ff7",
   "metadata": {},
   "outputs": [
    {
     "name": "stdout",
     "output_type": "stream",
     "text": [
      " radd 처리 \n"
     ]
    }
   ],
   "source": [
    "radd = 3.076923 + instance"
   ]
  },
  {
   "cell_type": "code",
   "execution_count": 12,
   "id": "a27be700",
   "metadata": {},
   "outputs": [
    {
     "name": "stdout",
     "output_type": "stream",
     "text": [
      " iadd 처리 \n"
     ]
    }
   ],
   "source": [
    "instance += -3.076923"
   ]
  },
  {
   "cell_type": "code",
   "execution_count": null,
   "id": "2025663c",
   "metadata": {},
   "outputs": [],
   "source": []
  },
  {
   "cell_type": "markdown",
   "id": "ef0cecce",
   "metadata": {},
   "source": [
    "## 2 비교연산 , 논리연산 "
   ]
  },
  {
   "cell_type": "markdown",
   "id": "3b09dbaa",
   "metadata": {},
   "source": [
    "## 2-1 비교연산 "
   ]
  },
  {
   "cell_type": "code",
   "execution_count": 1,
   "id": "2b217c0c",
   "metadata": {},
   "outputs": [],
   "source": [
    "class MyClass:\n",
    "    def __init__(self, value):\n",
    "        self.value = value\n",
    "    \n",
    "    def __eq__(self, other):\n",
    "        if isinstance(other, MyClass):\n",
    "            return self.value == other.value\n",
    "        return False\n",
    "    \n",
    "    def __lt__(self, other):\n",
    "        if isinstance(other, MyClass):\n",
    "            return self.value < other.value\n",
    "        return NotImplemented\n"
   ]
  },
  {
   "cell_type": "code",
   "execution_count": 2,
   "id": "590ae67b",
   "metadata": {},
   "outputs": [],
   "source": [
    "obj1 = MyClass(10)\n",
    "obj2 = MyClass(20)\n",
    "obj3 = MyClass(10)"
   ]
  },
  {
   "cell_type": "code",
   "execution_count": 3,
   "id": "42846bf9",
   "metadata": {},
   "outputs": [
    {
     "name": "stdout",
     "output_type": "stream",
     "text": [
      "False\n",
      "True\n",
      "True\n",
      "False\n"
     ]
    }
   ],
   "source": [
    "print(obj1 == obj2)  # False\n",
    "print(obj1 == obj3)  # True\n",
    "\n",
    "print(obj1 < obj2)   # True\n",
    "print(obj2 < obj1)   # False"
   ]
  },
  {
   "cell_type": "markdown",
   "id": "ac76d2f1",
   "metadata": {},
   "source": [
    "## 2-2 논리연산"
   ]
  },
  {
   "cell_type": "code",
   "execution_count": null,
   "id": "3780e808",
   "metadata": {},
   "outputs": [],
   "source": []
  },
  {
   "cell_type": "code",
   "execution_count": 9,
   "id": "483944cf",
   "metadata": {},
   "outputs": [],
   "source": [
    "class MyClass1:\n",
    "    def __init__(self, value):\n",
    "        self.value = value\n",
    "    \n",
    "    def __and__(self, other):\n",
    "        if isinstance(other, MyClass1):\n",
    "            return MyClass1(self.value and other.value)\n",
    "        return NotImplemented\n",
    "    \n",
    "    def __or__(self, other):\n",
    "        if isinstance(other, MyClass1):\n",
    "            return MyClass1(self.value or other.value)\n",
    "        return NotImplemented\n",
    "    \n",
    "    def __invert__(self):\n",
    "        return MyClass1(not self.value)\n",
    "    \n",
    "    def __bool__(self):\n",
    "        return self.value\n"
   ]
  },
  {
   "cell_type": "code",
   "execution_count": 10,
   "id": "89e5b8c9",
   "metadata": {},
   "outputs": [],
   "source": [
    "obj1 = MyClass1(True)\n",
    "obj2 = MyClass1(False)"
   ]
  },
  {
   "cell_type": "code",
   "execution_count": 11,
   "id": "2eee0eb6",
   "metadata": {},
   "outputs": [
    {
     "name": "stdout",
     "output_type": "stream",
     "text": [
      "False\n"
     ]
    }
   ],
   "source": [
    "# 논리 AND 연산\n",
    "result_and = obj1 & obj2\n",
    "print(result_and.value)  # 출력: False"
   ]
  },
  {
   "cell_type": "code",
   "execution_count": 12,
   "id": "e4e968a1",
   "metadata": {},
   "outputs": [
    {
     "name": "stdout",
     "output_type": "stream",
     "text": [
      "True\n"
     ]
    }
   ],
   "source": [
    "# 논리 OR 연산\n",
    "result_or = obj1 | obj2\n",
    "print(result_or.value)   # 출력: True"
   ]
  },
  {
   "cell_type": "code",
   "execution_count": 13,
   "id": "2bb11e69",
   "metadata": {},
   "outputs": [
    {
     "name": "stdout",
     "output_type": "stream",
     "text": [
      "False\n"
     ]
    }
   ],
   "source": [
    "# 논리 NOT 연산\n",
    "result_not = ~obj1\n",
    "print(result_not.value)  # 출력: False\n"
   ]
  },
  {
   "cell_type": "code",
   "execution_count": null,
   "id": "9863bcb6",
   "metadata": {},
   "outputs": [],
   "source": []
  },
  {
   "cell_type": "code",
   "execution_count": 14,
   "id": "cd402043",
   "metadata": {},
   "outputs": [
    {
     "name": "stdout",
     "output_type": "stream",
     "text": [
      "False\n"
     ]
    }
   ],
   "source": [
    "# 논리 연산 결과를 bool로 변환\n",
    "bool_result = bool(result_and)\n",
    "print(bool_result)       # 출력: False"
   ]
  },
  {
   "cell_type": "code",
   "execution_count": null,
   "id": "ffa243af",
   "metadata": {},
   "outputs": [],
   "source": []
  }
 ],
 "metadata": {
  "kernelspec": {
   "display_name": "Python 3 (ipykernel)",
   "language": "python",
   "name": "python3"
  },
  "language_info": {
   "codemirror_mode": {
    "name": "ipython",
    "version": 3
   },
   "file_extension": ".py",
   "mimetype": "text/x-python",
   "name": "python",
   "nbconvert_exporter": "python",
   "pygments_lexer": "ipython3",
   "version": "3.9.16"
  }
 },
 "nbformat": 4,
 "nbformat_minor": 5
}
