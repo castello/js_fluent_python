{
 "cells": [
  {
   "cell_type": "code",
   "execution_count": 1,
   "id": "1f02581a",
   "metadata": {},
   "outputs": [
    {
     "data": {
      "text/plain": [
       "'3.9.16'"
      ]
     },
     "execution_count": 1,
     "metadata": {},
     "output_type": "execute_result"
    }
   ],
   "source": [
    "import platform\n",
    "\n",
    "platform.python_version()"
   ]
  },
  {
   "cell_type": "code",
   "execution_count": null,
   "id": "1b380e1f",
   "metadata": {},
   "outputs": [],
   "source": []
  },
  {
   "cell_type": "markdown",
   "id": "55bd6049",
   "metadata": {},
   "source": [
    "## 파이썬은 프로토콜(protocol) 처리\n",
    "\n",
    "- 이 프로토콜 처리를 통해 다형성(polymorphism)을 지원하고 유연한 코드 작성을 가능하게 합니다. \n",
    "- 프로토콜은 특정한 메서드나 속성의 집합을 의미하며, 클래스가 해당 프로토콜을 따른다면 해당 메서드나 속성이 구현되었다고 간주됩니다. \n",
    "- 이를 통해 서로 다른 클래스가 유사한 동작을 수행할 수 있도록 함으로써 코드 재사용과 확장성을 높일 수 있습니다.\n"
   ]
  },
  {
   "cell_type": "markdown",
   "id": "3df27686",
   "metadata": {},
   "source": [
    "## 파이썬의 프로토콜 처리는 크게 두 가지 측면에서 중요합니다:\n",
    " - 파이썬의 프로토콜 처리는 클래스 간의 유연한 상호작용과 코드 재사용을 가능케 하며, \n",
    " - 객체 지향 프로그래밍의 핵심 원칙 중 하나인 \"인터페이스를 구현한 객체는 해당 인터페이스의 메서드를 반드시 구현해야 한다\"를 보다 유연하게 지원합니다.\n",
    "\n",
    "### 다형성(Polymorphism): \n",
    "- 파이썬은 다양한 클래스가 동일한 프로토콜을 따르면서 유사한 동작을 수행할 수 있도록 합니다. \n",
    "- 이로써 코드의 일부분을 변경하지 않고도 새로운 클래스를 추가하거나 기존 클래스를 대체할 수 있습니다. \n",
    "- 예를 들어, 컬렉션에 있는 요소들을 반복하고자 할 때, 리스트, 세트, 딕셔너리 등 다양한 컬렉션 타입이 프로토콜을 따르기 때문에 같은 반복 로직을 사용할 수 있습니다.\n",
    "\n",
    "### 확장성(Extensibility): \n",
    "- 파이썬의 프로토콜 처리를 활용하면, 기존 클래스의 동작을 확장하거나 수정하는 것이 간단하게 가능합니다. \n",
    "- 새로운 클래스를 만들어 기존 프로토콜을 따르면서 필요한 메서드만 구현하면 됩니다. 이로써 기존 코드를 건드리지 않고도 새로운 기능을 추가할 수 있습니다.\n"
   ]
  },
  {
   "cell_type": "code",
   "execution_count": null,
   "id": "068430ec",
   "metadata": {},
   "outputs": [],
   "source": []
  },
  {
   "cell_type": "markdown",
   "id": "c9bb9199",
   "metadata": {},
   "source": [
    "## 1. 인덱스 검색 :  ` __getitem__ `\n",
    "-  매직 메서드 중 하나로, 인스턴스에 대해 인덱싱 연산을 가능하게 해주는 메서드입니다. \n",
    "- 이 매직 메서드를 정의하면 해당 클래스의 인스턴스를 인덱스로 접근할 때, obj[index]와 같은 문법으로 접근할 수 있습니다."
   ]
  },
  {
   "cell_type": "markdown",
   "id": "35aa3a1e",
   "metadata": {},
   "source": [
    "## 인덱스 검색 "
   ]
  },
  {
   "cell_type": "code",
   "execution_count": 2,
   "id": "7773e746",
   "metadata": {},
   "outputs": [],
   "source": [
    "class MyList:\n",
    "    def __init__(self, data):\n",
    "        self.data = data\n",
    "\n",
    "    def __getitem__(self, index):\n",
    "        return self.data[index]\n"
   ]
  },
  {
   "cell_type": "code",
   "execution_count": 3,
   "id": "e916389e",
   "metadata": {},
   "outputs": [
    {
     "name": "stdout",
     "output_type": "stream",
     "text": [
      "3\n",
      "5\n"
     ]
    }
   ],
   "source": [
    "# 사용자 정의 리스트 클래스를 생성\n",
    "my_list = MyList([1, 2, 3, 4, 5])\n",
    "\n",
    "# 인덱싱 연산으로 요소에 접근\n",
    "print(my_list[2])  # 출력: 3\n",
    "print(my_list[4])  # 출력: 5"
   ]
  },
  {
   "cell_type": "markdown",
   "id": "f90db698",
   "metadata": {},
   "source": [
    "## 슬라이스 처리\n",
    "\n",
    "- `__getitem__` 메서드와 슬라이스(slice)를 함께 사용하여 클래스에서 인덱싱 및 슬라이싱 연산을 처리할 수 있습니다. \n",
    "- 슬라이스는 인덱스 범위를 지정하여 원하는 부분을 추출하는 기능을 제공합니다. "
   ]
  },
  {
   "cell_type": "code",
   "execution_count": null,
   "id": "4839210c",
   "metadata": {},
   "outputs": [],
   "source": []
  },
  {
   "cell_type": "code",
   "execution_count": 4,
   "id": "14ac61f5",
   "metadata": {},
   "outputs": [],
   "source": [
    "class MyList:\n",
    "    def __init__(self, data):\n",
    "        self.data = data\n",
    "\n",
    "    def __getitem__(self, index):\n",
    "        if isinstance(index, slice):\n",
    "            return self.data[index.start : index.stop : index.step]\n",
    "        else:\n",
    "            return self.data[index]\n"
   ]
  },
  {
   "cell_type": "code",
   "execution_count": 5,
   "id": "8f7677e4",
   "metadata": {},
   "outputs": [
    {
     "name": "stdout",
     "output_type": "stream",
     "text": [
      "3\n",
      "[2, 3, 4, 5]\n",
      "[1, 3, 5, 7, 9]\n"
     ]
    }
   ],
   "source": [
    "# 사용자 정의 리스트 클래스를 생성\n",
    "my_list = MyList([1, 2, 3, 4, 5, 6, 7, 8, 9, 10])\n",
    "\n",
    "# 인덱싱 연산으로 요소에 접근\n",
    "print(my_list[2])  # 출력: 3\n",
    "\n",
    "# 슬라이스 연산으로 부분 리스트 추출\n",
    "print(my_list[1:5])    # 출력: [2, 3, 4, 5]\n",
    "print(my_list[::2])    # 출력: [1, 3, 5, 7, 9]"
   ]
  },
  {
   "cell_type": "code",
   "execution_count": null,
   "id": "46affbf5",
   "metadata": {},
   "outputs": [],
   "source": []
  },
  {
   "cell_type": "markdown",
   "id": "846df250",
   "metadata": {},
   "source": [
    "## 2. 인덱스 갱신 :  `__setitem__`  \n",
    "- 파이썬 클래스에서 사용하는 매직 메서드 중 하나로, 인스턴스에 대해 인덱스 연산을 통해 값을 할당하는 기능을 제공하는 메서드입니다.\n",
    "- 이 매직 메서드를 정의하면 해당 클래스의 인스턴스에 대해 obj[index] = value와 같은 문법으로 값을 할당할 수 있습니다."
   ]
  },
  {
   "cell_type": "markdown",
   "id": "6ca35ad3",
   "metadata": {},
   "source": [
    "## 인덱스 검색 "
   ]
  },
  {
   "cell_type": "code",
   "execution_count": 6,
   "id": "2052de7a",
   "metadata": {},
   "outputs": [],
   "source": [
    "class MyList1:\n",
    "    def __init__(self):\n",
    "        self.data = [0,0,0]\n",
    "\n",
    "    def __getitem__(self, index):\n",
    "        return self.data[index]\n",
    "\n",
    "    def __setitem__(self, index, value):\n",
    "        self.data[index] = value\n"
   ]
  },
  {
   "cell_type": "code",
   "execution_count": 7,
   "id": "9fadf72a",
   "metadata": {},
   "outputs": [
    {
     "name": "stdout",
     "output_type": "stream",
     "text": [
      "10\n",
      "30\n",
      "30\n"
     ]
    }
   ],
   "source": [
    "# 사용자 정의 리스트 클래스를 생성\n",
    "my_list = MyList1()\n",
    "\n",
    "# 값 할당을 통한 인덱스 요소 변경\n",
    "my_list[0] = 10\n",
    "my_list[1] = 30\n",
    "my_list[2] = 30\n",
    "\n",
    "# 인덱싱 연산으로 요소에 접근\n",
    "print(my_list[0])  \n",
    "print(my_list[1]) \n",
    "print(my_list[2]) "
   ]
  },
  {
   "cell_type": "code",
   "execution_count": null,
   "id": "14178a6f",
   "metadata": {},
   "outputs": [],
   "source": []
  },
  {
   "cell_type": "markdown",
   "id": "28546984",
   "metadata": {},
   "source": [
    "## 슬라이스 처리 \n",
    "\n",
    "_ `__setitem__` 메서드와 슬라이스(slice)를 함께 사용하여 클래스에서 슬라이스에 값을 할당하는 기능을 구현할 수 있습니다. \n",
    "- 슬라이스를 이용하여 원하는 범위에 여러 값을 할당하거나 수정할 수 있습니다."
   ]
  },
  {
   "cell_type": "code",
   "execution_count": 8,
   "id": "ed39265e",
   "metadata": {},
   "outputs": [],
   "source": [
    "class MyList:\n",
    "    def __init__(self, data):\n",
    "        self.data = data\n",
    "\n",
    "    def __getitem__(self, index):\n",
    "        if isinstance(index, slice):\n",
    "            return self.data[index]\n",
    "        else:\n",
    "            return self.data[index]\n",
    "\n",
    "    def __setitem__(self, index, value):\n",
    "        if isinstance(index, slice):\n",
    "            self.data[index] = value\n",
    "        else:\n",
    "            self.data[index] = value\n"
   ]
  },
  {
   "cell_type": "code",
   "execution_count": null,
   "id": "a6ea6ec8",
   "metadata": {},
   "outputs": [],
   "source": []
  },
  {
   "cell_type": "code",
   "execution_count": 9,
   "id": "6c7976ba",
   "metadata": {},
   "outputs": [
    {
     "name": "stdout",
     "output_type": "stream",
     "text": [
      "[0, 20, 0, 40, 0, 6, 0, 8, 0, 10]\n"
     ]
    }
   ],
   "source": [
    "# 사용자 정의 리스트 클래스를 생성\n",
    "my_list = MyList([1, 2, 3, 4, 5, 6, 7, 8, 9, 10])\n",
    "\n",
    "# 슬라이스 연산을 통한 여러 값 할당\n",
    "my_list[1:5] = [20, 30, 40, 50]\n",
    "\n",
    "# 슬라이스 연산을 통한 여러 값 수정\n",
    "my_list[::2] = [0, 0, 0, 0, 0]\n",
    "\n",
    "# 변경된 리스트 출력\n",
    "print(my_list.data)  # 출력: [0, 2, 0, 4, 0, 6, 0, 8, 0, 10]"
   ]
  },
  {
   "cell_type": "code",
   "execution_count": null,
   "id": "2f71fe36",
   "metadata": {},
   "outputs": [],
   "source": []
  },
  {
   "cell_type": "markdown",
   "id": "21905b7e",
   "metadata": {},
   "source": [
    "## 3. 인덱스 삭제 : `__delitem__` \n",
    "- 파이썬 클래스에서 사용하는 매직 메서드 중 하나로, 인스턴스에 대해 인덱스 연산을 통해 요소를 삭제하는 기능을 제공하는 메서드입니다. \n",
    "- 이 매직 메서드를 정의하면 해당 클래스의 인스턴스에 대해 del obj[index]와 같은 문법으로 요소를 삭제할 수 있습니다."
   ]
  },
  {
   "cell_type": "markdown",
   "id": "cb04338b",
   "metadata": {},
   "source": [
    "## 인덱스 처리 "
   ]
  },
  {
   "cell_type": "code",
   "execution_count": 10,
   "id": "9d07c144",
   "metadata": {},
   "outputs": [],
   "source": [
    "class MyList:\n",
    "    def __init__(self):\n",
    "        self.data = []\n",
    "\n",
    "    def __getitem__(self, index):\n",
    "        return self.data[index]\n",
    "\n",
    "    def __setitem__(self, index, value):\n",
    "        self.data[index] = value\n",
    "\n",
    "    def __delitem__(self, index):\n",
    "        del self.data[index]\n"
   ]
  },
  {
   "cell_type": "code",
   "execution_count": 11,
   "id": "db7f486d",
   "metadata": {},
   "outputs": [
    {
     "name": "stdout",
     "output_type": "stream",
     "text": [
      "1\n",
      "2\n",
      "4\n"
     ]
    }
   ],
   "source": [
    "# 사용자 정의 리스트 클래스를 생성\n",
    "my_list = MyList()\n",
    "my_list.data = [1, 2, 3, 4, 5]\n",
    "\n",
    "# 인덱스 요소 삭제\n",
    "del my_list[2]\n",
    "\n",
    "# 인덱싱 연산으로 요소에 접근\n",
    "print(my_list[0])  # 출력: 1\n",
    "print(my_list[1])  # 출력: 2\n",
    "print(my_list[2])  # 출력: 4"
   ]
  },
  {
   "cell_type": "code",
   "execution_count": null,
   "id": "13b31741",
   "metadata": {},
   "outputs": [],
   "source": []
  },
  {
   "cell_type": "markdown",
   "id": "cea558bb",
   "metadata": {},
   "source": [
    "## 슬라이스 처리 \n",
    "\n",
    "- `__delitem__` 메서드와 슬라이스(slice)를 함께 사용하여 클래스에서 슬라이스 범위에 해당하는 요소를 삭제할 수 있습니다. \n",
    "- 이를 통해 클래스의 인스턴스에서 슬라이스 연산을 사용하여 여러 요소를 삭제할 수 있습니다."
   ]
  },
  {
   "cell_type": "code",
   "execution_count": 12,
   "id": "7752fb42",
   "metadata": {},
   "outputs": [],
   "source": [
    "class MyList:\n",
    "    def __init__(self, data):\n",
    "        self.data = data\n",
    "\n",
    "    def __getitem__(self, index):\n",
    "        if isinstance(index, slice):\n",
    "            return self.data[index]\n",
    "        else:\n",
    "            return self.data[index]\n",
    "\n",
    "    def __setitem__(self, index, value):\n",
    "        if isinstance(index, slice):\n",
    "            self.data[index] = value\n",
    "        else:\n",
    "            self.data[index] = value\n",
    "\n",
    "    def __delitem__(self, index):\n",
    "        if isinstance(index, slice):\n",
    "            del self.data[index]\n",
    "        else:\n",
    "            del self.data[index]\n",
    "\n"
   ]
  },
  {
   "cell_type": "code",
   "execution_count": 13,
   "id": "3e4af941",
   "metadata": {},
   "outputs": [
    {
     "name": "stdout",
     "output_type": "stream",
     "text": [
      "[1, 6, 7, 8, 9, 10]\n"
     ]
    }
   ],
   "source": [
    "# 사용자 정의 리스트 클래스를 생성\n",
    "my_list = MyList([1, 2, 3, 4, 5, 6, 7, 8, 9, 10])\n",
    "\n",
    "# 슬라이스 연산을 통한 여러 요소 삭제\n",
    "del my_list[1:5]\n",
    "\n",
    "# 변경된 리스트 출력\n",
    "print(my_list.data)  # 출력: [1, 6, 7, 8, 9, 10]"
   ]
  },
  {
   "cell_type": "code",
   "execution_count": null,
   "id": "f3ad0439",
   "metadata": {},
   "outputs": [],
   "source": []
  }
 ],
 "metadata": {
  "kernelspec": {
   "display_name": "Python 3 (ipykernel)",
   "language": "python",
   "name": "python3"
  },
  "language_info": {
   "codemirror_mode": {
    "name": "ipython",
    "version": 3
   },
   "file_extension": ".py",
   "mimetype": "text/x-python",
   "name": "python",
   "nbconvert_exporter": "python",
   "pygments_lexer": "ipython3",
   "version": "3.9.16"
  }
 },
 "nbformat": 4,
 "nbformat_minor": 5
}
