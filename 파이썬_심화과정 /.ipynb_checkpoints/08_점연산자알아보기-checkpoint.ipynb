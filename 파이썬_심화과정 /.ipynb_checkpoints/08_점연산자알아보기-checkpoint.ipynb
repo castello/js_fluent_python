{
 "cells": [
  {
   "cell_type": "code",
   "execution_count": 1,
   "id": "7ce75e09",
   "metadata": {},
   "outputs": [
    {
     "data": {
      "text/plain": [
       "'3.9.16'"
      ]
     },
     "execution_count": 1,
     "metadata": {},
     "output_type": "execute_result"
    }
   ],
   "source": [
    "import platform\n",
    "\n",
    "platform.python_version()"
   ]
  },
  {
   "cell_type": "code",
   "execution_count": null,
   "id": "b4a53fe5",
   "metadata": {},
   "outputs": [],
   "source": []
  },
  {
   "cell_type": "code",
   "execution_count": null,
   "id": "49b9b96b",
   "metadata": {},
   "outputs": [],
   "source": []
  },
  {
   "cell_type": "markdown",
   "id": "4cabdc41",
   "metadata": {},
   "source": [
    "# 1. 점연산자 처리 "
   ]
  },
  {
   "cell_type": "code",
   "execution_count": null,
   "id": "c913088e",
   "metadata": {},
   "outputs": [],
   "source": []
  },
  {
   "cell_type": "markdown",
   "id": "2af1dbaf",
   "metadata": {},
   "source": [
    "## 1-1 객체의 점연산자 \n",
    "\n",
    "\n",
    "###  `__getattribute__ `메서드\n",
    "\n",
    "- 객체의 속성(attribute)에 접근할 때 호출되는 특수한 메서드입니다. \n",
    "- 이 메서드를 오버라이딩하면 객체의 속성 접근을 커스텀하게 제어할 수 있습니다.\n",
    "\n",
    "- `__getattribute__ `메서드는 객체의 속성에 접근할 때마다 호출되며, 속성 이름을 인자로 받습니다. \n",
    "- 이 메서드를 사용하여 해당 속성에 접근하는 동작을 원하는대로 정의할 수 있습니다. \n",
    "- 하지만 주의할 점은 `__getattribute__` 메서드를 오버라이딩할 때 반드시 속성에 접근하는 동작을 정의해야 하며, \n",
    "- 무한 재귀를 피하기 위해 object 클래스의 `__getattribute__ `메서드를 호출하는 것이 중요합니다."
   ]
  },
  {
   "cell_type": "code",
   "execution_count": null,
   "id": "4ad4f37d",
   "metadata": {},
   "outputs": [],
   "source": []
  },
  {
   "cell_type": "code",
   "execution_count": 1,
   "id": "b928833e",
   "metadata": {},
   "outputs": [],
   "source": [
    "class MyClass:\n",
    "    def __init__(self):\n",
    "        self._x = 10\n",
    "\n",
    "    def __getattribute__(self, name):\n",
    "        print(f\"Accessing attribute: {name}\")\n",
    "        # object 클래스의 __getattribute__ 메서드를 호출하여 실제 속성에 접근\n",
    "        return object.__getattribute__(self, name)\n",
    "\n",
    "    def double_x(self):\n",
    "        return self._x * 2\n"
   ]
  },
  {
   "cell_type": "code",
   "execution_count": 2,
   "id": "e54b7080",
   "metadata": {},
   "outputs": [],
   "source": [
    "# 객체 생성\n",
    "obj = MyClass()\n",
    "\n",
    "# 속성에 접근\n",
    "print(obj._x)          # 출력: Accessing attribute: _x, 10\n",
    "print(obj.double_x())  # 출력: Accessing attribute: double_x, 20"
   ]
  },
  {
   "cell_type": "code",
   "execution_count": null,
   "id": "cd6cd64e",
   "metadata": {},
   "outputs": [],
   "source": []
  },
  {
   "cell_type": "markdown",
   "id": "e5827583",
   "metadata": {},
   "source": [
    "##  1-2.  `__getattr__`  조회가 없을 때 예외 처리\n",
    "\n",
    "###   `__getattr__` 메서드\n",
    "- 객체의 속성(attribute)에 접근할 때 해당 속성이 존재하지 않을 경우 호출되는 특수한 메서드입니다. \n",
    "- 즉, 해당 속성이 존재하지 않을 때에만 `__getattr__` 메서드가 실행됩니다. \n",
    "- 이 메서드를 오버라이딩하면 속성에 접근하는 동작을 커스텀하게 제어할 수 있습니다.\n",
    "\n",
    "###  `__getattr__` 메서드 구현 \n",
    "- 는 속성 이름을 인자로 받으며, 이 메서드에서는 존재하지 않는 속성에 대한 처리를 구현합니다. \n",
    "- 일반적으로 `__getattr__` 메서드는 속성을 찾지 못했을 때 기본 값을 반환하거나, 다른 속성으로 대체하는 등의 동작을 정의할 때 사용됩니다.\n",
    "\n",
    "### 주의할 점은  \n",
    "- `__getattr__` 메서드는 존재하지 않는 속성에만 작동한다는 점입니다. \n",
    "- 존재하는 속성에 접근할 때는 `__getattr__` 메서드가 호출되지 않으며, 이미 정의된 속성에 접근하는 경우에는 일반적인 속성 접근 동작이 실행됩니다.\n"
   ]
  },
  {
   "cell_type": "markdown",
   "id": "f39bb2fd",
   "metadata": {},
   "source": [
    "### 클래스 내에 예외처리 반영 "
   ]
  },
  {
   "cell_type": "code",
   "execution_count": 3,
   "id": "607c1f4d",
   "metadata": {},
   "outputs": [],
   "source": [
    "class MyClass:\n",
    "    def __init__(self):\n",
    "        self._x = 10\n",
    "        \n",
    "    def __getattribute__(self, name):\n",
    "        print(f\"Accessing attribute: {name}\")\n",
    "        # object 클래스의 __getattribute__ 메서드를 호출하여 실제 속성에 접근\n",
    "        return object.__getattribute__(self, name)\n",
    "\n",
    "    def __getattr__(self, name):\n",
    "        print(f\"### Accessing non-existing attribute: {name} ###\")\n",
    "        return f\"{name} not found\"\n",
    "\n",
    "    def double_x(self):\n",
    "        return self._x * 2\n"
   ]
  },
  {
   "cell_type": "markdown",
   "id": "bdc277fd",
   "metadata": {},
   "source": [
    "### 객체를 생성해서 처리하기 "
   ]
  },
  {
   "cell_type": "code",
   "execution_count": 4,
   "id": "abbeb011",
   "metadata": {},
   "outputs": [],
   "source": [
    "# 객체 생성\n",
    "obj = MyClass()\n",
    "\n",
    "# 존재하는 속성에 접근\n",
    "print(obj.double_x())  # 출력: 20\n",
    "\n",
    "# 존재하지 않는 속성에 접근\n",
    "print(obj.y)          # 출력: Accessing non-existing attribute: y, y not found"
   ]
  },
  {
   "cell_type": "code",
   "execution_count": null,
   "id": "0a0e7037",
   "metadata": {},
   "outputs": [],
   "source": []
  },
  {
   "cell_type": "markdown",
   "id": "b8f7a610",
   "metadata": {},
   "source": [
    "## 1-3. 갱신과 삭제 \n",
    "\n",
    "### `__setattr__ `메서드:\n",
    "\n",
    "- 객체의 속성을 설정할 때 호출되는 메서드입니다.\n",
    "- self, name, value 인자를 받으며, name은 설정하려는 속성의 이름이고, value는 설정하려는 속성의 값입니다.\n",
    "- `__setattr__` 메서드에서 속성을 설정하려면 self.`__dict__`[name] = value와 같이 사용합니다.\n",
    "\n",
    "### `__delattr__` 메서드:\n",
    "\n",
    "- 객체의 속성을 삭제할 때 호출되는 메서드입니다.\n",
    "- self와 name 인자를 받으며, name은 삭제하려는 속성의 이름입니다.\n",
    "- `__delattr__` 메서드에서 속성을 삭제하려면 del self.`__dict__`[name]과 같이 사용합니다.\n"
   ]
  },
  {
   "cell_type": "markdown",
   "id": "bf56c02a",
   "metadata": {},
   "source": [
    "### 갱신과 삭제 처리 "
   ]
  },
  {
   "cell_type": "code",
   "execution_count": 5,
   "id": "c201b083",
   "metadata": {},
   "outputs": [],
   "source": [
    "class MyClass:\n",
    "    def __init__(self):\n",
    "        self._x = None\n",
    "\n",
    "    def __setattr__(self, name, value):\n",
    "        print(f\"Setting attribute: {name} = {value}\")\n",
    "        self.__dict__[name] = value\n",
    "\n",
    "    def __delattr__(self, name):\n",
    "        print(f\"Deleting attribute: {name}\")\n",
    "        del self.__dict__[name]\n"
   ]
  },
  {
   "cell_type": "markdown",
   "id": "973a3ea7",
   "metadata": {},
   "source": [
    "### 객체 확인"
   ]
  },
  {
   "cell_type": "code",
   "execution_count": 6,
   "id": "4867f7da",
   "metadata": {},
   "outputs": [],
   "source": [
    "# 객체 생성\n",
    "obj = MyClass()\n",
    "\n",
    "# 속성 설정\n",
    "obj.x = 42     # 출력: Setting attribute: x = 42\n",
    "\n",
    "# 속성 접근\n",
    "print(obj.x)   # 출력: 42\n",
    "\n",
    "# 속성 삭제\n",
    "del obj.x      # 출력: Deleting attribute: x"
   ]
  },
  {
   "cell_type": "code",
   "execution_count": null,
   "id": "e63363ce",
   "metadata": {},
   "outputs": [],
   "source": []
  },
  {
   "cell_type": "markdown",
   "id": "faa3a822",
   "metadata": {},
   "source": [
    " \n",
    " ## 2. 내장함수로 처리하기 \n",
    " \n",
    "- getattr 함수는 객체의 속성에 접근하는데 사용되며, 존재하지 않는 속성에 접근 시 기본값을 반환합니다.(`__getattr__`)\n",
    "\n",
    "- setattr 함수는 객체의 속성을 설정하는데 사용되며, 존재하지 않는 속성에 값을 설정할 수도 있습니다.(`__setattr__`)\n",
    "\n",
    "- delattr 함수는 객체의 속성을 삭제하는데 사용되며, 존재하지 않는 속성을 삭제해도 오류가 발생하지 않습니다.(`__delattr__`)\n"
   ]
  },
  {
   "cell_type": "markdown",
   "id": "de051c15",
   "metadata": {},
   "source": [
    "### 점연산자를 처리 "
   ]
  },
  {
   "cell_type": "code",
   "execution_count": 7,
   "id": "c295a893",
   "metadata": {},
   "outputs": [],
   "source": [
    "class MyClass:\n",
    "    def __init__(self):\n",
    "        self._x = None\n",
    "\n",
    "    def __getattr__(self, name):\n",
    "        print(f\"속성  접근 getattr : {name}\")\n",
    "        return f\"{name} not found\"\n",
    "\n",
    "    def __setattr__(self, name, value):\n",
    "        print(f\"속성  갱신 setattr : {name} = {value}\")\n",
    "        super().__setattr__(name, value)\n",
    "\n",
    "    def __delattr__(self, name):\n",
    "        print(f\"속성  삭제 delattr: {name}\")\n",
    "        super().__delattr__(name)\n"
   ]
  },
  {
   "cell_type": "code",
   "execution_count": 8,
   "id": "4bf87f59",
   "metadata": {},
   "outputs": [],
   "source": [
    "# 객체 생성\n",
    "obj = MyClass()"
   ]
  },
  {
   "cell_type": "markdown",
   "id": "5cd8743f",
   "metadata": {},
   "source": [
    "### 내장함수  getattr 처리 "
   ]
  },
  {
   "cell_type": "code",
   "execution_count": 9,
   "id": "167dc7eb",
   "metadata": {},
   "outputs": [],
   "source": [
    "# getattr: 존재하는 속성에 접근\n",
    "print(getattr(obj, '_x'))   # 출력: None\n",
    "\n",
    "# getattr: 존재하지 않는 속성에 접근\n",
    "print(getattr(obj, 'y'))    # 출력: Accessing non-existing attribute: y, y not found"
   ]
  },
  {
   "cell_type": "markdown",
   "id": "3c18f87b",
   "metadata": {},
   "source": [
    "### 내장함수 setattr 처리 "
   ]
  },
  {
   "cell_type": "code",
   "execution_count": 10,
   "id": "ae40390a",
   "metadata": {},
   "outputs": [],
   "source": [
    "# setattr: 속성 설정\n",
    "setattr(obj, 'x', 42)       # 출력: Setting attribute: x = 42\n",
    "\n",
    "# setattr: 존재하지 않는 속성 설정\n",
    "setattr(obj, 'y', 'hello')  # 출력: Setting attribute: y = hello"
   ]
  },
  {
   "cell_type": "markdown",
   "id": "cc6d2c36",
   "metadata": {},
   "source": [
    "### 내장함수 delattr 처리 "
   ]
  },
  {
   "cell_type": "code",
   "execution_count": 11,
   "id": "7ad2eda8",
   "metadata": {},
   "outputs": [],
   "source": [
    "# delattr: 속성 삭제\n",
    "delattr(obj, 'x')           # 출력: Deleting attribute: x"
   ]
  },
  {
   "cell_type": "code",
   "execution_count": null,
   "id": "4b645f10",
   "metadata": {},
   "outputs": [],
   "source": []
  },
  {
   "cell_type": "code",
   "execution_count": null,
   "id": "45933a3f",
   "metadata": {},
   "outputs": [],
   "source": []
  }
 ],
 "metadata": {
  "kernelspec": {
   "display_name": "Python 3 (ipykernel)",
   "language": "python",
   "name": "python3"
  },
  "language_info": {
   "codemirror_mode": {
    "name": "ipython",
    "version": 3
   },
   "file_extension": ".py",
   "mimetype": "text/x-python",
   "name": "python",
   "nbconvert_exporter": "python",
   "pygments_lexer": "ipython3",
   "version": "3.9.16"
  }
 },
 "nbformat": 4,
 "nbformat_minor": 5
}
