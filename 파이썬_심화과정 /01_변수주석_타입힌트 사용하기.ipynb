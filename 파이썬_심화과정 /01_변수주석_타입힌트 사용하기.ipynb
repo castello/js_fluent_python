{
 "cells": [
  {
   "cell_type": "code",
   "execution_count": null,
   "id": "1276486f",
   "metadata": {},
   "outputs": [],
   "source": []
  },
  {
   "cell_type": "code",
   "execution_count": 12,
   "id": "3b4f9732",
   "metadata": {},
   "outputs": [
    {
     "data": {
      "text/plain": [
       "'3.11.3'"
      ]
     },
     "execution_count": 12,
     "metadata": {},
     "output_type": "execute_result"
    }
   ],
   "source": [
    "import platform\n",
    "\n",
    "platform.python_version()"
   ]
  },
  {
   "cell_type": "code",
   "execution_count": null,
   "id": "0270cfba",
   "metadata": {},
   "outputs": [],
   "source": []
  },
  {
   "cell_type": "markdown",
   "id": "67517422",
   "metadata": {},
   "source": [
    "## 동적 언어에서의 타입 검사\n",
    "- 파이썬은 동적 언어로 잘 알려진 언어입니다. 즉, 변수의 타입을 일일이 명시하지 않아도 되고, 특정 변수의 타입이 중간에 바뀌어도 됩니다. \n",
    "- 파이썬과 같은 동적 언어는 C, Java, Rust 등의 정적 언어보다 배우기도 쉽고, 좀 더 빠르게 프로그래밍이 가능하다는 장점이 있습니다. \n",
    "- 하지만, 잘못된 타입을 사용하여 예상치 못한 에러를 만들어내고, 이로 인해 프로그램이 망가질 수 있다는 단점도 있습니다. \n",
    "- 코드 양이 많아지고 복잡해질수록 잘못된 타입으로 인한 에러를 만날 확률이 높아지겠죠.\n",
    "\n"
   ]
  },
  {
   "cell_type": "markdown",
   "id": "f35cd5f3",
   "metadata": {},
   "source": [
    "## 이렇게 타입을 명시하면 다음과 같은 이점을 얻을 수 있습니다.\n",
    "\n",
    "###  코드의 가독성이 증가합니다.\n",
    "- 코드에 추가적인 정보 (타입)을 제공함으로써 코드에 대한 이해도가 증가합니다.\n",
    "\n",
    "### IDE의 도움을 받으면 코드의 생산성이 증가합니다.\n",
    "- vscode와 같은 현대 IDE에서는 명시한 타입을 코드를 작성할 때 보여주거나, 자동 완성해주는 기능을 가지고 있습니다. \n"
   ]
  },
  {
   "cell_type": "code",
   "execution_count": null,
   "id": "dc08c31c",
   "metadata": {},
   "outputs": [],
   "source": []
  },
  {
   "cell_type": "code",
   "execution_count": null,
   "id": "f433afcc",
   "metadata": {},
   "outputs": [],
   "source": []
  },
  {
   "cell_type": "markdown",
   "id": "6ed84378",
   "metadata": {},
   "source": [
    "## 1. 기본 제공 자료형으로 변수의 타입 주석 처리 \n",
    "\n",
    "-  기본 클래스 자료형에 대해서 변수 + 콜론 + 클래스명 으로 변수에 주석처리 "
   ]
  },
  {
   "cell_type": "markdown",
   "id": "33808437",
   "metadata": {},
   "source": [
    "## 1-1  기본 자료형 사용해서 타입주석 처리 \n"
   ]
  },
  {
   "cell_type": "code",
   "execution_count": 2,
   "id": "83e3868e",
   "metadata": {},
   "outputs": [],
   "source": [
    "# 변수 주석을 사용하여 변수의 타입 정보 추가하기\n",
    "name: str = \"Alice\"\n",
    "age: int = 30\n",
    "height: float = 175.5\n"
   ]
  },
  {
   "cell_type": "markdown",
   "id": "6f80089a",
   "metadata": {},
   "source": [
    "## 1-2 리스트, 튜플, 딕셔너리 타입주석 확인 "
   ]
  },
  {
   "cell_type": "code",
   "execution_count": 1,
   "id": "0241476b",
   "metadata": {},
   "outputs": [],
   "source": [
    "lll : list = [1,2,3,4]"
   ]
  },
  {
   "cell_type": "code",
   "execution_count": 3,
   "id": "c797af8e",
   "metadata": {},
   "outputs": [],
   "source": [
    "ttt : tuple = (1,2,3,4)"
   ]
  },
  {
   "cell_type": "code",
   "execution_count": 4,
   "id": "c730cf4c",
   "metadata": {},
   "outputs": [],
   "source": [
    "ddd : dict =  {1:2,3:4}"
   ]
  },
  {
   "cell_type": "markdown",
   "id": "4f53da2e",
   "metadata": {},
   "source": [
    "## 리스트, 튜플, 딕셔너리의 변수 주석에 구성된 원소의 타입을 지정할 수 있음 \n",
    "- 3.9 버전 이상부터 제공"
   ]
  },
  {
   "cell_type": "code",
   "execution_count": 10,
   "id": "715706ef",
   "metadata": {},
   "outputs": [],
   "source": [
    "names: list[str]\n",
    "locatlion: tuple[int, int]\n",
    "map: dict[str, str]"
   ]
  },
  {
   "cell_type": "code",
   "execution_count": null,
   "id": "e69a75c7",
   "metadata": {},
   "outputs": [],
   "source": []
  },
  {
   "cell_type": "code",
   "execution_count": null,
   "id": "32dc341d",
   "metadata": {},
   "outputs": [],
   "source": []
  },
  {
   "cell_type": "markdown",
   "id": "868873c3",
   "metadata": {},
   "source": [
    "## 2. typing 모듈로 타입힌트 \n",
    "\n",
    "- 파이썬 3.5부터 도입된 타입 힌트(Type Hints)를 지원하는 모듈로, 코드의 가독성과 유지보수성을 높이기 위해 사용됩니다. \n",
    "- typing 모듈은 다양한 타입을 정의하고 조합하여 함수, 클래스, 변수 등에 타입 정보를 추가할 수 있는 기능을 제공합니다."
   ]
  },
  {
   "cell_type": "markdown",
   "id": "13c0626c",
   "metadata": {},
   "source": [
    "## 2-1 기초 타입 알아보기\n",
    "\n",
    "- 파이썬의 빌트인 타입인 int, str만으로는 우리가 원하는 모든 타입을 명확하게 명시할 수 없습니다. \n",
    "- 이런 경우에는 파이썬의 typing모듈의 도움을 받으면 됩니다. \n"
   ]
  },
  {
   "cell_type": "markdown",
   "id": "086afee0",
   "metadata": {},
   "source": [
    "## 2-1-1  기본 및 문자열 처리 타입  "
   ]
  },
  {
   "cell_type": "markdown",
   "id": "71ab6462",
   "metadata": {},
   "source": [
    "## Any \n",
    "\n",
    "- Any 타입은 어떤 값이든 할당할 수 있는 동적 타입을 나타냅니다. \n",
    "- 이는 정적 타입 검사를 일부 우회하거나, 어떤 값이 어떤 타입이든 상관없이 받을 수 있는 상황에서 사용"
   ]
  },
  {
   "cell_type": "code",
   "execution_count": null,
   "id": "2c3a715f",
   "metadata": {},
   "outputs": [],
   "source": [
    "from typing import Any\n",
    "\n",
    "def process_data(data: Any) -> None:\n",
    "    # 어떤 타입의 데이터든지 처리 가능\n",
    "    print(data)\n",
    "\n",
    "# 다양한 타입의 값을 전달하여 함수 호출\n",
    "process_data(10)           # int\n",
    "process_data(\"Hello\")      # str\n",
    "process_data([1, 2, 3])    # list\n",
    "process_data({\"a\": 1})     # dict\n"
   ]
  },
  {
   "cell_type": "markdown",
   "id": "3721aedc",
   "metadata": {},
   "source": [
    "## 문자열과 바이트문자열"
   ]
  },
  {
   "cell_type": "code",
   "execution_count": 37,
   "id": "ac4c749c",
   "metadata": {},
   "outputs": [
    {
     "name": "stdout",
     "output_type": "stream",
     "text": [
      "Hello, world!\n",
      "b'Hello, world!'\n"
     ]
    }
   ],
   "source": [
    "from typing import AnyStr\n",
    "\n",
    "def concatenate(a: AnyStr, b: AnyStr) -> AnyStr:\n",
    "    return a + b\n",
    "\n",
    "str_result = concatenate(\"Hello, \", \"world!\")\n",
    "bytes_result = concatenate(b\"Hello, \", b\"world!\")\n",
    "\n",
    "print(str_result)  # \"Hello, world!\" 출력\n",
    "print(bytes_result)  # b\"Hello, world!\" 출력"
   ]
  },
  {
   "cell_type": "code",
   "execution_count": null,
   "id": "b3f25586",
   "metadata": {},
   "outputs": [],
   "source": []
  },
  {
   "cell_type": "markdown",
   "id": "b8cdcc3b",
   "metadata": {},
   "source": [
    "## 2-1-2. typing.Union\n",
    "- 하나의 변수나 함수의 매개변수에 여러 타입이 사용될 수 있을 때는 typing.Union을 사용"
   ]
  },
  {
   "cell_type": "code",
   "execution_count": 2,
   "id": "a44d1528",
   "metadata": {},
   "outputs": [],
   "source": [
    "from typing import Union"
   ]
  },
  {
   "cell_type": "markdown",
   "id": "ae98bd15",
   "metadata": {},
   "source": [
    "### 변수의 타입이 여러 개 중에 하나 선택 "
   ]
  },
  {
   "cell_type": "code",
   "execution_count": 8,
   "id": "6bb1eb9c",
   "metadata": {},
   "outputs": [],
   "source": [
    "number: Union[int, float] = 100"
   ]
  },
  {
   "cell_type": "code",
   "execution_count": 10,
   "id": "c70f7e43",
   "metadata": {},
   "outputs": [],
   "source": [
    "number = \"가을이\"                # 변수일 경우는 타입힌트와 상관없이 값 할당 "
   ]
  },
  {
   "cell_type": "markdown",
   "id": "f9a565f1",
   "metadata": {},
   "source": [
    "### 함수의 매개변수의 타입의 여러 개 중에 하나 "
   ]
  },
  {
   "cell_type": "code",
   "execution_count": 4,
   "id": "22b36904",
   "metadata": {},
   "outputs": [],
   "source": [
    "def square_root(number: Union[int, float]) -> float:\n",
    "    return number ** 0.5"
   ]
  },
  {
   "cell_type": "code",
   "execution_count": 5,
   "id": "01ee6261",
   "metadata": {},
   "outputs": [
    {
     "name": "stdout",
     "output_type": "stream",
     "text": [
      "5.0\n",
      "6.0\n"
     ]
    }
   ],
   "source": [
    "# 정수 타입 사용\n",
    "result1 = square_root(25)\n",
    "print(result1)  # 출력: 5.0\n",
    "\n",
    "# 부동소수점 타입 사용\n",
    "result2 = square_root(36.0)\n",
    "print(result2)  # 출력: 6.0\n"
   ]
  },
  {
   "cell_type": "code",
   "execution_count": 11,
   "id": "149eb00e",
   "metadata": {},
   "outputs": [
    {
     "name": "stdout",
     "output_type": "stream",
     "text": [
      "unsupported operand type(s) for ** or pow(): 'str' and 'float'\n"
     ]
    }
   ],
   "source": [
    "try :\n",
    "                                    # 타입 불일치 오류 발생\n",
    "    result3 = square_root(\"49\")     #  pow 함수에서 오류 정수만 처리 \n",
    "except Exception as e :\n",
    "    print(e)"
   ]
  },
  {
   "cell_type": "code",
   "execution_count": null,
   "id": "9459a3fc",
   "metadata": {},
   "outputs": [],
   "source": []
  },
  {
   "cell_type": "markdown",
   "id": "017613a1",
   "metadata": {},
   "source": [
    "## 2-1-3. typing.Optional\n",
    "- typing.Optional은 파이썬 타입 힌트 모듈인 typing에서 제공하는 기능 중 하나로, 특정 타입 또는 None 값을 가질 수 있는 타입을 정의하는 데 사용됩니다.\n",
    "- 즉, Optional은 지정한 타입과 None 중 하나를 나타내는 옵셔널 타입(Optional Type)을 생성하는 데 사용됩니다. \n",
    "- 이를 통해 변수나 매개변수가 특정 타입 또는 None 값을 가질 수 있음을 나타낼 수 있습니다."
   ]
  },
  {
   "cell_type": "code",
   "execution_count": 12,
   "id": "8379a343",
   "metadata": {},
   "outputs": [],
   "source": [
    "from typing import Optional"
   ]
  },
  {
   "cell_type": "code",
   "execution_count": 13,
   "id": "f8bd9eeb",
   "metadata": {},
   "outputs": [],
   "source": [
    "def get_name(prefix: Optional[str]) -> str:  ## str타입 또는 None값을 받음\n",
    "    if prefix is None:\n",
    "        return \"Unknown\"\n",
    "    return prefix + \" Name\""
   ]
  },
  {
   "cell_type": "markdown",
   "id": "8f31f88e",
   "metadata": {},
   "source": [
    "### 문자열을 넣음 "
   ]
  },
  {
   "cell_type": "code",
   "execution_count": 15,
   "id": "9e1aae93",
   "metadata": {},
   "outputs": [
    {
     "name": "stdout",
     "output_type": "stream",
     "text": [
      "Mr. Name\n"
     ]
    }
   ],
   "source": [
    "\n",
    "result1 = get_name(\"Mr.\")\n",
    "print(result1)  # 출력: \"Mr. Name\"\n"
   ]
  },
  {
   "cell_type": "markdown",
   "id": "5aa13a1c",
   "metadata": {},
   "source": [
    "### 아무것도 없다는 것을 전달 "
   ]
  },
  {
   "cell_type": "code",
   "execution_count": 16,
   "id": "88822785",
   "metadata": {},
   "outputs": [
    {
     "name": "stdout",
     "output_type": "stream",
     "text": [
      "Unknown\n"
     ]
    }
   ],
   "source": [
    "result2 = get_name(None)\n",
    "print(result2)  # 출력: \"Unknown\""
   ]
  },
  {
   "cell_type": "code",
   "execution_count": null,
   "id": "abe16250",
   "metadata": {},
   "outputs": [],
   "source": []
  },
  {
   "cell_type": "markdown",
   "id": "6df4a975",
   "metadata": {},
   "source": [
    "## 2-1-4. typing.List, typing.Tuple, typing.Dict"
   ]
  },
  {
   "cell_type": "markdown",
   "id": "a8e92cf0",
   "metadata": {},
   "source": [
    "### 내장 자료형 대신 사용 "
   ]
  },
  {
   "cell_type": "code",
   "execution_count": 18,
   "id": "a29b10ff",
   "metadata": {},
   "outputs": [],
   "source": [
    "from typing import Dict,Tuple, List"
   ]
  },
  {
   "cell_type": "markdown",
   "id": "c80a311a",
   "metadata": {},
   "source": [
    "### 튜플 타입 힌트 처리 "
   ]
  },
  {
   "cell_type": "code",
   "execution_count": 19,
   "id": "5a4a3dca",
   "metadata": {},
   "outputs": [],
   "source": [
    "coordinates: Tuple[float, float] = (12.34, 56.78)"
   ]
  },
  {
   "cell_type": "markdown",
   "id": "43d3f5c9",
   "metadata": {},
   "source": [
    "### 딕셔너리 타입힌트 처리 "
   ]
  },
  {
   "cell_type": "code",
   "execution_count": 20,
   "id": "1ae2fc35",
   "metadata": {},
   "outputs": [],
   "source": [
    "# 문자열을 키로 가지고 정수를 값으로 가지는 딕셔너리 타입\n",
    "student_scores: Dict[str, int] = {\n",
    "    \"Alice\": 90,\n",
    "    \"Bob\": 85,\n",
    "    \"Charlie\": 95\n",
    "}"
   ]
  },
  {
   "cell_type": "code",
   "execution_count": 21,
   "id": "6d4f8bc2",
   "metadata": {},
   "outputs": [],
   "source": [
    "# 정수를 키로 가지고 문자열을 값으로 가지는 딕셔너리 타입\n",
    "employee_names: Dict[int, str] = {\n",
    "    1: \"John\",\n",
    "    2: \"Jane\",\n",
    "    3: \"Alex\"\n",
    "}\n"
   ]
  },
  {
   "cell_type": "code",
   "execution_count": null,
   "id": "3a52029a",
   "metadata": {},
   "outputs": [],
   "source": []
  },
  {
   "cell_type": "markdown",
   "id": "b0fed3d5",
   "metadata": {},
   "source": [
    "## 딕셔너리의 값을 유니언 타입 처리 "
   ]
  },
  {
   "cell_type": "code",
   "execution_count": 9,
   "id": "f1144f3a",
   "metadata": {},
   "outputs": [],
   "source": [
    "user_data: Dict[str, Union[str, int]] = {\"name\": \"Bob\", \"age\": 25}"
   ]
  },
  {
   "cell_type": "code",
   "execution_count": null,
   "id": "83df5683",
   "metadata": {},
   "outputs": [],
   "source": []
  },
  {
   "cell_type": "markdown",
   "id": "169ebc0e",
   "metadata": {},
   "source": [
    "## 2-1-5. typing.TypedDict\n",
    "- 딕셔너리의 경우 밸류의 타입이 하나로 고정되는 일만 있는 것은 아닙니다. 이럴 때는 TypedDict를 활용할 수 있습니다. \n",
    "- TypedDict를 상속받은 클래스를 만드신 다음 아래와 같이 키와 밸류의 타입을 매칭 시켜주면 됩니다. (파이썬 3.8부터 지원)"
   ]
  },
  {
   "cell_type": "code",
   "execution_count": 22,
   "id": "b9e16d37",
   "metadata": {},
   "outputs": [],
   "source": [
    "from typing import TypedDict"
   ]
  },
  {
   "cell_type": "markdown",
   "id": "2ced798f",
   "metadata": {},
   "source": [
    "### 상속해서 지정하기 "
   ]
  },
  {
   "cell_type": "code",
   "execution_count": 23,
   "id": "feb8170b",
   "metadata": {},
   "outputs": [],
   "source": [
    "# TypedDict 정의\n",
    "class Person(TypedDict):\n",
    "    name: str\n",
    "    age: int"
   ]
  },
  {
   "cell_type": "code",
   "execution_count": 24,
   "id": "139504ae",
   "metadata": {},
   "outputs": [],
   "source": [
    "\n",
    "\n",
    "# TypedDict를 사용하여 딕셔너리 생성\n",
    "person_info: Person = {\"name\": \"Alice\", \"age\": 30}\n",
    "\n",
    "# 타입 불일치 오류 발생\n",
    "invalid_person_info: Person = {\"name\": \"Bob\", \"gender\": \"Male\"}\n"
   ]
  },
  {
   "cell_type": "markdown",
   "id": "2af0b879",
   "metadata": {},
   "source": [
    "### TypedDict 직접 지정하기 "
   ]
  },
  {
   "cell_type": "code",
   "execution_count": 25,
   "id": "10e36a2b",
   "metadata": {},
   "outputs": [
    {
     "name": "stderr",
     "output_type": "stream",
     "text": [
      "/var/folders/h4/44486vyn1_xbs13g1z50l5m00000gn/T/ipykernel_15750/786808532.py:1: DeprecationWarning: The kwargs-based syntax for TypedDict definitions is deprecated in Python 3.11, will be removed in Python 3.13, and may not be understood by third-party type checkers.\n",
      "  Person2 = TypedDict(\"Person2\", name=str, age=str, gender=str)\n"
     ]
    }
   ],
   "source": [
    "Person2 = TypedDict(\"Person2\", name=str, age=str, gender=str)"
   ]
  },
  {
   "cell_type": "markdown",
   "id": "a46113c3",
   "metadata": {},
   "source": [
    "### 지정할때 딕셔너리로 지정처리 "
   ]
  },
  {
   "cell_type": "code",
   "execution_count": 4,
   "id": "b6cb77e9",
   "metadata": {},
   "outputs": [],
   "source": [
    "Person3 = TypedDict(\"Person3\", {\"name\": str, \"age\": int, \"gender\": str})"
   ]
  },
  {
   "cell_type": "code",
   "execution_count": null,
   "id": "40a8bcfd",
   "metadata": {},
   "outputs": [],
   "source": []
  },
  {
   "cell_type": "markdown",
   "id": "86ab8a25",
   "metadata": {},
   "source": [
    "## 2-1-6. typing.Generator, typing.Iterable, typing.Iterator"
   ]
  },
  {
   "cell_type": "code",
   "execution_count": 30,
   "id": "b608644b",
   "metadata": {},
   "outputs": [],
   "source": [
    "from typing import Iterable, Iterator, Generator"
   ]
  },
  {
   "cell_type": "markdown",
   "id": "a7c06017",
   "metadata": {},
   "source": [
    "### 반복형 처리 "
   ]
  },
  {
   "cell_type": "code",
   "execution_count": 27,
   "id": "149613d2",
   "metadata": {},
   "outputs": [],
   "source": [
    "def print_elements(iterable: Iterable) -> None:\n",
    "    for element in iterable:\n",
    "        print(element)"
   ]
  },
  {
   "cell_type": "code",
   "execution_count": 28,
   "id": "542d4965",
   "metadata": {},
   "outputs": [
    {
     "name": "stdout",
     "output_type": "stream",
     "text": [
      "1\n",
      "2\n",
      "3\n",
      "4\n",
      "5\n",
      "Alice\n",
      "Bob\n",
      "Charlie\n"
     ]
    }
   ],
   "source": [
    "# 리스트를 전달하여 함수 호출\n",
    "numbers = [1, 2, 3, 4, 5]\n",
    "print_elements(numbers)\n",
    "\n",
    "# 튜플을 전달하여 함수 호출\n",
    "names = (\"Alice\", \"Bob\", \"Charlie\")\n",
    "print_elements(names)"
   ]
  },
  {
   "cell_type": "markdown",
   "id": "3d74b5c6",
   "metadata": {},
   "source": [
    "## 반복형 처리 "
   ]
  },
  {
   "cell_type": "code",
   "execution_count": 31,
   "id": "1e046cc7",
   "metadata": {},
   "outputs": [
    {
     "name": "stdout",
     "output_type": "stream",
     "text": [
      "1\n",
      "2\n",
      "3\n",
      "4\n",
      "5\n"
     ]
    }
   ],
   "source": [
    "def print_elements(iterator: Iterator) -> None:\n",
    "    for element in iterator:\n",
    "        print(element)\n",
    "\n",
    "# 리스트를 이터레이터로 변환하여 함수 호출\n",
    "numbers = [1, 2, 3, 4, 5]\n",
    "numbers_iterator = iter(numbers)\n",
    "print_elements(numbers_iterator)"
   ]
  },
  {
   "cell_type": "markdown",
   "id": "738e9093",
   "metadata": {},
   "source": [
    "## 제너레이터 처리 \n",
    "\n",
    "### Generator는 세 개의 타입 매개변수를 갖습니다:\n",
    "\n",
    "- YieldType: yield 키워드로 생성되는 값의 타입입니다.\n",
    "- SendType: 제너레이터에 값을 전달할 때의 타입입니다.\n",
    "- ReturnType: 제너레이터 함수의 반환 타입입니다.\n"
   ]
  },
  {
   "cell_type": "code",
   "execution_count": 32,
   "id": "4ae7f2a2",
   "metadata": {},
   "outputs": [
    {
     "name": "stdout",
     "output_type": "stream",
     "text": [
      "1\n",
      "2\n",
      "3\n"
     ]
    }
   ],
   "source": [
    "def generate_numbers() -> Generator[int, None, None]:\n",
    "    yield 1\n",
    "    yield 2\n",
    "    yield 3\n",
    "\n",
    "numbers_generator = generate_numbers()\n",
    "\n",
    "for num in numbers_generator:\n",
    "    print(num)"
   ]
  },
  {
   "cell_type": "code",
   "execution_count": null,
   "id": "65ae1476",
   "metadata": {},
   "outputs": [],
   "source": []
  },
  {
   "cell_type": "markdown",
   "id": "3ceec053",
   "metadata": {},
   "source": [
    "## 3. 함수와 클래스에 확장하기 "
   ]
  },
  {
   "cell_type": "markdown",
   "id": "90b9d081",
   "metadata": {},
   "source": [
    "## 3-1 함수 "
   ]
  },
  {
   "cell_type": "markdown",
   "id": "fead6ac2",
   "metadata": {},
   "source": [
    "## 함수 매개변수 대한 타입힘트 "
   ]
  },
  {
   "cell_type": "code",
   "execution_count": 13,
   "id": "f8a84f52",
   "metadata": {},
   "outputs": [],
   "source": [
    "# 변수 주석을 사용하여 함수의 반환 값 타입 명시하기\n",
    "def calculate_square(x: int) -> int:\n",
    "    return x * x"
   ]
  },
  {
   "cell_type": "markdown",
   "id": "408e0622",
   "metadata": {},
   "source": [
    "## 함수를 정의하는 타입 "
   ]
  },
  {
   "cell_type": "code",
   "execution_count": 33,
   "id": "71c7a66c",
   "metadata": {},
   "outputs": [],
   "source": [
    "from typing import Callable"
   ]
  },
  {
   "cell_type": "code",
   "execution_count": 34,
   "id": "d68bd188",
   "metadata": {},
   "outputs": [],
   "source": [
    "def greet(name: str) -> str:\n",
    "    return f\"Hello, {name}!\""
   ]
  },
  {
   "cell_type": "code",
   "execution_count": 35,
   "id": "da820a77",
   "metadata": {},
   "outputs": [],
   "source": [
    "def apply_func(func: Callable[[str], str], value: str) -> str:\n",
    "    return func(value)"
   ]
  },
  {
   "cell_type": "code",
   "execution_count": 36,
   "id": "86042f4a",
   "metadata": {},
   "outputs": [
    {
     "name": "stdout",
     "output_type": "stream",
     "text": [
      "Hello, Alice!\n"
     ]
    }
   ],
   "source": [
    "result = apply_func(greet, \"Alice\")\n",
    "print(result)  # \"Hello, Alice!\" 출력"
   ]
  },
  {
   "cell_type": "code",
   "execution_count": null,
   "id": "86805762",
   "metadata": {},
   "outputs": [],
   "source": []
  },
  {
   "cell_type": "markdown",
   "id": "a39e4cef",
   "metadata": {},
   "source": [
    "## 3-2 클래스 "
   ]
  },
  {
   "cell_type": "code",
   "execution_count": null,
   "id": "aaaaea58",
   "metadata": {},
   "outputs": [],
   "source": []
  },
  {
   "cell_type": "markdown",
   "id": "720448e1",
   "metadata": {},
   "source": [
    "## 3-2-1 클래스에서의 타입힌트 "
   ]
  },
  {
   "cell_type": "code",
   "execution_count": 14,
   "id": "8a14adac",
   "metadata": {},
   "outputs": [],
   "source": [
    "class ShoppingCart:\n",
    "    def __init__(self, items: List[str]):\n",
    "        self.items = items\n",
    "    \n",
    "    def add_item(self, item: str) -> None:\n",
    "        self.items.append(item)\n",
    "    \n",
    "    def get_items(self) -> List[str]:\n",
    "        return self.items\n"
   ]
  },
  {
   "cell_type": "code",
   "execution_count": null,
   "id": "abd97c69",
   "metadata": {},
   "outputs": [],
   "source": []
  },
  {
   "cell_type": "code",
   "execution_count": 15,
   "id": "d8be14a6",
   "metadata": {},
   "outputs": [
    {
     "name": "stdout",
     "output_type": "stream",
     "text": [
      "['apple', 'banana', 'orange']\n"
     ]
    }
   ],
   "source": [
    "# 사용 예시\n",
    "cart = ShoppingCart(items=[\"apple\", \"banana\"])\n",
    "cart.add_item(\"orange\")\n",
    "items = cart.get_items()\n",
    "print(items)  # 출력: ['apple', 'banana', 'orange']"
   ]
  },
  {
   "cell_type": "code",
   "execution_count": null,
   "id": "1b617d7d",
   "metadata": {},
   "outputs": [],
   "source": []
  },
  {
   "cell_type": "markdown",
   "id": "f10796ca",
   "metadata": {},
   "source": [
    "## 클래스 알아보기 "
   ]
  },
  {
   "cell_type": "code",
   "execution_count": 20,
   "id": "854c0c33",
   "metadata": {},
   "outputs": [
    {
     "name": "stdout",
     "output_type": "stream",
     "text": [
      "__call__, __class__, __delattr__, __dict__, __dir__, __doc__, __eq__, __format__, __ge__, __getattr__, __getattribute__, __getitem__, __getstate__, __gt__, __hash__, __init__, __init_subclass__, __instancecheck__, __iter__, __le__, __lt__, __module__, __mro_entries__, __ne__, __new__, __or__, __origin__, __reduce__, __reduce_ex__, __repr__, __ror__, __setattr__, __sizeof__, __slots__, __str__, __subclasscheck__, __subclasshook__, __weakref__, _inst, _name, _nparams, append, clear, copy, copy_with, count, extend, index, insert, pop, remove, reverse, sort, "
     ]
    }
   ],
   "source": [
    "for i in dir(List) :\n",
    "    print(i,end=\", \")"
   ]
  },
  {
   "cell_type": "code",
   "execution_count": 23,
   "id": "229c2e56",
   "metadata": {},
   "outputs": [
    {
     "name": "stdout",
     "output_type": "stream",
     "text": [
      "Type List cannot be instantiated; use list() instead\n"
     ]
    }
   ],
   "source": [
    "try :\n",
    "    List(\"123\")\n",
    "except TypeError as e :\n",
    "    print(e)"
   ]
  },
  {
   "cell_type": "code",
   "execution_count": 24,
   "id": "87b535fd",
   "metadata": {},
   "outputs": [],
   "source": [
    "a : List = list(\"123\")"
   ]
  },
  {
   "cell_type": "code",
   "execution_count": 25,
   "id": "7610236d",
   "metadata": {},
   "outputs": [
    {
     "data": {
      "text/plain": [
       "['1', '2', '3']"
      ]
     },
     "execution_count": 25,
     "metadata": {},
     "output_type": "execute_result"
    }
   ],
   "source": [
    "a"
   ]
  },
  {
   "cell_type": "code",
   "execution_count": null,
   "id": "f4586d54",
   "metadata": {},
   "outputs": [],
   "source": []
  },
  {
   "cell_type": "markdown",
   "id": "33a0a8a8",
   "metadata": {},
   "source": [
    "## 메서드는 작동한다 "
   ]
  },
  {
   "cell_type": "code",
   "execution_count": 27,
   "id": "8b8841a3",
   "metadata": {},
   "outputs": [
    {
     "data": {
      "text/plain": [
       "'3'"
      ]
     },
     "execution_count": 27,
     "metadata": {},
     "output_type": "execute_result"
    }
   ],
   "source": [
    "List.pop(a)"
   ]
  },
  {
   "cell_type": "code",
   "execution_count": 28,
   "id": "50384cf3",
   "metadata": {},
   "outputs": [
    {
     "data": {
      "text/plain": [
       "'2'"
      ]
     },
     "execution_count": 28,
     "metadata": {},
     "output_type": "execute_result"
    }
   ],
   "source": [
    "a.pop()"
   ]
  },
  {
   "cell_type": "markdown",
   "id": "e3be6712",
   "metadata": {},
   "source": [
    "## 3-2-2 제너릭 타입 힌트 "
   ]
  },
  {
   "cell_type": "code",
   "execution_count": null,
   "id": "ad599161",
   "metadata": {},
   "outputs": [],
   "source": []
  },
  {
   "cell_type": "markdown",
   "id": "689a194b",
   "metadata": {},
   "source": [
    "## typing.Type:\n",
    "\n",
    "- Type은 클래스 타입을 나타내기 위해 사용됩니다. 주로 클래스를 타입으로 지정하거나, 클래스 메서드의 반환 타입으로 사용할 때 활용됩니다. 예를 들어:"
   ]
  },
  {
   "cell_type": "code",
   "execution_count": 38,
   "id": "fdf4159b",
   "metadata": {},
   "outputs": [],
   "source": [
    "from typing import Type\n",
    "\n",
    "class MyClass:\n",
    "    pass\n",
    "\n",
    "def create_instance(cls: Type[MyClass]) -> MyClass:\n",
    "    return cls()\n",
    "\n",
    "instance = create_instance(MyClass)"
   ]
  },
  {
   "cell_type": "markdown",
   "id": "bec9f7f7",
   "metadata": {},
   "source": [
    "## typing.TypeVar:\n",
    "- TypeVar는 제너릭 타입을 나타내기 위해 사용되며, 여러 곳에서 동일한 제너릭 타입을 사용할 때 유용합니다. \n",
    "- 다른 타입을 지정하기 전까지는 실제 타입을 나타내지 않습니다."
   ]
  },
  {
   "cell_type": "code",
   "execution_count": 39,
   "id": "6c45f44c",
   "metadata": {},
   "outputs": [],
   "source": [
    "from typing import TypeVar, List\n",
    "\n",
    "T = TypeVar('T')  # 제너릭 타입 변수\n",
    "\n",
    "def get_first_item(items: List[T]) -> T:\n",
    "    return items[0]\n",
    "\n",
    "first_item = get_first_item([1, 2, 3])  # first_item의 타입은 int로 추론됩니다.\n"
   ]
  },
  {
   "cell_type": "code",
   "execution_count": null,
   "id": "2ea8a887",
   "metadata": {},
   "outputs": [],
   "source": []
  }
 ],
 "metadata": {
  "kernelspec": {
   "display_name": "Python 3 (ipykernel)",
   "language": "python",
   "name": "python3"
  },
  "language_info": {
   "codemirror_mode": {
    "name": "ipython",
    "version": 3
   },
   "file_extension": ".py",
   "mimetype": "text/x-python",
   "name": "python",
   "nbconvert_exporter": "python",
   "pygments_lexer": "ipython3",
   "version": "3.11.3"
  }
 },
 "nbformat": 4,
 "nbformat_minor": 5
}
