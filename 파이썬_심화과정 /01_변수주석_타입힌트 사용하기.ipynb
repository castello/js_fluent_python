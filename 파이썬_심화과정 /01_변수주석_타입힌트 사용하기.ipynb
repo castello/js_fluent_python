{
 "cells": [
  {
   "cell_type": "code",
   "execution_count": null,
   "id": "1276486f",
   "metadata": {},
   "outputs": [],
   "source": []
  },
  {
   "cell_type": "code",
   "execution_count": 12,
   "id": "3b4f9732",
   "metadata": {},
   "outputs": [
    {
     "data": {
      "text/plain": [
       "'3.11.3'"
      ]
     },
     "execution_count": 12,
     "metadata": {},
     "output_type": "execute_result"
    }
   ],
   "source": [
    "import platform\n",
    "\n",
    "platform.python_version()"
   ]
  },
  {
   "cell_type": "code",
   "execution_count": null,
   "id": "0270cfba",
   "metadata": {},
   "outputs": [],
   "source": []
  },
  {
   "cell_type": "markdown",
   "id": "868873c3",
   "metadata": {},
   "source": [
    "## typing 모듈 \n",
    "- 파이썬 3.5부터 도입된 타입 힌트(Type Hints)를 지원하는 모듈로, 코드의 가독성과 유지보수성을 높이기 위해 사용됩니다. \n",
    "- typing 모듈은 다양한 타입을 정의하고 조합하여 함수, 클래스, 변수 등에 타입 정보를 추가할 수 있는 기능을 제공합니다."
   ]
  },
  {
   "cell_type": "code",
   "execution_count": null,
   "id": "dc08c31c",
   "metadata": {},
   "outputs": [],
   "source": []
  },
  {
   "cell_type": "code",
   "execution_count": null,
   "id": "d51bf9a5",
   "metadata": {},
   "outputs": [],
   "source": []
  },
  {
   "cell_type": "code",
   "execution_count": null,
   "id": "f433afcc",
   "metadata": {},
   "outputs": [],
   "source": []
  },
  {
   "cell_type": "code",
   "execution_count": null,
   "id": "f13bb6ac",
   "metadata": {},
   "outputs": [],
   "source": []
  },
  {
   "cell_type": "code",
   "execution_count": null,
   "id": "ca3b6fe8",
   "metadata": {},
   "outputs": [],
   "source": [
    "## 변수 주석"
   ]
  },
  {
   "cell_type": "code",
   "execution_count": 1,
   "id": "83e3868e",
   "metadata": {},
   "outputs": [],
   "source": [
    "# 변수 주석을 사용하여 변수의 타입 정보 추가하기\n",
    "name: str = \"Alice\"\n",
    "age: int = 30\n",
    "height: float = 175.5\n"
   ]
  },
  {
   "cell_type": "code",
   "execution_count": 16,
   "id": "a29b10ff",
   "metadata": {},
   "outputs": [],
   "source": [
    "from typing import Dict,Tuple, Union, List"
   ]
  },
  {
   "cell_type": "code",
   "execution_count": 10,
   "id": "5a4a3dca",
   "metadata": {},
   "outputs": [],
   "source": [
    "coordinates: Tuple[float, float] = (12.34, 56.78)"
   ]
  },
  {
   "cell_type": "code",
   "execution_count": null,
   "id": "1ae2fc35",
   "metadata": {},
   "outputs": [],
   "source": []
  },
  {
   "cell_type": "code",
   "execution_count": 7,
   "id": "6d4f8bc2",
   "metadata": {},
   "outputs": [],
   "source": [
    "\n",
    "\n",
    "# 문자열을 키로 가지고 정수를 값으로 가지는 딕셔너리 타입\n",
    "student_scores: Dict[str, int] = {\n",
    "    \"Alice\": 90,\n",
    "    \"Bob\": 85,\n",
    "    \"Charlie\": 95\n",
    "}\n",
    "\n",
    "# 정수를 키로 가지고 문자열을 값으로 가지는 딕셔너리 타입\n",
    "employee_names: Dict[int, str] = {\n",
    "    1: \"John\",\n",
    "    2: \"Jane\",\n",
    "    3: \"Alex\"\n",
    "}\n"
   ]
  },
  {
   "cell_type": "code",
   "execution_count": null,
   "id": "3a52029a",
   "metadata": {},
   "outputs": [],
   "source": []
  },
  {
   "cell_type": "code",
   "execution_count": null,
   "id": "38ef0b3d",
   "metadata": {},
   "outputs": [],
   "source": []
  },
  {
   "cell_type": "code",
   "execution_count": 9,
   "id": "f1144f3a",
   "metadata": {},
   "outputs": [],
   "source": [
    "user_data: Dict[str, Union[str, int]] = {\"name\": \"Bob\", \"age\": 25}"
   ]
  },
  {
   "cell_type": "code",
   "execution_count": null,
   "id": "83df5683",
   "metadata": {},
   "outputs": [],
   "source": []
  },
  {
   "cell_type": "markdown",
   "id": "fead6ac2",
   "metadata": {},
   "source": [
    "## 함수 매개변수 대한 타입힘트 "
   ]
  },
  {
   "cell_type": "code",
   "execution_count": 13,
   "id": "f8a84f52",
   "metadata": {},
   "outputs": [],
   "source": [
    "# 변수 주석을 사용하여 함수의 반환 값 타입 명시하기\n",
    "def calculate_square(x: int) -> int:\n",
    "    return x * x"
   ]
  },
  {
   "cell_type": "code",
   "execution_count": null,
   "id": "da820a77",
   "metadata": {},
   "outputs": [],
   "source": []
  },
  {
   "cell_type": "code",
   "execution_count": null,
   "id": "86042f4a",
   "metadata": {},
   "outputs": [],
   "source": []
  },
  {
   "cell_type": "markdown",
   "id": "720448e1",
   "metadata": {},
   "source": [
    "## 클래스에서의 타입힌트 "
   ]
  },
  {
   "cell_type": "code",
   "execution_count": 14,
   "id": "8a14adac",
   "metadata": {},
   "outputs": [],
   "source": [
    "class ShoppingCart:\n",
    "    def __init__(self, items: List[str]):\n",
    "        self.items = items\n",
    "    \n",
    "    def add_item(self, item: str) -> None:\n",
    "        self.items.append(item)\n",
    "    \n",
    "    def get_items(self) -> List[str]:\n",
    "        return self.items\n"
   ]
  },
  {
   "cell_type": "code",
   "execution_count": null,
   "id": "abd97c69",
   "metadata": {},
   "outputs": [],
   "source": []
  },
  {
   "cell_type": "code",
   "execution_count": 15,
   "id": "d8be14a6",
   "metadata": {},
   "outputs": [
    {
     "name": "stdout",
     "output_type": "stream",
     "text": [
      "['apple', 'banana', 'orange']\n"
     ]
    }
   ],
   "source": [
    "# 사용 예시\n",
    "cart = ShoppingCart(items=[\"apple\", \"banana\"])\n",
    "cart.add_item(\"orange\")\n",
    "items = cart.get_items()\n",
    "print(items)  # 출력: ['apple', 'banana', 'orange']"
   ]
  },
  {
   "cell_type": "code",
   "execution_count": null,
   "id": "1b617d7d",
   "metadata": {},
   "outputs": [],
   "source": []
  },
  {
   "cell_type": "markdown",
   "id": "f10796ca",
   "metadata": {},
   "source": [
    "## 클래스 알아보기 "
   ]
  },
  {
   "cell_type": "code",
   "execution_count": 20,
   "id": "854c0c33",
   "metadata": {},
   "outputs": [
    {
     "name": "stdout",
     "output_type": "stream",
     "text": [
      "__call__, __class__, __delattr__, __dict__, __dir__, __doc__, __eq__, __format__, __ge__, __getattr__, __getattribute__, __getitem__, __getstate__, __gt__, __hash__, __init__, __init_subclass__, __instancecheck__, __iter__, __le__, __lt__, __module__, __mro_entries__, __ne__, __new__, __or__, __origin__, __reduce__, __reduce_ex__, __repr__, __ror__, __setattr__, __sizeof__, __slots__, __str__, __subclasscheck__, __subclasshook__, __weakref__, _inst, _name, _nparams, append, clear, copy, copy_with, count, extend, index, insert, pop, remove, reverse, sort, "
     ]
    }
   ],
   "source": [
    "for i in dir(List) :\n",
    "    print(i,end=\", \")"
   ]
  },
  {
   "cell_type": "code",
   "execution_count": 23,
   "id": "229c2e56",
   "metadata": {},
   "outputs": [
    {
     "name": "stdout",
     "output_type": "stream",
     "text": [
      "Type List cannot be instantiated; use list() instead\n"
     ]
    }
   ],
   "source": [
    "try :\n",
    "    List(\"123\")\n",
    "except TypeError as e :\n",
    "    print(e)"
   ]
  },
  {
   "cell_type": "code",
   "execution_count": 24,
   "id": "87b535fd",
   "metadata": {},
   "outputs": [],
   "source": [
    "a : List = list(\"123\")"
   ]
  },
  {
   "cell_type": "code",
   "execution_count": 25,
   "id": "7610236d",
   "metadata": {},
   "outputs": [
    {
     "data": {
      "text/plain": [
       "['1', '2', '3']"
      ]
     },
     "execution_count": 25,
     "metadata": {},
     "output_type": "execute_result"
    }
   ],
   "source": [
    "a"
   ]
  },
  {
   "cell_type": "code",
   "execution_count": null,
   "id": "f4586d54",
   "metadata": {},
   "outputs": [],
   "source": []
  },
  {
   "cell_type": "markdown",
   "id": "33a0a8a8",
   "metadata": {},
   "source": [
    "## 메서드는 작동한다 "
   ]
  },
  {
   "cell_type": "code",
   "execution_count": 27,
   "id": "8b8841a3",
   "metadata": {},
   "outputs": [
    {
     "data": {
      "text/plain": [
       "'3'"
      ]
     },
     "execution_count": 27,
     "metadata": {},
     "output_type": "execute_result"
    }
   ],
   "source": [
    "List.pop(a)"
   ]
  },
  {
   "cell_type": "code",
   "execution_count": 28,
   "id": "50384cf3",
   "metadata": {},
   "outputs": [
    {
     "data": {
      "text/plain": [
       "'2'"
      ]
     },
     "execution_count": 28,
     "metadata": {},
     "output_type": "execute_result"
    }
   ],
   "source": [
    "a.pop()"
   ]
  },
  {
   "cell_type": "code",
   "execution_count": null,
   "id": "1868460d",
   "metadata": {},
   "outputs": [],
   "source": []
  }
 ],
 "metadata": {
  "kernelspec": {
   "display_name": "Python 3 (ipykernel)",
   "language": "python",
   "name": "python3"
  },
  "language_info": {
   "codemirror_mode": {
    "name": "ipython",
    "version": 3
   },
   "file_extension": ".py",
   "mimetype": "text/x-python",
   "name": "python",
   "nbconvert_exporter": "python",
   "pygments_lexer": "ipython3",
   "version": "3.11.3"
  }
 },
 "nbformat": 4,
 "nbformat_minor": 5
}
