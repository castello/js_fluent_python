{
 "cells": [
  {
   "cell_type": "code",
   "execution_count": 5,
   "id": "e088d06d",
   "metadata": {},
   "outputs": [
    {
     "data": {
      "text/plain": [
       "'3.11.3'"
      ]
     },
     "execution_count": 5,
     "metadata": {},
     "output_type": "execute_result"
    }
   ],
   "source": [
    "import platform\n",
    "platform.python_version()"
   ]
  },
  {
   "cell_type": "code",
   "execution_count": null,
   "id": "9cf5c883",
   "metadata": {},
   "outputs": [],
   "source": []
  },
  {
   "cell_type": "markdown",
   "id": "d1b2205f",
   "metadata": {},
   "source": [
    "## 네임드 튜플(named tuple)과 데이터 클래스(dataclass)\n",
    "\n",
    "- 모두 데이터를 저장하고 다루기 위한 방식으로 사용되지만, 몇 가지 차이점이 있습니다.\n",
    "\n",
    "### 불변성: \n",
    "- 네임드 튜플은 불변(immutable) 객체로서, 한 번 생성된 후에 내부 데이터를 변경할 수 없습니다. \n",
    "- 반면 데이터 클래스는 필요에 따라 불변성 또는 가변성을 선택할 수 있습니다.\n",
    "\n",
    "### 선언: \n",
    "- 네임드 튜플은 collections.namedtuple 함수를 사용하여 정의됩니다. \n",
    "- 데이터 클래스는 dataclasses.dataclass 데코레이터를 사용하여 정의됩니다.\n",
    "\n",
    "### 타입 힌트: \n",
    "- 데이터 클래스는 타입 힌트를 더 넓게 지원합니다. \n",
    "- 네임드 튜플은 필드에 주석을 달기 어렵지만, 데이터 클래스는 타입 힌트를 사용할 수 있습니다.\n",
    "\n",
    "### 메서드: \n",
    "- 데이터 클래스는 자동으로 __init__, __repr__, __eq__ 등의 메서드를 생성하여 사용하기 쉽게 만듭니다. \n",
    "- 네임드 튜플은 이러한 메서드를 직접 정의해야 합니다.\n",
    "\n",
    "### 기능: \n",
    "- 데이터 클래스는 필드에 기본값, 기타 옵션 등을 설정할 수 있습니다. \n",
    "- 네임드 튜플은 필드에 기본값을 제공하기 어려우며, 튜플의 속성과 메서드가 제한적입니다.\n"
   ]
  },
  {
   "cell_type": "code",
   "execution_count": null,
   "id": "ee9dd78c",
   "metadata": {},
   "outputs": [],
   "source": []
  },
  {
   "cell_type": "markdown",
   "id": "f94ed989",
   "metadata": {},
   "source": [
    "## 1. 네임드 튜플\n",
    "\n",
    "- 데이터 클래스 대신에 네임드 튜플(named tuple)을 사용하여 데이터를 저장하는 예제를 살펴보겠습니다. \n",
    "- 네임드 튜플은 튜플의 요소에 이름을 부여하여 간단한 데이터 구조를 정의할 때 유용합니다."
   ]
  },
  {
   "cell_type": "code",
   "execution_count": 10,
   "id": "fc8ece13",
   "metadata": {},
   "outputs": [],
   "source": [
    "from collections import namedtuple\n",
    "\n",
    "# 네임드 튜플 정의\n",
    "Person = namedtuple('Person', ['name', 'age', 'email'])"
   ]
  },
  {
   "cell_type": "code",
   "execution_count": 11,
   "id": "538728a6",
   "metadata": {},
   "outputs": [],
   "source": [
    "# 네임드 튜플 인스턴스 생성\n",
    "person = Person(name=\"Alice\", age=30, email=\"alice@example.com\")\n"
   ]
  },
  {
   "cell_type": "code",
   "execution_count": 13,
   "id": "fd0b4ffd",
   "metadata": {},
   "outputs": [
    {
     "data": {
      "text/plain": [
       "Person(name='Alice', age=30, email='alice@example.com')"
      ]
     },
     "execution_count": 13,
     "metadata": {},
     "output_type": "execute_result"
    }
   ],
   "source": [
    "person"
   ]
  },
  {
   "cell_type": "code",
   "execution_count": 12,
   "id": "ef8bc390",
   "metadata": {},
   "outputs": [
    {
     "name": "stdout",
     "output_type": "stream",
     "text": [
      "Alice\n",
      "30\n",
      "alice@example.com\n"
     ]
    }
   ],
   "source": [
    "# 데이터에 접근\n",
    "print(person.name)   # 출력: Alice\n",
    "print(person.age)    # 출력: 30\n",
    "print(person.email)  # 출력: alice@example.com"
   ]
  },
  {
   "cell_type": "markdown",
   "id": "d817a755",
   "metadata": {},
   "source": [
    "### 불변 객체\n",
    "- 네임드 튜플(named tuple)은 불변(immutable) 객체입니다. \n",
    "- 네임드 튜플이 생성된 후에는 내부의 데이터를 변경할 수 없습니다. 즉, 한 번 생성된 네임드 튜플의 필드 값은 수정할 수 없습니다."
   ]
  },
  {
   "cell_type": "code",
   "execution_count": 14,
   "id": "07ab1d3c",
   "metadata": {},
   "outputs": [
    {
     "name": "stdout",
     "output_type": "stream",
     "text": [
      "Error: can't set attribute\n"
     ]
    }
   ],
   "source": [
    "try:\n",
    "    person.age = 31\n",
    "except Exception as e:\n",
    "    print(\"Error:\", e)"
   ]
  },
  {
   "cell_type": "code",
   "execution_count": null,
   "id": "7578beae",
   "metadata": {},
   "outputs": [],
   "source": []
  },
  {
   "cell_type": "markdown",
   "id": "95a1ed1f",
   "metadata": {},
   "source": [
    "## 2. 데이터 클래스 "
   ]
  },
  {
   "cell_type": "markdown",
   "id": "ac74f2ef",
   "metadata": {},
   "source": [
    "## 2-1. 파이썬 dataclasses 정의하기 \n",
    "- 데이터를 저장하고 조작하는 데 사용하는 클래스를 생성하는 데 도움이 되는 데코레이터와 함수를 제공하는 모듈입니다. \n",
    "- dataclasses 모듈을 사용하면 일반적으로 필드를 가진 클래스를 더 쉽게 정의할 수 있습니다. \n",
    "- 이를 통해 간단하고 가독성이 높은 데이터 클래스를 만들 수 있습니다."
   ]
  },
  {
   "cell_type": "markdown",
   "id": "081e2cae",
   "metadata": {},
   "source": [
    "### 데이터 클래스 정의\n",
    "\n",
    "- 데코레이트를 사용\n",
    "- 클래스 내부에는 클래스 속성만 정의 \n"
   ]
  },
  {
   "cell_type": "code",
   "execution_count": 2,
   "id": "dc96356a",
   "metadata": {},
   "outputs": [],
   "source": [
    "from dataclasses import dataclass\n",
    "\n",
    "@dataclass\n",
    "class Person:\n",
    "    name: str\n",
    "    age: int\n",
    "    email: str\n"
   ]
  },
  {
   "cell_type": "markdown",
   "id": "cda963cd",
   "metadata": {},
   "source": [
    "### 데이터 클래스 인스턴스 생성 "
   ]
  },
  {
   "cell_type": "code",
   "execution_count": 4,
   "id": "13e3511e",
   "metadata": {},
   "outputs": [],
   "source": [
    "# 데이터 클래스 인스턴스 생성\n",
    "person = Person(name=\"Alice\", age=30, email=\"alice@example.com\")"
   ]
  },
  {
   "cell_type": "markdown",
   "id": "e3cb3e90",
   "metadata": {},
   "source": [
    "### 속성들 확인 "
   ]
  },
  {
   "cell_type": "code",
   "execution_count": 3,
   "id": "02bd9e15",
   "metadata": {},
   "outputs": [
    {
     "name": "stdout",
     "output_type": "stream",
     "text": [
      "Alice\n",
      "30\n",
      "alice@example.com\n"
     ]
    }
   ],
   "source": [
    "print(person.name)   # 출력: Alice\n",
    "print(person.age)    # 출력: 30\n",
    "print(person.email)  # 출력: alice@example.com"
   ]
  },
  {
   "cell_type": "markdown",
   "id": "a0002026",
   "metadata": {},
   "source": [
    "## 2-2. 다양한 자료형으로 데이터 클래스 정의\n",
    "\n",
    "- 데이터 클래스 정의할 때 클래스 속성에 초기값을 지정할 수 있다."
   ]
  },
  {
   "cell_type": "code",
   "execution_count": 1,
   "id": "07e62785",
   "metadata": {},
   "outputs": [],
   "source": [
    "from dataclasses import dataclass\n",
    "from datetime import date"
   ]
  },
  {
   "cell_type": "markdown",
   "id": "0fcc7006",
   "metadata": {},
   "source": [
    "###  다양한 자료형 및 초기값 설정 가능 "
   ]
  },
  {
   "cell_type": "code",
   "execution_count": 1,
   "id": "007a1936",
   "metadata": {},
   "outputs": [],
   "source": [
    "@dataclass\n",
    "class User:\n",
    "    id: int\n",
    "    name: str\n",
    "    birthdate: date\n",
    "    admin: bool = False"
   ]
  },
  {
   "cell_type": "code",
   "execution_count": 2,
   "id": "e215037c",
   "metadata": {},
   "outputs": [],
   "source": [
    "user1 = User(id=1, name=\"Steve Jobs\", birthdate=date(1955, 2, 24))"
   ]
  },
  {
   "cell_type": "code",
   "execution_count": 3,
   "id": "b075b308",
   "metadata": {},
   "outputs": [
    {
     "data": {
      "text/plain": [
       "User(id=1, name='Steve Jobs', birthdate=datetime.date(1955, 2, 24), admin=False)"
      ]
     },
     "execution_count": 3,
     "metadata": {},
     "output_type": "execute_result"
    }
   ],
   "source": [
    "user1"
   ]
  },
  {
   "cell_type": "code",
   "execution_count": null,
   "id": "0bb9f9fa",
   "metadata": {},
   "outputs": [],
   "source": []
  },
  {
   "cell_type": "markdown",
   "id": "2dad2b69",
   "metadata": {},
   "source": [
    "## 2-3 불변 데이터 클래스 정의\n",
    "\n",
    "- dataclasses를 사용하여 불변성을 가진 데이터 클래스를 정의할 수 있습니다. \n",
    "- 불변성을 갖는 클래스는 한 번 생성된 후에 그 상태가 변경되지 않는 특징을 가지며, 데이터의 안정성을 보장할 수 있습니다. \n"
   ]
  },
  {
   "cell_type": "code",
   "execution_count": null,
   "id": "3eefd757",
   "metadata": {},
   "outputs": [],
   "source": []
  },
  {
   "cell_type": "code",
   "execution_count": 6,
   "id": "8781610d",
   "metadata": {},
   "outputs": [],
   "source": [
    "from dataclasses import dataclass\n",
    "\n",
    "@dataclass(frozen=True)\n",
    "class ImmutablePerson:\n",
    "    name: str\n",
    "    age: int\n",
    "    email: str\n"
   ]
  },
  {
   "cell_type": "code",
   "execution_count": 7,
   "id": "4c45b7c7",
   "metadata": {},
   "outputs": [],
   "source": [
    "# 불변성 데이터 클래스 인스턴스 생성\n",
    "person = ImmutablePerson(name=\"Alice\", age=30, email=\"alice@example.com\")"
   ]
  },
  {
   "cell_type": "code",
   "execution_count": null,
   "id": "e4cb79c4",
   "metadata": {},
   "outputs": [],
   "source": []
  },
  {
   "cell_type": "code",
   "execution_count": 9,
   "id": "2fdc21fd",
   "metadata": {},
   "outputs": [
    {
     "name": "stdout",
     "output_type": "stream",
     "text": [
      "Error: cannot assign to field 'age'\n"
     ]
    }
   ],
   "source": [
    "# 시도: 불변성 클래스의 필드 수정 시 예외 발생\n",
    "try:\n",
    "    person.age = 31\n",
    "except Exception as e:\n",
    "    print(\"Error:\", e)"
   ]
  },
  {
   "cell_type": "code",
   "execution_count": null,
   "id": "15da4063",
   "metadata": {},
   "outputs": [],
   "source": []
  },
  {
   "cell_type": "code",
   "execution_count": null,
   "id": "3a9b2869",
   "metadata": {},
   "outputs": [],
   "source": []
  },
  {
   "cell_type": "markdown",
   "id": "8fb45469",
   "metadata": {},
   "source": [
    "## pydantic과 데이터 클래스(dataclass)\n",
    "- 모두 데이터를 다루고 유효성을 검사하는 데 사용되는 도구입니다. 그러나 두 접근 방식 간에는 몇 가지 차이점이 있습니다.\n",
    "\n",
    "### 데이터 유효성 검사:\n",
    "\n",
    "- pydantic: 주된 목적은 데이터의 유효성을 검사하고 변환하는 것입니다. 입력 데이터의 유효성을 확인하고 데이터를 다루는 동안 데이터 유형 변환과 유효성 검증을 수행하는 데 중점을 둡니다.\n",
    "- 데이터 클래스: 기본적으로 데이터 클래스는 필드를 가지며, 유효성 검사를 수동으로 수행해야 합니다. 불변성을 유지하거나 가변성을 선택할 수 있으며, 필요에 따라 데이터를 검사하는 로직을 구현해야 합니다.\n",
    "\n",
    "### 선언:\n",
    "\n",
    "- pydantic: 필드의 유형, 검증 규칙, 기본값 등을 선언하는 방식을 통해 데이터 모델을 정의합니다.\n",
    "- 데이터 클래스: 간단한 데이터 저장 구조를 만들기 위한 데코레이터를 사용하여 데이터 클래스를 정의합니다.\n",
    "\n",
    "### 타입 힌트와 주석:\n",
    "\n",
    "- pydantic: 데이터 모델의 필드에 타입 힌트와 주석을 사용하여 데이터 유형을 지정하고 문서화할 수 있습니다.\n",
    "- 데이터 클래스: PEP 484 타입 힌트를 사용할 수 있지만, 더 넓은 범위의 타입 힌트와 주석을 pydantic이 지원합니다.\n",
    "\n",
    "### 메서드와 기능:\n",
    "\n",
    "- pydantic: 데이터 유효성 검사, 디코딩, 인코딩, JSON 직렬화, 설정 관리 등 다양한 기능을 제공합니다.\n",
    "- 데이터 클래스: 주로 데이터 저장 구조를 생성하는 데 초점을 맞추며, 간단한 메서드나 특수 기능은 제공하지 않습니다."
   ]
  },
  {
   "cell_type": "code",
   "execution_count": null,
   "id": "3e7ed415",
   "metadata": {},
   "outputs": [],
   "source": []
  },
  {
   "cell_type": "markdown",
   "id": "5a850a6c",
   "metadata": {},
   "source": [
    "## 3. pydantic: \n",
    "- pydantic은 데이터 검증과 설정을 위한 모듈로, 데이터 클래스와 유사한 모델 클래스를 생성하면서 입력 데이터의 유효성을 검사하고 변환할 수 있습니다. \n",
    "- 주로 데이터 유효성 검증이 필요한 설정 파일이나 사용자 입력 처리에 유용합니다."
   ]
  },
  {
   "cell_type": "markdown",
   "id": "915fc4e3",
   "metadata": {},
   "source": [
    "## 3-1 정의 "
   ]
  },
  {
   "cell_type": "code",
   "execution_count": 16,
   "id": "fffc375e",
   "metadata": {},
   "outputs": [],
   "source": [
    "from pydantic import BaseModel"
   ]
  },
  {
   "cell_type": "code",
   "execution_count": 17,
   "id": "feb50691",
   "metadata": {},
   "outputs": [],
   "source": [
    "# Pydantic 모델 정의\n",
    "class Person(BaseModel):\n",
    "    name: str\n",
    "    age: int\n",
    "    email: str\n"
   ]
  },
  {
   "cell_type": "markdown",
   "id": "b2481a5f",
   "metadata": {},
   "source": [
    "## 인스턴스 생성 "
   ]
  },
  {
   "cell_type": "code",
   "execution_count": 18,
   "id": "639df981",
   "metadata": {},
   "outputs": [],
   "source": [
    "# 유효성 검증 및 데이터 변환\n",
    "data = {\n",
    "    \"name\": \"Alice\",\n",
    "    \"age\": 30,\n",
    "    \"email\": \"alice@example.com\"\n",
    "}\n"
   ]
  },
  {
   "cell_type": "code",
   "execution_count": 19,
   "id": "404f3dfc",
   "metadata": {},
   "outputs": [],
   "source": [
    "person = Person(**data)"
   ]
  },
  {
   "cell_type": "markdown",
   "id": "90a5e688",
   "metadata": {},
   "source": [
    "### 조회하기 "
   ]
  },
  {
   "cell_type": "code",
   "execution_count": 20,
   "id": "d723385c",
   "metadata": {},
   "outputs": [
    {
     "name": "stdout",
     "output_type": "stream",
     "text": [
      "Alice\n",
      "30\n",
      "alice@example.com\n"
     ]
    }
   ],
   "source": [
    "print(person.name)   # 출력: Alice\n",
    "print(person.age)    # 출력: 30\n",
    "print(person.email)  # 출력: alice@example.com"
   ]
  },
  {
   "cell_type": "markdown",
   "id": "5aec416d",
   "metadata": {},
   "source": [
    "## 기본값 처리"
   ]
  },
  {
   "cell_type": "code",
   "execution_count": 29,
   "id": "98cf4abc",
   "metadata": {},
   "outputs": [
    {
     "name": "stdout",
     "output_type": "stream",
     "text": [
      "30\n"
     ]
    }
   ],
   "source": [
    "class Person(BaseModel):\n",
    "    name: str\n",
    "    age: int = 30  # 기본값 설정\n",
    "\n",
    "person = Person(name=\"Alice\")\n",
    "print(person.age)  # 출력: 30 (기본값 적용)"
   ]
  },
  {
   "cell_type": "code",
   "execution_count": null,
   "id": "a0c4f4e2",
   "metadata": {},
   "outputs": [],
   "source": []
  },
  {
   "cell_type": "code",
   "execution_count": null,
   "id": "0d9ab8c9",
   "metadata": {},
   "outputs": [],
   "source": []
  },
  {
   "cell_type": "markdown",
   "id": "1982b737",
   "metadata": {},
   "source": [
    "## 3-2 타입 유효성 체크 "
   ]
  },
  {
   "cell_type": "code",
   "execution_count": 21,
   "id": "55d9cb60",
   "metadata": {},
   "outputs": [],
   "source": [
    "# 유효하지 않은 데이터 처리\n",
    "invalid_data = {\n",
    "    \"name\": \"Bob\",\n",
    "    \"age\": \"twenty-five\",  # 잘못된 타입\n",
    "    \"email\": \"bob@example.com\"\n",
    "}\n"
   ]
  },
  {
   "cell_type": "code",
   "execution_count": 22,
   "id": "aad42edc",
   "metadata": {},
   "outputs": [
    {
     "name": "stdout",
     "output_type": "stream",
     "text": [
      "Error: 1 validation error for Person\n",
      "age\n",
      "  value is not a valid integer (type=type_error.integer)\n"
     ]
    }
   ],
   "source": [
    "try:\n",
    "    invalid_person = Person(**invalid_data)\n",
    "except ValueError as e:\n",
    "    print(\"Error:\", e)"
   ]
  },
  {
   "cell_type": "markdown",
   "id": "3d096e53",
   "metadata": {},
   "source": [
    "### 타입의 자동변환처리 "
   ]
  },
  {
   "cell_type": "code",
   "execution_count": 30,
   "id": "b15d03f1",
   "metadata": {},
   "outputs": [],
   "source": [
    "try:\n",
    "    person = Person(name=\"Alice\", age=\"30\")  # 출력: 30 (문자열 \"30\"이 정수로 자동 변환됨)\n",
    "\n",
    "except ValueError as e:\n",
    "    print(\"Error:\", e)"
   ]
  },
  {
   "cell_type": "code",
   "execution_count": 31,
   "id": "909a6c46",
   "metadata": {},
   "outputs": [
    {
     "name": "stdout",
     "output_type": "stream",
     "text": [
      "{'name': 'Alice', 'age': 30}\n"
     ]
    }
   ],
   "source": [
    "try:\n",
    "    print(person.dict())     # 출력: 30 (문자열 \"30\"이 정수로 자동 변환됨)\n",
    "except ValueError as e:\n",
    "    print(\"Error:\", e)"
   ]
  },
  {
   "cell_type": "markdown",
   "id": "8a13dc6a",
   "metadata": {},
   "source": [
    "### 실제 타입이 오류면 예외 발생 "
   ]
  },
  {
   "cell_type": "code",
   "execution_count": 36,
   "id": "ea00c517",
   "metadata": {},
   "outputs": [
    {
     "name": "stdout",
     "output_type": "stream",
     "text": [
      "Error: 1 validation error for Person\n",
      "age\n",
      "  value is not a valid integer (type=type_error.integer)\n"
     ]
    }
   ],
   "source": [
    "try:\n",
    "    person1 = Person(name=\"겨울이\", age=\"가을이\")  # # 출력: 30 (문자열 \"30\"이 정수로 자동 변환됨)\n",
    "\n",
    "except ValueError as e:\n",
    "    print(\"Error:\", e)"
   ]
  },
  {
   "cell_type": "code",
   "execution_count": null,
   "id": "3e722311",
   "metadata": {},
   "outputs": [],
   "source": []
  },
  {
   "cell_type": "markdown",
   "id": "95ee8984",
   "metadata": {},
   "source": [
    "### 커스텀 유효성 검증 "
   ]
  },
  {
   "cell_type": "code",
   "execution_count": 34,
   "id": "5ce40090",
   "metadata": {},
   "outputs": [
    {
     "name": "stdout",
     "output_type": "stream",
     "text": [
      "{'name': 'Alice', 'age': 30}\n",
      "Error: 1 validation error for Person\n",
      "age\n",
      "  Age must be positive (type=value_error)\n"
     ]
    }
   ],
   "source": [
    "from pydantic import BaseModel, validator\n",
    "\n",
    "class Person(BaseModel):\n",
    "    name: str\n",
    "    age: int\n",
    "\n",
    "    @validator(\"age\")\n",
    "    def age_must_be_positive(cls, value):\n",
    "        if value < 0:\n",
    "            raise ValueError(\"Age must be positive\")\n",
    "        return value\n",
    "\n",
    "person = Person(name=\"Alice\", age=30)\n",
    "print(person.dict())\n",
    "\n",
    "try:\n",
    "    invalid_person = Person(name=\"Bob\", age=-25)\n",
    "except ValueError as e:\n",
    "    print(\"Error:\", e)\n"
   ]
  },
  {
   "cell_type": "code",
   "execution_count": null,
   "id": "49c11d22",
   "metadata": {},
   "outputs": [],
   "source": []
  },
  {
   "cell_type": "markdown",
   "id": "dad555aa",
   "metadata": {},
   "source": [
    "## 3-3 불변 처리하기 "
   ]
  },
  {
   "cell_type": "code",
   "execution_count": 23,
   "id": "4c7fda7b",
   "metadata": {},
   "outputs": [],
   "source": [
    "from pydantic import BaseModel\n",
    "\n",
    "class ImmutablePerson(BaseModel):\n",
    "    name: str\n",
    "    age: int\n",
    "    email: str\n",
    "\n",
    "    class Config:\n",
    "        frozen = True\n",
    "\n",
    "\n"
   ]
  },
  {
   "cell_type": "code",
   "execution_count": 25,
   "id": "eeb932c6",
   "metadata": {},
   "outputs": [
    {
     "name": "stdout",
     "output_type": "stream",
     "text": [
      "Error: \"ImmutablePerson\" is immutable and does not support item assignment\n"
     ]
    }
   ],
   "source": [
    "# 불변성 데이터 클래스 인스턴스 생성\n",
    "person = ImmutablePerson(name=\"Alice\", age=30, email=\"alice@example.com\")\n",
    "\n",
    "# 시도: 불변성 클래스의 필드 수정 시 예외 발생\n",
    "try:\n",
    "    person.age = 31\n",
    "except Exception as e:\n",
    "    print(\"Error:\", e)"
   ]
  },
  {
   "cell_type": "code",
   "execution_count": null,
   "id": "cccd09e8",
   "metadata": {},
   "outputs": [],
   "source": []
  },
  {
   "cell_type": "markdown",
   "id": "1066c76a",
   "metadata": {},
   "source": [
    "## 3-4 Json 직렬화 "
   ]
  },
  {
   "cell_type": "code",
   "execution_count": 32,
   "id": "3bc664a4",
   "metadata": {},
   "outputs": [
    {
     "name": "stdout",
     "output_type": "stream",
     "text": [
      "{\"name\": \"Alice\", \"age\": 30}\n",
      "Alice 30\n"
     ]
    }
   ],
   "source": [
    "from pydantic import BaseModel\n",
    "\n",
    "class Person(BaseModel):\n",
    "    name: str\n",
    "    age: int\n",
    "\n",
    "person = Person(name=\"Alice\", age=30)\n",
    "\n",
    "# JSON 직렬화\n",
    "json_data = person.json()\n",
    "print(json_data)\n",
    "\n",
    "# JSON 역직렬화\n",
    "new_person = Person.parse_raw(json_data)\n",
    "print(new_person.name, new_person.age)\n"
   ]
  },
  {
   "cell_type": "code",
   "execution_count": null,
   "id": "a4c71542",
   "metadata": {},
   "outputs": [],
   "source": []
  },
  {
   "cell_type": "markdown",
   "id": "74ef8d8a",
   "metadata": {},
   "source": [
    "## 3-5 데이터 처리 클래스의 확장 "
   ]
  },
  {
   "cell_type": "code",
   "execution_count": 33,
   "id": "0c580c27",
   "metadata": {},
   "outputs": [
    {
     "name": "stdout",
     "output_type": "stream",
     "text": [
      "{'name': 'Alice', 'age': 30, 'employee_id': 123}\n"
     ]
    }
   ],
   "source": [
    "from pydantic import BaseModel\n",
    "\n",
    "class Person(BaseModel):\n",
    "    name: str\n",
    "    age: int\n",
    "\n",
    "class Employee(Person):\n",
    "    employee_id: int\n",
    "\n",
    "employee = Employee(name=\"Alice\", age=30, employee_id=123)\n",
    "print(employee.dict())"
   ]
  },
  {
   "cell_type": "code",
   "execution_count": null,
   "id": "58e9678d",
   "metadata": {},
   "outputs": [],
   "source": []
  }
 ],
 "metadata": {
  "kernelspec": {
   "display_name": "Python 3 (ipykernel)",
   "language": "python",
   "name": "python3"
  },
  "language_info": {
   "codemirror_mode": {
    "name": "ipython",
    "version": 3
   },
   "file_extension": ".py",
   "mimetype": "text/x-python",
   "name": "python",
   "nbconvert_exporter": "python",
   "pygments_lexer": "ipython3",
   "version": "3.11.3"
  }
 },
 "nbformat": 4,
 "nbformat_minor": 5
}
