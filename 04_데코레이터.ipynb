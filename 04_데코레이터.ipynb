{
 "cells": [
  {
   "cell_type": "code",
   "execution_count": null,
   "id": "7ee256df",
   "metadata": {},
   "outputs": [],
   "source": []
  },
  {
   "cell_type": "markdown",
   "id": "09f2c648",
   "metadata": {},
   "source": [
    "## 1. 데코레이터 이해하기\n",
    "\n",
    "-  함수나 메서드의 동작을 수정하거나 기능을 추가하는 강력한 기능입니다. \n",
    "-  함수를 인자로 받아서 다른 함수를 반환하는 고위 함수(Higher-Order Function)로서 동작합니다. \n",
    "-  데코레이터는 @ 기호를 사용하여 함수 위에 특별한 형태로 적용됩니다."
   ]
  },
  {
   "cell_type": "markdown",
   "id": "b1c83682",
   "metadata": {},
   "source": [
    "## 1-1. 내부함수 처리하기 "
   ]
  },
  {
   "cell_type": "markdown",
   "id": "19bf2d9e",
   "metadata": {},
   "source": [
    "### 내부 함수 이해하기"
   ]
  },
  {
   "cell_type": "code",
   "execution_count": 1,
   "id": "7ee6aafc",
   "metadata": {},
   "outputs": [
    {
     "name": "stdout",
     "output_type": "stream",
     "text": [
      "11\n",
      "11\n"
     ]
    }
   ],
   "source": [
    "def outer(x):\n",
    "    def inner(y):\n",
    "        return x + y\n",
    "    return inner\n",
    "\n",
    "add_five = outer(5)\n",
    "result = add_five(6)\n",
    "print(result)  # prints 11"
   ]
  },
  {
   "cell_type": "markdown",
   "id": "23cb00f4",
   "metadata": {},
   "source": [
    "## 내부 함수에 인자 전달하기 "
   ]
  },
  {
   "cell_type": "code",
   "execution_count": 2,
   "id": "c50b00ce",
   "metadata": {},
   "outputs": [
    {
     "name": "stdout",
     "output_type": "stream",
     "text": [
      "10\n"
     ]
    }
   ],
   "source": [
    "def add(x, y):\n",
    "    return x + y\n",
    "\n",
    "def calculate(func, x, y):\n",
    "    return func(x, y)\n",
    "\n",
    "result = calculate(add, 4, 6)\n",
    "print(result)  # prints 10"
   ]
  },
  {
   "cell_type": "markdown",
   "id": "061a72f2",
   "metadata": {},
   "source": [
    "## 내부함수를 외부로 반환하기 "
   ]
  },
  {
   "cell_type": "code",
   "execution_count": 3,
   "id": "f1f0bea4",
   "metadata": {},
   "outputs": [
    {
     "name": "stdout",
     "output_type": "stream",
     "text": [
      "Hello, Atlantis!\n"
     ]
    }
   ],
   "source": [
    "def greeting(name):\n",
    "    def hello():\n",
    "        return \"Hello, \" + name + \"!\"\n",
    "    return hello\n",
    "\n",
    "greet = greeting(\"Atlantis\")\n",
    "print(greet())  # prints \"Hello, Atlantis!\""
   ]
  },
  {
   "cell_type": "code",
   "execution_count": null,
   "id": "135b8358",
   "metadata": {},
   "outputs": [],
   "source": []
  },
  {
   "cell_type": "code",
   "execution_count": null,
   "id": "80aa5982",
   "metadata": {},
   "outputs": [],
   "source": []
  },
  {
   "cell_type": "markdown",
   "id": "86c13d1a",
   "metadata": {},
   "source": [
    "## 1-2. 테코레이터 구성하기 "
   ]
  },
  {
   "cell_type": "code",
   "execution_count": 4,
   "id": "d5fced45",
   "metadata": {},
   "outputs": [
    {
     "name": "stdout",
     "output_type": "stream",
     "text": [
      "Before the function call\n",
      "Hello, World!\n",
      "After the function call\n"
     ]
    }
   ],
   "source": [
    "def my_first_decorator(func):\n",
    "    def wrapper():\n",
    "        print(\"Before the function call\")\n",
    "        func()\n",
    "        print(\"After the function call\")\n",
    "    return wrapper\n",
    "\n",
    "def hello_world():\n",
    "    print(\"Hello, World!\")\n",
    "\n",
    "hello_world = my_first_decorator(hello_world)\n",
    "hello_world()"
   ]
  },
  {
   "cell_type": "code",
   "execution_count": 5,
   "id": "d1a2a4be",
   "metadata": {},
   "outputs": [
    {
     "name": "stdout",
     "output_type": "stream",
     "text": [
      "Before the function call\n",
      "Hello, World!\n",
      "After the function call\n"
     ]
    }
   ],
   "source": [
    "def my_first_decorator(func):\n",
    "    def wrapper():\n",
    "        print(\"Before the function call\")\n",
    "        func()\n",
    "        print(\"After the function call\")\n",
    "    return wrapper\n",
    "\n",
    "@my_first_decorator\n",
    "def hello_world():\n",
    "    print(\"Hello, World!\")\n",
    "\n",
    "hello_world()"
   ]
  },
  {
   "cell_type": "code",
   "execution_count": null,
   "id": "f8f71b54",
   "metadata": {},
   "outputs": [],
   "source": []
  },
  {
   "cell_type": "markdown",
   "id": "1c5c2950",
   "metadata": {},
   "source": [
    "## 1-3.  파라미터 데코레이터 "
   ]
  },
  {
   "cell_type": "code",
   "execution_count": 6,
   "id": "a108fb20",
   "metadata": {},
   "outputs": [
    {
     "name": "stdout",
     "output_type": "stream",
     "text": [
      "Decorator arguments: Hello, World\n",
      "Inside the function\n"
     ]
    }
   ],
   "source": [
    "def my_parameterized_decorator(arg1, arg2):\n",
    "    def decorator_function(func):\n",
    "        def wrapper(*args, **kwargs):\n",
    "            print(f\"Decorator arguments: {arg1}, {arg2}\")\n",
    "            return func(*args, **kwargs)\n",
    "        return wrapper\n",
    "    return decorator_function\n",
    "\n",
    "@my_parameterized_decorator(\"Hello\", \"World\")\n",
    "def my_function():\n",
    "    print(\"Inside the function\")\n",
    "\n",
    "my_function()"
   ]
  },
  {
   "cell_type": "code",
   "execution_count": 7,
   "id": "4dd4cd6f",
   "metadata": {},
   "outputs": [],
   "source": [
    "import functools"
   ]
  },
  {
   "cell_type": "code",
   "execution_count": 8,
   "id": "ab177679",
   "metadata": {},
   "outputs": [],
   "source": [
    "def memoize(func):\n",
    "    cache = {}\n",
    "    @functools.wraps(func)\n",
    "    def wrapper(*args):\n",
    "        if args in cache:\n",
    "            return cache[args]\n",
    "        result = func(*args)\n",
    "        cache[args] = result\n",
    "        return result\n",
    "    return wrapper\n",
    "\n",
    "@memoize\n",
    "def fibonacci(n):\n",
    "    if n in (0, 1):\n",
    "        return n\n",
    "    return fibonacci(n - 1) + fibonacci(n - 2)"
   ]
  },
  {
   "cell_type": "code",
   "execution_count": 9,
   "id": "79b85587",
   "metadata": {},
   "outputs": [
    {
     "data": {
      "text/plain": [
       "55"
      ]
     },
     "execution_count": 9,
     "metadata": {},
     "output_type": "execute_result"
    }
   ],
   "source": [
    "fibonacci(10)"
   ]
  },
  {
   "cell_type": "code",
   "execution_count": null,
   "id": "fd30959b",
   "metadata": {},
   "outputs": [],
   "source": []
  },
  {
   "cell_type": "markdown",
   "id": "cedfd318",
   "metadata": {},
   "source": [
    "## 1-4. 특정 공간에 함수 등록 "
   ]
  },
  {
   "cell_type": "code",
   "execution_count": 10,
   "id": "e0720017",
   "metadata": {},
   "outputs": [],
   "source": [
    "imgproc_registry = {}\n",
    "\n",
    "def imgproc(format):\n",
    "    def decorator_function(func):\n",
    "        imgproc_registry[format] = func\n",
    "        return func\n",
    "    return decorator_function\n",
    "\n",
    "@imgproc(format=\"PNG\")\n",
    "def process_png(file):\n",
    "    print(f\"Processing code for {file} PNG files\")\n",
    "\n",
    "@imgproc(format=\"JPEG\")\n",
    "def process_jpeg(file):\n",
    "    print(f\"Processing code for {file} JPEG files\")"
   ]
  },
  {
   "cell_type": "code",
   "execution_count": 11,
   "id": "39cf2a32",
   "metadata": {},
   "outputs": [
    {
     "name": "stdout",
     "output_type": "stream",
     "text": [
      "Processing code for aaa PNG files\n"
     ]
    }
   ],
   "source": [
    "process_png(\"aaa\")"
   ]
  },
  {
   "cell_type": "code",
   "execution_count": 12,
   "id": "fa19c86e",
   "metadata": {},
   "outputs": [
    {
     "name": "stdout",
     "output_type": "stream",
     "text": [
      "Processing code for bbb JPEG files\n"
     ]
    }
   ],
   "source": [
    "process_jpeg(\"bbb\")"
   ]
  },
  {
   "cell_type": "markdown",
   "id": "afa9e937",
   "metadata": {},
   "source": [
    "### 함수가 등록된 영역 "
   ]
  },
  {
   "cell_type": "code",
   "execution_count": 13,
   "id": "f47522db",
   "metadata": {},
   "outputs": [
    {
     "data": {
      "text/plain": [
       "{'PNG': <function __main__.process_png(file)>,\n",
       " 'JPEG': <function __main__.process_jpeg(file)>}"
      ]
     },
     "execution_count": 13,
     "metadata": {},
     "output_type": "execute_result"
    }
   ],
   "source": [
    "imgproc_registry"
   ]
  },
  {
   "cell_type": "code",
   "execution_count": null,
   "id": "f3cf2b7a",
   "metadata": {},
   "outputs": [],
   "source": []
  },
  {
   "cell_type": "markdown",
   "id": "6119a033",
   "metadata": {},
   "source": [
    "## 1-5. 데코레이터 체이닝"
   ]
  },
  {
   "cell_type": "code",
   "execution_count": 14,
   "id": "5b3e8196",
   "metadata": {},
   "outputs": [
    {
     "name": "stdout",
     "output_type": "stream",
     "text": [
      "***************\n",
      "%%%%%%%%%%%%%%%\n",
      "Hello\n",
      "%%%%%%%%%%%%%%%\n",
      "***************\n"
     ]
    }
   ],
   "source": [
    "def star(func):\n",
    "    def inner(*args, **kwargs):\n",
    "        print(\"*\" * 15)\n",
    "        func(*args, **kwargs)\n",
    "        print(\"*\" * 15)\n",
    "    return inner\n",
    "\n",
    "\n",
    "def percent(func):\n",
    "    def inner(*args, **kwargs):\n",
    "        print(\"%\" * 15)\n",
    "        func(*args, **kwargs)\n",
    "        print(\"%\" * 15)\n",
    "    return inner\n",
    "\n",
    "\n",
    "@star\n",
    "@percent\n",
    "def printer(msg):\n",
    "    print(msg)\n",
    "\n",
    "printer(\"Hello\")"
   ]
  },
  {
   "cell_type": "code",
   "execution_count": null,
   "id": "181c6413",
   "metadata": {},
   "outputs": [],
   "source": []
  },
  {
   "cell_type": "code",
   "execution_count": null,
   "id": "c5213d3b",
   "metadata": {},
   "outputs": [],
   "source": []
  },
  {
   "cell_type": "code",
   "execution_count": null,
   "id": "c06e7730",
   "metadata": {},
   "outputs": [],
   "source": []
  },
  {
   "cell_type": "code",
   "execution_count": null,
   "id": "177d967d",
   "metadata": {},
   "outputs": [],
   "source": []
  },
  {
   "cell_type": "markdown",
   "id": "e76a1fed",
   "metadata": {},
   "source": [
    "# 2. 다양한 데코레이터(Decorator)  구성하기 \n",
    "\n"
   ]
  },
  {
   "cell_type": "markdown",
   "id": "c4b69716",
   "metadata": {},
   "source": [
    "## 2-1.  함수 데코레이터"
   ]
  },
  {
   "cell_type": "code",
   "execution_count": 15,
   "id": "27e8bba2",
   "metadata": {},
   "outputs": [
    {
     "name": "stdout",
     "output_type": "stream",
     "text": [
      "Prefix added:\n",
      "Hello, world!\n"
     ]
    }
   ],
   "source": [
    "# 함수 데코레이터 정의\n",
    "def add_prefix_decorator(func):\n",
    "    def wrapper(*args, **kwargs):\n",
    "        print(\"Prefix added:\")\n",
    "        return func(*args, **kwargs)\n",
    "    return wrapper\n",
    "\n",
    "# 함수 정의\n",
    "@add_prefix_decorator\n",
    "def print_message(message):\n",
    "    print(message)\n",
    "\n",
    "# 함수 호출\n",
    "print_message(\"Hello, world!\")\n"
   ]
  },
  {
   "cell_type": "code",
   "execution_count": null,
   "id": "b9088e9a",
   "metadata": {},
   "outputs": [],
   "source": []
  },
  {
   "cell_type": "markdown",
   "id": "3f0e7930",
   "metadata": {},
   "source": [
    "## 2-2. 클래스 데코레이터"
   ]
  },
  {
   "cell_type": "code",
   "execution_count": 16,
   "id": "1d60b0c8",
   "metadata": {},
   "outputs": [
    {
     "name": "stdout",
     "output_type": "stream",
     "text": [
      "This is the original method.\n",
      "This is a custom method added by the decorator.\n"
     ]
    }
   ],
   "source": [
    "# 클래스 데코레이터 정의\n",
    "def add_custom_method(cls):\n",
    "    class NewClass(cls):\n",
    "        def custom_method(self):\n",
    "            print(\"This is a custom method added by the decorator.\")\n",
    "    return NewClass\n",
    "\n",
    "# 클래스 데코레이터를 사용하여 클래스 수정\n",
    "@add_custom_method\n",
    "class OriginalClass:\n",
    "    def original_method(self):\n",
    "        print(\"This is the original method.\")\n",
    "\n",
    "# 인스턴스 생성\n",
    "obj = OriginalClass()\n",
    "\n",
    "# 원래 클래스의 메서드 호출\n",
    "obj.original_method()   # 출력: This is the original method.\n",
    "\n",
    "# 클래스 데코레이터로 추가된 메서드 호출\n",
    "obj.custom_method()     # 출력: This is a custom method added by the decorator.\n"
   ]
  },
  {
   "cell_type": "code",
   "execution_count": null,
   "id": "be6efc60",
   "metadata": {},
   "outputs": [],
   "source": []
  },
  {
   "cell_type": "markdown",
   "id": "06fa13ad",
   "metadata": {},
   "source": [
    "## 2-3. 메서드 데코레이터 "
   ]
  },
  {
   "cell_type": "code",
   "execution_count": 17,
   "id": "8c2f374a",
   "metadata": {},
   "outputs": [
    {
     "name": "stdout",
     "output_type": "stream",
     "text": [
      "Prefix added:\n",
      "42\n"
     ]
    }
   ],
   "source": [
    "# 메서드 데코레이터 정의\n",
    "def add_prefix_decorator(func):\n",
    "    def wrapper(self, *args, **kwargs):\n",
    "        print(\"Prefix added:\")\n",
    "        return func(self, *args, **kwargs)\n",
    "    return wrapper\n",
    "\n",
    "# 클래스 정의\n",
    "class MyClass:\n",
    "    def __init__(self, value):\n",
    "        self.value = value\n",
    "\n",
    "    # 메서드 데코레이터를 사용하여 메서드 수정\n",
    "    @add_prefix_decorator\n",
    "    def print_value(self):\n",
    "        print(self.value)\n",
    "\n",
    "# 인스턴스 생성\n",
    "obj = MyClass(42)\n",
    "\n",
    "# 메서드 호출\n",
    "obj.print_value()\n"
   ]
  },
  {
   "cell_type": "code",
   "execution_count": null,
   "id": "3a205389",
   "metadata": {},
   "outputs": [],
   "source": []
  },
  {
   "cell_type": "markdown",
   "id": "6aedb8a3",
   "metadata": {},
   "source": [
    "## 3. 데코레이터 만드는  아이템을 기준으로 처리하기 \n",
    "\n",
    "- 데코레이터 함수 대신 다양한 것으로 만들 수 잇다. "
   ]
  },
  {
   "cell_type": "code",
   "execution_count": null,
   "id": "a82e6470",
   "metadata": {},
   "outputs": [],
   "source": []
  },
  {
   "cell_type": "markdown",
   "id": "0396e931",
   "metadata": {},
   "source": [
    "##  3-1. 데코레이터를 클래스로 만들기"
   ]
  },
  {
   "cell_type": "code",
   "execution_count": null,
   "id": "7f062841",
   "metadata": {},
   "outputs": [],
   "source": [
    "# 인스턴스 데코레이터 클래스 정의\n",
    "class PrefixDecorator:\n",
    "    def __init__(self, method):\n",
    "        self.method = method\n",
    "\n",
    "    def __call__(self, *args, **kwargs):\n",
    "        print(\"Prefix added:\")\n",
    "        return self.method(*args, **kwargs)\n",
    "\n",
    "# 클래스 정의\n",
    "class MyClass:\n",
    "    def __init__(self, value):\n",
    "        self.value = value\n",
    "\n",
    "    # 인스턴스 데코레이터를 사용하여 인스턴스 메서드 수정\n",
    "    @PrefixDecorator\n",
    "    def print_value(self):\n",
    "        print(self.value)\n",
    "\n",
    "# 인스턴스 생성\n",
    "obj = MyClass(42)\n",
    "\n",
    "# 인스턴스 메서드 호출\n",
    "obj.print_value()\n"
   ]
  },
  {
   "cell_type": "code",
   "execution_count": null,
   "id": "1f3dc1b0",
   "metadata": {},
   "outputs": [],
   "source": []
  },
  {
   "cell_type": "code",
   "execution_count": 18,
   "id": "429f05b8",
   "metadata": {},
   "outputs": [
    {
     "name": "stdout",
     "output_type": "stream",
     "text": [
      "Prefix added:\n",
      "42\n"
     ]
    }
   ],
   "source": [
    "# 클래스 정의\n",
    "class DecoratorManager:\n",
    "    def __init__(self, method):\n",
    "        self.method = method\n",
    "\n",
    "    # 데코레이터 메서드\n",
    "    def add_prefix_decorator(self, *args, **kwargs):\n",
    "        print(\"Prefix added:\")\n",
    "        return self.method(*args, **kwargs)\n",
    "\n",
    "# 클래스 정의\n",
    "class MyClass:\n",
    "    def __init__(self, value):\n",
    "        self.value = value\n",
    "\n",
    "    # 메서드로 데코레이터 적용\n",
    "    def print_value(self):\n",
    "        print(self.value)\n",
    "\n",
    "# 인스턴스 생성\n",
    "obj = MyClass(42)\n",
    "\n",
    "# 데코레이터 적용 및 메서드 호출\n",
    "decorator_manager = DecoratorManager(obj.print_value)\n",
    "decorator_manager.add_prefix_decorator()\n"
   ]
  },
  {
   "cell_type": "code",
   "execution_count": null,
   "id": "698aab14",
   "metadata": {},
   "outputs": [],
   "source": []
  },
  {
   "cell_type": "code",
   "execution_count": 19,
   "id": "7a4c01f5",
   "metadata": {},
   "outputs": [
    {
     "name": "stdout",
     "output_type": "stream",
     "text": [
      "Prefix added:\n",
      "42\n"
     ]
    }
   ],
   "source": [
    "# 클래스 정의\n",
    "class DecoratorManager:\n",
    "    def __init__(self, method):\n",
    "        self.method = method\n",
    "\n",
    "    # 데코레이터 메서드\n",
    "    def add_prefix_decorator(self, *args, **kwargs):\n",
    "        print(\"Prefix added:\")\n",
    "        return self.method(*args, **kwargs)\n",
    "\n",
    "# 클래스 정의\n",
    "class MyClass:\n",
    "    def __init__(self, value):\n",
    "        self.value = value\n",
    "\n",
    "    # 메서드로 데코레이터 적용\n",
    "    @DecoratorManager\n",
    "    def print_value(self):\n",
    "        print(self.value)\n",
    "\n",
    "# 인스턴스 생성\n",
    "obj = MyClass(42)\n",
    "\n",
    "obj.print_value.add_prefix_decorator(obj)\n"
   ]
  },
  {
   "cell_type": "code",
   "execution_count": null,
   "id": "569beb56",
   "metadata": {},
   "outputs": [],
   "source": []
  },
  {
   "cell_type": "markdown",
   "id": "aef7d51b",
   "metadata": {},
   "source": [
    "## 3-2 데코레이터를  인스턴스로 하기 "
   ]
  },
  {
   "cell_type": "code",
   "execution_count": null,
   "id": "f7a1123d",
   "metadata": {},
   "outputs": [],
   "source": []
  },
  {
   "cell_type": "code",
   "execution_count": 20,
   "id": "bc280bc3",
   "metadata": {},
   "outputs": [],
   "source": [
    "class InsDecorator :\n",
    "    \n",
    "    def __call__(self, func) :\n",
    "        self._func = func\n",
    "        def inner(*args, **kwargs) :\n",
    "            return self._func(*args, **kwargs)\n",
    "        return inner"
   ]
  },
  {
   "cell_type": "code",
   "execution_count": 21,
   "id": "21ffca8d",
   "metadata": {},
   "outputs": [],
   "source": [
    "ins = InsDecorator()"
   ]
  },
  {
   "cell_type": "code",
   "execution_count": 22,
   "id": "eab7987d",
   "metadata": {},
   "outputs": [],
   "source": [
    "@ins\n",
    "def mul(x,y) :\n",
    "    return x*y"
   ]
  },
  {
   "cell_type": "code",
   "execution_count": 23,
   "id": "4a1b1a90",
   "metadata": {},
   "outputs": [
    {
     "data": {
      "text/plain": [
       "200"
      ]
     },
     "execution_count": 23,
     "metadata": {},
     "output_type": "execute_result"
    }
   ],
   "source": [
    "mul(10,20)"
   ]
  },
  {
   "cell_type": "code",
   "execution_count": null,
   "id": "e5f4234f",
   "metadata": {},
   "outputs": [],
   "source": []
  },
  {
   "cell_type": "code",
   "execution_count": 24,
   "id": "e18f05a6",
   "metadata": {},
   "outputs": [],
   "source": [
    "import functools as ft"
   ]
  },
  {
   "cell_type": "code",
   "execution_count": 25,
   "id": "aba2b79a",
   "metadata": {},
   "outputs": [],
   "source": [
    "class InsDecorator1 :\n",
    "    \n",
    "    def __call__(self, func) :\n",
    "        self._func = func\n",
    "        @ft.wraps(self._func)\n",
    "        def inner(*args, **kwargs) :\n",
    "            return self._func(*args, **kwargs)\n",
    "        return inner"
   ]
  },
  {
   "cell_type": "code",
   "execution_count": null,
   "id": "a38f3f74",
   "metadata": {},
   "outputs": [],
   "source": []
  },
  {
   "cell_type": "code",
   "execution_count": 26,
   "id": "c8dff3f9",
   "metadata": {},
   "outputs": [],
   "source": [
    "@InsDecorator1()\n",
    "def mul(x,y) :\n",
    "    return x*y"
   ]
  },
  {
   "cell_type": "code",
   "execution_count": 27,
   "id": "c52532be",
   "metadata": {},
   "outputs": [
    {
     "data": {
      "text/plain": [
       "20000"
      ]
     },
     "execution_count": 27,
     "metadata": {},
     "output_type": "execute_result"
    }
   ],
   "source": [
    "mul(100,200)"
   ]
  },
  {
   "cell_type": "code",
   "execution_count": null,
   "id": "bc321594",
   "metadata": {},
   "outputs": [],
   "source": []
  },
  {
   "cell_type": "markdown",
   "id": "39c06075",
   "metadata": {},
   "source": [
    "## 3-3 데코레이터를 메서드로 처리하기 "
   ]
  },
  {
   "cell_type": "code",
   "execution_count": null,
   "id": "e368c1f2",
   "metadata": {},
   "outputs": [],
   "source": []
  },
  {
   "cell_type": "code",
   "execution_count": 28,
   "id": "01f03874",
   "metadata": {},
   "outputs": [],
   "source": [
    "class MethodDecorator :\n",
    "    \n",
    "        \n",
    "    def method(self, func) :\n",
    "        self._func = func\n",
    "        @ft.wraps(self._func) \n",
    "        def inner(*args, **kwargs) :\n",
    "            return self._func(*args, **kwargs)\n",
    "        return inner"
   ]
  },
  {
   "cell_type": "code",
   "execution_count": null,
   "id": "17ab95f5",
   "metadata": {},
   "outputs": [],
   "source": []
  },
  {
   "cell_type": "code",
   "execution_count": 29,
   "id": "ec4fbc57",
   "metadata": {},
   "outputs": [],
   "source": [
    "metdeco = MethodDecorator()"
   ]
  },
  {
   "cell_type": "code",
   "execution_count": 30,
   "id": "97311008",
   "metadata": {},
   "outputs": [],
   "source": [
    "@metdeco.method\n",
    "def mul(x,y) :\n",
    "    return x*y"
   ]
  },
  {
   "cell_type": "code",
   "execution_count": 31,
   "id": "02a8a869",
   "metadata": {},
   "outputs": [
    {
     "data": {
      "text/plain": [
       "690000"
      ]
     },
     "execution_count": 31,
     "metadata": {},
     "output_type": "execute_result"
    }
   ],
   "source": [
    "mul(2000,345)"
   ]
  },
  {
   "cell_type": "code",
   "execution_count": null,
   "id": "c87d7a1b",
   "metadata": {},
   "outputs": [],
   "source": []
  },
  {
   "cell_type": "code",
   "execution_count": null,
   "id": "a0fdae32",
   "metadata": {},
   "outputs": [],
   "source": []
  },
  {
   "cell_type": "code",
   "execution_count": null,
   "id": "877cf4b0",
   "metadata": {},
   "outputs": [],
   "source": []
  },
  {
   "cell_type": "code",
   "execution_count": null,
   "id": "c7ccd20d",
   "metadata": {},
   "outputs": [],
   "source": []
  },
  {
   "cell_type": "code",
   "execution_count": null,
   "id": "f2a7daa7",
   "metadata": {},
   "outputs": [],
   "source": []
  }
 ],
 "metadata": {
  "kernelspec": {
   "display_name": "Python 3 (ipykernel)",
   "language": "python",
   "name": "python3"
  },
  "language_info": {
   "codemirror_mode": {
    "name": "ipython",
    "version": 3
   },
   "file_extension": ".py",
   "mimetype": "text/x-python",
   "name": "python",
   "nbconvert_exporter": "python",
   "pygments_lexer": "ipython3",
   "version": "3.11.3"
  }
 },
 "nbformat": 4,
 "nbformat_minor": 5
}
