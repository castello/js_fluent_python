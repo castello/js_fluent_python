{
 "cells": [
  {
   "cell_type": "code",
   "execution_count": null,
   "id": "7ee256df",
   "metadata": {},
   "outputs": [],
   "source": []
  },
  {
   "cell_type": "markdown",
   "id": "c4b69716",
   "metadata": {},
   "source": [
    "## 함수 데코레이터"
   ]
  },
  {
   "cell_type": "code",
   "execution_count": 3,
   "id": "27e8bba2",
   "metadata": {},
   "outputs": [
    {
     "name": "stdout",
     "output_type": "stream",
     "text": [
      "Prefix added:\n",
      "Hello, world!\n"
     ]
    }
   ],
   "source": [
    "# 함수 데코레이터 정의\n",
    "def add_prefix_decorator(func):\n",
    "    def wrapper(*args, **kwargs):\n",
    "        print(\"Prefix added:\")\n",
    "        return func(*args, **kwargs)\n",
    "    return wrapper\n",
    "\n",
    "# 함수 정의\n",
    "@add_prefix_decorator\n",
    "def print_message(message):\n",
    "    print(message)\n",
    "\n",
    "# 함수 호출\n",
    "print_message(\"Hello, world!\")\n"
   ]
  },
  {
   "cell_type": "code",
   "execution_count": null,
   "id": "b9088e9a",
   "metadata": {},
   "outputs": [],
   "source": []
  },
  {
   "cell_type": "markdown",
   "id": "3f0e7930",
   "metadata": {},
   "source": [
    "## 클래스 데코레이터"
   ]
  },
  {
   "cell_type": "code",
   "execution_count": 1,
   "id": "1d60b0c8",
   "metadata": {},
   "outputs": [
    {
     "name": "stdout",
     "output_type": "stream",
     "text": [
      "This is the original method.\n",
      "This is a custom method added by the decorator.\n"
     ]
    }
   ],
   "source": [
    "# 클래스 데코레이터 정의\n",
    "def add_custom_method(cls):\n",
    "    class NewClass(cls):\n",
    "        def custom_method(self):\n",
    "            print(\"This is a custom method added by the decorator.\")\n",
    "    return NewClass\n",
    "\n",
    "# 클래스 데코레이터를 사용하여 클래스 수정\n",
    "@add_custom_method\n",
    "class OriginalClass:\n",
    "    def original_method(self):\n",
    "        print(\"This is the original method.\")\n",
    "\n",
    "# 인스턴스 생성\n",
    "obj = OriginalClass()\n",
    "\n",
    "# 원래 클래스의 메서드 호출\n",
    "obj.original_method()   # 출력: This is the original method.\n",
    "\n",
    "# 클래스 데코레이터로 추가된 메서드 호출\n",
    "obj.custom_method()     # 출력: This is a custom method added by the decorator.\n"
   ]
  },
  {
   "cell_type": "code",
   "execution_count": null,
   "id": "be6efc60",
   "metadata": {},
   "outputs": [],
   "source": []
  },
  {
   "cell_type": "markdown",
   "id": "06fa13ad",
   "metadata": {},
   "source": [
    "## 메서드 데코레이터 "
   ]
  },
  {
   "cell_type": "code",
   "execution_count": 2,
   "id": "8c2f374a",
   "metadata": {},
   "outputs": [
    {
     "name": "stdout",
     "output_type": "stream",
     "text": [
      "Prefix added:\n",
      "42\n"
     ]
    }
   ],
   "source": [
    "# 메서드 데코레이터 정의\n",
    "def add_prefix_decorator(func):\n",
    "    def wrapper(self, *args, **kwargs):\n",
    "        print(\"Prefix added:\")\n",
    "        return func(self, *args, **kwargs)\n",
    "    return wrapper\n",
    "\n",
    "# 클래스 정의\n",
    "class MyClass:\n",
    "    def __init__(self, value):\n",
    "        self.value = value\n",
    "\n",
    "    # 메서드 데코레이터를 사용하여 메서드 수정\n",
    "    @add_prefix_decorator\n",
    "    def print_value(self):\n",
    "        print(self.value)\n",
    "\n",
    "# 인스턴스 생성\n",
    "obj = MyClass(42)\n",
    "\n",
    "# 메서드 호출\n",
    "obj.print_value()\n"
   ]
  },
  {
   "cell_type": "code",
   "execution_count": null,
   "id": "3a205389",
   "metadata": {},
   "outputs": [],
   "source": []
  },
  {
   "cell_type": "markdown",
   "id": "0396e931",
   "metadata": {},
   "source": [
    "## 함수대신 클래스로 데코레이팅 처리하기 "
   ]
  },
  {
   "cell_type": "code",
   "execution_count": null,
   "id": "7f062841",
   "metadata": {},
   "outputs": [],
   "source": [
    "# 인스턴스 데코레이터 클래스 정의\n",
    "class PrefixDecorator:\n",
    "    def __init__(self, method):\n",
    "        self.method = method\n",
    "\n",
    "    def __call__(self, *args, **kwargs):\n",
    "        print(\"Prefix added:\")\n",
    "        return self.method(*args, **kwargs)\n",
    "\n",
    "# 클래스 정의\n",
    "class MyClass:\n",
    "    def __init__(self, value):\n",
    "        self.value = value\n",
    "\n",
    "    # 인스턴스 데코레이터를 사용하여 인스턴스 메서드 수정\n",
    "    @PrefixDecorator\n",
    "    def print_value(self):\n",
    "        print(self.value)\n",
    "\n",
    "# 인스턴스 생성\n",
    "obj = MyClass(42)\n",
    "\n",
    "# 인스턴스 메서드 호출\n",
    "obj.print_value()\n"
   ]
  },
  {
   "cell_type": "code",
   "execution_count": null,
   "id": "1f3dc1b0",
   "metadata": {},
   "outputs": [],
   "source": []
  },
  {
   "cell_type": "code",
   "execution_count": 10,
   "id": "429f05b8",
   "metadata": {},
   "outputs": [
    {
     "name": "stdout",
     "output_type": "stream",
     "text": [
      "Prefix added:\n",
      "42\n"
     ]
    }
   ],
   "source": [
    "# 클래스 정의\n",
    "class DecoratorManager:\n",
    "    def __init__(self, method):\n",
    "        self.method = method\n",
    "\n",
    "    # 데코레이터 메서드\n",
    "    def add_prefix_decorator(self, *args, **kwargs):\n",
    "        print(\"Prefix added:\")\n",
    "        return self.method(*args, **kwargs)\n",
    "\n",
    "# 클래스 정의\n",
    "class MyClass:\n",
    "    def __init__(self, value):\n",
    "        self.value = value\n",
    "\n",
    "    # 메서드로 데코레이터 적용\n",
    "    def print_value(self):\n",
    "        print(self.value)\n",
    "\n",
    "# 인스턴스 생성\n",
    "obj = MyClass(42)\n",
    "\n",
    "# 데코레이터 적용 및 메서드 호출\n",
    "decorator_manager = DecoratorManager(obj.print_value)\n",
    "decorator_manager.add_prefix_decorator()\n"
   ]
  },
  {
   "cell_type": "code",
   "execution_count": null,
   "id": "698aab14",
   "metadata": {},
   "outputs": [],
   "source": []
  },
  {
   "cell_type": "code",
   "execution_count": 13,
   "id": "7a4c01f5",
   "metadata": {},
   "outputs": [
    {
     "name": "stdout",
     "output_type": "stream",
     "text": [
      "Prefix added:\n",
      "42\n"
     ]
    }
   ],
   "source": [
    "# 클래스 정의\n",
    "class DecoratorManager:\n",
    "    def __init__(self, method):\n",
    "        self.method = method\n",
    "\n",
    "    # 데코레이터 메서드\n",
    "    def add_prefix_decorator(self, *args, **kwargs):\n",
    "        print(\"Prefix added:\")\n",
    "        return self.method(*args, **kwargs)\n",
    "\n",
    "# 클래스 정의\n",
    "class MyClass:\n",
    "    def __init__(self, value):\n",
    "        self.value = value\n",
    "\n",
    "    # 메서드로 데코레이터 적용\n",
    "    @DecoratorManager\n",
    "    def print_value(self):\n",
    "        print(self.value)\n",
    "\n",
    "# 인스턴스 생성\n",
    "obj = MyClass(42)\n",
    "\n",
    "obj.print_value.add_prefix_decorator(obj)\n"
   ]
  },
  {
   "cell_type": "code",
   "execution_count": null,
   "id": "569beb56",
   "metadata": {},
   "outputs": [],
   "source": []
  }
 ],
 "metadata": {
  "kernelspec": {
   "display_name": "Python 3 (ipykernel)",
   "language": "python",
   "name": "python3"
  },
  "language_info": {
   "codemirror_mode": {
    "name": "ipython",
    "version": 3
   },
   "file_extension": ".py",
   "mimetype": "text/x-python",
   "name": "python",
   "nbconvert_exporter": "python",
   "pygments_lexer": "ipython3",
   "version": "3.11.3"
  }
 },
 "nbformat": 4,
 "nbformat_minor": 5
}
