{
 "cells": [
  {
   "cell_type": "code",
   "execution_count": null,
   "id": "7ee256df",
   "metadata": {},
   "outputs": [],
   "source": []
  },
  {
   "cell_type": "markdown",
   "id": "70d7456e",
   "metadata": {},
   "source": [
    "## 1. 데코레이터 이해하기 "
   ]
  },
  {
   "cell_type": "markdown",
   "id": "814d209f",
   "metadata": {},
   "source": [
    "## 1-1. 내부함수 처리하기 "
   ]
  },
  {
   "cell_type": "markdown",
   "id": "00c64e79",
   "metadata": {},
   "source": [
    "### 내부 함수 이해하기"
   ]
  },
  {
   "cell_type": "code",
   "execution_count": 35,
   "id": "6d4f4063",
   "metadata": {},
   "outputs": [
    {
     "name": "stdout",
     "output_type": "stream",
     "text": [
      "11\n"
     ]
    }
   ],
   "source": [
    "def outer(x):\n",
    "    def inner(y):\n",
    "        return x + y\n",
    "    return inner\n",
    "\n",
    "add_five = outer(5)\n",
    "result = add_five(6)\n",
    "print(result)  # prints 11"
   ]
  },
  {
   "cell_type": "markdown",
   "id": "543bc6ec",
   "metadata": {},
   "source": [
    "## 내부 함수에 인자 전달하기 "
   ]
  },
  {
   "cell_type": "code",
   "execution_count": null,
   "id": "7b24f3fb",
   "metadata": {},
   "outputs": [],
   "source": [
    "def add(x, y):\n",
    "    return x + y\n",
    "\n",
    "def calculate(func, x, y):\n",
    "    return func(x, y)\n",
    "\n",
    "result = calculate(add, 4, 6)\n",
    "print(result)  # prints 10"
   ]
  },
  {
   "cell_type": "markdown",
   "id": "257617fc",
   "metadata": {},
   "source": [
    "## 내부함수를 외부로 반환하기 "
   ]
  },
  {
   "cell_type": "code",
   "execution_count": null,
   "id": "88808682",
   "metadata": {},
   "outputs": [],
   "source": [
    "def greeting(name):\n",
    "    def hello():\n",
    "        return \"Hello, \" + name + \"!\"\n",
    "    return hello\n",
    "\n",
    "greet = greeting(\"Atlantis\")\n",
    "print(greet())  # prints \"Hello, Atlantis!\""
   ]
  },
  {
   "cell_type": "markdown",
   "id": "282f7a61",
   "metadata": {},
   "source": [
    "## 내부함수의 변수스코프 이해하기 "
   ]
  },
  {
   "cell_type": "code",
   "execution_count": null,
   "id": "6cc53131",
   "metadata": {},
   "outputs": [],
   "source": []
  },
  {
   "cell_type": "code",
   "execution_count": null,
   "id": "cf167ce7",
   "metadata": {},
   "outputs": [],
   "source": []
  },
  {
   "cell_type": "markdown",
   "id": "21deca4a",
   "metadata": {},
   "source": [
    "## 1-2. 테코레이터 구성하기 "
   ]
  },
  {
   "cell_type": "code",
   "execution_count": 28,
   "id": "95de1e32",
   "metadata": {},
   "outputs": [
    {
     "name": "stdout",
     "output_type": "stream",
     "text": [
      "Before the function call\n",
      "Hello, World!\n",
      "After the function call\n"
     ]
    }
   ],
   "source": [
    "def my_first_decorator(func):\n",
    "    def wrapper():\n",
    "        print(\"Before the function call\")\n",
    "        func()\n",
    "        print(\"After the function call\")\n",
    "    return wrapper\n",
    "\n",
    "def hello_world():\n",
    "    print(\"Hello, World!\")\n",
    "\n",
    "hello_world = my_first_decorator(hello_world)\n",
    "hello_world()"
   ]
  },
  {
   "cell_type": "code",
   "execution_count": 29,
   "id": "a93679da",
   "metadata": {},
   "outputs": [
    {
     "name": "stdout",
     "output_type": "stream",
     "text": [
      "Before the function call\n",
      "Hello, World!\n",
      "After the function call\n"
     ]
    }
   ],
   "source": [
    "def my_first_decorator(func):\n",
    "    def wrapper():\n",
    "        print(\"Before the function call\")\n",
    "        func()\n",
    "        print(\"After the function call\")\n",
    "    return wrapper\n",
    "\n",
    "@my_first_decorator\n",
    "def hello_world():\n",
    "    print(\"Hello, World!\")\n",
    "\n",
    "hello_world()"
   ]
  },
  {
   "cell_type": "code",
   "execution_count": null,
   "id": "58b80fa6",
   "metadata": {},
   "outputs": [],
   "source": []
  },
  {
   "cell_type": "markdown",
   "id": "3d5e2673",
   "metadata": {},
   "source": [
    "# 파라미터 데코레이터 "
   ]
  },
  {
   "cell_type": "code",
   "execution_count": 30,
   "id": "d13650a6",
   "metadata": {},
   "outputs": [
    {
     "name": "stdout",
     "output_type": "stream",
     "text": [
      "Decorator arguments: Hello, World\n",
      "Inside the function\n"
     ]
    }
   ],
   "source": [
    "def my_parameterized_decorator(arg1, arg2):\n",
    "    def decorator_function(func):\n",
    "        def wrapper(*args, **kwargs):\n",
    "            print(f\"Decorator arguments: {arg1}, {arg2}\")\n",
    "            return func(*args, **kwargs)\n",
    "        return wrapper\n",
    "    return decorator_function\n",
    "\n",
    "@my_parameterized_decorator(\"Hello\", \"World\")\n",
    "def my_function():\n",
    "    print(\"Inside the function\")\n",
    "\n",
    "my_function()"
   ]
  },
  {
   "cell_type": "code",
   "execution_count": 32,
   "id": "43f38e39",
   "metadata": {},
   "outputs": [],
   "source": [
    "import functools"
   ]
  },
  {
   "cell_type": "code",
   "execution_count": 33,
   "id": "111557ed",
   "metadata": {},
   "outputs": [],
   "source": [
    "def memoize(func):\n",
    "    cache = {}\n",
    "    @functools.wraps(func)\n",
    "    def wrapper(*args):\n",
    "        if args in cache:\n",
    "            return cache[args]\n",
    "        result = func(*args)\n",
    "        cache[args] = result\n",
    "        return result\n",
    "    return wrapper\n",
    "\n",
    "@memoize\n",
    "def fibonacci(n):\n",
    "    if n in (0, 1):\n",
    "        return n\n",
    "    return fibonacci(n - 1) + fibonacci(n - 2)"
   ]
  },
  {
   "cell_type": "code",
   "execution_count": 34,
   "id": "5f80ddb2",
   "metadata": {},
   "outputs": [
    {
     "data": {
      "text/plain": [
       "55"
      ]
     },
     "execution_count": 34,
     "metadata": {},
     "output_type": "execute_result"
    }
   ],
   "source": [
    "fibonacci(10)"
   ]
  },
  {
   "cell_type": "markdown",
   "id": "20aa1aec",
   "metadata": {},
   "source": [
    "## 특정 공간에 함수 등록 "
   ]
  },
  {
   "cell_type": "code",
   "execution_count": null,
   "id": "7a7feb69",
   "metadata": {},
   "outputs": [],
   "source": [
    "imgproc_registry = {}\n",
    "\n",
    "def imgproc(format):\n",
    "    def decorator_function(func):\n",
    "        imgproc_registry[format] = func\n",
    "        return func\n",
    "    return decorator_function\n",
    "\n",
    "@imgproc(format=\"PNG\")\n",
    "def process_png(file):\n",
    "    # Processing code for PNG files\n",
    "\n",
    "@imgproc(format=\"JPEG\")\n",
    "def process_jpeg(file):\n",
    "    # Processing code for JPEG files"
   ]
  },
  {
   "cell_type": "markdown",
   "id": "5c8c2758",
   "metadata": {},
   "source": [
    "## 데코레이터 체이닝"
   ]
  },
  {
   "cell_type": "code",
   "execution_count": 37,
   "id": "f4649e22",
   "metadata": {},
   "outputs": [
    {
     "name": "stdout",
     "output_type": "stream",
     "text": [
      "***************\n",
      "%%%%%%%%%%%%%%%\n",
      "Hello\n",
      "%%%%%%%%%%%%%%%\n",
      "***************\n"
     ]
    }
   ],
   "source": [
    "def star(func):\n",
    "    def inner(*args, **kwargs):\n",
    "        print(\"*\" * 15)\n",
    "        func(*args, **kwargs)\n",
    "        print(\"*\" * 15)\n",
    "    return inner\n",
    "\n",
    "\n",
    "def percent(func):\n",
    "    def inner(*args, **kwargs):\n",
    "        print(\"%\" * 15)\n",
    "        func(*args, **kwargs)\n",
    "        print(\"%\" * 15)\n",
    "    return inner\n",
    "\n",
    "\n",
    "@star\n",
    "@percent\n",
    "def printer(msg):\n",
    "    print(msg)\n",
    "\n",
    "printer(\"Hello\")"
   ]
  },
  {
   "cell_type": "code",
   "execution_count": null,
   "id": "40cf4dd7",
   "metadata": {},
   "outputs": [],
   "source": []
  },
  {
   "cell_type": "code",
   "execution_count": null,
   "id": "a71e5ce6",
   "metadata": {},
   "outputs": [],
   "source": []
  },
  {
   "cell_type": "code",
   "execution_count": null,
   "id": "4e67c7bc",
   "metadata": {},
   "outputs": [],
   "source": []
  },
  {
   "cell_type": "code",
   "execution_count": null,
   "id": "fffd72c1",
   "metadata": {},
   "outputs": [],
   "source": []
  },
  {
   "cell_type": "markdown",
   "id": "ea6571a4",
   "metadata": {},
   "source": [
    "# 데코레이터(Decorator) \n",
    "\n",
    "-  함수나 메서드의 동작을 수정하거나 기능을 추가하는 강력한 기능입니다. \n",
    "-  함수를 인자로 받아서 다른 함수를 반환하는 고위 함수(Higher-Order Function)로서 동작합니다. \n",
    "- 데코레이터는 @ 기호를 사용하여 함수 위에 특별한 형태로 적용됩니다."
   ]
  },
  {
   "cell_type": "markdown",
   "id": "773b540c",
   "metadata": {},
   "source": [
    "## 1. 데코레이터의 실행 대상을 기준으로 알아보기\n",
    "\n",
    "- 데코레이터 함수를 구현한 후에 테코레이텅 당하는 대상체를 기준으로 처리하는 방법 알아보기"
   ]
  },
  {
   "cell_type": "markdown",
   "id": "c4b69716",
   "metadata": {},
   "source": [
    "## 1-1.  함수 데코레이터"
   ]
  },
  {
   "cell_type": "code",
   "execution_count": 3,
   "id": "27e8bba2",
   "metadata": {},
   "outputs": [
    {
     "name": "stdout",
     "output_type": "stream",
     "text": [
      "Prefix added:\n",
      "Hello, world!\n"
     ]
    }
   ],
   "source": [
    "# 함수 데코레이터 정의\n",
    "def add_prefix_decorator(func):\n",
    "    def wrapper(*args, **kwargs):\n",
    "        print(\"Prefix added:\")\n",
    "        return func(*args, **kwargs)\n",
    "    return wrapper\n",
    "\n",
    "# 함수 정의\n",
    "@add_prefix_decorator\n",
    "def print_message(message):\n",
    "    print(message)\n",
    "\n",
    "# 함수 호출\n",
    "print_message(\"Hello, world!\")\n"
   ]
  },
  {
   "cell_type": "code",
   "execution_count": null,
   "id": "b9088e9a",
   "metadata": {},
   "outputs": [],
   "source": []
  },
  {
   "cell_type": "markdown",
   "id": "3f0e7930",
   "metadata": {},
   "source": [
    "## 1-2. 클래스 데코레이터"
   ]
  },
  {
   "cell_type": "code",
   "execution_count": 1,
   "id": "1d60b0c8",
   "metadata": {},
   "outputs": [
    {
     "name": "stdout",
     "output_type": "stream",
     "text": [
      "This is the original method.\n",
      "This is a custom method added by the decorator.\n"
     ]
    }
   ],
   "source": [
    "# 클래스 데코레이터 정의\n",
    "def add_custom_method(cls):\n",
    "    class NewClass(cls):\n",
    "        def custom_method(self):\n",
    "            print(\"This is a custom method added by the decorator.\")\n",
    "    return NewClass\n",
    "\n",
    "# 클래스 데코레이터를 사용하여 클래스 수정\n",
    "@add_custom_method\n",
    "class OriginalClass:\n",
    "    def original_method(self):\n",
    "        print(\"This is the original method.\")\n",
    "\n",
    "# 인스턴스 생성\n",
    "obj = OriginalClass()\n",
    "\n",
    "# 원래 클래스의 메서드 호출\n",
    "obj.original_method()   # 출력: This is the original method.\n",
    "\n",
    "# 클래스 데코레이터로 추가된 메서드 호출\n",
    "obj.custom_method()     # 출력: This is a custom method added by the decorator.\n"
   ]
  },
  {
   "cell_type": "code",
   "execution_count": null,
   "id": "be6efc60",
   "metadata": {},
   "outputs": [],
   "source": []
  },
  {
   "cell_type": "markdown",
   "id": "06fa13ad",
   "metadata": {},
   "source": [
    "## 1-3. 메서드 데코레이터 "
   ]
  },
  {
   "cell_type": "code",
   "execution_count": 2,
   "id": "8c2f374a",
   "metadata": {},
   "outputs": [
    {
     "name": "stdout",
     "output_type": "stream",
     "text": [
      "Prefix added:\n",
      "42\n"
     ]
    }
   ],
   "source": [
    "# 메서드 데코레이터 정의\n",
    "def add_prefix_decorator(func):\n",
    "    def wrapper(self, *args, **kwargs):\n",
    "        print(\"Prefix added:\")\n",
    "        return func(self, *args, **kwargs)\n",
    "    return wrapper\n",
    "\n",
    "# 클래스 정의\n",
    "class MyClass:\n",
    "    def __init__(self, value):\n",
    "        self.value = value\n",
    "\n",
    "    # 메서드 데코레이터를 사용하여 메서드 수정\n",
    "    @add_prefix_decorator\n",
    "    def print_value(self):\n",
    "        print(self.value)\n",
    "\n",
    "# 인스턴스 생성\n",
    "obj = MyClass(42)\n",
    "\n",
    "# 메서드 호출\n",
    "obj.print_value()\n"
   ]
  },
  {
   "cell_type": "code",
   "execution_count": null,
   "id": "3a205389",
   "metadata": {},
   "outputs": [],
   "source": []
  },
  {
   "cell_type": "markdown",
   "id": "6ff39696",
   "metadata": {},
   "source": [
    "## 2. 데코레이터 만드는  아이템을 기준으로 처리하기 \n",
    "\n",
    "- 데코레이터 함수 대신 다양한 것으로 만들 수 잇다. "
   ]
  },
  {
   "cell_type": "code",
   "execution_count": null,
   "id": "f5ef7147",
   "metadata": {},
   "outputs": [],
   "source": []
  },
  {
   "cell_type": "markdown",
   "id": "0396e931",
   "metadata": {},
   "source": [
    "##  2-1. 데코레이터를 클래스로 만들기"
   ]
  },
  {
   "cell_type": "code",
   "execution_count": null,
   "id": "7f062841",
   "metadata": {},
   "outputs": [],
   "source": [
    "# 인스턴스 데코레이터 클래스 정의\n",
    "class PrefixDecorator:\n",
    "    def __init__(self, method):\n",
    "        self.method = method\n",
    "\n",
    "    def __call__(self, *args, **kwargs):\n",
    "        print(\"Prefix added:\")\n",
    "        return self.method(*args, **kwargs)\n",
    "\n",
    "# 클래스 정의\n",
    "class MyClass:\n",
    "    def __init__(self, value):\n",
    "        self.value = value\n",
    "\n",
    "    # 인스턴스 데코레이터를 사용하여 인스턴스 메서드 수정\n",
    "    @PrefixDecorator\n",
    "    def print_value(self):\n",
    "        print(self.value)\n",
    "\n",
    "# 인스턴스 생성\n",
    "obj = MyClass(42)\n",
    "\n",
    "# 인스턴스 메서드 호출\n",
    "obj.print_value()\n"
   ]
  },
  {
   "cell_type": "code",
   "execution_count": null,
   "id": "1f3dc1b0",
   "metadata": {},
   "outputs": [],
   "source": []
  },
  {
   "cell_type": "code",
   "execution_count": 10,
   "id": "429f05b8",
   "metadata": {},
   "outputs": [
    {
     "name": "stdout",
     "output_type": "stream",
     "text": [
      "Prefix added:\n",
      "42\n"
     ]
    }
   ],
   "source": [
    "# 클래스 정의\n",
    "class DecoratorManager:\n",
    "    def __init__(self, method):\n",
    "        self.method = method\n",
    "\n",
    "    # 데코레이터 메서드\n",
    "    def add_prefix_decorator(self, *args, **kwargs):\n",
    "        print(\"Prefix added:\")\n",
    "        return self.method(*args, **kwargs)\n",
    "\n",
    "# 클래스 정의\n",
    "class MyClass:\n",
    "    def __init__(self, value):\n",
    "        self.value = value\n",
    "\n",
    "    # 메서드로 데코레이터 적용\n",
    "    def print_value(self):\n",
    "        print(self.value)\n",
    "\n",
    "# 인스턴스 생성\n",
    "obj = MyClass(42)\n",
    "\n",
    "# 데코레이터 적용 및 메서드 호출\n",
    "decorator_manager = DecoratorManager(obj.print_value)\n",
    "decorator_manager.add_prefix_decorator()\n"
   ]
  },
  {
   "cell_type": "code",
   "execution_count": null,
   "id": "698aab14",
   "metadata": {},
   "outputs": [],
   "source": []
  },
  {
   "cell_type": "code",
   "execution_count": 13,
   "id": "7a4c01f5",
   "metadata": {},
   "outputs": [
    {
     "name": "stdout",
     "output_type": "stream",
     "text": [
      "Prefix added:\n",
      "42\n"
     ]
    }
   ],
   "source": [
    "# 클래스 정의\n",
    "class DecoratorManager:\n",
    "    def __init__(self, method):\n",
    "        self.method = method\n",
    "\n",
    "    # 데코레이터 메서드\n",
    "    def add_prefix_decorator(self, *args, **kwargs):\n",
    "        print(\"Prefix added:\")\n",
    "        return self.method(*args, **kwargs)\n",
    "\n",
    "# 클래스 정의\n",
    "class MyClass:\n",
    "    def __init__(self, value):\n",
    "        self.value = value\n",
    "\n",
    "    # 메서드로 데코레이터 적용\n",
    "    @DecoratorManager\n",
    "    def print_value(self):\n",
    "        print(self.value)\n",
    "\n",
    "# 인스턴스 생성\n",
    "obj = MyClass(42)\n",
    "\n",
    "obj.print_value.add_prefix_decorator(obj)\n"
   ]
  },
  {
   "cell_type": "code",
   "execution_count": null,
   "id": "569beb56",
   "metadata": {},
   "outputs": [],
   "source": []
  },
  {
   "cell_type": "markdown",
   "id": "e907ffb7",
   "metadata": {},
   "source": [
    "## 2-2 데코레이터를  인스턴스로 하기 "
   ]
  },
  {
   "cell_type": "code",
   "execution_count": null,
   "id": "819efc0a",
   "metadata": {},
   "outputs": [],
   "source": []
  },
  {
   "cell_type": "code",
   "execution_count": 14,
   "id": "30a54cf1",
   "metadata": {},
   "outputs": [],
   "source": [
    "class InsDecorator :\n",
    "    \n",
    "    def __call__(self, func) :\n",
    "        self._func = func\n",
    "        def inner(*args, **kwargs) :\n",
    "            return self._func(*args, **kwargs)\n",
    "        return inner"
   ]
  },
  {
   "cell_type": "code",
   "execution_count": 15,
   "id": "7a27c2ff",
   "metadata": {},
   "outputs": [],
   "source": [
    "ins = InsDecorator()"
   ]
  },
  {
   "cell_type": "code",
   "execution_count": 16,
   "id": "17e47db3",
   "metadata": {},
   "outputs": [],
   "source": [
    "@ins\n",
    "def mul(x,y) :\n",
    "    return x*y"
   ]
  },
  {
   "cell_type": "code",
   "execution_count": 17,
   "id": "6a3b668d",
   "metadata": {},
   "outputs": [
    {
     "data": {
      "text/plain": [
       "200"
      ]
     },
     "execution_count": 17,
     "metadata": {},
     "output_type": "execute_result"
    }
   ],
   "source": [
    "mul(10,20)"
   ]
  },
  {
   "cell_type": "code",
   "execution_count": null,
   "id": "0a363449",
   "metadata": {},
   "outputs": [],
   "source": []
  },
  {
   "cell_type": "code",
   "execution_count": 19,
   "id": "154378d3",
   "metadata": {},
   "outputs": [],
   "source": [
    "import functools as ft"
   ]
  },
  {
   "cell_type": "code",
   "execution_count": 20,
   "id": "52782079",
   "metadata": {},
   "outputs": [],
   "source": [
    "class InsDecorator1 :\n",
    "    \n",
    "    def __call__(self, func) :\n",
    "        self._func = func\n",
    "        @ft.wraps(self._func)\n",
    "        def inner(*args, **kwargs) :\n",
    "            return self._func(*args, **kwargs)\n",
    "        return inner"
   ]
  },
  {
   "cell_type": "code",
   "execution_count": null,
   "id": "338ffcf7",
   "metadata": {},
   "outputs": [],
   "source": []
  },
  {
   "cell_type": "code",
   "execution_count": 21,
   "id": "3a992a20",
   "metadata": {},
   "outputs": [],
   "source": [
    "@InsDecorator1()\n",
    "def mul(x,y) :\n",
    "    return x*y"
   ]
  },
  {
   "cell_type": "code",
   "execution_count": 22,
   "id": "3e445d27",
   "metadata": {},
   "outputs": [
    {
     "data": {
      "text/plain": [
       "20000"
      ]
     },
     "execution_count": 22,
     "metadata": {},
     "output_type": "execute_result"
    }
   ],
   "source": [
    "mul(100,200)"
   ]
  },
  {
   "cell_type": "code",
   "execution_count": null,
   "id": "9ae7528f",
   "metadata": {},
   "outputs": [],
   "source": []
  },
  {
   "cell_type": "markdown",
   "id": "71868ad6",
   "metadata": {},
   "source": [
    "## 2-3 데코레이터를 메서드로 처리하기 "
   ]
  },
  {
   "cell_type": "code",
   "execution_count": null,
   "id": "c658be13",
   "metadata": {},
   "outputs": [],
   "source": []
  },
  {
   "cell_type": "code",
   "execution_count": 23,
   "id": "98c453b4",
   "metadata": {},
   "outputs": [],
   "source": [
    "class MethodDecorator :\n",
    "    \n",
    "        \n",
    "    def method(self, func) :\n",
    "        self._func = func\n",
    "        @ft.wraps(self._func) \n",
    "        def inner(*args, **kwargs) :\n",
    "            return self._func(*args, **kwargs)\n",
    "        return inner"
   ]
  },
  {
   "cell_type": "code",
   "execution_count": null,
   "id": "b9dd0025",
   "metadata": {},
   "outputs": [],
   "source": []
  },
  {
   "cell_type": "code",
   "execution_count": 24,
   "id": "fcacda6a",
   "metadata": {},
   "outputs": [],
   "source": [
    "metdeco = MethodDecorator()"
   ]
  },
  {
   "cell_type": "code",
   "execution_count": 25,
   "id": "3dd8fcbe",
   "metadata": {},
   "outputs": [],
   "source": [
    "@metdeco.method\n",
    "def mul(x,y) :\n",
    "    return x*y"
   ]
  },
  {
   "cell_type": "code",
   "execution_count": 26,
   "id": "cc4b0850",
   "metadata": {},
   "outputs": [
    {
     "data": {
      "text/plain": [
       "690000"
      ]
     },
     "execution_count": 26,
     "metadata": {},
     "output_type": "execute_result"
    }
   ],
   "source": [
    "mul(2000,345)"
   ]
  },
  {
   "cell_type": "code",
   "execution_count": null,
   "id": "14364da5",
   "metadata": {},
   "outputs": [],
   "source": []
  },
  {
   "cell_type": "code",
   "execution_count": null,
   "id": "c3337413",
   "metadata": {},
   "outputs": [],
   "source": []
  },
  {
   "cell_type": "code",
   "execution_count": null,
   "id": "6d921ac5",
   "metadata": {},
   "outputs": [],
   "source": []
  },
  {
   "cell_type": "code",
   "execution_count": null,
   "id": "ea325469",
   "metadata": {},
   "outputs": [],
   "source": [
    "class Property:\n",
    "    def __init__(self, fget=None, fset=None, fdel=None):\n",
    "        self.fget = fget\n",
    "        self.fset = fset\n",
    "        self.fdel = fdel\n",
    "\n",
    "    def __get__(self, instance, owner):\n",
    "        if instance is None:\n",
    "            return self\n",
    "        if self.fget is None:\n",
    "            raise AttributeError(\"unreadable attribute\")\n",
    "        return self.fget(instance)\n",
    "\n",
    "    def __set__(self, instance, value):\n",
    "        if self.fset is None:\n",
    "            raise AttributeError(\"can't set attribute\")\n",
    "        self.fset(instance, value)\n",
    "\n",
    "    def __delete__(self, instance):\n",
    "        if self.fdel is None:\n",
    "            raise AttributeError(\"can't delete attribute\")\n",
    "        self.fdel(instance)\n"
   ]
  },
  {
   "cell_type": "code",
   "execution_count": null,
   "id": "ade3b341",
   "metadata": {},
   "outputs": [],
   "source": []
  },
  {
   "cell_type": "code",
   "execution_count": null,
   "id": "3b9e5b10",
   "metadata": {},
   "outputs": [],
   "source": []
  }
 ],
 "metadata": {
  "kernelspec": {
   "display_name": "Python 3 (ipykernel)",
   "language": "python",
   "name": "python3"
  },
  "language_info": {
   "codemirror_mode": {
    "name": "ipython",
    "version": 3
   },
   "file_extension": ".py",
   "mimetype": "text/x-python",
   "name": "python",
   "nbconvert_exporter": "python",
   "pygments_lexer": "ipython3",
   "version": "3.11.3"
  }
 },
 "nbformat": 4,
 "nbformat_minor": 5
}
