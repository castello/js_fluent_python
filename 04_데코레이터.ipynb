{
 "cells": [
  {
   "cell_type": "code",
   "execution_count": null,
   "id": "7ee256df",
   "metadata": {},
   "outputs": [],
   "source": []
  },
  {
   "cell_type": "markdown",
   "id": "f0248f7e",
   "metadata": {},
   "source": [
    "# 내부 함수 이해하기"
   ]
  },
  {
   "cell_type": "code",
   "execution_count": null,
   "id": "7e7bceab",
   "metadata": {},
   "outputs": [],
   "source": []
  },
  {
   "cell_type": "markdown",
   "id": "a2c1c65b",
   "metadata": {},
   "source": [
    "# 내부함수의 변수스코프 이해하기 "
   ]
  },
  {
   "cell_type": "code",
   "execution_count": null,
   "id": "8ef74a92",
   "metadata": {},
   "outputs": [],
   "source": []
  },
  {
   "cell_type": "code",
   "execution_count": null,
   "id": "fee23296",
   "metadata": {},
   "outputs": [],
   "source": []
  },
  {
   "cell_type": "markdown",
   "id": "66c67f50",
   "metadata": {},
   "source": [
    "# 클로저 이해하기 "
   ]
  },
  {
   "cell_type": "code",
   "execution_count": null,
   "id": "a36996e3",
   "metadata": {},
   "outputs": [],
   "source": []
  },
  {
   "cell_type": "code",
   "execution_count": null,
   "id": "08a20afd",
   "metadata": {},
   "outputs": [],
   "source": []
  },
  {
   "cell_type": "code",
   "execution_count": null,
   "id": "6cb8da25",
   "metadata": {},
   "outputs": [],
   "source": []
  },
  {
   "cell_type": "code",
   "execution_count": null,
   "id": "44ea4a0e",
   "metadata": {},
   "outputs": [],
   "source": []
  },
  {
   "cell_type": "markdown",
   "id": "7fa2e089",
   "metadata": {},
   "source": [
    "# 데코레이터(Decorator) \n",
    "\n",
    "-  함수나 메서드의 동작을 수정하거나 기능을 추가하는 강력한 기능입니다. \n",
    "-  함수를 인자로 받아서 다른 함수를 반환하는 고위 함수(Higher-Order Function)로서 동작합니다. \n",
    "- 데코레이터는 @ 기호를 사용하여 함수 위에 특별한 형태로 적용됩니다."
   ]
  },
  {
   "cell_type": "markdown",
   "id": "49f6f241",
   "metadata": {},
   "source": [
    "## 1. 데코레이터의 실행 대상을 기준으로 알아보기\n",
    "\n",
    "- 데코레이터 함수를 구현한 후에 테코레이텅 당하는 대상체를 기준으로 처리하는 방법 알아보기"
   ]
  },
  {
   "cell_type": "markdown",
   "id": "c4b69716",
   "metadata": {},
   "source": [
    "## 1-1.  함수 데코레이터"
   ]
  },
  {
   "cell_type": "code",
   "execution_count": 3,
   "id": "27e8bba2",
   "metadata": {},
   "outputs": [
    {
     "name": "stdout",
     "output_type": "stream",
     "text": [
      "Prefix added:\n",
      "Hello, world!\n"
     ]
    }
   ],
   "source": [
    "# 함수 데코레이터 정의\n",
    "def add_prefix_decorator(func):\n",
    "    def wrapper(*args, **kwargs):\n",
    "        print(\"Prefix added:\")\n",
    "        return func(*args, **kwargs)\n",
    "    return wrapper\n",
    "\n",
    "# 함수 정의\n",
    "@add_prefix_decorator\n",
    "def print_message(message):\n",
    "    print(message)\n",
    "\n",
    "# 함수 호출\n",
    "print_message(\"Hello, world!\")\n"
   ]
  },
  {
   "cell_type": "code",
   "execution_count": null,
   "id": "b9088e9a",
   "metadata": {},
   "outputs": [],
   "source": []
  },
  {
   "cell_type": "markdown",
   "id": "3f0e7930",
   "metadata": {},
   "source": [
    "## 1-2. 클래스 데코레이터"
   ]
  },
  {
   "cell_type": "code",
   "execution_count": 1,
   "id": "1d60b0c8",
   "metadata": {},
   "outputs": [
    {
     "name": "stdout",
     "output_type": "stream",
     "text": [
      "This is the original method.\n",
      "This is a custom method added by the decorator.\n"
     ]
    }
   ],
   "source": [
    "# 클래스 데코레이터 정의\n",
    "def add_custom_method(cls):\n",
    "    class NewClass(cls):\n",
    "        def custom_method(self):\n",
    "            print(\"This is a custom method added by the decorator.\")\n",
    "    return NewClass\n",
    "\n",
    "# 클래스 데코레이터를 사용하여 클래스 수정\n",
    "@add_custom_method\n",
    "class OriginalClass:\n",
    "    def original_method(self):\n",
    "        print(\"This is the original method.\")\n",
    "\n",
    "# 인스턴스 생성\n",
    "obj = OriginalClass()\n",
    "\n",
    "# 원래 클래스의 메서드 호출\n",
    "obj.original_method()   # 출력: This is the original method.\n",
    "\n",
    "# 클래스 데코레이터로 추가된 메서드 호출\n",
    "obj.custom_method()     # 출력: This is a custom method added by the decorator.\n"
   ]
  },
  {
   "cell_type": "code",
   "execution_count": null,
   "id": "be6efc60",
   "metadata": {},
   "outputs": [],
   "source": []
  },
  {
   "cell_type": "markdown",
   "id": "06fa13ad",
   "metadata": {},
   "source": [
    "## 1-3. 메서드 데코레이터 "
   ]
  },
  {
   "cell_type": "code",
   "execution_count": 2,
   "id": "8c2f374a",
   "metadata": {},
   "outputs": [
    {
     "name": "stdout",
     "output_type": "stream",
     "text": [
      "Prefix added:\n",
      "42\n"
     ]
    }
   ],
   "source": [
    "# 메서드 데코레이터 정의\n",
    "def add_prefix_decorator(func):\n",
    "    def wrapper(self, *args, **kwargs):\n",
    "        print(\"Prefix added:\")\n",
    "        return func(self, *args, **kwargs)\n",
    "    return wrapper\n",
    "\n",
    "# 클래스 정의\n",
    "class MyClass:\n",
    "    def __init__(self, value):\n",
    "        self.value = value\n",
    "\n",
    "    # 메서드 데코레이터를 사용하여 메서드 수정\n",
    "    @add_prefix_decorator\n",
    "    def print_value(self):\n",
    "        print(self.value)\n",
    "\n",
    "# 인스턴스 생성\n",
    "obj = MyClass(42)\n",
    "\n",
    "# 메서드 호출\n",
    "obj.print_value()\n"
   ]
  },
  {
   "cell_type": "code",
   "execution_count": null,
   "id": "3a205389",
   "metadata": {},
   "outputs": [],
   "source": []
  },
  {
   "cell_type": "markdown",
   "id": "69cad715",
   "metadata": {},
   "source": [
    "## 2. 데코레이터 만드는  아이템을 기준으로 처리하기 \n",
    "\n",
    "- 데코레이터 함수 대신 다양한 것으로 만들 수 잇다. "
   ]
  },
  {
   "cell_type": "code",
   "execution_count": null,
   "id": "7cdaf7f2",
   "metadata": {},
   "outputs": [],
   "source": []
  },
  {
   "cell_type": "markdown",
   "id": "0396e931",
   "metadata": {},
   "source": [
    "##  2-1. 데코레이터를 클래스로 만들기"
   ]
  },
  {
   "cell_type": "code",
   "execution_count": null,
   "id": "7f062841",
   "metadata": {},
   "outputs": [],
   "source": [
    "# 인스턴스 데코레이터 클래스 정의\n",
    "class PrefixDecorator:\n",
    "    def __init__(self, method):\n",
    "        self.method = method\n",
    "\n",
    "    def __call__(self, *args, **kwargs):\n",
    "        print(\"Prefix added:\")\n",
    "        return self.method(*args, **kwargs)\n",
    "\n",
    "# 클래스 정의\n",
    "class MyClass:\n",
    "    def __init__(self, value):\n",
    "        self.value = value\n",
    "\n",
    "    # 인스턴스 데코레이터를 사용하여 인스턴스 메서드 수정\n",
    "    @PrefixDecorator\n",
    "    def print_value(self):\n",
    "        print(self.value)\n",
    "\n",
    "# 인스턴스 생성\n",
    "obj = MyClass(42)\n",
    "\n",
    "# 인스턴스 메서드 호출\n",
    "obj.print_value()\n"
   ]
  },
  {
   "cell_type": "code",
   "execution_count": null,
   "id": "1f3dc1b0",
   "metadata": {},
   "outputs": [],
   "source": []
  },
  {
   "cell_type": "code",
   "execution_count": 10,
   "id": "429f05b8",
   "metadata": {},
   "outputs": [
    {
     "name": "stdout",
     "output_type": "stream",
     "text": [
      "Prefix added:\n",
      "42\n"
     ]
    }
   ],
   "source": [
    "# 클래스 정의\n",
    "class DecoratorManager:\n",
    "    def __init__(self, method):\n",
    "        self.method = method\n",
    "\n",
    "    # 데코레이터 메서드\n",
    "    def add_prefix_decorator(self, *args, **kwargs):\n",
    "        print(\"Prefix added:\")\n",
    "        return self.method(*args, **kwargs)\n",
    "\n",
    "# 클래스 정의\n",
    "class MyClass:\n",
    "    def __init__(self, value):\n",
    "        self.value = value\n",
    "\n",
    "    # 메서드로 데코레이터 적용\n",
    "    def print_value(self):\n",
    "        print(self.value)\n",
    "\n",
    "# 인스턴스 생성\n",
    "obj = MyClass(42)\n",
    "\n",
    "# 데코레이터 적용 및 메서드 호출\n",
    "decorator_manager = DecoratorManager(obj.print_value)\n",
    "decorator_manager.add_prefix_decorator()\n"
   ]
  },
  {
   "cell_type": "code",
   "execution_count": null,
   "id": "698aab14",
   "metadata": {},
   "outputs": [],
   "source": []
  },
  {
   "cell_type": "code",
   "execution_count": 13,
   "id": "7a4c01f5",
   "metadata": {},
   "outputs": [
    {
     "name": "stdout",
     "output_type": "stream",
     "text": [
      "Prefix added:\n",
      "42\n"
     ]
    }
   ],
   "source": [
    "# 클래스 정의\n",
    "class DecoratorManager:\n",
    "    def __init__(self, method):\n",
    "        self.method = method\n",
    "\n",
    "    # 데코레이터 메서드\n",
    "    def add_prefix_decorator(self, *args, **kwargs):\n",
    "        print(\"Prefix added:\")\n",
    "        return self.method(*args, **kwargs)\n",
    "\n",
    "# 클래스 정의\n",
    "class MyClass:\n",
    "    def __init__(self, value):\n",
    "        self.value = value\n",
    "\n",
    "    # 메서드로 데코레이터 적용\n",
    "    @DecoratorManager\n",
    "    def print_value(self):\n",
    "        print(self.value)\n",
    "\n",
    "# 인스턴스 생성\n",
    "obj = MyClass(42)\n",
    "\n",
    "obj.print_value.add_prefix_decorator(obj)\n"
   ]
  },
  {
   "cell_type": "code",
   "execution_count": null,
   "id": "569beb56",
   "metadata": {},
   "outputs": [],
   "source": []
  },
  {
   "cell_type": "markdown",
   "id": "b9de88b0",
   "metadata": {},
   "source": [
    "## 2-2 데코레이터를  인스턴스로 하기 "
   ]
  },
  {
   "cell_type": "code",
   "execution_count": null,
   "id": "cd5e83e3",
   "metadata": {},
   "outputs": [],
   "source": []
  },
  {
   "cell_type": "code",
   "execution_count": 14,
   "id": "47fc05e7",
   "metadata": {},
   "outputs": [],
   "source": [
    "class InsDecorator :\n",
    "    \n",
    "    def __call__(self, func) :\n",
    "        self._func = func\n",
    "        def inner(*args, **kwargs) :\n",
    "            return self._func(*args, **kwargs)\n",
    "        return inner"
   ]
  },
  {
   "cell_type": "code",
   "execution_count": 15,
   "id": "99442a5c",
   "metadata": {},
   "outputs": [],
   "source": [
    "ins = InsDecorator()"
   ]
  },
  {
   "cell_type": "code",
   "execution_count": 16,
   "id": "6e589552",
   "metadata": {},
   "outputs": [],
   "source": [
    "@ins\n",
    "def mul(x,y) :\n",
    "    return x*y"
   ]
  },
  {
   "cell_type": "code",
   "execution_count": 17,
   "id": "647810d8",
   "metadata": {},
   "outputs": [
    {
     "data": {
      "text/plain": [
       "200"
      ]
     },
     "execution_count": 17,
     "metadata": {},
     "output_type": "execute_result"
    }
   ],
   "source": [
    "mul(10,20)"
   ]
  },
  {
   "cell_type": "code",
   "execution_count": null,
   "id": "b922c0e9",
   "metadata": {},
   "outputs": [],
   "source": []
  },
  {
   "cell_type": "code",
   "execution_count": 19,
   "id": "6b852f21",
   "metadata": {},
   "outputs": [],
   "source": [
    "import functools as ft"
   ]
  },
  {
   "cell_type": "code",
   "execution_count": 20,
   "id": "2071301a",
   "metadata": {},
   "outputs": [],
   "source": [
    "class InsDecorator1 :\n",
    "    \n",
    "    def __call__(self, func) :\n",
    "        self._func = func\n",
    "        @ft.wraps(self._func)\n",
    "        def inner(*args, **kwargs) :\n",
    "            return self._func(*args, **kwargs)\n",
    "        return inner"
   ]
  },
  {
   "cell_type": "code",
   "execution_count": null,
   "id": "f8096de0",
   "metadata": {},
   "outputs": [],
   "source": []
  },
  {
   "cell_type": "code",
   "execution_count": 21,
   "id": "32d92b18",
   "metadata": {},
   "outputs": [],
   "source": [
    "@InsDecorator1()\n",
    "def mul(x,y) :\n",
    "    return x*y"
   ]
  },
  {
   "cell_type": "code",
   "execution_count": 22,
   "id": "b574713d",
   "metadata": {},
   "outputs": [
    {
     "data": {
      "text/plain": [
       "20000"
      ]
     },
     "execution_count": 22,
     "metadata": {},
     "output_type": "execute_result"
    }
   ],
   "source": [
    "mul(100,200)"
   ]
  },
  {
   "cell_type": "code",
   "execution_count": null,
   "id": "ccd9c875",
   "metadata": {},
   "outputs": [],
   "source": []
  },
  {
   "cell_type": "markdown",
   "id": "926a14a5",
   "metadata": {},
   "source": [
    "## 2-3 데코레이터를 메서드로 처리하기 "
   ]
  },
  {
   "cell_type": "code",
   "execution_count": null,
   "id": "ba4719b1",
   "metadata": {},
   "outputs": [],
   "source": []
  },
  {
   "cell_type": "code",
   "execution_count": 23,
   "id": "6e3e7204",
   "metadata": {},
   "outputs": [],
   "source": [
    "class MethodDecorator :\n",
    "    \n",
    "        \n",
    "    def method(self, func) :\n",
    "        self._func = func\n",
    "        @ft.wraps(self._func) \n",
    "        def inner(*args, **kwargs) :\n",
    "            return self._func(*args, **kwargs)\n",
    "        return inner"
   ]
  },
  {
   "cell_type": "code",
   "execution_count": null,
   "id": "2c871ae4",
   "metadata": {},
   "outputs": [],
   "source": []
  },
  {
   "cell_type": "code",
   "execution_count": 24,
   "id": "8fad3f08",
   "metadata": {},
   "outputs": [],
   "source": [
    "metdeco = MethodDecorator()"
   ]
  },
  {
   "cell_type": "code",
   "execution_count": 25,
   "id": "101b62c5",
   "metadata": {},
   "outputs": [],
   "source": [
    "@metdeco.method\n",
    "def mul(x,y) :\n",
    "    return x*y"
   ]
  },
  {
   "cell_type": "code",
   "execution_count": 26,
   "id": "dcf095dd",
   "metadata": {},
   "outputs": [
    {
     "data": {
      "text/plain": [
       "690000"
      ]
     },
     "execution_count": 26,
     "metadata": {},
     "output_type": "execute_result"
    }
   ],
   "source": [
    "mul(2000,345)"
   ]
  },
  {
   "cell_type": "code",
   "execution_count": null,
   "id": "1affb1c9",
   "metadata": {},
   "outputs": [],
   "source": []
  }
 ],
 "metadata": {
  "kernelspec": {
   "display_name": "Python 3 (ipykernel)",
   "language": "python",
   "name": "python3"
  },
  "language_info": {
   "codemirror_mode": {
    "name": "ipython",
    "version": 3
   },
   "file_extension": ".py",
   "mimetype": "text/x-python",
   "name": "python",
   "nbconvert_exporter": "python",
   "pygments_lexer": "ipython3",
   "version": "3.11.3"
  }
 },
 "nbformat": 4,
 "nbformat_minor": 5
}
