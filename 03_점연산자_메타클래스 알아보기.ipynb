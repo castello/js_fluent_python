{
 "cells": [
  {
   "cell_type": "code",
   "execution_count": null,
   "id": "7ce75e09",
   "metadata": {},
   "outputs": [],
   "source": []
  },
  {
   "cell_type": "markdown",
   "id": "4cabdc41",
   "metadata": {},
   "source": [
    "# 1. 점연산자 처리 "
   ]
  },
  {
   "cell_type": "code",
   "execution_count": null,
   "id": "c913088e",
   "metadata": {},
   "outputs": [],
   "source": []
  },
  {
   "cell_type": "markdown",
   "id": "2af1dbaf",
   "metadata": {},
   "source": [
    "## 1-1 객체의 점연산자 \n",
    "\n",
    "\n",
    "###  `__getattribute__ `메서드\n",
    "\n",
    "- 객체의 속성(attribute)에 접근할 때 호출되는 특수한 메서드입니다. \n",
    "- 이 메서드를 오버라이딩하면 객체의 속성 접근을 커스텀하게 제어할 수 있습니다.\n",
    "\n",
    "- `__getattribute__ `메서드는 객체의 속성에 접근할 때마다 호출되며, 속성 이름을 인자로 받습니다. \n",
    "- 이 메서드를 사용하여 해당 속성에 접근하는 동작을 원하는대로 정의할 수 있습니다. \n",
    "- 하지만 주의할 점은 `__getattribute__` 메서드를 오버라이딩할 때 반드시 속성에 접근하는 동작을 정의해야 하며, \n",
    "- 무한 재귀를 피하기 위해 object 클래스의 `__getattribute__ `메서드를 호출하는 것이 중요합니다."
   ]
  },
  {
   "cell_type": "code",
   "execution_count": null,
   "id": "4ad4f37d",
   "metadata": {},
   "outputs": [],
   "source": []
  },
  {
   "cell_type": "code",
   "execution_count": 1,
   "id": "b928833e",
   "metadata": {},
   "outputs": [],
   "source": [
    "class MyClass:\n",
    "    def __init__(self):\n",
    "        self._x = 10\n",
    "\n",
    "    def __getattribute__(self, name):\n",
    "        print(f\"Accessing attribute: {name}\")\n",
    "        # object 클래스의 __getattribute__ 메서드를 호출하여 실제 속성에 접근\n",
    "        return object.__getattribute__(self, name)\n",
    "\n",
    "    def double_x(self):\n",
    "        return self._x * 2\n"
   ]
  },
  {
   "cell_type": "code",
   "execution_count": 2,
   "id": "e54b7080",
   "metadata": {},
   "outputs": [],
   "source": [
    "# 객체 생성\n",
    "obj = MyClass()\n",
    "\n",
    "# 속성에 접근\n",
    "print(obj._x)          # 출력: Accessing attribute: _x, 10\n",
    "print(obj.double_x())  # 출력: Accessing attribute: double_x, 20"
   ]
  },
  {
   "cell_type": "code",
   "execution_count": null,
   "id": "cd6cd64e",
   "metadata": {},
   "outputs": [],
   "source": []
  },
  {
   "cell_type": "markdown",
   "id": "e5827583",
   "metadata": {},
   "source": [
    "##  1-2.  `__getattr__`  조회가 없을 때 예외 처리\n",
    "\n",
    "###   `__getattr__` 메서드\n",
    "- 객체의 속성(attribute)에 접근할 때 해당 속성이 존재하지 않을 경우 호출되는 특수한 메서드입니다. \n",
    "- 즉, 해당 속성이 존재하지 않을 때에만 `__getattr__` 메서드가 실행됩니다. \n",
    "- 이 메서드를 오버라이딩하면 속성에 접근하는 동작을 커스텀하게 제어할 수 있습니다.\n",
    "\n",
    "###  `__getattr__` 메서드 구현 \n",
    "- 는 속성 이름을 인자로 받으며, 이 메서드에서는 존재하지 않는 속성에 대한 처리를 구현합니다. \n",
    "- 일반적으로 `__getattr__` 메서드는 속성을 찾지 못했을 때 기본 값을 반환하거나, 다른 속성으로 대체하는 등의 동작을 정의할 때 사용됩니다.\n",
    "\n",
    "### 주의할 점은  \n",
    "- `__getattr__` 메서드는 존재하지 않는 속성에만 작동한다는 점입니다. \n",
    "- 존재하는 속성에 접근할 때는 `__getattr__` 메서드가 호출되지 않으며, 이미 정의된 속성에 접근하는 경우에는 일반적인 속성 접근 동작이 실행됩니다.\n"
   ]
  },
  {
   "cell_type": "markdown",
   "id": "f39bb2fd",
   "metadata": {},
   "source": [
    "### 클래스 내에 예외처리 반영 "
   ]
  },
  {
   "cell_type": "code",
   "execution_count": 3,
   "id": "607c1f4d",
   "metadata": {},
   "outputs": [],
   "source": [
    "class MyClass:\n",
    "    def __init__(self):\n",
    "        self._x = 10\n",
    "        \n",
    "    def __getattribute__(self, name):\n",
    "        print(f\"Accessing attribute: {name}\")\n",
    "        # object 클래스의 __getattribute__ 메서드를 호출하여 실제 속성에 접근\n",
    "        return object.__getattribute__(self, name)\n",
    "\n",
    "    def __getattr__(self, name):\n",
    "        print(f\"### Accessing non-existing attribute: {name} ###\")\n",
    "        return f\"{name} not found\"\n",
    "\n",
    "    def double_x(self):\n",
    "        return self._x * 2\n"
   ]
  },
  {
   "cell_type": "markdown",
   "id": "bdc277fd",
   "metadata": {},
   "source": [
    "### 객체를 생성해서 처리하기 "
   ]
  },
  {
   "cell_type": "code",
   "execution_count": 4,
   "id": "abbeb011",
   "metadata": {},
   "outputs": [],
   "source": [
    "# 객체 생성\n",
    "obj = MyClass()\n",
    "\n",
    "# 존재하는 속성에 접근\n",
    "print(obj.double_x())  # 출력: 20\n",
    "\n",
    "# 존재하지 않는 속성에 접근\n",
    "print(obj.y)          # 출력: Accessing non-existing attribute: y, y not found"
   ]
  },
  {
   "cell_type": "code",
   "execution_count": null,
   "id": "0a0e7037",
   "metadata": {},
   "outputs": [],
   "source": []
  },
  {
   "cell_type": "markdown",
   "id": "b8f7a610",
   "metadata": {},
   "source": [
    "## 1-3. 갱신과 삭제 \n",
    "\n",
    "### `__setattr__ `메서드:\n",
    "\n",
    "- 객체의 속성을 설정할 때 호출되는 메서드입니다.\n",
    "- self, name, value 인자를 받으며, name은 설정하려는 속성의 이름이고, value는 설정하려는 속성의 값입니다.\n",
    "- `__setattr__` 메서드에서 속성을 설정하려면 self.`__dict__`[name] = value와 같이 사용합니다.\n",
    "\n",
    "### `__delattr__` 메서드:\n",
    "\n",
    "- 객체의 속성을 삭제할 때 호출되는 메서드입니다.\n",
    "- self와 name 인자를 받으며, name은 삭제하려는 속성의 이름입니다.\n",
    "- `__delattr__` 메서드에서 속성을 삭제하려면 del self.`__dict__`[name]과 같이 사용합니다.\n"
   ]
  },
  {
   "cell_type": "markdown",
   "id": "bf56c02a",
   "metadata": {},
   "source": [
    "### 갱신과 삭제 처리 "
   ]
  },
  {
   "cell_type": "code",
   "execution_count": 5,
   "id": "c201b083",
   "metadata": {},
   "outputs": [],
   "source": [
    "class MyClass:\n",
    "    def __init__(self):\n",
    "        self._x = None\n",
    "\n",
    "    def __setattr__(self, name, value):\n",
    "        print(f\"Setting attribute: {name} = {value}\")\n",
    "        self.__dict__[name] = value\n",
    "\n",
    "    def __delattr__(self, name):\n",
    "        print(f\"Deleting attribute: {name}\")\n",
    "        del self.__dict__[name]\n"
   ]
  },
  {
   "cell_type": "markdown",
   "id": "973a3ea7",
   "metadata": {},
   "source": [
    "### 객체 확인"
   ]
  },
  {
   "cell_type": "code",
   "execution_count": 6,
   "id": "4867f7da",
   "metadata": {},
   "outputs": [],
   "source": [
    "# 객체 생성\n",
    "obj = MyClass()\n",
    "\n",
    "# 속성 설정\n",
    "obj.x = 42     # 출력: Setting attribute: x = 42\n",
    "\n",
    "# 속성 접근\n",
    "print(obj.x)   # 출력: 42\n",
    "\n",
    "# 속성 삭제\n",
    "del obj.x      # 출력: Deleting attribute: x"
   ]
  },
  {
   "cell_type": "code",
   "execution_count": null,
   "id": "e63363ce",
   "metadata": {},
   "outputs": [],
   "source": []
  },
  {
   "cell_type": "markdown",
   "id": "faa3a822",
   "metadata": {},
   "source": [
    " \n",
    " ## 1-4 내장함수로 처리하기 \n",
    " \n",
    "- getattr 함수는 객체의 속성에 접근하는데 사용되며, 존재하지 않는 속성에 접근 시 기본값을 반환합니다.(`__getattr__`)\n",
    "\n",
    "- setattr 함수는 객체의 속성을 설정하는데 사용되며, 존재하지 않는 속성에 값을 설정할 수도 있습니다.(`__setattr__`)\n",
    "\n",
    "- delattr 함수는 객체의 속성을 삭제하는데 사용되며, 존재하지 않는 속성을 삭제해도 오류가 발생하지 않습니다.(`__delattr__`)\n"
   ]
  },
  {
   "cell_type": "markdown",
   "id": "de051c15",
   "metadata": {},
   "source": [
    "### 점연산자를 처리 "
   ]
  },
  {
   "cell_type": "code",
   "execution_count": 7,
   "id": "c295a893",
   "metadata": {},
   "outputs": [],
   "source": [
    "class MyClass:\n",
    "    def __init__(self):\n",
    "        self._x = None\n",
    "\n",
    "    def __getattr__(self, name):\n",
    "        print(f\"속성  접근 getattr : {name}\")\n",
    "        return f\"{name} not found\"\n",
    "\n",
    "    def __setattr__(self, name, value):\n",
    "        print(f\"속성  갱신 setattr : {name} = {value}\")\n",
    "        super().__setattr__(name, value)\n",
    "\n",
    "    def __delattr__(self, name):\n",
    "        print(f\"속성  삭제 delattr: {name}\")\n",
    "        super().__delattr__(name)\n"
   ]
  },
  {
   "cell_type": "code",
   "execution_count": 8,
   "id": "4bf87f59",
   "metadata": {},
   "outputs": [],
   "source": [
    "# 객체 생성\n",
    "obj = MyClass()"
   ]
  },
  {
   "cell_type": "markdown",
   "id": "5cd8743f",
   "metadata": {},
   "source": [
    "### 내장함수  getattr 처리 "
   ]
  },
  {
   "cell_type": "code",
   "execution_count": 9,
   "id": "167dc7eb",
   "metadata": {},
   "outputs": [],
   "source": [
    "# getattr: 존재하는 속성에 접근\n",
    "print(getattr(obj, '_x'))   # 출력: None\n",
    "\n",
    "# getattr: 존재하지 않는 속성에 접근\n",
    "print(getattr(obj, 'y'))    # 출력: Accessing non-existing attribute: y, y not found"
   ]
  },
  {
   "cell_type": "markdown",
   "id": "3c18f87b",
   "metadata": {},
   "source": [
    "### 내장함수 setattr 처리 "
   ]
  },
  {
   "cell_type": "code",
   "execution_count": 10,
   "id": "ae40390a",
   "metadata": {},
   "outputs": [],
   "source": [
    "# setattr: 속성 설정\n",
    "setattr(obj, 'x', 42)       # 출력: Setting attribute: x = 42\n",
    "\n",
    "# setattr: 존재하지 않는 속성 설정\n",
    "setattr(obj, 'y', 'hello')  # 출력: Setting attribute: y = hello"
   ]
  },
  {
   "cell_type": "markdown",
   "id": "cc6d2c36",
   "metadata": {},
   "source": [
    "### 내장함수 delattr 처리 "
   ]
  },
  {
   "cell_type": "code",
   "execution_count": 11,
   "id": "7ad2eda8",
   "metadata": {},
   "outputs": [],
   "source": [
    "# delattr: 속성 삭제\n",
    "delattr(obj, 'x')           # 출력: Deleting attribute: x"
   ]
  },
  {
   "cell_type": "code",
   "execution_count": null,
   "id": "4b645f10",
   "metadata": {},
   "outputs": [],
   "source": []
  },
  {
   "cell_type": "code",
   "execution_count": null,
   "id": "45933a3f",
   "metadata": {},
   "outputs": [],
   "source": []
  },
  {
   "cell_type": "markdown",
   "id": "fe73a40e",
   "metadata": {},
   "source": [
    "# 2. 메타 클래스 알아보기"
   ]
  },
  {
   "cell_type": "markdown",
   "id": "0ec97e02",
   "metadata": {},
   "source": [
    "## 2-1 메타 클래스로 클래스 생성하기\n",
    "\n",
    "### type 메타클래스 로 클래스 생성 \n",
    "\n",
    "- type은 클래스의 메타클래스(meta class)입니다. \n",
    "- 클래스를 정의하고 객체를 생성할 필요 없이 직접 클래스를 생성할 수 있습니다."
   ]
  },
  {
   "cell_type": "markdown",
   "id": "03957c96",
   "metadata": {},
   "source": [
    "## 타입 클래스의 매개변수 \n",
    "\n",
    "type(classname, bases, attributes)\n",
    "\n",
    "- classname: 클래스의 이름을 지정합니다.\n",
    "- bases: 클래스의 기본 클래스를 지정합니다. 단일 클래스일 경우에는 단일 값, 다중 상속일 경우에는 튜플로 지정합니다.\n",
    "- attributes: 클래스의 속성들을 딕셔너리 형태로 지정합니다. 이 딕셔너리에는 클래스의 속성과 메서드를 정의할 수 있습니다.\n"
   ]
  },
  {
   "cell_type": "code",
   "execution_count": 12,
   "id": "2c384439",
   "metadata": {},
   "outputs": [],
   "source": [
    "# 클래스의 속성과 메서드를 담은 딕셔너리\n",
    "attributes = {\n",
    "    'name': 'MyClass',\n",
    "    'x': 10,\n",
    "    'double_x': lambda self: self.x * 2\n",
    "}\n",
    "\n",
    "# 동적으로 클래스 생성\n",
    "MyClass = type('MyClass', (object,), attributes)\n"
   ]
  },
  {
   "cell_type": "code",
   "execution_count": 13,
   "id": "75871c95",
   "metadata": {},
   "outputs": [],
   "source": [
    "# 객체 생성\n",
    "obj = MyClass()\n",
    "\n",
    "# 클래스의 속성과 메서드 사용\n",
    "print(obj.name)         # 출력: MyClass\n",
    "print(obj.x)            # 출력: 10\n",
    "print(obj.double_x())   # 출력: 20"
   ]
  },
  {
   "cell_type": "code",
   "execution_count": null,
   "id": "98bed61a",
   "metadata": {},
   "outputs": [],
   "source": []
  },
  {
   "cell_type": "markdown",
   "id": "99996400",
   "metadata": {},
   "source": [
    "## 2-2. 사용자정의 메타 클래스 정의\n",
    "\n",
    "- 메타 클래스를 상속을 받아서 생성과 초기화 정의 "
   ]
  },
  {
   "cell_type": "markdown",
   "id": "919e4a40",
   "metadata": {},
   "source": [
    "### 사용자 메타 클래스 정의 "
   ]
  },
  {
   "cell_type": "code",
   "execution_count": 14,
   "id": "ca5d562f",
   "metadata": {},
   "outputs": [],
   "source": [
    "class MyMeta(type):\n",
    "    def __new__(cls, name, bases, attrs):\n",
    "        print(f\"Creating class: {name}\")\n",
    "        return super().__new__(cls, name, bases, attrs)\n",
    "\n",
    "    def __init__(cls, name, bases, attrs):\n",
    "        print(f\"Initializing class: {name}\")\n",
    "        super().__init__(name, bases, attrs)\n"
   ]
  },
  {
   "cell_type": "markdown",
   "id": "ac8128d6",
   "metadata": {},
   "source": [
    "### 메타클래스를 사용하여 클래스 생성"
   ]
  },
  {
   "cell_type": "code",
   "execution_count": 15,
   "id": "88fb25b6",
   "metadata": {},
   "outputs": [],
   "source": [
    "class MyClass(metaclass=MyMeta):\n",
    "    def __init__(self, x):\n",
    "        self.x = x\n",
    "\n",
    "    def double_x(self):\n",
    "        return self.x * 2"
   ]
  },
  {
   "cell_type": "markdown",
   "id": "aab3c1e0",
   "metadata": {},
   "source": [
    "### 객체를 생성하고 메서드 호출 "
   ]
  },
  {
   "cell_type": "code",
   "execution_count": 16,
   "id": "60bf4d2f",
   "metadata": {},
   "outputs": [],
   "source": [
    "# 클래스 객체 생성\n",
    "obj = MyClass(42)\n",
    "print(obj.double_x())  # 출력: 84"
   ]
  },
  {
   "cell_type": "code",
   "execution_count": null,
   "id": "d7d9f5ff",
   "metadata": {},
   "outputs": [],
   "source": []
  },
  {
   "cell_type": "markdown",
   "id": "af15a126",
   "metadata": {},
   "source": [
    "## 2-2.  객체와 클래스의 점연산자 접근 방식 알아보기"
   ]
  },
  {
   "cell_type": "markdown",
   "id": "015e626c",
   "metadata": {},
   "source": [
    "### 사용자 메타클래스 정의 "
   ]
  },
  {
   "cell_type": "code",
   "execution_count": 17,
   "id": "c74a6624",
   "metadata": {},
   "outputs": [],
   "source": [
    "class UseType(type):\n",
    "        \n",
    "    def __getattribute__(self, name):\n",
    "        print(f\"메타클래스의 점연산자 : {super()}\")\n",
    "        return super().__getattribute__(name)\n",
    "\n",
    "    def __getattr__(self, name):\n",
    "        print(f\"### 메타클래스의 점연산자 : {name} ###\")\n",
    "        return f\"{name} not found\""
   ]
  },
  {
   "cell_type": "markdown",
   "id": "bb83d0fb",
   "metadata": {},
   "source": [
    "### 사용자 정의 메타클래스로  클래스 정의 "
   ]
  },
  {
   "cell_type": "code",
   "execution_count": 18,
   "id": "c01da156",
   "metadata": {},
   "outputs": [],
   "source": [
    "class MyClass2(metaclass=UseType):\n",
    "    name =\"클래스 속성 \"\n",
    "    def __init__(self,x):\n",
    "        self._x = x\n",
    "        \n",
    "    def __getattribute__(self, name):\n",
    "        print(f\" 클래스의 점연산자 : {super()}\")\n",
    "        return super().__getattribute__(name)\n",
    "\n",
    "    def __getattr__(self, name):\n",
    "        print(f\"### 클래스의 점연산자 : {name} ###\")\n",
    "        return f\"{name} not found\""
   ]
  },
  {
   "cell_type": "markdown",
   "id": "ccc3e76c",
   "metadata": {},
   "source": [
    "### 객체 생성후 점연산자 처리 "
   ]
  },
  {
   "cell_type": "code",
   "execution_count": 19,
   "id": "eb719ab9",
   "metadata": {},
   "outputs": [],
   "source": [
    "my = MyClass2(100)"
   ]
  },
  {
   "cell_type": "code",
   "execution_count": 20,
   "id": "938f52b2",
   "metadata": {},
   "outputs": [],
   "source": [
    "my._x"
   ]
  },
  {
   "cell_type": "code",
   "execution_count": 21,
   "id": "550bcf70",
   "metadata": {},
   "outputs": [],
   "source": [
    "my.y"
   ]
  },
  {
   "cell_type": "markdown",
   "id": "b910fc75",
   "metadata": {},
   "source": [
    "### 클래스에서 점연산 처리 "
   ]
  },
  {
   "cell_type": "code",
   "execution_count": 22,
   "id": "68b53290",
   "metadata": {},
   "outputs": [],
   "source": [
    "MyClass2.name"
   ]
  },
  {
   "cell_type": "code",
   "execution_count": 23,
   "id": "e872909d",
   "metadata": {},
   "outputs": [],
   "source": [
    "MyClass2.a"
   ]
  },
  {
   "cell_type": "code",
   "execution_count": null,
   "id": "c4b9af44",
   "metadata": {},
   "outputs": [],
   "source": []
  },
  {
   "cell_type": "markdown",
   "id": "47544d45",
   "metadata": {},
   "source": [
    "## 2-3 함수클래스로 함수 객체 생성하기 "
   ]
  },
  {
   "cell_type": "markdown",
   "id": "136b5590",
   "metadata": {},
   "source": [
    "### 함수 타입을 확인하기 "
   ]
  },
  {
   "cell_type": "code",
   "execution_count": 24,
   "id": "65422ed3",
   "metadata": {},
   "outputs": [],
   "source": [
    "import types"
   ]
  },
  {
   "cell_type": "code",
   "execution_count": 25,
   "id": "1ea772bb",
   "metadata": {},
   "outputs": [],
   "source": [
    "def add(a, b):\n",
    "    return a + b"
   ]
  },
  {
   "cell_type": "code",
   "execution_count": 26,
   "id": "c4bddf9e",
   "metadata": {},
   "outputs": [],
   "source": [
    "print(type(add)  == types.FunctionType)"
   ]
  },
  {
   "cell_type": "code",
   "execution_count": 27,
   "id": "d422752e",
   "metadata": {},
   "outputs": [],
   "source": [
    "add2 = lambda x,y : x+y"
   ]
  },
  {
   "cell_type": "code",
   "execution_count": 28,
   "id": "0866e20e",
   "metadata": {},
   "outputs": [],
   "source": [
    "print(type(add2)  == types.LambdaType)"
   ]
  },
  {
   "cell_type": "code",
   "execution_count": null,
   "id": "fc7475f9",
   "metadata": {},
   "outputs": [],
   "source": []
  },
  {
   "cell_type": "markdown",
   "id": "8cd20232",
   "metadata": {},
   "source": [
    "## 함수 클래스로 객체 생성하기 "
   ]
  },
  {
   "cell_type": "markdown",
   "id": "c6919d1d",
   "metadata": {},
   "source": [
    "### 함수의 코드 객체 생성"
   ]
  },
  {
   "cell_type": "code",
   "execution_count": 29,
   "id": "975c8511",
   "metadata": {},
   "outputs": [],
   "source": [
    "code = \"\"\"\n",
    "def add(a, b):\n",
    "    return a + b\n",
    "\"\"\"\n"
   ]
  },
  {
   "cell_type": "markdown",
   "id": "2bd30147",
   "metadata": {},
   "source": [
    "### 전역 및 지역 변수 정보"
   ]
  },
  {
   "cell_type": "code",
   "execution_count": 30,
   "id": "4e03b2a1",
   "metadata": {},
   "outputs": [],
   "source": [
    "globals_dict = {}\n",
    "locals_dict = {}"
   ]
  },
  {
   "cell_type": "markdown",
   "id": "a3d40e0a",
   "metadata": {},
   "source": [
    "### 컴파일된 코드 객체 생성"
   ]
  },
  {
   "cell_type": "code",
   "execution_count": 31,
   "id": "b22882dc",
   "metadata": {},
   "outputs": [],
   "source": [
    "code_obj = compile(code, \"<string>\", \"exec\")"
   ]
  },
  {
   "cell_type": "code",
   "execution_count": 32,
   "id": "ac0a76c3",
   "metadata": {},
   "outputs": [],
   "source": [
    "code_obj.co_consts[0].co_code"
   ]
  },
  {
   "cell_type": "code",
   "execution_count": 33,
   "id": "5392310d",
   "metadata": {},
   "outputs": [],
   "source": [
    "code_obj.co_code"
   ]
  },
  {
   "cell_type": "markdown",
   "id": "49aeff0c",
   "metadata": {},
   "source": [
    "### FunctionType을 사용하여 함수 생성"
   ]
  },
  {
   "cell_type": "code",
   "execution_count": 34,
   "id": "1041d030",
   "metadata": {},
   "outputs": [],
   "source": [
    "add_function = types.FunctionType(code_obj.co_consts[0], globals_dict, \"add\")"
   ]
  },
  {
   "cell_type": "markdown",
   "id": "03a59ff6",
   "metadata": {},
   "source": [
    "### 함수 호출"
   ]
  },
  {
   "cell_type": "code",
   "execution_count": 35,
   "id": "331236ea",
   "metadata": {},
   "outputs": [],
   "source": [
    "result = add_function(3, 5)\n",
    "print(result)  # 출력: 8"
   ]
  },
  {
   "cell_type": "code",
   "execution_count": null,
   "id": "483cd2f9",
   "metadata": {},
   "outputs": [],
   "source": []
  }
 ],
 "metadata": {
  "kernelspec": {
   "display_name": "Python 3 (ipykernel)",
   "language": "python",
   "name": "python3"
  },
  "language_info": {
   "codemirror_mode": {
    "name": "ipython",
    "version": 3
   },
   "file_extension": ".py",
   "mimetype": "text/x-python",
   "name": "python",
   "nbconvert_exporter": "python",
   "pygments_lexer": "ipython3",
   "version": "3.11.3"
  }
 },
 "nbformat": 4,
 "nbformat_minor": 5
}
