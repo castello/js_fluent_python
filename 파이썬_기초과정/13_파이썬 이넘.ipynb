{
 "cells": [
  {
   "cell_type": "markdown",
   "id": "0770d147",
   "metadata": {},
   "source": [
    "\n",
    "## 파이썬의 enum은 \n",
    "\n",
    "-열거형(enum)을 정의하기 위한 클래스입니다. \n",
    "- 열거형은 일련의 심볼릭한 이름을 정의하고, 해당 이름에 대한 값을 지정하는 방식으로 데이터를 나타내는 방법을 제공합니다. \n",
    "- enum을 사용하면 코드의 가독성을 높일 수 있고, 특정 값들의 집합을 타입으로서 사용하는 것이 가능해집니다."
   ]
  },
  {
   "cell_type": "code",
   "execution_count": 1,
   "id": "877ca297",
   "metadata": {},
   "outputs": [
    {
     "name": "stdout",
     "output_type": "stream",
     "text": [
      "Selected color is green\n"
     ]
    }
   ],
   "source": [
    "from enum import Enum, auto\n",
    "\n",
    "class Color(Enum):\n",
    "    RED = auto()\n",
    "    GREEN = auto()\n",
    "    BLUE = auto()\n",
    "\n",
    "selected_color = Color.GREEN\n",
    "\n",
    "if selected_color == Color.RED:\n",
    "    print(\"Selected color is red\")\n",
    "elif selected_color == Color.GREEN:\n",
    "    print(\"Selected color is green\")\n",
    "elif selected_color == Color.BLUE:\n",
    "    print(\"Selected color is blue\")\n"
   ]
  },
  {
   "cell_type": "code",
   "execution_count": null,
   "id": "28ab44a2",
   "metadata": {},
   "outputs": [],
   "source": []
  },
  {
   "cell_type": "code",
   "execution_count": 2,
   "id": "989809cd",
   "metadata": {},
   "outputs": [
    {
     "name": "stdout",
     "output_type": "stream",
     "text": [
      "Selected color is green\n"
     ]
    }
   ],
   "source": [
    "from enum import Enum, auto\n",
    "\n",
    "class Color(Enum):\n",
    "    RED = auto()\n",
    "    GREEN = auto()\n",
    "    BLUE = auto()\n",
    "\n",
    "selected_color = Color.GREEN\n",
    "\n",
    "match selected_color:\n",
    "    case Color.RED:\n",
    "        print(\"Selected color is red\")\n",
    "    case Color.GREEN:\n",
    "        print(\"Selected color is green\")\n",
    "    case Color.BLUE:\n",
    "        print(\"Selected color is blue\")\n"
   ]
  },
  {
   "cell_type": "code",
   "execution_count": null,
   "id": "893ce9fb",
   "metadata": {},
   "outputs": [],
   "source": []
  },
  {
   "cell_type": "markdown",
   "id": "ff04649d",
   "metadata": {},
   "source": [
    "## 여러 클래스를 이넘으로 묶어서 처리하기 "
   ]
  },
  {
   "cell_type": "code",
   "execution_count": 14,
   "id": "e52ce488",
   "metadata": {},
   "outputs": [
    {
     "name": "stdout",
     "output_type": "stream",
     "text": [
      "미처리 Shapes\n",
      "미처리 Shapes\n",
      "미처리 Shapes\n"
     ]
    }
   ],
   "source": [
    "from enum import Enum, auto\n",
    "\n",
    "# 다양한 클래스 정의\n",
    "class Shape:\n",
    "    pass\n",
    "\n",
    "class Circle(Shape):\n",
    "    pass\n",
    "\n",
    "class Square(Shape):\n",
    "    pass\n",
    "\n",
    "class Triangle(Shape):\n",
    "    pass\n",
    "\n",
    "# 클래스를 enum으로 처리\n",
    "class Shapes(Enum):\n",
    "    CIRCLE = Circle()\n",
    "    SQUARE = Square()\n",
    "    TRIANGLE = Triangle()\n",
    "\n",
    "# 매칭 처리\n",
    "def process_shape(shape):\n",
    "    match type(shape).__name__:\n",
    "        case 'Circle' :\n",
    "            print(\"Processing a circle\")\n",
    "        case 'Square' :\n",
    "            print(\"Processing a square\")\n",
    "        case 'Triangle' :\n",
    "            print(\"Processing a triangle\")\n",
    "        case _ :\n",
    "            print(\"미처리\",type(shape).__name__)\n",
    "\n",
    "\n",
    "process_shape(Shapes.CIRCLE)   # 출력: Processing a circle\n",
    "process_shape(Shapes.SQUARE)   # 출력: Processing a square\n",
    "process_shape(Shapes.TRIANGLE) # 출력: Processing a triangle\n"
   ]
  },
  {
   "cell_type": "code",
   "execution_count": 10,
   "id": "3db056e1",
   "metadata": {},
   "outputs": [
    {
     "ename": "SyntaxError",
     "evalue": "name capture 'Circle' makes remaining patterns unreachable (2814668206.py, line 2)",
     "output_type": "error",
     "traceback": [
      "\u001b[0;36m  Cell \u001b[0;32mIn[10], line 2\u001b[0;36m\u001b[0m\n\u001b[0;31m    case Circle:\u001b[0m\n\u001b[0m         ^\u001b[0m\n\u001b[0;31mSyntaxError\u001b[0m\u001b[0;31m:\u001b[0m name capture 'Circle' makes remaining patterns unreachable\n"
     ]
    }
   ],
   "source": [
    " match shape:\n",
    "        case Circle :\n",
    "            print(\"Processing a circle\")\n",
    "        case Square :\n",
    "            print(\"Processing a square\")\n",
    "        case Triangle:\n",
    "            print(\"Processing a triangle\")"
   ]
  },
  {
   "cell_type": "code",
   "execution_count": null,
   "id": "c79a70bc",
   "metadata": {},
   "outputs": [],
   "source": []
  }
 ],
 "metadata": {
  "kernelspec": {
   "display_name": "Python 3 (ipykernel)",
   "language": "python",
   "name": "python3"
  },
  "language_info": {
   "codemirror_mode": {
    "name": "ipython",
    "version": 3
   },
   "file_extension": ".py",
   "mimetype": "text/x-python",
   "name": "python",
   "nbconvert_exporter": "python",
   "pygments_lexer": "ipython3",
   "version": "3.11.3"
  }
 },
 "nbformat": 4,
 "nbformat_minor": 5
}
