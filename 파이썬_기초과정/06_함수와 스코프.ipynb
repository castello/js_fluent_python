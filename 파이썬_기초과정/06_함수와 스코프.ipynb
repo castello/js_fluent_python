{
 "cells": [
  {
   "cell_type": "code",
   "execution_count": 1,
   "id": "052ee91d",
   "metadata": {},
   "outputs": [
    {
     "data": {
      "text/plain": [
       "'3.11.3'"
      ]
     },
     "execution_count": 1,
     "metadata": {},
     "output_type": "execute_result"
    }
   ],
   "source": [
    "import platform\n",
    "\n",
    "platform.python_version()"
   ]
  },
  {
   "cell_type": "code",
   "execution_count": null,
   "id": "11751722",
   "metadata": {},
   "outputs": [],
   "source": []
  },
  {
   "cell_type": "code",
   "execution_count": null,
   "id": "2ed1a76f",
   "metadata": {},
   "outputs": [],
   "source": []
  },
  {
   "cell_type": "markdown",
   "id": "e043f3eb",
   "metadata": {},
   "source": [
    "# 1. 함수 \n",
    "\n",
    "\n",
    "\n",
    "### 정의하기: \n",
    "- 함수는 def 키워드를 사용하여 정의합니다. 함수 이름, 매개변수(parameter), 함수의 본문을 포함합니다.\n",
    "\n",
    "### 호출하기: \n",
    "- 함수를 호출할 때는 함수 이름과 필요한 인수(arguments)를 전달합니다.\n",
    "\n",
    "### 반환값: \n",
    "- 함수가 값을 반환하는 경우, return 키워드를 사용하여 값을 반환할 수 있습니다. \n",
    "- 반환하지 않는 함수도 있을 수 있습니다.\n",
    "\n",
    "### 매개변수와 인수: \n",
    "- 함수 정의에서 선언된 매개변수는 함수 호출 시에 전달되는 인수와 연결됩니다.\n",
    "\n",
    "### 기본값 매개변수: \n",
    "- 매개변수에 기본값을 설정하여 함수 호출 시 해당 인수를 생략할 수 있습니다.\n",
    "\n",
    "### 가변 인수: \n",
    "- 함수가 임의의 개수의 인수를 받을 수 있도록 *args와 **kwargs를 사용할 수 있습니다."
   ]
  },
  {
   "cell_type": "code",
   "execution_count": null,
   "id": "794e9419",
   "metadata": {},
   "outputs": [],
   "source": []
  },
  {
   "cell_type": "markdown",
   "id": "86c128ad",
   "metadata": {},
   "source": [
    "##  1-1 함수 정의 \n",
    "\n",
    "- 함수 정의는 예약어 def + 함수이름 + 매개변수 + 콜론( 코드블럭 처리)\n",
    "- 코드블럭 내에는 다양한 기능과 반환값 처리 포함"
   ]
  },
  {
   "cell_type": "markdown",
   "id": "653e1ae5",
   "metadata": {},
   "source": [
    "## 아무런 기능이 없는 함수 정의 \n",
    "\n",
    "- 코드블럭 안에 pass 나 생략기호(...) 지정\n",
    "- 보통 함수 이름을 지정했지만 아직 내부 기능을 작성하지 못할 경우 많이 사용한다.\n"
   ]
  },
  {
   "cell_type": "code",
   "execution_count": 2,
   "id": "c88cc9e1",
   "metadata": {},
   "outputs": [],
   "source": [
    "import math"
   ]
  },
  {
   "cell_type": "code",
   "execution_count": 3,
   "id": "2be3c7c8",
   "metadata": {},
   "outputs": [
    {
     "data": {
      "text/plain": [
       "module"
      ]
     },
     "execution_count": 3,
     "metadata": {},
     "output_type": "execute_result"
    }
   ],
   "source": [
    "math.__class__"
   ]
  },
  {
   "cell_type": "code",
   "execution_count": 1,
   "id": "fbfaec5e",
   "metadata": {},
   "outputs": [],
   "source": [
    "def 아무것도안하는함수1() : \n",
    "    pass              # 아무런 구문도 처리하지 않음 "
   ]
  },
  {
   "cell_type": "code",
   "execution_count": 2,
   "id": "c8733ff6",
   "metadata": {},
   "outputs": [],
   "source": [
    "def 아무것도안하는함수2() : \n",
    "    ...                # 생략기호"
   ]
  },
  {
   "cell_type": "code",
   "execution_count": 1,
   "id": "73175a72",
   "metadata": {},
   "outputs": [
    {
     "data": {
      "text/plain": [
       "ellipsis"
      ]
     },
     "execution_count": 1,
     "metadata": {},
     "output_type": "execute_result"
    }
   ],
   "source": [
    "(...).__class__"
   ]
  },
  {
   "cell_type": "markdown",
   "id": "a3927c64",
   "metadata": {},
   "source": [
    "## 매개변수와 반환값 처리 함수 "
   ]
  },
  {
   "cell_type": "code",
   "execution_count": 6,
   "id": "4d479f33",
   "metadata": {},
   "outputs": [],
   "source": [
    "def 함수명(매개변수) :\n",
    "    print(매개변수)\n",
    "    return \"반환값\" + 매개변수"
   ]
  },
  {
   "cell_type": "code",
   "execution_count": null,
   "id": "66133453",
   "metadata": {},
   "outputs": [],
   "source": []
  },
  {
   "cell_type": "code",
   "execution_count": 4,
   "id": "3683a262",
   "metadata": {},
   "outputs": [],
   "source": [
    "import types"
   ]
  },
  {
   "cell_type": "code",
   "execution_count": 7,
   "id": "afdd31f0",
   "metadata": {},
   "outputs": [
    {
     "data": {
      "text/plain": [
       "True"
      ]
     },
     "execution_count": 7,
     "metadata": {},
     "output_type": "execute_result"
    }
   ],
   "source": [
    "함수명.__class__ == types.FunctionType"
   ]
  },
  {
   "cell_type": "code",
   "execution_count": 8,
   "id": "634d8db3",
   "metadata": {},
   "outputs": [
    {
     "data": {
      "text/plain": [
       "True"
      ]
     },
     "execution_count": 8,
     "metadata": {},
     "output_type": "execute_result"
    }
   ],
   "source": [
    "isinstance(함수명,types.FunctionType)"
   ]
  },
  {
   "cell_type": "code",
   "execution_count": null,
   "id": "12f2d32c",
   "metadata": {},
   "outputs": [],
   "source": []
  },
  {
   "cell_type": "markdown",
   "id": "2cb7fa12",
   "metadata": {},
   "source": [
    "## 1-2. 동적함수 처리하기 "
   ]
  },
  {
   "cell_type": "code",
   "execution_count": 9,
   "id": "cc657ca2",
   "metadata": {},
   "outputs": [
    {
     "data": {
      "text/plain": [
       "type"
      ]
     },
     "execution_count": 9,
     "metadata": {},
     "output_type": "execute_result"
    }
   ],
   "source": [
    "types.FunctionType.__class__"
   ]
  },
  {
   "cell_type": "code",
   "execution_count": 14,
   "id": "e7858cf0",
   "metadata": {},
   "outputs": [
    {
     "name": "stdout",
     "output_type": "stream",
     "text": [
      "Help on class function in module builtins:\n",
      "\n",
      "class function(object)\n",
      " |  function(code, globals, name=None, argdefs=None, closure=None)\n",
      " |  \n",
      " |  Create a function object.\n",
      " |  \n",
      " |  code\n",
      " |    a code object\n",
      " |  globals\n",
      " |    the globals dictionary\n",
      " |  name\n",
      " |    a string that overrides the name from the code object\n",
      " |  argdefs\n",
      " |    a tuple that specifies the default argument values\n",
      " |  closure\n",
      " |    a tuple that supplies the bindings for free variables\n",
      " |  \n",
      " |  Methods defined here:\n",
      " |  \n",
      " |  __call__(self, /, *args, **kwargs)\n",
      " |      Call self as a function.\n",
      " |  \n",
      " |  __get__(self, instance, owner=None, /)\n",
      " |      Return an attribute of instance, which is of type owner.\n",
      " |  \n",
      " |  __repr__(self, /)\n",
      " |      Return repr(self).\n",
      " |  \n",
      " |  ----------------------------------------------------------------------\n",
      " |  Static methods defined here:\n",
      " |  \n",
      " |  __new__(*args, **kwargs) from builtins.type\n",
      " |      Create and return a new object.  See help(type) for accurate signature.\n",
      " |  \n",
      " |  ----------------------------------------------------------------------\n",
      " |  Data descriptors defined here:\n",
      " |  \n",
      " |  __annotations__\n",
      " |  \n",
      " |  __closure__\n",
      " |  \n",
      " |  __code__\n",
      " |  \n",
      " |  __defaults__\n",
      " |  \n",
      " |  __dict__\n",
      " |  \n",
      " |  __globals__\n",
      " |  \n",
      " |  __kwdefaults__\n",
      "\n"
     ]
    }
   ],
   "source": [
    "help(types.FunctionType)"
   ]
  },
  {
   "cell_type": "code",
   "execution_count": 114,
   "id": "a9f38b62",
   "metadata": {},
   "outputs": [],
   "source": [
    "import types\n",
    "\n",
    "# 함수 본문을 정의하는 문자열\n",
    "\n",
    "def greet(name):\n",
    "    return f\"Hello, {name}!\"\n"
   ]
  },
  {
   "cell_type": "markdown",
   "id": "551cef24",
   "metadata": {},
   "source": [
    "### 함수 클래스에서 함수 객체를 만들려면 코드 객체를 전달해야함"
   ]
  },
  {
   "cell_type": "code",
   "execution_count": 129,
   "id": "aefd1985",
   "metadata": {},
   "outputs": [
    {
     "data": {
      "text/plain": [
       "<code object greet at 0x10848b840, file \"/var/folders/h4/44486vyn1_xbs13g1z50l5m00000gn/T/ipykernel_91609/1960947482.py\", line 5>"
      ]
     },
     "execution_count": 129,
     "metadata": {},
     "output_type": "execute_result"
    }
   ],
   "source": [
    "greet.__code__"
   ]
  },
  {
   "cell_type": "code",
   "execution_count": 115,
   "id": "878cd1ba",
   "metadata": {},
   "outputs": [
    {
     "data": {
      "text/plain": [
       "b'\\x97\\x00d\\x01|\\x00\\x9b\\x00d\\x02\\x9d\\x03S\\x00'"
      ]
     },
     "execution_count": 115,
     "metadata": {},
     "output_type": "execute_result"
    }
   ],
   "source": [
    "greet.__code__.co_code"
   ]
  },
  {
   "cell_type": "markdown",
   "id": "a41e9b4e",
   "metadata": {},
   "source": [
    "## 컴파일된 함수 객체 생성"
   ]
  },
  {
   "cell_type": "code",
   "execution_count": 130,
   "id": "d20f261e",
   "metadata": {},
   "outputs": [],
   "source": [
    "compiled_function = types.FunctionType(greet.__code__,globals(),name=\"greet\")"
   ]
  },
  {
   "cell_type": "code",
   "execution_count": 131,
   "id": "3dc768d3",
   "metadata": {},
   "outputs": [
    {
     "name": "stdout",
     "output_type": "stream",
     "text": [
      "Hello, Alice!\n"
     ]
    }
   ],
   "source": [
    "result = compiled_function(\"Alice\")\n",
    "print(result)  # \"Hello, Alice!\""
   ]
  },
  {
   "cell_type": "markdown",
   "id": "68129332",
   "metadata": {},
   "source": [
    "### 코드 클래스 내부 확인 "
   ]
  },
  {
   "cell_type": "code",
   "execution_count": 118,
   "id": "e53f31ae",
   "metadata": {},
   "outputs": [
    {
     "data": {
      "text/plain": [
       "['__class__',\n",
       " '__delattr__',\n",
       " '__dir__',\n",
       " '__doc__',\n",
       " '__eq__',\n",
       " '__format__',\n",
       " '__ge__',\n",
       " '__getattribute__',\n",
       " '__getstate__',\n",
       " '__gt__',\n",
       " '__hash__',\n",
       " '__init__',\n",
       " '__init_subclass__',\n",
       " '__le__',\n",
       " '__lt__',\n",
       " '__ne__',\n",
       " '__new__',\n",
       " '__reduce__',\n",
       " '__reduce_ex__',\n",
       " '__repr__',\n",
       " '__setattr__',\n",
       " '__sizeof__',\n",
       " '__str__',\n",
       " '__subclasshook__',\n",
       " '_co_code_adaptive',\n",
       " '_varname_from_oparg',\n",
       " 'co_argcount',\n",
       " 'co_cellvars',\n",
       " 'co_code',\n",
       " 'co_consts',\n",
       " 'co_exceptiontable',\n",
       " 'co_filename',\n",
       " 'co_firstlineno',\n",
       " 'co_flags',\n",
       " 'co_freevars',\n",
       " 'co_kwonlyargcount',\n",
       " 'co_lines',\n",
       " 'co_linetable',\n",
       " 'co_lnotab',\n",
       " 'co_name',\n",
       " 'co_names',\n",
       " 'co_nlocals',\n",
       " 'co_positions',\n",
       " 'co_posonlyargcount',\n",
       " 'co_qualname',\n",
       " 'co_stacksize',\n",
       " 'co_varnames',\n",
       " 'replace']"
      ]
     },
     "execution_count": 118,
     "metadata": {},
     "output_type": "execute_result"
    }
   ],
   "source": [
    "dir(greet.__code__)"
   ]
  },
  {
   "cell_type": "code",
   "execution_count": null,
   "id": "6452052b",
   "metadata": {},
   "outputs": [],
   "source": []
  },
  {
   "cell_type": "code",
   "execution_count": null,
   "id": "ce565868",
   "metadata": {},
   "outputs": [],
   "source": []
  },
  {
   "cell_type": "markdown",
   "id": "003ec410",
   "metadata": {},
   "source": [
    "## 1-3 함수 호출 "
   ]
  },
  {
   "cell_type": "markdown",
   "id": "6d390403",
   "metadata": {},
   "source": [
    "## 아무것도 처리하지 않는 함수 호출 \n",
    "\n",
    "- 함수가 실행한 결과가 아무것도 없다."
   ]
  },
  {
   "cell_type": "code",
   "execution_count": 4,
   "id": "ee89eb67",
   "metadata": {},
   "outputs": [],
   "source": [
    "아무것도안하는함수1()"
   ]
  },
  {
   "cell_type": "code",
   "execution_count": 5,
   "id": "d6991494",
   "metadata": {},
   "outputs": [],
   "source": [
    "아무것도안하는함수2()"
   ]
  },
  {
   "cell_type": "markdown",
   "id": "3b264e5a",
   "metadata": {},
   "source": [
    "## 인자를 전달해서 매개변수 처리하는 함수 호출"
   ]
  },
  {
   "cell_type": "code",
   "execution_count": 6,
   "id": "c8ace049",
   "metadata": {},
   "outputs": [
    {
     "name": "stdout",
     "output_type": "stream",
     "text": [
      "매개변수 지정\n"
     ]
    },
    {
     "data": {
      "text/plain": [
       "'반환값매개변수 지정'"
      ]
     },
     "execution_count": 6,
     "metadata": {},
     "output_type": "execute_result"
    }
   ],
   "source": [
    "함수명(\"매개변수 지정\") "
   ]
  },
  {
   "cell_type": "code",
   "execution_count": null,
   "id": "aee275b5",
   "metadata": {},
   "outputs": [],
   "source": []
  },
  {
   "cell_type": "markdown",
   "id": "3427c6ca",
   "metadata": {},
   "source": [
    "## 함수 호출 결과를 변수에 할당"
   ]
  },
  {
   "cell_type": "code",
   "execution_count": 7,
   "id": "f54f85d6",
   "metadata": {},
   "outputs": [
    {
     "name": "stdout",
     "output_type": "stream",
     "text": [
      "매개변수 지정\n"
     ]
    }
   ],
   "source": [
    "변수명 = 함수명(\"매개변수 지정\") "
   ]
  },
  {
   "cell_type": "code",
   "execution_count": null,
   "id": "0c0c0305",
   "metadata": {},
   "outputs": [],
   "source": []
  },
  {
   "cell_type": "code",
   "execution_count": null,
   "id": "d3c5fa99",
   "metadata": {},
   "outputs": [],
   "source": []
  },
  {
   "cell_type": "code",
   "execution_count": null,
   "id": "42b5e5bd",
   "metadata": {},
   "outputs": [],
   "source": []
  },
  {
   "cell_type": "markdown",
   "id": "e00a8bf2",
   "metadata": {},
   "source": [
    "# 2. 매개변수와 인자 처리 \n",
    "\n",
    "### 매개변수(Parameters):\n",
    "\n",
    "- 매개변수는 함수를 정의할 때 함수가 받을 값들을 가리키는 변수입니다. \n",
    "- 함수의 정의 부분에서 매개변수를 지정하여 함수가 어떤 값을 필요로 하는지를 명시합니다. \n",
    "- 매개변수는 함수 내부에서 변수처럼 사용되며, 함수의 본문에서 이 값을 처리하거나 연산에 활용합니다.\n",
    "\n",
    "### 인자(Arguments):\n",
    "\n",
    "- 인자는 함수를 호출할 때 전달되는 값들을 의미합니다. \n",
    "- 함수를 호출할 때 매개변수에 전달할 실제 값을 지정합니다. \n",
    "- 함수를 호출할 때 사용하는 값들이 함수의 매개변수에 대응되어 함수 내부에서 사용됩니다.\n",
    "\n"
   ]
  },
  {
   "cell_type": "code",
   "execution_count": null,
   "id": "3606e78d",
   "metadata": {},
   "outputs": [],
   "source": []
  },
  {
   "cell_type": "markdown",
   "id": "6e3d1353",
   "metadata": {},
   "source": [
    "## 2-1 매개변수 처리 "
   ]
  },
  {
   "cell_type": "markdown",
   "id": "a18dd699",
   "metadata": {},
   "source": [
    "## 2-1-1 고정매개변수\n",
    "\n",
    "- 함수의 고정 매개변수(Fixed Parameters)는 함수를 정의할 때 미리 정해진 개수의 매개변수를 의미합니다. \n",
    "- 이러한 매개변수는 함수를 호출할 때 해당 개수의 인자를 반드시 전달해야 합니다. \n",
    "- 함수 정의 시에 고정된 매개변수의 개수와 위치가 고정되어 있기 때문에 매번 동일한 개수와 순서의 인자를 전달해야 합니다."
   ]
  },
  {
   "cell_type": "code",
   "execution_count": 27,
   "id": "8bcb5f77",
   "metadata": {},
   "outputs": [],
   "source": [
    "def add(x, y):\n",
    "    result = x + y\n",
    "    return result\n"
   ]
  },
  {
   "cell_type": "code",
   "execution_count": 28,
   "id": "fbfb73ff",
   "metadata": {},
   "outputs": [],
   "source": [
    "result = add(3, 5)  # x에 3, y에 5를 전달하여 호출"
   ]
  },
  {
   "cell_type": "code",
   "execution_count": 29,
   "id": "ad8551d8",
   "metadata": {},
   "outputs": [
    {
     "data": {
      "text/plain": [
       "8"
      ]
     },
     "execution_count": 29,
     "metadata": {},
     "output_type": "execute_result"
    }
   ],
   "source": [
    "result"
   ]
  },
  {
   "cell_type": "code",
   "execution_count": 32,
   "id": "6732198d",
   "metadata": {},
   "outputs": [
    {
     "data": {
      "text/plain": [
       "2"
      ]
     },
     "execution_count": 32,
     "metadata": {},
     "output_type": "execute_result"
    }
   ],
   "source": [
    "add.__code__.co_argcount"
   ]
  },
  {
   "cell_type": "code",
   "execution_count": 31,
   "id": "e9879676",
   "metadata": {},
   "outputs": [
    {
     "ename": "TypeError",
     "evalue": "add() takes 2 positional arguments but 3 were given",
     "output_type": "error",
     "traceback": [
      "\u001b[0;31m---------------------------------------------------------------------------\u001b[0m",
      "\u001b[0;31mTypeError\u001b[0m                                 Traceback (most recent call last)",
      "Cell \u001b[0;32mIn[31], line 1\u001b[0m\n\u001b[0;32m----> 1\u001b[0m \u001b[43madd\u001b[49m\u001b[43m(\u001b[49m\u001b[38;5;241;43m10\u001b[39;49m\u001b[43m,\u001b[49m\u001b[38;5;241;43m20\u001b[39;49m\u001b[43m,\u001b[49m\u001b[38;5;241;43m30\u001b[39;49m\u001b[43m)\u001b[49m\n",
      "\u001b[0;31mTypeError\u001b[0m: add() takes 2 positional arguments but 3 were given"
     ]
    }
   ],
   "source": [
    "add(10,20,30)"
   ]
  },
  {
   "cell_type": "markdown",
   "id": "e617203a",
   "metadata": {},
   "source": [
    "## 2-1-2  매개변수 초기화 처리\n",
    "\n",
    "- 함수의 매개변수를 초기화하는 방법은 기본값(default value)을 설정하는 것입니다. \n",
    "- 함수의 매개변수에 기본값을 설정하면, 해당 매개변수에 인자가 전달되지 않은 경우 기본값이 사용됩니다. \n",
    "- 이를 통해 함수 호출 시에 일부 인자만 전달하고 나머지는 기본값을 사용할 수 있습니다"
   ]
  },
  {
   "cell_type": "markdown",
   "id": "f6cffd80",
   "metadata": {},
   "source": [
    "### 매개변수 초기화 정의\n",
    "- 고정 매개변수에 값을 할당한다.\n",
    "- 보통 None으로 처리하지 않는 것이 좋다. 왜냐하면 함수 반환이 없을 경우도 None 반환"
   ]
  },
  {
   "cell_type": "code",
   "execution_count": 33,
   "id": "21c5c3ca",
   "metadata": {},
   "outputs": [],
   "source": [
    "def func(x= 10,y=20) :\n",
    "    return x+y"
   ]
  },
  {
   "cell_type": "markdown",
   "id": "6d547a3a",
   "metadata": {},
   "source": [
    "###  매개변수 초기화한 정보는 스페셜 속성에 보관"
   ]
  },
  {
   "cell_type": "code",
   "execution_count": 34,
   "id": "c1566543",
   "metadata": {},
   "outputs": [
    {
     "data": {
      "text/plain": [
       "(10, 20)"
      ]
     },
     "execution_count": 34,
     "metadata": {},
     "output_type": "execute_result"
    }
   ],
   "source": [
    "func.__defaults__"
   ]
  },
  {
   "cell_type": "code",
   "execution_count": 36,
   "id": "267ba2fb",
   "metadata": {},
   "outputs": [],
   "source": [
    "func.abc = 100"
   ]
  },
  {
   "cell_type": "code",
   "execution_count": 37,
   "id": "a690d973",
   "metadata": {},
   "outputs": [
    {
     "data": {
      "text/plain": [
       "{'abc': 100}"
      ]
     },
     "execution_count": 37,
     "metadata": {},
     "output_type": "execute_result"
    }
   ],
   "source": [
    "func.__dict__"
   ]
  },
  {
   "cell_type": "markdown",
   "id": "1e81b315",
   "metadata": {},
   "source": [
    "### 여러 가지 방법으로 호출 "
   ]
  },
  {
   "cell_type": "code",
   "execution_count": 35,
   "id": "92089109",
   "metadata": {},
   "outputs": [
    {
     "data": {
      "text/plain": [
       "30"
      ]
     },
     "execution_count": 35,
     "metadata": {},
     "output_type": "execute_result"
    }
   ],
   "source": [
    "func()"
   ]
  },
  {
   "cell_type": "code",
   "execution_count": 8,
   "id": "4c21e56c",
   "metadata": {},
   "outputs": [
    {
     "data": {
      "text/plain": [
       "120"
      ]
     },
     "execution_count": 8,
     "metadata": {},
     "output_type": "execute_result"
    }
   ],
   "source": [
    "func(100)"
   ]
  },
  {
   "cell_type": "code",
   "execution_count": 9,
   "id": "8b0d4383",
   "metadata": {},
   "outputs": [
    {
     "data": {
      "text/plain": [
       "220"
      ]
     },
     "execution_count": 9,
     "metadata": {},
     "output_type": "execute_result"
    }
   ],
   "source": [
    "func(200)"
   ]
  },
  {
   "cell_type": "code",
   "execution_count": 10,
   "id": "0bfe96d6",
   "metadata": {},
   "outputs": [
    {
     "data": {
      "text/plain": [
       "500"
      ]
     },
     "execution_count": 10,
     "metadata": {},
     "output_type": "execute_result"
    }
   ],
   "source": [
    "func(200,300)"
   ]
  },
  {
   "cell_type": "code",
   "execution_count": 38,
   "id": "f3ec563e",
   "metadata": {},
   "outputs": [],
   "source": [
    "import inspect"
   ]
  },
  {
   "cell_type": "code",
   "execution_count": 39,
   "id": "bff7690a",
   "metadata": {},
   "outputs": [
    {
     "data": {
      "text/plain": [
       "['ArgInfo',\n",
       " 'Arguments',\n",
       " 'Attribute',\n",
       " 'BlockFinder',\n",
       " 'BoundArguments',\n",
       " 'CORO_CLOSED',\n",
       " 'CORO_CREATED',\n",
       " 'CORO_RUNNING',\n",
       " 'CORO_SUSPENDED',\n",
       " 'CO_ASYNC_GENERATOR',\n",
       " 'CO_COROUTINE',\n",
       " 'CO_GENERATOR',\n",
       " 'CO_ITERABLE_COROUTINE',\n",
       " 'CO_NESTED',\n",
       " 'CO_NEWLOCALS',\n",
       " 'CO_NOFREE',\n",
       " 'CO_OPTIMIZED',\n",
       " 'CO_VARARGS',\n",
       " 'CO_VARKEYWORDS',\n",
       " 'ClassFoundException',\n",
       " 'ClosureVars',\n",
       " 'EndOfBlock',\n",
       " 'FrameInfo',\n",
       " 'FullArgSpec',\n",
       " 'GEN_CLOSED',\n",
       " 'GEN_CREATED',\n",
       " 'GEN_RUNNING',\n",
       " 'GEN_SUSPENDED',\n",
       " 'OrderedDict',\n",
       " 'Parameter',\n",
       " 'Signature',\n",
       " 'TPFLAGS_IS_ABSTRACT',\n",
       " 'Traceback',\n",
       " '_ClassFinder',\n",
       " '_FrameInfo',\n",
       " '_KEYWORD_ONLY',\n",
       " '_NonUserDefinedCallables',\n",
       " '_POSITIONAL_ONLY',\n",
       " '_POSITIONAL_OR_KEYWORD',\n",
       " '_ParameterKind',\n",
       " '_Traceback',\n",
       " '_VAR_KEYWORD',\n",
       " '_VAR_POSITIONAL',\n",
       " '__all__',\n",
       " '__author__',\n",
       " '__builtins__',\n",
       " '__cached__',\n",
       " '__doc__',\n",
       " '__file__',\n",
       " '__loader__',\n",
       " '__name__',\n",
       " '__package__',\n",
       " '__spec__',\n",
       " '_check_class',\n",
       " '_check_instance',\n",
       " '_empty',\n",
       " '_filesbymodname',\n",
       " '_findclass',\n",
       " '_finddoc',\n",
       " '_get_code_position',\n",
       " '_get_code_position_from_tb',\n",
       " '_getmembers',\n",
       " '_has_code_flag',\n",
       " '_is_type',\n",
       " '_main',\n",
       " '_missing_arguments',\n",
       " '_sentinel',\n",
       " '_shadowed_dict',\n",
       " '_signature_bound_method',\n",
       " '_signature_from_builtin',\n",
       " '_signature_from_callable',\n",
       " '_signature_from_function',\n",
       " '_signature_fromstr',\n",
       " '_signature_get_partial',\n",
       " '_signature_get_user_defined_method',\n",
       " '_signature_is_builtin',\n",
       " '_signature_is_functionlike',\n",
       " '_signature_strip_non_python_syntax',\n",
       " '_static_getmro',\n",
       " '_too_many',\n",
       " '_void',\n",
       " 'abc',\n",
       " 'ast',\n",
       " 'attrgetter',\n",
       " 'builtins',\n",
       " 'classify_class_attrs',\n",
       " 'cleandoc',\n",
       " 'collections',\n",
       " 'currentframe',\n",
       " 'dis',\n",
       " 'enum',\n",
       " 'findsource',\n",
       " 'formatannotation',\n",
       " 'formatannotationrelativeto',\n",
       " 'formatargvalues',\n",
       " 'functools',\n",
       " 'get_annotations',\n",
       " 'getabsfile',\n",
       " 'getargs',\n",
       " 'getargvalues',\n",
       " 'getattr_static',\n",
       " 'getblock',\n",
       " 'getcallargs',\n",
       " 'getclasstree',\n",
       " 'getclosurevars',\n",
       " 'getcomments',\n",
       " 'getcoroutinelocals',\n",
       " 'getcoroutinestate',\n",
       " 'getdoc',\n",
       " 'getfile',\n",
       " 'getframeinfo',\n",
       " 'getfullargspec',\n",
       " 'getgeneratorlocals',\n",
       " 'getgeneratorstate',\n",
       " 'getinnerframes',\n",
       " 'getlineno',\n",
       " 'getmembers',\n",
       " 'getmembers_static',\n",
       " 'getmodule',\n",
       " 'getmodulename',\n",
       " 'getmro',\n",
       " 'getouterframes',\n",
       " 'getsource',\n",
       " 'getsourcefile',\n",
       " 'getsourcelines',\n",
       " 'importlib',\n",
       " 'indentsize',\n",
       " 'isabstract',\n",
       " 'isasyncgen',\n",
       " 'isasyncgenfunction',\n",
       " 'isawaitable',\n",
       " 'isbuiltin',\n",
       " 'isclass',\n",
       " 'iscode',\n",
       " 'iscoroutine',\n",
       " 'iscoroutinefunction',\n",
       " 'isdatadescriptor',\n",
       " 'isframe',\n",
       " 'isfunction',\n",
       " 'isgenerator',\n",
       " 'isgeneratorfunction',\n",
       " 'isgetsetdescriptor',\n",
       " 'iskeyword',\n",
       " 'ismemberdescriptor',\n",
       " 'ismethod',\n",
       " 'ismethoddescriptor',\n",
       " 'ismethodwrapper',\n",
       " 'ismodule',\n",
       " 'isroutine',\n",
       " 'istraceback',\n",
       " 'itertools',\n",
       " 'linecache',\n",
       " 'modulesbyfile',\n",
       " 'namedtuple',\n",
       " 'os',\n",
       " 're',\n",
       " 'signature',\n",
       " 'stack',\n",
       " 'sys',\n",
       " 'token',\n",
       " 'tokenize',\n",
       " 'trace',\n",
       " 'types',\n",
       " 'unwrap',\n",
       " 'walktree']"
      ]
     },
     "execution_count": 39,
     "metadata": {},
     "output_type": "execute_result"
    }
   ],
   "source": [
    "dir(inspect)"
   ]
  },
  {
   "cell_type": "markdown",
   "id": "a59b1d0e",
   "metadata": {},
   "source": [
    "## 2-2 가변인자\n",
    "\n",
    "- 파이썬에서 가변 인자(Variadic Arguments)는 함수가 임의의 개수의 인자를 받을 수 있도록 하는 기능입니다. \n",
    "- 가변 인자를 사용하면 함수를 정의할 때 인자의 개수를 미리 지정하지 않아도 되며, 함수 호출 시에 필요한 만큼의 인자를 전달할 수 있습니다.\n",
    "- 가변 인자는 *args와 **kwargs 두 가지 형태로 사용할 수 있습니다."
   ]
  },
  {
   "cell_type": "code",
   "execution_count": null,
   "id": "6ca55607",
   "metadata": {},
   "outputs": [],
   "source": []
  },
  {
   "cell_type": "code",
   "execution_count": null,
   "id": "f26a2d8f",
   "metadata": {},
   "outputs": [],
   "source": []
  },
  {
   "cell_type": "markdown",
   "id": "805fa4ab",
   "metadata": {},
   "source": [
    "### 2-2-1 *args 가변위치인자 \n",
    "\n",
    "#### *args (Positional Arguments):\n",
    "- 가변적으로 받기 위해 사용됩니다. \n",
    "- 함수 정의에서 *args 매개변수를 사용하면, 해당 매개변수는 튜플 형태로 함수 내부로 전달됩니다. \n",
    "- 이 때, 함수 호출 시 전달되는 인자들이 튜플로 묶여서 *args에 전달됩니다."
   ]
  },
  {
   "cell_type": "markdown",
   "id": "0fc989f2",
   "metadata": {},
   "source": [
    "### 가변위치인자는 실제 튜플로 관리"
   ]
  },
  {
   "cell_type": "code",
   "execution_count": 42,
   "id": "6e54a723",
   "metadata": {},
   "outputs": [],
   "source": [
    "x,y,*z = [1,2,3,4]"
   ]
  },
  {
   "cell_type": "code",
   "execution_count": 43,
   "id": "2b9d8fe8",
   "metadata": {},
   "outputs": [
    {
     "data": {
      "text/plain": [
       "(1, 2, [3, 4])"
      ]
     },
     "execution_count": 43,
     "metadata": {},
     "output_type": "execute_result"
    }
   ],
   "source": [
    "x,y,z"
   ]
  },
  {
   "cell_type": "code",
   "execution_count": 40,
   "id": "5a7011d4",
   "metadata": {},
   "outputs": [],
   "source": [
    "def varArg(x,y,*args) :\n",
    "    print(locals())\n",
    "    return sum(args)"
   ]
  },
  {
   "cell_type": "code",
   "execution_count": 41,
   "id": "01114f7d",
   "metadata": {},
   "outputs": [
    {
     "name": "stdout",
     "output_type": "stream",
     "text": [
      "{'x': 1, 'y': 2, 'args': (3, 4)}\n"
     ]
    },
    {
     "data": {
      "text/plain": [
       "7"
      ]
     },
     "execution_count": 41,
     "metadata": {},
     "output_type": "execute_result"
    }
   ],
   "source": [
    "varArg(1,2,3,4)"
   ]
  },
  {
   "cell_type": "markdown",
   "id": "b788d64c",
   "metadata": {},
   "source": [
    "###  가변위치인자를 받고 연산처리"
   ]
  },
  {
   "cell_type": "code",
   "execution_count": 13,
   "id": "e3910845",
   "metadata": {},
   "outputs": [],
   "source": [
    "def varArg1(*args) :\n",
    "    result = 0\n",
    "    print(locals())\n",
    "    for i in args :\n",
    "        result = result+ i\n",
    "    return result"
   ]
  },
  {
   "cell_type": "code",
   "execution_count": 14,
   "id": "0429a976",
   "metadata": {},
   "outputs": [
    {
     "name": "stdout",
     "output_type": "stream",
     "text": [
      "{'args': (1, 2, 3, 4, 5), 'result': 0}\n"
     ]
    },
    {
     "data": {
      "text/plain": [
       "15"
      ]
     },
     "execution_count": 14,
     "metadata": {},
     "output_type": "execute_result"
    }
   ],
   "source": [
    "varArg1(1,2,3,4,5)"
   ]
  },
  {
   "cell_type": "markdown",
   "id": "aed24dae",
   "metadata": {},
   "source": [
    "### 2-2-2  **kwargs 가변 키워드인자 처리 \n",
    "\n",
    "#### **kwargs (Keyword Arguments):\n",
    "-  가변적으로 받기 위해 사용됩니다. \n",
    "- 함수 정의에서 **kwargs 매개변수를 사용하면, 해당 매개변수는 딕셔너리 형태로 함수 내부로 전달됩니다. \n",
    "- 이 때, 함수 호출 시 전달되는 키워드 인자들이 딕셔너리로 묶여서 **kwargs에 전달됩니다."
   ]
  },
  {
   "cell_type": "markdown",
   "id": "f130531c",
   "metadata": {},
   "source": [
    "### 가변 키워드 인자는 딕셔너리로 관리 "
   ]
  },
  {
   "cell_type": "code",
   "execution_count": 49,
   "id": "de092705",
   "metadata": {},
   "outputs": [],
   "source": [
    "def varKWArg(x,y,*args,a=0,b=0,**kwargs) :\n",
    "    result = 0\n",
    "    print(locals())\n",
    "    result = result + kwargs['abc'] * 10\n",
    "    for i in kwargs.values() :\n",
    "        result = result+ i\n",
    "    \n",
    "    return result"
   ]
  },
  {
   "cell_type": "code",
   "execution_count": 50,
   "id": "211b62cd",
   "metadata": {},
   "outputs": [
    {
     "name": "stdout",
     "output_type": "stream",
     "text": [
      "{'x': 1, 'y': 2, 'a': 1, 'b': 2, 'args': (3,), 'kwargs': {'c': 3, 'abc': 77}, 'result': 0}\n"
     ]
    },
    {
     "data": {
      "text/plain": [
       "850"
      ]
     },
     "execution_count": 50,
     "metadata": {},
     "output_type": "execute_result"
    }
   ],
   "source": [
    "varKWArg(1,2,3,a=1,b=2,c=3, abc=77)"
   ]
  },
  {
   "cell_type": "code",
   "execution_count": null,
   "id": "898d5e5e",
   "metadata": {},
   "outputs": [],
   "source": []
  },
  {
   "cell_type": "code",
   "execution_count": null,
   "id": "ac636caa",
   "metadata": {},
   "outputs": [],
   "source": []
  },
  {
   "cell_type": "code",
   "execution_count": null,
   "id": "f27c036f",
   "metadata": {},
   "outputs": [],
   "source": []
  },
  {
   "cell_type": "code",
   "execution_count": null,
   "id": "60b28173",
   "metadata": {},
   "outputs": [],
   "source": []
  },
  {
   "cell_type": "markdown",
   "id": "caa0e684",
   "metadata": {},
   "source": [
    "### 2-2-3 가변인자 처리 순서 \n",
    "\n",
    "- 항상 가변위치인자가 먼저 온다 \n",
    "- 매개변수 정의 순서는 고정위치매개변수, 가변위치매개변수, 고정 키워드매개변수, 가변 키워드매개변수"
   ]
  },
  {
   "cell_type": "markdown",
   "id": "fc451ccc",
   "metadata": {},
   "source": [
    "### 가변인자 처리순서"
   ]
  },
  {
   "cell_type": "code",
   "execution_count": 15,
   "id": "3852be59",
   "metadata": {},
   "outputs": [
    {
     "name": "stdout",
     "output_type": "stream",
     "text": [
      "Positional Arguments (*args):\n",
      "1\n",
      "2\n",
      "3\n",
      "\n",
      "Keyword Arguments (**kwargs):\n",
      "name : Alice\n",
      "age : 30\n",
      "city : Wonderland\n"
     ]
    }
   ],
   "source": [
    "def show_arguments(*args, **kwargs):\n",
    "    print(\"Positional Arguments (*args):\")\n",
    "    for arg in args:\n",
    "        print(arg)\n",
    "    \n",
    "    print(\"\\nKeyword Arguments (**kwargs):\")\n",
    "    for key, value in kwargs.items():\n",
    "        print(key, \":\", value)\n",
    "\n",
    "# 가변 인자 혼합 처리 예제\n",
    "show_arguments(1, 2, 3, name='Alice', age=30, city='Wonderland')\n"
   ]
  },
  {
   "cell_type": "markdown",
   "id": "344cdf23",
   "metadata": {},
   "source": [
    "### 고정위치매개변수와 가변위치매개변수 순서 "
   ]
  },
  {
   "cell_type": "code",
   "execution_count": 16,
   "id": "34a97cce",
   "metadata": {},
   "outputs": [
    {
     "name": "stdout",
     "output_type": "stream",
     "text": [
      "Name: Alice\n",
      "Additional Information (*args):\n",
      "Age: 30\n",
      "City: Wonderland\n",
      "Occupation: Adventurer\n"
     ]
    }
   ],
   "source": [
    "def show_info(name, *args):\n",
    "    print(\"Name:\", name)\n",
    "    \n",
    "    print(\"Additional Information (*args):\")\n",
    "    for arg in args:\n",
    "        print(arg)\n",
    "\n",
    "# 고정 매개변수와 가변 인자 혼합 처리 예제\n",
    "show_info('Alice', 'Age: 30', 'City: Wonderland', 'Occupation: Adventurer')\n"
   ]
  },
  {
   "cell_type": "code",
   "execution_count": null,
   "id": "9b4461d8",
   "metadata": {},
   "outputs": [],
   "source": []
  },
  {
   "cell_type": "markdown",
   "id": "8a71d3c1",
   "metadata": {},
   "source": [
    "## 모든 것을 지정한 매개변수 "
   ]
  },
  {
   "cell_type": "code",
   "execution_count": 17,
   "id": "915ee51d",
   "metadata": {},
   "outputs": [
    {
     "name": "stdout",
     "output_type": "stream",
     "text": [
      "Fixed Positional Parameters: 1 2\n",
      "Variable Positional Parameters (*args):\n",
      "3\n",
      "4\n",
      "5\n",
      "Fixed Keyword Parameters (x, y): 10 20\n",
      "Variable Keyword Parameters (**kwargs):\n",
      "name : Alice\n",
      "age : 30\n"
     ]
    }
   ],
   "source": [
    "def complex_function(a, b, *args, x=0, y=0, **kwargs):\n",
    "    print(\"Fixed Positional Parameters:\", a, b)\n",
    "    \n",
    "    print(\"Variable Positional Parameters (*args):\")\n",
    "    for arg in args:\n",
    "        print(arg)\n",
    "    \n",
    "    print(\"Fixed Keyword Parameters (x, y):\", x, y)\n",
    "    \n",
    "    print(\"Variable Keyword Parameters (**kwargs):\")\n",
    "    for key, value in kwargs.items():\n",
    "        print(key, \":\", value)\n",
    "\n",
    "# 함수 호출 예제\n",
    "complex_function(1, 2, 3, 4, 5, x=10, y=20, name='Alice', age=30)\n"
   ]
  },
  {
   "cell_type": "code",
   "execution_count": null,
   "id": "96881521",
   "metadata": {},
   "outputs": [],
   "source": []
  },
  {
   "cell_type": "markdown",
   "id": "2d477e71",
   "metadata": {},
   "source": [
    "### 위치매개변수와 키워드매개변수 구분하기 "
   ]
  },
  {
   "cell_type": "code",
   "execution_count": 19,
   "id": "a88dc447",
   "metadata": {},
   "outputs": [
    {
     "name": "stdout",
     "output_type": "stream",
     "text": [
      "1 2 3 4\n"
     ]
    }
   ],
   "source": [
    "def example_function(a, b, /, c, d):\n",
    "    print(a, b, c, d)\n",
    "\n",
    "example_function(1, 2, c=3, d=4)  # 1 2 3 4\n"
   ]
  },
  {
   "cell_type": "markdown",
   "id": "f2649d1f",
   "metadata": {},
   "source": [
    "### 가변위치매개변수가 없을때 키워드매개변수와의  구분하기 "
   ]
  },
  {
   "cell_type": "code",
   "execution_count": 29,
   "id": "2685b901",
   "metadata": {},
   "outputs": [
    {
     "name": "stdout",
     "output_type": "stream",
     "text": [
      "Positional Parameters (a, b, c): 1 2 3\n",
      "Default Keyword Parameter : 4 5 6\n",
      "Fixed Keyword Parameters (x, y): 10 20\n",
      "Variable Keyword Parameters (**kwargs):\n",
      "name : Alice\n",
      "age : 30\n"
     ]
    }
   ],
   "source": [
    "def complex_function(a, b, c, d=0, e=0, f=0,*, x=0, y=0, **kwargs):\n",
    "    print(\"Positional Parameters (a, b, c):\", a, b, c)\n",
    "    \n",
    "    print(\"Default Keyword Parameter :\", d,e,f)\n",
    "          \n",
    "    print(\"Fixed Keyword Parameters (x, y):\", x, y)\n",
    "    \n",
    "    print(\"Variable Keyword Parameters (**kwargs):\")\n",
    "    for key, value in kwargs.items():\n",
    "        print(key, \":\", value)\n",
    "\n",
    "# 함수 호출 예제\n",
    "complex_function(1, 2, 3, 4, 5, 6, x=10, y=20, name='Alice', age=30)\n"
   ]
  },
  {
   "cell_type": "code",
   "execution_count": null,
   "id": "d6d23726",
   "metadata": {},
   "outputs": [],
   "source": []
  },
  {
   "cell_type": "code",
   "execution_count": 51,
   "id": "a0ab99e2",
   "metadata": {},
   "outputs": [],
   "source": [
    "dd = {}"
   ]
  },
  {
   "cell_type": "code",
   "execution_count": 57,
   "id": "2f127d14",
   "metadata": {},
   "outputs": [],
   "source": [
    "dd['abc'] = 100;dd['abc'] = 777"
   ]
  },
  {
   "cell_type": "code",
   "execution_count": 67,
   "id": "2072e67c",
   "metadata": {},
   "outputs": [],
   "source": [
    "dd.__setitem__('abcd', 888)"
   ]
  },
  {
   "cell_type": "code",
   "execution_count": 69,
   "id": "378e5a09",
   "metadata": {},
   "outputs": [],
   "source": [
    "import collections.abc as abc"
   ]
  },
  {
   "cell_type": "code",
   "execution_count": 72,
   "id": "b28a5a85",
   "metadata": {},
   "outputs": [
    {
     "data": {
      "text/plain": [
       "['AsyncGenerator',\n",
       " 'AsyncIterable',\n",
       " 'AsyncIterator',\n",
       " 'Awaitable',\n",
       " 'ByteString',\n",
       " 'Callable',\n",
       " 'Collection',\n",
       " 'Container',\n",
       " 'Coroutine',\n",
       " 'Generator',\n",
       " 'Hashable',\n",
       " 'ItemsView',\n",
       " 'Iterable',\n",
       " 'Iterator',\n",
       " 'KeysView',\n",
       " 'Mapping',\n",
       " 'MappingView',\n",
       " 'MutableMapping',\n",
       " 'MutableSequence',\n",
       " 'MutableSet',\n",
       " 'Reversible',\n",
       " 'Sequence',\n",
       " 'Set',\n",
       " 'Sized',\n",
       " 'ValuesView',\n",
       " '_CallableGenericAlias',\n",
       " '__all__',\n",
       " '__builtins__',\n",
       " '__cached__',\n",
       " '__doc__',\n",
       " '__file__',\n",
       " '__loader__',\n",
       " '__name__',\n",
       " '__package__',\n",
       " '__spec__']"
      ]
     },
     "execution_count": 72,
     "metadata": {},
     "output_type": "execute_result"
    }
   ],
   "source": [
    "dir(abc)"
   ]
  },
  {
   "cell_type": "code",
   "execution_count": 71,
   "id": "eb698cd5",
   "metadata": {},
   "outputs": [
    {
     "data": {
      "text/plain": [
       "frozenset({'__delitem__', '__getitem__', '__iter__', '__len__', '__setitem__'})"
      ]
     },
     "execution_count": 71,
     "metadata": {},
     "output_type": "execute_result"
    }
   ],
   "source": [
    "abc.MutableMapping.__abstractmethods__"
   ]
  },
  {
   "cell_type": "code",
   "execution_count": null,
   "id": "2ac63a97",
   "metadata": {},
   "outputs": [],
   "source": []
  },
  {
   "cell_type": "code",
   "execution_count": 68,
   "id": "1fa3e808",
   "metadata": {},
   "outputs": [
    {
     "data": {
      "text/plain": [
       "888"
      ]
     },
     "execution_count": 68,
     "metadata": {},
     "output_type": "execute_result"
    }
   ],
   "source": [
    "dd.get('abcd',0)"
   ]
  },
  {
   "cell_type": "code",
   "execution_count": 61,
   "id": "b2e9bc38",
   "metadata": {},
   "outputs": [
    {
     "data": {
      "text/plain": [
       "999"
      ]
     },
     "execution_count": 61,
     "metadata": {},
     "output_type": "execute_result"
    }
   ],
   "source": [
    "dd.setdefault('abcd',999)"
   ]
  },
  {
   "cell_type": "code",
   "execution_count": 65,
   "id": "f77dfe7c",
   "metadata": {},
   "outputs": [
    {
     "data": {
      "text/plain": [
       "999"
      ]
     },
     "execution_count": 65,
     "metadata": {},
     "output_type": "execute_result"
    }
   ],
   "source": [
    "dd.__getitem__('abcd')"
   ]
  },
  {
   "cell_type": "code",
   "execution_count": null,
   "id": "5af1e140",
   "metadata": {},
   "outputs": [],
   "source": []
  },
  {
   "cell_type": "code",
   "execution_count": 55,
   "id": "70477139",
   "metadata": {},
   "outputs": [
    {
     "data": {
      "text/plain": [
       "100"
      ]
     },
     "execution_count": 55,
     "metadata": {},
     "output_type": "execute_result"
    }
   ],
   "source": [
    "dd.get('abc')"
   ]
  },
  {
   "cell_type": "markdown",
   "id": "ccef9702",
   "metadata": {},
   "source": [
    "# 3. 변수 스코프 이해하기\n",
    "\n",
    "- 변수 스코프는 변수가 어디에서 사용 가능하고 어디에서 접근할 수 있는지를 나타내는 개념입니다. \n",
    "- 파이썬에서는 변수 스코프에 따라 변수의 유효 범위와 접근 가능성이 결정됩니다.\n",
    "\n",
    "\n",
    "### 파이썬은 변수를 찾는 순서로 \"LEGB\" 규칙을 따릅니다:\n",
    "\n",
    "- L: Local (로컬 스코프)\n",
    "- E: Enclosing (둘러싼 함수의 스코프)\n",
    "- G: Global (전역 스코프)\n",
    "- B: Built-in (내장 스코프, 파이썬에 내장된 변수 및 함수)"
   ]
  },
  {
   "cell_type": "code",
   "execution_count": 73,
   "id": "dcb831de",
   "metadata": {},
   "outputs": [],
   "source": [
    "def xfunc() :\n",
    "    pass"
   ]
  },
  {
   "cell_type": "code",
   "execution_count": 76,
   "id": "b2b4958a",
   "metadata": {},
   "outputs": [
    {
     "data": {
      "text/plain": [
       "True"
      ]
     },
     "execution_count": 76,
     "metadata": {},
     "output_type": "execute_result"
    }
   ],
   "source": [
    "xfunc.__globals__ == globals()"
   ]
  },
  {
   "cell_type": "markdown",
   "id": "36ca3c9d",
   "metadata": {},
   "source": [
    "## 3-1 전역 변수 \n",
    "\n",
    "- 모듈에 정의된 변수는 전역변수이다"
   ]
  },
  {
   "cell_type": "code",
   "execution_count": 19,
   "id": "66b728f9",
   "metadata": {},
   "outputs": [],
   "source": [
    "x = 100"
   ]
  },
  {
   "cell_type": "code",
   "execution_count": 20,
   "id": "9dba5228",
   "metadata": {},
   "outputs": [
    {
     "data": {
      "text/plain": [
       "100"
      ]
     },
     "execution_count": 20,
     "metadata": {},
     "output_type": "execute_result"
    }
   ],
   "source": [
    "globals()['x']"
   ]
  },
  {
   "cell_type": "code",
   "execution_count": null,
   "id": "ced23876",
   "metadata": {},
   "outputs": [],
   "source": []
  },
  {
   "cell_type": "markdown",
   "id": "8933d353",
   "metadata": {},
   "source": [
    "## 3-2 지역변수\n",
    "\n",
    "- 함수 내부에 정의된 변수와 함수의 매개변수는 모두 지역변수이다."
   ]
  },
  {
   "cell_type": "markdown",
   "id": "8ccbd847",
   "metadata": {},
   "source": [
    "## 전역과 지역변수 확인하기"
   ]
  },
  {
   "cell_type": "code",
   "execution_count": 21,
   "id": "dd922213",
   "metadata": {},
   "outputs": [],
   "source": [
    "xx = 100 "
   ]
  },
  {
   "cell_type": "code",
   "execution_count": 22,
   "id": "438c890c",
   "metadata": {},
   "outputs": [],
   "source": [
    "def func_local(x) :\n",
    "    print(locals())\n",
    "    print(func_local.__globals__['xx'])"
   ]
  },
  {
   "cell_type": "code",
   "execution_count": 23,
   "id": "b94e56b3",
   "metadata": {},
   "outputs": [
    {
     "name": "stdout",
     "output_type": "stream",
     "text": [
      "{'x': 100}\n",
      "100\n"
     ]
    }
   ],
   "source": [
    "func_local(100)"
   ]
  },
  {
   "cell_type": "markdown",
   "id": "3e551356",
   "metadata": {},
   "source": [
    "## 3-3 전역변수와 외부함수 변수 사용하기 \n",
    "\n",
    "- global 예약어로 명확히 전역변수를 지정\n",
    "- nonlocal 예약어로 명확히 외부함수 변수를 지정 "
   ]
  },
  {
   "cell_type": "markdown",
   "id": "c7ad3dbd",
   "metadata": {},
   "source": [
    "### 전역변수 사용하기 "
   ]
  },
  {
   "cell_type": "code",
   "execution_count": 79,
   "id": "9e71954f",
   "metadata": {},
   "outputs": [],
   "source": [
    "xx = 777"
   ]
  },
  {
   "cell_type": "code",
   "execution_count": 80,
   "id": "d0b6b0ce",
   "metadata": {},
   "outputs": [],
   "source": [
    "def funcSum(y) :\n",
    "    xx = xx+ y                ## 표현식에 있는 변수는 로컬에서부터 찾는다. \n",
    "    return xx"
   ]
  },
  {
   "cell_type": "code",
   "execution_count": 81,
   "id": "f1b8c604",
   "metadata": {},
   "outputs": [
    {
     "name": "stdout",
     "output_type": "stream",
     "text": [
      "cannot access local variable 'xx' where it is not associated with a value\n"
     ]
    }
   ],
   "source": [
    "try :\n",
    "    funcSum(100)           ## 실행하면 xx 변수가 로컬에 없어서 예외\n",
    "except NameError as e :\n",
    "    print(e)"
   ]
  },
  {
   "cell_type": "markdown",
   "id": "6c0194bf",
   "metadata": {},
   "source": [
    "#### 명확히 전역변수라고 지정해서 처리해야 함 "
   ]
  },
  {
   "cell_type": "code",
   "execution_count": 48,
   "id": "33f15cdd",
   "metadata": {},
   "outputs": [],
   "source": [
    "def funcSum1(y) :\n",
    "    global xx              \n",
    "    xx += y \n",
    "    return xx"
   ]
  },
  {
   "cell_type": "code",
   "execution_count": 49,
   "id": "348b0906",
   "metadata": {},
   "outputs": [
    {
     "data": {
      "text/plain": [
       "877"
      ]
     },
     "execution_count": 49,
     "metadata": {},
     "output_type": "execute_result"
    }
   ],
   "source": [
    "funcSum1(100)"
   ]
  },
  {
   "cell_type": "code",
   "execution_count": null,
   "id": "8275291d",
   "metadata": {},
   "outputs": [],
   "source": []
  },
  {
   "cell_type": "markdown",
   "id": "cfe93bb4",
   "metadata": {},
   "source": [
    "### 내부함수에서 외부함수 변수 참조할 때도 nonlocal 지정 필요"
   ]
  },
  {
   "cell_type": "code",
   "execution_count": 52,
   "id": "064f8dda",
   "metadata": {},
   "outputs": [
    {
     "name": "stdout",
     "output_type": "stream",
     "text": [
      "외부함수 변수 변경전: 10\n",
      "외부함수 변수 : 20\n",
      "외부함수 변수 변경후: 20\n"
     ]
    }
   ],
   "source": [
    "def outer_function():\n",
    "    outer_variable = 10\n",
    "    print(\"외부함수 변수 변경전:\", outer_variable)\n",
    "    def inner_function():\n",
    "        nonlocal outer_variable                          # 둘러싼 함수의 변수에 접근\n",
    "        outer_variable = 20\n",
    "        print(\"외부함수 변수 :\", outer_variable)\n",
    "    \n",
    "    inner_function()\n",
    "    print(\"외부함수 변수 변경후:\", outer_variable)\n",
    "\n",
    "outer_function()\n"
   ]
  },
  {
   "cell_type": "code",
   "execution_count": null,
   "id": "5e39c29d",
   "metadata": {},
   "outputs": [],
   "source": []
  },
  {
   "cell_type": "code",
   "execution_count": 78,
   "id": "d42a615a",
   "metadata": {},
   "outputs": [
    {
     "data": {
      "text/plain": [
       "['ArithmeticError',\n",
       " 'AssertionError',\n",
       " 'AttributeError',\n",
       " 'BaseException',\n",
       " 'BaseExceptionGroup',\n",
       " 'BlockingIOError',\n",
       " 'BrokenPipeError',\n",
       " 'BufferError',\n",
       " 'BytesWarning',\n",
       " 'ChildProcessError',\n",
       " 'ConnectionAbortedError',\n",
       " 'ConnectionError',\n",
       " 'ConnectionRefusedError',\n",
       " 'ConnectionResetError',\n",
       " 'DeprecationWarning',\n",
       " 'EOFError',\n",
       " 'Ellipsis',\n",
       " 'EncodingWarning',\n",
       " 'EnvironmentError',\n",
       " 'Exception',\n",
       " 'ExceptionGroup',\n",
       " 'False',\n",
       " 'FileExistsError',\n",
       " 'FileNotFoundError',\n",
       " 'FloatingPointError',\n",
       " 'FutureWarning',\n",
       " 'GeneratorExit',\n",
       " 'IOError',\n",
       " 'ImportError',\n",
       " 'ImportWarning',\n",
       " 'IndentationError',\n",
       " 'IndexError',\n",
       " 'InterruptedError',\n",
       " 'IsADirectoryError',\n",
       " 'KeyError',\n",
       " 'KeyboardInterrupt',\n",
       " 'LookupError',\n",
       " 'MemoryError',\n",
       " 'ModuleNotFoundError',\n",
       " 'NameError',\n",
       " 'None',\n",
       " 'NotADirectoryError',\n",
       " 'NotImplemented',\n",
       " 'NotImplementedError',\n",
       " 'OSError',\n",
       " 'OverflowError',\n",
       " 'PendingDeprecationWarning',\n",
       " 'PermissionError',\n",
       " 'ProcessLookupError',\n",
       " 'RecursionError',\n",
       " 'ReferenceError',\n",
       " 'ResourceWarning',\n",
       " 'RuntimeError',\n",
       " 'RuntimeWarning',\n",
       " 'StopAsyncIteration',\n",
       " 'StopIteration',\n",
       " 'SyntaxError',\n",
       " 'SyntaxWarning',\n",
       " 'SystemError',\n",
       " 'SystemExit',\n",
       " 'TabError',\n",
       " 'TimeoutError',\n",
       " 'True',\n",
       " 'TypeError',\n",
       " 'UnboundLocalError',\n",
       " 'UnicodeDecodeError',\n",
       " 'UnicodeEncodeError',\n",
       " 'UnicodeError',\n",
       " 'UnicodeTranslateError',\n",
       " 'UnicodeWarning',\n",
       " 'UserWarning',\n",
       " 'ValueError',\n",
       " 'Warning',\n",
       " 'ZeroDivisionError',\n",
       " '__IPYTHON__',\n",
       " '__build_class__',\n",
       " '__debug__',\n",
       " '__doc__',\n",
       " '__import__',\n",
       " '__loader__',\n",
       " '__name__',\n",
       " '__package__',\n",
       " '__spec__',\n",
       " 'abs',\n",
       " 'aiter',\n",
       " 'all',\n",
       " 'anext',\n",
       " 'any',\n",
       " 'ascii',\n",
       " 'bin',\n",
       " 'bool',\n",
       " 'breakpoint',\n",
       " 'bytearray',\n",
       " 'bytes',\n",
       " 'callable',\n",
       " 'chr',\n",
       " 'classmethod',\n",
       " 'compile',\n",
       " 'complex',\n",
       " 'copyright',\n",
       " 'credits',\n",
       " 'delattr',\n",
       " 'dict',\n",
       " 'dir',\n",
       " 'display',\n",
       " 'divmod',\n",
       " 'enumerate',\n",
       " 'eval',\n",
       " 'exec',\n",
       " 'execfile',\n",
       " 'filter',\n",
       " 'float',\n",
       " 'format',\n",
       " 'frozenset',\n",
       " 'get_ipython',\n",
       " 'getattr',\n",
       " 'globals',\n",
       " 'hasattr',\n",
       " 'hash',\n",
       " 'help',\n",
       " 'hex',\n",
       " 'id',\n",
       " 'input',\n",
       " 'int',\n",
       " 'isinstance',\n",
       " 'issubclass',\n",
       " 'iter',\n",
       " 'len',\n",
       " 'license',\n",
       " 'list',\n",
       " 'locals',\n",
       " 'map',\n",
       " 'max',\n",
       " 'memoryview',\n",
       " 'min',\n",
       " 'next',\n",
       " 'object',\n",
       " 'oct',\n",
       " 'open',\n",
       " 'ord',\n",
       " 'pow',\n",
       " 'print',\n",
       " 'property',\n",
       " 'range',\n",
       " 'repr',\n",
       " 'reversed',\n",
       " 'round',\n",
       " 'runfile',\n",
       " 'set',\n",
       " 'setattr',\n",
       " 'slice',\n",
       " 'sorted',\n",
       " 'staticmethod',\n",
       " 'str',\n",
       " 'sum',\n",
       " 'super',\n",
       " 'tuple',\n",
       " 'type',\n",
       " 'vars',\n",
       " 'zip']"
      ]
     },
     "execution_count": 78,
     "metadata": {},
     "output_type": "execute_result"
    }
   ],
   "source": [
    "dir(__builtins__)"
   ]
  },
  {
   "cell_type": "code",
   "execution_count": null,
   "id": "65467d4b",
   "metadata": {},
   "outputs": [],
   "source": []
  }
 ],
 "metadata": {
  "kernelspec": {
   "display_name": "Python 3 (ipykernel)",
   "language": "python",
   "name": "python3"
  },
  "language_info": {
   "codemirror_mode": {
    "name": "ipython",
    "version": 3
   },
   "file_extension": ".py",
   "mimetype": "text/x-python",
   "name": "python",
   "nbconvert_exporter": "python",
   "pygments_lexer": "ipython3",
   "version": "3.11.3"
  }
 },
 "nbformat": 4,
 "nbformat_minor": 5
}
