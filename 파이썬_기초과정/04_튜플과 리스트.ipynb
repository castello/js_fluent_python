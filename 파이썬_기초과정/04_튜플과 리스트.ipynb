{
 "cells": [
  {
   "cell_type": "code",
   "execution_count": 1,
   "id": "0b436b41",
   "metadata": {},
   "outputs": [
    {
     "data": {
      "text/plain": [
       "'3.11.3'"
      ]
     },
     "execution_count": 1,
     "metadata": {},
     "output_type": "execute_result"
    }
   ],
   "source": [
    "import platform\n",
    "\n",
    "platform.python_version()"
   ]
  },
  {
   "cell_type": "code",
   "execution_count": null,
   "id": "114946ee",
   "metadata": {},
   "outputs": [],
   "source": []
  },
  {
   "cell_type": "markdown",
   "id": "f9f26f03",
   "metadata": {},
   "source": [
    "# 1. 튜플\n",
    "\n",
    "\n",
    "### 불변성: \n",
    "- 한 번 생성된 튜플은 내부의 요소를 변경할 수 없습니다. 즉, 요소의 추가, 삭제, 수정이 불가능합니다.\n",
    "\n",
    "### 순서가 있음: \n",
    "- 튜플은 요소의 순서가 있으며, 인덱스를 사용하여 개별 요소에 접근할 수 있습니다.\n",
    "\n",
    "### 다양한 자료형: \n",
    "- 튜플 내에 서로 다른 자료형의 요소를 포함할 수 있습니다.\n",
    "\n",
    "### 패킹과 언패킹: \n",
    "- 여러 변수에 동시에 값을 할당하는 패킹과 튜플의 값을 개별 변수에 할당하는 언패킹을 지원합니다."
   ]
  },
  {
   "cell_type": "markdown",
   "id": "37615e1a",
   "metadata": {},
   "source": [
    "## 1-1 튜플 인스턴스 만들기\n",
    "\n",
    "- 리터럴표기법과 클래스생성 등으로 만들 수 있음"
   ]
  },
  {
   "cell_type": "markdown",
   "id": "19b0e516",
   "metadata": {},
   "source": [
    "## 리터럴로 바로 작성하기\n",
    "\n",
    "- 빈 튜플은 ()\n",
    "- 한개의 튜플은 (1,)  반드시 원소 다음에 쉼표가 있어야 함 "
   ]
  },
  {
   "cell_type": "code",
   "execution_count": 2,
   "id": "cb45a420",
   "metadata": {},
   "outputs": [
    {
     "name": "stdout",
     "output_type": "stream",
     "text": [
      "빈튜플 ()\n",
      "한개 원소를 가진 튜플 (1,)\n"
     ]
    }
   ],
   "source": [
    "print(\"빈튜플\" ,())\n",
    "\n",
    "print(\"한개 원소를 가진 튜플\" ,(1,))"
   ]
  },
  {
   "cell_type": "code",
   "execution_count": 3,
   "id": "f853a094",
   "metadata": {},
   "outputs": [],
   "source": [
    "tt = (1,2,3,4)"
   ]
  },
  {
   "cell_type": "code",
   "execution_count": 4,
   "id": "4fe0297d",
   "metadata": {},
   "outputs": [
    {
     "data": {
      "text/plain": [
       "(1, 2, 3, 4)"
      ]
     },
     "execution_count": 4,
     "metadata": {},
     "output_type": "execute_result"
    }
   ],
   "source": [
    "tt"
   ]
  },
  {
   "cell_type": "markdown",
   "id": "49fade5d",
   "metadata": {},
   "source": [
    "## 클래스로 객체를 생성하기\n",
    "\n",
    "- 다른 자료형을 처리할 때 많이 사용 "
   ]
  },
  {
   "cell_type": "code",
   "execution_count": 23,
   "id": "b742aec3",
   "metadata": {},
   "outputs": [],
   "source": [
    "t = tuple([1,2,3,4])"
   ]
  },
  {
   "cell_type": "code",
   "execution_count": 24,
   "id": "d6facc85",
   "metadata": {},
   "outputs": [
    {
     "data": {
      "text/plain": [
       "(1, 2, 3, 4)"
      ]
     },
     "execution_count": 24,
     "metadata": {},
     "output_type": "execute_result"
    }
   ],
   "source": [
    "t"
   ]
  },
  {
   "cell_type": "markdown",
   "id": "95dc2435",
   "metadata": {},
   "source": [
    "## 1-2 튜플 검색 \n",
    "\n",
    "-  인덱스 검색연산자인 대괄호와 인덱스를 넣고 조회가능\n",
    "-  인덱스 범위가 벗어나면 예외발생 "
   ]
  },
  {
   "cell_type": "markdown",
   "id": "245d95f7",
   "metadata": {},
   "source": [
    "### 원소를 인덱스로 검색 "
   ]
  },
  {
   "cell_type": "code",
   "execution_count": 7,
   "id": "63324a14",
   "metadata": {},
   "outputs": [],
   "source": [
    "t[0]"
   ]
  },
  {
   "cell_type": "markdown",
   "id": "74681fe5",
   "metadata": {},
   "source": [
    "### 슬라이스로 검색 \n",
    "\n",
    "-  인덱스 검색은 하나의 값만 처리\n",
    "- 그래서 슬라이스를 처리할 때는 슬라이스 객체를 전달해서 처리\n",
    "- 슬라이스는 기존 여러 원소를 가져와서 새로운 것을 만듬 "
   ]
  },
  {
   "cell_type": "code",
   "execution_count": 8,
   "id": "e5c6600c",
   "metadata": {},
   "outputs": [],
   "source": [
    "sl = slice(0,3,1)"
   ]
  },
  {
   "cell_type": "code",
   "execution_count": 9,
   "id": "1c1f1f5e",
   "metadata": {},
   "outputs": [
    {
     "data": {
      "text/plain": [
       "(1, 2, 3)"
      ]
     },
     "execution_count": 9,
     "metadata": {},
     "output_type": "execute_result"
    }
   ],
   "source": [
    "t[0:3:1]"
   ]
  },
  {
   "cell_type": "markdown",
   "id": "2056cdd7",
   "metadata": {},
   "source": [
    "#### 슬라이스 검색으로 부분 튜플을 동일하게 만들지만 실제 새롭게 만들어짐"
   ]
  },
  {
   "cell_type": "code",
   "execution_count": 10,
   "id": "dcf96411",
   "metadata": {},
   "outputs": [],
   "source": [
    "ta = t[sl]"
   ]
  },
  {
   "cell_type": "code",
   "execution_count": 11,
   "id": "ce408924",
   "metadata": {},
   "outputs": [],
   "source": [
    "tb = t[sl]"
   ]
  },
  {
   "cell_type": "code",
   "execution_count": 12,
   "id": "686d1ccd",
   "metadata": {},
   "outputs": [
    {
     "data": {
      "text/plain": [
       "False"
      ]
     },
     "execution_count": 12,
     "metadata": {},
     "output_type": "execute_result"
    }
   ],
   "source": [
    "ta is tb"
   ]
  },
  {
   "cell_type": "markdown",
   "id": "f5a03159",
   "metadata": {},
   "source": [
    "## 1-3 튜플은 변경불가 \n",
    "\n",
    "- 실제 변경할 수 있는 메서드가 없다 "
   ]
  },
  {
   "cell_type": "code",
   "execution_count": 13,
   "id": "5af02cea",
   "metadata": {},
   "outputs": [
    {
     "name": "stdout",
     "output_type": "stream",
     "text": [
      "__add__, __class__, __class_getitem__, __contains__, __delattr__, __dir__, __doc__, __eq__, __format__, __ge__, __getattribute__, __getitem__, __getnewargs__, __getstate__, __gt__, __hash__, __init__, __init_subclass__, __iter__, __le__, __len__, __lt__, __mul__, __ne__, __new__, __reduce__, __reduce_ex__, __repr__, __rmul__, __setattr__, __sizeof__, __str__, __subclasshook__, count, index, "
     ]
    }
   ],
   "source": [
    "for i in dir(tuple) :\n",
    "    print(i, end=', ')"
   ]
  },
  {
   "cell_type": "code",
   "execution_count": 14,
   "id": "ccd8bdd3",
   "metadata": {},
   "outputs": [
    {
     "name": "stdout",
     "output_type": "stream",
     "text": [
      "'tuple' object does not support item assignment\n"
     ]
    }
   ],
   "source": [
    "try :\n",
    "    t[0] = 100            # 튜플은 변경이 불가해서 갱신하면 예외발생 \n",
    "except Exception as e :\n",
    "    print(e)"
   ]
  },
  {
   "cell_type": "markdown",
   "id": "de97d91a",
   "metadata": {},
   "source": [
    "## 1-4  연산자 사용하기 \n",
    "\n",
    "- 덧셈 연산자(`__add__`)를 지원\n",
    "- 덧셈연산자는 두 개의 튜플을 결합해서 새로운 튜플을 만듬"
   ]
  },
  {
   "cell_type": "code",
   "execution_count": 15,
   "id": "4949b5bc",
   "metadata": {},
   "outputs": [
    {
     "data": {
      "text/plain": [
       "(1, 2, 3, 4, 5, 6, 7)"
      ]
     },
     "execution_count": 15,
     "metadata": {},
     "output_type": "execute_result"
    }
   ],
   "source": [
    "(1,2,3) + (4,5,6,7,)"
   ]
  },
  {
   "cell_type": "code",
   "execution_count": null,
   "id": "c966d07a",
   "metadata": {},
   "outputs": [],
   "source": []
  },
  {
   "cell_type": "markdown",
   "id": "3fab401f",
   "metadata": {},
   "source": [
    "## 1-5  구조분해\n",
    "- 패킹과 언패킹 처리 \n",
    "- 원서의 개수가 맞아야 한다 부족하면 별표를 붙인다. "
   ]
  },
  {
   "cell_type": "code",
   "execution_count": 16,
   "id": "3478bbf1",
   "metadata": {},
   "outputs": [
    {
     "name": "stdout",
     "output_type": "stream",
     "text": [
      "x: 1\n",
      "y: 2\n",
      "z: 3\n",
      "Fruit 1: apple\n",
      "Fruit 2: banana\n"
     ]
    }
   ],
   "source": [
    "# 튜플 생성\n",
    "my_tuple = (1, 2, 3, \"apple\", \"banana\")\n",
    "\n",
    "\n",
    "# 패킹과 언패킹\n",
    "x, y, z, fruit1, fruit2 = my_tuple\n",
    "print(\"x:\", x)\n",
    "print(\"y:\", y)\n",
    "print(\"z:\", z)\n",
    "print(\"Fruit 1:\", fruit1)\n",
    "print(\"Fruit 2:\", fruit2)"
   ]
  },
  {
   "cell_type": "code",
   "execution_count": null,
   "id": "e69f2064",
   "metadata": {},
   "outputs": [],
   "source": []
  },
  {
   "cell_type": "markdown",
   "id": "4b27532b",
   "metadata": {},
   "source": [
    "## 2 리스트\n",
    "\n",
    "- 파이썬에서 리스트(List)는 여러 개의 값을 순차적으로 저장하는 동적 배열(Resizable Array) 자료구조\n",
    "- 리스트는 대괄호 []를 사용하여 정의하며, 각 요소는 쉼표 ,로 구분됩니다.\n",
    "\n",
    "\n",
    "### 가변성: \n",
    "- 리스트는 생성된 후에도 요소의 추가, 삭제, 수정이 가능합니다. \n",
    "- 크기가 동적으로 조정되며, 필요에 따라 요소를 추가하거나 삭제할 수 있습니다.\n",
    "\n",
    "### 순서가 있음: \n",
    "- 리스트는 요소의 순서가 있으며, 인덱스를 사용하여 개별 요소에 접근할 수 있습니다.\n",
    "\n",
    "### 다양한 자료형: \n",
    "- 리스트 내에 서로 다른 자료형의 요소를 포함할 수 있습니다.\n",
    "\n"
   ]
  },
  {
   "cell_type": "code",
   "execution_count": null,
   "id": "e8ef0959",
   "metadata": {},
   "outputs": [],
   "source": []
  },
  {
   "cell_type": "markdown",
   "id": "6e8018da",
   "metadata": {},
   "source": [
    "##  2-1 리스트 이해하기 \n",
    "\n",
    "- 리스트를 다루기 위한 다양한 내장 메서드와 함수가 제공됩니다. \n",
    "- 예를 들어, append(), insert(), remove(), pop(), sort() 등이 있습니다."
   ]
  },
  {
   "cell_type": "code",
   "execution_count": 17,
   "id": "a7605a3a",
   "metadata": {},
   "outputs": [
    {
     "name": "stdout",
     "output_type": "stream",
     "text": [
      "__add__, __class__, __class_getitem__, __contains__, __delattr__, __delitem__, __dir__, __doc__, __eq__, __format__, __ge__, __getattribute__, __getitem__, __getstate__, __gt__, __hash__, __iadd__, __imul__, __init__, __init_subclass__, __iter__, __le__, __len__, __lt__, __mul__, __ne__, __new__, __reduce__, __reduce_ex__, __repr__, __reversed__, __rmul__, __setattr__, __setitem__, __sizeof__, __str__, __subclasshook__, append, clear, copy, count, extend, index, insert, pop, remove, reverse, sort, "
     ]
    }
   ],
   "source": [
    "for i in dir(list) :\n",
    "    print(i, end=', ')"
   ]
  },
  {
   "cell_type": "markdown",
   "id": "44213d1b",
   "metadata": {},
   "source": [
    "## 2-2 리스트 생성 "
   ]
  },
  {
   "cell_type": "markdown",
   "id": "634cf501",
   "metadata": {},
   "source": [
    "### 리터럴 표기법\n",
    "- 아무것도 없는 리스트 []\n",
    "- 원소하나만 있는 리스트 [1]\n",
    "- 아무것도 없는 인덱스에서 원서를 꺼내면 인덱스 에러가 발생 "
   ]
  },
  {
   "cell_type": "code",
   "execution_count": 18,
   "id": "5fdbcac3",
   "metadata": {},
   "outputs": [
    {
     "name": "stdout",
     "output_type": "stream",
     "text": [
      "pop from empty list\n",
      "1 []\n"
     ]
    }
   ],
   "source": [
    "empty = []\n",
    "one = [1]\n",
    "\n",
    "try : \n",
    "    empty.pop()\n",
    "except IndexError as e :\n",
    "    print(e)\n",
    "    \n",
    "print(one.pop(), one)       # 하나의 원서를 꺼내면 나머지는 아무것도 없는 빈 리스트"
   ]
  },
  {
   "cell_type": "code",
   "execution_count": null,
   "id": "f9d2d355",
   "metadata": {},
   "outputs": [],
   "source": []
  },
  {
   "cell_type": "markdown",
   "id": "4b1233e9",
   "metadata": {},
   "source": [
    "### 다른 자료형을 리스트로 변환\n",
    "- 리스트 생성자 표기법으로 작성 "
   ]
  },
  {
   "cell_type": "code",
   "execution_count": 19,
   "id": "1da6603f",
   "metadata": {},
   "outputs": [],
   "source": [
    "ss = \"abcdef\""
   ]
  },
  {
   "cell_type": "code",
   "execution_count": 20,
   "id": "eed27d67",
   "metadata": {},
   "outputs": [],
   "source": [
    "lll = list(ss)"
   ]
  },
  {
   "cell_type": "code",
   "execution_count": 21,
   "id": "b74fe3c1",
   "metadata": {},
   "outputs": [
    {
     "data": {
      "text/plain": [
       "['a', 'b', 'c', 'd', 'e', 'f']"
      ]
     },
     "execution_count": 21,
     "metadata": {},
     "output_type": "execute_result"
    }
   ],
   "source": [
    "lll"
   ]
  },
  {
   "cell_type": "markdown",
   "id": "38a88413",
   "metadata": {},
   "source": [
    "## 2-3 리스트 원소/슬라이스 검색 및 갱신"
   ]
  },
  {
   "cell_type": "markdown",
   "id": "c7ae77c6",
   "metadata": {},
   "source": [
    "### 리스트 원소 갱신\n",
    "- 인덱스 검색을 통해서 값을 할당처리 "
   ]
  },
  {
   "cell_type": "code",
   "execution_count": 22,
   "id": "9ef994a5",
   "metadata": {},
   "outputs": [],
   "source": [
    "lll[2] = \"abc\"                     # 원소 갱신 "
   ]
  },
  {
   "cell_type": "code",
   "execution_count": 25,
   "id": "b4cf5bc9",
   "metadata": {},
   "outputs": [
    {
     "data": {
      "text/plain": [
       "['a', 'b', 'abc', 'd', 'e', 'f']"
      ]
     },
     "execution_count": 25,
     "metadata": {},
     "output_type": "execute_result"
    }
   ],
   "source": [
    "lll"
   ]
  },
  {
   "cell_type": "markdown",
   "id": "07fd65b6",
   "metadata": {},
   "source": [
    "### 슬라이스 검색 처리\n",
    "\n",
    "-  슬라이스는 부분 리스트를 만드 것 \n",
    "-  슬라이스로 검색해서 할당하면 기존 리스트가 아닌 새로운 리스트가 만들어짐"
   ]
  },
  {
   "cell_type": "code",
   "execution_count": 26,
   "id": "79329981",
   "metadata": {},
   "outputs": [
    {
     "data": {
      "text/plain": [
       "'d'"
      ]
     },
     "execution_count": 26,
     "metadata": {},
     "output_type": "execute_result"
    }
   ],
   "source": [
    "lll[3]                                    # 원소 검색"
   ]
  },
  {
   "cell_type": "code",
   "execution_count": 27,
   "id": "98e5df2a",
   "metadata": {},
   "outputs": [],
   "source": [
    "sl = lll[1:4]                            # 슬라이스 검색 "
   ]
  },
  {
   "cell_type": "code",
   "execution_count": 28,
   "id": "32b5701b",
   "metadata": {},
   "outputs": [
    {
     "data": {
      "text/plain": [
       "['b', 'abc', 'd']"
      ]
     },
     "execution_count": 28,
     "metadata": {},
     "output_type": "execute_result"
    }
   ],
   "source": [
    "sl"
   ]
  },
  {
   "cell_type": "markdown",
   "id": "431a371a",
   "metadata": {},
   "source": [
    "#### 슬라이스가 다른 객체인지 확인 "
   ]
  },
  {
   "cell_type": "code",
   "execution_count": 29,
   "id": "f4b6b80c",
   "metadata": {},
   "outputs": [
    {
     "name": "stdout",
     "output_type": "stream",
     "text": [
      "['xxxx', 'abc', 'd'] ['a', 'b', 'abc', 'd', 'e', 'f']\n"
     ]
    }
   ],
   "source": [
    "sl[0] = \"xxxx\"\n",
    "print(sl, lll)"
   ]
  },
  {
   "cell_type": "markdown",
   "id": "e672c0d3",
   "metadata": {},
   "source": [
    "## 2-4 연산자 사용하기\n",
    "\n",
    "-  +(`__add__`): 리스트 경합합, *(`__mul__`) : 원소를 배로 생성\n"
   ]
  },
  {
   "cell_type": "markdown",
   "id": "a397e09c",
   "metadata": {},
   "source": [
    "### 덧셈 처리"
   ]
  },
  {
   "cell_type": "code",
   "execution_count": 30,
   "id": "e25116c3",
   "metadata": {},
   "outputs": [
    {
     "data": {
      "text/plain": [
       "[1, 2, 3, 4, 4, 5, 6, 7]"
      ]
     },
     "execution_count": 30,
     "metadata": {},
     "output_type": "execute_result"
    }
   ],
   "source": [
    "[1,2,3,4] + [4,5,6,7,]"
   ]
  },
  {
   "cell_type": "markdown",
   "id": "9440960a",
   "metadata": {},
   "source": [
    "### 곱셈처리 "
   ]
  },
  {
   "cell_type": "code",
   "execution_count": 31,
   "id": "09617047",
   "metadata": {},
   "outputs": [
    {
     "data": {
      "text/plain": [
       "[8, 8, 8, 8, 8, 8, 8, 8]"
      ]
     },
     "execution_count": 31,
     "metadata": {},
     "output_type": "execute_result"
    }
   ],
   "source": [
    "[8] * 8"
   ]
  },
  {
   "cell_type": "code",
   "execution_count": null,
   "id": "dbf9b91c",
   "metadata": {},
   "outputs": [],
   "source": []
  },
  {
   "cell_type": "code",
   "execution_count": null,
   "id": "c2d2df94",
   "metadata": {},
   "outputs": [],
   "source": []
  },
  {
   "cell_type": "markdown",
   "id": "859a3812",
   "metadata": {},
   "source": [
    "## 2-5 리스트 컴프리헨션 : 기본\n",
    "\n",
    "- 리스트 컴프리헨션(List Comprehension)은 간단하게 리스트를 생성하고 초기화하는 방법 \n",
    "- 리스트 컴프리헨션은 코드를 더 간결하고 가독성 있게 만들어주며, 반복문과 조건문을 조합하여 다양한 패턴의 리스트를 생성"
   ]
  },
  {
   "cell_type": "markdown",
   "id": "5c6b94ed",
   "metadata": {},
   "source": [
    "###  리스트 원소 표기 방법\n",
    "\n",
    "- 원소 나열이나 특정 수식으로 컴프리헨션 표기 두 가지 제공"
   ]
  },
  {
   "cell_type": "markdown",
   "id": "69f2a9af",
   "metadata": {},
   "source": [
    "### 리스트의  원소 나열"
   ]
  },
  {
   "cell_type": "code",
   "execution_count": 32,
   "id": "8235d718",
   "metadata": {},
   "outputs": [],
   "source": [
    "ll = [1,2,3,4,5,6]"
   ]
  },
  {
   "cell_type": "code",
   "execution_count": null,
   "id": "ddac08bf",
   "metadata": {},
   "outputs": [],
   "source": []
  },
  {
   "cell_type": "markdown",
   "id": "0c466142",
   "metadata": {},
   "source": [
    "### 순환문을 통한 리스트 원소 나열 \n",
    "\n",
    "-  원소의 갯수가 많을 경우도 코딩이 불편\n",
    "- 그래서 컴프리헨션으로 축약 표현"
   ]
  },
  {
   "cell_type": "code",
   "execution_count": 33,
   "id": "f328eef5",
   "metadata": {},
   "outputs": [
    {
     "name": "stdout",
     "output_type": "stream",
     "text": [
      "[1, 2, 3, 4, 5, 6]\n"
     ]
    }
   ],
   "source": [
    "res = []\n",
    "for i in range(1,7) :\n",
    "    res.append(i)\n",
    "    \n",
    "print(res)"
   ]
  },
  {
   "cell_type": "markdown",
   "id": "48efb4e6",
   "metadata": {},
   "source": [
    "### 리스트를 특정 조건으로 원소 표시 : 컴프리헨션 표기"
   ]
  },
  {
   "cell_type": "code",
   "execution_count": 34,
   "id": "d67cbcd3",
   "metadata": {},
   "outputs": [],
   "source": [
    "llll = [x for x in range(1,7)]"
   ]
  },
  {
   "cell_type": "code",
   "execution_count": 35,
   "id": "e98540cc",
   "metadata": {},
   "outputs": [
    {
     "data": {
      "text/plain": [
       "[1, 2, 3, 4, 5, 6]"
      ]
     },
     "execution_count": 35,
     "metadata": {},
     "output_type": "execute_result"
    }
   ],
   "source": [
    "llll"
   ]
  },
  {
   "cell_type": "markdown",
   "id": "e0a82f39",
   "metadata": {},
   "source": [
    "## 2-6  다양한 방식 "
   ]
  },
  {
   "cell_type": "markdown",
   "id": "ca0632e0",
   "metadata": {},
   "source": [
    "### 가드처리 "
   ]
  },
  {
   "cell_type": "code",
   "execution_count": 36,
   "id": "7e1e0031",
   "metadata": {},
   "outputs": [
    {
     "name": "stdout",
     "output_type": "stream",
     "text": [
      "[2, 4, 6, 8, 10]\n"
     ]
    }
   ],
   "source": [
    "numbers = [1, 2, 3, 4, 5, 6, 7, 8, 9, 10]\n",
    "even_numbers = [num for num in numbers if num % 2 == 0]\n",
    "print(even_numbers)"
   ]
  },
  {
   "cell_type": "code",
   "execution_count": null,
   "id": "8e4af07e",
   "metadata": {},
   "outputs": [],
   "source": []
  },
  {
   "cell_type": "markdown",
   "id": "9030566c",
   "metadata": {},
   "source": [
    "### 내장함수 사용하기 "
   ]
  },
  {
   "cell_type": "code",
   "execution_count": 37,
   "id": "478b6d33",
   "metadata": {},
   "outputs": [
    {
     "name": "stdout",
     "output_type": "stream",
     "text": [
      "[5, 6, 6, 4]\n"
     ]
    }
   ],
   "source": [
    "words = [\"apple\", \"banana\", \"cherry\", \"date\"]\n",
    "lengths = [len(word) for word in words]\n",
    "print(lengths)"
   ]
  },
  {
   "cell_type": "code",
   "execution_count": null,
   "id": "79267b90",
   "metadata": {},
   "outputs": [],
   "source": []
  },
  {
   "cell_type": "markdown",
   "id": "0f71423b",
   "metadata": {},
   "source": [
    "### 리스트의 리스트를 플랫하게 만들기 "
   ]
  },
  {
   "cell_type": "code",
   "execution_count": 38,
   "id": "16305f11",
   "metadata": {},
   "outputs": [
    {
     "name": "stdout",
     "output_type": "stream",
     "text": [
      "[1, 2, 3, 4, 5, 6, 7, 8, 9]\n"
     ]
    }
   ],
   "source": [
    "matrix = [[1, 2, 3], [4, 5, 6], [7, 8, 9]]\n",
    "flattened = [num for row in matrix for num in row]\n",
    "print(flattened)"
   ]
  },
  {
   "cell_type": "code",
   "execution_count": null,
   "id": "a9552ccf",
   "metadata": {},
   "outputs": [],
   "source": []
  },
  {
   "cell_type": "markdown",
   "id": "e629d2fa",
   "metadata": {},
   "source": [
    "### 리스트의 리스트를 플랫하게 만들기 "
   ]
  },
  {
   "cell_type": "code",
   "execution_count": 39,
   "id": "eec4e3aa",
   "metadata": {},
   "outputs": [
    {
     "name": "stdout",
     "output_type": "stream",
     "text": [
      "[(1, 1, 1), (2, 4, 8), (3, 9, 27), (4, 16, 64), (5, 25, 125)]\n"
     ]
    }
   ],
   "source": [
    "numbers = [1, 2, 3, 4, 5]\n",
    "squared_and_cubed = [(num, num ** 2, num ** 3) for num in numbers]\n",
    "print(squared_and_cubed)"
   ]
  },
  {
   "cell_type": "code",
   "execution_count": null,
   "id": "40706e9f",
   "metadata": {},
   "outputs": [],
   "source": []
  },
  {
   "cell_type": "markdown",
   "id": "fdf6feb7",
   "metadata": {},
   "source": [
    "### 사용자 정의함수를 사용해서 처리하기 "
   ]
  },
  {
   "cell_type": "code",
   "execution_count": 40,
   "id": "d3382c9a",
   "metadata": {},
   "outputs": [
    {
     "name": "stdout",
     "output_type": "stream",
     "text": [
      "[(4, 1.0), (16, 2.0), (36, 3.0), (64, 4.0), (100, 5.0)]\n"
     ]
    }
   ],
   "source": [
    "def calculate_square_and_half(x):\n",
    "    return x ** 2, x / 2\n",
    "\n",
    "numbers = [2, 4, 6, 8, 10]\n",
    "results = [calculate_square_and_half(num) for num in numbers]\n",
    "print(results)"
   ]
  },
  {
   "cell_type": "code",
   "execution_count": null,
   "id": "a47626e4",
   "metadata": {},
   "outputs": [],
   "source": []
  },
  {
   "cell_type": "code",
   "execution_count": null,
   "id": "bc2665be",
   "metadata": {},
   "outputs": [],
   "source": []
  },
  {
   "cell_type": "markdown",
   "id": "0d760620",
   "metadata": {},
   "source": [
    "## 2-7 맵리듀스 처리와 컴프리헨션 처리 비교 \n",
    "\n",
    "- 맵리듀스 처리를 컴프리헨션으로 다 처리가 되어서 실제 컴프리헨션으로 처리\n",
    "- 복잡한 경우만 맵리듀스로 처리"
   ]
  },
  {
   "cell_type": "markdown",
   "id": "fce31ef9",
   "metadata": {},
   "source": [
    "### 맵리듀스 처리 방식 \n",
    "- 맵리듀스는 특정 맵을 사용해서 원소를 변환\n",
    "- 필터를 통해서 특정 원소만 추출\n",
    "- 리듀스를 통해서 특정 값을 처리 "
   ]
  },
  {
   "cell_type": "code",
   "execution_count": null,
   "id": "36be692e",
   "metadata": {},
   "outputs": [],
   "source": []
  },
  {
   "cell_type": "markdown",
   "id": "f85dd772",
   "metadata": {},
   "source": [
    "### 2-6-1 원소 변환"
   ]
  },
  {
   "cell_type": "markdown",
   "id": "08846507",
   "metadata": {},
   "source": [
    "### map 클래스 처리\n",
    "- 특정 값을 변환 처리하기 "
   ]
  },
  {
   "cell_type": "code",
   "execution_count": 41,
   "id": "d9ea3bc6",
   "metadata": {},
   "outputs": [],
   "source": [
    "ll = [1,2,3,4,5,6]"
   ]
  },
  {
   "cell_type": "code",
   "execution_count": 42,
   "id": "e251cc5e",
   "metadata": {},
   "outputs": [
    {
     "data": {
      "text/plain": [
       "<map at 0x105245660>"
      ]
     },
     "execution_count": 42,
     "metadata": {},
     "output_type": "execute_result"
    }
   ],
   "source": [
    "map(lambda x: pow(x,2), ll)"
   ]
  },
  {
   "cell_type": "markdown",
   "id": "4fac44c5",
   "metadata": {},
   "source": [
    "### 리스트로 변환이 필요할 경우 간단히 * 기호 사용"
   ]
  },
  {
   "cell_type": "code",
   "execution_count": 43,
   "id": "3ac5d24a",
   "metadata": {},
   "outputs": [
    {
     "data": {
      "text/plain": [
       "[1, 4, 9, 16, 25, 36]"
      ]
     },
     "execution_count": 43,
     "metadata": {},
     "output_type": "execute_result"
    }
   ],
   "source": [
    "[*map(lambda x: pow(x,2), ll)]"
   ]
  },
  {
   "cell_type": "markdown",
   "id": "d729ec15",
   "metadata": {},
   "source": [
    "###  컴플리헨션 처리 "
   ]
  },
  {
   "cell_type": "code",
   "execution_count": 44,
   "id": "6c9189b8",
   "metadata": {},
   "outputs": [
    {
     "data": {
      "text/plain": [
       "[1, 4, 9, 16, 25, 36]"
      ]
     },
     "execution_count": 44,
     "metadata": {},
     "output_type": "execute_result"
    }
   ],
   "source": [
    "[pow(x,2) for x in range(1,7)]"
   ]
  },
  {
   "cell_type": "markdown",
   "id": "348b6461",
   "metadata": {},
   "source": [
    "### 2-6-2  리스트 원소를 특정 조건에 맞춰 추출"
   ]
  },
  {
   "cell_type": "markdown",
   "id": "e587657d",
   "metadata": {},
   "source": [
    "### filter 클래스로 처리"
   ]
  },
  {
   "cell_type": "code",
   "execution_count": 45,
   "id": "784b3142",
   "metadata": {},
   "outputs": [
    {
     "data": {
      "text/plain": [
       "[4, 16, 36]"
      ]
     },
     "execution_count": 45,
     "metadata": {},
     "output_type": "execute_result"
    }
   ],
   "source": [
    "[*filter(lambda x : x%2 ==0 ,[*map(lambda x: pow(x,2), ll)])]"
   ]
  },
  {
   "cell_type": "markdown",
   "id": "8a84b0ab",
   "metadata": {},
   "source": [
    "### 컴프리헨션으로 처리"
   ]
  },
  {
   "cell_type": "code",
   "execution_count": 46,
   "id": "85d9dad5",
   "metadata": {},
   "outputs": [
    {
     "data": {
      "text/plain": [
       "[4, 16, 36]"
      ]
     },
     "execution_count": 46,
     "metadata": {},
     "output_type": "execute_result"
    }
   ],
   "source": [
    "[pow(x,2) for x in range(1,7) if x %2 ==0 ]"
   ]
  },
  {
   "cell_type": "code",
   "execution_count": null,
   "id": "37d74b02",
   "metadata": {},
   "outputs": [],
   "source": []
  },
  {
   "cell_type": "code",
   "execution_count": null,
   "id": "bc5bc45d",
   "metadata": {},
   "outputs": [],
   "source": []
  },
  {
   "cell_type": "code",
   "execution_count": null,
   "id": "014672ee",
   "metadata": {},
   "outputs": [],
   "source": []
  },
  {
   "cell_type": "code",
   "execution_count": null,
   "id": "2158cec4",
   "metadata": {},
   "outputs": [],
   "source": []
  },
  {
   "cell_type": "code",
   "execution_count": null,
   "id": "d6b60637",
   "metadata": {},
   "outputs": [],
   "source": []
  },
  {
   "cell_type": "code",
   "execution_count": null,
   "id": "219307a1",
   "metadata": {},
   "outputs": [],
   "source": []
  }
 ],
 "metadata": {
  "kernelspec": {
   "display_name": "Python 3 (ipykernel)",
   "language": "python",
   "name": "python3"
  },
  "language_info": {
   "codemirror_mode": {
    "name": "ipython",
    "version": 3
   },
   "file_extension": ".py",
   "mimetype": "text/x-python",
   "name": "python",
   "nbconvert_exporter": "python",
   "pygments_lexer": "ipython3",
   "version": "3.11.3"
  }
 },
 "nbformat": 4,
 "nbformat_minor": 5
}
