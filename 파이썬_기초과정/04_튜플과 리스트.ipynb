{
 "cells": [
  {
   "cell_type": "code",
   "execution_count": 1,
   "id": "0b436b41",
   "metadata": {},
   "outputs": [
    {
     "data": {
      "text/plain": [
       "'3.11.3'"
      ]
     },
     "execution_count": 1,
     "metadata": {},
     "output_type": "execute_result"
    }
   ],
   "source": [
    "import platform\n",
    "\n",
    "platform.python_version()"
   ]
  },
  {
   "cell_type": "code",
   "execution_count": null,
   "id": "5b52b7e2",
   "metadata": {},
   "outputs": [],
   "source": []
  },
  {
   "cell_type": "code",
   "execution_count": null,
   "id": "93bf4acc",
   "metadata": {},
   "outputs": [],
   "source": []
  },
  {
   "cell_type": "code",
   "execution_count": null,
   "id": "114946ee",
   "metadata": {},
   "outputs": [],
   "source": []
  },
  {
   "cell_type": "markdown",
   "id": "f9f26f03",
   "metadata": {},
   "source": [
    "# 3. 튜플과 리스트 처리\n",
    "\n",
    "- 변경불가한 튜플과 변경가능한 리스트 \n",
    "- 배열은 별도의 모듈로 제공"
   ]
  },
  {
   "cell_type": "markdown",
   "id": "37615e1a",
   "metadata": {},
   "source": [
    "## 3-1 튜플"
   ]
  },
  {
   "cell_type": "markdown",
   "id": "19b0e516",
   "metadata": {},
   "source": [
    "## 리터럴로 바로 작성하기"
   ]
  },
  {
   "cell_type": "code",
   "execution_count": 20,
   "id": "cb45a420",
   "metadata": {},
   "outputs": [
    {
     "name": "stdout",
     "output_type": "stream",
     "text": [
      "빈튜플 ()\n",
      "한개 원소를 가진 튜플 (1,)\n"
     ]
    }
   ],
   "source": [
    "print(\"빈튜플\" ,())\n",
    "\n",
    "print(\"한개 원소를 가진 튜플\" ,(1,))"
   ]
  },
  {
   "cell_type": "code",
   "execution_count": 21,
   "id": "f853a094",
   "metadata": {},
   "outputs": [],
   "source": [
    "tt = (1,2,3,4)"
   ]
  },
  {
   "cell_type": "code",
   "execution_count": 22,
   "id": "4fe0297d",
   "metadata": {},
   "outputs": [
    {
     "data": {
      "text/plain": [
       "(1, 2, 3, 4)"
      ]
     },
     "execution_count": 22,
     "metadata": {},
     "output_type": "execute_result"
    }
   ],
   "source": [
    "tt"
   ]
  },
  {
   "cell_type": "markdown",
   "id": "49fade5d",
   "metadata": {},
   "source": [
    "## 클래스로 객체를 생성하기"
   ]
  },
  {
   "cell_type": "code",
   "execution_count": 23,
   "id": "b742aec3",
   "metadata": {},
   "outputs": [],
   "source": [
    "t = tuple([1,2,3,4])"
   ]
  },
  {
   "cell_type": "code",
   "execution_count": 24,
   "id": "d6facc85",
   "metadata": {},
   "outputs": [
    {
     "data": {
      "text/plain": [
       "(1, 2, 3, 4)"
      ]
     },
     "execution_count": 24,
     "metadata": {},
     "output_type": "execute_result"
    }
   ],
   "source": [
    "t"
   ]
  },
  {
   "cell_type": "markdown",
   "id": "95dc2435",
   "metadata": {},
   "source": [
    "## 튜플 검색 및 갱신"
   ]
  },
  {
   "cell_type": "code",
   "execution_count": 25,
   "id": "63324a14",
   "metadata": {},
   "outputs": [
    {
     "data": {
      "text/plain": [
       "1"
      ]
     },
     "execution_count": 25,
     "metadata": {},
     "output_type": "execute_result"
    }
   ],
   "source": [
    "t[0]"
   ]
  },
  {
   "cell_type": "markdown",
   "id": "f5a03159",
   "metadata": {},
   "source": [
    "## 튜플은 변경할 수 없으므로 변경하면 예외가 발생\n",
    "\n",
    "- 실제 변경할 수 있는 메서드가 없다 "
   ]
  },
  {
   "cell_type": "code",
   "execution_count": 26,
   "id": "5af02cea",
   "metadata": {},
   "outputs": [
    {
     "name": "stdout",
     "output_type": "stream",
     "text": [
      "__add__, __class__, __class_getitem__, __contains__, __delattr__, __dir__, __doc__, __eq__, __format__, __ge__, __getattribute__, __getitem__, __getnewargs__, __gt__, __hash__, __init__, __init_subclass__, __iter__, __le__, __len__, __lt__, __mul__, __ne__, __new__, __reduce__, __reduce_ex__, __repr__, __rmul__, __setattr__, __sizeof__, __str__, __subclasshook__, count, index, "
     ]
    }
   ],
   "source": [
    "for i in dir(tuple) :\n",
    "    print(i, end=', ')"
   ]
  },
  {
   "cell_type": "code",
   "execution_count": 27,
   "id": "ccd8bdd3",
   "metadata": {},
   "outputs": [
    {
     "name": "stdout",
     "output_type": "stream",
     "text": [
      "'tuple' object does not support item assignment\n"
     ]
    }
   ],
   "source": [
    "try :\n",
    "    t[0] = 100            # 튜플은 변경이 불가해서 갱신하면 예외발생 \n",
    "except Exception as e :\n",
    "    print(e)"
   ]
  },
  {
   "cell_type": "markdown",
   "id": "4b27532b",
   "metadata": {},
   "source": [
    "## 3-2 리스트"
   ]
  },
  {
   "cell_type": "code",
   "execution_count": 28,
   "id": "a7605a3a",
   "metadata": {},
   "outputs": [
    {
     "name": "stdout",
     "output_type": "stream",
     "text": [
      "__add__, __class__, __class_getitem__, __contains__, __delattr__, __delitem__, __dir__, __doc__, __eq__, __format__, __ge__, __getattribute__, __getitem__, __gt__, __hash__, __iadd__, __imul__, __init__, __init_subclass__, __iter__, __le__, __len__, __lt__, __mul__, __ne__, __new__, __reduce__, __reduce_ex__, __repr__, __reversed__, __rmul__, __setattr__, __setitem__, __sizeof__, __str__, __subclasshook__, append, clear, copy, count, extend, index, insert, pop, remove, reverse, sort, "
     ]
    }
   ],
   "source": [
    "for i in dir(list) :\n",
    "    print(i, end=', ')"
   ]
  },
  {
   "cell_type": "markdown",
   "id": "44213d1b",
   "metadata": {},
   "source": [
    "## 문자열을 사용해서  list 클래스로 객체 생성 "
   ]
  },
  {
   "cell_type": "code",
   "execution_count": 29,
   "id": "1da6603f",
   "metadata": {},
   "outputs": [],
   "source": [
    "ss = \"abcdef\""
   ]
  },
  {
   "cell_type": "code",
   "execution_count": 30,
   "id": "eed27d67",
   "metadata": {},
   "outputs": [],
   "source": [
    "lll = list(ss)"
   ]
  },
  {
   "cell_type": "code",
   "execution_count": 31,
   "id": "b74fe3c1",
   "metadata": {},
   "outputs": [
    {
     "data": {
      "text/plain": [
       "['a', 'b', 'c', 'd', 'e', 'f']"
      ]
     },
     "execution_count": 31,
     "metadata": {},
     "output_type": "execute_result"
    }
   ],
   "source": [
    "lll"
   ]
  },
  {
   "cell_type": "markdown",
   "id": "38a88413",
   "metadata": {},
   "source": [
    "## 리스트 원소/슬라이스 검색 및 갱신"
   ]
  },
  {
   "cell_type": "code",
   "execution_count": 32,
   "id": "9ef994a5",
   "metadata": {},
   "outputs": [],
   "source": [
    "lll[2] = \"abc\"                     # 원소 갱신 "
   ]
  },
  {
   "cell_type": "code",
   "execution_count": 33,
   "id": "b4cf5bc9",
   "metadata": {},
   "outputs": [
    {
     "data": {
      "text/plain": [
       "['a', 'b', 'abc', 'd', 'e', 'f']"
      ]
     },
     "execution_count": 33,
     "metadata": {},
     "output_type": "execute_result"
    }
   ],
   "source": [
    "lll"
   ]
  },
  {
   "cell_type": "code",
   "execution_count": 34,
   "id": "79329981",
   "metadata": {},
   "outputs": [
    {
     "data": {
      "text/plain": [
       "'d'"
      ]
     },
     "execution_count": 34,
     "metadata": {},
     "output_type": "execute_result"
    }
   ],
   "source": [
    "lll[3]                              # 원소 검색"
   ]
  },
  {
   "cell_type": "code",
   "execution_count": 35,
   "id": "98e5df2a",
   "metadata": {},
   "outputs": [
    {
     "data": {
      "text/plain": [
       "['b', 'abc', 'd']"
      ]
     },
     "execution_count": 35,
     "metadata": {},
     "output_type": "execute_result"
    }
   ],
   "source": [
    "lll[1:4]                            # 슬라이스 검색 "
   ]
  },
  {
   "cell_type": "code",
   "execution_count": null,
   "id": "32b5701b",
   "metadata": {},
   "outputs": [],
   "source": []
  },
  {
   "cell_type": "markdown",
   "id": "859a3812",
   "metadata": {},
   "source": [
    "## 3-3 리스트 컴프리헨션 처리"
   ]
  },
  {
   "cell_type": "markdown",
   "id": "69f2a9af",
   "metadata": {},
   "source": [
    "## 리스트의  원소 나열"
   ]
  },
  {
   "cell_type": "code",
   "execution_count": 36,
   "id": "8235d718",
   "metadata": {},
   "outputs": [],
   "source": [
    "ll = [1,2,3,4,5,6]"
   ]
  },
  {
   "cell_type": "markdown",
   "id": "48efb4e6",
   "metadata": {},
   "source": [
    "## 리스트를 특정 조건으로 원소 표시 : 컴프리헨션 표기"
   ]
  },
  {
   "cell_type": "code",
   "execution_count": 37,
   "id": "d67cbcd3",
   "metadata": {},
   "outputs": [],
   "source": [
    "llll = [x for x in range(1,7)]"
   ]
  },
  {
   "cell_type": "code",
   "execution_count": 38,
   "id": "e98540cc",
   "metadata": {},
   "outputs": [
    {
     "data": {
      "text/plain": [
       "[1, 2, 3, 4, 5, 6]"
      ]
     },
     "execution_count": 38,
     "metadata": {},
     "output_type": "execute_result"
    }
   ],
   "source": [
    "llll"
   ]
  },
  {
   "cell_type": "markdown",
   "id": "08846507",
   "metadata": {},
   "source": [
    "### map 클래스 처리"
   ]
  },
  {
   "cell_type": "code",
   "execution_count": 39,
   "id": "e251cc5e",
   "metadata": {},
   "outputs": [
    {
     "data": {
      "text/plain": [
       "<map at 0x107cc8fa0>"
      ]
     },
     "execution_count": 39,
     "metadata": {},
     "output_type": "execute_result"
    }
   ],
   "source": [
    "map(lambda x: pow(x,2), ll)"
   ]
  },
  {
   "cell_type": "code",
   "execution_count": 40,
   "id": "3ac5d24a",
   "metadata": {},
   "outputs": [
    {
     "data": {
      "text/plain": [
       "[1, 4, 9, 16, 25, 36]"
      ]
     },
     "execution_count": 40,
     "metadata": {},
     "output_type": "execute_result"
    }
   ],
   "source": [
    "[*map(lambda x: pow(x,2), ll)]"
   ]
  },
  {
   "cell_type": "markdown",
   "id": "d729ec15",
   "metadata": {},
   "source": [
    "###  컴플리헨션 처리 "
   ]
  },
  {
   "cell_type": "code",
   "execution_count": 41,
   "id": "6c9189b8",
   "metadata": {},
   "outputs": [
    {
     "data": {
      "text/plain": [
       "[1, 4, 9, 16, 25, 36]"
      ]
     },
     "execution_count": 41,
     "metadata": {},
     "output_type": "execute_result"
    }
   ],
   "source": [
    "[pow(x,2) for x in range(1,7)]"
   ]
  },
  {
   "cell_type": "markdown",
   "id": "348b6461",
   "metadata": {},
   "source": [
    "## 리스트 원소를 특정 조건에 맞춰 추출"
   ]
  },
  {
   "cell_type": "markdown",
   "id": "e587657d",
   "metadata": {},
   "source": [
    "### filter 클래스로 처리"
   ]
  },
  {
   "cell_type": "code",
   "execution_count": 42,
   "id": "784b3142",
   "metadata": {},
   "outputs": [
    {
     "data": {
      "text/plain": [
       "[4, 16, 36]"
      ]
     },
     "execution_count": 42,
     "metadata": {},
     "output_type": "execute_result"
    }
   ],
   "source": [
    "[*filter(lambda x : x%2 ==0 ,[*map(lambda x: pow(x,2), ll)])]"
   ]
  },
  {
   "cell_type": "markdown",
   "id": "8a84b0ab",
   "metadata": {},
   "source": [
    "### 컴프리헨션으로 처리"
   ]
  },
  {
   "cell_type": "code",
   "execution_count": 43,
   "id": "85d9dad5",
   "metadata": {},
   "outputs": [
    {
     "data": {
      "text/plain": [
       "[4, 16, 36]"
      ]
     },
     "execution_count": 43,
     "metadata": {},
     "output_type": "execute_result"
    }
   ],
   "source": [
    "[pow(x,2) for x in range(1,7) if x %2 ==0 ]"
   ]
  },
  {
   "cell_type": "code",
   "execution_count": null,
   "id": "cbed5bc3",
   "metadata": {},
   "outputs": [],
   "source": []
  }
 ],
 "metadata": {
  "kernelspec": {
   "display_name": "Python 3 (ipykernel)",
   "language": "python",
   "name": "python3"
  },
  "language_info": {
   "codemirror_mode": {
    "name": "ipython",
    "version": 3
   },
   "file_extension": ".py",
   "mimetype": "text/x-python",
   "name": "python",
   "nbconvert_exporter": "python",
   "pygments_lexer": "ipython3",
   "version": "3.11.3"
  }
 },
 "nbformat": 4,
 "nbformat_minor": 5
}
