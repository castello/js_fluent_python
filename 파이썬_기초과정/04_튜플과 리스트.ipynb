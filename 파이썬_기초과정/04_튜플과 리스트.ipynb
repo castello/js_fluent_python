{
 "cells": [
  {
   "cell_type": "code",
   "execution_count": 1,
   "id": "0b436b41",
   "metadata": {},
   "outputs": [
    {
     "data": {
      "text/plain": [
       "'3.11.3'"
      ]
     },
     "execution_count": 1,
     "metadata": {},
     "output_type": "execute_result"
    }
   ],
   "source": [
    "import platform\n",
    "\n",
    "platform.python_version()"
   ]
  },
  {
   "cell_type": "code",
   "execution_count": null,
   "id": "114946ee",
   "metadata": {},
   "outputs": [],
   "source": []
  },
  {
   "cell_type": "markdown",
   "id": "f9f26f03",
   "metadata": {},
   "source": [
    "# 1. 튜플\n",
    "\n",
    "- 변경불가한 튜플과 변경가능한 리스트 \n",
    "- 배열은 별도의 모듈로 제공"
   ]
  },
  {
   "cell_type": "markdown",
   "id": "37615e1a",
   "metadata": {},
   "source": [
    "## 3-1 튜플"
   ]
  },
  {
   "cell_type": "markdown",
   "id": "19b0e516",
   "metadata": {},
   "source": [
    "## 리터럴로 바로 작성하기"
   ]
  },
  {
   "cell_type": "code",
   "execution_count": 2,
   "id": "cb45a420",
   "metadata": {},
   "outputs": [],
   "source": [
    "print(\"빈튜플\" ,())\n",
    "\n",
    "print(\"한개 원소를 가진 튜플\" ,(1,))"
   ]
  },
  {
   "cell_type": "code",
   "execution_count": 3,
   "id": "f853a094",
   "metadata": {},
   "outputs": [],
   "source": [
    "tt = (1,2,3,4)"
   ]
  },
  {
   "cell_type": "code",
   "execution_count": 4,
   "id": "4fe0297d",
   "metadata": {},
   "outputs": [],
   "source": [
    "tt"
   ]
  },
  {
   "cell_type": "markdown",
   "id": "49fade5d",
   "metadata": {},
   "source": [
    "## 클래스로 객체를 생성하기"
   ]
  },
  {
   "cell_type": "code",
   "execution_count": 5,
   "id": "b742aec3",
   "metadata": {},
   "outputs": [],
   "source": [
    "t = tuple([1,2,3,4])"
   ]
  },
  {
   "cell_type": "code",
   "execution_count": 6,
   "id": "d6facc85",
   "metadata": {},
   "outputs": [],
   "source": [
    "t"
   ]
  },
  {
   "cell_type": "markdown",
   "id": "95dc2435",
   "metadata": {},
   "source": [
    "## 튜플 검색 및 갱신"
   ]
  },
  {
   "cell_type": "code",
   "execution_count": 7,
   "id": "63324a14",
   "metadata": {},
   "outputs": [],
   "source": [
    "t[0]"
   ]
  },
  {
   "cell_type": "markdown",
   "id": "f5a03159",
   "metadata": {},
   "source": [
    "## 튜플은 변경할 수 없으므로 변경하면 예외가 발생\n",
    "\n",
    "- 실제 변경할 수 있는 메서드가 없다 "
   ]
  },
  {
   "cell_type": "code",
   "execution_count": 8,
   "id": "5af02cea",
   "metadata": {},
   "outputs": [],
   "source": [
    "for i in dir(tuple) :\n",
    "    print(i, end=', ')"
   ]
  },
  {
   "cell_type": "code",
   "execution_count": 9,
   "id": "ccd8bdd3",
   "metadata": {},
   "outputs": [],
   "source": [
    "try :\n",
    "    t[0] = 100            # 튜플은 변경이 불가해서 갱신하면 예외발생 \n",
    "except Exception as e :\n",
    "    print(e)"
   ]
  },
  {
   "cell_type": "markdown",
   "id": "de97d91a",
   "metadata": {},
   "source": [
    "## 연산자 사용하기 "
   ]
  },
  {
   "cell_type": "code",
   "execution_count": null,
   "id": "433f3138",
   "metadata": {},
   "outputs": [],
   "source": []
  },
  {
   "cell_type": "code",
   "execution_count": 10,
   "id": "4949b5bc",
   "metadata": {},
   "outputs": [],
   "source": [
    "(1,2,3) + (4,5,6,7,)"
   ]
  },
  {
   "cell_type": "code",
   "execution_count": null,
   "id": "478afc8d",
   "metadata": {},
   "outputs": [],
   "source": []
  },
  {
   "cell_type": "code",
   "execution_count": null,
   "id": "c966d07a",
   "metadata": {},
   "outputs": [],
   "source": []
  },
  {
   "cell_type": "markdown",
   "id": "4b27532b",
   "metadata": {},
   "source": [
    "## 2 리스트"
   ]
  },
  {
   "cell_type": "code",
   "execution_count": null,
   "id": "e8ef0959",
   "metadata": {},
   "outputs": [],
   "source": []
  },
  {
   "cell_type": "markdown",
   "id": "6e8018da",
   "metadata": {},
   "source": [
    "##  2-1 리스트 이해하기 "
   ]
  },
  {
   "cell_type": "code",
   "execution_count": 11,
   "id": "a7605a3a",
   "metadata": {},
   "outputs": [],
   "source": [
    "for i in dir(list) :\n",
    "    print(i, end=', ')"
   ]
  },
  {
   "cell_type": "markdown",
   "id": "44213d1b",
   "metadata": {},
   "source": [
    "## 문자열을 사용해서  list 클래스로 객체 생성 "
   ]
  },
  {
   "cell_type": "code",
   "execution_count": 12,
   "id": "1da6603f",
   "metadata": {},
   "outputs": [],
   "source": [
    "ss = \"abcdef\""
   ]
  },
  {
   "cell_type": "code",
   "execution_count": 13,
   "id": "eed27d67",
   "metadata": {},
   "outputs": [],
   "source": [
    "lll = list(ss)"
   ]
  },
  {
   "cell_type": "code",
   "execution_count": 14,
   "id": "b74fe3c1",
   "metadata": {},
   "outputs": [],
   "source": [
    "lll"
   ]
  },
  {
   "cell_type": "markdown",
   "id": "38a88413",
   "metadata": {},
   "source": [
    "## 2-2 리스트 원소/슬라이스 검색 및 갱신"
   ]
  },
  {
   "cell_type": "code",
   "execution_count": 15,
   "id": "9ef994a5",
   "metadata": {},
   "outputs": [],
   "source": [
    "lll[2] = \"abc\"                     # 원소 갱신 "
   ]
  },
  {
   "cell_type": "code",
   "execution_count": 16,
   "id": "b4cf5bc9",
   "metadata": {},
   "outputs": [],
   "source": [
    "lll"
   ]
  },
  {
   "cell_type": "code",
   "execution_count": 17,
   "id": "79329981",
   "metadata": {},
   "outputs": [],
   "source": [
    "lll[3]                              # 원소 검색"
   ]
  },
  {
   "cell_type": "code",
   "execution_count": 18,
   "id": "98e5df2a",
   "metadata": {},
   "outputs": [],
   "source": [
    "lll[1:4]                            # 슬라이스 검색 "
   ]
  },
  {
   "cell_type": "code",
   "execution_count": null,
   "id": "32b5701b",
   "metadata": {},
   "outputs": [],
   "source": []
  },
  {
   "cell_type": "markdown",
   "id": "e672c0d3",
   "metadata": {},
   "source": [
    "## 연산자 사용하기"
   ]
  },
  {
   "cell_type": "code",
   "execution_count": 19,
   "id": "e25116c3",
   "metadata": {},
   "outputs": [],
   "source": [
    "[1,2,3,4] + [4,5,6,7,]"
   ]
  },
  {
   "cell_type": "code",
   "execution_count": 20,
   "id": "09617047",
   "metadata": {},
   "outputs": [],
   "source": [
    "[8] * 8"
   ]
  },
  {
   "cell_type": "code",
   "execution_count": null,
   "id": "dbf9b91c",
   "metadata": {},
   "outputs": [],
   "source": []
  },
  {
   "cell_type": "code",
   "execution_count": null,
   "id": "c2d2df94",
   "metadata": {},
   "outputs": [],
   "source": []
  },
  {
   "cell_type": "markdown",
   "id": "859a3812",
   "metadata": {},
   "source": [
    "## 2-3 리스트 컴프리헨션 처리"
   ]
  },
  {
   "cell_type": "markdown",
   "id": "69f2a9af",
   "metadata": {},
   "source": [
    "## 리스트의  원소 나열"
   ]
  },
  {
   "cell_type": "code",
   "execution_count": 21,
   "id": "8235d718",
   "metadata": {},
   "outputs": [],
   "source": [
    "ll = [1,2,3,4,5,6]"
   ]
  },
  {
   "cell_type": "markdown",
   "id": "48efb4e6",
   "metadata": {},
   "source": [
    "## 리스트를 특정 조건으로 원소 표시 : 컴프리헨션 표기"
   ]
  },
  {
   "cell_type": "code",
   "execution_count": 22,
   "id": "d67cbcd3",
   "metadata": {},
   "outputs": [],
   "source": [
    "llll = [x for x in range(1,7)]"
   ]
  },
  {
   "cell_type": "code",
   "execution_count": 23,
   "id": "e98540cc",
   "metadata": {},
   "outputs": [],
   "source": [
    "llll"
   ]
  },
  {
   "cell_type": "markdown",
   "id": "08846507",
   "metadata": {},
   "source": [
    "### map 클래스 처리"
   ]
  },
  {
   "cell_type": "code",
   "execution_count": 24,
   "id": "e251cc5e",
   "metadata": {},
   "outputs": [],
   "source": [
    "map(lambda x: pow(x,2), ll)"
   ]
  },
  {
   "cell_type": "code",
   "execution_count": 25,
   "id": "3ac5d24a",
   "metadata": {},
   "outputs": [],
   "source": [
    "[*map(lambda x: pow(x,2), ll)]"
   ]
  },
  {
   "cell_type": "markdown",
   "id": "d729ec15",
   "metadata": {},
   "source": [
    "###  컴플리헨션 처리 "
   ]
  },
  {
   "cell_type": "code",
   "execution_count": 26,
   "id": "6c9189b8",
   "metadata": {},
   "outputs": [],
   "source": [
    "[pow(x,2) for x in range(1,7)]"
   ]
  },
  {
   "cell_type": "markdown",
   "id": "348b6461",
   "metadata": {},
   "source": [
    "## 리스트 원소를 특정 조건에 맞춰 추출"
   ]
  },
  {
   "cell_type": "markdown",
   "id": "e587657d",
   "metadata": {},
   "source": [
    "### filter 클래스로 처리"
   ]
  },
  {
   "cell_type": "code",
   "execution_count": 27,
   "id": "784b3142",
   "metadata": {},
   "outputs": [],
   "source": [
    "[*filter(lambda x : x%2 ==0 ,[*map(lambda x: pow(x,2), ll)])]"
   ]
  },
  {
   "cell_type": "markdown",
   "id": "8a84b0ab",
   "metadata": {},
   "source": [
    "### 컴프리헨션으로 처리"
   ]
  },
  {
   "cell_type": "code",
   "execution_count": 28,
   "id": "85d9dad5",
   "metadata": {},
   "outputs": [],
   "source": [
    "[pow(x,2) for x in range(1,7) if x %2 ==0 ]"
   ]
  },
  {
   "cell_type": "markdown",
   "id": "e0a82f39",
   "metadata": {},
   "source": [
    "## 2-4  다양한 방식 "
   ]
  },
  {
   "cell_type": "markdown",
   "id": "a7a253df",
   "metadata": {},
   "source": [
    "### 가드처리 "
   ]
  },
  {
   "cell_type": "code",
   "execution_count": 29,
   "id": "b0920b8a",
   "metadata": {},
   "outputs": [],
   "source": [
    "numbers = [1, 2, 3, 4, 5, 6, 7, 8, 9, 10]\n",
    "even_numbers = [num for num in numbers if num % 2 == 0]\n",
    "print(even_numbers)\n"
   ]
  },
  {
   "cell_type": "code",
   "execution_count": null,
   "id": "37d74b02",
   "metadata": {},
   "outputs": [],
   "source": []
  },
  {
   "cell_type": "markdown",
   "id": "cd923f3a",
   "metadata": {},
   "source": [
    "### 내장함수 사용하기 "
   ]
  },
  {
   "cell_type": "code",
   "execution_count": 30,
   "id": "049c4c9d",
   "metadata": {},
   "outputs": [],
   "source": [
    "words = [\"apple\", \"banana\", \"cherry\", \"date\"]\n",
    "lengths = [len(word) for word in words]\n",
    "print(lengths)"
   ]
  },
  {
   "cell_type": "code",
   "execution_count": null,
   "id": "d6b60637",
   "metadata": {},
   "outputs": [],
   "source": []
  },
  {
   "cell_type": "markdown",
   "id": "40964124",
   "metadata": {},
   "source": [
    "### 리스트의 리스트를 플랫하게 만들기 "
   ]
  },
  {
   "cell_type": "code",
   "execution_count": 31,
   "id": "1c6237cd",
   "metadata": {},
   "outputs": [],
   "source": [
    "matrix = [[1, 2, 3], [4, 5, 6], [7, 8, 9]]\n",
    "flattened = [num for row in matrix for num in row]\n",
    "print(flattened)"
   ]
  },
  {
   "cell_type": "code",
   "execution_count": null,
   "id": "a2d4e5ba",
   "metadata": {},
   "outputs": [],
   "source": []
  },
  {
   "cell_type": "markdown",
   "id": "265b9021",
   "metadata": {},
   "source": [
    "### 리스트 내의 튜플을 생성하기 "
   ]
  },
  {
   "cell_type": "code",
   "execution_count": 32,
   "id": "c19375fb",
   "metadata": {},
   "outputs": [],
   "source": [
    "numbers = [1, 2, 3, 4, 5]\n",
    "squared_and_cubed = [(num, num ** 2, num ** 3) for num in numbers]\n",
    "print(squared_and_cubed)"
   ]
  },
  {
   "cell_type": "code",
   "execution_count": null,
   "id": "31fbdb33",
   "metadata": {},
   "outputs": [],
   "source": []
  },
  {
   "cell_type": "markdown",
   "id": "63735a43",
   "metadata": {},
   "source": [
    "### 사용자 정의함수를 사용해서 처리하기 "
   ]
  },
  {
   "cell_type": "code",
   "execution_count": 33,
   "id": "8b3ab5a6",
   "metadata": {},
   "outputs": [],
   "source": [
    "def calculate_square_and_half(x):\n",
    "    return x ** 2, x / 2\n",
    "\n",
    "numbers = [2, 4, 6, 8, 10]\n",
    "results = [calculate_square_and_half(num) for num in numbers]\n",
    "print(results)"
   ]
  },
  {
   "cell_type": "code",
   "execution_count": null,
   "id": "219307a1",
   "metadata": {},
   "outputs": [],
   "source": []
  }
 ],
 "metadata": {
  "kernelspec": {
   "display_name": "Python 3 (ipykernel)",
   "language": "python",
   "name": "python3"
  },
  "language_info": {
   "codemirror_mode": {
    "name": "ipython",
    "version": 3
   },
   "file_extension": ".py",
   "mimetype": "text/x-python",
   "name": "python",
   "nbconvert_exporter": "python",
   "pygments_lexer": "ipython3",
   "version": "3.11.3"
  }
 },
 "nbformat": 4,
 "nbformat_minor": 5
}
