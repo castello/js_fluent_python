{
 "cells": [
  {
   "cell_type": "code",
   "execution_count": null,
   "id": "315c594d",
   "metadata": {},
   "outputs": [],
   "source": []
  },
  {
   "cell_type": "code",
   "execution_count": null,
   "id": "dbfbbbf4",
   "metadata": {},
   "outputs": [],
   "source": []
  },
  {
   "cell_type": "code",
   "execution_count": null,
   "id": "4a646288",
   "metadata": {},
   "outputs": [],
   "source": []
  },
  {
   "cell_type": "markdown",
   "id": "963db0df",
   "metadata": {},
   "source": [
    "## 1. 함수 호출 시 인자 전달 방식\n",
    "\n",
    "- \"Call by Object Reference\" 또는 \"Pass by Object Reference\"라는 개념을 사용합니다.\n",
    "- 함수에 인자를 전달할 때, 해당 인자의 값이 복사되는 것이 아니라 해당 객체에 대한 참조(reference)가 전달됩니다. \n",
    "- 이렇게 전달된 참조를 이용하여 함수 내에서 원본 객체를 조작하거나 수정할 수 있습니다. \n",
    "- 그러나 변수 자체에 대한 재할당은 호출자에게 영향을 주지 않습니다."
   ]
  },
  {
   "cell_type": "markdown",
   "id": "d747d334",
   "metadata": {},
   "source": [
    "## 리스트는 가변이라서 기존 값을 변경 "
   ]
  },
  {
   "cell_type": "code",
   "execution_count": 2,
   "id": "f7912d4d",
   "metadata": {},
   "outputs": [
    {
     "name": "stdout",
     "output_type": "stream",
     "text": [
      "[1, 2, 3, 4]\n"
     ]
    }
   ],
   "source": [
    "def modify_list(lst):\n",
    "    lst.append(4)\n",
    "\n",
    "my_list = [1, 2, 3]\n",
    "modify_list(my_list)\n",
    "print(my_list)  # 출력: [1, 2, 3, 4]\n",
    "\n"
   ]
  },
  {
   "cell_type": "markdown",
   "id": "8e7d259b",
   "metadata": {},
   "source": [
    "## 정수는 불변이라 항상 새로운 객체 생성"
   ]
  },
  {
   "cell_type": "code",
   "execution_count": 3,
   "id": "e34088bd",
   "metadata": {},
   "outputs": [
    {
     "name": "stdout",
     "output_type": "stream",
     "text": [
      "5\n"
     ]
    }
   ],
   "source": [
    "def modify_int(x):\n",
    "    x = x + 1\n",
    "\n",
    "my_num = 5\n",
    "modify_int(my_num)\n",
    "print(my_num)   # 출력: 5"
   ]
  },
  {
   "cell_type": "code",
   "execution_count": null,
   "id": "ba867d56",
   "metadata": {},
   "outputs": [],
   "source": []
  },
  {
   "cell_type": "code",
   "execution_count": null,
   "id": "669a9d0a",
   "metadata": {},
   "outputs": [],
   "source": []
  },
  {
   "cell_type": "markdown",
   "id": "d0b3e748",
   "metadata": {},
   "source": [
    "## 2. 복사와 복제 \n",
    "\n",
    "- 파이썬에서 \"복사\"와 \"복제(clone)\"는 비슷한 의미처럼 보일 수 있지만, 실제로는 객체를 다루는 방식에 따라 차이가 있습니다. 주요 차이점은 원본 객체와 새로운 객체 사이의 관계에 있습니다.\n",
    "\n",
    "### 복사 (Copy):\n",
    "\n",
    "- 복사는 원본 객체의 내용을 그대로 가져와서 새로운 객체를 생성하는 것을 의미합니다.\n",
    "- copy 모듈의 copy() 함수나 copy.deepcopy() 함수를 사용하여 복사할 수 있습니다.\n",
    "- 복사된 객체와 원본 객체는 서로 다른 객체이며, 서로 독립적으로 변경할 수 있습니다.\n",
    "\n",
    "### 복제 (Clone):\n",
    "\n",
    "- 복제는 원본 객체와 완전히 동일한 객체를 생성하는 것을 의미합니다.\n",
    "- 원본 객체를 생성자 등을 이용하여 새로운 객체로 복제하는 것을 말합니다.\n",
    "- 복제된 객체와 원본 객체는 동일한 객체이므로 한쪽을 변경하면 다른 쪽도 변경됩니다. "
   ]
  },
  {
   "cell_type": "code",
   "execution_count": 6,
   "id": "fe8145a7",
   "metadata": {},
   "outputs": [
    {
     "name": "stdout",
     "output_type": "stream",
     "text": [
      "[1, 2, 3]\n",
      "[1, 2, 3, 4]\n",
      "[1, 2, 3]\n",
      "[1, 2, 3, 5]\n"
     ]
    }
   ],
   "source": [
    "import copy\n",
    "\n",
    "# 복사 (Copy)\n",
    "original_list = [1, 2, 3]\n",
    "shallow_copied_list = original_list.copy()  # 얕은 복사\n",
    "deep_copied_list = copy.deepcopy(original_list)  # 깊은 복사\n",
    "\n",
    "shallow_copied_list.append(4)\n",
    "print(original_list)  # 출력: [1, 2, 3]\n",
    "print(shallow_copied_list)  # 출력: [1, 2, 3, 4]\n",
    "\n",
    "deep_copied_list.append(5)\n",
    "print(original_list)  # 출력: [1, 2, 3]\n",
    "print(deep_copied_list)  # 출력: [1, 2, 3, 5]\n"
   ]
  },
  {
   "cell_type": "code",
   "execution_count": 5,
   "id": "4ba63e07",
   "metadata": {},
   "outputs": [
    {
     "name": "stdout",
     "output_type": "stream",
     "text": [
      "20\n",
      "10\n"
     ]
    }
   ],
   "source": [
    "# 복제 (Clone)\n",
    "class MyClass:\n",
    "    def __init__(self, value):\n",
    "        self.value = value\n",
    "\n",
    "original_obj = MyClass(10)\n",
    "cloned_obj = MyClass(original_obj.value)  # 복제\n",
    "\n",
    "original_obj.value = 20\n",
    "print(original_obj.value)  # 출력: 20\n",
    "print(cloned_obj.value)  # 출력: 10"
   ]
  },
  {
   "cell_type": "code",
   "execution_count": null,
   "id": "1c757db8",
   "metadata": {},
   "outputs": [],
   "source": []
  }
 ],
 "metadata": {
  "kernelspec": {
   "display_name": "Python 3 (ipykernel)",
   "language": "python",
   "name": "python3"
  },
  "language_info": {
   "codemirror_mode": {
    "name": "ipython",
    "version": 3
   },
   "file_extension": ".py",
   "mimetype": "text/x-python",
   "name": "python",
   "nbconvert_exporter": "python",
   "pygments_lexer": "ipython3",
   "version": "3.11.3"
  }
 },
 "nbformat": 4,
 "nbformat_minor": 5
}
