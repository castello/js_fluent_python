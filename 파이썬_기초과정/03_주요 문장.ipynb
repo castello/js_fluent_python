{
 "cells": [
  {
   "cell_type": "code",
   "execution_count": 1,
   "id": "a4f31929",
   "metadata": {},
   "outputs": [
    {
     "data": {
      "text/plain": [
       "'3.9.16'"
      ]
     },
     "execution_count": 1,
     "metadata": {},
     "output_type": "execute_result"
    }
   ],
   "source": [
    "import platform\n",
    "\n",
    "platform.python_version()"
   ]
  },
  {
   "cell_type": "code",
   "execution_count": null,
   "id": "3c8f091f",
   "metadata": {},
   "outputs": [],
   "source": []
  },
  {
   "cell_type": "code",
   "execution_count": null,
   "id": "64dd2305",
   "metadata": {},
   "outputs": [],
   "source": []
  },
  {
   "cell_type": "markdown",
   "id": "8379d026",
   "metadata": {},
   "source": [
    "## 1.  불리언 자료형 이해하기 \n",
    "\n",
    "### 불리언(Boolean) 자료형은 True와 False 두 개의 값 \n",
    "\n",
    "- 불리언은 조건식의 평가 결과를 나타내거나, 제어문과 논리 연산자 등에서 사용되어 프로그램의 흐름을 제어하는 데 활용됩니다.\n",
    "\n",
    "- True: 참을 나타내는 값입니다.\n",
    "- False: 거짓을 나타내는 값입니다."
   ]
  },
  {
   "cell_type": "markdown",
   "id": "884b4c2e",
   "metadata": {},
   "source": [
    "## 1-1 불리언 클래스는 정수의 하위 클래스"
   ]
  },
  {
   "cell_type": "code",
   "execution_count": 4,
   "id": "0caaabf5",
   "metadata": {},
   "outputs": [],
   "source": [
    "import numbers"
   ]
  },
  {
   "cell_type": "code",
   "execution_count": 5,
   "id": "c1fd5e38",
   "metadata": {},
   "outputs": [
    {
     "data": {
      "text/plain": [
       "[]"
      ]
     },
     "execution_count": 5,
     "metadata": {},
     "output_type": "execute_result"
    }
   ],
   "source": [
    "numbers.Integral.__subclasses__()"
   ]
  },
  {
   "cell_type": "code",
   "execution_count": 6,
   "id": "61cbfb16",
   "metadata": {},
   "outputs": [
    {
     "data": {
      "text/plain": [
       "True"
      ]
     },
     "execution_count": 6,
     "metadata": {},
     "output_type": "execute_result"
    }
   ],
   "source": [
    "issubclass(int, numbers.Integral)"
   ]
  },
  {
   "cell_type": "code",
   "execution_count": 1,
   "id": "794ef915",
   "metadata": {},
   "outputs": [
    {
     "data": {
      "text/plain": [
       "[bool, <enum 'IntEnum'>, <enum 'IntFlag'>, sre_constants._NamedIntConstant]"
      ]
     },
     "execution_count": 1,
     "metadata": {},
     "output_type": "execute_result"
    }
   ],
   "source": [
    "int.__subclasses__()             # 정수 클래스를 상속한 클래스 확인하기"
   ]
  },
  {
   "cell_type": "code",
   "execution_count": 7,
   "id": "525a5f8f",
   "metadata": {},
   "outputs": [
    {
     "data": {
      "text/plain": [
       "[bool, int, object]"
      ]
     },
     "execution_count": 7,
     "metadata": {},
     "output_type": "execute_result"
    }
   ],
   "source": [
    "bool.mro()"
   ]
  },
  {
   "cell_type": "markdown",
   "id": "523d80af",
   "metadata": {},
   "source": [
    "### 덧셈 연산으로 계산이 가능 "
   ]
  },
  {
   "cell_type": "code",
   "execution_count": 2,
   "id": "15a96b42",
   "metadata": {},
   "outputs": [
    {
     "data": {
      "text/plain": [
       "1"
      ]
     },
     "execution_count": 2,
     "metadata": {},
     "output_type": "execute_result"
    }
   ],
   "source": [
    "True + 0                         # 불리언 타입은 정수를 상속해서 True는 1로 처리 "
   ]
  },
  {
   "cell_type": "markdown",
   "id": "ca5f9c35",
   "metadata": {},
   "source": [
    "## 1-2 Falsy  \n",
    "\n",
    "- 거짓을 판다하는 기준 아무것도 없거나 빈 값을 의미\n",
    "- 그외는 모두 참으로 인식"
   ]
  },
  {
   "cell_type": "code",
   "execution_count": 11,
   "id": "a16590a0",
   "metadata": {},
   "outputs": [
    {
     "data": {
      "text/plain": [
       "['__add__',\n",
       " '__class__',\n",
       " '__contains__',\n",
       " '__delattr__',\n",
       " '__dir__',\n",
       " '__doc__',\n",
       " '__eq__',\n",
       " '__format__',\n",
       " '__ge__',\n",
       " '__getattribute__',\n",
       " '__getitem__',\n",
       " '__getnewargs__',\n",
       " '__gt__',\n",
       " '__hash__',\n",
       " '__init__',\n",
       " '__init_subclass__',\n",
       " '__iter__',\n",
       " '__le__',\n",
       " '__len__',\n",
       " '__lt__',\n",
       " '__mod__',\n",
       " '__mul__',\n",
       " '__ne__',\n",
       " '__new__',\n",
       " '__reduce__',\n",
       " '__reduce_ex__',\n",
       " '__repr__',\n",
       " '__rmod__',\n",
       " '__rmul__',\n",
       " '__setattr__',\n",
       " '__sizeof__',\n",
       " '__str__',\n",
       " '__subclasshook__',\n",
       " 'capitalize',\n",
       " 'casefold',\n",
       " 'center',\n",
       " 'count',\n",
       " 'encode',\n",
       " 'endswith',\n",
       " 'expandtabs',\n",
       " 'find',\n",
       " 'format',\n",
       " 'format_map',\n",
       " 'index',\n",
       " 'isalnum',\n",
       " 'isalpha',\n",
       " 'isascii',\n",
       " 'isdecimal',\n",
       " 'isdigit',\n",
       " 'isidentifier',\n",
       " 'islower',\n",
       " 'isnumeric',\n",
       " 'isprintable',\n",
       " 'isspace',\n",
       " 'istitle',\n",
       " 'isupper',\n",
       " 'join',\n",
       " 'ljust',\n",
       " 'lower',\n",
       " 'lstrip',\n",
       " 'maketrans',\n",
       " 'partition',\n",
       " 'removeprefix',\n",
       " 'removesuffix',\n",
       " 'replace',\n",
       " 'rfind',\n",
       " 'rindex',\n",
       " 'rjust',\n",
       " 'rpartition',\n",
       " 'rsplit',\n",
       " 'rstrip',\n",
       " 'split',\n",
       " 'splitlines',\n",
       " 'startswith',\n",
       " 'strip',\n",
       " 'swapcase',\n",
       " 'title',\n",
       " 'translate',\n",
       " 'upper',\n",
       " 'zfill']"
      ]
     },
     "execution_count": 11,
     "metadata": {},
     "output_type": "execute_result"
    }
   ],
   "source": [
    "dir(str)"
   ]
  },
  {
   "cell_type": "code",
   "execution_count": 9,
   "id": "165ce6db",
   "metadata": {},
   "outputs": [
    {
     "ename": "TypeError",
     "evalue": "unsupported operand type(s) for +: 'int' and 'str'",
     "output_type": "error",
     "traceback": [
      "\u001b[0;31m---------------------------------------------------------------------------\u001b[0m",
      "\u001b[0;31mTypeError\u001b[0m                                 Traceback (most recent call last)",
      "Cell \u001b[0;32mIn[9], line 1\u001b[0m\n\u001b[0;32m----> 1\u001b[0m \u001b[38;5;241;43m100\u001b[39;49m\u001b[43m \u001b[49m\u001b[38;5;241;43m+\u001b[39;49m\u001b[43m \u001b[49m\u001b[38;5;124;43m\"\u001b[39;49m\u001b[38;5;124;43m1\u001b[39;49m\u001b[38;5;124;43m\"\u001b[39;49m \n",
      "\u001b[0;31mTypeError\u001b[0m: unsupported operand type(s) for +: 'int' and 'str'"
     ]
    }
   ],
   "source": [
    "100 + \"1\" "
   ]
  },
  {
   "cell_type": "code",
   "execution_count": 3,
   "id": "c1e1cf1f",
   "metadata": {},
   "outputs": [
    {
     "data": {
      "text/plain": [
       "False"
      ]
     },
     "execution_count": 3,
     "metadata": {},
     "output_type": "execute_result"
    }
   ],
   "source": [
    "bool(None)                        # 블리언 클래스으로 널값을 인자로 넣어서 객체를 생성하면 False"
   ]
  },
  {
   "cell_type": "code",
   "execution_count": 4,
   "id": "936dce3a",
   "metadata": {},
   "outputs": [
    {
     "name": "stdout",
     "output_type": "stream",
     "text": [
      "False\n",
      "False\n",
      "False\n",
      "False\n",
      "False\n"
     ]
    }
   ],
   "source": [
    "print(bool(0))                    # 숫자 0 \n",
    "print(bool(\"\"))                   # 빈 문자열\n",
    "print(bool([]))                   # 빈 리스트 \n",
    "print(bool(()))                   # 빈 튜플 \n",
    "print(bool({}))                   # 빈 딕셔너리 "
   ]
  },
  {
   "cell_type": "markdown",
   "id": "c5fd9eb9",
   "metadata": {},
   "source": [
    "## 1-3 비교연산자, 논리연산자\n",
    "\n",
    "### 비교 연산자(Comparison Operators):\n",
    "\n",
    "- 비교 연산자는 두 값의 관계를 비교하고 참 또는 거짓으로 평가하는 데 사용됩니다. 다음은 파이썬에서 사용되는 주요 비교 연산자입니다:\n",
    "\n",
    "- ==: 값이 같은지 비교\n",
    "- !=: 값이 다른지 비교\n",
    "- `<`: 작은지 비교\n",
    "- `>`: 큰지 비교\n",
    "- `<=`: 작거나 같은지 비교\n",
    "- `>=`: 크거나 같은지 비교\n"
   ]
  },
  {
   "cell_type": "code",
   "execution_count": 12,
   "id": "92383ac1",
   "metadata": {},
   "outputs": [
    {
     "name": "stdout",
     "output_type": "stream",
     "text": [
      "False\n",
      "True\n",
      "True\n",
      "True\n"
     ]
    }
   ],
   "source": [
    "x = 10\n",
    "y = 5\n",
    "z = 10\n",
    "\n",
    "# 비교 연산자 사용\n",
    "print(x == y)   # False\n",
    "print(x != y)   # True\n",
    "print(x > y)    # True\n",
    "print(x <= z)   # True"
   ]
  },
  {
   "cell_type": "code",
   "execution_count": 14,
   "id": "3f9529d5",
   "metadata": {},
   "outputs": [
    {
     "data": {
      "text/plain": [
       "True"
      ]
     },
     "execution_count": 14,
     "metadata": {},
     "output_type": "execute_result"
    }
   ],
   "source": [
    "x.__eq__(y).__le__(y)"
   ]
  },
  {
   "cell_type": "code",
   "execution_count": 15,
   "id": "440cf89c",
   "metadata": {},
   "outputs": [
    {
     "data": {
      "text/plain": [
       "<method-wrapper '__eq__' of int object at 0x103116a50>"
      ]
     },
     "execution_count": 15,
     "metadata": {},
     "output_type": "execute_result"
    }
   ],
   "source": [
    "x.__eq__"
   ]
  },
  {
   "cell_type": "code",
   "execution_count": null,
   "id": "7a4337f9",
   "metadata": {},
   "outputs": [],
   "source": []
  },
  {
   "cell_type": "code",
   "execution_count": 16,
   "id": "bb9449ee",
   "metadata": {},
   "outputs": [],
   "source": [
    "import numpy as np"
   ]
  },
  {
   "cell_type": "code",
   "execution_count": 18,
   "id": "eaf53018",
   "metadata": {},
   "outputs": [],
   "source": [
    "a = np.array([1,2,3])"
   ]
  },
  {
   "cell_type": "code",
   "execution_count": 19,
   "id": "7da761f6",
   "metadata": {},
   "outputs": [
    {
     "data": {
      "text/plain": [
       "array([2, 4, 6])"
      ]
     },
     "execution_count": 19,
     "metadata": {},
     "output_type": "execute_result"
    }
   ],
   "source": [
    "a + a"
   ]
  },
  {
   "cell_type": "code",
   "execution_count": 17,
   "id": "a230154b",
   "metadata": {},
   "outputs": [
    {
     "data": {
      "text/plain": [
       "['T',\n",
       " '__abs__',\n",
       " '__add__',\n",
       " '__and__',\n",
       " '__array__',\n",
       " '__array_finalize__',\n",
       " '__array_function__',\n",
       " '__array_interface__',\n",
       " '__array_prepare__',\n",
       " '__array_priority__',\n",
       " '__array_struct__',\n",
       " '__array_ufunc__',\n",
       " '__array_wrap__',\n",
       " '__bool__',\n",
       " '__class__',\n",
       " '__complex__',\n",
       " '__contains__',\n",
       " '__copy__',\n",
       " '__deepcopy__',\n",
       " '__delattr__',\n",
       " '__delitem__',\n",
       " '__dir__',\n",
       " '__divmod__',\n",
       " '__doc__',\n",
       " '__eq__',\n",
       " '__float__',\n",
       " '__floordiv__',\n",
       " '__format__',\n",
       " '__ge__',\n",
       " '__getattribute__',\n",
       " '__getitem__',\n",
       " '__gt__',\n",
       " '__hash__',\n",
       " '__iadd__',\n",
       " '__iand__',\n",
       " '__ifloordiv__',\n",
       " '__ilshift__',\n",
       " '__imatmul__',\n",
       " '__imod__',\n",
       " '__imul__',\n",
       " '__index__',\n",
       " '__init__',\n",
       " '__init_subclass__',\n",
       " '__int__',\n",
       " '__invert__',\n",
       " '__ior__',\n",
       " '__ipow__',\n",
       " '__irshift__',\n",
       " '__isub__',\n",
       " '__iter__',\n",
       " '__itruediv__',\n",
       " '__ixor__',\n",
       " '__le__',\n",
       " '__len__',\n",
       " '__lshift__',\n",
       " '__lt__',\n",
       " '__matmul__',\n",
       " '__mod__',\n",
       " '__mul__',\n",
       " '__ne__',\n",
       " '__neg__',\n",
       " '__new__',\n",
       " '__or__',\n",
       " '__pos__',\n",
       " '__pow__',\n",
       " '__radd__',\n",
       " '__rand__',\n",
       " '__rdivmod__',\n",
       " '__reduce__',\n",
       " '__reduce_ex__',\n",
       " '__repr__',\n",
       " '__rfloordiv__',\n",
       " '__rlshift__',\n",
       " '__rmatmul__',\n",
       " '__rmod__',\n",
       " '__rmul__',\n",
       " '__ror__',\n",
       " '__rpow__',\n",
       " '__rrshift__',\n",
       " '__rshift__',\n",
       " '__rsub__',\n",
       " '__rtruediv__',\n",
       " '__rxor__',\n",
       " '__setattr__',\n",
       " '__setitem__',\n",
       " '__setstate__',\n",
       " '__sizeof__',\n",
       " '__str__',\n",
       " '__sub__',\n",
       " '__subclasshook__',\n",
       " '__truediv__',\n",
       " '__xor__',\n",
       " 'all',\n",
       " 'any',\n",
       " 'argmax',\n",
       " 'argmin',\n",
       " 'argpartition',\n",
       " 'argsort',\n",
       " 'astype',\n",
       " 'base',\n",
       " 'byteswap',\n",
       " 'choose',\n",
       " 'clip',\n",
       " 'compress',\n",
       " 'conj',\n",
       " 'conjugate',\n",
       " 'copy',\n",
       " 'ctypes',\n",
       " 'cumprod',\n",
       " 'cumsum',\n",
       " 'data',\n",
       " 'diagonal',\n",
       " 'dot',\n",
       " 'dtype',\n",
       " 'dump',\n",
       " 'dumps',\n",
       " 'fill',\n",
       " 'flags',\n",
       " 'flat',\n",
       " 'flatten',\n",
       " 'getfield',\n",
       " 'imag',\n",
       " 'item',\n",
       " 'itemset',\n",
       " 'itemsize',\n",
       " 'max',\n",
       " 'mean',\n",
       " 'min',\n",
       " 'nbytes',\n",
       " 'ndim',\n",
       " 'newbyteorder',\n",
       " 'nonzero',\n",
       " 'partition',\n",
       " 'prod',\n",
       " 'ptp',\n",
       " 'put',\n",
       " 'ravel',\n",
       " 'real',\n",
       " 'repeat',\n",
       " 'reshape',\n",
       " 'resize',\n",
       " 'round',\n",
       " 'searchsorted',\n",
       " 'setfield',\n",
       " 'setflags',\n",
       " 'shape',\n",
       " 'size',\n",
       " 'sort',\n",
       " 'squeeze',\n",
       " 'std',\n",
       " 'strides',\n",
       " 'sum',\n",
       " 'swapaxes',\n",
       " 'take',\n",
       " 'tobytes',\n",
       " 'tofile',\n",
       " 'tolist',\n",
       " 'tostring',\n",
       " 'trace',\n",
       " 'transpose',\n",
       " 'var',\n",
       " 'view']"
      ]
     },
     "execution_count": 17,
     "metadata": {},
     "output_type": "execute_result"
    }
   ],
   "source": [
    "dir(np.ndarray)"
   ]
  },
  {
   "cell_type": "markdown",
   "id": "33fa0c23",
   "metadata": {},
   "source": [
    "### 논리 연산자(Logical Operators):\n",
    "\n",
    "- 논리 연산자는 불리언 값 또는 조건식을 조합하여 새로운 불리언 값을 만드는 데 사용됩니다. 파이썬에서 사용되는 주요 논리 연산자는 다음과 같습니다:\n",
    "\n",
    "- and: 두 조건이 모두 참일 때 참\n",
    "- or: 두 조건 중 하나라도 참이면 참\n",
    "- not: 조건을 반전시킴"
   ]
  },
  {
   "cell_type": "code",
   "execution_count": 3,
   "id": "e10a5a3f",
   "metadata": {},
   "outputs": [
    {
     "name": "stdout",
     "output_type": "stream",
     "text": [
      "True\n",
      "True\n",
      "False\n"
     ]
    }
   ],
   "source": [
    "# 논리 연산자 사용\n",
    "print(x > y and y > 0)  # True\n",
    "print(x > y or z < y)   # True\n",
    "print(not (x == z))     # False"
   ]
  },
  {
   "cell_type": "code",
   "execution_count": null,
   "id": "331024b2",
   "metadata": {},
   "outputs": [],
   "source": []
  },
  {
   "cell_type": "code",
   "execution_count": null,
   "id": "800a74b6",
   "metadata": {},
   "outputs": [],
   "source": []
  },
  {
   "cell_type": "markdown",
   "id": "ddab8fb7",
   "metadata": {},
   "source": [
    "## 2  조건문 \n",
    "\n",
    "- 조건문은 프로그램의 흐름을 제어하는 데 사용되는 중요한 구문입니다. \n",
    "- 조건문은 주어진 조건에 따라 코드 블록을 실행하거나 건너뛸 수 있도록 도와줍니다. \n",
    "- 파이썬에서는 if, elif, else 키워드를 사용하여 조건문을 작성합니다."
   ]
  },
  {
   "cell_type": "code",
   "execution_count": null,
   "id": "3e97e8c8",
   "metadata": {},
   "outputs": [],
   "source": []
  },
  {
   "cell_type": "markdown",
   "id": "e99c43f2",
   "metadata": {},
   "source": [
    "### 인덴트(Indent) \n",
    "\n",
    "- 코드 블록을 구분하기 위해 사용되는 공백 문자열(들여쓰기)을 말합니다. \n",
    "- 인덴트는 파이썬의 문법 규칙 중 하나로, 코드 블록을 구성하거나 중첩된 구조를 표현하는 데 사용됩니다.\n",
    "- 인덴트는 다른 프로그래밍 언어에서 사용되는 중괄호({})를 사용하는 방식과 대조적으로, 파이썬의 고유한 문법적인 특징입니다."
   ]
  },
  {
   "cell_type": "markdown",
   "id": "e6594f53",
   "metadata": {},
   "source": [
    "## 2-1 단순 조건 \n",
    "\n",
    "- if , if else 로 처리 \n",
    "- if 와 else 다음에 블럭 구문 즉 콜록을 붙이고\n",
    "- 그 다음의 코드 블럭은 인덴트(4칸)을 띄우고 코드 작성 "
   ]
  },
  {
   "cell_type": "code",
   "execution_count": 22,
   "id": "03680208",
   "metadata": {},
   "outputs": [
    {
     "name": "stdout",
     "output_type": "stream",
     "text": [
      "참일 경우 \n",
      "aa\n"
     ]
    }
   ],
   "source": [
    "if True :                        # if 문의 조건은 항상 참이여야 함 \n",
    "    print(\"참일 경우 \")\n",
    "print(\"aa\")"
   ]
  },
  {
   "cell_type": "code",
   "execution_count": 6,
   "id": "4ca4b354",
   "metadata": {},
   "outputs": [
    {
     "name": "stdout",
     "output_type": "stream",
     "text": [
      "참일 경우 \n"
     ]
    }
   ],
   "source": [
    "if True :                        # if 문의 조건은 항상 참이여야 함 \n",
    "    print(\"참일 경우 \")\n",
    "else :\n",
    "    print(\"거짓일 경우\")"
   ]
  },
  {
   "cell_type": "markdown",
   "id": "c3d839df",
   "metadata": {},
   "source": [
    "## 2-2 복합 조건 \n",
    "\n",
    "- if elif else 로 구성해서 처리 "
   ]
  },
  {
   "cell_type": "code",
   "execution_count": 7,
   "id": "e0112a0c",
   "metadata": {},
   "outputs": [],
   "source": [
    "a = 100; b=30"
   ]
  },
  {
   "cell_type": "code",
   "execution_count": 8,
   "id": "c30fc47f",
   "metadata": {},
   "outputs": [
    {
     "name": "stdout",
     "output_type": "stream",
     "text": [
      "동일한 값일 경우\n"
     ]
    }
   ],
   "source": [
    "if a < 100  :\n",
    "    print(\"참일 경우 \")\n",
    "elif a == 100 :\n",
    "    print(\"동일한 값일 경우\")\n",
    "else :\n",
    "    print(\"거짓일 경우\")"
   ]
  },
  {
   "cell_type": "markdown",
   "id": "b76b1f92",
   "metadata": {},
   "source": [
    "## 2-3  내포된 if 문 처리 \n",
    "\n",
    "- if 내부에 if else 등이 존재 "
   ]
  },
  {
   "cell_type": "code",
   "execution_count": 9,
   "id": "a76e6efb",
   "metadata": {},
   "outputs": [
    {
     "name": "stdout",
     "output_type": "stream",
     "text": [
      "참일 경우\n",
      "내포된 거짓 경우 \n"
     ]
    }
   ],
   "source": [
    "if b > 10  :\n",
    "    print(\"참일 경우\")\n",
    "    if  b > 30 : \n",
    "        print(\"내포된 참일 경우 \")\n",
    "    else : \n",
    "        print(\"내포된 거짓 경우 \")\n",
    "else :\n",
    "    print(\"거짓일 경우\")"
   ]
  },
  {
   "cell_type": "markdown",
   "id": "ef402d86",
   "metadata": {},
   "source": [
    "## 3-4 삼항연산 처리 \n",
    "\n",
    "- if else 를 구문 블럭없이 처리하기"
   ]
  },
  {
   "cell_type": "code",
   "execution_count": 10,
   "id": "07637c79",
   "metadata": {},
   "outputs": [],
   "source": [
    "m = 10\n",
    "n = 20\n",
    "x = 5"
   ]
  },
  {
   "cell_type": "code",
   "execution_count": 11,
   "id": "dbcc6e47",
   "metadata": {},
   "outputs": [
    {
     "name": "stdout",
     "output_type": "stream",
     "text": [
      "20\n"
     ]
    }
   ],
   "source": [
    "print(n) if (m) else x          # if 문의 조건이 참인 경우는 if 문 앞에 작성해야 함 "
   ]
  },
  {
   "cell_type": "code",
   "execution_count": 23,
   "id": "93df89ed",
   "metadata": {},
   "outputs": [],
   "source": [
    "def add(x,y) :\n",
    "    return x + y"
   ]
  },
  {
   "cell_type": "code",
   "execution_count": 26,
   "id": "04ae3c0c",
   "metadata": {},
   "outputs": [],
   "source": [
    "dd = {1:add}"
   ]
  },
  {
   "cell_type": "code",
   "execution_count": 27,
   "id": "265a068d",
   "metadata": {},
   "outputs": [
    {
     "data": {
      "text/plain": [
       "<function __main__.add(x, y)>"
      ]
     },
     "execution_count": 27,
     "metadata": {},
     "output_type": "execute_result"
    }
   ],
   "source": [
    "dd[1]"
   ]
  },
  {
   "cell_type": "code",
   "execution_count": null,
   "id": "d74fd95d",
   "metadata": {},
   "outputs": [],
   "source": []
  },
  {
   "cell_type": "markdown",
   "id": "996c3a61",
   "metadata": {},
   "source": [
    "## 2-5 Walrus 연산자(:=) \n",
    "\n",
    "- 파이썬 3.8부터 도입된 연산자로, 표현식 내에서 변수에 값을 할당하고 동시에 해당 표현식을 평가하는 기능을 제공합니다.\n",
    "- 이를 통해 코드를 더 간결하게 작성하고 가독성을 높일 수 있습니다."
   ]
  },
  {
   "cell_type": "code",
   "execution_count": null,
   "id": "bd80bb56",
   "metadata": {},
   "outputs": [],
   "source": []
  },
  {
   "cell_type": "code",
   "execution_count": null,
   "id": "6725e0ac",
   "metadata": {},
   "outputs": [],
   "source": [
    "while True:\n",
    "    text = input(\"문자열 입력( 종료를 입력하면 순환 중단 ): \")\n",
    "    \n",
    "    # 입력한 문자열의 길이가 3인 경우에만 출력\n",
    "    if (length := len(text)) == 3:\n",
    "        print(f\"입력된 문자열은 '{text}' 길이가 3이다.\")\n",
    "    elif text == '종료':\n",
    "        break\n",
    "    else:\n",
    "        print(f\"입력된 문자열은 '{text}' 길이가 3이 아니다.\")\n"
   ]
  },
  {
   "cell_type": "code",
   "execution_count": 29,
   "id": "c94a3be1",
   "metadata": {},
   "outputs": [
    {
     "data": {
      "text/plain": [
       "2"
      ]
     },
     "execution_count": 29,
     "metadata": {},
     "output_type": "execute_result"
    }
   ],
   "source": [
    "length\n"
   ]
  },
  {
   "cell_type": "markdown",
   "id": "364347b3",
   "metadata": {},
   "source": [
    "# 3. 순환문 \n",
    "\n",
    "-  for 과 while 문 \n",
    "-  여러 원소를 가진 객체를 순환하는 for 문\n",
    "-  조건식이 참일 경우 처리하는 whiel 문"
   ]
  },
  {
   "cell_type": "markdown",
   "id": "8721aa77",
   "metadata": {},
   "source": [
    "## 3-1 for\n",
    "- 반복자 등의 여러 원소를 가진 객체를 하나씩 순환해서 처리 "
   ]
  },
  {
   "cell_type": "markdown",
   "id": "208c03f3",
   "metadata": {},
   "source": [
    "## 3-1-1 범위 객체\n",
    "\n",
    "- range로 범위를 생성\n",
    "- 범위의 인자는 첫번째는 start, 두번째 stop , 세번째는 step 이다.\n",
    "- 두번째는 포함되지 않고 항상 -1 만큼만 포함한다  "
   ]
  },
  {
   "cell_type": "code",
   "execution_count": 2,
   "id": "73ba7dc4",
   "metadata": {},
   "outputs": [],
   "source": [
    "import collections.abc as abc"
   ]
  },
  {
   "cell_type": "code",
   "execution_count": 5,
   "id": "7a1eb6e2",
   "metadata": {},
   "outputs": [
    {
     "data": {
      "text/plain": [
       "(collections.abc.Iterable, collections.abc.Iterator)"
      ]
     },
     "execution_count": 5,
     "metadata": {},
     "output_type": "execute_result"
    }
   ],
   "source": [
    "abc.Iterable, abc.Iterator"
   ]
  },
  {
   "cell_type": "code",
   "execution_count": 6,
   "id": "5b2152bf",
   "metadata": {},
   "outputs": [
    {
     "data": {
      "text/plain": [
       "True"
      ]
     },
     "execution_count": 6,
     "metadata": {},
     "output_type": "execute_result"
    }
   ],
   "source": [
    "issubclass(str, abc.Iterable)"
   ]
  },
  {
   "cell_type": "code",
   "execution_count": 7,
   "id": "a738b003",
   "metadata": {},
   "outputs": [
    {
     "data": {
      "text/plain": [
       "True"
      ]
     },
     "execution_count": 7,
     "metadata": {},
     "output_type": "execute_result"
    }
   ],
   "source": [
    "issubclass(range, abc.Iterable)"
   ]
  },
  {
   "cell_type": "code",
   "execution_count": 10,
   "id": "551ed42b",
   "metadata": {},
   "outputs": [
    {
     "data": {
      "text/plain": [
       "4"
      ]
     },
     "execution_count": 10,
     "metadata": {},
     "output_type": "execute_result"
    }
   ],
   "source": [
    "sum([1,1,2])"
   ]
  },
  {
   "cell_type": "code",
   "execution_count": 8,
   "id": "10bfa493",
   "metadata": {},
   "outputs": [
    {
     "name": "stdout",
     "output_type": "stream",
     "text": [
      "Help on built-in function sum in module builtins:\n",
      "\n",
      "sum(iterable, /, start=0)\n",
      "    Return the sum of a 'start' value (default: 0) plus an iterable of numbers\n",
      "    \n",
      "    When the iterable is empty, return the start value.\n",
      "    This function is intended specifically for use with numeric values and may\n",
      "    reject non-numeric types.\n",
      "\n"
     ]
    }
   ],
   "source": [
    "help(sum)"
   ]
  },
  {
   "cell_type": "code",
   "execution_count": null,
   "id": "d048b417",
   "metadata": {},
   "outputs": [],
   "source": []
  },
  {
   "cell_type": "code",
   "execution_count": 11,
   "id": "60398cf8",
   "metadata": {},
   "outputs": [],
   "source": [
    "r = range(1,5)                 # 범위는 range 클래스의 객체를 생성 첫번째는 시작, 두번째는 종료(실제 적용값은 종료 -1) "
   ]
  },
  {
   "cell_type": "code",
   "execution_count": 12,
   "id": "639dcbaa",
   "metadata": {},
   "outputs": [
    {
     "data": {
      "text/plain": [
       "(1, 5, 1)"
      ]
     },
     "execution_count": 12,
     "metadata": {},
     "output_type": "execute_result"
    }
   ],
   "source": [
    "r.start,r.stop, r.step"
   ]
  },
  {
   "cell_type": "markdown",
   "id": "bfac1a83",
   "metadata": {},
   "source": [
    "###  범위 처리 순환"
   ]
  },
  {
   "cell_type": "code",
   "execution_count": 14,
   "id": "a213b490",
   "metadata": {},
   "outputs": [
    {
     "data": {
      "text/plain": [
       "<str_iterator at 0x1042a4b50>"
      ]
     },
     "execution_count": 14,
     "metadata": {},
     "output_type": "execute_result"
    }
   ],
   "source": [
    "iter(\"가나다\")"
   ]
  },
  {
   "cell_type": "code",
   "execution_count": 15,
   "id": "bd862e6f",
   "metadata": {},
   "outputs": [
    {
     "data": {
      "text/plain": [
       "<list_iterator at 0x1037f5520>"
      ]
     },
     "execution_count": 15,
     "metadata": {},
     "output_type": "execute_result"
    }
   ],
   "source": [
    "iter([1,2,3])"
   ]
  },
  {
   "cell_type": "code",
   "execution_count": 13,
   "id": "647b3641",
   "metadata": {},
   "outputs": [
    {
     "data": {
      "text/plain": [
       "<range_iterator at 0x104322210>"
      ]
     },
     "execution_count": 13,
     "metadata": {},
     "output_type": "execute_result"
    }
   ],
   "source": [
    "iter(r)"
   ]
  },
  {
   "cell_type": "code",
   "execution_count": 14,
   "id": "1120b914",
   "metadata": {},
   "outputs": [
    {
     "name": "stdout",
     "output_type": "stream",
     "text": [
      "1\n",
      "2\n",
      "3\n",
      "4\n"
     ]
    }
   ],
   "source": [
    "for r in range(1,5)  :         ## for 문의 in 다음에는 iterable 즉 반복이 가능한 여러 원소를 가진 객체를 넣는다 \n",
    "    print(r)"
   ]
  },
  {
   "cell_type": "markdown",
   "id": "ec46ee9d",
   "metadata": {},
   "source": [
    "## 3-1-2 리스트 순환\n",
    "\n",
    "- 여러 원소를 가진 리스트나 문자열, 튜플을 순환해서 처리 "
   ]
  },
  {
   "cell_type": "code",
   "execution_count": null,
   "id": "6a85c7d8",
   "metadata": {},
   "outputs": [],
   "source": []
  },
  {
   "cell_type": "code",
   "execution_count": 25,
   "id": "217edeb9",
   "metadata": {},
   "outputs": [],
   "source": [
    "def __init__(self,name) :\n",
    "    self.name = name"
   ]
  },
  {
   "cell_type": "code",
   "execution_count": 26,
   "id": "a2f42a1a",
   "metadata": {},
   "outputs": [],
   "source": [
    "class Klass :\n",
    "    __init__ = __init__"
   ]
  },
  {
   "cell_type": "code",
   "execution_count": 27,
   "id": "19eba946",
   "metadata": {},
   "outputs": [
    {
     "data": {
      "text/plain": [
       "mappingproxy({'__module__': '__main__',\n",
       "              '__init__': <function __main__.__init__(self, name)>,\n",
       "              '__dict__': <attribute '__dict__' of 'Klass' objects>,\n",
       "              '__weakref__': <attribute '__weakref__' of 'Klass' objects>,\n",
       "              '__doc__': None})"
      ]
     },
     "execution_count": 27,
     "metadata": {},
     "output_type": "execute_result"
    }
   ],
   "source": [
    "Klass.__dict__"
   ]
  },
  {
   "cell_type": "code",
   "execution_count": 28,
   "id": "e8182d77",
   "metadata": {},
   "outputs": [
    {
     "data": {
      "text/plain": [
       "{'name': '가을이'}"
      ]
     },
     "execution_count": 28,
     "metadata": {},
     "output_type": "execute_result"
    }
   ],
   "source": [
    "Klass(\"가을이\").__dict__"
   ]
  },
  {
   "cell_type": "code",
   "execution_count": null,
   "id": "1c83edc4",
   "metadata": {},
   "outputs": [],
   "source": []
  },
  {
   "cell_type": "code",
   "execution_count": 22,
   "id": "2571d264",
   "metadata": {},
   "outputs": [],
   "source": [
    "import numpy as np"
   ]
  },
  {
   "cell_type": "code",
   "execution_count": 24,
   "id": "41252e70",
   "metadata": {},
   "outputs": [
    {
     "data": {
      "text/plain": [
       "numpy.ufunc"
      ]
     },
     "execution_count": 24,
     "metadata": {},
     "output_type": "execute_result"
    }
   ],
   "source": [
    "type(np.add)"
   ]
  },
  {
   "cell_type": "code",
   "execution_count": 23,
   "id": "3f301109",
   "metadata": {},
   "outputs": [
    {
     "data": {
      "text/plain": [
       "wrapper_descriptor"
      ]
     },
     "execution_count": 23,
     "metadata": {},
     "output_type": "execute_result"
    }
   ],
   "source": [
    "type(np.ndarray.__add__)"
   ]
  },
  {
   "cell_type": "code",
   "execution_count": null,
   "id": "c11dd14e",
   "metadata": {},
   "outputs": [],
   "source": []
  },
  {
   "cell_type": "code",
   "execution_count": 20,
   "id": "9e24f82d",
   "metadata": {},
   "outputs": [],
   "source": [
    "import array"
   ]
  },
  {
   "cell_type": "code",
   "execution_count": 21,
   "id": "84523cc6",
   "metadata": {},
   "outputs": [
    {
     "data": {
      "text/plain": [
       "['ArrayType',\n",
       " '__doc__',\n",
       " '__file__',\n",
       " '__loader__',\n",
       " '__name__',\n",
       " '__package__',\n",
       " '__spec__',\n",
       " '_array_reconstructor',\n",
       " 'array',\n",
       " 'typecodes']"
      ]
     },
     "execution_count": 21,
     "metadata": {},
     "output_type": "execute_result"
    }
   ],
   "source": [
    "dir(array)"
   ]
  },
  {
   "cell_type": "code",
   "execution_count": 16,
   "id": "c0a724f8",
   "metadata": {},
   "outputs": [],
   "source": [
    "ll = [1,1,1,1,]               # 리스트 리터럴은 대괄호 사이에 원소값을 나열해서 지정한다. "
   ]
  },
  {
   "cell_type": "code",
   "execution_count": 17,
   "id": "76ca5f99",
   "metadata": {},
   "outputs": [
    {
     "name": "stdout",
     "output_type": "stream",
     "text": [
      "1\n",
      "1\n",
      "1\n",
      "1\n"
     ]
    }
   ],
   "source": [
    "for l in ll :\n",
    "    print(l)"
   ]
  },
  {
   "cell_type": "markdown",
   "id": "89b52c77",
   "metadata": {},
   "source": [
    "### 인덱스와 값을 순환해서 처리\n",
    "- enumerate를 사용하면 반환값이 인덱스와 값을 가진 튜플을 반환"
   ]
  },
  {
   "cell_type": "code",
   "execution_count": 19,
   "id": "d0ab2af6",
   "metadata": {},
   "outputs": [
    {
     "name": "stdout",
     "output_type": "stream",
     "text": [
      "0 1\n",
      "1 1\n",
      "2 1\n",
      "3 1\n"
     ]
    }
   ],
   "source": [
    "for i,v in enumerate(ll) :\n",
    "    print(i,v)"
   ]
  },
  {
   "cell_type": "markdown",
   "id": "fe0d16a7",
   "metadata": {},
   "source": [
    "## 3-1-3 딕셔너리 순환 \n",
    "\n",
    "- 딕셔너리의 원소 순환일 경우 키를 기준으로만 순환한다. "
   ]
  },
  {
   "cell_type": "code",
   "execution_count": 5,
   "id": "ef0b1418",
   "metadata": {},
   "outputs": [],
   "source": [
    "dd = {'a': 100, 'b': 200}  "
   ]
  },
  {
   "cell_type": "code",
   "execution_count": 7,
   "id": "85fb394c",
   "metadata": {},
   "outputs": [
    {
     "name": "stdout",
     "output_type": "stream",
     "text": [
      "a\n",
      "b\n"
     ]
    }
   ],
   "source": [
    "for d in dd :\n",
    "    print(d)"
   ]
  },
  {
   "cell_type": "code",
   "execution_count": null,
   "id": "cc1a8805",
   "metadata": {},
   "outputs": [],
   "source": []
  },
  {
   "cell_type": "markdown",
   "id": "9c052f86",
   "metadata": {},
   "source": [
    "## 3-1-4 else 작성 \n",
    "\n",
    "- 파이썬의 for 루프에는 else 절을 사용할 수 있습니다. \n",
    "- 이 else 절은 for 루프가 모든 반복을 완료한 후에 실행되며, 다음과 같은 경우에 활용\n",
    "\n",
    "### else 문을 작성할 경우\n",
    "- for 루프가 정상적으로 모든 반복을 완료한 경우에 추가적인 작업을 수행하고자 할 때.\n",
    "- for 루프 안에서 break 문을 사용하여 루프를 중단하지 않은 경우에 추가 작업을 수행하고자 할 때."
   ]
  },
  {
   "cell_type": "markdown",
   "id": "a41afd87",
   "metadata": {},
   "source": [
    "### 정상적인 경우 추가적인 출력을 수행"
   ]
  },
  {
   "cell_type": "code",
   "execution_count": 14,
   "id": "1a35cfe1",
   "metadata": {},
   "outputs": [
    {
     "name": "stdout",
     "output_type": "stream",
     "text": [
      "a\n",
      "b\n",
      "else 처리\n"
     ]
    }
   ],
   "source": [
    "for d in dd :\n",
    "    print(d)\n",
    "else :\n",
    "    print(\"else 처리\")"
   ]
  },
  {
   "cell_type": "markdown",
   "id": "2c5d07bf",
   "metadata": {},
   "source": [
    "### 중산이 발생하면 else 문 실행이 안됨 "
   ]
  },
  {
   "cell_type": "code",
   "execution_count": 15,
   "id": "a0447dd1",
   "metadata": {},
   "outputs": [
    {
     "name": "stdout",
     "output_type": "stream",
     "text": [
      "a\n"
     ]
    }
   ],
   "source": [
    "for d in dd :\n",
    "    print(d)\n",
    "    break\n",
    "else :\n",
    "    print(\"else 처리\")"
   ]
  },
  {
   "cell_type": "markdown",
   "id": "2b7bbfc3",
   "metadata": {},
   "source": [
    "### continue는 break가 아니라서 esle문 처리 "
   ]
  },
  {
   "cell_type": "code",
   "execution_count": 16,
   "id": "788c704c",
   "metadata": {},
   "outputs": [
    {
     "name": "stdout",
     "output_type": "stream",
     "text": [
      "a\n",
      "b\n",
      "else 처리\n"
     ]
    }
   ],
   "source": [
    "for d in dd :\n",
    "    print(d)\n",
    "    continue\n",
    "else :\n",
    "    print(\"else 처리\")"
   ]
  },
  {
   "cell_type": "code",
   "execution_count": null,
   "id": "9c0c8221",
   "metadata": {},
   "outputs": [],
   "source": []
  },
  {
   "cell_type": "markdown",
   "id": "aba4b0d0",
   "metadata": {},
   "source": [
    "## 3-2 while \n",
    "\n",
    "- 조건식에 맞춰서 순환작업을 처리한다. \n"
   ]
  },
  {
   "cell_type": "markdown",
   "id": "cfda8978",
   "metadata": {},
   "source": [
    "## 3-2-1조건식으로 순환 처리"
   ]
  },
  {
   "cell_type": "code",
   "execution_count": 17,
   "id": "d073e3a0",
   "metadata": {},
   "outputs": [],
   "source": [
    "liter = iter(ll)                 # iterator는 동적으로 처리하므로 한번 사용하면 원소가 다 없어진다. \n",
    "                                 # 그래서 계속사용하려면 반복자 객체를 다시 생셩"
   ]
  },
  {
   "cell_type": "code",
   "execution_count": 18,
   "id": "6b4d80a0",
   "metadata": {},
   "outputs": [
    {
     "name": "stdout",
     "output_type": "stream",
     "text": [
      "1\n",
      "2\n",
      "3\n",
      "4\n"
     ]
    }
   ],
   "source": [
    "xx = next(liter)\n",
    "while xx :                       # 리스트를 조건에 맞게 순환하기 위히 반복자로 변경해서 처리 \n",
    "    print(xx)\n",
    "    xx = next(liter, None)\n",
    "    "
   ]
  },
  {
   "cell_type": "markdown",
   "id": "801f6024",
   "metadata": {},
   "source": [
    "## 3-2-2 앞에서 반복자 리스트를 다 사용\n",
    "\n",
    "- 반복자를 더 사용할 수 없음 "
   ]
  },
  {
   "cell_type": "code",
   "execution_count": 12,
   "id": "cf9ae3c5",
   "metadata": {},
   "outputs": [
    {
     "name": "stdout",
     "output_type": "stream",
     "text": [
      "StopIterator 원소를 다 소진함 \n"
     ]
    }
   ],
   "source": [
    "try :\n",
    "    next(liter)\n",
    "except Exception as e :\n",
    "    print(\"StopIterator 원소를 다 소진함 \")"
   ]
  },
  {
   "cell_type": "markdown",
   "id": "b07ae65a",
   "metadata": {},
   "source": [
    "## 3-2-3 브레이크가 발생하지 않을 경우 else 절이 필요\n",
    "- break 처리가 없는 경우 구별이 가능 "
   ]
  },
  {
   "cell_type": "code",
   "execution_count": 17,
   "id": "ebbeda4c",
   "metadata": {},
   "outputs": [
    {
     "name": "stdout",
     "output_type": "stream",
     "text": [
      "Current number: 0\n",
      "Current number: 1\n",
      "Current number: 2\n",
      "Current number: 3\n",
      "Current number: 4\n",
      "Loop finished.\n"
     ]
    }
   ],
   "source": [
    "num = 0\n",
    "\n",
    "while num < 5:\n",
    "    print(\"Current number:\", num)\n",
    "    num += 1\n",
    "else:\n",
    "    print(\"Loop finished.\")"
   ]
  },
  {
   "cell_type": "code",
   "execution_count": null,
   "id": "3f57500b",
   "metadata": {},
   "outputs": [],
   "source": []
  },
  {
   "cell_type": "markdown",
   "id": "f9f26f03",
   "metadata": {},
   "source": [
    "# 4. 매치 처리하기 \n",
    "\n",
    "- 파이썬 3.10부터는 match 문이 도입되어 switch 문과 유사한 동작을 수행할 수 있게 되었습니다.\n",
    "- match 문은 여러 값 또는 패턴과 매칭하여 해당하는 블록을 실행하는 기능을 제공하는 조건문입니다.\n",
    "- match 문은 다양한 경우에 따라 실행 코드를 구조화하고 간결하게 작성할 수 있는 유용한 기능입니다."
   ]
  },
  {
   "cell_type": "markdown",
   "id": "4abd3abb",
   "metadata": {},
   "source": [
    "## 4-1 복합 조건문 처리 \n",
    "\n",
    "- 특정 조건에 성립하는 것을 불리언으로 체크하지만 실제 값으로 판단"
   ]
  },
  {
   "cell_type": "code",
   "execution_count": 2,
   "id": "70b0326d",
   "metadata": {},
   "outputs": [
    {
     "name": "stdout",
     "output_type": "stream",
     "text": [
      "Wednesday\n"
     ]
    }
   ],
   "source": [
    "def get_day_name(day_number):\n",
    "    if day_number == 1:\n",
    "        return \"Monday\"\n",
    "    elif day_number == 2:\n",
    "        return \"Tuesday\"\n",
    "    elif day_number == 3:\n",
    "        return \"Wednesday\"\n",
    "    elif day_number == 4:\n",
    "        return \"Thursday\"\n",
    "    elif day_number == 5:\n",
    "        return \"Friday\"\n",
    "    elif day_number == 6:\n",
    "        return \"Saturday\"\n",
    "    elif day_number == 7:\n",
    "        return \"Sunday\"\n",
    "    else:\n",
    "        return \"Invalid day number\"\n",
    "\n",
    "day_number = 3\n",
    "day_name = get_day_name(day_number)\n",
    "print(day_name)\n"
   ]
  },
  {
   "cell_type": "markdown",
   "id": "569829cd",
   "metadata": {},
   "source": [
    "## 4-2 매치문 처리 \n",
    "\n",
    "- 파이썬 3.10 버전부터 도입 \n",
    "- 매치문(Match Statement)은 조건문의 확장으로, 더 간결하고 가독성 있는 코드를 작성하도록 도와주는 기능\n",
    "- 매치문은 주어진 값을 여러 패턴과 비교하고, 해당하는 패턴에 따라 코드 블록을 실행하는 데 사용\n",
    "- 다양한 종류의 값을 패턴으로 분기하여 처리하기에 유용"
   ]
  },
  {
   "cell_type": "markdown",
   "id": "b20e6263",
   "metadata": {},
   "source": [
    "##  4-2-1 상수(Constant) 패턴, 리터럴 패턴 \n",
    "\n",
    "- 특정 상수 값에 매칭됩니다.\n",
    "- 예: case \"hello\", 또는 case 0 :  등 "
   ]
  },
  {
   "cell_type": "markdown",
   "id": "beba8e7e",
   "metadata": {},
   "source": [
    "### 특정값을 매칭처리 \n",
    "\n",
    "-  match 예약어 다음에 match 될 변수 지정\n",
    "- case 별로 적용이 가능한 경우를 지정하고 : 다음에 코드 블럭을 만듬 \n",
    "- 모든 경우는 _ 로 지정 "
   ]
  },
  {
   "cell_type": "code",
   "execution_count": 18,
   "id": "e0a97b96",
   "metadata": {},
   "outputs": [],
   "source": [
    "value = \"Hello\""
   ]
  },
  {
   "cell_type": "code",
   "execution_count": 19,
   "id": "4ab2d75c",
   "metadata": {},
   "outputs": [
    {
     "name": "stdout",
     "output_type": "stream",
     "text": [
      "Hello\n"
     ]
    }
   ],
   "source": [
    "match value:\n",
    "    case 'hello':          \n",
    "        print(value)\n",
    "    case \"Hello\":          \n",
    "        print(value)\n",
    "    case _:  \n",
    "        print('미스매칭')"
   ]
  },
  {
   "cell_type": "markdown",
   "id": "7c9f70fa",
   "metadata": {},
   "source": [
    "### 함수의 매개변수의 값을 매칭 처리\n",
    "\n",
    "-  특정 함수 내에 매개변수를 받아서 처리하는 경우에 많이 사용 "
   ]
  },
  {
   "cell_type": "code",
   "execution_count": 3,
   "id": "2e50bff0",
   "metadata": {},
   "outputs": [
    {
     "name": "stdout",
     "output_type": "stream",
     "text": [
      "Wednesday\n"
     ]
    }
   ],
   "source": [
    "def get_day_name(day_number):\n",
    "    match day_number:\n",
    "        case 1:\n",
    "            return \"Monday\"\n",
    "        case 2:\n",
    "            return \"Tuesday\"\n",
    "        case 3:\n",
    "            return \"Wednesday\"\n",
    "        case 4:\n",
    "            return \"Thursday\"\n",
    "        case 5:\n",
    "            return \"Friday\"\n",
    "        case 6:\n",
    "            return \"Saturday\"\n",
    "        case 7:\n",
    "            return \"Sunday\"\n",
    "        case _:\n",
    "            return \"Invalid day number\"\n",
    "\n",
    "day_number = 3\n",
    "day_name = get_day_name(day_number)\n",
    "print(day_name)\n"
   ]
  },
  {
   "cell_type": "markdown",
   "id": "7f91d58a",
   "metadata": {},
   "source": [
    "## 4-2-2 값에 대한 패턴 매칭 "
   ]
  },
  {
   "cell_type": "markdown",
   "id": "f914f395",
   "metadata": {},
   "source": [
    "\n",
    "\n",
    "### 변수(Variable) 패턴:\n",
    "\n",
    "- 변수에 매칭된 값을 바인딩합니다.\n",
    "- 예: case x:\n",
    "\n",
    "        \n",
    "### 와일드카드(Wildcard) 패턴:\n",
    "\n",
    "- 어떤 값에도 매칭되며, 일반적으로 사용되지 않는 값을 무시할 때 사용됩니다.\n",
    "- 예: case _:\n",
    "\n",
    "\n"
   ]
  },
  {
   "cell_type": "markdown",
   "id": "b1642458",
   "metadata": {},
   "source": [
    "### 리스트 내의 값과 포괄적인 값을 기준으로 처리하기 "
   ]
  },
  {
   "cell_type": "code",
   "execution_count": 23,
   "id": "aaf34bf1",
   "metadata": {},
   "outputs": [
    {
     "name": "stdout",
     "output_type": "stream",
     "text": [
      "처리중\n",
      "처리중\n",
      "처리중\n",
      "처리중\n",
      "변수 패턴 5 \n"
     ]
    }
   ],
   "source": [
    "def last(l: list[int]) -> int:\n",
    "    match l:\n",
    "        case []:\n",
    "            raise ValueError(\"It's empty\")\n",
    "        case [x]:                            ## 특정 변수 처리\n",
    "            return f\"변수 패턴 {x} \"\n",
    "        case [x, *xs]:                       ## 특정 변수 처리 \n",
    "            print(\"처리중\")\n",
    "            return last(xs)\n",
    "        case _:                              ## 와일드 카드 처리 \n",
    "            return \"와일드카드 \"\n",
    "        \n",
    "print(last([1,2,3,4,5]))                      # 5"
   ]
  },
  {
   "cell_type": "code",
   "execution_count": null,
   "id": "c1530cef",
   "metadata": {},
   "outputs": [],
   "source": []
  },
  {
   "cell_type": "markdown",
   "id": "246f4663",
   "metadata": {},
   "source": [
    "### 4-2-3 여러 값중에 선택하기 \n",
    "\n",
    "### 패턴 매칭 OR 조건(OR 조건(OR Condition) 패턴):\n",
    "\n",
    "- 여러 개의 패턴 중 하나에 매칭되는 경우를 처리합니다.\n",
    "- 예: case 0 | 1 | 2:"
   ]
  },
  {
   "cell_type": "code",
   "execution_count": 24,
   "id": "8cf22487",
   "metadata": {},
   "outputs": [
    {
     "name": "stdout",
     "output_type": "stream",
     "text": [
      "Child\n"
     ]
    }
   ],
   "source": [
    "def classify_age(age):\n",
    "    match age:\n",
    "        case 0 | 1:\n",
    "            return \"Infant\"\n",
    "        case 2 | 3 | 4:\n",
    "            return \"Toddler\"\n",
    "        case 5 | 6 | 7 | 8:\n",
    "            return \"Child\"\n",
    "        case _:\n",
    "            return \"Unknown\"\n",
    "\n",
    "age_group = classify_age(6)\n",
    "print(age_group)  # 출력: \"Child\"\n"
   ]
  },
  {
   "cell_type": "markdown",
   "id": "c5220b00",
   "metadata": {},
   "source": [
    "###  특정 값의 별칭 as 로 처리해서 가드 처리 "
   ]
  },
  {
   "cell_type": "code",
   "execution_count": 2,
   "id": "a88f29fe",
   "metadata": {},
   "outputs": [
    {
     "name": "stdout",
     "output_type": "stream",
     "text": [
      "Value is zero\n",
      "Value is either 1 or 2\n",
      "Value 7 is greater than 5\n"
     ]
    }
   ],
   "source": [
    "def match_example(value):\n",
    "    match value:\n",
    "        case 0:\n",
    "            print(\"Value is zero\")\n",
    "        case 1 | 2:\n",
    "            print(\"Value is either 1 or 2\")\n",
    "        case _ as x if x > 5:\n",
    "            print(f\"Value {x} is greater than 5\")\n",
    "        case _:\n",
    "            print(\"Other values\")\n",
    "\n",
    "match_example(0)\n",
    "match_example(2)\n",
    "match_example(7)\n",
    "## match_example(\"hello\")  ## '>' not supported between instances of 'str' and 'int'\n"
   ]
  },
  {
   "cell_type": "code",
   "execution_count": null,
   "id": "984ccf82",
   "metadata": {},
   "outputs": [],
   "source": []
  },
  {
   "cell_type": "markdown",
   "id": "f4930e55",
   "metadata": {},
   "source": [
    "###  4-2-4  조건부 패턴매칭 , 매칭 가드(Matching Guard) 패턴:\n",
    "\n",
    "- if 문과 유사하게 추가 조건을 사용하여 매칭을 제어합니다.\n",
    "- 예: case x if x > 0:"
   ]
  },
  {
   "cell_type": "code",
   "execution_count": 7,
   "id": "184847f6",
   "metadata": {},
   "outputs": [
    {
     "name": "stdout",
     "output_type": "stream",
     "text": [
      "Odd\n"
     ]
    }
   ],
   "source": [
    "number = 15\n",
    "\n",
    "match number:\n",
    "    case n if n % 2 == 0:\n",
    "        print(\"Even\")\n",
    "    case n if n % 2 != 0:\n",
    "        print(\"Odd\")\n"
   ]
  },
  {
   "cell_type": "code",
   "execution_count": null,
   "id": "3c011d7e",
   "metadata": {},
   "outputs": [],
   "source": []
  },
  {
   "cell_type": "code",
   "execution_count": null,
   "id": "9cec933f",
   "metadata": {},
   "outputs": [],
   "source": []
  },
  {
   "cell_type": "markdown",
   "id": "49a677ad",
   "metadata": {},
   "source": [
    "## 4-3 구조적 패턴매칭 \n",
    "\n",
    "- 구조적 패턴 매칭(Structural Pattern Matching)은 PEP 634에 의해 제안되고 추가된 기능입니다. \n",
    "- 이 기능을 통해 복잡한 데이터 구조에서 특정 패턴을 검사하고 추출하는 작업을 더 간결하게 처리할 수 있습니다. 구"
   ]
  },
  {
   "cell_type": "code",
   "execution_count": null,
   "id": "bdab751a",
   "metadata": {},
   "outputs": [],
   "source": []
  },
  {
   "cell_type": "code",
   "execution_count": null,
   "id": "562e58ae",
   "metadata": {},
   "outputs": [],
   "source": []
  },
  {
   "cell_type": "markdown",
   "id": "364aa508",
   "metadata": {},
   "source": [
    "## 4-3-1 구조적 패턴매칭 \n",
    "- 튜플이나 리스트와 같은 시퀀스 데이터 구조의 패턴\n",
    "- 예: case (x, y):"
   ]
  },
  {
   "cell_type": "markdown",
   "id": "c450bd00",
   "metadata": {},
   "source": [
    "### 구조분해\n",
    "\n",
    "-  리스트나 튜플 등 여러 원소를 가진 것을 분해해서 변수에 할당 \n",
    "\n",
    "- 원소와 변수의 개수가 다를 경우는 특정 변수에 별표를 붙여서 나머지를 처리하도록 함 "
   ]
  },
  {
   "cell_type": "code",
   "execution_count": 3,
   "id": "058d1a85",
   "metadata": {},
   "outputs": [],
   "source": [
    "[x, y, *rest] = [1,2,3,4]"
   ]
  },
  {
   "cell_type": "code",
   "execution_count": 4,
   "id": "3f4f6fdf",
   "metadata": {},
   "outputs": [
    {
     "data": {
      "text/plain": [
       "(1, 2, [3, 4])"
      ]
     },
     "execution_count": 4,
     "metadata": {},
     "output_type": "execute_result"
    }
   ],
   "source": [
    "x,y,rest"
   ]
  },
  {
   "cell_type": "markdown",
   "id": "6b4d9a95",
   "metadata": {},
   "source": [
    "#### 사용하지 않는 변수는 밑줄을 사용함 "
   ]
  },
  {
   "cell_type": "code",
   "execution_count": 5,
   "id": "f19213ee",
   "metadata": {},
   "outputs": [],
   "source": [
    "[_, _, *rest]= [1,2,3,4]"
   ]
  },
  {
   "cell_type": "code",
   "execution_count": 6,
   "id": "27ce76ea",
   "metadata": {},
   "outputs": [
    {
     "data": {
      "text/plain": [
       "[3, 4]"
      ]
     },
     "execution_count": 6,
     "metadata": {},
     "output_type": "execute_result"
    }
   ],
   "source": [
    "rest"
   ]
  },
  {
   "cell_type": "markdown",
   "id": "3d9748c7",
   "metadata": {},
   "source": [
    "### 리스트 패턴 매칭:"
   ]
  },
  {
   "cell_type": "code",
   "execution_count": 3,
   "id": "d337aa97",
   "metadata": {},
   "outputs": [
    {
     "name": "stdout",
     "output_type": "stream",
     "text": [
      "First two elements: 1, 2\n",
      "Remaining elements: [3, 4]\n"
     ]
    }
   ],
   "source": [
    "data = [1, 2, 3, 4]\n",
    "\n",
    "match data:\n",
    "    case []:\n",
    "        print(\"Empty list\")\n",
    "    case [x, y, *rest]:\n",
    "        print(f\"First two elements: {x}, {y}\")\n",
    "        print(f\"Remaining elements: {rest}\")\n",
    "    case [_, _, *rest]:\n",
    "        print(\"At least two elements\")\n"
   ]
  },
  {
   "cell_type": "code",
   "execution_count": null,
   "id": "eb710224",
   "metadata": {},
   "outputs": [],
   "source": []
  },
  {
   "cell_type": "markdown",
   "id": "a3c7caa3",
   "metadata": {},
   "source": [
    "### 튜플 패턴매칭 "
   ]
  },
  {
   "cell_type": "code",
   "execution_count": 4,
   "id": "691696e9",
   "metadata": {},
   "outputs": [
    {
     "name": "stdout",
     "output_type": "stream",
     "text": [
      "At (3, 4)\n"
     ]
    }
   ],
   "source": [
    "point = (3, 4)\n",
    "\n",
    "match point:\n",
    "    case (0, 0):\n",
    "        print(\"Origin\")\n",
    "    case (x, 0):\n",
    "        print(f\"On x-axis at x = {x}\")\n",
    "    case (0, y):\n",
    "        print(f\"On y-axis at y = {y}\")\n",
    "    case (x, y):\n",
    "        print(f\"At ({x}, {y})\")\n"
   ]
  },
  {
   "cell_type": "markdown",
   "id": "82b4ab31",
   "metadata": {},
   "source": [
    "## 4-3-2 딕셔너리(Dictionary) 패턴:\n",
    "\n",
    "- 딕셔너리의 키-값 쌍에 대한 매칭을 수행합니다.\n",
    "- 예: case {\"name\": name, \"age\": age}:\n",
    "- 딕셔너리 구조분해는 변수에 할당을 할 수 없지만  match 내의 패턴매칭에서만 처리가 가능함 "
   ]
  },
  {
   "cell_type": "markdown",
   "id": "0cce6f01",
   "metadata": {},
   "source": [
    "### 딕셔너리 패턴매칭"
   ]
  },
  {
   "cell_type": "code",
   "execution_count": 5,
   "id": "841b5a03",
   "metadata": {},
   "outputs": [
    {
     "name": "stdout",
     "output_type": "stream",
     "text": [
      "Alice is an adult\n"
     ]
    }
   ],
   "source": [
    "person = {\"name\": \"Alice\", \"age\": 30}\n",
    "\n",
    "match person:\n",
    "    case {\"name\": name, \"age\": age} if age < 18:\n",
    "        print(f\"{name} is a minor\")\n",
    "    case {\"name\": name, \"age\": age} if age >= 18:\n",
    "        print(f\"{name} is an adult\")\n",
    "    case _:\n",
    "        print(\"Unknown person\")\n"
   ]
  },
  {
   "cell_type": "markdown",
   "id": "c684e777",
   "metadata": {},
   "source": [
    "### 특정 값이 같은 경우 처리 \n",
    "\n",
    "-  나머지를 전부 매칭할 경우는 딕셔너리에서는 별표를 두개를 붙여서 **rest 를 사용"
   ]
  },
  {
   "cell_type": "code",
   "execution_count": 21,
   "id": "e9d2b67a",
   "metadata": {},
   "outputs": [
    {
     "name": "stdout",
     "output_type": "stream",
     "text": [
      "hello, world\n",
      "{'a': 1, 'b': 2, 'c': 3}\n",
      "{'x': 10, 'z': 30}\n"
     ]
    }
   ],
   "source": [
    "values = [\n",
    "    {'hello': 'world'},\n",
    "    {'a': 1, 'b': 2, 'c': 3},\n",
    "    {'x': 10, 'y': 20, 'z': 30}\n",
    "]\n",
    " \n",
    "for value in values:\n",
    "    match value:\n",
    "        case {'hello': 'world'}:\n",
    "            print('hello, world')\n",
    "        case {'a': 1, 'b': 2} as ab:  # 매칭된 값을 ab에 저장, AS 패턴\n",
    "            print(ab)\n",
    "        case {'y': 20, **rest}:       # 매칭되지 않은 나머지 키를 rest에 저장, 매핑 패턴\n",
    "            print(rest)"
   ]
  },
  {
   "cell_type": "code",
   "execution_count": null,
   "id": "374efa14",
   "metadata": {},
   "outputs": [],
   "source": []
  },
  {
   "cell_type": "markdown",
   "id": "2f2ca46e",
   "metadata": {},
   "source": [
    "## 4-3-3 클래스 패턴매칭 \n",
    "\n",
    "-  클래스의 패턴 매칭은 매우 강력한 도구로, 특정 클래스의 인스턴스를 다양한 패턴과 비교하여 처리\n",
    "-  이를 통해 객체의 속성이나 상태에 따라 다른 동작을 수행할 수 있습니다."
   ]
  },
  {
   "cell_type": "code",
   "execution_count": 6,
   "id": "d781e8c2",
   "metadata": {},
   "outputs": [
    {
     "name": "stdout",
     "output_type": "stream",
     "text": [
      "Circle\n"
     ]
    }
   ],
   "source": [
    "class Circle:\n",
    "    def __init__(self, radius):\n",
    "        self.radius = radius\n",
    "\n",
    "shape = Circle(5)\n",
    "\n",
    "match shape:\n",
    "    case Circle(radius=0):\n",
    "        print(\"Point\")\n",
    "    case Circle(radius=r) if r > 0:\n",
    "        print(\"Circle\")\n",
    "    case _:\n",
    "        print(\"Unknown shape\")\n"
   ]
  },
  {
   "cell_type": "markdown",
   "id": "47d448c8",
   "metadata": {},
   "source": [
    "### 상속관계를 가진 클래스의 객체를 패턴매칭"
   ]
  },
  {
   "cell_type": "code",
   "execution_count": 9,
   "id": "e42e6945",
   "metadata": {},
   "outputs": [
    {
     "name": "stdout",
     "output_type": "stream",
     "text": [
      "Circle area: 78.5\n",
      "Square area: 16\n"
     ]
    }
   ],
   "source": [
    "class Shape:\n",
    "    pass\n",
    "\n",
    "class Circle(Shape):\n",
    "    def __init__(self, radius):\n",
    "        self.radius = radius\n",
    "\n",
    "class Square(Shape):\n",
    "    def __init__(self, side_length):\n",
    "        self.side_length = side_length\n",
    "\n",
    "def area(shape):\n",
    "    match shape:\n",
    "        case Circle(radius=r):\n",
    "            return 3.14 * r ** 2\n",
    "        case Square(side_length=s):\n",
    "            return s ** 2\n",
    "        case _:\n",
    "            raise ValueError(\"Unknown shape\")\n",
    "\n",
    "circle = Circle(radius=5)\n",
    "square = Square(side_length=4)\n",
    "\n",
    "print(\"Circle area:\", area(circle))\n",
    "print(\"Square area:\", area(square))"
   ]
  },
  {
   "cell_type": "code",
   "execution_count": null,
   "id": "1e025947",
   "metadata": {},
   "outputs": [],
   "source": []
  }
 ],
 "metadata": {
  "kernelspec": {
   "display_name": "Python 3 (ipykernel)",
   "language": "python",
   "name": "python3"
  },
  "language_info": {
   "codemirror_mode": {
    "name": "ipython",
    "version": 3
   },
   "file_extension": ".py",
   "mimetype": "text/x-python",
   "name": "python",
   "nbconvert_exporter": "python",
   "pygments_lexer": "ipython3",
   "version": "3.9.16"
  }
 },
 "nbformat": 4,
 "nbformat_minor": 5
}
