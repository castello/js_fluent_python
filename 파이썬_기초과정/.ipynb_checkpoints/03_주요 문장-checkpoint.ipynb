{
 "cells": [
  {
   "cell_type": "code",
   "execution_count": 1,
   "id": "a4f31929",
   "metadata": {},
   "outputs": [
    {
     "data": {
      "text/plain": [
       "'3.11.3'"
      ]
     },
     "execution_count": 1,
     "metadata": {},
     "output_type": "execute_result"
    }
   ],
   "source": [
    "import platform\n",
    "\n",
    "platform.python_version()"
   ]
  },
  {
   "cell_type": "code",
   "execution_count": null,
   "id": "3c8f091f",
   "metadata": {},
   "outputs": [],
   "source": []
  },
  {
   "cell_type": "code",
   "execution_count": null,
   "id": "64dd2305",
   "metadata": {},
   "outputs": [],
   "source": []
  },
  {
   "cell_type": "markdown",
   "id": "8379d026",
   "metadata": {},
   "source": [
    "## 1.  불리언 자료형 이해하기 \n",
    "\n",
    "### 불리언(Boolean) 자료형은 True와 False 두 개의 값 \n",
    "\n",
    "- 불리언은 조건식의 평가 결과를 나타내거나, 제어문과 논리 연산자 등에서 사용되어 프로그램의 흐름을 제어하는 데 활용됩니다.\n",
    "\n",
    "- True: 참을 나타내는 값입니다.\n",
    "- False: 거짓을 나타내는 값입니다."
   ]
  },
  {
   "cell_type": "markdown",
   "id": "884b4c2e",
   "metadata": {},
   "source": [
    "## 1-1 불리언 클래스는 정수의 하위 클래스"
   ]
  },
  {
   "cell_type": "code",
   "execution_count": 1,
   "id": "794ef915",
   "metadata": {},
   "outputs": [
    {
     "data": {
      "text/plain": [
       "[bool, <enum 'IntEnum'>, <enum 'IntFlag'>, sre_constants._NamedIntConstant]"
      ]
     },
     "execution_count": 1,
     "metadata": {},
     "output_type": "execute_result"
    }
   ],
   "source": [
    "int.__subclasses__()             # 정수 클래스를 상속한 클래스 확인하기"
   ]
  },
  {
   "cell_type": "markdown",
   "id": "8b04765f",
   "metadata": {},
   "source": [
    "### 덧셈 연산으로 계산이 가능 "
   ]
  },
  {
   "cell_type": "code",
   "execution_count": 2,
   "id": "15a96b42",
   "metadata": {},
   "outputs": [
    {
     "data": {
      "text/plain": [
       "1"
      ]
     },
     "execution_count": 2,
     "metadata": {},
     "output_type": "execute_result"
    }
   ],
   "source": [
    "True + 0                         # 불리언 타입은 정수를 상속해서 True는 1로 처리 "
   ]
  },
  {
   "cell_type": "markdown",
   "id": "ca5f9c35",
   "metadata": {},
   "source": [
    "## 1-2 Falsy  \n",
    "\n",
    "- 거짓을 판다하는 기준 아무것도 없거나 빈 값을 의미\n",
    "- 그외는 모두 참으로 인식"
   ]
  },
  {
   "cell_type": "code",
   "execution_count": 3,
   "id": "c1e1cf1f",
   "metadata": {},
   "outputs": [
    {
     "data": {
      "text/plain": [
       "False"
      ]
     },
     "execution_count": 3,
     "metadata": {},
     "output_type": "execute_result"
    }
   ],
   "source": [
    "bool(None)                        # 블리언 클래스으로 널값을 인자로 넣어서 객체를 생성하면 False"
   ]
  },
  {
   "cell_type": "code",
   "execution_count": 4,
   "id": "936dce3a",
   "metadata": {},
   "outputs": [
    {
     "name": "stdout",
     "output_type": "stream",
     "text": [
      "False\n",
      "False\n",
      "False\n",
      "False\n",
      "False\n"
     ]
    }
   ],
   "source": [
    "print(bool(0))                    # 숫자 0 \n",
    "print(bool(\"\"))                   # 빈 문자열\n",
    "print(bool([]))                   # 빈 리스트 \n",
    "print(bool(()))                   # 빈 튜플 \n",
    "print(bool({}))                   # 빈 딕셔너리 "
   ]
  },
  {
   "cell_type": "markdown",
   "id": "8a8116c3",
   "metadata": {},
   "source": [
    "## 1-3 비교연산자, 논리연산자\n",
    "\n",
    "### 비교 연산자(Comparison Operators):\n",
    "\n",
    "- 비교 연산자는 두 값의 관계를 비교하고 참 또는 거짓으로 평가하는 데 사용됩니다. 다음은 파이썬에서 사용되는 주요 비교 연산자입니다:\n",
    "\n",
    "- ==: 값이 같은지 비교\n",
    "- !=: 값이 다른지 비교\n",
    "- `<`: 작은지 비교\n",
    "- `>`: 큰지 비교\n",
    "- `<=`: 작거나 같은지 비교\n",
    "- `>=`: 크거나 같은지 비교\n"
   ]
  },
  {
   "cell_type": "code",
   "execution_count": 2,
   "id": "a7aa2b2a",
   "metadata": {},
   "outputs": [
    {
     "name": "stdout",
     "output_type": "stream",
     "text": [
      "False\n",
      "True\n",
      "True\n",
      "True\n"
     ]
    }
   ],
   "source": [
    "x = 10\n",
    "y = 5\n",
    "z = 10\n",
    "\n",
    "# 비교 연산자 사용\n",
    "print(x == y)   # False\n",
    "print(x != y)   # True\n",
    "print(x > y)    # True\n",
    "print(x <= z)   # True"
   ]
  },
  {
   "cell_type": "markdown",
   "id": "db4d68bb",
   "metadata": {},
   "source": [
    "### 논리 연산자(Logical Operators):\n",
    "\n",
    "- 논리 연산자는 불리언 값 또는 조건식을 조합하여 새로운 불리언 값을 만드는 데 사용됩니다. 파이썬에서 사용되는 주요 논리 연산자는 다음과 같습니다:\n",
    "\n",
    "- and: 두 조건이 모두 참일 때 참\n",
    "- or: 두 조건 중 하나라도 참이면 참\n",
    "- not: 조건을 반전시킴"
   ]
  },
  {
   "cell_type": "code",
   "execution_count": 3,
   "id": "01b7224c",
   "metadata": {},
   "outputs": [
    {
     "name": "stdout",
     "output_type": "stream",
     "text": [
      "True\n",
      "True\n",
      "False\n"
     ]
    }
   ],
   "source": [
    "# 논리 연산자 사용\n",
    "print(x > y and y > 0)  # True\n",
    "print(x > y or z < y)   # True\n",
    "print(not (x == z))     # False"
   ]
  },
  {
   "cell_type": "code",
   "execution_count": null,
   "id": "5596f841",
   "metadata": {},
   "outputs": [],
   "source": []
  },
  {
   "cell_type": "code",
   "execution_count": null,
   "id": "b12c6afb",
   "metadata": {},
   "outputs": [],
   "source": []
  },
  {
   "cell_type": "markdown",
   "id": "ddab8fb7",
   "metadata": {},
   "source": [
    "## 2  조건문 \n",
    "\n",
    "- 조건문은 프로그램의 흐름을 제어하는 데 사용되는 중요한 구문입니다. \n",
    "- 조건문은 주어진 조건에 따라 코드 블록을 실행하거나 건너뛸 수 있도록 도와줍니다. \n",
    "- 파이썬에서는 if, elif, else 키워드를 사용하여 조건문을 작성합니다."
   ]
  },
  {
   "cell_type": "code",
   "execution_count": null,
   "id": "bac13e28",
   "metadata": {},
   "outputs": [],
   "source": []
  },
  {
   "cell_type": "markdown",
   "id": "d442d6fd",
   "metadata": {},
   "source": [
    "### 인덴트(Indent) \n",
    "\n",
    "- 코드 블록을 구분하기 위해 사용되는 공백 문자열(들여쓰기)을 말합니다. \n",
    "- 인덴트는 파이썬의 문법 규칙 중 하나로, 코드 블록을 구성하거나 중첩된 구조를 표현하는 데 사용됩니다.\n",
    "- 인덴트는 다른 프로그래밍 언어에서 사용되는 중괄호({})를 사용하는 방식과 대조적으로, 파이썬의 고유한 문법적인 특징입니다."
   ]
  },
  {
   "cell_type": "markdown",
   "id": "e6594f53",
   "metadata": {},
   "source": [
    "## 2-1 단순 조건 \n",
    "\n",
    "- if , if else 로 처리 \n",
    "- if 와 else 다음에 블럭 구문 즉 콜록을 붙이고\n",
    "- 그 다음의 코드 블럭은 인덴트(4칸)을 띄우고 코드 작성 "
   ]
  },
  {
   "cell_type": "code",
   "execution_count": 5,
   "id": "03680208",
   "metadata": {},
   "outputs": [
    {
     "name": "stdout",
     "output_type": "stream",
     "text": [
      "참일 경우 \n"
     ]
    }
   ],
   "source": [
    "if True :                        # if 문의 조건은 항상 참이여야 함 \n",
    "    print(\"참일 경우 \")\n"
   ]
  },
  {
   "cell_type": "code",
   "execution_count": 6,
   "id": "4ca4b354",
   "metadata": {},
   "outputs": [
    {
     "name": "stdout",
     "output_type": "stream",
     "text": [
      "참일 경우 \n"
     ]
    }
   ],
   "source": [
    "if True :                        # if 문의 조건은 항상 참이여야 함 \n",
    "    print(\"참일 경우 \")\n",
    "else :\n",
    "    print(\"거짓일 경우\")"
   ]
  },
  {
   "cell_type": "markdown",
   "id": "c3d839df",
   "metadata": {},
   "source": [
    "## 2-2 복합 조건 \n",
    "\n",
    "- if elif else 로 구성해서 처리 "
   ]
  },
  {
   "cell_type": "code",
   "execution_count": 7,
   "id": "e0112a0c",
   "metadata": {},
   "outputs": [],
   "source": [
    "a = 100; b=30"
   ]
  },
  {
   "cell_type": "code",
   "execution_count": 8,
   "id": "c30fc47f",
   "metadata": {},
   "outputs": [
    {
     "name": "stdout",
     "output_type": "stream",
     "text": [
      "동일한 값일 경우\n"
     ]
    }
   ],
   "source": [
    "if a < 100  :\n",
    "    print(\"참일 경우 \")\n",
    "elif a == 100 :\n",
    "    print(\"동일한 값일 경우\")\n",
    "else :\n",
    "    print(\"거짓일 경우\")"
   ]
  },
  {
   "cell_type": "markdown",
   "id": "b76b1f92",
   "metadata": {},
   "source": [
    "## 2-3  내포된 if 문 처리 \n",
    "\n",
    "- if 내부에 if else 등이 존재 "
   ]
  },
  {
   "cell_type": "code",
   "execution_count": 9,
   "id": "a76e6efb",
   "metadata": {},
   "outputs": [
    {
     "name": "stdout",
     "output_type": "stream",
     "text": [
      "참일 경우\n",
      "내포된 거짓 경우 \n"
     ]
    }
   ],
   "source": [
    "if b > 10  :\n",
    "    print(\"참일 경우\")\n",
    "    if  b > 30 : \n",
    "        print(\"내포된 참일 경우 \")\n",
    "    else : \n",
    "        print(\"내포된 거짓 경우 \")\n",
    "else :\n",
    "    print(\"거짓일 경우\")"
   ]
  },
  {
   "cell_type": "markdown",
   "id": "ef402d86",
   "metadata": {},
   "source": [
    "## 3-4 삼항연산 처리 \n",
    "\n",
    "- if else 를 구문 블럭없이 처리하기"
   ]
  },
  {
   "cell_type": "code",
   "execution_count": 10,
   "id": "07637c79",
   "metadata": {},
   "outputs": [],
   "source": [
    "m = 10\n",
    "n = 20\n",
    "x = 5"
   ]
  },
  {
   "cell_type": "code",
   "execution_count": 11,
   "id": "dbcc6e47",
   "metadata": {},
   "outputs": [
    {
     "name": "stdout",
     "output_type": "stream",
     "text": [
      "20\n"
     ]
    }
   ],
   "source": [
    "print(n) if (m) else x          # if 문의 조건이 참인 경우는 if 문 앞에 작성해야 함 "
   ]
  },
  {
   "cell_type": "code",
   "execution_count": null,
   "id": "93df89ed",
   "metadata": {},
   "outputs": [],
   "source": []
  },
  {
   "cell_type": "code",
   "execution_count": null,
   "id": "04ae3c0c",
   "metadata": {},
   "outputs": [],
   "source": []
  },
  {
   "cell_type": "markdown",
   "id": "996c3a61",
   "metadata": {},
   "source": [
    "## 2-5 Walrus 연산자(:=) \n",
    "\n",
    "- 파이썬 3.8부터 도입된 연산자로, 표현식 내에서 변수에 값을 할당하고 동시에 해당 표현식을 평가하는 기능을 제공합니다.\n",
    "- 이를 통해 코드를 더 간결하게 작성하고 가독성을 높일 수 있습니다."
   ]
  },
  {
   "cell_type": "code",
   "execution_count": null,
   "id": "bd80bb56",
   "metadata": {},
   "outputs": [],
   "source": []
  },
  {
   "cell_type": "code",
   "execution_count": 6,
   "id": "6725e0ac",
   "metadata": {},
   "outputs": [
    {
     "name": "stdout",
     "output_type": "stream",
     "text": [
      "문자열 입력( 종료를 입력하면 순환 중단 ): 종료\n"
     ]
    }
   ],
   "source": [
    "while True:\n",
    "    text = input(\"문자열 입력( 종료를 입력하면 순환 중단 ): \")\n",
    "    \n",
    "    # 입력한 문자열의 길이가 3인 경우에만 출력\n",
    "    if (length := len(text)) == 3:\n",
    "        print(f\"입력된 문자열은 '{text}' 길이가 3이다.\")\n",
    "    elif text == '종료':\n",
    "        break\n",
    "    else:\n",
    "        print(f\"입력된 문자열은 '{text}' 길이가 3이 아니다.\")\n"
   ]
  },
  {
   "cell_type": "code",
   "execution_count": null,
   "id": "c94a3be1",
   "metadata": {},
   "outputs": [],
   "source": [
    "\n"
   ]
  },
  {
   "cell_type": "markdown",
   "id": "364347b3",
   "metadata": {},
   "source": [
    "# 3. 순환문 \n",
    "\n",
    "-  for 과 while 문 \n",
    "-  여러 원소를 가진 객체를 순환하는 for 문\n",
    "-  조건식이 참일 경우 처리하는 whiel 문"
   ]
  },
  {
   "cell_type": "markdown",
   "id": "8721aa77",
   "metadata": {},
   "source": [
    "## 3-1 for\n",
    "- 반복자 등의 여러 원소를 가진 객체를 하나씩 순환해서 처리 "
   ]
  },
  {
   "cell_type": "markdown",
   "id": "208c03f3",
   "metadata": {},
   "source": [
    "## 3-1-1 범위 객체\n",
    "\n",
    "- range로 범위를 생성\n",
    "- 범위의 인자는 첫번째는 start, 두번째 stop , 세번째는 step 이다.\n",
    "- 두번째는 포함되지 않고 항상 -1 만큼만 포함한다  "
   ]
  },
  {
   "cell_type": "code",
   "execution_count": 12,
   "id": "60398cf8",
   "metadata": {},
   "outputs": [],
   "source": [
    "r = range(1,5)                 # 범위는 range 클래스의 객체를 생성 첫번째는 시작, 두번째는 종료(실제 적용값은 종료 -1) "
   ]
  },
  {
   "cell_type": "code",
   "execution_count": 13,
   "id": "639dcbaa",
   "metadata": {},
   "outputs": [
    {
     "data": {
      "text/plain": [
       "(1, 5, 1)"
      ]
     },
     "execution_count": 13,
     "metadata": {},
     "output_type": "execute_result"
    }
   ],
   "source": [
    "r.start,r.stop, r.step"
   ]
  },
  {
   "cell_type": "markdown",
   "id": "bfac1a83",
   "metadata": {},
   "source": [
    "###  범위 처리 순환"
   ]
  },
  {
   "cell_type": "code",
   "execution_count": 14,
   "id": "1120b914",
   "metadata": {},
   "outputs": [
    {
     "name": "stdout",
     "output_type": "stream",
     "text": [
      "1\n",
      "2\n",
      "3\n",
      "4\n"
     ]
    }
   ],
   "source": [
    "for r in range(1,5)  :         ## for 문의 in 다음에는 iterable 즉 반복이 가능한 여러 원소를 가진 객체를 넣는다 \n",
    "    print(r)"
   ]
  },
  {
   "cell_type": "markdown",
   "id": "ec46ee9d",
   "metadata": {},
   "source": [
    "## 3-1-2 리스트 순환\n",
    "\n",
    "- 여러 원소를 가진 리스트나 문자열, 튜플을 순환해서 처리 "
   ]
  },
  {
   "cell_type": "code",
   "execution_count": 9,
   "id": "c0a724f8",
   "metadata": {},
   "outputs": [],
   "source": [
    "ll = [1,2,3,4,]               # 리스트 리터럴은 대괄호 사이에 원소값을 나열해서 지정한다. "
   ]
  },
  {
   "cell_type": "code",
   "execution_count": 10,
   "id": "76ca5f99",
   "metadata": {},
   "outputs": [
    {
     "name": "stdout",
     "output_type": "stream",
     "text": [
      "1\n",
      "2\n",
      "3\n",
      "4\n"
     ]
    }
   ],
   "source": [
    "for l in ll :\n",
    "    print(l)"
   ]
  },
  {
   "cell_type": "markdown",
   "id": "063d1b14",
   "metadata": {},
   "source": [
    "### 인덱스와 값을 순환해서 처리\n",
    "- enumerate를 사용하면 반환값이 인덱스와 값을 가진 튜플을 반환"
   ]
  },
  {
   "cell_type": "code",
   "execution_count": 11,
   "id": "45fafbdb",
   "metadata": {},
   "outputs": [
    {
     "name": "stdout",
     "output_type": "stream",
     "text": [
      "1\n",
      "2\n",
      "3\n",
      "4\n"
     ]
    }
   ],
   "source": [
    "for i,v in enumerate(ll) :\n",
    "    print(v)"
   ]
  },
  {
   "cell_type": "markdown",
   "id": "4ec50735",
   "metadata": {},
   "source": [
    "## 3-1-3 딕셔너리 순환 \n",
    "\n",
    "- 딕셔너리의 원소 순환일 경우 키를 기준으로만 순환한다. "
   ]
  },
  {
   "cell_type": "code",
   "execution_count": 5,
   "id": "ef0b1418",
   "metadata": {},
   "outputs": [],
   "source": [
    "dd = {'a': 100, 'b': 200}  "
   ]
  },
  {
   "cell_type": "code",
   "execution_count": 7,
   "id": "b8fa3385",
   "metadata": {},
   "outputs": [
    {
     "name": "stdout",
     "output_type": "stream",
     "text": [
      "a\n",
      "b\n"
     ]
    }
   ],
   "source": [
    "for d in dd :\n",
    "    print(d)"
   ]
  },
  {
   "cell_type": "code",
   "execution_count": null,
   "id": "b0e302bd",
   "metadata": {},
   "outputs": [],
   "source": []
  },
  {
   "cell_type": "markdown",
   "id": "9a28a175",
   "metadata": {},
   "source": [
    "## 3-1-4 else 작성 \n",
    "\n",
    "- 파이썬의 for 루프에는 else 절을 사용할 수 있습니다. \n",
    "- 이 else 절은 for 루프가 모든 반복을 완료한 후에 실행되며, 다음과 같은 경우에 활용\n",
    "\n",
    "### else 문을 작성할 경우\n",
    "- for 루프가 정상적으로 모든 반복을 완료한 경우에 추가적인 작업을 수행하고자 할 때.\n",
    "- for 루프 안에서 break 문을 사용하여 루프를 중단하지 않은 경우에 추가 작업을 수행하고자 할 때."
   ]
  },
  {
   "cell_type": "markdown",
   "id": "46bc6b06",
   "metadata": {},
   "source": [
    "### 정상적인 경우 추가적인 출력을 수행"
   ]
  },
  {
   "cell_type": "code",
   "execution_count": 14,
   "id": "67ff5910",
   "metadata": {},
   "outputs": [
    {
     "name": "stdout",
     "output_type": "stream",
     "text": [
      "a\n",
      "b\n",
      "else 처리\n"
     ]
    }
   ],
   "source": [
    "for d in dd :\n",
    "    print(d)\n",
    "else :\n",
    "    print(\"else 처리\")"
   ]
  },
  {
   "cell_type": "markdown",
   "id": "08819bc5",
   "metadata": {},
   "source": [
    "### 중산이 발생하면 else 문 실행이 안됨 "
   ]
  },
  {
   "cell_type": "code",
   "execution_count": 15,
   "id": "6233e404",
   "metadata": {},
   "outputs": [
    {
     "name": "stdout",
     "output_type": "stream",
     "text": [
      "a\n"
     ]
    }
   ],
   "source": [
    "for d in dd :\n",
    "    print(d)\n",
    "    break\n",
    "else :\n",
    "    print(\"else 처리\")"
   ]
  },
  {
   "cell_type": "markdown",
   "id": "001306c7",
   "metadata": {},
   "source": [
    "### continue는 break가 아니라서 esle문 처리 "
   ]
  },
  {
   "cell_type": "code",
   "execution_count": 16,
   "id": "eec3c2f1",
   "metadata": {},
   "outputs": [
    {
     "name": "stdout",
     "output_type": "stream",
     "text": [
      "a\n",
      "b\n",
      "else 처리\n"
     ]
    }
   ],
   "source": [
    "for d in dd :\n",
    "    print(d)\n",
    "    continue\n",
    "else :\n",
    "    print(\"else 처리\")"
   ]
  },
  {
   "cell_type": "code",
   "execution_count": null,
   "id": "89cf23f4",
   "metadata": {},
   "outputs": [],
   "source": []
  },
  {
   "cell_type": "markdown",
   "id": "aba4b0d0",
   "metadata": {},
   "source": [
    "## 3-2 while \n",
    "\n",
    "- 조건식에 맞춰서 순환작업을 처리한다. \n"
   ]
  },
  {
   "cell_type": "markdown",
   "id": "cfda8978",
   "metadata": {},
   "source": [
    "## 3-2-1조건식으로 순환 처리"
   ]
  },
  {
   "cell_type": "code",
   "execution_count": 17,
   "id": "d073e3a0",
   "metadata": {},
   "outputs": [],
   "source": [
    "liter = iter(ll)                 # iterator는 동적으로 처리하므로 한번 사용하면 원소가 다 없어진다. \n",
    "                                 # 그래서 계속사용하려면 반복자 객체를 다시 생셩"
   ]
  },
  {
   "cell_type": "code",
   "execution_count": 18,
   "id": "6b4d80a0",
   "metadata": {},
   "outputs": [
    {
     "name": "stdout",
     "output_type": "stream",
     "text": [
      "1\n",
      "2\n",
      "3\n",
      "4\n"
     ]
    }
   ],
   "source": [
    "xx = next(liter)\n",
    "while xx :                       # 리스트를 조건에 맞게 순환하기 위히 반복자로 변경해서 처리 \n",
    "    print(xx)\n",
    "    xx = next(liter, None)\n",
    "    "
   ]
  },
  {
   "cell_type": "markdown",
   "id": "801f6024",
   "metadata": {},
   "source": [
    "## 3-2-2 앞에서 반복자 리스트를 다 사용\n",
    "\n",
    "- 반복자를 더 사용할 수 없음 "
   ]
  },
  {
   "cell_type": "code",
   "execution_count": 12,
   "id": "cf9ae3c5",
   "metadata": {},
   "outputs": [
    {
     "name": "stdout",
     "output_type": "stream",
     "text": [
      "StopIterator 원소를 다 소진함 \n"
     ]
    }
   ],
   "source": [
    "try :\n",
    "    next(liter)\n",
    "except Exception as e :\n",
    "    print(\"StopIterator 원소를 다 소진함 \")"
   ]
  },
  {
   "cell_type": "markdown",
   "id": "8b401c7c",
   "metadata": {},
   "source": [
    "## 3-2-3 브레이크가 발생하지 않을 경우 else 절이 필요\n",
    "- break 처리가 없는 경우 구별이 가능 "
   ]
  },
  {
   "cell_type": "code",
   "execution_count": 17,
   "id": "6e0d07ac",
   "metadata": {},
   "outputs": [
    {
     "name": "stdout",
     "output_type": "stream",
     "text": [
      "Current number: 0\n",
      "Current number: 1\n",
      "Current number: 2\n",
      "Current number: 3\n",
      "Current number: 4\n",
      "Loop finished.\n"
     ]
    }
   ],
   "source": [
    "num = 0\n",
    "\n",
    "while num < 5:\n",
    "    print(\"Current number:\", num)\n",
    "    num += 1\n",
    "else:\n",
    "    print(\"Loop finished.\")"
   ]
  },
  {
   "cell_type": "code",
   "execution_count": null,
   "id": "8d942ec2",
   "metadata": {},
   "outputs": [],
   "source": []
  },
  {
   "cell_type": "markdown",
   "id": "f9f26f03",
   "metadata": {},
   "source": [
    "# 4. 매치 처리하기 \n",
    "\n",
    "- 파이썬 3.10부터는 match 문이 도입되어 switch 문과 유사한 동작을 수행할 수 있게 되었습니다.\n",
    "- match 문은 여러 값 또는 패턴과 매칭하여 해당하는 블록을 실행하는 기능을 제공하는 조건문입니다.\n",
    "- match 문은 다양한 경우에 따라 실행 코드를 구조화하고 간결하게 작성할 수 있는 유용한 기능입니다."
   ]
  },
  {
   "cell_type": "markdown",
   "id": "4abd3abb",
   "metadata": {},
   "source": [
    "## 4-1 복합 조건문 처리 "
   ]
  },
  {
   "cell_type": "code",
   "execution_count": 2,
   "id": "70b0326d",
   "metadata": {},
   "outputs": [
    {
     "name": "stdout",
     "output_type": "stream",
     "text": [
      "Wednesday\n"
     ]
    }
   ],
   "source": [
    "def get_day_name(day_number):\n",
    "    if day_number == 1:\n",
    "        return \"Monday\"\n",
    "    elif day_number == 2:\n",
    "        return \"Tuesday\"\n",
    "    elif day_number == 3:\n",
    "        return \"Wednesday\"\n",
    "    elif day_number == 4:\n",
    "        return \"Thursday\"\n",
    "    elif day_number == 5:\n",
    "        return \"Friday\"\n",
    "    elif day_number == 6:\n",
    "        return \"Saturday\"\n",
    "    elif day_number == 7:\n",
    "        return \"Sunday\"\n",
    "    else:\n",
    "        return \"Invalid day number\"\n",
    "\n",
    "day_number = 3\n",
    "day_name = get_day_name(day_number)\n",
    "print(day_name)\n"
   ]
  },
  {
   "cell_type": "markdown",
   "id": "569829cd",
   "metadata": {},
   "source": [
    "## 4-2 매치문 처리 "
   ]
  },
  {
   "cell_type": "markdown",
   "id": "b20e6263",
   "metadata": {},
   "source": [
    "### 상수(Constant) 패턴:\n",
    "\n",
    "- 특정 상수 값에 매칭됩니다.\n",
    "- 예: case \"hello\":"
   ]
  },
  {
   "cell_type": "code",
   "execution_count": 19,
   "id": "e0a97b96",
   "metadata": {},
   "outputs": [],
   "source": [
    "value = \"Hello\""
   ]
  },
  {
   "cell_type": "code",
   "execution_count": 20,
   "id": "4ab2d75c",
   "metadata": {},
   "outputs": [
    {
     "name": "stdout",
     "output_type": "stream",
     "text": [
      "Hello\n"
     ]
    }
   ],
   "source": [
    "match value:\n",
    "    case 'hello':          \n",
    "        print(value)\n",
    "    case \"Hello\":          \n",
    "        print(value)\n",
    "    case _:  \n",
    "        print('미스매칭')"
   ]
  },
  {
   "cell_type": "markdown",
   "id": "10cdaa4e",
   "metadata": {},
   "source": [
    "### 리터럴(Literal) 패턴:\n",
    "\n",
    "- 특정 값에 대한 매칭을 수행합니다.\n",
    "- 예: case 0:"
   ]
  },
  {
   "cell_type": "code",
   "execution_count": 3,
   "id": "2e50bff0",
   "metadata": {},
   "outputs": [
    {
     "name": "stdout",
     "output_type": "stream",
     "text": [
      "Wednesday\n"
     ]
    }
   ],
   "source": [
    "def get_day_name(day_number):\n",
    "    match day_number:\n",
    "        case 1:\n",
    "            return \"Monday\"\n",
    "        case 2:\n",
    "            return \"Tuesday\"\n",
    "        case 3:\n",
    "            return \"Wednesday\"\n",
    "        case 4:\n",
    "            return \"Thursday\"\n",
    "        case 5:\n",
    "            return \"Friday\"\n",
    "        case 6:\n",
    "            return \"Saturday\"\n",
    "        case 7:\n",
    "            return \"Sunday\"\n",
    "        case _:\n",
    "            return \"Invalid day number\"\n",
    "\n",
    "day_number = 3\n",
    "day_name = get_day_name(day_number)\n",
    "print(day_name)\n"
   ]
  },
  {
   "cell_type": "markdown",
   "id": "7f91d58a",
   "metadata": {},
   "source": [
    "## 값에 대한 패턴 매칭 "
   ]
  },
  {
   "cell_type": "markdown",
   "id": "f914f395",
   "metadata": {},
   "source": [
    "\n",
    "\n",
    "### 변수(Variable) 패턴:\n",
    "\n",
    "- 변수에 매칭된 값을 바인딩합니다.\n",
    "- 예: case x:\n",
    "\n",
    "        \n",
    "### 와일드카드(Wildcard) 패턴:\n",
    "\n",
    "- 어떤 값에도 매칭되며, 일반적으로 사용되지 않는 값을 무시할 때 사용됩니다.\n",
    "- 예: case _:\n",
    "\n",
    "\n"
   ]
  },
  {
   "cell_type": "code",
   "execution_count": 17,
   "id": "aaf34bf1",
   "metadata": {},
   "outputs": [
    {
     "name": "stdout",
     "output_type": "stream",
     "text": [
      "5\n"
     ]
    }
   ],
   "source": [
    "def last(l: list[int]) -> int:\n",
    "    match l:\n",
    "        case []:\n",
    "            raise ValueError(\"It's empty\")\n",
    "        case [x]:\n",
    "            return \"변수 패턴 \" + x\n",
    "        case [x, *xs]:\n",
    "            return last(xs)\n",
    "        case _:\n",
    "            return \"와일드카드 \"\n",
    "        \n",
    "print(last([1,2,3,4,5]))    # 5"
   ]
  },
  {
   "cell_type": "code",
   "execution_count": null,
   "id": "c1530cef",
   "metadata": {},
   "outputs": [],
   "source": []
  },
  {
   "cell_type": "code",
   "execution_count": null,
   "id": "13a2e6ed",
   "metadata": {},
   "outputs": [],
   "source": []
  },
  {
   "cell_type": "markdown",
   "id": "49a677ad",
   "metadata": {},
   "source": [
    "## 4-3 구조적 패턴매칭 \n",
    "\n",
    "- 구조적 패턴 매칭(Structural Pattern Matching)은 PEP 634에 의해 제안되고 추가된 기능입니다. \n",
    "- 이 기능을 통해 복잡한 데이터 구조에서 특정 패턴을 검사하고 추출하는 작업을 더 간결하게 처리할 수 있습니다. 구"
   ]
  },
  {
   "cell_type": "code",
   "execution_count": null,
   "id": "bdab751a",
   "metadata": {},
   "outputs": [],
   "source": []
  },
  {
   "cell_type": "markdown",
   "id": "246f4663",
   "metadata": {},
   "source": [
    "### 패턴 매칭 OR 조건(OR 조건(OR Condition) 패턴):\n",
    "\n",
    "- 여러 개의 패턴 중 하나에 매칭되는 경우를 처리합니다.\n",
    "- 예: case 0 | 1 | 2:"
   ]
  },
  {
   "cell_type": "code",
   "execution_count": 1,
   "id": "8cf22487",
   "metadata": {},
   "outputs": [
    {
     "name": "stdout",
     "output_type": "stream",
     "text": [
      "Child\n"
     ]
    }
   ],
   "source": [
    "def classify_age(age):\n",
    "    match age:\n",
    "        case 0 | 1:\n",
    "            return \"Infant\"\n",
    "        case 2 | 3 | 4:\n",
    "            return \"Toddler\"\n",
    "        case 5 | 6 | 7 | 8:\n",
    "            return \"Child\"\n",
    "        case _:\n",
    "            return \"Unknown\"\n",
    "\n",
    "age_group = classify_age(6)\n",
    "print(age_group)  # 출력: \"Child\"\n"
   ]
  },
  {
   "cell_type": "code",
   "execution_count": null,
   "id": "562e58ae",
   "metadata": {},
   "outputs": [],
   "source": []
  },
  {
   "cell_type": "markdown",
   "id": "364aa508",
   "metadata": {},
   "source": [
    "##  구조적 패터매칭 \n",
    "- 튜플이나 리스트와 같은 시퀀스 데이터 구조의 패턴\n",
    "- 예: case (x, y):"
   ]
  },
  {
   "cell_type": "markdown",
   "id": "3d9748c7",
   "metadata": {},
   "source": [
    "### 리스트 패턴 매칭:"
   ]
  },
  {
   "cell_type": "code",
   "execution_count": 3,
   "id": "d337aa97",
   "metadata": {},
   "outputs": [
    {
     "name": "stdout",
     "output_type": "stream",
     "text": [
      "First two elements: 1, 2\n",
      "Remaining elements: [3, 4]\n"
     ]
    }
   ],
   "source": [
    "data = [1, 2, 3, 4]\n",
    "\n",
    "match data:\n",
    "    case []:\n",
    "        print(\"Empty list\")\n",
    "    case [x, y, *rest]:\n",
    "        print(f\"First two elements: {x}, {y}\")\n",
    "        print(f\"Remaining elements: {rest}\")\n",
    "    case [_, _, *rest]:\n",
    "        print(\"At least two elements\")\n"
   ]
  },
  {
   "cell_type": "code",
   "execution_count": null,
   "id": "eb710224",
   "metadata": {},
   "outputs": [],
   "source": []
  },
  {
   "cell_type": "markdown",
   "id": "a3c7caa3",
   "metadata": {},
   "source": [
    "### 튜플 패턴매칭 "
   ]
  },
  {
   "cell_type": "code",
   "execution_count": 4,
   "id": "691696e9",
   "metadata": {},
   "outputs": [
    {
     "name": "stdout",
     "output_type": "stream",
     "text": [
      "At (3, 4)\n"
     ]
    }
   ],
   "source": [
    "point = (3, 4)\n",
    "\n",
    "match point:\n",
    "    case (0, 0):\n",
    "        print(\"Origin\")\n",
    "    case (x, 0):\n",
    "        print(f\"On x-axis at x = {x}\")\n",
    "    case (0, y):\n",
    "        print(f\"On y-axis at y = {y}\")\n",
    "    case (x, y):\n",
    "        print(f\"At ({x}, {y})\")\n"
   ]
  },
  {
   "cell_type": "markdown",
   "id": "82b4ab31",
   "metadata": {},
   "source": [
    "## 딕셔너리(Dictionary) 패턴:\n",
    "\n",
    "- 딕셔너리의 키-값 쌍에 대한 매칭을 수행합니다.\n",
    "- 예: case {\"name\": name, \"age\": age}:"
   ]
  },
  {
   "cell_type": "markdown",
   "id": "0cce6f01",
   "metadata": {},
   "source": [
    "### 딕셔너리 패턴매칭"
   ]
  },
  {
   "cell_type": "code",
   "execution_count": 5,
   "id": "841b5a03",
   "metadata": {},
   "outputs": [
    {
     "name": "stdout",
     "output_type": "stream",
     "text": [
      "Alice is an adult\n"
     ]
    }
   ],
   "source": [
    "person = {\"name\": \"Alice\", \"age\": 30}\n",
    "\n",
    "match person:\n",
    "    case {\"name\": name, \"age\": age} if age < 18:\n",
    "        print(f\"{name} is a minor\")\n",
    "    case {\"name\": name, \"age\": age} if age >= 18:\n",
    "        print(f\"{name} is an adult\")\n",
    "    case _:\n",
    "        print(\"Unknown person\")\n"
   ]
  },
  {
   "cell_type": "code",
   "execution_count": null,
   "id": "2e65e261",
   "metadata": {},
   "outputs": [],
   "source": []
  },
  {
   "cell_type": "code",
   "execution_count": 21,
   "id": "e9d2b67a",
   "metadata": {},
   "outputs": [
    {
     "name": "stdout",
     "output_type": "stream",
     "text": [
      "hello, world\n",
      "{'a': 1, 'b': 2, 'c': 3}\n",
      "{'x': 10, 'z': 30}\n"
     ]
    }
   ],
   "source": [
    "values = [\n",
    "    {'hello': 'world'},\n",
    "    {'a': 1, 'b': 2, 'c': 3},\n",
    "    {'x': 10, 'y': 20, 'z': 30}\n",
    "]\n",
    " \n",
    "for value in values:\n",
    "    match value:\n",
    "        case {'hello': 'world'}:\n",
    "            print('hello, world')\n",
    "        case {'a': 1, 'b': 2} as ab:  # 매칭된 값을 ab에 저장, AS 패턴\n",
    "            print(ab)\n",
    "        case {'y': 20, **rest}:       # 매칭되지 않은 나머지 키를 rest에 저장, 매핑 패턴\n",
    "            print(rest)"
   ]
  },
  {
   "cell_type": "code",
   "execution_count": null,
   "id": "374efa14",
   "metadata": {},
   "outputs": [],
   "source": []
  },
  {
   "cell_type": "markdown",
   "id": "4fe9e6ad",
   "metadata": {},
   "source": [
    "### 타입(Type) 패턴:\n",
    "\n",
    "- 변수나 값의 타입을 기반으로 매칭을 수행합니다.\n",
    "- 예: case x: int:"
   ]
  },
  {
   "cell_type": "code",
   "execution_count": 12,
   "id": "dab911f5",
   "metadata": {},
   "outputs": [
    {
     "ename": "SyntaxError",
     "evalue": "name capture 'int' makes remaining patterns unreachable (2774085416.py, line 3)",
     "output_type": "error",
     "traceback": [
      "\u001b[0;36m  Cell \u001b[0;32mIn[12], line 3\u001b[0;36m\u001b[0m\n\u001b[0;31m    case int:\u001b[0m\n\u001b[0m         ^\u001b[0m\n\u001b[0;31mSyntaxError\u001b[0m\u001b[0;31m:\u001b[0m name capture 'int' makes remaining patterns unreachable\n"
     ]
    }
   ],
   "source": [
    "def process_data(data):\n",
    "    match data:\n",
    "        case int:\n",
    "            return f\"Received an integer: {data}\"\n",
    "        case str:\n",
    "            return f\"Received a string: {data}\"\n",
    "        case _:\n",
    "            return \"Received data of unknown type\"\n"
   ]
  },
  {
   "cell_type": "markdown",
   "id": "2f2ca46e",
   "metadata": {},
   "source": [
    "### 클래스 패턴매칭 "
   ]
  },
  {
   "cell_type": "code",
   "execution_count": 6,
   "id": "d781e8c2",
   "metadata": {},
   "outputs": [
    {
     "name": "stdout",
     "output_type": "stream",
     "text": [
      "Circle\n"
     ]
    }
   ],
   "source": [
    "class Circle:\n",
    "    def __init__(self, radius):\n",
    "        self.radius = radius\n",
    "\n",
    "shape = Circle(5)\n",
    "\n",
    "match shape:\n",
    "    case Circle(radius=0):\n",
    "        print(\"Point\")\n",
    "    case Circle(radius=r) if r > 0:\n",
    "        print(\"Circle\")\n",
    "    case _:\n",
    "        print(\"Unknown shape\")\n"
   ]
  },
  {
   "cell_type": "code",
   "execution_count": null,
   "id": "3c90567c",
   "metadata": {},
   "outputs": [],
   "source": []
  },
  {
   "cell_type": "code",
   "execution_count": null,
   "id": "e42e6945",
   "metadata": {},
   "outputs": [],
   "source": []
  },
  {
   "cell_type": "markdown",
   "id": "f4930e55",
   "metadata": {},
   "source": [
    "## 조건부 패턴매칭 , 매칭 가드(Matching Guard) 패턴:\n",
    "\n",
    "- if 문과 유사하게 추가 조건을 사용하여 매칭을 제어합니다.\n",
    "- 예: case x if x > 0:"
   ]
  },
  {
   "cell_type": "code",
   "execution_count": 7,
   "id": "184847f6",
   "metadata": {},
   "outputs": [
    {
     "name": "stdout",
     "output_type": "stream",
     "text": [
      "Odd\n"
     ]
    }
   ],
   "source": [
    "number = 15\n",
    "\n",
    "match number:\n",
    "    case n if n % 2 == 0:\n",
    "        print(\"Even\")\n",
    "    case n if n % 2 != 0:\n",
    "        print(\"Odd\")\n"
   ]
  },
  {
   "cell_type": "code",
   "execution_count": null,
   "id": "1e025947",
   "metadata": {},
   "outputs": [],
   "source": []
  }
 ],
 "metadata": {
  "kernelspec": {
   "display_name": "Python 3 (ipykernel)",
   "language": "python",
   "name": "python3"
  },
  "language_info": {
   "codemirror_mode": {
    "name": "ipython",
    "version": 3
   },
   "file_extension": ".py",
   "mimetype": "text/x-python",
   "name": "python",
   "nbconvert_exporter": "python",
   "pygments_lexer": "ipython3",
   "version": "3.11.3"
  }
 },
 "nbformat": 4,
 "nbformat_minor": 5
}
