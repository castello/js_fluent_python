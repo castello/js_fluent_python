{
 "cells": [
  {
   "cell_type": "code",
   "execution_count": 1,
   "id": "d0b3fc46",
   "metadata": {},
   "outputs": [
    {
     "data": {
      "text/plain": [
       "'3.11.3'"
      ]
     },
     "execution_count": 1,
     "metadata": {},
     "output_type": "execute_result"
    }
   ],
   "source": [
    "import platform\n",
    "\n",
    "platform.python_version()"
   ]
  },
  {
   "cell_type": "code",
   "execution_count": null,
   "id": "2e3f8b40",
   "metadata": {},
   "outputs": [],
   "source": []
  },
  {
   "cell_type": "code",
   "execution_count": null,
   "id": "41884713",
   "metadata": {},
   "outputs": [],
   "source": []
  },
  {
   "cell_type": "code",
   "execution_count": null,
   "id": "cf3d7dec",
   "metadata": {},
   "outputs": [],
   "source": []
  },
  {
   "cell_type": "markdown",
   "id": "4dfa57e8",
   "metadata": {},
   "source": [
    "# 1.  제어문 "
   ]
  },
  {
   "cell_type": "code",
   "execution_count": null,
   "id": "ae99fdae",
   "metadata": {},
   "outputs": [],
   "source": []
  },
  {
   "cell_type": "markdown",
   "id": "8379d026",
   "metadata": {},
   "source": [
    "## 1-1 불리언 자료형 이해하기 "
   ]
  },
  {
   "cell_type": "markdown",
   "id": "884b4c2e",
   "metadata": {},
   "source": [
    "## 불리언 클래스는 정수의 하위 클래스"
   ]
  },
  {
   "cell_type": "code",
   "execution_count": 1,
   "id": "794ef915",
   "metadata": {},
   "outputs": [
    {
     "data": {
      "text/plain": [
       "[bool, <enum 'IntEnum'>, <enum 'IntFlag'>, sre_constants._NamedIntConstant]"
      ]
     },
     "execution_count": 1,
     "metadata": {},
     "output_type": "execute_result"
    }
   ],
   "source": [
    "int.__subclasses__()             # 정수 클래스를 상속한 클래스 확인하기"
   ]
  },
  {
   "cell_type": "code",
   "execution_count": 2,
   "id": "15a96b42",
   "metadata": {},
   "outputs": [
    {
     "data": {
      "text/plain": [
       "1"
      ]
     },
     "execution_count": 2,
     "metadata": {},
     "output_type": "execute_result"
    }
   ],
   "source": [
    "True + 0                         # 불리언 타입은 정수를 상속해서 True는 1로 처리 "
   ]
  },
  {
   "cell_type": "markdown",
   "id": "ca5f9c35",
   "metadata": {},
   "source": [
    "## 빈 값은 거짓  그외는 참으로 인식"
   ]
  },
  {
   "cell_type": "code",
   "execution_count": 3,
   "id": "c1e1cf1f",
   "metadata": {},
   "outputs": [
    {
     "data": {
      "text/plain": [
       "False"
      ]
     },
     "execution_count": 3,
     "metadata": {},
     "output_type": "execute_result"
    }
   ],
   "source": [
    "bool(None)                        # 블리언 클래스으로 널값을 인자로 넣어서 객체를 생성하면 False"
   ]
  },
  {
   "cell_type": "code",
   "execution_count": 4,
   "id": "936dce3a",
   "metadata": {},
   "outputs": [
    {
     "name": "stdout",
     "output_type": "stream",
     "text": [
      "False\n",
      "False\n",
      "False\n",
      "False\n",
      "False\n"
     ]
    }
   ],
   "source": [
    "print(bool(0))                    # 숫자 0 \n",
    "print(bool(\"\"))                   # 빈 문자열\n",
    "print(bool([]))                   # 빈 리스트 \n",
    "print(bool(()))                   # 빈 튜플 \n",
    "print(bool({}))                   # 빈 딕셔너리 "
   ]
  },
  {
   "cell_type": "code",
   "execution_count": null,
   "id": "c4ec30d7",
   "metadata": {},
   "outputs": [],
   "source": []
  },
  {
   "cell_type": "markdown",
   "id": "ddab8fb7",
   "metadata": {},
   "source": [
    "## 1-2  조건문 \n",
    "\n",
    "- 조건식이 참과 거짓일 경우 처리하는 문장 "
   ]
  },
  {
   "cell_type": "markdown",
   "id": "e6594f53",
   "metadata": {},
   "source": [
    "## 단순 조건 "
   ]
  },
  {
   "cell_type": "code",
   "execution_count": 5,
   "id": "03680208",
   "metadata": {},
   "outputs": [
    {
     "name": "stdout",
     "output_type": "stream",
     "text": [
      "참일 경우 \n"
     ]
    }
   ],
   "source": [
    "if True :                        # if 문의 조건은 항상 참이여야 함 \n",
    "    print(\"참일 경우 \")\n"
   ]
  },
  {
   "cell_type": "code",
   "execution_count": 6,
   "id": "4ca4b354",
   "metadata": {},
   "outputs": [
    {
     "name": "stdout",
     "output_type": "stream",
     "text": [
      "참일 경우 \n"
     ]
    }
   ],
   "source": [
    "if True :                        # if 문의 조건은 항상 참이여야 함 \n",
    "    print(\"참일 경우 \")\n",
    "else :\n",
    "    print(\"거짓일 경우\")"
   ]
  },
  {
   "cell_type": "markdown",
   "id": "c3d839df",
   "metadata": {},
   "source": [
    "## 복합 조건 "
   ]
  },
  {
   "cell_type": "code",
   "execution_count": 7,
   "id": "e0112a0c",
   "metadata": {},
   "outputs": [],
   "source": [
    "a = 100; b=30"
   ]
  },
  {
   "cell_type": "code",
   "execution_count": 8,
   "id": "c30fc47f",
   "metadata": {},
   "outputs": [
    {
     "name": "stdout",
     "output_type": "stream",
     "text": [
      "동일한 값일 경우\n"
     ]
    }
   ],
   "source": [
    "if a < 100  :\n",
    "    print(\"참일 경우 \")\n",
    "elif a == 100 :\n",
    "    print(\"동일한 값일 경우\")\n",
    "else :\n",
    "    print(\"거짓일 경우\")"
   ]
  },
  {
   "cell_type": "markdown",
   "id": "b76b1f92",
   "metadata": {},
   "source": [
    "## 내포된 if 문 처리 "
   ]
  },
  {
   "cell_type": "code",
   "execution_count": 9,
   "id": "a76e6efb",
   "metadata": {},
   "outputs": [
    {
     "name": "stdout",
     "output_type": "stream",
     "text": [
      "참일 경우\n",
      "내포된 거짓 경우 \n"
     ]
    }
   ],
   "source": [
    "if b > 10  :\n",
    "    print(\"참일 경우\")\n",
    "    if  b > 30 : \n",
    "        print(\"내포된 참일 경우 \")\n",
    "    else : \n",
    "        print(\"내포된 거짓 경우 \")\n",
    "else :\n",
    "    print(\"거짓일 경우\")"
   ]
  },
  {
   "cell_type": "markdown",
   "id": "ef402d86",
   "metadata": {},
   "source": [
    "## 1-3 삼항연산 처리 "
   ]
  },
  {
   "cell_type": "code",
   "execution_count": 10,
   "id": "07637c79",
   "metadata": {},
   "outputs": [],
   "source": [
    "m = 10\n",
    "n = 20\n",
    "x = 5"
   ]
  },
  {
   "cell_type": "code",
   "execution_count": 11,
   "id": "dbcc6e47",
   "metadata": {},
   "outputs": [
    {
     "name": "stdout",
     "output_type": "stream",
     "text": [
      "20\n"
     ]
    }
   ],
   "source": [
    "print(n) if (m) else x          # if 문의 조건이 참인 경우는 if 문 앞에 작성해야 함 "
   ]
  },
  {
   "cell_type": "code",
   "execution_count": null,
   "id": "93df89ed",
   "metadata": {},
   "outputs": [],
   "source": []
  },
  {
   "cell_type": "code",
   "execution_count": null,
   "id": "bd80bb56",
   "metadata": {},
   "outputs": [],
   "source": []
  },
  {
   "cell_type": "markdown",
   "id": "364347b3",
   "metadata": {},
   "source": [
    "# 2. 순환문 \n",
    "\n",
    "-  for 과 while 문 \n",
    "-  여러 원소를 가진 객체를 순환하는 for 문\n",
    "-  조건식이 참일 경우 처리하는 whiel 문"
   ]
  },
  {
   "cell_type": "markdown",
   "id": "8721aa77",
   "metadata": {},
   "source": [
    "## 2-1 for\n",
    "- 여러 원소를 가진 객체를 처리 "
   ]
  },
  {
   "cell_type": "markdown",
   "id": "208c03f3",
   "metadata": {},
   "source": [
    "## 범위 객체 생성하기 "
   ]
  },
  {
   "cell_type": "code",
   "execution_count": 12,
   "id": "60398cf8",
   "metadata": {},
   "outputs": [],
   "source": [
    "r = range(1,5)                 # 범위는 range 클래스의 객체를 생성 첫번째는 시작, 두번째는 종료(실제 적용값은 종료 -1) "
   ]
  },
  {
   "cell_type": "code",
   "execution_count": 13,
   "id": "639dcbaa",
   "metadata": {},
   "outputs": [
    {
     "data": {
      "text/plain": [
       "(1, 5, 1)"
      ]
     },
     "execution_count": 13,
     "metadata": {},
     "output_type": "execute_result"
    }
   ],
   "source": [
    "r.start,r.stop, r.step"
   ]
  },
  {
   "cell_type": "markdown",
   "id": "bfac1a83",
   "metadata": {},
   "source": [
    "## 범위 처리"
   ]
  },
  {
   "cell_type": "code",
   "execution_count": 14,
   "id": "1120b914",
   "metadata": {},
   "outputs": [
    {
     "name": "stdout",
     "output_type": "stream",
     "text": [
      "1\n",
      "2\n",
      "3\n",
      "4\n"
     ]
    }
   ],
   "source": [
    "for r in range(1,5)  :         ## for 문의 in 다음에는 iterable 즉 반복이 가능한 여러 원소를 가진 객체를 넣는다 \n",
    "    print(r)"
   ]
  },
  {
   "cell_type": "markdown",
   "id": "ec46ee9d",
   "metadata": {},
   "source": [
    "## 리스트 순환"
   ]
  },
  {
   "cell_type": "code",
   "execution_count": 15,
   "id": "c0a724f8",
   "metadata": {},
   "outputs": [],
   "source": [
    "ll = [1,2,3,4,]               # 리스트 리터럴은 대괄호 사이에 원소값을 나열해서 지정한다. "
   ]
  },
  {
   "cell_type": "code",
   "execution_count": 16,
   "id": "76ca5f99",
   "metadata": {},
   "outputs": [
    {
     "name": "stdout",
     "output_type": "stream",
     "text": [
      "1\n",
      "2\n",
      "3\n",
      "4\n"
     ]
    }
   ],
   "source": [
    "for l in ll :\n",
    "    print(l)"
   ]
  },
  {
   "cell_type": "code",
   "execution_count": null,
   "id": "b28feafb",
   "metadata": {},
   "outputs": [],
   "source": []
  },
  {
   "cell_type": "code",
   "execution_count": null,
   "id": "ef0b1418",
   "metadata": {},
   "outputs": [],
   "source": []
  },
  {
   "cell_type": "markdown",
   "id": "aba4b0d0",
   "metadata": {},
   "source": [
    "## 2-2 while "
   ]
  },
  {
   "cell_type": "markdown",
   "id": "cfda8978",
   "metadata": {},
   "source": [
    "## 조건식으로 순환 처리"
   ]
  },
  {
   "cell_type": "code",
   "execution_count": 17,
   "id": "d073e3a0",
   "metadata": {},
   "outputs": [],
   "source": [
    "liter = iter(ll)                 # iterator는 동적으로 처리하므로 한번 사용하면 원소가 다 없어진다. \n",
    "                                 # 그래서 계속사용하려면 반복자 객체를 다시 생셩"
   ]
  },
  {
   "cell_type": "code",
   "execution_count": 18,
   "id": "6b4d80a0",
   "metadata": {},
   "outputs": [
    {
     "name": "stdout",
     "output_type": "stream",
     "text": [
      "1\n",
      "2\n",
      "3\n",
      "4\n"
     ]
    }
   ],
   "source": [
    "xx = next(liter)\n",
    "while xx :                       # 리스트를 조건에 맞게 순환하기 위히 반복자로 변경해서 처리 \n",
    "    print(xx)\n",
    "    xx = next(liter, None)\n",
    "    "
   ]
  },
  {
   "cell_type": "markdown",
   "id": "801f6024",
   "metadata": {},
   "source": [
    "## 앞에서 반복자 리스트를 다 사용\n",
    "\n",
    "- 반복자를 더 사용할 수 없음 "
   ]
  },
  {
   "cell_type": "code",
   "execution_count": 19,
   "id": "cf9ae3c5",
   "metadata": {},
   "outputs": [
    {
     "name": "stdout",
     "output_type": "stream",
     "text": [
      "StopIterator 원소를 다 소진함 \n"
     ]
    }
   ],
   "source": [
    "try :\n",
    "    next(liter)\n",
    "except Exception as e :\n",
    "    print(\"StopIterator 원소를 다 소진함 \")"
   ]
  },
  {
   "cell_type": "markdown",
   "id": "f9f26f03",
   "metadata": {},
   "source": [
    "# 3. 매치 처리하기 \n",
    "\n"
   ]
  },
  {
   "cell_type": "code",
   "execution_count": null,
   "id": "ef2571de",
   "metadata": {},
   "outputs": [],
   "source": []
  },
  {
   "cell_type": "code",
   "execution_count": null,
   "id": "8930c630",
   "metadata": {},
   "outputs": [],
   "source": []
  },
  {
   "cell_type": "code",
   "execution_count": null,
   "id": "065eb5a9",
   "metadata": {},
   "outputs": [],
   "source": []
  }
 ],
 "metadata": {
  "kernelspec": {
   "display_name": "Python 3 (ipykernel)",
   "language": "python",
   "name": "python3"
  },
  "language_info": {
   "codemirror_mode": {
    "name": "ipython",
    "version": 3
   },
   "file_extension": ".py",
   "mimetype": "text/x-python",
   "name": "python",
   "nbconvert_exporter": "python",
   "pygments_lexer": "ipython3",
   "version": "3.11.3"
  }
 },
 "nbformat": 4,
 "nbformat_minor": 5
}
