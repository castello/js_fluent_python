{
 "cells": [
  {
   "cell_type": "code",
   "execution_count": 1,
   "id": "f5715178",
   "metadata": {},
   "outputs": [
    {
     "data": {
      "text/plain": [
       "'3.11.3'"
      ]
     },
     "execution_count": 1,
     "metadata": {},
     "output_type": "execute_result"
    }
   ],
   "source": [
    "import platform\n",
    "\n",
    "platform.python_version()"
   ]
  },
  {
   "cell_type": "code",
   "execution_count": null,
   "id": "c7b5ac56",
   "metadata": {},
   "outputs": [],
   "source": []
  },
  {
   "cell_type": "markdown",
   "id": "0dd9e986",
   "metadata": {},
   "source": [
    "## 1. 함수 내부에 함수 정의하고 사용하기 \n",
    "\n",
    "- 함수 내부에도 함수를 정의해서 사용이 가능\n"
   ]
  },
  {
   "cell_type": "markdown",
   "id": "dc2cf46d",
   "metadata": {},
   "source": [
    "## 1-1 함수 내부의 함수 정의하기"
   ]
  },
  {
   "cell_type": "markdown",
   "id": "9bb4096c",
   "metadata": {},
   "source": [
    "###  함수 내부에 함수를 정의하기  : 함수내부에서 실행하기"
   ]
  },
  {
   "cell_type": "code",
   "execution_count": 11,
   "id": "80d2fea8",
   "metadata": {},
   "outputs": [],
   "source": [
    "def outer1(x) :\n",
    "    def inner(y) :\n",
    "        return x+y\n",
    "    return inner(100)"
   ]
  },
  {
   "cell_type": "code",
   "execution_count": 12,
   "id": "1d3ed541",
   "metadata": {},
   "outputs": [
    {
     "data": {
      "text/plain": [
       "200"
      ]
     },
     "execution_count": 12,
     "metadata": {},
     "output_type": "execute_result"
    }
   ],
   "source": [
    "outer1(100)"
   ]
  },
  {
   "cell_type": "code",
   "execution_count": null,
   "id": "2c32792c",
   "metadata": {},
   "outputs": [],
   "source": []
  },
  {
   "cell_type": "markdown",
   "id": "e5bf735e",
   "metadata": {},
   "source": [
    "###  함수 내부에 함수를 정의하기 : 내부함수를 반환하기"
   ]
  },
  {
   "cell_type": "code",
   "execution_count": 4,
   "id": "005959d4",
   "metadata": {},
   "outputs": [],
   "source": [
    "def outer2(x) :\n",
    "    def inner(y) :\n",
    "        return x+y\n",
    "    return inner"
   ]
  },
  {
   "cell_type": "code",
   "execution_count": 5,
   "id": "3c736bab",
   "metadata": {},
   "outputs": [],
   "source": [
    "inner = outer2(10)"
   ]
  },
  {
   "cell_type": "code",
   "execution_count": 6,
   "id": "e13aba1d",
   "metadata": {},
   "outputs": [
    {
     "data": {
      "text/plain": [
       "30"
      ]
     },
     "execution_count": 6,
     "metadata": {},
     "output_type": "execute_result"
    }
   ],
   "source": [
    "inner(20)"
   ]
  },
  {
   "cell_type": "markdown",
   "id": "8544d118",
   "metadata": {},
   "source": [
    "## ###  함수 내부에 함수를 정의하기 : 내부함수를 반환한 후에 전달받은 함수 실행하기"
   ]
  },
  {
   "cell_type": "code",
   "execution_count": 13,
   "id": "17f9ae82",
   "metadata": {},
   "outputs": [],
   "source": [
    "def outer3(func) :\n",
    "    def inner(x,y) :\n",
    "        return func(x,y)\n",
    "    return inner"
   ]
  },
  {
   "cell_type": "code",
   "execution_count": 14,
   "id": "03b97ef9",
   "metadata": {},
   "outputs": [],
   "source": [
    "inner = outer3(lambda x,y : x+y)"
   ]
  },
  {
   "cell_type": "code",
   "execution_count": 15,
   "id": "7d4b7dba",
   "metadata": {},
   "outputs": [
    {
     "data": {
      "text/plain": [
       "300"
      ]
     },
     "execution_count": 15,
     "metadata": {},
     "output_type": "execute_result"
    }
   ],
   "source": [
    "inner(100,200)"
   ]
  },
  {
   "cell_type": "code",
   "execution_count": null,
   "id": "13d2c8df",
   "metadata": {},
   "outputs": [],
   "source": []
  },
  {
   "cell_type": "code",
   "execution_count": null,
   "id": "164a70e9",
   "metadata": {},
   "outputs": [],
   "source": []
  },
  {
   "cell_type": "markdown",
   "id": "d3e1698c",
   "metadata": {},
   "source": [
    "## 2. 클로저 환경 \n"
   ]
  },
  {
   "cell_type": "code",
   "execution_count": null,
   "id": "ecde23fe",
   "metadata": {},
   "outputs": [],
   "source": []
  },
  {
   "cell_type": "markdown",
   "id": "d5470821",
   "metadata": {},
   "source": [
    "## 클로저(Closure) \n",
    "\n",
    "- 내부 함수가 외부 함수의 범위에 있는 변수를 참조하고 있는 경우를 가리킵니다. \n",
    "- 파이썬에서 클로저는 함수가 호출되어 종료된 후에도 해당 함수의 범위에 있는 변수들이 메모리에 유지되는 현상을 말합니다.\n",
    "- 이를 통해 함수의 상태를 유지하면서 독립적인 작업 단위를 만들 수 있습니다.\n",
    "\n",
    "### 클로저는 주로 다음과 같은 상황에서 사용됩니다:\n",
    "\n",
    "- 콜백 함수(Callback Functions): 함수 내부에서 정의된 함수가 외부 함수에 전달되어 나중에 호출될 때, 클로저로서 동작합니다.\n",
    "\n",
    "- 팩토리 함수(Factory Functions): 함수 내부에서 함수를 생성하여 반환하고, 반환된 함수는 클로저로서 원본 함수의 범위에 있는 변수를 유지합니다.\n",
    "\n",
    "- 상태 유지(State Preservation): 함수가 호출될 때마다 함수 내의 변수 상태가 유지되어야 할 때, 클로저를 사용하여 변수 상태를 유지할 수 있습니다."
   ]
  },
  {
   "cell_type": "code",
   "execution_count": null,
   "id": "34ba8b82",
   "metadata": {},
   "outputs": [],
   "source": []
  },
  {
   "cell_type": "markdown",
   "id": "186370a9",
   "metadata": {},
   "source": [
    "## 클로저에서 자유 변수(Free Variable)\n",
    "\n",
    "- 내부 함수가 외부 함수의 범위에 있는 변수를 참조하는 경우를 가리킵니다. \n",
    "- 이러한 자유 변수는 클로저의 동작을 정의하고 상태를 유지하는 데에 사용됩니다.\n",
    "\n",
    "### 클로저에서 자유 변수의 특징은 다음과 같습니다:\n",
    "\n",
    "- 참조: 클로저 내부 함수에서 외부 함수의 변수를 참조하면 자유 변수가 형성됩니다. 이 변수는 내부 함수의 범위 내에서 선언되지 않았지만 사용됩니다.\n",
    "\n",
    "- 유지: 클로저가 생성된 후에도 자유 변수의 값은 유지됩니다. 클로저가 호출될 때마다 해당 변수의 값이 유지되어 사용됩니다.\n",
    "\n",
    "- 함수 간 상호작용: 클로저가 자유 변수를 사용하여 함수 간에 상태를 공유하거나 정보를 전달할 수 있습니다."
   ]
  },
  {
   "cell_type": "code",
   "execution_count": null,
   "id": "78c461df",
   "metadata": {},
   "outputs": [],
   "source": []
  },
  {
   "cell_type": "markdown",
   "id": "eae6b32e",
   "metadata": {},
   "source": [
    "## 2-1  클로저 환경 확인하기 : 변수 확인 "
   ]
  },
  {
   "cell_type": "markdown",
   "id": "5f15d157",
   "metadata": {},
   "source": [
    "### 함수를 정의하기\n",
    "- 외부 변수의 x 를 내부 함수에서 캡처해서 사용 "
   ]
  },
  {
   "cell_type": "code",
   "execution_count": 7,
   "id": "b3df2694",
   "metadata": {},
   "outputs": [],
   "source": [
    "def outer(x) :\n",
    "    def inner(y) :\n",
    "        return x+y\n",
    "    return inner"
   ]
  },
  {
   "cell_type": "code",
   "execution_count": 8,
   "id": "75917ca1",
   "metadata": {},
   "outputs": [],
   "source": [
    "inner = outer(10)"
   ]
  },
  {
   "cell_type": "markdown",
   "id": "94ae6be9",
   "metadata": {},
   "source": [
    "### 자유변수 확인하기 "
   ]
  },
  {
   "cell_type": "code",
   "execution_count": 9,
   "id": "df8b039b",
   "metadata": {},
   "outputs": [
    {
     "data": {
      "text/plain": [
       "(<cell at 0x1083ca500: int object at 0x1052324b8>,)"
      ]
     },
     "execution_count": 9,
     "metadata": {},
     "output_type": "execute_result"
    }
   ],
   "source": [
    "inner.__closure__            # 내부함수 내의 클로저인 변수를 확인"
   ]
  },
  {
   "cell_type": "code",
   "execution_count": 10,
   "id": "b10b7a70",
   "metadata": {},
   "outputs": [
    {
     "data": {
      "text/plain": [
       "10"
      ]
     },
     "execution_count": 10,
     "metadata": {},
     "output_type": "execute_result"
    }
   ],
   "source": [
    "inner.__closure__[0].cell_contents"
   ]
  },
  {
   "cell_type": "markdown",
   "id": "79037c48",
   "metadata": {},
   "source": [
    "## 2-2  클로저 환경 확인하기 : 전달된 함수 확인 "
   ]
  },
  {
   "cell_type": "markdown",
   "id": "0928d587",
   "metadata": {},
   "source": [
    "### 함수를 정의하기\n",
    "- 외부 변수의 func 를 내부 함수에서 캡처해서 사용 "
   ]
  },
  {
   "cell_type": "code",
   "execution_count": 16,
   "id": "17408697",
   "metadata": {},
   "outputs": [],
   "source": [
    "def freeVar(func) :\n",
    "    def inner(x,y) :\n",
    "        return func(x,y)\n",
    "    return inner"
   ]
  },
  {
   "cell_type": "code",
   "execution_count": 17,
   "id": "af263efe",
   "metadata": {},
   "outputs": [],
   "source": [
    "inner = freeVar(lambda x,y : x+y)"
   ]
  },
  {
   "cell_type": "markdown",
   "id": "fa636d2c",
   "metadata": {},
   "source": [
    "### 자유변수 확인하기"
   ]
  },
  {
   "cell_type": "code",
   "execution_count": 18,
   "id": "e49d9be3",
   "metadata": {},
   "outputs": [
    {
     "data": {
      "text/plain": [
       "(<cell at 0x1083cae00: function object at 0x1083cf9c0>,)"
      ]
     },
     "execution_count": 18,
     "metadata": {},
     "output_type": "execute_result"
    }
   ],
   "source": [
    "inner.__closure__            # 내부함수 내의 클로저인 변수를 확인"
   ]
  },
  {
   "cell_type": "code",
   "execution_count": 19,
   "id": "3e0f73d0",
   "metadata": {},
   "outputs": [
    {
     "data": {
      "text/plain": [
       "<function __main__.<lambda>(x, y)>"
      ]
     },
     "execution_count": 19,
     "metadata": {},
     "output_type": "execute_result"
    }
   ],
   "source": [
    "inner.__closure__[0].cell_contents"
   ]
  },
  {
   "cell_type": "code",
   "execution_count": null,
   "id": "576e3c6e",
   "metadata": {},
   "outputs": [],
   "source": []
  },
  {
   "cell_type": "code",
   "execution_count": null,
   "id": "d09d579a",
   "metadata": {},
   "outputs": [],
   "source": []
  },
  {
   "cell_type": "code",
   "execution_count": null,
   "id": "81ad2e8d",
   "metadata": {},
   "outputs": [],
   "source": []
  },
  {
   "cell_type": "markdown",
   "id": "643948c0",
   "metadata": {},
   "source": [
    "# 2. 데코레이터\n",
    "\n",
    "-  클로저환경을 이용해서 실행함수를 전달한 후에 이를 사용해서 내부 기능을 추가하고 처리하는 방식"
   ]
  },
  {
   "cell_type": "markdown",
   "id": "93b23763",
   "metadata": {},
   "source": [
    "## 데코레이터(Decorator)\n",
    "\n",
    "- 파이썬에서 함수나 메서드의 동작을 수정하거나 확장하기 위해 사용되는 강력한 기능입니다.\n",
    "- 데코레이터는 함수를 입력으로 받아 또 다른 함수를 반환하는 함수입니다. \n",
    "- 이를 활용하여 기존 함수의 동작을 변경하거나 추가적인 작업을 수행할 수 있습니다.\n",
    "\n",
    "### 데코레이터 표기\n",
    "- 보통 실행 함수의 선언 위에 @decorator_name 형태로 표기되며, 함수의 정의나 호출을 더 간결하게 만들어주고 코드 중복을 줄이는데 도움을 줍니다.\n",
    "\n"
   ]
  },
  {
   "cell_type": "markdown",
   "id": "a34b8153",
   "metadata": {},
   "source": [
    "## 2-1 일반적인 방식이 데코레이터 구성하기 \n",
    "\n",
    "- 함수를 정의해서 함수의 인자로 함수를 전달해서 내부함수를 반환"
   ]
  },
  {
   "cell_type": "code",
   "execution_count": 8,
   "id": "98235f36",
   "metadata": {},
   "outputs": [],
   "source": [
    "def add(x,y) :\n",
    "    return x+y"
   ]
  },
  {
   "cell_type": "code",
   "execution_count": 9,
   "id": "5f72f7d5",
   "metadata": {},
   "outputs": [],
   "source": [
    "def outer(func) :\n",
    "    def inner(*args, **kwargs) :\n",
    "        return func(*args, **kwargs)\n",
    "    \n",
    "    return inner"
   ]
  },
  {
   "cell_type": "code",
   "execution_count": 10,
   "id": "519aa2fb",
   "metadata": {},
   "outputs": [],
   "source": [
    "add = outer(add)"
   ]
  },
  {
   "cell_type": "code",
   "execution_count": 11,
   "id": "bc418da7",
   "metadata": {},
   "outputs": [
    {
     "data": {
      "text/plain": [
       "<function __main__.outer.<locals>.inner(*args, **kwargs)>"
      ]
     },
     "execution_count": 11,
     "metadata": {},
     "output_type": "execute_result"
    }
   ],
   "source": [
    "add"
   ]
  },
  {
   "cell_type": "code",
   "execution_count": 12,
   "id": "a186b5f1",
   "metadata": {},
   "outputs": [
    {
     "data": {
      "text/plain": [
       "30"
      ]
     },
     "execution_count": 12,
     "metadata": {},
     "output_type": "execute_result"
    }
   ],
   "source": [
    "add(10,20)"
   ]
  },
  {
   "cell_type": "markdown",
   "id": "957c464a",
   "metadata": {},
   "source": [
    "## 2-2 데코레이터 표기법 사용하기\n",
    "\n",
    "- 다양한 데코레이터를 처리하기 위해 @ 표기법으로 사용"
   ]
  },
  {
   "cell_type": "code",
   "execution_count": null,
   "id": "a7c6a412",
   "metadata": {},
   "outputs": [],
   "source": []
  },
  {
   "cell_type": "code",
   "execution_count": 13,
   "id": "f77d95c6",
   "metadata": {},
   "outputs": [],
   "source": [
    "def decorator(func) :\n",
    "    def printFunc() :\n",
    "        print(\" 내부 기능 실행 \")\n",
    "    def inner(*args, **kwargs) :\n",
    "        printFunc()\n",
    "        return func(*args, **kwargs)\n",
    "    \n",
    "    return inner"
   ]
  },
  {
   "cell_type": "code",
   "execution_count": null,
   "id": "10b905ea",
   "metadata": {},
   "outputs": [],
   "source": []
  },
  {
   "cell_type": "code",
   "execution_count": 14,
   "id": "39dfd413",
   "metadata": {},
   "outputs": [],
   "source": [
    "@decorator\n",
    "def mul(x,y) :\n",
    "    return x*y"
   ]
  },
  {
   "cell_type": "code",
   "execution_count": 15,
   "id": "1c7a484b",
   "metadata": {},
   "outputs": [
    {
     "name": "stdout",
     "output_type": "stream",
     "text": [
      " 내부 기능 실행 \n"
     ]
    },
    {
     "data": {
      "text/plain": [
       "200"
      ]
     },
     "execution_count": 15,
     "metadata": {},
     "output_type": "execute_result"
    }
   ],
   "source": [
    "mul(10,20)"
   ]
  },
  {
   "cell_type": "code",
   "execution_count": null,
   "id": "37ac0587",
   "metadata": {},
   "outputs": [],
   "source": []
  },
  {
   "cell_type": "markdown",
   "id": "945c3525",
   "metadata": {},
   "source": [
    "## 2-3 여러 데코레이터를 사용하기 \n",
    "\n",
    "- 데코레이터를 계속 탑으로 쌓아서 처리할 수 있다. "
   ]
  },
  {
   "cell_type": "markdown",
   "id": "2fbea203",
   "metadata": {},
   "source": [
    "## 2개의 데코레이터 처리함수 정의"
   ]
  },
  {
   "cell_type": "code",
   "execution_count": 16,
   "id": "bae72b35",
   "metadata": {},
   "outputs": [],
   "source": [
    "def decorator1(func) :\n",
    "    def printFunc() :\n",
    "        print(\" 데코레이터 1 내부 기능 실행 \")\n",
    "    def inner(*args, **kwargs) :\n",
    "        printFunc()\n",
    "        return func(*args, **kwargs)\n",
    "    \n",
    "    return inner"
   ]
  },
  {
   "cell_type": "code",
   "execution_count": 17,
   "id": "808b11fa",
   "metadata": {},
   "outputs": [],
   "source": [
    "def decorator2(func) :\n",
    "    def printFunc() :\n",
    "        print(\" 데코레이터 2 내부 기능 실행 \")\n",
    "    def inner(*args, **kwargs) :\n",
    "        printFunc()\n",
    "        return func(*args, **kwargs)\n",
    "    \n",
    "    return inner"
   ]
  },
  {
   "cell_type": "markdown",
   "id": "1329375f",
   "metadata": {},
   "source": [
    "## 실행함수에 데코레이터 처리"
   ]
  },
  {
   "cell_type": "code",
   "execution_count": 18,
   "id": "6e7c2cc4",
   "metadata": {},
   "outputs": [],
   "source": [
    "@decorator2\n",
    "@decorator1\n",
    "def sub(x,y) :\n",
    "    return x - y"
   ]
  },
  {
   "cell_type": "markdown",
   "id": "3f51cfae",
   "metadata": {},
   "source": [
    "## 실행함수 실행 "
   ]
  },
  {
   "cell_type": "code",
   "execution_count": 19,
   "id": "f05a6caa",
   "metadata": {},
   "outputs": [
    {
     "name": "stdout",
     "output_type": "stream",
     "text": [
      " 데코레이터 2 내부 기능 실행 \n",
      " 데코레이터 1 내부 기능 실행 \n"
     ]
    },
    {
     "data": {
      "text/plain": [
       "20"
      ]
     },
     "execution_count": 19,
     "metadata": {},
     "output_type": "execute_result"
    }
   ],
   "source": [
    "sub(100,80)"
   ]
  },
  {
   "cell_type": "code",
   "execution_count": null,
   "id": "76d781c4",
   "metadata": {},
   "outputs": [],
   "source": []
  },
  {
   "cell_type": "markdown",
   "id": "c2b293c1",
   "metadata": {},
   "source": [
    "## 2-4 데코레이터 처리 함수에 대한 정보를 동기화 하기"
   ]
  },
  {
   "cell_type": "code",
   "execution_count": null,
   "id": "6485abb2",
   "metadata": {},
   "outputs": [],
   "source": []
  },
  {
   "cell_type": "markdown",
   "id": "0ff3163b",
   "metadata": {},
   "source": [
    "## 모듈 사용하기 "
   ]
  },
  {
   "cell_type": "code",
   "execution_count": 20,
   "id": "63b91536",
   "metadata": {},
   "outputs": [],
   "source": [
    "import functools"
   ]
  },
  {
   "cell_type": "markdown",
   "id": "98d7fe38",
   "metadata": {},
   "source": [
    "### 데코레이터 함수 정의할 때 wraps로 실행함수 정보를 내부함수에 세팅하기"
   ]
  },
  {
   "cell_type": "code",
   "execution_count": 21,
   "id": "4644dc57",
   "metadata": {},
   "outputs": [],
   "source": [
    "def my_decorator(func):\n",
    "    @functools.wraps(func)\n",
    "    def wrapper(*args, **kwargs):\n",
    "        print(\"Something is happening before the function is called.\")\n",
    "        result = func(*args, **kwargs)\n",
    "        print(\"Something is happening after the function is called.\")\n",
    "        return result\n",
    "    return wrapper"
   ]
  },
  {
   "cell_type": "markdown",
   "id": "fb38121c",
   "metadata": {},
   "source": [
    "### 데코레이터를 처리한 후에 내부 반환된 함수의 정보를 확인"
   ]
  },
  {
   "cell_type": "code",
   "execution_count": 23,
   "id": "b017c723",
   "metadata": {},
   "outputs": [
    {
     "name": "stdout",
     "output_type": "stream",
     "text": [
      "say_hello\n",
      "This function says hello.\n"
     ]
    }
   ],
   "source": [
    "@my_decorator\n",
    "def say_hello():\n",
    "    \"\"\"This function says hello.\"\"\"\n",
    "    print(\"Hello!\")\n",
    "\n",
    "print(say_hello.__name__)         # Output: \"say_hello\"\n",
    "print(say_hello.__doc__)          # Output: \"This function says hello.\"\n"
   ]
  },
  {
   "cell_type": "code",
   "execution_count": null,
   "id": "b170a9ac",
   "metadata": {},
   "outputs": [],
   "source": []
  }
 ],
 "metadata": {
  "kernelspec": {
   "display_name": "Python 3 (ipykernel)",
   "language": "python",
   "name": "python3"
  },
  "language_info": {
   "codemirror_mode": {
    "name": "ipython",
    "version": 3
   },
   "file_extension": ".py",
   "mimetype": "text/x-python",
   "name": "python",
   "nbconvert_exporter": "python",
   "pygments_lexer": "ipython3",
   "version": "3.11.3"
  }
 },
 "nbformat": 4,
 "nbformat_minor": 5
}
