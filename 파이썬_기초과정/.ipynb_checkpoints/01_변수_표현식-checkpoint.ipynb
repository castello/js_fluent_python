{
 "cells": [
  {
   "cell_type": "code",
   "execution_count": null,
   "id": "fc5c8354",
   "metadata": {},
   "outputs": [],
   "source": []
  },
  {
   "cell_type": "code",
   "execution_count": 1,
   "id": "eb6d821b",
   "metadata": {},
   "outputs": [
    {
     "data": {
      "text/plain": [
       "'3.11.3'"
      ]
     },
     "execution_count": 1,
     "metadata": {},
     "output_type": "execute_result"
    }
   ],
   "source": [
    "import platform\n",
    "\n",
    "platform.python_version()"
   ]
  },
  {
   "cell_type": "code",
   "execution_count": null,
   "id": "44adf539",
   "metadata": {},
   "outputs": [],
   "source": []
  },
  {
   "cell_type": "markdown",
   "id": "3dec0d2e",
   "metadata": {},
   "source": [
    "## \"이름\"과 \"값\"은 파이썬에서 가장 중요한  두 가지 요소\n",
    "\n",
    "### 이름 (Name): \n",
    "- 이름은 변수, 함수, 클래스 등의 식별자(identifier)를 의미합니다. \n",
    "- 파이썬에서 이름은 프로그램에서 사용되는 식별자로서 데이터를 참조하고 조작하는데 사용됩니다. 예를 들어 변수명, 함수명, 클래스명은 모두 이름입니다. \n",
    "- 이름은 대소문자를 구분하며, 일반적으로 소문자와 언더스코어(_)를 사용하는 스네이크 케이스(convention)나 CamelCase(convention)와 같은 네이밍 규칙을 따르는 것이 관례입니다.\n"
   ]
  },
  {
   "cell_type": "markdown",
   "id": "588334fe",
   "metadata": {},
   "source": [
    "### 값 (Value): \n",
    "- 값은 데이터 그 자체를 나타내는 정보입니다. 파이썬에서 값은 숫자, 문자열, 리스트, 딕셔너리, 객체 등 다양한 형태의 데이터가 될 수 있습니다. \n",
    "- 프로그램에서 이름을 사용하여 해당 이름이 가리키는 값에 접근하거나 값을 조작할 수 있습니다."
   ]
  },
  {
   "cell_type": "code",
   "execution_count": null,
   "id": "43dc8335",
   "metadata": {},
   "outputs": [],
   "source": []
  },
  {
   "cell_type": "markdown",
   "id": "8403f1ea",
   "metadata": {},
   "source": [
    "# 1. 변수 \n",
    "\n",
    "- 이름 중에 값을 저장하느는 변수 \n",
    "- 변수는 값을 저장하는 곳을 가르키는 레퍼런스 이다.\n",
    "- 곧 저장된 값을 재사용 목적으로 지정한다.  \n"
   ]
  },
  {
   "cell_type": "markdown",
   "id": "ed152010",
   "metadata": {},
   "source": [
    "## 변수를 지정하고 활용하는 방법 \n",
    "\n",
    "### 변수 선언 (Variable Declaration): \n",
    "- 변수 선언은 변수를 사용하기 위해 자료형을 지정해서 선언한다. \n",
    "- 파이썬은 변수 선언하는 과정이 따로 필요하지 않습니다. \n",
    "\n",
    "### 변수 정의 (Variable Definition): \n",
    "- 변수를 정의한다는 것은 변수에 값을 할당하는 것을 의미합니다. \n",
    "- 변수를 정의할 때, 변수 이름을 사용하고 할당 연산자(=)를 사용하여 값을 지정합니다.\n",
    "\n",
    "### 변수 참조 (Variable Reference): \n",
    "- 변수를 참조한다는 것은 이미 정의된 변수의 값을 읽거나 사용하는 것을 의미합니다. \n",
    "- 변수가 가리키는 값을 활용하여 계산하거나 다른 작업을 수행할 수 있습니다."
   ]
  },
  {
   "cell_type": "code",
   "execution_count": null,
   "id": "726cfe6f",
   "metadata": {},
   "outputs": [],
   "source": []
  },
  {
   "cell_type": "markdown",
   "id": "38fcda01",
   "metadata": {},
   "source": [
    "## 주석(Comment)과 어노테이션(Annotation)\n",
    "- 프로그래밍에서 코드에 부가적인 정보를 추가하는 목적으로 사용되지만, 서로 다른 개념과 용도를 가지고 있습니다.\n",
    "\n",
    "### 주석 (Comment):\n",
    "- 주석은 코드 내에 작성되며, 프로그래머나 동료 개발자에게 코드의 의도나 설명을 제공하기 위해 사용됩니다. \n",
    "- 주석은 실제 코드 실행에는 영향을 주지 않으며, 컴파일러나 인터프리터에 의해 무시됩니다. \n",
    "- 주석은 코드의 가독성을 향상시키고, 코드가 복잡한 경우 논리나 기능을 설명하는 데 도움이 됩니다.\n",
    "\n",
    "### 어노테이션 (Annotation):\n",
    "- 어노테이션은 주로 프로그래밍 언어나 프레임워크에서 메타데이터를 추가하는 목적으로 사용됩니다. \n",
    "- 어노테이션은 코드 실행에 영향을 미칠 수 있으며, 주로 컴파일러, 런타임, 프레임워크 등에서 활용됩니다. \n",
    "- 어노테이션은 코드의 동작을 변경하거나 부가적인 정보를 제공하는 데 사용됩니다."
   ]
  },
  {
   "cell_type": "code",
   "execution_count": null,
   "id": "8d53901d",
   "metadata": {},
   "outputs": [],
   "source": []
  },
  {
   "cell_type": "markdown",
   "id": "30a1ef70",
   "metadata": {},
   "source": [
    "##  1-1 변수 정의 하기\n",
    "\n",
    "- 변수는 이름과 할당연산자 그리고 값으로 지정한다. \n",
    "- 파이썬은 별도의 변수 선언이 불가하다.\n",
    "- 변수는 반드시 정의해야 생성된다. "
   ]
  },
  {
   "cell_type": "markdown",
   "id": "183c685f",
   "metadata": {},
   "source": [
    "## 변수 이름과 어노테이션으로 정의하면 주석으로 처리"
   ]
  },
  {
   "cell_type": "code",
   "execution_count": 2,
   "id": "54134b9c",
   "metadata": {},
   "outputs": [],
   "source": [
    "var : int        # 변수와 자료형을 지정한 것 같지만 실제 어노테이션(주석)으로만 인식 "
   ]
  },
  {
   "cell_type": "code",
   "execution_count": 3,
   "id": "e257d41c",
   "metadata": {},
   "outputs": [
    {
     "name": "stdout",
     "output_type": "stream",
     "text": [
      "name 'var' is not defined\n"
     ]
    }
   ],
   "source": [
    "try :\n",
    "    var              # 아직 변수 정의가 안되어서 예외가 남  NameError는 실제 변수가 정의되지 않아 발생함 \n",
    "except NameError as e :\n",
    "    print(e)"
   ]
  },
  {
   "cell_type": "code",
   "execution_count": null,
   "id": "597560b2",
   "metadata": {},
   "outputs": [],
   "source": []
  },
  {
   "cell_type": "code",
   "execution_count": null,
   "id": "f0b0dd84",
   "metadata": {},
   "outputs": [],
   "source": []
  },
  {
   "cell_type": "markdown",
   "id": "57a7d436",
   "metadata": {},
   "source": [
    "## 변수는 반드시 값을 할당해야 한다"
   ]
  },
  {
   "cell_type": "code",
   "execution_count": null,
   "id": "915177c0",
   "metadata": {},
   "outputs": [],
   "source": [
    " x : int = 100                        # 변수 정의는 이름에 값을 반드시 할당해야 함 "
   ]
  },
  {
   "cell_type": "code",
   "execution_count": 5,
   "id": "0bdd6a2e",
   "metadata": {},
   "outputs": [
    {
     "data": {
      "text/plain": [
       "100"
      ]
     },
     "execution_count": 5,
     "metadata": {},
     "output_type": "execute_result"
    }
   ],
   "source": [
    "x"
   ]
  },
  {
   "cell_type": "code",
   "execution_count": null,
   "id": "31cfafe0",
   "metadata": {},
   "outputs": [],
   "source": []
  },
  {
   "cell_type": "markdown",
   "id": "626fc05c",
   "metadata": {},
   "source": [
    "## 1-2 변수 참조하기 "
   ]
  },
  {
   "cell_type": "markdown",
   "id": "2ad16467",
   "metadata": {},
   "source": [
    "## 변수를 할당하면 변수에 저장된 값을 항상 사용할 수 있다. "
   ]
  },
  {
   "cell_type": "code",
   "execution_count": 6,
   "id": "d3adfe37",
   "metadata": {},
   "outputs": [
    {
     "data": {
      "text/plain": [
       "100"
      ]
     },
     "execution_count": 6,
     "metadata": {},
     "output_type": "execute_result"
    }
   ],
   "source": [
    "x                              # 변수에 값이 저장되어 이름으로 조회하면 내부에 저장된 값을 조회한다. "
   ]
  },
  {
   "cell_type": "code",
   "execution_count": null,
   "id": "823b006b",
   "metadata": {},
   "outputs": [],
   "source": []
  },
  {
   "cell_type": "markdown",
   "id": "34246998",
   "metadata": {},
   "source": [
    "## 1-3 여러 변수 할당 "
   ]
  },
  {
   "cell_type": "markdown",
   "id": "befabaf5",
   "metadata": {},
   "source": [
    "## 동일한 값을 변수에 할당하기 "
   ]
  },
  {
   "cell_type": "code",
   "execution_count": 7,
   "id": "6105ecb3",
   "metadata": {},
   "outputs": [],
   "source": [
    "a = b = c = 400              # 동일한 값을 여러 변수에 할당할 때는 여러 변수와 할당연산자를 동시에 작성하고 값을 할당한다"
   ]
  },
  {
   "cell_type": "code",
   "execution_count": 8,
   "id": "8873b30f",
   "metadata": {},
   "outputs": [
    {
     "data": {
      "text/plain": [
       "(400, 400, 400)"
      ]
     },
     "execution_count": 8,
     "metadata": {},
     "output_type": "execute_result"
    }
   ],
   "source": [
    "a, b, c                      # 변수 여러 개를 쉼표로 조회하면 실제 튜플로 출력한다. "
   ]
  },
  {
   "cell_type": "markdown",
   "id": "744c1e3d",
   "metadata": {},
   "source": [
    "## 여러 문장을 하나의 문장으로 작성할 때는 세미콜론으로 구분한다."
   ]
  },
  {
   "cell_type": "code",
   "execution_count": 9,
   "id": "642d350c",
   "metadata": {},
   "outputs": [],
   "source": [
    "tc = 700; td= 9999           # 변수 할당을 두개를 연속으로 하면 두개의 문장이므로 두 문장을 구분하도록 세미콜론을 중간에 표시해야한다."
   ]
  },
  {
   "cell_type": "code",
   "execution_count": null,
   "id": "b48318ea",
   "metadata": {},
   "outputs": [],
   "source": []
  },
  {
   "cell_type": "markdown",
   "id": "789548b6",
   "metadata": {},
   "source": [
    "##  두변수의 값을 교환 \n",
    "\n",
    "- 할당연산자를 사이에 두고 튜플 표기로 처리"
   ]
  },
  {
   "cell_type": "code",
   "execution_count": 10,
   "id": "ed20e661",
   "metadata": {},
   "outputs": [],
   "source": [
    "(td, tc) = (tc, td)          #  할당연산자 좌측과 우측에 두 변수를 쉼표로 분리하면 튜플로 인식하므로 바로 값을 교환할 수 있다. "
   ]
  },
  {
   "cell_type": "code",
   "execution_count": 11,
   "id": "d858ab41",
   "metadata": {},
   "outputs": [
    {
     "data": {
      "text/plain": [
       "(9999, 700)"
      ]
     },
     "execution_count": 11,
     "metadata": {},
     "output_type": "execute_result"
    }
   ],
   "source": [
    "tc,td"
   ]
  },
  {
   "cell_type": "markdown",
   "id": "ef464035",
   "metadata": {},
   "source": [
    "### 튜플은 괄호보다 쉼표가 중요 "
   ]
  },
  {
   "cell_type": "code",
   "execution_count": 12,
   "id": "df841b8d",
   "metadata": {},
   "outputs": [],
   "source": [
    "td, tc = tc, td            # 여러 개를 쉼표로 분리할 때는 괄호가 없어도 튜플로 인식한다.  보기 좋게하기 위해서 괄호를 사용하는 것이 바람직하다 "
   ]
  },
  {
   "cell_type": "code",
   "execution_count": 13,
   "id": "ac3fdcbc",
   "metadata": {},
   "outputs": [
    {
     "data": {
      "text/plain": [
       "(700, 9999)"
      ]
     },
     "execution_count": 13,
     "metadata": {},
     "output_type": "execute_result"
    }
   ],
   "source": [
    "tc,td"
   ]
  },
  {
   "cell_type": "markdown",
   "id": "8da9fa3d",
   "metadata": {},
   "source": [
    "# 2  표현식 "
   ]
  },
  {
   "cell_type": "code",
   "execution_count": null,
   "id": "e0a3e5c1",
   "metadata": {},
   "outputs": [],
   "source": []
  },
  {
   "cell_type": "markdown",
   "id": "38f89250",
   "metadata": {},
   "source": [
    "## 표현식(Expression)과 리터럴(Literal)은 프로그래밍에서 다른 개념을 나타내는 용어\n",
    "\n",
    "### 리터럴 (Literal): \n",
    "- 리터럴은 코드에서 고정된 값을 나타내는 상수 값입니다. 예를 들어, 숫자, 문자열, 불리언 값 등을 프로그램에서 직접 표기하는 것이 리터럴입니다. \n",
    "- 리터럴은 변수나 계산 없이 그 자체로 값을 나타내며, 코드에서 고정된 데이터 값을 나타내기 위해 사용됩니다.\n",
    "\n",
    "### 표현식 (Expression): \n",
    "- 표현식은 값을 생성하거나 계산하는 코드 구문을 의미합니다. \n",
    "- 표현식은 변수, 연산자, 함수 호출 등의 조합으로 이루어져 있으며, 결과적으로 하나의 값으로 평가됩니다. \n",
    "- 표현식은 계산 가능한 결과를 만들기 위한 구조를 의미하며, 값을 반환하거나 다른 표현식 내에서 사용할 수 있습니다."
   ]
  },
  {
   "cell_type": "code",
   "execution_count": null,
   "id": "e4e2e44c",
   "metadata": {},
   "outputs": [],
   "source": []
  },
  {
   "cell_type": "markdown",
   "id": "4e62c453",
   "metadata": {},
   "source": [
    "## 리터럴 표기법(Literal Notation)과 생성자 표기법(Constructor Notation)\n",
    "- 객체를 생성하거나 데이터를 표현하는 방법에 대한 두 가지 접근 방식입니다. \n",
    "\n",
    "### 리터럴 표기법 (Literal Notation):\n",
    "- 리터럴 표기법은 객체나 데이터를 표현할 때, 해당 데이터의 값을 직접 코드에 기술하는 방식입니다. \n",
    "- 리터럴 표기법은 간편하며 직관적이며, 대부분의 프로그래밍 언어에서 사용됩니다. \n",
    "- 예를 들어, 숫자, 문자열, 배열, 객체 등을 직접 코드에 작성하여 표현하는 것이 리터럴 표기법입니다.\n",
    "\n",
    "\n",
    "### 생성자 표기법 (Constructor Notation):\n",
    "- 생성자 표기법은 객체를 생성할 때 생성자 함수를 사용하여 객체를 생성하는 방식입니다. \n",
    "- 생성자 함수는 클래스의 인스턴스를 생성하거나 객체를 초기화하는 데 사용됩니다. \n",
    "- 이 방법은 객체를 더 구체적으로 초기화하거나 복잡한 객체를 생성하는 데 유용합니다.\n"
   ]
  },
  {
   "cell_type": "markdown",
   "id": "db8e23ad",
   "metadata": {},
   "source": [
    "## 자료형(DataType)과 클래스(Class)는 프로그래밍에서 다른 개념을 나타내는 용어입니다.\n",
    "\n",
    "### 자료형 (Data Type):\n",
    "- 자료형은 프로그래밍에서 데이터의 종류나 형태를 나타내는데 사용됩니다.\n",
    "- 변수나 상수에 저장되는 데이터의 특성을 정의하며, 해당 데이터가 어떤 종류의 값을 가지고 어떤 연산이 가능한지를 결정합니다. \n",
    "- 자료형은 컴퓨터 메모리에서 데이터를 저장하고 처리하는 방식을 지정하는 역할을 합니다. \n",
    "- 대부분의 프로그래밍 언어에서 기본적인 자료형(정수, 실수, 문자열 등)을 제공하며, 사용자 정의 자료형도 생성할 수 있습니다\n",
    "\n",
    "### 클래스 (Class):\n",
    "- 클래스는 객체 지향 프로그래밍(OOP)에서 사용되는 개념으로, 객체의 설계도나 템플릿 역할을 합니다. \n",
    "- 클래스는 데이터와 해당 데이터를 처리하는 메서드(함수)를 함께 묶어서 표현합니다. \n",
    "- 클래스는 객체를 생성하는데 사용되며, 객체는 클래스의 인스턴스입니다. \n",
    "- 객체는 클래스의 속성(변수)과 동작(메서드)을 가지며, 클래스로부터 생성된 모든 객체는 같은 구조와 동작을 공유합니다.\n",
    "\n",
    "### 자료형과 클래스의 차이점:\n",
    "\n",
    "- 자료형은 데이터의 종류와 형태를 정의하고, 변수에 저장되는 데이터의 특성을 결정합니다.\n",
    "- 클래스는 객체의 설계도로서, 객체의 구조와 동작을 정의하며, 객체를 생성하기 위한 템플릿 역할을 합니다."
   ]
  },
  {
   "cell_type": "code",
   "execution_count": null,
   "id": "4aaa32b7",
   "metadata": {},
   "outputs": [],
   "source": []
  },
  {
   "cell_type": "markdown",
   "id": "5e59e562",
   "metadata": {},
   "source": [
    "## 프리미티브 자료형(Primitive Data Types) \n",
    "-프로그래밍 언어에서 기본적으로 제공하는 기본 데이터 유형을 말합니다. \n",
    "- 이러한 자료형은 메모리 내에 고정된 크기로 저장되며, 프로그래밍 언어의 핵심적인 데이터 처리를 지원합니다. \n",
    "- 각 언어마다 프리미티브 자료형의 종류와 이름이 다를 수 있습니다. \n",
    "- 파이썬은 프리미티브 자료형 지원하지 않는다\n",
    "\n",
    "\n",
    "## 프리미티브 자료형(Primitive Data Types)과 클래스 자료형(Class Data Types)\n",
    "- 프로그래밍 언어에서 데이터를 다루는 데 사용되는 두 가지 다른 유형의 자료형입니다. \n",
    "\n",
    "### 기본 유형:\n",
    "\n",
    "- 프리미티브 자료형: 프리미티브 자료형은 언어에서 미리 정의된 기본 데이터 유형으로, 주로 숫자, 문자, 불리언 값 등을 저장하는 데 사용됩니다. 이들은 기본적인 값만 가지며, 어떤 메소드나 속성을 가지지 않습니다.\n",
    "- 클래스 자료형: 클래스 자료형은 객체 지향 프로그래밍에서 클래스의 인스턴스로 생성되며, 속성과 메소드를 가질 수 있습니다. 클래스는 사용자 정의 자료형이며, 프로그래머가 새로운 데이터 유형을 만들기 위해 사용할 수 있습니다.\n",
    "\n",
    "### 메모리 할당:\n",
    "\n",
    "- 프리미티브 자료형: 프리미티브 자료형은 보통 고정된 크기로 메모리에 저장됩니다. 예를 들어, 정수형 변수는 일정한 메모리 바이트를 사용하여 값을 저장합니다.\n",
    "- 클래스 자료형: 클래스 자료형은 객체가 메모리에 저장될 때, 해당 클래스에 정의된 구조와 메소드에 따라 동적으로 메모리가 할당됩니다.\n",
    "\n",
    "### 사용 및 기능:\n",
    "\n",
    "- 프리미티브 자료형: 주로 기본적인 데이터 저장 및 연산에 사용됩니다. 연산자를 이용하여 간단한 계산을 수행할 수 있습니다.\n",
    "- 클래스 자료형: 객체의 상태를 저장하고, 객체 간의 관계 및 동작을 표현하는 데 사용됩니다. 메소드를 통해 객체의 동작을 구현할 수 있습니다.\n",
    "\n",
    "### 값 복사 vs. 참조 복사:\n",
    "\n",
    "- 프리미티브 자료형: 변수 간에 값이 복사됩니다. 한 변수의 값이 변경되더라도 다른 변수의 값은 영향을 받지 않습니다.\n",
    "- 클래스 자료형: 변수 간에 참조가 복사됩니다. 한 변수의 속성이나 상태가 변경되면 해당 객체의 다른 변수들도 영향을 받을 수 있습니다.\n"
   ]
  },
  {
   "cell_type": "code",
   "execution_count": null,
   "id": "5be37a0c",
   "metadata": {},
   "outputs": [],
   "source": []
  },
  {
   "cell_type": "markdown",
   "id": "061cf016",
   "metadata": {},
   "source": [
    "## 2-1 숫자 표현식 확인 \n",
    "\n",
    "- 숫자는 기법으로 리터럴 표기법 즉 값을 표기하는 것으로 객체를 만든다. \n",
    "- 숫자 자료형은 프리미티브가 아닌 클래스의 객체로 표시한다.\n"
   ]
  },
  {
   "cell_type": "markdown",
   "id": "d5e1c276",
   "metadata": {},
   "source": [
    "## 2-1-1 정수리터럴 확인하기 "
   ]
  },
  {
   "cell_type": "code",
   "execution_count": 14,
   "id": "61f5e8e9",
   "metadata": {},
   "outputs": [
    {
     "data": {
      "text/plain": [
       "100"
      ]
     },
     "execution_count": 14,
     "metadata": {},
     "output_type": "execute_result"
    }
   ],
   "source": [
    "100                     # 정수 표현 "
   ]
  },
  {
   "cell_type": "markdown",
   "id": "9d8e9727",
   "metadata": {},
   "source": [
    "### 클래스 자료형이라 정수 값은 정수 클래스의 객체 "
   ]
  },
  {
   "cell_type": "code",
   "execution_count": 15,
   "id": "6ec8e4e4",
   "metadata": {},
   "outputs": [
    {
     "data": {
      "text/plain": [
       "int"
      ]
     },
     "execution_count": 15,
     "metadata": {},
     "output_type": "execute_result"
    }
   ],
   "source": [
    "(100).__class__         # 파이썬은 모든 것이 객체이므로 이 객체를 만든 클래스를 확인할 수 있다. "
   ]
  },
  {
   "cell_type": "code",
   "execution_count": 16,
   "id": "2911411e",
   "metadata": {},
   "outputs": [
    {
     "data": {
      "text/plain": [
       "int"
      ]
     },
     "execution_count": 16,
     "metadata": {},
     "output_type": "execute_result"
    }
   ],
   "source": [
    "type(100)               # 타입으로 확인할 수도 있다. "
   ]
  },
  {
   "cell_type": "markdown",
   "id": "91025d19",
   "metadata": {},
   "source": [
    "## 2-1-2 실수 확인하기 "
   ]
  },
  {
   "cell_type": "code",
   "execution_count": 17,
   "id": "202bf7a8",
   "metadata": {},
   "outputs": [
    {
     "data": {
      "text/plain": [
       "1000.11"
      ]
     },
     "execution_count": 17,
     "metadata": {},
     "output_type": "execute_result"
    }
   ],
   "source": [
    "1000.11                 # 실수 표현"
   ]
  },
  {
   "cell_type": "markdown",
   "id": "b8d5a43b",
   "metadata": {},
   "source": [
    "### 클래스 자료형이라 실수 갑도 실수 클래스의 객체 "
   ]
  },
  {
   "cell_type": "code",
   "execution_count": 18,
   "id": "4dcd95f6",
   "metadata": {},
   "outputs": [
    {
     "data": {
      "text/plain": [
       "float"
      ]
     },
     "execution_count": 18,
     "metadata": {},
     "output_type": "execute_result"
    }
   ],
   "source": [
    "(1000.11).__class__    # 파이썬은 모든 것이 객체이므로 이 객체를 만든 클래스를 확인할 수 있다. "
   ]
  },
  {
   "cell_type": "code",
   "execution_count": 19,
   "id": "35f6d11d",
   "metadata": {},
   "outputs": [
    {
     "data": {
      "text/plain": [
       "float"
      ]
     },
     "execution_count": 19,
     "metadata": {},
     "output_type": "execute_result"
    }
   ],
   "source": [
    "type(1000.11)          # 타입으로 확인할 수도 있다. "
   ]
  },
  {
   "cell_type": "markdown",
   "id": "569403b7",
   "metadata": {},
   "source": [
    "## 2-1-3 숫자 표현식을 사용해서 계산하기 "
   ]
  },
  {
   "cell_type": "code",
   "execution_count": 21,
   "id": "4fe64cb0",
   "metadata": {},
   "outputs": [],
   "source": [
    "y = 100"
   ]
  },
  {
   "cell_type": "code",
   "execution_count": 22,
   "id": "27287036",
   "metadata": {},
   "outputs": [],
   "source": [
    "z = (x*x) + y          # 표션식은 하나의 값을 표시한다. 그래서 할당연산자 좌측의 변수에 최종 결과 값만 저장한다. "
   ]
  },
  {
   "cell_type": "code",
   "execution_count": 23,
   "id": "2a343036",
   "metadata": {},
   "outputs": [
    {
     "data": {
      "text/plain": [
       "10100"
      ]
     },
     "execution_count": 23,
     "metadata": {},
     "output_type": "execute_result"
    }
   ],
   "source": [
    "z"
   ]
  },
  {
   "cell_type": "markdown",
   "id": "08b0eb97",
   "metadata": {},
   "source": [
    "## 2-1-4  표현식의 평가처리는 내장함수로 확인 가능 "
   ]
  },
  {
   "cell_type": "code",
   "execution_count": 24,
   "id": "1104ebf8",
   "metadata": {},
   "outputs": [
    {
     "data": {
      "text/plain": [
       "210"
      ]
     },
     "execution_count": 24,
     "metadata": {},
     "output_type": "execute_result"
    }
   ],
   "source": [
    "eval(\"100 * 2 + 10\")"
   ]
  },
  {
   "cell_type": "code",
   "execution_count": null,
   "id": "e42ab6ac",
   "metadata": {},
   "outputs": [],
   "source": []
  },
  {
   "cell_type": "code",
   "execution_count": null,
   "id": "970ee3a0",
   "metadata": {},
   "outputs": [],
   "source": []
  },
  {
   "cell_type": "markdown",
   "id": "be29f30d",
   "metadata": {},
   "source": [
    "## 2-2 숫자 클래스의 내부 속성과 메서드 확인 "
   ]
  },
  {
   "cell_type": "markdown",
   "id": "a08e22b0",
   "metadata": {},
   "source": [
    "## 리플렉션(Reflection) \n",
    "- 프로그램 실행 중에 프로그램의 구조나 메타데이터를 조사하고 조작할 수 있는 능력을 의미합니다. \n",
    "- 리플렉션은 주로 객체 지향 프로그래밍에서 사용되며, 런타임(runtime) 환경에서 클래스, 인터페이스, 필드, 메서드 등의 정보를 동적으로 알아내거나 조작할 수 있도록 합니다."
   ]
  },
  {
   "cell_type": "code",
   "execution_count": null,
   "id": "0a124bc4",
   "metadata": {},
   "outputs": [],
   "source": []
  },
  {
   "cell_type": "markdown",
   "id": "36d61667",
   "metadata": {},
   "source": [
    "## 2-2-1 정수 속성 확인 "
   ]
  },
  {
   "cell_type": "code",
   "execution_count": 25,
   "id": "490250c4",
   "metadata": {},
   "outputs": [
    {
     "name": "stdout",
     "output_type": "stream",
     "text": [
      "__abs__, __add__, __and__, __bool__, __ceil__, __class__, __delattr__, __dir__, __divmod__, __doc__, __eq__, __float__, __floor__, __floordiv__, __format__, __ge__, __getattribute__, __getnewargs__, __getstate__, __gt__, __hash__, __index__, __init__, __init_subclass__, __int__, __invert__, __le__, __lshift__, __lt__, __mod__, __mul__, __ne__, __neg__, __new__, __or__, __pos__, __pow__, __radd__, __rand__, __rdivmod__, __reduce__, __reduce_ex__, __repr__, __rfloordiv__, __rlshift__, __rmod__, __rmul__, __ror__, __round__, __rpow__, __rrshift__, __rshift__, __rsub__, __rtruediv__, __rxor__, __setattr__, __sizeof__, __str__, __sub__, __subclasshook__, __truediv__, __trunc__, __xor__, as_integer_ratio, bit_count, bit_length, conjugate, denominator, from_bytes, imag, numerator, real, to_bytes, "
     ]
    }
   ],
   "source": [
    "for i in  dir(int) :            # 정수 클래스 내의 속성과 메서드를 문자열로 출력 \n",
    "    print(i, end=', ')"
   ]
  },
  {
   "cell_type": "code",
   "execution_count": null,
   "id": "b45dfd88",
   "metadata": {},
   "outputs": [],
   "source": []
  },
  {
   "cell_type": "markdown",
   "id": "05774f7e",
   "metadata": {},
   "source": [
    "## 2-2-2 실수 속성 확인 "
   ]
  },
  {
   "cell_type": "code",
   "execution_count": 26,
   "id": "4f91e3f2",
   "metadata": {},
   "outputs": [
    {
     "name": "stdout",
     "output_type": "stream",
     "text": [
      "__abs__, __add__, __bool__, __ceil__, __class__, __delattr__, __dir__, __divmod__, __doc__, __eq__, __float__, __floor__, __floordiv__, __format__, __ge__, __getattribute__, __getformat__, __getnewargs__, __getstate__, __gt__, __hash__, __init__, __init_subclass__, __int__, __le__, __lt__, __mod__, __mul__, __ne__, __neg__, __new__, __pos__, __pow__, __radd__, __rdivmod__, __reduce__, __reduce_ex__, __repr__, __rfloordiv__, __rmod__, __rmul__, __round__, __rpow__, __rsub__, __rtruediv__, __setattr__, __sizeof__, __str__, __sub__, __subclasshook__, __truediv__, __trunc__, as_integer_ratio, conjugate, fromhex, hex, imag, is_integer, real, "
     ]
    }
   ],
   "source": [
    "for i in  dir(float) :            # 정수 클래스 내의 속성과 메서드를 문자열로 출력 \n",
    "    print(i, end=', ')"
   ]
  },
  {
   "cell_type": "code",
   "execution_count": null,
   "id": "5703c210",
   "metadata": {},
   "outputs": [],
   "source": []
  },
  {
   "cell_type": "markdown",
   "id": "368e55aa",
   "metadata": {},
   "source": [
    "##  2-3  자료형인  클래스 확인하기 \n",
    "\n",
    "- 파이썬은 자료형과 클래스가 동일하다. 그래서 자료형 확인은 곧 클래스 확인이다\n",
    "\n",
    "- type 이나 __class__ 속성으로 값의 클래스를 확인하기"
   ]
  },
  {
   "cell_type": "markdown",
   "id": "2d507f3c",
   "metadata": {},
   "source": [
    "## 파이썬에서 numbers 모듈\n",
    "- 숫자형과 관련된 추상 베이스 클래스(Abstract Base Classes)를 제공하는 모듈입니다. \n",
    "- 추상 베이스 클래스는 특정 기능을 가진 클래스를 정의하고, 이를 기반으로 다른 클래스를 작성할 때 특정한 메서드를 구현하도록 강제하는 역할을 합니다.\n",
    "\n",
    "\n",
    "### numbers.Number: \n",
    "- 모든 숫자형의 추상 베이스 클래스입니다. 모든 파이썬 숫자형은 이 클래스의 하위 클래스입니다.\n",
    "\n",
    "### numbers.Complex: \n",
    "- 복소수형의 추상 베이스 클래스입니다. 복소수 관련 연산을 정의하는 메서드를 포함합니다.\n",
    "\n",
    "### numbers.Real: \n",
    "- 실수형의 추상 베이스 클래스입니다. 실수 관련 연산을 정의하는 메서드를 포함합니다.\n",
    "\n",
    "### numbers.Rational: \n",
    "- 유리수형의 추상 베이스 클래스입니다. 분수 관련 연산을 정의하는 메서드를 포함합니다.\n",
    "\n",
    "### numbers.Integral: \n",
    "- 정수형의 추상 베이스 클래스입니다. 정수 관련 연산을 정의하는 메서드를 포함합니다.\n"
   ]
  },
  {
   "cell_type": "code",
   "execution_count": 27,
   "id": "5c975430",
   "metadata": {},
   "outputs": [],
   "source": [
    "import numbers as num"
   ]
  },
  {
   "cell_type": "code",
   "execution_count": 28,
   "id": "5910198c",
   "metadata": {},
   "outputs": [
    {
     "name": "stdout",
     "output_type": "stream",
     "text": [
      "ABCMeta, Complex, Integral, Number, Rational, Real, __all__, __builtins__, __cached__, __doc__, __file__, __loader__, __name__, __package__, __spec__, abstractmethod, "
     ]
    }
   ],
   "source": [
    "for i in  dir(num) :            # 정수 클래스 내의 속성과 메서드를 문자열로 출력 \n",
    "    print(i, end=', ')"
   ]
  },
  {
   "cell_type": "markdown",
   "id": "94ef1ecc",
   "metadata": {},
   "source": [
    "## 2-3-1 클래스의 클래스 확인\n",
    "\n",
    "- 클래스를 누가 만들었는지 확인 가능\n",
    "- 클래스도 하나의 객체이므로 클래스를 만든 메타클래스가 있음 "
   ]
  },
  {
   "cell_type": "code",
   "execution_count": 29,
   "id": "78bb6e1e",
   "metadata": {},
   "outputs": [
    {
     "data": {
      "text/plain": [
       "(type, type)"
      ]
     },
     "execution_count": 29,
     "metadata": {},
     "output_type": "execute_result"
    }
   ],
   "source": [
    "type(int), int.__class__            # 클래스의 클래스는 메타 클래스이다. 파이썬의 type은 메타클래스 "
   ]
  },
  {
   "cell_type": "markdown",
   "id": "291bb514",
   "metadata": {},
   "source": [
    "## 2-3-2 객체의 클래스 확인 "
   ]
  },
  {
   "cell_type": "code",
   "execution_count": 30,
   "id": "9ef6a7ce",
   "metadata": {},
   "outputs": [
    {
     "data": {
      "text/plain": [
       "(int, int)"
      ]
     },
     "execution_count": 30,
     "metadata": {},
     "output_type": "execute_result"
    }
   ],
   "source": [
    "type(100), (100).__class__"
   ]
  },
  {
   "cell_type": "code",
   "execution_count": null,
   "id": "1bbf6140",
   "metadata": {},
   "outputs": [],
   "source": []
  },
  {
   "cell_type": "markdown",
   "id": "ed84113b",
   "metadata": {},
   "source": [
    "## 2-3-3  숫자 체계 구성관계  "
   ]
  },
  {
   "cell_type": "code",
   "execution_count": 31,
   "id": "86299e3e",
   "metadata": {},
   "outputs": [
    {
     "data": {
      "text/plain": [
       "(True,\n",
       " frozenset({'__abs__',\n",
       "            '__add__',\n",
       "            '__and__',\n",
       "            '__ceil__',\n",
       "            '__eq__',\n",
       "            '__floor__',\n",
       "            '__floordiv__',\n",
       "            '__int__',\n",
       "            '__invert__',\n",
       "            '__le__',\n",
       "            '__lshift__',\n",
       "            '__lt__',\n",
       "            '__mod__',\n",
       "            '__mul__',\n",
       "            '__neg__',\n",
       "            '__or__',\n",
       "            '__pos__',\n",
       "            '__pow__',\n",
       "            '__radd__',\n",
       "            '__rand__',\n",
       "            '__rfloordiv__',\n",
       "            '__rlshift__',\n",
       "            '__rmod__',\n",
       "            '__rmul__',\n",
       "            '__ror__',\n",
       "            '__round__',\n",
       "            '__rpow__',\n",
       "            '__rrshift__',\n",
       "            '__rshift__',\n",
       "            '__rtruediv__',\n",
       "            '__rxor__',\n",
       "            '__truediv__',\n",
       "            '__trunc__',\n",
       "            '__xor__'}))"
      ]
     },
     "execution_count": 31,
     "metadata": {},
     "output_type": "execute_result"
    }
   ],
   "source": [
    "issubclass(int, num.Integral), num.Integral.__abstractmethods__"
   ]
  },
  {
   "cell_type": "code",
   "execution_count": 32,
   "id": "f40d1e99",
   "metadata": {},
   "outputs": [
    {
     "data": {
      "text/plain": [
       "(True,\n",
       " frozenset({'__abs__',\n",
       "            '__add__',\n",
       "            '__ceil__',\n",
       "            '__eq__',\n",
       "            '__floor__',\n",
       "            '__floordiv__',\n",
       "            '__le__',\n",
       "            '__lt__',\n",
       "            '__mod__',\n",
       "            '__mul__',\n",
       "            '__neg__',\n",
       "            '__pos__',\n",
       "            '__pow__',\n",
       "            '__radd__',\n",
       "            '__rfloordiv__',\n",
       "            '__rmod__',\n",
       "            '__rmul__',\n",
       "            '__round__',\n",
       "            '__rpow__',\n",
       "            '__rtruediv__',\n",
       "            '__truediv__',\n",
       "            '__trunc__',\n",
       "            'denominator',\n",
       "            'numerator'}))"
      ]
     },
     "execution_count": 32,
     "metadata": {},
     "output_type": "execute_result"
    }
   ],
   "source": [
    "issubclass(int, num.Rational), num.Rational.__abstractmethods__"
   ]
  },
  {
   "cell_type": "code",
   "execution_count": 33,
   "id": "6e1f680f",
   "metadata": {},
   "outputs": [
    {
     "data": {
      "text/plain": [
       "(True,\n",
       " frozenset({'__abs__',\n",
       "            '__add__',\n",
       "            '__ceil__',\n",
       "            '__eq__',\n",
       "            '__float__',\n",
       "            '__floor__',\n",
       "            '__floordiv__',\n",
       "            '__le__',\n",
       "            '__lt__',\n",
       "            '__mod__',\n",
       "            '__mul__',\n",
       "            '__neg__',\n",
       "            '__pos__',\n",
       "            '__pow__',\n",
       "            '__radd__',\n",
       "            '__rfloordiv__',\n",
       "            '__rmod__',\n",
       "            '__rmul__',\n",
       "            '__round__',\n",
       "            '__rpow__',\n",
       "            '__rtruediv__',\n",
       "            '__truediv__',\n",
       "            '__trunc__'}))"
      ]
     },
     "execution_count": 33,
     "metadata": {},
     "output_type": "execute_result"
    }
   ],
   "source": [
    "issubclass(int, num.Real), num.Real.__abstractmethods__"
   ]
  },
  {
   "cell_type": "code",
   "execution_count": 34,
   "id": "cec092c4",
   "metadata": {},
   "outputs": [
    {
     "data": {
      "text/plain": [
       "(True,\n",
       " frozenset({'__abs__',\n",
       "            '__add__',\n",
       "            '__complex__',\n",
       "            '__eq__',\n",
       "            '__mul__',\n",
       "            '__neg__',\n",
       "            '__pos__',\n",
       "            '__pow__',\n",
       "            '__radd__',\n",
       "            '__rmul__',\n",
       "            '__rpow__',\n",
       "            '__rtruediv__',\n",
       "            '__truediv__',\n",
       "            'conjugate',\n",
       "            'imag',\n",
       "            'real'}))"
      ]
     },
     "execution_count": 34,
     "metadata": {},
     "output_type": "execute_result"
    }
   ],
   "source": [
    "issubclass(int, num.Complex), num.Complex.__abstractmethods__"
   ]
  },
  {
   "cell_type": "code",
   "execution_count": 35,
   "id": "499a49da",
   "metadata": {},
   "outputs": [
    {
     "data": {
      "text/plain": [
       "(True, frozenset())"
      ]
     },
     "execution_count": 35,
     "metadata": {},
     "output_type": "execute_result"
    }
   ],
   "source": [
    "issubclass(int, num.Number), num.Number.__abstractmethods__"
   ]
  },
  {
   "cell_type": "code",
   "execution_count": null,
   "id": "0dc93db0",
   "metadata": {},
   "outputs": [],
   "source": []
  },
  {
   "cell_type": "markdown",
   "id": "f41dcf70",
   "metadata": {},
   "source": [
    "## 2-4 인터널 확인\n",
    "\n",
    "- 숫자는 256까지는 내부에 만들어져서 항상 동일한 객체\n",
    "- 하지만 더 큰 수는 매번 객체를 만들어서 처리하므로 동일한 객체는 아니지만 값은 동일\n",
    "- 그래서 is 연산자가 아닌  == 연산자로 값만 비교한다."
   ]
  },
  {
   "cell_type": "code",
   "execution_count": 36,
   "id": "7d80dcbc",
   "metadata": {},
   "outputs": [],
   "source": [
    "sa = 256\n",
    "ss = 256\n",
    "\n",
    "va = 257\n",
    "vs = 257 "
   ]
  },
  {
   "cell_type": "code",
   "execution_count": 37,
   "id": "8d203015",
   "metadata": {},
   "outputs": [
    {
     "name": "stdout",
     "output_type": "stream",
     "text": [
      "True\n",
      "False\n"
     ]
    }
   ],
   "source": [
    "print(sa is ss)               # 객체의 레퍼런스 비교 \n",
    "print(va is vs)"
   ]
  },
  {
   "cell_type": "code",
   "execution_count": 38,
   "id": "aa4b6173",
   "metadata": {},
   "outputs": [
    {
     "name": "stdout",
     "output_type": "stream",
     "text": [
      "True\n",
      "True\n"
     ]
    }
   ],
   "source": [
    "print(sa == ss)               # 객체의 값을 비교 \n",
    "print(va == vs)"
   ]
  },
  {
   "cell_type": "code",
   "execution_count": null,
   "id": "0f4885ee",
   "metadata": {},
   "outputs": [],
   "source": []
  }
 ],
 "metadata": {
  "kernelspec": {
   "display_name": "Python 3 (ipykernel)",
   "language": "python",
   "name": "python3"
  },
  "language_info": {
   "codemirror_mode": {
    "name": "ipython",
    "version": 3
   },
   "file_extension": ".py",
   "mimetype": "text/x-python",
   "name": "python",
   "nbconvert_exporter": "python",
   "pygments_lexer": "ipython3",
   "version": "3.11.3"
  }
 },
 "nbformat": 4,
 "nbformat_minor": 5
}
