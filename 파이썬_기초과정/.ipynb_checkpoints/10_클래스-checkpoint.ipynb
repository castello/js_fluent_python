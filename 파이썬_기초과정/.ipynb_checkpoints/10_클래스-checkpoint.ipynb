{
 "cells": [
  {
   "cell_type": "code",
   "execution_count": 1,
   "id": "46e42dce",
   "metadata": {},
   "outputs": [
    {
     "data": {
      "text/plain": [
       "'3.11.3'"
      ]
     },
     "execution_count": 1,
     "metadata": {},
     "output_type": "execute_result"
    }
   ],
   "source": [
    "import platform\n",
    "\n",
    "platform.python_version()"
   ]
  },
  {
   "cell_type": "code",
   "execution_count": null,
   "id": "993c3820",
   "metadata": {},
   "outputs": [],
   "source": []
  },
  {
   "cell_type": "markdown",
   "id": "29c24de1",
   "metadata": {},
   "source": [
    "# 1. 클래스 \n",
    "\n",
    "## 파이썬 클래스는 다음과 같은 주요 특징을 가집니다:\n",
    "\n",
    "## 상속: \n",
    "- 클래스는 다른 클래스로부터 상속하여 새로운 클래스를 만들 수 있습니다. \n",
    "- 상속을 통해 기존 클래스의 속성과 메서드를 재사용하거나 확장할 수 있습니다.\n",
    "\n",
    "### 다형성: \n",
    "- 여러 클래스가 동일한 메서드 이름을 사용할 수 있으며, 이를 통해 다양한 클래스를 동일한 방식으로 다룰 수 있습니다.\n",
    "\n",
    "### 캡슐화: \n",
    "- 클래스는 데이터와 해당 데이터를 조작하는 메서드를 하나의 단위로 캡슐화하여 외부에서 직접적인 접근을 제한할 수 있습니다.\n",
    "\n",
    "### 정보 은닉: \n",
    "- 클래스 내부의 속성과 메서드를 외부에서 직접 접근할 수 없도록 보호하는 기능을 제공합니다.\n",
    "\n",
    "### 속성과 메서드: \n",
    "- 클래스는 속성(멤버 변수)과 메서드(멤버 함수)를 가질 수 있으며, 이를 통해 객체의 행동과 상태를 정의할 수 있습니다.\n",
    "\n",
    "### 인스턴스 생성: \n",
    "- 클래스를 기반으로 하나 이상의 인스턴스를 생성하여 사용할 수 있습니다.\n",
    "\n"
   ]
  },
  {
   "cell_type": "markdown",
   "id": "b5540bed",
   "metadata": {},
   "source": [
    "## 1-1  클래스 정의 \n",
    "- 모든 클래스는 최상위 클래스 object를 상속함\n",
    "- object 클래스는 빈 객체를 생성할 수는 있지만 특정한 기능이 없음 "
   ]
  },
  {
   "cell_type": "markdown",
   "id": "fc506c31",
   "metadata": {},
   "source": [
    "## 아무것도 하지 않는 클래스 정의 "
   ]
  },
  {
   "cell_type": "code",
   "execution_count": 2,
   "id": "99c4e68b",
   "metadata": {},
   "outputs": [],
   "source": [
    "class Klass(object) :\n",
    "    pass"
   ]
  },
  {
   "cell_type": "code",
   "execution_count": 3,
   "id": "013de2d5",
   "metadata": {},
   "outputs": [],
   "source": [
    "class 클래스(object) :\n",
    "    ..."
   ]
  },
  {
   "cell_type": "markdown",
   "id": "124473f4",
   "metadata": {},
   "source": [
    "## 객체 생성\n",
    "- 아무것도 하지않는 클래스도 클래스 이름과 호출연산자로 객체 인스턴스 생성이 가능"
   ]
  },
  {
   "cell_type": "code",
   "execution_count": 4,
   "id": "3feb2b53",
   "metadata": {},
   "outputs": [],
   "source": [
    "k = Klass()"
   ]
  },
  {
   "cell_type": "code",
   "execution_count": 5,
   "id": "9a755c65",
   "metadata": {},
   "outputs": [
    {
     "data": {
      "text/plain": [
       "<__main__.Klass at 0x107082790>"
      ]
     },
     "execution_count": 5,
     "metadata": {},
     "output_type": "execute_result"
    }
   ],
   "source": [
    "k"
   ]
  },
  {
   "cell_type": "markdown",
   "id": "10a69670",
   "metadata": {},
   "source": [
    "### 클래스의 생성자를 호출\n",
    "- 클래스 이름과 호출연산자를 사용해서 객체를 생성할 수 있다."
   ]
  },
  {
   "cell_type": "code",
   "execution_count": 6,
   "id": "5d368afa",
   "metadata": {},
   "outputs": [],
   "source": [
    "k1 = 클래스.__call__()"
   ]
  },
  {
   "cell_type": "code",
   "execution_count": 7,
   "id": "7957800f",
   "metadata": {},
   "outputs": [
    {
     "data": {
      "text/plain": [
       "<__main__.클래스 at 0x107089c50>"
      ]
     },
     "execution_count": 7,
     "metadata": {},
     "output_type": "execute_result"
    }
   ],
   "source": [
    "k1"
   ]
  },
  {
   "cell_type": "code",
   "execution_count": null,
   "id": "22dd6629",
   "metadata": {},
   "outputs": [],
   "source": []
  },
  {
   "cell_type": "code",
   "execution_count": null,
   "id": "45af6b26",
   "metadata": {},
   "outputs": [],
   "source": []
  },
  {
   "cell_type": "markdown",
   "id": "513ed486",
   "metadata": {},
   "source": [
    "## 클래스와 객체 관계 확인\n",
    "\n",
    "- isinstance 함수로 클래스와 객체 생성관계 확인 "
   ]
  },
  {
   "cell_type": "code",
   "execution_count": 8,
   "id": "2f062109",
   "metadata": {},
   "outputs": [
    {
     "data": {
      "text/plain": [
       "True"
      ]
     },
     "execution_count": 8,
     "metadata": {},
     "output_type": "execute_result"
    }
   ],
   "source": [
    "isinstance(k1, 클래스)"
   ]
  },
  {
   "cell_type": "markdown",
   "id": "f642bde0",
   "metadata": {},
   "source": [
    "### 실제 아무것도 안하는 클래스의 객체는 최상위 클래스의 `__new__`로 생성"
   ]
  },
  {
   "cell_type": "code",
   "execution_count": 9,
   "id": "4b820f50",
   "metadata": {},
   "outputs": [],
   "source": [
    "kk = object.__new__(Klass)"
   ]
  },
  {
   "cell_type": "code",
   "execution_count": 10,
   "id": "0b38060e",
   "metadata": {},
   "outputs": [
    {
     "data": {
      "text/plain": [
       "True"
      ]
     },
     "execution_count": 10,
     "metadata": {},
     "output_type": "execute_result"
    }
   ],
   "source": [
    "isinstance(kk, Klass)"
   ]
  },
  {
   "cell_type": "markdown",
   "id": "8a9f48e4",
   "metadata": {},
   "source": [
    "## 1-2 생성자 정의\n",
    "\n",
    "- 파이썬 클래스의 생성자는 `__init__()` 메서드를 사용하여 정의됩니다. \n",
    "- 생성자는 객체를 초기화하는 역할을 하며, 클래스의 인스턴스를 생성하고 속성을 설정하는 등의 초기화 작업을 수행합니다. \n",
    "- 생성자는 클래스 내에서 가장 먼저 호출되며, 인스턴스를 생성할 때 자동으로 호출됩니다."
   ]
  },
  {
   "cell_type": "code",
   "execution_count": 11,
   "id": "6a6b0e5f",
   "metadata": {},
   "outputs": [],
   "source": [
    "class Person :                      # 클래스를 정의할 때 최상위 클래스는 보통 생략함 \n",
    "    def __init__(self,name,age) :\n",
    "        self.name = name\n",
    "        self.age = age"
   ]
  },
  {
   "cell_type": "markdown",
   "id": "25a0d82a",
   "metadata": {},
   "source": [
    "### 클래스 내의 네임스페이스 확인 \n",
    "\n",
    "- 클래스의 네임스페이스는 클래스 내부에서 속성(멤버 변수)과 메서드(멤버 함수)의 이름을 저장하고 관리하는 공간입니다. \n",
    "- 클래스의 네임스페이스는 해당 클래스의 정의에 의해 생성되며, 클래스의 인스턴스마다 별도의 네임스페이스를 가집니다."
   ]
  },
  {
   "cell_type": "code",
   "execution_count": 12,
   "id": "24b908a8",
   "metadata": {},
   "outputs": [
    {
     "data": {
      "text/plain": [
       "mappingproxy({'__module__': '__main__',\n",
       "              '__init__': <function __main__.Person.__init__(self, name, age)>,\n",
       "              '__dict__': <attribute '__dict__' of 'Person' objects>,\n",
       "              '__weakref__': <attribute '__weakref__' of 'Person' objects>,\n",
       "              '__doc__': None})"
      ]
     },
     "execution_count": 12,
     "metadata": {},
     "output_type": "execute_result"
    }
   ],
   "source": [
    "Person.__dict__      # 클래스 내부 속성 확인 "
   ]
  },
  {
   "cell_type": "code",
   "execution_count": 13,
   "id": "f31da410",
   "metadata": {},
   "outputs": [],
   "source": [
    "p = Person(\"농협은행\", 100)"
   ]
  },
  {
   "cell_type": "code",
   "execution_count": 14,
   "id": "3e9499a4",
   "metadata": {},
   "outputs": [
    {
     "data": {
      "text/plain": [
       "<__main__.Person at 0x10700e790>"
      ]
     },
     "execution_count": 14,
     "metadata": {},
     "output_type": "execute_result"
    }
   ],
   "source": [
    "p"
   ]
  },
  {
   "cell_type": "code",
   "execution_count": null,
   "id": "d402a03d",
   "metadata": {},
   "outputs": [],
   "source": []
  },
  {
   "cell_type": "markdown",
   "id": "62eacc3e",
   "metadata": {},
   "source": [
    "### 인터페이스의 네임스페이스 확인 \n",
    "\n",
    "- 파이썬에서 인스턴스의 네임스페이스는 해당 인스턴스에 대한 속성(멤버 변수) 이름을 저장하고 관리하는 공간입니다. \n"
   ]
  },
  {
   "cell_type": "code",
   "execution_count": 15,
   "id": "b4c6783c",
   "metadata": {},
   "outputs": [
    {
     "data": {
      "text/plain": [
       "{'name': '농협은행', 'age': 100}"
      ]
     },
     "execution_count": 15,
     "metadata": {},
     "output_type": "execute_result"
    }
   ],
   "source": [
    "p.__dict__   # 객체 내부 속성 확인 "
   ]
  },
  {
   "cell_type": "code",
   "execution_count": null,
   "id": "73ac1148",
   "metadata": {},
   "outputs": [],
   "source": []
  },
  {
   "cell_type": "code",
   "execution_count": null,
   "id": "aa07c5f7",
   "metadata": {},
   "outputs": [],
   "source": []
  },
  {
   "cell_type": "markdown",
   "id": "05a1ac63",
   "metadata": {},
   "source": [
    "# 2. 메서드 정의 \n",
    "\n",
    "- 파이썬에서 메서드(method)는 클래스 내에서 정의되는 함수를 의미합니다. \n",
    "- 메서드는 클래스의 속성과 연결되어 클래스의 행동을 정의하고 동작을 수행할 수 있도록 합니다. \n",
    "- 메서드는 객체 지향 프로그래밍의 주요 특징인 캡슐화, 추상화, 상속 등을 구현하는데 중요한 역할을 합니다.\n",
    "\n",
    "\n",
    "## 메서드의 종류\n",
    "\n",
    "###  인스턴스 메서드 (Instance Methods): \n",
    "- self 매개변수를 받는 메서드로, 인스턴스의 속성에 접근하고 수정하는 데 사용됩니다.\n",
    "\n",
    "### 클래스 메서드 (Class Methods): \n",
    "- cls 매개변수를 받는 메서드로, 클래스 레벨의 속성을 접근하고 수정하는 데 사용됩니다. \n",
    "- @classmethod 데코레이터를 사용하여 정의됩니다.\n",
    "\n",
    "### 정적 메서드 (Static Methods):\n",
    "- 특정 인스턴스나 클래스에 종속되지 않는 독립적인 메서드로, 클래스 내에서 유틸리티 함수를 정의할 때 사용됩니다. \n",
    "- @staticmethod 데코레이터를 사용하여 정의됩니다."
   ]
  },
  {
   "cell_type": "markdown",
   "id": "2d8f2072",
   "metadata": {},
   "source": [
    "## 2-1 객체가 사용하는 인스턴스 메서드 정의\n",
    "\n",
    "- 객체인 인스턴스가 바로 행위를 처리하고 속성을 조회하는 메서드 "
   ]
  },
  {
   "cell_type": "code",
   "execution_count": 16,
   "id": "56a37b37",
   "metadata": {},
   "outputs": [],
   "source": [
    "class User :\n",
    "    def __init__(self,name,age) :\n",
    "        self.name = name\n",
    "        self.age = age\n",
    "        \n",
    "    def getUser(self) :\n",
    "        return self.name, self.age"
   ]
  },
  {
   "cell_type": "code",
   "execution_count": 17,
   "id": "40666f93",
   "metadata": {},
   "outputs": [],
   "source": [
    "u = User(\"이름\", 11)"
   ]
  },
  {
   "cell_type": "code",
   "execution_count": 18,
   "id": "ca68a3cc",
   "metadata": {},
   "outputs": [
    {
     "data": {
      "text/plain": [
       "('이름', 11)"
      ]
     },
     "execution_count": 18,
     "metadata": {},
     "output_type": "execute_result"
    }
   ],
   "source": [
    "u.getUser()"
   ]
  },
  {
   "cell_type": "markdown",
   "id": "53f8f73c",
   "metadata": {},
   "source": [
    "### 인스턴스 메서드의 자료형을 확인 "
   ]
  },
  {
   "cell_type": "code",
   "execution_count": 19,
   "id": "e9d66fd5",
   "metadata": {},
   "outputs": [],
   "source": [
    "import types"
   ]
  },
  {
   "cell_type": "code",
   "execution_count": 20,
   "id": "85e57b60",
   "metadata": {},
   "outputs": [
    {
     "data": {
      "text/plain": [
       "True"
      ]
     },
     "execution_count": 20,
     "metadata": {},
     "output_type": "execute_result"
    }
   ],
   "source": [
    "isinstance(u.getUser,types.MethodType)"
   ]
  },
  {
   "cell_type": "markdown",
   "id": "6cee6fd0",
   "metadata": {},
   "source": [
    "### 인스턴스 메서드 정의할 때 첫번째 자료를 self 정의하는 이유\n",
    "\n",
    "- 실제 내부의 `__self__ ` 속성에 인스턴스가 전달되어 처리"
   ]
  },
  {
   "cell_type": "code",
   "execution_count": 21,
   "id": "81d973aa",
   "metadata": {},
   "outputs": [
    {
     "data": {
      "text/plain": [
       "<__main__.User at 0x10706c390>"
      ]
     },
     "execution_count": 21,
     "metadata": {},
     "output_type": "execute_result"
    }
   ],
   "source": [
    "u.getUser.__self__"
   ]
  },
  {
   "cell_type": "markdown",
   "id": "3930b4f5",
   "metadata": {},
   "source": [
    "### 인스턴스 메서드 바인딩 될 때 클래스에 정의된 함수가 전달됨 \n",
    "\n",
    "- 실제 내부의 `__func__ ` 속성에 함수가 저장됨"
   ]
  },
  {
   "cell_type": "code",
   "execution_count": 22,
   "id": "17333c6d",
   "metadata": {},
   "outputs": [
    {
     "data": {
      "text/plain": [
       "<function __main__.User.getUser(self)>"
      ]
     },
     "execution_count": 22,
     "metadata": {},
     "output_type": "execute_result"
    }
   ],
   "source": [
    "u.getUser.__func__"
   ]
  },
  {
   "cell_type": "code",
   "execution_count": 23,
   "id": "7522887e",
   "metadata": {},
   "outputs": [
    {
     "data": {
      "text/plain": [
       "('이름', 11)"
      ]
     },
     "execution_count": 23,
     "metadata": {},
     "output_type": "execute_result"
    }
   ],
   "source": [
    "u.getUser.__func__(u)"
   ]
  },
  {
   "cell_type": "code",
   "execution_count": null,
   "id": "d8a6a4e3",
   "metadata": {},
   "outputs": [],
   "source": []
  },
  {
   "cell_type": "markdown",
   "id": "5ded92e9",
   "metadata": {},
   "source": [
    "## 2-2 속성을 갱신하는 메서드 정의 \n",
    "\n",
    "- 특정 속성을 갱신하는 메서드 작성 "
   ]
  },
  {
   "cell_type": "code",
   "execution_count": 24,
   "id": "2553867e",
   "metadata": {},
   "outputs": [],
   "source": [
    "class User1 :\n",
    "    def __init__(self,name,age) :\n",
    "        self.name = name\n",
    "        self.age = age\n",
    "        \n",
    "    def getUser(self) :\n",
    "        return self.name, self.age\n",
    "    \n",
    "    def setUser(self,nVal,aVal) :\n",
    "        self.name = nVal\n",
    "        self.age = aVal"
   ]
  },
  {
   "cell_type": "code",
   "execution_count": 25,
   "id": "64192ffc",
   "metadata": {},
   "outputs": [],
   "source": [
    "u1 = User1(\"이름1\", 111)"
   ]
  },
  {
   "cell_type": "code",
   "execution_count": 26,
   "id": "41d5f4aa",
   "metadata": {},
   "outputs": [
    {
     "data": {
      "text/plain": [
       "('이름1', 111)"
      ]
     },
     "execution_count": 26,
     "metadata": {},
     "output_type": "execute_result"
    }
   ],
   "source": [
    "u1.getUser()"
   ]
  },
  {
   "cell_type": "code",
   "execution_count": 27,
   "id": "c4e72d19",
   "metadata": {},
   "outputs": [],
   "source": [
    "u1.setUser(\"은행\", 120)"
   ]
  },
  {
   "cell_type": "code",
   "execution_count": 28,
   "id": "9089ee4a",
   "metadata": {},
   "outputs": [
    {
     "data": {
      "text/plain": [
       "('은행', 120)"
      ]
     },
     "execution_count": 28,
     "metadata": {},
     "output_type": "execute_result"
    }
   ],
   "source": [
    "u1.getUser()"
   ]
  },
  {
   "cell_type": "code",
   "execution_count": null,
   "id": "ecf160f8",
   "metadata": {},
   "outputs": [],
   "source": []
  },
  {
   "cell_type": "markdown",
   "id": "dff76e4e",
   "metadata": {},
   "source": [
    "## 2-3 특정 기능을 하는 메서드 정의 \n",
    "\n",
    "- 객체의 특별한 기능을 처리하는 메서드 작성"
   ]
  },
  {
   "cell_type": "code",
   "execution_count": 29,
   "id": "bc91cec1",
   "metadata": {},
   "outputs": [],
   "source": [
    "class User2 :\n",
    "    def __init__(self,name,age) :\n",
    "        self.name = name\n",
    "        self.age = age\n",
    "        \n",
    "    def getUser(self) :\n",
    "        return self.name, self.age\n",
    "    def setUser(self,nVal,aVal) :\n",
    "        self.name = nVal\n",
    "        self.age = aVal\n",
    "        \n",
    "    def printUser(self) :\n",
    "        print(\"User2 name = \" + self.name + ' age = ' + str(self.age))"
   ]
  },
  {
   "cell_type": "code",
   "execution_count": 30,
   "id": "930dc635",
   "metadata": {},
   "outputs": [],
   "source": [
    "u2 = User2(\"이름1\", 111)"
   ]
  },
  {
   "cell_type": "code",
   "execution_count": 31,
   "id": "23ddb587",
   "metadata": {},
   "outputs": [
    {
     "name": "stdout",
     "output_type": "stream",
     "text": [
      "User2 name = 이름1 age = 111\n"
     ]
    }
   ],
   "source": [
    "u2.printUser()"
   ]
  },
  {
   "cell_type": "code",
   "execution_count": null,
   "id": "73290c7a",
   "metadata": {},
   "outputs": [],
   "source": []
  }
 ],
 "metadata": {
  "kernelspec": {
   "display_name": "Python 3 (ipykernel)",
   "language": "python",
   "name": "python3"
  },
  "language_info": {
   "codemirror_mode": {
    "name": "ipython",
    "version": 3
   },
   "file_extension": ".py",
   "mimetype": "text/x-python",
   "name": "python",
   "nbconvert_exporter": "python",
   "pygments_lexer": "ipython3",
   "version": "3.11.3"
  }
 },
 "nbformat": 4,
 "nbformat_minor": 5
}
