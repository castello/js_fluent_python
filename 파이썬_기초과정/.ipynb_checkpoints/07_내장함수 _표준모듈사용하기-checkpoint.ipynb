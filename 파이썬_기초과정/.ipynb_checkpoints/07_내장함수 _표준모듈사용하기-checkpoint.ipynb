{
 "cells": [
  {
   "cell_type": "code",
   "execution_count": 1,
   "id": "18a03953",
   "metadata": {},
   "outputs": [
    {
     "data": {
      "text/plain": [
       "'3.11.3'"
      ]
     },
     "execution_count": 1,
     "metadata": {},
     "output_type": "execute_result"
    }
   ],
   "source": [
    "import platform\n",
    "\n",
    "platform.python_version()"
   ]
  },
  {
   "cell_type": "code",
   "execution_count": null,
   "id": "0707f011",
   "metadata": {},
   "outputs": [],
   "source": []
  },
  {
   "cell_type": "markdown",
   "id": "ce35cec6",
   "metadata": {},
   "source": [
    "# 1. 내장함수\n",
    "\n",
    "- 기본적으로 프로그램 언어에서 제공하는 함수"
   ]
  },
  {
   "cell_type": "markdown",
   "id": "1d40b5c7",
   "metadata": {},
   "source": [
    "###  빌트인 모듈 \n",
    "- 내방함수는 이 빌트인 모듈에서 제공\n",
    "- 그래서 import 없이 바로 사용이 가능"
   ]
  },
  {
   "cell_type": "code",
   "execution_count": 2,
   "id": "46c8bb2d",
   "metadata": {},
   "outputs": [
    {
     "data": {
      "text/plain": [
       "<module 'builtins' (built-in)>"
      ]
     },
     "execution_count": 2,
     "metadata": {},
     "output_type": "execute_result"
    }
   ],
   "source": [
    "__builtins__"
   ]
  },
  {
   "cell_type": "markdown",
   "id": "0d5d3108",
   "metadata": {},
   "source": [
    "## 1-1 논리식과 주소처리"
   ]
  },
  {
   "cell_type": "markdown",
   "id": "c90a9e5e",
   "metadata": {},
   "source": [
    "## 1-1-1 조건 판단하기"
   ]
  },
  {
   "cell_type": "code",
   "execution_count": 3,
   "id": "692aafa9",
   "metadata": {},
   "outputs": [
    {
     "data": {
      "text/plain": [
       "<function all(iterable, /)>"
      ]
     },
     "execution_count": 3,
     "metadata": {},
     "output_type": "execute_result"
    }
   ],
   "source": [
    "__builtins__.__dict__['all']"
   ]
  },
  {
   "cell_type": "code",
   "execution_count": 4,
   "id": "5b776c40",
   "metadata": {},
   "outputs": [
    {
     "data": {
      "text/plain": [
       "<function any(iterable, /)>"
      ]
     },
     "execution_count": 4,
     "metadata": {},
     "output_type": "execute_result"
    }
   ],
   "source": [
    "__builtins__.__dict__['any']"
   ]
  },
  {
   "cell_type": "markdown",
   "id": "f2a6395d",
   "metadata": {},
   "source": [
    "### 위치매개변수의 종료를 표시 \n"
   ]
  },
  {
   "cell_type": "code",
   "execution_count": 5,
   "id": "468d09b1",
   "metadata": {},
   "outputs": [
    {
     "name": "stdout",
     "output_type": "stream",
     "text": [
      "example_function() got some positional-only arguments passed as keyword arguments: 'a, b'\n"
     ]
    }
   ],
   "source": [
    "def example_function(a, b, /, c, d):\n",
    "    pass\n",
    "\n",
    "example_function(1, 2, c=3, d=4)  # 올바른 호출\n",
    "example_function(1, 2, 3, 4)      # 올바른 호출\n",
    "\n",
    "try : \n",
    "    example_function(a=1, b=2, c=3, d=4)  # 오류: a와 b는 위치 매개변수로만 전달 가능\n",
    "except TypeError as e :\n",
    "    print(e)"
   ]
  },
  {
   "cell_type": "code",
   "execution_count": null,
   "id": "12e7108f",
   "metadata": {},
   "outputs": [],
   "source": []
  },
  {
   "cell_type": "markdown",
   "id": "c7f0d75f",
   "metadata": {},
   "source": [
    "### iterabel 의 의미는\n",
    "\n",
    "-  원소가 여러 개을 가지는 리스트, 튜플, 등을 의미함 "
   ]
  },
  {
   "cell_type": "code",
   "execution_count": 6,
   "id": "ec101bac",
   "metadata": {},
   "outputs": [],
   "source": [
    "list1 = [False, True, False]\n",
    "tuple1 = (False, True, False)"
   ]
  },
  {
   "cell_type": "code",
   "execution_count": 7,
   "id": "ec7c2567",
   "metadata": {},
   "outputs": [],
   "source": [
    "import collections.abc as abc"
   ]
  },
  {
   "cell_type": "code",
   "execution_count": 8,
   "id": "6fcfe802",
   "metadata": {},
   "outputs": [
    {
     "data": {
      "text/plain": [
       "(True, True)"
      ]
     },
     "execution_count": 8,
     "metadata": {},
     "output_type": "execute_result"
    }
   ],
   "source": [
    "isinstance(list1, abc.Iterable), isinstance(tuple1, abc.Iterable)"
   ]
  },
  {
   "cell_type": "markdown",
   "id": "9e4dff77",
   "metadata": {},
   "source": [
    "### 논리값을 가진 리스트 등을 점검\n",
    "\n",
    "- all은 모두 참일 경우\n",
    "- any는 하나만 참인 경우 "
   ]
  },
  {
   "cell_type": "code",
   "execution_count": 9,
   "id": "7bc68c60",
   "metadata": {},
   "outputs": [
    {
     "data": {
      "text/plain": [
       "(False, True)"
      ]
     },
     "execution_count": 9,
     "metadata": {},
     "output_type": "execute_result"
    }
   ],
   "source": [
    "all([True, False]), any([True, False])"
   ]
  },
  {
   "cell_type": "markdown",
   "id": "0cd11f6b",
   "metadata": {},
   "source": [
    "###  빈 리스트를 체크할 경우 주의 \n",
    "- all 은 모두  참으로 인식\n",
    "- any는 모두 거짓으로 인식 "
   ]
  },
  {
   "cell_type": "code",
   "execution_count": 10,
   "id": "a50a9592",
   "metadata": {},
   "outputs": [
    {
     "data": {
      "text/plain": [
       "(True, False)"
      ]
     },
     "execution_count": 10,
     "metadata": {},
     "output_type": "execute_result"
    }
   ],
   "source": [
    "all([]), any([])"
   ]
  },
  {
   "cell_type": "markdown",
   "id": "ea50a5fc",
   "metadata": {},
   "source": [
    "## 1-1-2 객체  레퍼런스를 정수 및 해시값으로 보기\n",
    "\n",
    "\n",
    "### id() 함수:\n",
    "- id(obj) 함수는 객체의 고유 식별자(identity)를 반환합니다. \n",
    "- 이 식별자는 해당 객체가 메모리에서 차지하는 주소를 나타내며, 객체마다 고유한 값을 가집니다.\n",
    "- id() 함수를 사용하여 객체의 고유한 메모리 주소를 얻을 수 있습니다.\n",
    "- 고유한 메모리 주소를 사용하여 객체가 서로 다른지 여부를 판별할 수 있습니다.\n",
    "\n",
    "\n",
    "### hash() 함수:\n",
    "- hash(obj) 함수는 해시 값(hash value)를 반환합니다. 해시 값은 정수로서, 객체의 내용을 기반으로 생성됩니다.\n",
    "- hash() 함수는 해시 가능한 객체에 사용할 수 있으며, 같은 내용을 가지는 객체는 같은 해시 값을 가집니다.\n",
    "- 해시 값은 일반적으로 해시 테이블 등에서 객체를 빠르게 검색하기 위해 사용됩니다."
   ]
  },
  {
   "cell_type": "markdown",
   "id": "8051664f",
   "metadata": {},
   "source": [
    "### 레퍼런스 확인 "
   ]
  },
  {
   "cell_type": "code",
   "execution_count": 11,
   "id": "6ae37f4d",
   "metadata": {},
   "outputs": [
    {
     "data": {
      "text/plain": [
       "<function id(obj, /)>"
      ]
     },
     "execution_count": 11,
     "metadata": {},
     "output_type": "execute_result"
    }
   ],
   "source": [
    "__builtins__.__dict__['id']"
   ]
  },
  {
   "cell_type": "code",
   "execution_count": 12,
   "id": "18a7a205",
   "metadata": {},
   "outputs": [
    {
     "name": "stdout",
     "output_type": "stream",
     "text": [
      "4431867008\n",
      "4431859200\n"
     ]
    }
   ],
   "source": [
    "x = [1, 2, 3]\n",
    "y = [1, 2, 3]\n",
    "print(id(x))  # 객체 x의 메모리 주소\n",
    "print(id(y))  # 객체 y의 메모리 주소 (x와 다름)"
   ]
  },
  {
   "cell_type": "markdown",
   "id": "c1e7e544",
   "metadata": {},
   "source": [
    "### 해시값 확인 "
   ]
  },
  {
   "cell_type": "code",
   "execution_count": 13,
   "id": "332d2198",
   "metadata": {},
   "outputs": [
    {
     "data": {
      "text/plain": [
       "<function hash(obj, /)>"
      ]
     },
     "execution_count": 13,
     "metadata": {},
     "output_type": "execute_result"
    }
   ],
   "source": [
    "__builtins__.__dict__['hash']"
   ]
  },
  {
   "cell_type": "code",
   "execution_count": 14,
   "id": "8cff6d32",
   "metadata": {},
   "outputs": [
    {
     "name": "stdout",
     "output_type": "stream",
     "text": [
      "-5014063817038821157\n",
      "-5014063817038821157\n"
     ]
    }
   ],
   "source": [
    "a = \"hello\"\n",
    "b = \"hello\"\n",
    "print(hash(a))  # 객체 a의 해시 값\n",
    "print(hash(b))  # 객체 b의 해시 값 (a와 같음)"
   ]
  },
  {
   "cell_type": "markdown",
   "id": "45295a10",
   "metadata": {},
   "source": [
    "### 객체 인스턴스의 주소값과 해시값 확인 "
   ]
  },
  {
   "cell_type": "code",
   "execution_count": 15,
   "id": "74346a4d",
   "metadata": {},
   "outputs": [],
   "source": [
    "class A :\n",
    "    pass"
   ]
  },
  {
   "cell_type": "code",
   "execution_count": 16,
   "id": "55b3f8f3",
   "metadata": {},
   "outputs": [
    {
     "data": {
      "text/plain": [
       "4431739536"
      ]
     },
     "execution_count": 16,
     "metadata": {},
     "output_type": "execute_result"
    }
   ],
   "source": [
    "id(A())"
   ]
  },
  {
   "cell_type": "code",
   "execution_count": 17,
   "id": "089a5449",
   "metadata": {},
   "outputs": [
    {
     "data": {
      "text/plain": [
       "276983681"
      ]
     },
     "execution_count": 17,
     "metadata": {},
     "output_type": "execute_result"
    }
   ],
   "source": [
    "hash(A())"
   ]
  },
  {
   "cell_type": "code",
   "execution_count": null,
   "id": "76a6c3b9",
   "metadata": {},
   "outputs": [],
   "source": []
  },
  {
   "cell_type": "code",
   "execution_count": null,
   "id": "ea0634b8",
   "metadata": {},
   "outputs": [],
   "source": []
  },
  {
   "cell_type": "markdown",
   "id": "6d9a04b5",
   "metadata": {},
   "source": [
    "## 1-2    함수 관련 내장함수"
   ]
  },
  {
   "cell_type": "markdown",
   "id": "518c766b",
   "metadata": {},
   "source": [
    "## 1-2-1 호출가능 객체 확인 "
   ]
  },
  {
   "cell_type": "code",
   "execution_count": 18,
   "id": "7eef100a",
   "metadata": {},
   "outputs": [
    {
     "data": {
      "text/plain": [
       "<function callable(obj, /)>"
      ]
     },
     "execution_count": 18,
     "metadata": {},
     "output_type": "execute_result"
    }
   ],
   "source": [
    "__builtins__.__dict__['callable']"
   ]
  },
  {
   "cell_type": "code",
   "execution_count": 19,
   "id": "4011cc8c",
   "metadata": {},
   "outputs": [],
   "source": [
    "def add(x,y) :\n",
    "    return x+y"
   ]
  },
  {
   "cell_type": "code",
   "execution_count": 20,
   "id": "68a53d15",
   "metadata": {},
   "outputs": [
    {
     "data": {
      "text/plain": [
       "True"
      ]
     },
     "execution_count": 20,
     "metadata": {},
     "output_type": "execute_result"
    }
   ],
   "source": [
    "callable(add)"
   ]
  },
  {
   "cell_type": "markdown",
   "id": "5ca81e52",
   "metadata": {},
   "source": [
    "## 1-2-2  값을 처리하는  함수"
   ]
  },
  {
   "cell_type": "markdown",
   "id": "8b05e95f",
   "metadata": {},
   "source": [
    "## 절대값 처리"
   ]
  },
  {
   "cell_type": "code",
   "execution_count": 21,
   "id": "226ea06d",
   "metadata": {},
   "outputs": [
    {
     "data": {
      "text/plain": [
       "<function abs(x, /)>"
      ]
     },
     "execution_count": 21,
     "metadata": {},
     "output_type": "execute_result"
    }
   ],
   "source": [
    "__builtins__.__dict__['abs']"
   ]
  },
  {
   "cell_type": "code",
   "execution_count": 22,
   "id": "9e7c7bcf",
   "metadata": {},
   "outputs": [
    {
     "data": {
      "text/plain": [
       "100"
      ]
     },
     "execution_count": 22,
     "metadata": {},
     "output_type": "execute_result"
    }
   ],
   "source": [
    "abs(-100)"
   ]
  },
  {
   "cell_type": "markdown",
   "id": "250ff91b",
   "metadata": {},
   "source": [
    "## 몫과 나머지 구하기"
   ]
  },
  {
   "cell_type": "code",
   "execution_count": 23,
   "id": "17c32292",
   "metadata": {},
   "outputs": [
    {
     "data": {
      "text/plain": [
       "<function divmod(x, y, /)>"
      ]
     },
     "execution_count": 23,
     "metadata": {},
     "output_type": "execute_result"
    }
   ],
   "source": [
    "__builtins__.__dict__['divmod']"
   ]
  },
  {
   "cell_type": "code",
   "execution_count": 24,
   "id": "ea7e10fa",
   "metadata": {},
   "outputs": [
    {
     "data": {
      "text/plain": [
       "(3, 1)"
      ]
     },
     "execution_count": 24,
     "metadata": {},
     "output_type": "execute_result"
    }
   ],
   "source": [
    "divmod(10,3)"
   ]
  },
  {
   "cell_type": "markdown",
   "id": "9cabac04",
   "metadata": {},
   "source": [
    "## 최대값과 최소갑 "
   ]
  },
  {
   "cell_type": "code",
   "execution_count": 25,
   "id": "f3f58bee",
   "metadata": {},
   "outputs": [
    {
     "data": {
      "text/plain": [
       "<function max>"
      ]
     },
     "execution_count": 25,
     "metadata": {},
     "output_type": "execute_result"
    }
   ],
   "source": [
    "__builtins__.__dict__['max']"
   ]
  },
  {
   "cell_type": "code",
   "execution_count": 26,
   "id": "a9416ea4",
   "metadata": {},
   "outputs": [
    {
     "data": {
      "text/plain": [
       "<function min>"
      ]
     },
     "execution_count": 26,
     "metadata": {},
     "output_type": "execute_result"
    }
   ],
   "source": [
    "__builtins__.__dict__['min']"
   ]
  },
  {
   "cell_type": "code",
   "execution_count": 27,
   "id": "6460d441",
   "metadata": {},
   "outputs": [
    {
     "name": "stdout",
     "output_type": "stream",
     "text": [
      "최대값 4\n",
      "최소값 1\n"
     ]
    }
   ],
   "source": [
    "ll = [1,2,3,4]\n",
    "print(\"최대값\",max(ll))\n",
    "print(\"최소값\",min(ll))"
   ]
  },
  {
   "cell_type": "markdown",
   "id": "6221fa54",
   "metadata": {},
   "source": [
    "## 버림 구하기"
   ]
  },
  {
   "cell_type": "code",
   "execution_count": 28,
   "id": "b2123a94",
   "metadata": {},
   "outputs": [
    {
     "data": {
      "text/plain": [
       "<function round(number, ndigits=None)>"
      ]
     },
     "execution_count": 28,
     "metadata": {},
     "output_type": "execute_result"
    }
   ],
   "source": [
    "__builtins__.__dict__['round']"
   ]
  },
  {
   "cell_type": "code",
   "execution_count": 29,
   "id": "0a8bf0f5",
   "metadata": {},
   "outputs": [
    {
     "data": {
      "text/plain": [
       "100.34"
      ]
     },
     "execution_count": 29,
     "metadata": {},
     "output_type": "execute_result"
    }
   ],
   "source": [
    "round(100.337,2)"
   ]
  },
  {
   "cell_type": "markdown",
   "id": "488617a8",
   "metadata": {},
   "source": [
    "###   모듈을 사용한 버림과 올림 처리 \n",
    "\n",
    "- floor(x): 주어진 숫자 x를 버림하여 그보다 작거나 같은 가장 큰 정수를 반환합니다.\n",
    "- ceil(x): 주어진 숫자 x를 올림하여 그보다 크거나 같은 가장 작은 정수를 반환합니다."
   ]
  },
  {
   "cell_type": "code",
   "execution_count": 30,
   "id": "9e7b1aae",
   "metadata": {},
   "outputs": [
    {
     "name": "stdout",
     "output_type": "stream",
     "text": [
      "100\n"
     ]
    }
   ],
   "source": [
    "import math\n",
    "\n",
    "x = 100.5\n",
    "result_floor = math.floor(x)\n",
    "print(result_floor)  "
   ]
  },
  {
   "cell_type": "code",
   "execution_count": 31,
   "id": "9c534f66",
   "metadata": {},
   "outputs": [
    {
     "name": "stdout",
     "output_type": "stream",
     "text": [
      "101\n"
     ]
    }
   ],
   "source": [
    "x = 100.5\n",
    "result_ceil = math.ceil(x)\n",
    "print(result_ceil)  # 4"
   ]
  },
  {
   "cell_type": "markdown",
   "id": "0ab8c07d",
   "metadata": {},
   "source": [
    "### 모듈을 사용한 자리수 버림과 올림을 처리하는 사용자 정의 함수 "
   ]
  },
  {
   "cell_type": "code",
   "execution_count": 32,
   "id": "34a0d4d6",
   "metadata": {},
   "outputs": [
    {
     "name": "stdout",
     "output_type": "stream",
     "text": [
      "100.5\n"
     ]
    }
   ],
   "source": [
    "def custom_floor(x, decimals=0):\n",
    "    multiplier = 10 ** decimals\n",
    "    return math.floor(x * multiplier) / multiplier\n",
    "\n",
    "x = 100.55\n",
    "result_floor = custom_floor(x, 1)  # 소숫점 첫 번째 자리까지 버림\n",
    "print(result_floor)  "
   ]
  },
  {
   "cell_type": "code",
   "execution_count": 33,
   "id": "6ee6942d",
   "metadata": {},
   "outputs": [
    {
     "name": "stdout",
     "output_type": "stream",
     "text": [
      "100.6\n"
     ]
    }
   ],
   "source": [
    "def custom_ceil(x, decimals=0):\n",
    "    multiplier = 10 ** decimals\n",
    "    return math.ceil(x * multiplier) / multiplier\n",
    "\n",
    "x = 100.55\n",
    "result_ceil = custom_ceil(x, 1)  # 소숫점 첫 번째 자리까지 올림\n",
    "print(result_ceil)  "
   ]
  },
  {
   "cell_type": "markdown",
   "id": "768abc1d",
   "metadata": {},
   "source": [
    "## 제곱 처리 "
   ]
  },
  {
   "cell_type": "code",
   "execution_count": 34,
   "id": "6ab1b03a",
   "metadata": {},
   "outputs": [
    {
     "data": {
      "text/plain": [
       "<function pow(base, exp, mod=None)>"
      ]
     },
     "execution_count": 34,
     "metadata": {},
     "output_type": "execute_result"
    }
   ],
   "source": [
    "__builtins__.__dict__['pow']"
   ]
  },
  {
   "cell_type": "code",
   "execution_count": 35,
   "id": "452246a9",
   "metadata": {},
   "outputs": [
    {
     "data": {
      "text/plain": [
       "(100, 100)"
      ]
     },
     "execution_count": 35,
     "metadata": {},
     "output_type": "execute_result"
    }
   ],
   "source": [
    "pow(10,2), 10*10"
   ]
  },
  {
   "cell_type": "markdown",
   "id": "d8f75559",
   "metadata": {},
   "source": [
    "## 문자열 표현식을 값으로 변환하기 "
   ]
  },
  {
   "cell_type": "code",
   "execution_count": 36,
   "id": "2a31a26d",
   "metadata": {},
   "outputs": [
    {
     "data": {
      "text/plain": [
       "<function eval(source, globals=None, locals=None, /)>"
      ]
     },
     "execution_count": 36,
     "metadata": {},
     "output_type": "execute_result"
    }
   ],
   "source": [
    "__builtins__.__dict__['eval']"
   ]
  },
  {
   "cell_type": "code",
   "execution_count": 37,
   "id": "5c9fc50f",
   "metadata": {},
   "outputs": [
    {
     "data": {
      "text/plain": [
       "200"
      ]
     },
     "execution_count": 37,
     "metadata": {},
     "output_type": "execute_result"
    }
   ],
   "source": [
    "eval(\"100 + 100\")"
   ]
  },
  {
   "cell_type": "code",
   "execution_count": null,
   "id": "b2f533e5",
   "metadata": {},
   "outputs": [],
   "source": []
  },
  {
   "cell_type": "code",
   "execution_count": null,
   "id": "d9e0db54",
   "metadata": {},
   "outputs": [],
   "source": []
  },
  {
   "cell_type": "markdown",
   "id": "e13f28e0",
   "metadata": {},
   "source": [
    "## 1-3  특정 문자 및 진법 처리 함수 "
   ]
  },
  {
   "cell_type": "markdown",
   "id": "62dd5c33",
   "metadata": {},
   "source": [
    "## 1-3-1 문자처리 "
   ]
  },
  {
   "cell_type": "code",
   "execution_count": 38,
   "id": "7a60ab2f",
   "metadata": {},
   "outputs": [
    {
     "data": {
      "text/plain": [
       "<function ord(c, /)>"
      ]
     },
     "execution_count": 38,
     "metadata": {},
     "output_type": "execute_result"
    }
   ],
   "source": [
    "__builtins__.__dict__['ord']"
   ]
  },
  {
   "cell_type": "code",
   "execution_count": 39,
   "id": "1bc855bd",
   "metadata": {},
   "outputs": [
    {
     "data": {
      "text/plain": [
       "<function chr(i, /)>"
      ]
     },
     "execution_count": 39,
     "metadata": {},
     "output_type": "execute_result"
    }
   ],
   "source": [
    "__builtins__.__dict__['chr']"
   ]
  },
  {
   "cell_type": "code",
   "execution_count": 40,
   "id": "2d75cea8",
   "metadata": {},
   "outputs": [],
   "source": [
    "va = ord(\"a\")"
   ]
  },
  {
   "cell_type": "code",
   "execution_count": 41,
   "id": "c560cf00",
   "metadata": {},
   "outputs": [
    {
     "data": {
      "text/plain": [
       "'a'"
      ]
     },
     "execution_count": 41,
     "metadata": {},
     "output_type": "execute_result"
    }
   ],
   "source": [
    "chr(va)"
   ]
  },
  {
   "cell_type": "markdown",
   "id": "8009ccf7",
   "metadata": {},
   "source": [
    "## 1-3-2 진법 표시 확인 "
   ]
  },
  {
   "cell_type": "code",
   "execution_count": 42,
   "id": "31ddacce",
   "metadata": {},
   "outputs": [
    {
     "data": {
      "text/plain": [
       "<function bin(number, /)>"
      ]
     },
     "execution_count": 42,
     "metadata": {},
     "output_type": "execute_result"
    }
   ],
   "source": [
    "__builtins__.__dict__['bin']"
   ]
  },
  {
   "cell_type": "code",
   "execution_count": 43,
   "id": "6488c1e0",
   "metadata": {},
   "outputs": [
    {
     "data": {
      "text/plain": [
       "<function oct(number, /)>"
      ]
     },
     "execution_count": 43,
     "metadata": {},
     "output_type": "execute_result"
    }
   ],
   "source": [
    "__builtins__.__dict__['oct']"
   ]
  },
  {
   "cell_type": "code",
   "execution_count": 44,
   "id": "43948988",
   "metadata": {},
   "outputs": [
    {
     "data": {
      "text/plain": [
       "<function hex(number, /)>"
      ]
     },
     "execution_count": 44,
     "metadata": {},
     "output_type": "execute_result"
    }
   ],
   "source": [
    "__builtins__.__dict__['hex']"
   ]
  },
  {
   "cell_type": "code",
   "execution_count": 45,
   "id": "85ac4243",
   "metadata": {},
   "outputs": [
    {
     "data": {
      "text/plain": [
       "'0b1100100'"
      ]
     },
     "execution_count": 45,
     "metadata": {},
     "output_type": "execute_result"
    }
   ],
   "source": [
    "bin(100)           # 2진수 "
   ]
  },
  {
   "cell_type": "code",
   "execution_count": 46,
   "id": "923f5a35",
   "metadata": {},
   "outputs": [
    {
     "data": {
      "text/plain": [
       "'0o144'"
      ]
     },
     "execution_count": 46,
     "metadata": {},
     "output_type": "execute_result"
    }
   ],
   "source": [
    "oct(100)           # 8진수 "
   ]
  },
  {
   "cell_type": "code",
   "execution_count": 47,
   "id": "0dffa77d",
   "metadata": {},
   "outputs": [
    {
     "data": {
      "text/plain": [
       "'0x64'"
      ]
     },
     "execution_count": 47,
     "metadata": {},
     "output_type": "execute_result"
    }
   ],
   "source": [
    "hex(100)           # 16진수"
   ]
  },
  {
   "cell_type": "code",
   "execution_count": null,
   "id": "adead7ef",
   "metadata": {},
   "outputs": [],
   "source": []
  },
  {
   "cell_type": "code",
   "execution_count": null,
   "id": "cdfc44c7",
   "metadata": {},
   "outputs": [],
   "source": []
  },
  {
   "cell_type": "markdown",
   "id": "2577dd6f",
   "metadata": {},
   "source": [
    "# 2. operator 모듈\n",
    "\n",
    "- 다양한 연산자를 함수로 제공"
   ]
  },
  {
   "cell_type": "markdown",
   "id": "653cf57b",
   "metadata": {},
   "source": [
    "## 오퍼레이터 모듈 확인하기 "
   ]
  },
  {
   "cell_type": "code",
   "execution_count": 48,
   "id": "49c3ae12",
   "metadata": {},
   "outputs": [],
   "source": [
    "import operator as op"
   ]
  },
  {
   "cell_type": "code",
   "execution_count": 49,
   "id": "bd929413",
   "metadata": {},
   "outputs": [
    {
     "name": "stdout",
     "output_type": "stream",
     "text": [
      "__abs__, __add__, __all__, __and__, __builtins__, __cached__, __call__, __concat__, __contains__, __delitem__, __doc__, __eq__, __file__, __floordiv__, __ge__, __getitem__, __gt__, __iadd__, __iand__, __iconcat__, __ifloordiv__, __ilshift__, __imatmul__, __imod__, __imul__, __index__, __inv__, __invert__, __ior__, __ipow__, __irshift__, __isub__, __itruediv__, __ixor__, __le__, __loader__, __lshift__, __lt__, __matmul__, __mod__, __mul__, __name__, __ne__, __neg__, __not__, __or__, __package__, __pos__, __pow__, __rshift__, __setitem__, __spec__, __sub__, __truediv__, __xor__, _abs, abs, add, and_, attrgetter, call, concat, contains, countOf, delitem, eq, floordiv, ge, getitem, gt, iadd, iand, iconcat, ifloordiv, ilshift, imatmul, imod, imul, index, indexOf, inv, invert, ior, ipow, irshift, is_, is_not, isub, itemgetter, itruediv, ixor, le, length_hint, lshift, lt, matmul, methodcaller, mod, mul, ne, neg, not_, or_, pos, pow, rshift, setitem, sub, truediv, truth, xor, "
     ]
    }
   ],
   "source": [
    "for i in dir(op) :\n",
    "    print(i, end=\", \")"
   ]
  },
  {
   "cell_type": "markdown",
   "id": "3672f32a",
   "metadata": {},
   "source": [
    "##  2-1 사칙연산자 처리 "
   ]
  },
  {
   "cell_type": "markdown",
   "id": "d85be62e",
   "metadata": {},
   "source": [
    "## 연산자 사용하기"
   ]
  },
  {
   "cell_type": "code",
   "execution_count": 50,
   "id": "e7ed46ed",
   "metadata": {},
   "outputs": [
    {
     "data": {
      "text/plain": [
       "(200, 20, 100, 10.0, 6)"
      ]
     },
     "execution_count": 50,
     "metadata": {},
     "output_type": "execute_result"
    }
   ],
   "source": [
    "100 + 100, 100 - 80, 10*10, 20 / 2, 20 //3 "
   ]
  },
  {
   "cell_type": "markdown",
   "id": "520aca98",
   "metadata": {},
   "source": [
    "## 함수와 메서드 사용하기 "
   ]
  },
  {
   "cell_type": "code",
   "execution_count": 51,
   "id": "739052be",
   "metadata": {},
   "outputs": [
    {
     "data": {
      "text/plain": [
       "(300, 200)"
      ]
     },
     "execution_count": 51,
     "metadata": {},
     "output_type": "execute_result"
    }
   ],
   "source": [
    "op.add(100,200), (100).__add__(100)"
   ]
  },
  {
   "cell_type": "code",
   "execution_count": 52,
   "id": "71cfd361",
   "metadata": {},
   "outputs": [
    {
     "data": {
      "text/plain": [
       "(-100, -100)"
      ]
     },
     "execution_count": 52,
     "metadata": {},
     "output_type": "execute_result"
    }
   ],
   "source": [
    "op.sub(100,200), (100).__sub__(200)"
   ]
  },
  {
   "cell_type": "code",
   "execution_count": 53,
   "id": "399495f5",
   "metadata": {},
   "outputs": [
    {
     "data": {
      "text/plain": [
       "(100, 100)"
      ]
     },
     "execution_count": 53,
     "metadata": {},
     "output_type": "execute_result"
    }
   ],
   "source": [
    "op.mul(10,10), (10).__mul__(10)"
   ]
  },
  {
   "cell_type": "code",
   "execution_count": 54,
   "id": "bcb04bab",
   "metadata": {},
   "outputs": [
    {
     "data": {
      "text/plain": [
       "(10.0, 10.0)"
      ]
     },
     "execution_count": 54,
     "metadata": {},
     "output_type": "execute_result"
    }
   ],
   "source": [
    "op.truediv(20,2), (20).__truediv__(2)"
   ]
  },
  {
   "cell_type": "code",
   "execution_count": 55,
   "id": "e3ee7ce7",
   "metadata": {},
   "outputs": [
    {
     "data": {
      "text/plain": [
       "(6, 6)"
      ]
     },
     "execution_count": 55,
     "metadata": {},
     "output_type": "execute_result"
    }
   ],
   "source": [
    "op.floordiv(20,3), (20).__floordiv__(3)"
   ]
  },
  {
   "cell_type": "code",
   "execution_count": 56,
   "id": "c2078091",
   "metadata": {},
   "outputs": [
    {
     "data": {
      "text/plain": [
       "(2, 2)"
      ]
     },
     "execution_count": 56,
     "metadata": {},
     "output_type": "execute_result"
    }
   ],
   "source": [
    "op.mod(20,3), (20).__mod__(3)"
   ]
  },
  {
   "cell_type": "code",
   "execution_count": null,
   "id": "c1005b93",
   "metadata": {},
   "outputs": [],
   "source": []
  }
 ],
 "metadata": {
  "kernelspec": {
   "display_name": "Python 3 (ipykernel)",
   "language": "python",
   "name": "python3"
  },
  "language_info": {
   "codemirror_mode": {
    "name": "ipython",
    "version": 3
   },
   "file_extension": ".py",
   "mimetype": "text/x-python",
   "name": "python",
   "nbconvert_exporter": "python",
   "pygments_lexer": "ipython3",
   "version": "3.11.3"
  }
 },
 "nbformat": 4,
 "nbformat_minor": 5
}
