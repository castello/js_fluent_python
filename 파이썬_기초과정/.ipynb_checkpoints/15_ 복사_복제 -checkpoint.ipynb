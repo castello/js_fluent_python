{
 "cells": [
  {
   "cell_type": "code",
   "execution_count": 9,
   "id": "315c594d",
   "metadata": {},
   "outputs": [
    {
     "data": {
      "text/plain": [
       "'3.11.3'"
      ]
     },
     "execution_count": 9,
     "metadata": {},
     "output_type": "execute_result"
    }
   ],
   "source": [
    "import platform\n",
    "\n",
    "platform.python_version()"
   ]
  },
  {
   "cell_type": "code",
   "execution_count": null,
   "id": "dbfbbbf4",
   "metadata": {},
   "outputs": [],
   "source": []
  },
  {
   "cell_type": "code",
   "execution_count": null,
   "id": "4a646288",
   "metadata": {},
   "outputs": [],
   "source": []
  },
  {
   "cell_type": "markdown",
   "id": "963db0df",
   "metadata": {},
   "source": [
    "## 1. 함수 호출 시 인자 전달 방식\n",
    "\n",
    "- \"Call by Object Reference\" 또는 \"Pass by Object Reference\"라는 개념을 사용합니다.\n",
    "- 함수에 인자를 전달할 때, 해당 인자의 값이 복사되는 것이 아니라 해당 객체에 대한 참조(reference)가 전달됩니다. \n",
    "- 이렇게 전달된 참조를 이용하여 함수 내에서 원본 객체를 조작하거나 수정할 수 있습니다. \n",
    "- 그러나 변수 자체에 대한 재할당은 호출자에게 영향을 주지 않습니다."
   ]
  },
  {
   "cell_type": "markdown",
   "id": "d747d334",
   "metadata": {},
   "source": [
    "## 리스트는 가변이라서 기존 값을 변경 "
   ]
  },
  {
   "cell_type": "code",
   "execution_count": 2,
   "id": "f7912d4d",
   "metadata": {},
   "outputs": [
    {
     "name": "stdout",
     "output_type": "stream",
     "text": [
      "[1, 2, 3, 4]\n"
     ]
    }
   ],
   "source": [
    "def modify_list(lst):\n",
    "    lst.append(4)\n",
    "\n",
    "my_list = [1, 2, 3]\n",
    "modify_list(my_list)\n",
    "print(my_list)  # 출력: [1, 2, 3, 4]\n",
    "\n"
   ]
  },
  {
   "cell_type": "markdown",
   "id": "8e7d259b",
   "metadata": {},
   "source": [
    "## 정수는 불변이라 항상 새로운 객체 생성"
   ]
  },
  {
   "cell_type": "code",
   "execution_count": 3,
   "id": "e34088bd",
   "metadata": {},
   "outputs": [
    {
     "name": "stdout",
     "output_type": "stream",
     "text": [
      "5\n"
     ]
    }
   ],
   "source": [
    "def modify_int(x):\n",
    "    x = x + 1\n",
    "\n",
    "my_num = 5\n",
    "modify_int(my_num)\n",
    "print(my_num)   # 출력: 5"
   ]
  },
  {
   "cell_type": "code",
   "execution_count": null,
   "id": "ba867d56",
   "metadata": {},
   "outputs": [],
   "source": []
  },
  {
   "cell_type": "markdown",
   "id": "52da1702",
   "metadata": {},
   "source": [
    "## 2. 문자열의 뷰와 갱신 버퍼 처리 \n",
    "\n",
    "\n",
    "### memoryview\n",
    "- 파이썬의 내장 클래스로, 다양한 데이터 구조(예: 바이트열)를 메모리 상에서 조작하고 다루는 데 사용되는 기능을 제공하는 객체입니다. \n",
    "- memoryview는 데이터의 슬라이싱, 수정, 변경 등을 메모리 내에서 효율적으로 처리할 수 있도록 도와줍니다.\n",
    "- memoryview는 주로 큰 데이터 구조나 바이너리 데이터를 다룰 때 유용하며, 특히 파일 입출력, 네트워크 통신 등에서 데이터의 빠른 조작이 필요한 경우에 활용됩니다.\n",
    "\n",
    "### bytearray\n",
    "- 파이썬의 내장 클래스로, 수정 가능한 바이트 배열을 나타내는 데이터 타입입니다. \n",
    "- bytes와 유사하게 바이트 시퀀스를 나타내지만, bytearray는 변경 가능하므로 요소를 추가하거나 수정할 수 있습니다."
   ]
  },
  {
   "cell_type": "markdown",
   "id": "e72ace35",
   "metadata": {},
   "source": [
    "## 2-1 메모리뷰와 바이트배열 처리"
   ]
  },
  {
   "cell_type": "code",
   "execution_count": 1,
   "id": "650842f2",
   "metadata": {},
   "outputs": [],
   "source": [
    "# 바이트열을 생성하고 memoryview 객체로 변환\n",
    "data = b'Hello, World!'\n",
    "mv = memoryview(data)"
   ]
  },
  {
   "cell_type": "code",
   "execution_count": 2,
   "id": "0c8b0994",
   "metadata": {},
   "outputs": [],
   "source": [
    "# 메모리뷰의 슬라이싱 및 수정\n",
    "subview = mv[7:]  # 7번 인덱스부터 끝까지의 메모리뷰\n",
    "#subview[0] = 87  # 문자 'W'를 'W'의 ASCII 코드인 87로 변경불가"
   ]
  },
  {
   "cell_type": "code",
   "execution_count": null,
   "id": "042f2b9c",
   "metadata": {},
   "outputs": [],
   "source": []
  },
  {
   "cell_type": "code",
   "execution_count": 3,
   "id": "4f291522",
   "metadata": {},
   "outputs": [
    {
     "name": "stdout",
     "output_type": "stream",
     "text": [
      "b'Hello, World!'\n"
     ]
    }
   ],
   "source": [
    "# 변경된 데이터 출력\n",
    "print(mv.tobytes())  # 출력: b'Hello, World!'\n"
   ]
  },
  {
   "cell_type": "code",
   "execution_count": 4,
   "id": "669a9d0a",
   "metadata": {},
   "outputs": [
    {
     "name": "stdout",
     "output_type": "stream",
     "text": [
      "bytearray(b'Wello, World!')\n"
     ]
    }
   ],
   "source": [
    "# 메모리뷰를 사용한 바이트열 복사\n",
    "new_data = bytearray(mv)  # 메모리뷰를 바이트 배열로 복사\n",
    "new_data[0] = 87  # 문자 'H'의 ASCII 코드인 72로 변경\n",
    "\n",
    "# 변경된 데이터 출력\n",
    "print(new_data)  # 출력: bytearray(b'Hello, World!')"
   ]
  },
  {
   "cell_type": "markdown",
   "id": "9b165c41",
   "metadata": {},
   "source": [
    "## 2-2 문자열을 뷰와 버퍼로 처리"
   ]
  },
  {
   "cell_type": "code",
   "execution_count": 7,
   "id": "9e56af03",
   "metadata": {},
   "outputs": [
    {
     "name": "stdout",
     "output_type": "stream",
     "text": [
      "World!\n"
     ]
    }
   ],
   "source": [
    "# 문자열을 바이트 배열로 변환\n",
    "text = \"Hello, World!\"\n",
    "byte_array = bytearray(text, 'utf-8')\n",
    "\n",
    "# 바이트 배열로부터 슬라이싱 및 수정\n",
    "sub_array = byte_array[7:]  # 'World!'를 추출\n",
    "sub_array[0] = 87  # 문자 'W'를 'W'의 ASCII 코드로 변경\n",
    "\n",
    "# 변경된 바이트 배열을 문자열로 디코딩하여 출력\n",
    "modified_text = sub_array.decode('utf-8')\n",
    "print(modified_text)  # 출력: \"World!\"\n"
   ]
  },
  {
   "cell_type": "code",
   "execution_count": 8,
   "id": "6daa9925",
   "metadata": {},
   "outputs": [
    {
     "name": "stdout",
     "output_type": "stream",
     "text": [
      "Hello, World!\n"
     ]
    }
   ],
   "source": [
    "# 문자열을 바이트 배열로 변환\n",
    "text = \"Hello, World!\"\n",
    "byte_array = bytearray(text, 'utf-8')\n",
    "\n",
    "# 메모리뷰로 변환\n",
    "byte_array_view = memoryview(byte_array)\n",
    "\n",
    "# 메모리뷰로부터 슬라이싱 및 수정\n",
    "sub_view = byte_array_view[7:]  # 'World!'를 추출\n",
    "sub_view[0] = 87  # 문자 'W'를 'W'의 ASCII 코드로 변경\n",
    "\n",
    "# 변경된 메모리뷰를 바이트 배열로 디코딩하여 출력\n",
    "modified_byte_array = byte_array_view.tobytes()\n",
    "modified_text = modified_byte_array.decode('utf-8')\n",
    "print(modified_text)  # 출력: \"World!\"\n"
   ]
  },
  {
   "cell_type": "code",
   "execution_count": null,
   "id": "b60d3888",
   "metadata": {},
   "outputs": [],
   "source": []
  },
  {
   "cell_type": "code",
   "execution_count": null,
   "id": "9d0cb19d",
   "metadata": {},
   "outputs": [],
   "source": []
  },
  {
   "cell_type": "markdown",
   "id": "d0b3e748",
   "metadata": {},
   "source": [
    "## 2. 복사와 복제 \n",
    "\n",
    "- 파이썬에서 \"복사\"와 \"복제(clone)\"는 비슷한 의미처럼 보일 수 있지만, 실제로는 객체를 다루는 방식에 따라 차이가 있습니다. 주요 차이점은 원본 객체와 새로운 객체 사이의 관계에 있습니다.\n",
    "\n",
    "### 복사 (Copy):\n",
    "\n",
    "- 복사는 원본 객체의 내용을 그대로 가져와서 새로운 객체를 생성하는 것을 의미합니다.\n",
    "- copy 모듈의 copy() 함수나 copy.deepcopy() 함수를 사용하여 복사할 수 있습니다.\n",
    "- 복사된 객체와 원본 객체는 서로 다른 객체이며, 서로 독립적으로 변경할 수 있습니다.\n",
    "\n",
    "### 복제 (Clone):\n",
    "\n",
    "- 복제는 원본 객체와 완전히 동일한 객체를 생성하는 것을 의미합니다.\n",
    "- 원본 객체를 생성자 등을 이용하여 새로운 객체로 복제하는 것을 말합니다.\n",
    "- 복제된 객체와 원본 객체는 동일한 객체이므로 한쪽을 변경하면 다른 쪽도 변경됩니다. "
   ]
  },
  {
   "cell_type": "markdown",
   "id": "5214e427",
   "metadata": {},
   "source": [
    "## 2-1 복사 "
   ]
  },
  {
   "cell_type": "code",
   "execution_count": 6,
   "id": "fe8145a7",
   "metadata": {},
   "outputs": [
    {
     "name": "stdout",
     "output_type": "stream",
     "text": [
      "[1, 2, 3]\n",
      "[1, 2, 3, 4]\n",
      "[1, 2, 3]\n",
      "[1, 2, 3, 5]\n"
     ]
    }
   ],
   "source": [
    "import copy\n",
    "\n",
    "# 복사 (Copy)\n",
    "original_list = [1, 2, 3]\n",
    "shallow_copied_list = original_list.copy()  # 얕은 복사\n",
    "deep_copied_list = copy.deepcopy(original_list)  # 깊은 복사\n",
    "\n",
    "shallow_copied_list.append(4)\n",
    "print(original_list)  # 출력: [1, 2, 3]\n",
    "print(shallow_copied_list)  # 출력: [1, 2, 3, 4]\n",
    "\n",
    "deep_copied_list.append(5)\n",
    "print(original_list)  # 출력: [1, 2, 3]\n",
    "print(deep_copied_list)  # 출력: [1, 2, 3, 5]\n"
   ]
  },
  {
   "cell_type": "markdown",
   "id": "1dca481c",
   "metadata": {},
   "source": [
    "## 2-2 복제 "
   ]
  },
  {
   "cell_type": "code",
   "execution_count": 5,
   "id": "4ba63e07",
   "metadata": {},
   "outputs": [
    {
     "name": "stdout",
     "output_type": "stream",
     "text": [
      "20\n",
      "10\n"
     ]
    }
   ],
   "source": [
    "# 복제 (Clone)\n",
    "class MyClass:\n",
    "    def __init__(self, value):\n",
    "        self.value = value\n",
    "\n",
    "original_obj = MyClass(10)\n",
    "cloned_obj = MyClass(original_obj.value)  # 복제\n",
    "\n",
    "original_obj.value = 20\n",
    "print(original_obj.value)  # 출력: 20\n",
    "print(cloned_obj.value)  # 출력: 10"
   ]
  },
  {
   "cell_type": "code",
   "execution_count": null,
   "id": "1c757db8",
   "metadata": {},
   "outputs": [],
   "source": []
  }
 ],
 "metadata": {
  "kernelspec": {
   "display_name": "Python 3 (ipykernel)",
   "language": "python",
   "name": "python3"
  },
  "language_info": {
   "codemirror_mode": {
    "name": "ipython",
    "version": 3
   },
   "file_extension": ".py",
   "mimetype": "text/x-python",
   "name": "python",
   "nbconvert_exporter": "python",
   "pygments_lexer": "ipython3",
   "version": "3.11.3"
  }
 },
 "nbformat": 4,
 "nbformat_minor": 5
}
