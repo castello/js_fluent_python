{
 "cells": [
  {
   "cell_type": "code",
   "execution_count": 1,
   "id": "64f98b42",
   "metadata": {},
   "outputs": [
    {
     "data": {
      "text/plain": [
       "'3.11.3'"
      ]
     },
     "execution_count": 1,
     "metadata": {},
     "output_type": "execute_result"
    }
   ],
   "source": [
    "import platform\n",
    "\n",
    "platform.python_version()"
   ]
  },
  {
   "cell_type": "code",
   "execution_count": null,
   "id": "c6a6633b",
   "metadata": {},
   "outputs": [],
   "source": []
  },
  {
   "cell_type": "markdown",
   "id": "0770d147",
   "metadata": {},
   "source": [
    "\n",
    "## 1. 파이썬의 enum은 \n",
    "\n",
    "-열거형(enum)을 정의하기 위한 클래스입니다. \n",
    "- 열거형은 일련의 심볼릭한 이름을 정의하고, 해당 이름에 대한 값을 지정하는 방식으로 데이터를 나타내는 방법을 제공합니다. \n",
    "- enum을 사용하면 코드의 가독성을 높일 수 있고, 특정 값들의 집합을 타입으로서 사용하는 것이 가능해집니다."
   ]
  },
  {
   "cell_type": "markdown",
   "id": "92fb35e8",
   "metadata": {},
   "source": [
    "## 1-1 이넘 내부 구성 \n",
    "\n",
    "### class enum.Enum\n",
    "- 열거형 상수를 만들기 위한 베이스 클래스. 대체 구성 문법은 함수형 API 섹션을 참조하십시오.\n",
    "\n",
    "### class enum.IntEnum\n",
    "- int의 서브 클래스이기도 한 열거형 상수를 만들기 위한 베이스 클래스.\n",
    "\n",
    "### class enum.IntFlag\n",
    "- IntFlag 멤버십을 잃지 않고 비트 연산자를 사용하여 결합할 수 있는 열거형 상수를 만들기 위한 베이스 클래스. IntFlag 멤버도 int의 서브 클래스입니다.\n",
    "\n",
    "### class enum.Flag\n",
    "- Flag 멤버십을 잃지 않고 비트 연산을 사용하여 결합할 수 있는 열거형 상수를 만들기 위한 베이스 클래스.\n",
    "\n",
    "### enum.unique()\n",
    "- 한 값에 하나의 이름 만 연결되도록 하는 Enum 클래스 데코레이터.\n",
    "\n",
    "### class enum.auto\n",
    "- 인스턴스는 Enum 멤버에 적절한 값으로 바뀝니다. 기본적으로, 초깃값은 1부터 시작합니다."
   ]
  },
  {
   "cell_type": "markdown",
   "id": "82665775",
   "metadata": {},
   "source": [
    "## 이넘 모듈을 확인"
   ]
  },
  {
   "cell_type": "code",
   "execution_count": 1,
   "id": "f9ccd21b",
   "metadata": {},
   "outputs": [],
   "source": [
    "import enum"
   ]
  },
  {
   "cell_type": "code",
   "execution_count": 21,
   "id": "5420c6e8",
   "metadata": {},
   "outputs": [
    {
     "name": "stdout",
     "output_type": "stream",
     "text": [
      "CONFORM, CONTINUOUS, DynamicClassAttribute, EJECT, Enum, EnumCheck, EnumMeta, EnumType, Flag, FlagBoundary, IntEnum, IntFlag, KEEP, MappingProxyType, NAMED_FLAGS, ReprEnum, STRICT, StrEnum, UNIQUE, _EnumDict, __all__, __builtins__, __cached__, __doc__, __file__, __loader__, __name__, __package__, __spec__, _auto_null, _dedent, _high_bit, _is_descriptor, _is_dunder, _is_internal_class, _is_private, _is_single_bit, _is_sunder, _iter_bits_lsb, _make_class_unpicklable, _old_convert_, _or_, _power_of_two, _proto_member, _reduce_ex_by_global_name, _simple_enum, _stdlib_enums, _test_simple_enum, auto, bin, bltns, global_enum, global_enum_repr, global_flag_repr, global_str, member, nonmember, property, reduce, show_flag_values, sys, unique, verify, "
     ]
    }
   ],
   "source": [
    "for i in dir(enum) :\n",
    "    print(i, end=\", \")"
   ]
  },
  {
   "cell_type": "code",
   "execution_count": null,
   "id": "ea23f9ff",
   "metadata": {},
   "outputs": [],
   "source": []
  },
  {
   "cell_type": "markdown",
   "id": "18662d17",
   "metadata": {},
   "source": [
    "## 1-2. 이넘을 정의 "
   ]
  },
  {
   "cell_type": "code",
   "execution_count": null,
   "id": "a714a16a",
   "metadata": {},
   "outputs": [],
   "source": []
  },
  {
   "cell_type": "markdown",
   "id": "ac39b13d",
   "metadata": {},
   "source": [
    "##  1-2-1 수동 값으로 이넘을 정의하기 \n",
    "\n",
    "- 이넘의 객체에 실제 값을 지정할 수 있다."
   ]
  },
  {
   "cell_type": "code",
   "execution_count": 3,
   "id": "f5b0b22e",
   "metadata": {},
   "outputs": [],
   "source": [
    "from enum import Enum \n",
    "\n",
    "class Color1(Enum):\n",
    "    RED = 3\n",
    "    GREEN = 6\n",
    "    BLUE = 8"
   ]
  },
  {
   "cell_type": "markdown",
   "id": "7c500d69",
   "metadata": {},
   "source": [
    "### 내부의 이넘 객체와 값을 확인하기 "
   ]
  },
  {
   "cell_type": "code",
   "execution_count": 4,
   "id": "db955f53",
   "metadata": {},
   "outputs": [
    {
     "data": {
      "text/plain": [
       "<enum 'Color1'>"
      ]
     },
     "execution_count": 4,
     "metadata": {},
     "output_type": "execute_result"
    }
   ],
   "source": [
    "Color1"
   ]
  },
  {
   "cell_type": "markdown",
   "id": "5889d9d1",
   "metadata": {},
   "source": [
    "### 이넘값은 이넘 클래스의 인스턴스"
   ]
  },
  {
   "cell_type": "code",
   "execution_count": 5,
   "id": "a4850337",
   "metadata": {},
   "outputs": [
    {
     "data": {
      "text/plain": [
       "True"
      ]
     },
     "execution_count": 5,
     "metadata": {},
     "output_type": "execute_result"
    }
   ],
   "source": [
    "isinstance(Color1.RED, Color1)"
   ]
  },
  {
   "cell_type": "markdown",
   "id": "8a0454cf",
   "metadata": {},
   "source": [
    "### 전체 이넘값을 조회"
   ]
  },
  {
   "cell_type": "code",
   "execution_count": 28,
   "id": "1a8a129d",
   "metadata": {},
   "outputs": [
    {
     "data": {
      "text/plain": [
       "[<Color1.RED: 3>, <Color1.GREEN: 6>, <Color1.BLUE: 8>]"
      ]
     },
     "execution_count": 28,
     "metadata": {},
     "output_type": "execute_result"
    }
   ],
   "source": [
    "list(Color1)"
   ]
  },
  {
   "cell_type": "markdown",
   "id": "54c5d022",
   "metadata": {},
   "source": [
    "## 1-2-2 자동값으로 이넘을 정의하기\n",
    "\n",
    "- Enum을 상속을 받아서 클래스로 정의\n",
    "- 이넘 정의된 내부의 상수는 하나의 객체인다 "
   ]
  },
  {
   "cell_type": "code",
   "execution_count": 3,
   "id": "94604d2f",
   "metadata": {},
   "outputs": [],
   "source": [
    "from enum import Enum, auto\n",
    "\n",
    "class Color(Enum):\n",
    "    RED = auto()\n",
    "    GREEN = auto()\n",
    "    BLUE = auto()"
   ]
  },
  {
   "cell_type": "markdown",
   "id": "64214750",
   "metadata": {},
   "source": [
    "### 이넘의 속한 자료형 및 인스턴스 관계 확인하기 "
   ]
  },
  {
   "cell_type": "code",
   "execution_count": 6,
   "id": "892d590c",
   "metadata": {},
   "outputs": [
    {
     "data": {
      "text/plain": [
       "<enum 'Color'>"
      ]
     },
     "execution_count": 6,
     "metadata": {},
     "output_type": "execute_result"
    }
   ],
   "source": [
    "type(Color.RED)"
   ]
  },
  {
   "cell_type": "code",
   "execution_count": 7,
   "id": "0d743373",
   "metadata": {},
   "outputs": [
    {
     "data": {
      "text/plain": [
       "True"
      ]
     },
     "execution_count": 7,
     "metadata": {},
     "output_type": "execute_result"
    }
   ],
   "source": [
    "isinstance(Color.GREEN, Color)"
   ]
  },
  {
   "cell_type": "code",
   "execution_count": null,
   "id": "7dcdc47f",
   "metadata": {},
   "outputs": [],
   "source": []
  },
  {
   "cell_type": "code",
   "execution_count": 32,
   "id": "7a0d5c9a",
   "metadata": {},
   "outputs": [
    {
     "data": {
      "text/plain": [
       "[<Color.RED: 1>, <Color.GREEN: 2>, <Color.BLUE: 3>]"
      ]
     },
     "execution_count": 32,
     "metadata": {},
     "output_type": "execute_result"
    }
   ],
   "source": [
    "list(Color)"
   ]
  },
  {
   "cell_type": "markdown",
   "id": "00368a98",
   "metadata": {},
   "source": [
    "## 1-3 이넘을 활용하기 \n",
    "\n",
    "- 이넘값을 비교해서 처리하기 \n",
    "- 이넘값이 순서 처리 "
   ]
  },
  {
   "cell_type": "markdown",
   "id": "13273363",
   "metadata": {},
   "source": [
    "## 1-3-1 유일성이나 동등 비교는 가능  "
   ]
  },
  {
   "cell_type": "code",
   "execution_count": 30,
   "id": "37279a01",
   "metadata": {},
   "outputs": [
    {
     "name": "stdout",
     "output_type": "stream",
     "text": [
      "True\n",
      "False\n",
      "True\n"
     ]
    }
   ],
   "source": [
    "print(Color.RED is Color.RED)\n",
    "print(Color.RED is Color.BLUE)\n",
    "print(Color.RED is not Color.BLUE)"
   ]
  },
  {
   "cell_type": "code",
   "execution_count": 37,
   "id": "142aac94",
   "metadata": {},
   "outputs": [
    {
     "name": "stdout",
     "output_type": "stream",
     "text": [
      "False\n",
      "True\n",
      "True\n"
     ]
    }
   ],
   "source": [
    "print(Color.BLUE == Color.RED)\n",
    "print(Color.BLUE != Color.RED)\n",
    "print(Color.BLUE == Color.BLUE)\n"
   ]
  },
  {
   "cell_type": "markdown",
   "id": "67e48962",
   "metadata": {},
   "source": [
    "## 1-3-2 조건문으로 처리하기 "
   ]
  },
  {
   "cell_type": "code",
   "execution_count": 4,
   "id": "877ca297",
   "metadata": {},
   "outputs": [
    {
     "name": "stdout",
     "output_type": "stream",
     "text": [
      "Selected color is green\n"
     ]
    }
   ],
   "source": [
    "selected_color = Color.GREEN\n",
    "\n",
    "if selected_color == Color.RED:\n",
    "    print(\"Selected color is red\")\n",
    "elif selected_color == Color.GREEN:\n",
    "    print(\"Selected color is green\")\n",
    "elif selected_color == Color.BLUE:\n",
    "    print(\"Selected color is blue\")\n"
   ]
  },
  {
   "cell_type": "markdown",
   "id": "1c1285a9",
   "metadata": {},
   "source": [
    "## 1-3-3 매치에서 처리하기 "
   ]
  },
  {
   "cell_type": "code",
   "execution_count": 5,
   "id": "989809cd",
   "metadata": {},
   "outputs": [
    {
     "name": "stdout",
     "output_type": "stream",
     "text": [
      "Selected color is green\n"
     ]
    }
   ],
   "source": [
    "selected_color = Color.GREEN\n",
    "\n",
    "match selected_color:\n",
    "    case Color.RED:\n",
    "        print(\"Selected color is red\")\n",
    "    case Color.GREEN:\n",
    "        print(\"Selected color is green\")\n",
    "    case Color.BLUE:\n",
    "        print(\"Selected color is blue\")\n"
   ]
  },
  {
   "cell_type": "code",
   "execution_count": null,
   "id": "fe4b30a8",
   "metadata": {},
   "outputs": [],
   "source": []
  },
  {
   "cell_type": "markdown",
   "id": "2d282f00",
   "metadata": {},
   "source": [
    "## 1-3-4 열거형 값 사이의 순서 비교\n",
    "\n"
   ]
  },
  {
   "cell_type": "markdown",
   "id": "cace3427",
   "metadata": {},
   "source": [
    "### 열거형은 기본  정수값이 아닙니다"
   ]
  },
  {
   "cell_type": "code",
   "execution_count": 36,
   "id": "fc0ec725",
   "metadata": {},
   "outputs": [
    {
     "name": "stdout",
     "output_type": "stream",
     "text": [
      "'<' not supported between instances of 'Color' and 'Color'\n"
     ]
    }
   ],
   "source": [
    "try :\n",
    "    print(Color.RED < Color.BLUE)\n",
    "except Exception as e :\n",
    "    print(e)"
   ]
  },
  {
   "cell_type": "code",
   "execution_count": null,
   "id": "38bad00e",
   "metadata": {},
   "outputs": [],
   "source": []
  },
  {
   "cell_type": "markdown",
   "id": "06ffcbcc",
   "metadata": {},
   "source": [
    "### 순서를 비교할 때는 IntEnum으로 처리"
   ]
  },
  {
   "cell_type": "code",
   "execution_count": 41,
   "id": "2c9fa1ca",
   "metadata": {},
   "outputs": [],
   "source": [
    "from enum import IntEnum"
   ]
  },
  {
   "cell_type": "code",
   "execution_count": 42,
   "id": "24c20ae9",
   "metadata": {},
   "outputs": [],
   "source": [
    "class Request(IntEnum):\n",
    "    POST = 1\n",
    "    GET = 2"
   ]
  },
  {
   "cell_type": "code",
   "execution_count": 44,
   "id": "0735115a",
   "metadata": {},
   "outputs": [
    {
     "data": {
      "text/plain": [
       "[<Request.POST: 1>, <Request.GET: 2>]"
      ]
     },
     "execution_count": 44,
     "metadata": {},
     "output_type": "execute_result"
    }
   ],
   "source": [
    "list(Request)"
   ]
  },
  {
   "cell_type": "code",
   "execution_count": 43,
   "id": "ffd7ec2a",
   "metadata": {},
   "outputs": [
    {
     "name": "stdout",
     "output_type": "stream",
     "text": [
      "True\n"
     ]
    }
   ],
   "source": [
    "print(Request.POST < Request.GET)"
   ]
  },
  {
   "cell_type": "code",
   "execution_count": null,
   "id": "0e0e969a",
   "metadata": {},
   "outputs": [],
   "source": []
  },
  {
   "cell_type": "markdown",
   "id": "84384458",
   "metadata": {},
   "source": [
    "## 1-4 이넘의 값이나 이름으로 조회\n",
    "\n",
    "- 검색으로 조회하기"
   ]
  },
  {
   "cell_type": "markdown",
   "id": "17af3b76",
   "metadata": {},
   "source": [
    "### 이넘 정의된 값을 출력하기 "
   ]
  },
  {
   "cell_type": "code",
   "execution_count": 10,
   "id": "d4c49f7e",
   "metadata": {},
   "outputs": [],
   "source": [
    "class Shake(Enum):\n",
    "    VANILLA = 7    \n",
    "    CHOCOLATE = 4\n",
    "    COOKIES = 9\n",
    "    MINT = 3"
   ]
  },
  {
   "cell_type": "code",
   "execution_count": 11,
   "id": "deba1ce4",
   "metadata": {},
   "outputs": [
    {
     "name": "stdout",
     "output_type": "stream",
     "text": [
      "Shake.VANILLA\n",
      "Shake.CHOCOLATE\n",
      "Shake.COOKIES\n",
      "Shake.MINT\n"
     ]
    }
   ],
   "source": [
    "for shake in Shake:\n",
    "    print(shake)"
   ]
  },
  {
   "cell_type": "markdown",
   "id": "bd89472a",
   "metadata": {},
   "source": [
    "### 내부의 속성을 사용해서 값과 이름 출력하기 "
   ]
  },
  {
   "cell_type": "code",
   "execution_count": 12,
   "id": "64e92881",
   "metadata": {},
   "outputs": [
    {
     "name": "stdout",
     "output_type": "stream",
     "text": [
      "7\n",
      "4\n",
      "9\n",
      "3\n"
     ]
    }
   ],
   "source": [
    "for shake in Shake:\n",
    "    print(shake.value)"
   ]
  },
  {
   "cell_type": "code",
   "execution_count": 13,
   "id": "f167008e",
   "metadata": {},
   "outputs": [
    {
     "name": "stdout",
     "output_type": "stream",
     "text": [
      "VANILLA\n",
      "CHOCOLATE\n",
      "COOKIES\n",
      "MINT\n"
     ]
    }
   ],
   "source": [
    "for shake in Shake:\n",
    "    print(shake.name)"
   ]
  },
  {
   "cell_type": "code",
   "execution_count": 19,
   "id": "ee56c6ca",
   "metadata": {},
   "outputs": [
    {
     "name": "stdout",
     "output_type": "stream",
     "text": [
      "1 is not a valid Shake\n"
     ]
    }
   ],
   "source": [
    "try :\n",
    "    Shake(1)\n",
    "except Exception as e :\n",
    "    print(e)"
   ]
  },
  {
   "cell_type": "markdown",
   "id": "27f9f07b",
   "metadata": {},
   "source": [
    "### 값으로 조회"
   ]
  },
  {
   "cell_type": "code",
   "execution_count": 18,
   "id": "33800523",
   "metadata": {},
   "outputs": [
    {
     "data": {
      "text/plain": [
       "<Shake.VANILLA: 7>"
      ]
     },
     "execution_count": 18,
     "metadata": {},
     "output_type": "execute_result"
    }
   ],
   "source": [
    "Shake(7)"
   ]
  },
  {
   "cell_type": "markdown",
   "id": "5c501627",
   "metadata": {},
   "source": [
    "### 이름으로 조회"
   ]
  },
  {
   "cell_type": "code",
   "execution_count": 20,
   "id": "d3abacb3",
   "metadata": {},
   "outputs": [
    {
     "data": {
      "text/plain": [
       "<Shake.VANILLA: 7>"
      ]
     },
     "execution_count": 20,
     "metadata": {},
     "output_type": "execute_result"
    }
   ],
   "source": [
    "Shake['VANILLA']"
   ]
  },
  {
   "cell_type": "code",
   "execution_count": null,
   "id": "a710bd57",
   "metadata": {},
   "outputs": [],
   "source": []
  },
  {
   "cell_type": "markdown",
   "id": "bbf35308",
   "metadata": {},
   "source": [
    "## 1-5 이넘객체의 유일성 확인하기 \n",
    "- 유앨한 객체이므로 키로 사용가능 "
   ]
  },
  {
   "cell_type": "markdown",
   "id": "71fbe72c",
   "metadata": {},
   "source": [
    "### 이넘이 객체는 두번 정의할 수 없다."
   ]
  },
  {
   "cell_type": "code",
   "execution_count": 23,
   "id": "c51eb701",
   "metadata": {},
   "outputs": [
    {
     "name": "stdout",
     "output_type": "stream",
     "text": [
      "'SQUARE' already defined as 2\n"
     ]
    }
   ],
   "source": [
    "try : \n",
    "    \n",
    "    class Shape(Enum):\n",
    "        SQUARE = 2\n",
    "        SQUARE = 3\n",
    "except Exception as e :\n",
    "    print(e)"
   ]
  },
  {
   "cell_type": "markdown",
   "id": "f192c378",
   "metadata": {},
   "source": [
    "### 이넘 객체의 값은 중복이 가능하다 "
   ]
  },
  {
   "cell_type": "code",
   "execution_count": 24,
   "id": "ea5e3d87",
   "metadata": {},
   "outputs": [],
   "source": [
    "class Shape(Enum):\n",
    "    SQUARE = 2\n",
    "    DIAMOND = 1\n",
    "    CIRCLE = 3\n",
    "    ALIAS_FOR_SQUARE = 2"
   ]
  },
  {
   "cell_type": "markdown",
   "id": "8adfc71b",
   "metadata": {},
   "source": [
    "### 이넘 객체와 값이 유니크를 보장하려면 @unique로 데코레이터 처리"
   ]
  },
  {
   "cell_type": "code",
   "execution_count": 26,
   "id": "cd35e7f1",
   "metadata": {},
   "outputs": [
    {
     "name": "stdout",
     "output_type": "stream",
     "text": [
      "duplicate values found in <enum 'Mistake'>: FOUR -> THREE\n"
     ]
    }
   ],
   "source": [
    "from enum import Enum, unique\n",
    "\n",
    "try : \n",
    "    @unique\n",
    "    class Mistake(Enum):\n",
    "        ONE = 1\n",
    "        TWO = 2\n",
    "        THREE = 3\n",
    "        FOUR = 3\n",
    "except Exception as e :\n",
    "    print(e)"
   ]
  },
  {
   "cell_type": "code",
   "execution_count": null,
   "id": "22ad0d7e",
   "metadata": {},
   "outputs": [],
   "source": []
  },
  {
   "cell_type": "markdown",
   "id": "a1a5ab00",
   "metadata": {},
   "source": [
    "### 유일한 값을 가지므로 딕셔너리 키로 사용이 가능"
   ]
  },
  {
   "cell_type": "code",
   "execution_count": 14,
   "id": "d8b2412e",
   "metadata": {},
   "outputs": [],
   "source": [
    "apples = {}\n",
    "apples[Color.RED] = 'red delicious'\n",
    "apples[Color.GREEN] = 'granny smith'\n"
   ]
  },
  {
   "cell_type": "code",
   "execution_count": 15,
   "id": "9ccc42e2",
   "metadata": {},
   "outputs": [
    {
     "data": {
      "text/plain": [
       "{<Color.RED: 1>: 'red delicious', <Color.GREEN: 2>: 'granny smith'}"
      ]
     },
     "execution_count": 15,
     "metadata": {},
     "output_type": "execute_result"
    }
   ],
   "source": [
    "apples"
   ]
  },
  {
   "cell_type": "code",
   "execution_count": 16,
   "id": "b04d2e9e",
   "metadata": {},
   "outputs": [
    {
     "data": {
      "text/plain": [
       "True"
      ]
     },
     "execution_count": 16,
     "metadata": {},
     "output_type": "execute_result"
    }
   ],
   "source": [
    "apples == {Color.RED: 'red delicious', Color.GREEN: 'granny smith'}"
   ]
  },
  {
   "cell_type": "code",
   "execution_count": null,
   "id": "d365c911",
   "metadata": {},
   "outputs": [],
   "source": []
  },
  {
   "cell_type": "code",
   "execution_count": null,
   "id": "c79a70bc",
   "metadata": {},
   "outputs": [],
   "source": []
  }
 ],
 "metadata": {
  "kernelspec": {
   "display_name": "Python 3 (ipykernel)",
   "language": "python",
   "name": "python3"
  },
  "language_info": {
   "codemirror_mode": {
    "name": "ipython",
    "version": 3
   },
   "file_extension": ".py",
   "mimetype": "text/x-python",
   "name": "python",
   "nbconvert_exporter": "python",
   "pygments_lexer": "ipython3",
   "version": "3.11.3"
  }
 },
 "nbformat": 4,
 "nbformat_minor": 5
}
