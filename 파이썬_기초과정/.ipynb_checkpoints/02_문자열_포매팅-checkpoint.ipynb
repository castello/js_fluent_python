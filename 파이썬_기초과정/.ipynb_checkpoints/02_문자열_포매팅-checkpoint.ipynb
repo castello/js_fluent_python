{
 "cells": [
  {
   "cell_type": "code",
   "execution_count": 1,
   "id": "f03153b6",
   "metadata": {},
   "outputs": [
    {
     "data": {
      "text/plain": [
       "'3.11.3'"
      ]
     },
     "execution_count": 1,
     "metadata": {},
     "output_type": "execute_result"
    }
   ],
   "source": [
    "import platform\n",
    "\n",
    "platform.python_version()"
   ]
  },
  {
   "cell_type": "code",
   "execution_count": null,
   "id": "9a94201b",
   "metadata": {},
   "outputs": [],
   "source": []
  },
  {
   "cell_type": "markdown",
   "id": "2fa35de2",
   "metadata": {},
   "source": [
    "## 유니코드(Unicode)와 아스키코드(ASCII)\n",
    "- 컴퓨터에서 문자를 표현하는 데 사용되는 두 가지 주요 문자 인코딩 방식입니다. \n",
    "- 이들은 문자와 숫자 간의 대응 관계를 정의하여 컴퓨터에서 텍스트를 표현하고 처리하는 데 사용됩니다.\n",
    "\n",
    "### 아스키코드(ASCII):\n",
    "\n",
    "- 아스키코드는 American Standard Code for Information Interchange의 약자로, 미국 표준 협회(ANSI)에서 개발한 문자 인코딩 방식입니다.\n",
    "- 아스키코드는 7비트(128개의 값)로 구성되어 있으며, 0부터 127까지의 숫자를 사용하여 알파벳, 숫자, 특수 문자 등을 표현합니다.\n",
    "- 주로 영어 알파벳과 일부 특수 문자를 다루기 위해 사용됩니다. 예시: 문자 'A'는 아스키 코드에서 65로 표현됩니다.\n",
    "\n",
    "### 유니코드(Unicode):\n",
    "\n",
    "- 유니코드는 전세계의 모든 문자를 하나의 통일된 문자 집합으로 표현하기 위한 국제 표준입니다.\n",
    "- 유니코드는 다양한 언어의 문자를 포함하며, 다양한 스크립트(알파벳, 음절 등)와 특수 기호를 지원합니다.\n",
    "- UTF-8, UTF-16, UTF-32 등의 인코딩 방식이 유니코드 문자를 컴퓨터에서 저장하고 전송하기 위해 사용됩니다.\n",
    "- 예시: 문자 'A'는 유니코드에서 U+0041로 표현되며, UTF-8로 인코딩하면 1바이트로 표현됩니다.\n",
    "\n",
    "### 차이점 요약:\n",
    "\n",
    "- 아스키코드는 영어 알파벳과 일부 특수 문자를 표현하기 위한 7비트 문자 인코딩입니다.\n",
    "- 유니코드는 전 세계의 모든 문자를 포함하는 국제 표준 문자 집합으로, 다양한 스크립트와 특수 문자를 지원합니다."
   ]
  },
  {
   "cell_type": "markdown",
   "id": "3b43c61e",
   "metadata": {},
   "source": [
    "## 문자 인코딩 방식\n",
    "- 텍스트 문자를 컴퓨터에서 표현하고 저장하기 위한 규칙과 방법을 정의하는 방식을 말합니다. \n",
    "- 컴퓨터는 숫자로 데이터를 다루기 때문에 문자를 이진수로 변환하여 저장하거나 전송해야 합니다. \n",
    "- 다양한 문자 인코딩 방식이 개발되어 왔으며, 각 방식은 문자와 이진수 간의 대응 관계를 정의합니다."
   ]
  },
  {
   "cell_type": "markdown",
   "id": "b38b5df9",
   "metadata": {},
   "source": [
    "# 1. 유니코드 문자열(str) 과 바이트 문자열(bytes)\n",
    "\n",
    "- 파이썬은 문자가 없고 모든 것을 문자열로 처리\n",
    "- 문자열에는 유니코드와 바이트 문자열(아스키코드)이 있음\n"
   ]
  },
  {
   "cell_type": "code",
   "execution_count": null,
   "id": "88b2dbb1",
   "metadata": {},
   "outputs": [],
   "source": []
  },
  {
   "cell_type": "markdown",
   "id": "ae6eb1e7",
   "metadata": {},
   "source": [
    "## 데이터 타입은 \"변경 불가능한\" (Immutable) 또는 \"변경 가능한\" (Mutable) 유형으로 분류. \n",
    "\n",
    "### 변경 불가능한 (Immutable) 타입:\n",
    "- 변경 불가능한 타입은 한 번 생성되면 그 값을 변경할 수 없는 데이터 타입을 의미합니다. 즉, 해당 객체가 생성된 이후에는 수정할 수 없습니다. \n",
    "\n",
    "- 숫자 (int, float), 문자열 (str), 튜플 (tuple), 불린 (bool), frozenset변경 불가능한 객체를 수정하려면 새로운 객체를 생성해야 합니다. \n",
    "- 예를 들어, 문자열의 경우 문자열을 변경하려면 새로운 문자열을 생성하여 변경하는 것이 아니라, 변경된 부분만 포함하는 새로운 문자열을 생성해야 합니다.\n",
    "\n",
    "### 변경 가능한 (Mutable) 타입:\n",
    "- 변경 가능한 타입은 값을 변경할 수 있는 데이터 타입을 의미합니다. 즉, 객체가 생성된 후에도 내부의 데이터를 수정할 수 있습니다. 변경 가능한 타입의 예시로는 다음이 있습니다:\n",
    "\n",
    "- 리스트 (list), 딕셔너리 (dict)집합 (set), 사용자 정의 클래스 (클래스가 변경 가능하게 설계된 경우) 변경 가능한 객체는 객체 내부의 데이터를 수정하여 원본 객체의 값이 변경될 수 있습니다.\n",
    "\n"
   ]
  },
  {
   "cell_type": "code",
   "execution_count": null,
   "id": "09960be3",
   "metadata": {},
   "outputs": [],
   "source": []
  },
  {
   "cell_type": "markdown",
   "id": "9a91bb4f",
   "metadata": {},
   "source": [
    "## 1-1 문자열 처리\n",
    "\n",
    "- 문자열은 기본이 변경 불가\n",
    "- 그래서 문자열을 변경할 때는 새로운 객체를 생성한다. "
   ]
  },
  {
   "cell_type": "markdown",
   "id": "fc07e69b",
   "metadata": {},
   "source": [
    "## 1-1-1  문자열 리터럴 처리 \n",
    "\n",
    "- 문자열에는 유니코드문자열(str), 바이트 문자열(bytes)\n",
    "- 그외 이스케이프 문자를 일반 문자처럼 처리하는 로우 문자열이 있다 "
   ]
  },
  {
   "cell_type": "markdown",
   "id": "f2b08b29",
   "metadata": {},
   "source": [
    "### 한줄 문자열 처리"
   ]
  },
  {
   "cell_type": "code",
   "execution_count": 2,
   "id": "0be0fda9",
   "metadata": {},
   "outputs": [],
   "source": [
    "s1 = \"문자열1\"               # 문자열리터럴을 변수에 할당 \n",
    "s2 = '문자열'"
   ]
  },
  {
   "cell_type": "markdown",
   "id": "60bf551e",
   "metadata": {},
   "source": [
    "### 문자열의 길이"
   ]
  },
  {
   "cell_type": "code",
   "execution_count": 3,
   "id": "45b3ec46",
   "metadata": {},
   "outputs": [
    {
     "data": {
      "text/plain": [
       "(4, 3)"
      ]
     },
     "execution_count": 3,
     "metadata": {},
     "output_type": "execute_result"
    }
   ],
   "source": [
    "len(s1), len(s2)           # 문자열의 길이를 확인 "
   ]
  },
  {
   "cell_type": "code",
   "execution_count": 4,
   "id": "53892ad3",
   "metadata": {},
   "outputs": [
    {
     "data": {
      "text/plain": [
       "str"
      ]
     },
     "execution_count": 4,
     "metadata": {},
     "output_type": "execute_result"
    }
   ],
   "source": [
    "type(s1)                  # 문자열 타입확인 "
   ]
  },
  {
   "cell_type": "code",
   "execution_count": 5,
   "id": "f064e110",
   "metadata": {},
   "outputs": [
    {
     "data": {
      "text/plain": [
       "str"
      ]
     },
     "execution_count": 5,
     "metadata": {},
     "output_type": "execute_result"
    }
   ],
   "source": [
    "s1.__class__              # 문자열 타입확인 "
   ]
  },
  {
   "cell_type": "markdown",
   "id": "811d7509",
   "metadata": {},
   "source": [
    "### 한줄 바이트 문자열"
   ]
  },
  {
   "cell_type": "code",
   "execution_count": 6,
   "id": "05054f48",
   "metadata": {},
   "outputs": [],
   "source": [
    "b1 = b\"abc\"\n",
    "b2 = b'abc'"
   ]
  },
  {
   "cell_type": "markdown",
   "id": "466b40e4",
   "metadata": {},
   "source": [
    "###  바이트 문자열의 길이"
   ]
  },
  {
   "cell_type": "code",
   "execution_count": 7,
   "id": "e7377397",
   "metadata": {},
   "outputs": [
    {
     "data": {
      "text/plain": [
       "(3, 3)"
      ]
     },
     "execution_count": 7,
     "metadata": {},
     "output_type": "execute_result"
    }
   ],
   "source": [
    "len(b1), len(b2)"
   ]
  },
  {
   "cell_type": "code",
   "execution_count": 8,
   "id": "42bffee8",
   "metadata": {},
   "outputs": [
    {
     "data": {
      "text/plain": [
       "bytes"
      ]
     },
     "execution_count": 8,
     "metadata": {},
     "output_type": "execute_result"
    }
   ],
   "source": [
    "type(b1)"
   ]
  },
  {
   "cell_type": "markdown",
   "id": "c9a2f4da",
   "metadata": {},
   "source": [
    "### 로우 문자열 \n",
    "\n",
    "- 공백문자 등을 그대로 출력할 때 사용"
   ]
  },
  {
   "cell_type": "code",
   "execution_count": 9,
   "id": "3036fade",
   "metadata": {},
   "outputs": [
    {
     "data": {
      "text/plain": [
       "('문자열1 \\\\n', '문자열 \\n')"
      ]
     },
     "execution_count": 9,
     "metadata": {},
     "output_type": "execute_result"
    }
   ],
   "source": [
    "r\"문자열1 \\n\" , '문자열 \\n'             # 문자열 앞에 r(raw) 붙여서 원시문자열 즉 내부의 모든 것(이스케이프 문자, 편집문자)을 문자로 처리 "
   ]
  },
  {
   "cell_type": "markdown",
   "id": "ee2b0976",
   "metadata": {},
   "source": [
    "### 여러줄 문자열 처리"
   ]
  },
  {
   "cell_type": "code",
   "execution_count": 10,
   "id": "74c1a55f",
   "metadata": {},
   "outputs": [],
   "source": [
    "                                   # 여러 줄 문자열 처리 \n",
    "ss1 = \"\"\"                                 \n",
    "라인 1\n",
    "라인 2\n",
    "\"\"\""
   ]
  },
  {
   "cell_type": "code",
   "execution_count": 11,
   "id": "5ad857dd",
   "metadata": {},
   "outputs": [
    {
     "name": "stdout",
     "output_type": "stream",
     "text": [
      "                                 \n",
      "라인 1\n",
      "라인 2\n",
      "\n"
     ]
    }
   ],
   "source": [
    "print(ss1)"
   ]
  },
  {
   "cell_type": "code",
   "execution_count": 12,
   "id": "f4725501",
   "metadata": {},
   "outputs": [],
   "source": [
    "ss2 = '''\n",
    "라인1\n",
    "라인2\n",
    "'''"
   ]
  },
  {
   "cell_type": "code",
   "execution_count": 13,
   "id": "ce6cfec3",
   "metadata": {},
   "outputs": [
    {
     "name": "stdout",
     "output_type": "stream",
     "text": [
      "\n",
      "라인1\n",
      "라인2\n",
      "\n"
     ]
    }
   ],
   "source": [
    "print(ss2)"
   ]
  },
  {
   "cell_type": "markdown",
   "id": "b4417756",
   "metadata": {},
   "source": [
    "## 1-2 문자열 인코드 : 바이트 문자열로 변환"
   ]
  },
  {
   "cell_type": "code",
   "execution_count": 14,
   "id": "39f0274d",
   "metadata": {},
   "outputs": [],
   "source": [
    "s = \"문자열\""
   ]
  },
  {
   "cell_type": "code",
   "execution_count": 15,
   "id": "ddc84760",
   "metadata": {},
   "outputs": [
    {
     "data": {
      "text/plain": [
       "('문자열', str)"
      ]
     },
     "execution_count": 15,
     "metadata": {},
     "output_type": "execute_result"
    }
   ],
   "source": [
    "s, s.__class__"
   ]
  },
  {
   "cell_type": "code",
   "execution_count": 16,
   "id": "6c089b42",
   "metadata": {},
   "outputs": [],
   "source": [
    "b = s.encode()               # 바이트 문자열로 변환 "
   ]
  },
  {
   "cell_type": "code",
   "execution_count": 17,
   "id": "c0848e67",
   "metadata": {},
   "outputs": [
    {
     "data": {
      "text/plain": [
       "(b'\\xeb\\xac\\xb8\\xec\\x9e\\x90\\xec\\x97\\xb4', bytes)"
      ]
     },
     "execution_count": 17,
     "metadata": {},
     "output_type": "execute_result"
    }
   ],
   "source": [
    "b, b.__class__               # 바이트 타입 확인 \n",
    "                             # 바이트 문자열은 문자열 앞에 b(bytes)가 붙음 "
   ]
  },
  {
   "cell_type": "markdown",
   "id": "8bf4c1c5",
   "metadata": {},
   "source": [
    "## 1-3 문자열 디코드 : 유니코드 문자열로 변환"
   ]
  },
  {
   "cell_type": "code",
   "execution_count": 18,
   "id": "f7d8416d",
   "metadata": {},
   "outputs": [],
   "source": [
    "ss = b.decode()"
   ]
  },
  {
   "cell_type": "code",
   "execution_count": 19,
   "id": "f0b77336",
   "metadata": {},
   "outputs": [
    {
     "data": {
      "text/plain": [
       "('문자열', str)"
      ]
     },
     "execution_count": 19,
     "metadata": {},
     "output_type": "execute_result"
    }
   ],
   "source": [
    "ss, ss.__class__"
   ]
  },
  {
   "cell_type": "code",
   "execution_count": null,
   "id": "5f7e3dbe",
   "metadata": {},
   "outputs": [],
   "source": []
  },
  {
   "cell_type": "markdown",
   "id": "39fb74f8",
   "metadata": {},
   "source": [
    "## 1-4 문자열을 클래스로 생성하기 \n",
    "\n",
    "- 클래스를 사용해서 생성하기 "
   ]
  },
  {
   "cell_type": "code",
   "execution_count": 39,
   "id": "e5bd8ebb",
   "metadata": {},
   "outputs": [],
   "source": [
    "# 작은따옴표로 문자열 생성\n",
    "str_example_1 = 'Hello, World!'\n",
    "\n",
    "# 큰따옴표로 문자열 생성\n",
    "str_example_2 = \"Python Programming\"\n",
    "\n",
    "# 여러 줄 문자열 생성\n",
    "multiline_str = \"\"\"\n",
    "This is a multiline\n",
    "string example.\n",
    "\"\"\"\n"
   ]
  },
  {
   "cell_type": "code",
   "execution_count": null,
   "id": "7b5d6fd7",
   "metadata": {},
   "outputs": [],
   "source": []
  },
  {
   "cell_type": "code",
   "execution_count": 40,
   "id": "96986f84",
   "metadata": {},
   "outputs": [
    {
     "name": "stdout",
     "output_type": "stream",
     "text": [
      "Hello, World!\n",
      "Python Programming\n",
      "\n",
      "This is a multiline\n",
      "string example.\n",
      "\n"
     ]
    }
   ],
   "source": [
    "print(str(str_example_1))\n",
    "print(str(str_example_2))\n",
    "print(str(multiline_str))"
   ]
  },
  {
   "cell_type": "code",
   "execution_count": 42,
   "id": "48a7f85b",
   "metadata": {},
   "outputs": [
    {
     "name": "stdout",
     "output_type": "stream",
     "text": [
      "b'Hello, World!'\n",
      "b'Python Programming'\n",
      "b'\\nThis is a multiline\\nstring example.\\n'\n"
     ]
    }
   ],
   "source": [
    "print(bytes(str_example_1.encode()))\n",
    "print(bytes(str_example_2.encode()))\n",
    "print(bytes(multiline_str.encode()))"
   ]
  },
  {
   "cell_type": "code",
   "execution_count": null,
   "id": "8d1346d3",
   "metadata": {},
   "outputs": [],
   "source": []
  },
  {
   "cell_type": "code",
   "execution_count": null,
   "id": "29653d2c",
   "metadata": {},
   "outputs": [],
   "source": []
  },
  {
   "cell_type": "markdown",
   "id": "126b6eb9",
   "metadata": {},
   "source": [
    "## 1-5 파이썬에서 표준 입출력 \n",
    "\n",
    "- input() 함수: 사용자로부터 키보드로 입력을 받는 함수입니다. 사용자가 입력한 값을 문자열로 반환합니다.\n",
    "- print() 함수는 값을 화면에 출력하는 함수입니다. 여러 개의 값을 쉼표로 구분하여 출력할 수 있습니다."
   ]
  },
  {
   "cell_type": "markdown",
   "id": "593a5f39",
   "metadata": {},
   "source": [
    "### 표준입력 처리 "
   ]
  },
  {
   "cell_type": "code",
   "execution_count": 45,
   "id": "ce97719e",
   "metadata": {},
   "outputs": [
    {
     "name": "stdout",
     "output_type": "stream",
     "text": [
      "Enter your name: 가을이\n",
      "Hello, 가을이\n"
     ]
    }
   ],
   "source": [
    "name = input(\"Enter your name: \")\n",
    "print(\"Hello,\", name)"
   ]
  },
  {
   "cell_type": "markdown",
   "id": "9c2cd632",
   "metadata": {},
   "source": [
    "### 표준 출력 처리 "
   ]
  },
  {
   "cell_type": "code",
   "execution_count": 46,
   "id": "894f9c20",
   "metadata": {},
   "outputs": [
    {
     "name": "stdout",
     "output_type": "stream",
     "text": [
      "Age: 25 Height: 175.5\n"
     ]
    }
   ],
   "source": [
    "age = 25\n",
    "height = 175.5\n",
    "print(\"Age:\", age, \"Height:\", height)\n"
   ]
  },
  {
   "cell_type": "markdown",
   "id": "fce0d2a7",
   "metadata": {},
   "source": [
    "### 표준입출력 처리 "
   ]
  },
  {
   "cell_type": "code",
   "execution_count": 47,
   "id": "7b2cf14e",
   "metadata": {},
   "outputs": [
    {
     "name": "stdout",
     "output_type": "stream",
     "text": [
      "Enter your name: 가을이\n",
      "Enter your age: 33\n",
      "Name: 가을이\n",
      "Age: 33\n"
     ]
    }
   ],
   "source": [
    "name = input(\"Enter your name: \")\n",
    "age = input(\"Enter your age: \")\n",
    "\n",
    "print(\"Name:\", name)\n",
    "print(\"Age:\", age)"
   ]
  },
  {
   "cell_type": "code",
   "execution_count": null,
   "id": "c7ce1e75",
   "metadata": {},
   "outputs": [],
   "source": []
  },
  {
   "cell_type": "markdown",
   "id": "af9c6434",
   "metadata": {},
   "source": [
    "# 2. 문자열 메서드 "
   ]
  },
  {
   "cell_type": "code",
   "execution_count": 20,
   "id": "e0386c13",
   "metadata": {},
   "outputs": [
    {
     "name": "stdout",
     "output_type": "stream",
     "text": [
      "capitalize, casefold, center, count, encode, endswith, expandtabs, find, format, format_map, index, isalnum, isalpha, isascii, isdecimal, isdigit, isidentifier, islower, isnumeric, isprintable, isspace, istitle, isupper, join, ljust, lower, lstrip, maketrans, partition, removeprefix, removesuffix, replace, rfind, rindex, rjust, rpartition, rsplit, rstrip, split, splitlines, startswith, strip, swapcase, title, translate, upper, zfill, "
     ]
    }
   ],
   "source": [
    "for i in dir(str) :\n",
    "    print(i, end=\", \") if not i.startswith(\"_\") else _"
   ]
  },
  {
   "cell_type": "markdown",
   "id": "7ba9445f",
   "metadata": {},
   "source": [
    "## 정렬 처리 "
   ]
  },
  {
   "cell_type": "code",
   "execution_count": 21,
   "id": "20119b7d",
   "metadata": {},
   "outputs": [],
   "source": [
    "s11 =  \"가나다라마바사\""
   ]
  },
  {
   "cell_type": "code",
   "execution_count": 22,
   "id": "735bb0b3",
   "metadata": {},
   "outputs": [],
   "source": [
    "ls = [*sorted(s11)]               # 동적 처리를 하므로 리스트에 넣어서 실행시킴 "
   ]
  },
  {
   "cell_type": "code",
   "execution_count": 23,
   "id": "c4b5d956",
   "metadata": {},
   "outputs": [
    {
     "data": {
      "text/plain": [
       "['가', '나', '다', '라', '마', '바', '사']"
      ]
     },
     "execution_count": 23,
     "metadata": {},
     "output_type": "execute_result"
    }
   ],
   "source": [
    "ls"
   ]
  },
  {
   "cell_type": "code",
   "execution_count": 24,
   "id": "4b3ab3b9",
   "metadata": {},
   "outputs": [
    {
     "data": {
      "text/plain": [
       "'가나다라마바사'"
      ]
     },
     "execution_count": 24,
     "metadata": {},
     "output_type": "execute_result"
    }
   ],
   "source": [
    "\"\".join(ls)                       # 리스트를 다시 문자열로 연결"
   ]
  },
  {
   "cell_type": "markdown",
   "id": "48807730",
   "metadata": {},
   "source": [
    "## 역정렬 "
   ]
  },
  {
   "cell_type": "code",
   "execution_count": 25,
   "id": "5035a736",
   "metadata": {},
   "outputs": [
    {
     "data": {
      "text/plain": [
       "['사', '바', '마', '라', '다', '나', '가']"
      ]
     },
     "execution_count": 25,
     "metadata": {},
     "output_type": "execute_result"
    }
   ],
   "source": [
    "[*reversed(s11)]"
   ]
  },
  {
   "cell_type": "markdown",
   "id": "43909739",
   "metadata": {},
   "source": [
    "## 인덱스로 하나의 원소  선택하기"
   ]
  },
  {
   "cell_type": "code",
   "execution_count": 26,
   "id": "edf136ad",
   "metadata": {},
   "outputs": [
    {
     "data": {
      "text/plain": [
       "'가'"
      ]
     },
     "execution_count": 26,
     "metadata": {},
     "output_type": "execute_result"
    }
   ],
   "source": [
    "s11[0]"
   ]
  },
  {
   "cell_type": "code",
   "execution_count": 27,
   "id": "f9a1c2c5",
   "metadata": {},
   "outputs": [
    {
     "data": {
      "text/plain": [
       "7"
      ]
     },
     "execution_count": 27,
     "metadata": {},
     "output_type": "execute_result"
    }
   ],
   "source": [
    "len(s11)"
   ]
  },
  {
   "cell_type": "code",
   "execution_count": 28,
   "id": "6514771e",
   "metadata": {},
   "outputs": [
    {
     "name": "stdout",
     "output_type": "stream",
     "text": [
      "string index out of range\n"
     ]
    }
   ],
   "source": [
    "try :\n",
    "    s11[7]                           # 문자열 인덱스보다 큰 수를 넣으면 예외 발생함 \n",
    "except Exception as e :\n",
    "    print(e)"
   ]
  },
  {
   "cell_type": "code",
   "execution_count": null,
   "id": "63a9b4dd",
   "metadata": {},
   "outputs": [],
   "source": []
  },
  {
   "cell_type": "markdown",
   "id": "8bb3c6a5",
   "metadata": {},
   "source": [
    "## 슬라이스로 부분 문자열 처리하기"
   ]
  },
  {
   "cell_type": "code",
   "execution_count": 29,
   "id": "9b6141ce",
   "metadata": {},
   "outputs": [],
   "source": [
    "sl = slice(1,4)             # 특정 범위를 지정 "
   ]
  },
  {
   "cell_type": "code",
   "execution_count": 30,
   "id": "0f0ba830",
   "metadata": {},
   "outputs": [
    {
     "data": {
      "text/plain": [
       "'나다라'"
      ]
     },
     "execution_count": 30,
     "metadata": {},
     "output_type": "execute_result"
    }
   ],
   "source": [
    "s11[sl]                     # 특정 범위를 선택하면 특정 영역의 배열을 가져옴 "
   ]
  },
  {
   "cell_type": "code",
   "execution_count": 31,
   "id": "fe601486",
   "metadata": {},
   "outputs": [
    {
     "data": {
      "text/plain": [
       "'나다라'"
      ]
     },
     "execution_count": 31,
     "metadata": {},
     "output_type": "execute_result"
    }
   ],
   "source": [
    "s11[1:4]"
   ]
  },
  {
   "cell_type": "code",
   "execution_count": 32,
   "id": "c61fb4ca",
   "metadata": {},
   "outputs": [
    {
     "data": {
      "text/plain": [
       "'나다라마바사'"
      ]
     },
     "execution_count": 32,
     "metadata": {},
     "output_type": "execute_result"
    }
   ],
   "source": [
    "s11[1:100]                 # 슬라이스는 범위가 인덱스를 넘어도 예외없이 현재 모든 것을 조회"
   ]
  },
  {
   "cell_type": "markdown",
   "id": "65c44620",
   "metadata": {},
   "source": [
    "# 3. 포매팅 처리 \n",
    "\n",
    "- 출력을 위해 문자열 포매팅 처리 방식 확인 "
   ]
  },
  {
   "cell_type": "code",
   "execution_count": null,
   "id": "a5c2f051",
   "metadata": {},
   "outputs": [],
   "source": []
  },
  {
   "cell_type": "markdown",
   "id": "d7d56c38",
   "metadata": {},
   "source": [
    "## 포매팅(Formatting)\n",
    "\n",
    "- 문자열을 원하는 형식에 맞게 조작하거나 삽입하는 과정을 말합니다. \n",
    "- 프로그래밍에서 문자열 포매팅은 출력 메시지를 만들거나 변수 값을 문자열로 변환할 때 자주 사용됩니다. \n",
    "- 파이썬에서는 문자열 포매팅을 위한 여러 가지 방법이 제공됩니다."
   ]
  },
  {
   "cell_type": "code",
   "execution_count": null,
   "id": "e9436d5f",
   "metadata": {},
   "outputs": [],
   "source": []
  },
  {
   "cell_type": "markdown",
   "id": "0cdeee8b",
   "metadata": {},
   "source": [
    "## 3-1 포매팅 처리 비교"
   ]
  },
  {
   "cell_type": "markdown",
   "id": "6888a1c5",
   "metadata": {},
   "source": [
    "## 3-1-1 문자열 포맷 메서드 (str.format()):\n",
    "\n",
    "- 중괄호 {} 안에 순서나 이름을 지정하여 값을 삽입하는 방식입니다."
   ]
  },
  {
   "cell_type": "code",
   "execution_count": 33,
   "id": "a17f6cd1",
   "metadata": {},
   "outputs": [
    {
     "name": "stdout",
     "output_type": "stream",
     "text": [
      "My name is Bob and I am 25 years old.\n"
     ]
    }
   ],
   "source": [
    "name = \"Bob\"\n",
    "age = 25\n",
    "message = \"My name is {} and I am {} years old.\".format(name, age)\n",
    "print(message)"
   ]
  },
  {
   "cell_type": "markdown",
   "id": "abc3b39e",
   "metadata": {},
   "source": [
    "## 3-1-2 % 연산자 포매팅:\n",
    "- C 스타일의 포맷팅 방식으로, % 연산자를 사용하여 값을 삽입합니다."
   ]
  },
  {
   "cell_type": "code",
   "execution_count": 34,
   "id": "412c7337",
   "metadata": {},
   "outputs": [
    {
     "name": "stdout",
     "output_type": "stream",
     "text": [
      "My name is Charlie and I am 40 years old.\n"
     ]
    }
   ],
   "source": [
    "name = \"Charlie\"\n",
    "age = 40\n",
    "message = \"My name is %s and I am %d years old.\" % (name, age)\n",
    "print(message)"
   ]
  },
  {
   "cell_type": "markdown",
   "id": "bf54c941",
   "metadata": {},
   "source": [
    "## 3-1-3 f-문자열 (f-strings):\n",
    "- 파이썬 3.6 이상에서 도입된 기능으로, 문자열 안에서 중괄호 {} 안에 변수나 표현식을 넣을 수 있습니다. \n",
    "- f 또는 F 접두사를 사용하여 문자열을 정의하고 중괄호 내부에 변수나 표현식을 넣으면 해당 값으로 치환됩니다."
   ]
  },
  {
   "cell_type": "code",
   "execution_count": 35,
   "id": "522a1667",
   "metadata": {},
   "outputs": [
    {
     "name": "stdout",
     "output_type": "stream",
     "text": [
      "My name is Alice and I am 30 years old.\n"
     ]
    }
   ],
   "source": [
    "name = \"Alice\"\n",
    "age = 30\n",
    "message = f\"My name is {name} and I am {age} years old.\"\n",
    "print(message)"
   ]
  },
  {
   "cell_type": "markdown",
   "id": "2c0dbd95",
   "metadata": {},
   "source": [
    "### f-string을 사용한 딕셔너리 값 삽입:\n",
    "- f-문자열 내부에서 중괄호 안에 딕셔너리 키를 사용하여 값 삽입도 가능합니다."
   ]
  },
  {
   "cell_type": "code",
   "execution_count": 36,
   "id": "3be191e5",
   "metadata": {},
   "outputs": [
    {
     "name": "stdout",
     "output_type": "stream",
     "text": [
      "My name is David and I am 28 years old.\n"
     ]
    }
   ],
   "source": [
    "person = {\"name\": \"David\", \"age\": 28}\n",
    "message = f\"My name is {person['name']} and I am {person['age']} years old.\"\n",
    "print(message)"
   ]
  },
  {
   "cell_type": "code",
   "execution_count": null,
   "id": "88e3945b",
   "metadata": {},
   "outputs": [],
   "source": []
  },
  {
   "cell_type": "markdown",
   "id": "4f62c271",
   "metadata": {},
   "source": [
    "### f 문자열에 직접 표현식 처리 "
   ]
  },
  {
   "cell_type": "code",
   "execution_count": 37,
   "id": "bb04e4e7",
   "metadata": {},
   "outputs": [
    {
     "name": "stdout",
     "output_type": "stream",
     "text": [
      "There are total of 36 apples\n"
     ]
    }
   ],
   "source": [
    "bags = 3\n",
    "apples_in_bag = 12\n",
    "\n",
    "print(f'There are total of {bags * apples_in_bag} apples')"
   ]
  },
  {
   "cell_type": "markdown",
   "id": "d8993218",
   "metadata": {},
   "source": [
    "## 3-1-4 문자열 포맷코드 사용하기"
   ]
  },
  {
   "cell_type": "markdown",
   "id": "70ccb291",
   "metadata": {},
   "source": [
    "## 포맷코드 종류 \n",
    "- s: 문자열 포맷 코드, 문자열 값을 삽입할 때 사용됩니다.\n",
    "- d: 정수 포맷 코드, 정수 값을 삽입할 때 사용됩니다.\n",
    "- f: 부동 소수점 포맷 코드, 부동 소수점(실수) 값을 삽입할 때 사용됩니다.\n",
    "- x 또는 X: 16진수 포맷 코드, 정수 값을 16진수로 표현할 때 사용됩니다. %X는 대문자 16진수로 표현됩니다.\n",
    "- o: 8진수 포맷 코드, 정수 값을 8진수로 표현할 때 사용됩니다.\n",
    "- %%: % 기호 표현, 단순히 % 기호를 문자열에 포함시킬 때 사용됩니다.\n",
    "- n.mf: 너비와 정밀도 지정, n은 전체 필드 너비를, m은 소수점 이하 자릿수를 지정합니다. \n",
    "    예를 들어, %10.2f는 전체 필드 너비가 10이고 소수점 이하 2자리까지 표시하는 부동 소수점 값을 의미합니다."
   ]
  },
  {
   "cell_type": "markdown",
   "id": "698ca0cf",
   "metadata": {},
   "source": [
    "### 문자열 포맷코드 적용 "
   ]
  },
  {
   "cell_type": "code",
   "execution_count": 38,
   "id": "6aaa6ac3",
   "metadata": {},
   "outputs": [
    {
     "name": "stdout",
     "output_type": "stream",
     "text": [
      "My name is Alice, I am 30 years old, and my height is 175.50 cm.\n",
      "My name is Alice, I am 11110 years old, and my height is 175.50 cm.\n"
     ]
    }
   ],
   "source": [
    "name = \"Alice\"\n",
    "age = 30\n",
    "height = 175.5\n",
    "\n",
    "message = f\"My name is {name}, I am {age:d} years old, and my height is {height:.2f} cm.\"\n",
    "print(message)\n",
    "## 정수일 경우는 b,o,x 로 진법을 표시 가능 \n",
    "message = f\"My name is {name}, I am {age:b} years old, and my height is {height:.2f} cm.\"\n",
    "print(message)"
   ]
  },
  {
   "cell_type": "markdown",
   "id": "6cefb8f4",
   "metadata": {},
   "source": [
    "### 로우 문자열도 처리"
   ]
  },
  {
   "cell_type": "code",
   "execution_count": 44,
   "id": "e7ca9bb3",
   "metadata": {},
   "outputs": [
    {
     "name": "stdout",
     "output_type": "stream",
     "text": [
      "My raw sting is ('문자열1 \\\\n', '문자열 \\n').\n"
     ]
    }
   ],
   "source": [
    "bbb = r\"문자열1 \\n\" , '문자열 \\n'   \n",
    "message = f\"My raw sting is {bbb}.\"\n",
    "print(message)"
   ]
  },
  {
   "cell_type": "code",
   "execution_count": null,
   "id": "77124fee",
   "metadata": {},
   "outputs": [],
   "source": []
  }
 ],
 "metadata": {
  "kernelspec": {
   "display_name": "Python 3 (ipykernel)",
   "language": "python",
   "name": "python3"
  },
  "language_info": {
   "codemirror_mode": {
    "name": "ipython",
    "version": 3
   },
   "file_extension": ".py",
   "mimetype": "text/x-python",
   "name": "python",
   "nbconvert_exporter": "python",
   "pygments_lexer": "ipython3",
   "version": "3.11.3"
  }
 },
 "nbformat": 4,
 "nbformat_minor": 5
}
