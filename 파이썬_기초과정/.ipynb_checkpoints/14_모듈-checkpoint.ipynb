{
 "cells": [
  {
   "cell_type": "code",
   "execution_count": 2,
   "id": "f89e5a9e",
   "metadata": {},
   "outputs": [
    {
     "data": {
      "text/plain": [
       "'3.11.3'"
      ]
     },
     "execution_count": 2,
     "metadata": {},
     "output_type": "execute_result"
    }
   ],
   "source": [
    "import platform\n",
    "\n",
    "platform.python_version()"
   ]
  },
  {
   "cell_type": "code",
   "execution_count": null,
   "id": "c8a0bf7e",
   "metadata": {},
   "outputs": [],
   "source": []
  },
  {
   "cell_type": "markdown",
   "id": "20e5716f",
   "metadata": {},
   "source": [
    "## \"모듈\"은 \n",
    "- 파이썬 프로그래밍에서 코드의 재사용과 구조화를 위해 사용되는 개념입니다. \n",
    "- 모듈은 관련된 함수, 변수, 클래스 등을 모아서 하나의 파일에 저장한 후, 다른 프로그램에서 임포트하여 사용할 수 있도록 합니다. \n",
    "- 이를 통해 코드의 재사용성을 높이고 프로그램을 구조화하여 관리할 수 있습니다.\n",
    "\n",
    "\n",
    "\n",
    "### 내장 모듈 (Built-in Modules): \n",
    "- 파이썬 인터프리터에 기본적으로 포함된 모듈로, 추가 설치 없이 바로 사용할 수 있습니다. 예를 들어 math, random, datetime 등이 있습니다.\n",
    "\n",
    "### 표준 라이브러리 (Standard Library): \n",
    "- 파이썬 공식 문서에서 제공하는 다양한 모듈들의 집합입니다. 파일 입출력, 문자열 처리, 네트워킹, 데이터 처리 등 다양한 기능을 포함하고 있습니다.\n",
    "\n",
    "### 외부 라이브러리 (Third-Party Libraries): \n",
    "- 파이썬 커뮤니티에서 개발한 라이브러리들로, 추가 설치가 필요합니다. 예를 들어 데이터 분석을 위한 numpy, pandas, 웹 프레임워크인 Flask, Django 등이 있습니다."
   ]
  },
  {
   "cell_type": "markdown",
   "id": "4162d495",
   "metadata": {},
   "source": [
    "## 1.  내장 모듈 (Built-in Modules)"
   ]
  },
  {
   "cell_type": "code",
   "execution_count": null,
   "id": "4f3c4e8a",
   "metadata": {},
   "outputs": [],
   "source": []
  },
  {
   "cell_type": "markdown",
   "id": "f8bf539d",
   "metadata": {},
   "source": [
    "## import 없이 사용이 가능 "
   ]
  },
  {
   "cell_type": "code",
   "execution_count": 1,
   "id": "be26b831",
   "metadata": {},
   "outputs": [
    {
     "name": "stdout",
     "output_type": "stream",
     "text": [
      "ArithmeticError, AssertionError, AttributeError, BaseException, BaseExceptionGroup, BlockingIOError, BrokenPipeError, BufferError, BytesWarning, ChildProcessError, ConnectionAbortedError, ConnectionError, ConnectionRefusedError, ConnectionResetError, DeprecationWarning, EOFError, Ellipsis, EncodingWarning, EnvironmentError, Exception, ExceptionGroup, False, FileExistsError, FileNotFoundError, FloatingPointError, FutureWarning, GeneratorExit, IOError, ImportError, ImportWarning, IndentationError, IndexError, InterruptedError, IsADirectoryError, KeyError, KeyboardInterrupt, LookupError, MemoryError, ModuleNotFoundError, NameError, None, NotADirectoryError, NotImplemented, NotImplementedError, OSError, OverflowError, PendingDeprecationWarning, PermissionError, ProcessLookupError, RecursionError, ReferenceError, ResourceWarning, RuntimeError, RuntimeWarning, StopAsyncIteration, StopIteration, SyntaxError, SyntaxWarning, SystemError, SystemExit, TabError, TimeoutError, True, TypeError, UnboundLocalError, UnicodeDecodeError, UnicodeEncodeError, UnicodeError, UnicodeTranslateError, UnicodeWarning, UserWarning, ValueError, Warning, ZeroDivisionError, __IPYTHON__, __build_class__, __debug__, __doc__, __import__, __loader__, __name__, __package__, __spec__, abs, aiter, all, anext, any, ascii, bin, bool, breakpoint, bytearray, bytes, callable, chr, classmethod, compile, complex, copyright, credits, delattr, dict, dir, display, divmod, enumerate, eval, exec, execfile, filter, float, format, frozenset, get_ipython, getattr, globals, hasattr, hash, help, hex, id, input, int, isinstance, issubclass, iter, len, license, list, locals, map, max, memoryview, min, next, object, oct, open, ord, pow, print, property, range, repr, reversed, round, runfile, set, setattr, slice, sorted, staticmethod, str, sum, super, tuple, type, vars, zip, "
     ]
    }
   ],
   "source": [
    "for i in dir(__builtins__) :\n",
    "    print(i, end=\", \")"
   ]
  },
  {
   "cell_type": "code",
   "execution_count": null,
   "id": "66eb0e00",
   "metadata": {},
   "outputs": [],
   "source": []
  },
  {
   "cell_type": "code",
   "execution_count": null,
   "id": "e6321cde",
   "metadata": {},
   "outputs": [],
   "source": []
  },
  {
   "cell_type": "markdown",
   "id": "7cdd09d0",
   "metadata": {},
   "source": [
    "## 2. 파이썬 표준 라이브러리의 모듈\n",
    "\n",
    "- Python 공식 웹사이트에서 문서화되어 있습니다. 모듈의 기능, 클래스, 함수, 메서드 등에 대한 설명과 예제를 포함한 문서를 확인하여 사용 방법을 익힐 수 있습니다.\n",
    "\n",
    "- 파이썬 표준 라이브러리 문서는 다음 주소에서 참조할 수 있습니다:\n",
    "https://docs.python.org/3/library/"
   ]
  },
  {
   "cell_type": "markdown",
   "id": "ae20c305",
   "metadata": {},
   "source": [
    "## 2-1 모듈 import"
   ]
  },
  {
   "cell_type": "markdown",
   "id": "6073c03c",
   "metadata": {},
   "source": [
    "##  모듈 객체를 생성시키는 역할 \n",
    "\n",
    "- 싱글턴 객체를 만드는 것 "
   ]
  },
  {
   "cell_type": "code",
   "execution_count": 1,
   "id": "8c0a8650",
   "metadata": {},
   "outputs": [],
   "source": [
    "import functools"
   ]
  },
  {
   "cell_type": "markdown",
   "id": "bcb77ffe",
   "metadata": {},
   "source": [
    "## 모듈의 타입을 확인한다 "
   ]
  },
  {
   "cell_type": "code",
   "execution_count": 2,
   "id": "3e6a333e",
   "metadata": {},
   "outputs": [
    {
     "data": {
      "text/plain": [
       "(module, module)"
      ]
     },
     "execution_count": 2,
     "metadata": {},
     "output_type": "execute_result"
    }
   ],
   "source": [
    "type(functools), functools.__class__"
   ]
  },
  {
   "cell_type": "code",
   "execution_count": null,
   "id": "d95c9ae4",
   "metadata": {},
   "outputs": [],
   "source": []
  },
  {
   "cell_type": "markdown",
   "id": "fa5f1bf5",
   "metadata": {},
   "source": [
    "## 2-2 사용하려면 import 필요\n",
    "\n",
    "- 빌트인 모듈을 제외하고는 모듈을 import \n",
    "- 표준 모듈이 아닌 경우는 먼저 pip로 설치한 후에 import "
   ]
  },
  {
   "cell_type": "markdown",
   "id": "b902fb4c",
   "metadata": {},
   "source": [
    "### 수학 모듈"
   ]
  },
  {
   "cell_type": "code",
   "execution_count": 8,
   "id": "0cf6f239",
   "metadata": {},
   "outputs": [],
   "source": [
    "import math"
   ]
  },
  {
   "cell_type": "markdown",
   "id": "df95664a",
   "metadata": {},
   "source": [
    "### 의사난수 생성 모듈 "
   ]
  },
  {
   "cell_type": "code",
   "execution_count": 10,
   "id": "2e247037",
   "metadata": {},
   "outputs": [],
   "source": [
    "import random"
   ]
  },
  {
   "cell_type": "markdown",
   "id": "4c5ec550",
   "metadata": {},
   "source": [
    "### 연산자를 함수로 제공하는 모듈 "
   ]
  },
  {
   "cell_type": "code",
   "execution_count": 9,
   "id": "3d942c19",
   "metadata": {},
   "outputs": [],
   "source": [
    "import operator"
   ]
  },
  {
   "cell_type": "code",
   "execution_count": null,
   "id": "c264017b",
   "metadata": {},
   "outputs": [],
   "source": []
  },
  {
   "cell_type": "markdown",
   "id": "7de2b61a",
   "metadata": {},
   "source": [
    "## 3. 사용자 모듈 정의 및 실행하기 "
   ]
  },
  {
   "cell_type": "code",
   "execution_count": null,
   "id": "d80a6a46",
   "metadata": {},
   "outputs": [],
   "source": []
  },
  {
   "cell_type": "markdown",
   "id": "4dfd78e0",
   "metadata": {},
   "source": [
    "## 3-1 주피터 매직 명령어로 파이선 모듈 작성 "
   ]
  },
  {
   "cell_type": "markdown",
   "id": "88ba715a",
   "metadata": {},
   "source": [
    "## 3-1-1 모듈 정의 및 실행 "
   ]
  },
  {
   "cell_type": "markdown",
   "id": "72f9d2f4",
   "metadata": {},
   "source": [
    "### import 해서 사용하는 모듈 작성 "
   ]
  },
  {
   "cell_type": "code",
   "execution_count": 1,
   "id": "35b77a22",
   "metadata": {},
   "outputs": [
    {
     "name": "stdout",
     "output_type": "stream",
     "text": [
      "Writing math_utils.py\n"
     ]
    }
   ],
   "source": [
    "%%writefile math_utils.py\n",
    "def add(x, y):\n",
    "    return x + y\n",
    "\n",
    "def subtract(x, y):\n",
    "    return x - y\n"
   ]
  },
  {
   "cell_type": "markdown",
   "id": "56e321a1",
   "metadata": {},
   "source": [
    "### 실제 실행하는 모듈 작성\n",
    "\n",
    "- 조건문에서 실행하는 모듈의 `__name__` 이 `__main__`인지를 확인\n",
    "- 참일 경우 이 내부에 정의된 코드블럭을 실행"
   ]
  },
  {
   "cell_type": "code",
   "execution_count": 2,
   "id": "25fb0b9d",
   "metadata": {},
   "outputs": [
    {
     "name": "stdout",
     "output_type": "stream",
     "text": [
      "Writing main.py\n"
     ]
    }
   ],
   "source": [
    "%%writefile main.py\n",
    "\n",
    "from math_utils import add, subtract\n",
    "\n",
    "result_add = add(5, 3)\n",
    "result_sub = subtract(10, 4)\n",
    "\n",
    "if __name__ == \"__main__\" : \n",
    "\n",
    "    print(\"Addition:\", result_add)\n",
    "    print(\"Subtraction:\", result_sub)"
   ]
  },
  {
   "cell_type": "markdown",
   "id": "650cc730",
   "metadata": {},
   "source": [
    "## 모듈을 실행하기 \n",
    "\n",
    "- !python 모듈명 : 쉘명령어로 실행\n",
    "- %run 모듈명 : 주피터 명령으로 실행 "
   ]
  },
  {
   "cell_type": "code",
   "execution_count": null,
   "id": "c002c915",
   "metadata": {},
   "outputs": [],
   "source": []
  },
  {
   "cell_type": "code",
   "execution_count": 4,
   "id": "18dda1e5",
   "metadata": {},
   "outputs": [
    {
     "name": "stdout",
     "output_type": "stream",
     "text": [
      "Addition: 8\r\n",
      "Subtraction: 6\r\n"
     ]
    }
   ],
   "source": [
    "!python main.py"
   ]
  },
  {
   "cell_type": "code",
   "execution_count": 5,
   "id": "2290139b",
   "metadata": {},
   "outputs": [
    {
     "name": "stdout",
     "output_type": "stream",
     "text": [
      "Addition: 8\n",
      "Subtraction: 6\n"
     ]
    }
   ],
   "source": [
    "%run  main.py"
   ]
  },
  {
   "cell_type": "markdown",
   "id": "49a3d811",
   "metadata": {},
   "source": [
    "## 3-1-2 주피터 노트북 파일도 하나의 모듈 "
   ]
  },
  {
   "cell_type": "code",
   "execution_count": 4,
   "id": "cd9ac99c",
   "metadata": {},
   "outputs": [
    {
     "name": "stdout",
     "output_type": "stream",
     "text": [
      "Writing fib.py\n"
     ]
    }
   ],
   "source": [
    "%%writefile fib.py\n",
    "# Fibonacci numbers module\n",
    "\n",
    "def fib(n):    # write Fibonacci series up to n\n",
    "    a, b = 0, 1\n",
    "    while a < n:\n",
    "        print(a, end=' ')\n",
    "        a, b = b, a+b\n",
    "    print()\n",
    "\n",
    "def fib2(n):   # return Fibonacci series up to n\n",
    "    result = []\n",
    "    a, b = 0, 1\n",
    "    while a < n:\n",
    "        result.append(a)\n",
    "        a, b = b, a+b\n",
    "    return result"
   ]
  },
  {
   "cell_type": "code",
   "execution_count": null,
   "id": "df68eb6e",
   "metadata": {},
   "outputs": [],
   "source": []
  },
  {
   "cell_type": "code",
   "execution_count": 9,
   "id": "95b04c0d",
   "metadata": {},
   "outputs": [
    {
     "name": "stdout",
     "output_type": "stream",
     "text": [
      "0 1 1 2 3 5 8 \n"
     ]
    }
   ],
   "source": [
    "import fib\n",
    "\n",
    "if __name__ == \"__main__\":\n",
    "    fib.fib(10)"
   ]
  },
  {
   "cell_type": "code",
   "execution_count": null,
   "id": "94b75b73",
   "metadata": {},
   "outputs": [],
   "source": []
  },
  {
   "cell_type": "markdown",
   "id": "f7eb42fc",
   "metadata": {},
   "source": [
    "## 3-1-3  모듈 실행에 따른 인자 처리 "
   ]
  },
  {
   "cell_type": "markdown",
   "id": "1ce1a5eb",
   "metadata": {},
   "source": [
    "## 모듈 생성 "
   ]
  },
  {
   "cell_type": "code",
   "execution_count": 10,
   "id": "f41c090e",
   "metadata": {},
   "outputs": [
    {
     "name": "stdout",
     "output_type": "stream",
     "text": [
      "Writing fib2.py\n"
     ]
    }
   ],
   "source": [
    "%%writefile fib2.py\n",
    "# Fibonacci numbers module\n",
    "import sys\n",
    "\n",
    "def fib(n):    # write Fibonacci series up to n\n",
    "    a, b = 0, 1\n",
    "    while a < n:\n",
    "        print(a, end=' ')\n",
    "        a, b = b, a+b\n",
    "    print()\n",
    "\n",
    "def fib2(n):   # return Fibonacci series up to n\n",
    "    result = []\n",
    "    a, b = 0, 1\n",
    "    while a < n:\n",
    "        result.append(a)\n",
    "        a, b = b, a+b\n",
    "    return result\n",
    "\n",
    "if __name__ == \"__main__\":\n",
    "    import sys\n",
    "    fib(int(sys.argv[1]))"
   ]
  },
  {
   "cell_type": "markdown",
   "id": "d5881862",
   "metadata": {},
   "source": [
    "## 모듈 실행하면서 인자 처리 "
   ]
  },
  {
   "cell_type": "code",
   "execution_count": 11,
   "id": "2269e98c",
   "metadata": {},
   "outputs": [
    {
     "name": "stdout",
     "output_type": "stream",
     "text": [
      "0 1 1 2 3 5 8 \n"
     ]
    }
   ],
   "source": [
    "%run fib2 10"
   ]
  },
  {
   "cell_type": "code",
   "execution_count": null,
   "id": "6c426792",
   "metadata": {},
   "outputs": [],
   "source": []
  },
  {
   "cell_type": "markdown",
   "id": "d242c023",
   "metadata": {},
   "source": [
    "## 3-2. 모듈 의 정보를 읽어오기 "
   ]
  },
  {
   "cell_type": "markdown",
   "id": "ff770d66",
   "metadata": {},
   "source": [
    "## 사용자 정의 모듈 생성하기 "
   ]
  },
  {
   "cell_type": "code",
   "execution_count": 1,
   "id": "2f89220e",
   "metadata": {},
   "outputs": [
    {
     "name": "stdout",
     "output_type": "stream",
     "text": [
      "Writing my_module.py\n"
     ]
    }
   ],
   "source": [
    "%%writefile my_module.py\n",
    "\n",
    "def my_function():\n",
    "    print(\"This is my function in my_module\")\n",
    "\n",
    "class MyClass:\n",
    "    def __init__(self, value):\n",
    "        self.value = value\n",
    "\n",
    "    def print_value(self):\n",
    "        print(f\"My value is {self.value}\")"
   ]
  },
  {
   "cell_type": "code",
   "execution_count": null,
   "id": "860ea55b",
   "metadata": {},
   "outputs": [],
   "source": []
  },
  {
   "cell_type": "markdown",
   "id": "706c74ad",
   "metadata": {},
   "source": [
    "##  3-2-1 모듈 전체를 가져와서 사용하기"
   ]
  },
  {
   "cell_type": "code",
   "execution_count": 2,
   "id": "71974006",
   "metadata": {},
   "outputs": [
    {
     "name": "stdout",
     "output_type": "stream",
     "text": [
      "This is my function in my_module\n",
      "My value is 42\n"
     ]
    }
   ],
   "source": [
    "# 모듈 전체를 가져와서 사용하기\n",
    "import my_module\n",
    "\n",
    "my_module.my_function()\n",
    "\n",
    "obj = my_module.MyClass(42)\n",
    "obj.print_value()"
   ]
  },
  {
   "cell_type": "markdown",
   "id": "fcc4f845",
   "metadata": {},
   "source": [
    "## 3-2-2 모듈 내부 요소에 별칭 붙이기"
   ]
  },
  {
   "cell_type": "code",
   "execution_count": 3,
   "id": "648c35f5",
   "metadata": {},
   "outputs": [
    {
     "name": "stdout",
     "output_type": "stream",
     "text": [
      "This is my function in my_module\n",
      "My value is 42\n"
     ]
    }
   ],
   "source": [
    "# 모듈 내부 요소에 별칭 붙이기\n",
    "import my_module as mm\n",
    "\n",
    "mm.my_function()\n",
    "\n",
    "obj = mm.MyClass(42)\n",
    "obj.print_value()"
   ]
  },
  {
   "cell_type": "markdown",
   "id": "0e203663",
   "metadata": {},
   "source": [
    "## 3-2-3 특정 요소만 가져와서 사용하기"
   ]
  },
  {
   "cell_type": "code",
   "execution_count": 4,
   "id": "31b04861",
   "metadata": {},
   "outputs": [
    {
     "name": "stdout",
     "output_type": "stream",
     "text": [
      "This is my function in my_module\n",
      "My value is 42\n"
     ]
    }
   ],
   "source": [
    "# 특정 요소만 가져와서 사용하기\n",
    "from my_module import my_function, MyClass\n",
    "\n",
    "my_function()\n",
    "\n",
    "obj = MyClass(42)\n",
    "obj.print_value()"
   ]
  },
  {
   "cell_type": "markdown",
   "id": "a4780d50",
   "metadata": {},
   "source": [
    "## 3-2-4 모든 요소 가져오기 (주의 필요)\n",
    "\n",
    "- 모듈 내부의 모든 함수, 클래스, 변수 등을 현재 네임스페이스에 가져옵니다. \n",
    "- 모듈 이름 없이 해당 요소의 이름으로 직접 접근할 수 있지만, 네임스페이스 오염에 주의해야 합니다."
   ]
  },
  {
   "cell_type": "code",
   "execution_count": 5,
   "id": "6e303553",
   "metadata": {},
   "outputs": [
    {
     "name": "stdout",
     "output_type": "stream",
     "text": [
      "This is my function in my_module\n",
      "My value is 42\n"
     ]
    }
   ],
   "source": [
    "\n",
    "from my_module import *\n",
    "\n",
    "my_function()\n",
    "\n",
    "obj = MyClass(42)\n",
    "obj.print_value()"
   ]
  },
  {
   "cell_type": "code",
   "execution_count": null,
   "id": "bae871d3",
   "metadata": {},
   "outputs": [],
   "source": []
  }
 ],
 "metadata": {
  "kernelspec": {
   "display_name": "Python 3 (ipykernel)",
   "language": "python",
   "name": "python3"
  },
  "language_info": {
   "codemirror_mode": {
    "name": "ipython",
    "version": 3
   },
   "file_extension": ".py",
   "mimetype": "text/x-python",
   "name": "python",
   "nbconvert_exporter": "python",
   "pygments_lexer": "ipython3",
   "version": "3.9.16"
  }
 },
 "nbformat": 4,
 "nbformat_minor": 5
}
