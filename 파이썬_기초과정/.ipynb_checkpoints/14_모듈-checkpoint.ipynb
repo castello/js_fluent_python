{
 "cells": [
  {
   "cell_type": "code",
   "execution_count": 7,
   "id": "f89e5a9e",
   "metadata": {},
   "outputs": [
    {
     "data": {
      "text/plain": [
       "'3.11.3'"
      ]
     },
     "execution_count": 7,
     "metadata": {},
     "output_type": "execute_result"
    }
   ],
   "source": [
    "import platform\n",
    "\n",
    "platform.python_version()"
   ]
  },
  {
   "cell_type": "code",
   "execution_count": null,
   "id": "c8a0bf7e",
   "metadata": {},
   "outputs": [],
   "source": []
  },
  {
   "cell_type": "markdown",
   "id": "20e5716f",
   "metadata": {},
   "source": [
    "## \"모듈\"은 \n",
    "- 파이썬 프로그래밍에서 코드의 재사용과 구조화를 위해 사용되는 개념입니다. \n",
    "- 모듈은 관련된 함수, 변수, 클래스 등을 모아서 하나의 파일에 저장한 후, 다른 프로그램에서 임포트하여 사용할 수 있도록 합니다. \n",
    "- 이를 통해 코드의 재사용성을 높이고 프로그램을 구조화하여 관리할 수 있습니다.\n",
    "\n",
    "\n",
    "\n",
    "### 내장 모듈 (Built-in Modules): \n",
    "- 파이썬 인터프리터에 기본적으로 포함된 모듈로, 추가 설치 없이 바로 사용할 수 있습니다. 예를 들어 math, random, datetime 등이 있습니다.\n",
    "\n",
    "### 표준 라이브러리 (Standard Library): \n",
    "- 파이썬 공식 문서에서 제공하는 다양한 모듈들의 집합입니다. 파일 입출력, 문자열 처리, 네트워킹, 데이터 처리 등 다양한 기능을 포함하고 있습니다.\n",
    "\n",
    "### 외부 라이브러리 (Third-Party Libraries): \n",
    "- 파이썬 커뮤니티에서 개발한 라이브러리들로, 추가 설치가 필요합니다. 예를 들어 데이터 분석을 위한 numpy, pandas, 웹 프레임워크인 Flask, Django 등이 있습니다."
   ]
  },
  {
   "cell_type": "markdown",
   "id": "4162d495",
   "metadata": {},
   "source": [
    "## 1.  내장 모듈 (Built-in Modules)"
   ]
  },
  {
   "cell_type": "code",
   "execution_count": null,
   "id": "4f3c4e8a",
   "metadata": {},
   "outputs": [],
   "source": []
  },
  {
   "cell_type": "markdown",
   "id": "f8bf539d",
   "metadata": {},
   "source": [
    "## import 없이 사용이 가능 "
   ]
  },
  {
   "cell_type": "code",
   "execution_count": 7,
   "id": "be26b831",
   "metadata": {},
   "outputs": [
    {
     "data": {
      "text/plain": [
       "['ArithmeticError',\n",
       " 'AssertionError',\n",
       " 'AttributeError',\n",
       " 'BaseException',\n",
       " 'BaseExceptionGroup',\n",
       " 'BlockingIOError',\n",
       " 'BrokenPipeError',\n",
       " 'BufferError',\n",
       " 'BytesWarning',\n",
       " 'ChildProcessError',\n",
       " 'ConnectionAbortedError',\n",
       " 'ConnectionError',\n",
       " 'ConnectionRefusedError',\n",
       " 'ConnectionResetError',\n",
       " 'DeprecationWarning',\n",
       " 'EOFError',\n",
       " 'Ellipsis',\n",
       " 'EncodingWarning',\n",
       " 'EnvironmentError',\n",
       " 'Exception',\n",
       " 'ExceptionGroup',\n",
       " 'False',\n",
       " 'FileExistsError',\n",
       " 'FileNotFoundError',\n",
       " 'FloatingPointError',\n",
       " 'FutureWarning',\n",
       " 'GeneratorExit',\n",
       " 'IOError',\n",
       " 'ImportError',\n",
       " 'ImportWarning',\n",
       " 'IndentationError',\n",
       " 'IndexError',\n",
       " 'InterruptedError',\n",
       " 'IsADirectoryError',\n",
       " 'KeyError',\n",
       " 'KeyboardInterrupt',\n",
       " 'LookupError',\n",
       " 'MemoryError',\n",
       " 'ModuleNotFoundError',\n",
       " 'NameError',\n",
       " 'None',\n",
       " 'NotADirectoryError',\n",
       " 'NotImplemented',\n",
       " 'NotImplementedError',\n",
       " 'OSError',\n",
       " 'OverflowError',\n",
       " 'PendingDeprecationWarning',\n",
       " 'PermissionError',\n",
       " 'ProcessLookupError',\n",
       " 'RecursionError',\n",
       " 'ReferenceError',\n",
       " 'ResourceWarning',\n",
       " 'RuntimeError',\n",
       " 'RuntimeWarning',\n",
       " 'StopAsyncIteration',\n",
       " 'StopIteration',\n",
       " 'SyntaxError',\n",
       " 'SyntaxWarning',\n",
       " 'SystemError',\n",
       " 'SystemExit',\n",
       " 'TabError',\n",
       " 'TimeoutError',\n",
       " 'True',\n",
       " 'TypeError',\n",
       " 'UnboundLocalError',\n",
       " 'UnicodeDecodeError',\n",
       " 'UnicodeEncodeError',\n",
       " 'UnicodeError',\n",
       " 'UnicodeTranslateError',\n",
       " 'UnicodeWarning',\n",
       " 'UserWarning',\n",
       " 'ValueError',\n",
       " 'Warning',\n",
       " 'ZeroDivisionError',\n",
       " '__IPYTHON__',\n",
       " '__build_class__',\n",
       " '__debug__',\n",
       " '__doc__',\n",
       " '__import__',\n",
       " '__loader__',\n",
       " '__name__',\n",
       " '__package__',\n",
       " '__spec__',\n",
       " 'abs',\n",
       " 'aiter',\n",
       " 'all',\n",
       " 'anext',\n",
       " 'any',\n",
       " 'ascii',\n",
       " 'bin',\n",
       " 'bool',\n",
       " 'breakpoint',\n",
       " 'bytearray',\n",
       " 'bytes',\n",
       " 'callable',\n",
       " 'chr',\n",
       " 'classmethod',\n",
       " 'compile',\n",
       " 'complex',\n",
       " 'copyright',\n",
       " 'credits',\n",
       " 'delattr',\n",
       " 'dict',\n",
       " 'dir',\n",
       " 'display',\n",
       " 'divmod',\n",
       " 'enumerate',\n",
       " 'eval',\n",
       " 'exec',\n",
       " 'execfile',\n",
       " 'filter',\n",
       " 'float',\n",
       " 'format',\n",
       " 'frozenset',\n",
       " 'get_ipython',\n",
       " 'getattr',\n",
       " 'globals',\n",
       " 'hasattr',\n",
       " 'hash',\n",
       " 'help',\n",
       " 'hex',\n",
       " 'id',\n",
       " 'input',\n",
       " 'int',\n",
       " 'isinstance',\n",
       " 'issubclass',\n",
       " 'iter',\n",
       " 'len',\n",
       " 'license',\n",
       " 'list',\n",
       " 'locals',\n",
       " 'map',\n",
       " 'max',\n",
       " 'memoryview',\n",
       " 'min',\n",
       " 'next',\n",
       " 'object',\n",
       " 'oct',\n",
       " 'open',\n",
       " 'ord',\n",
       " 'pow',\n",
       " 'print',\n",
       " 'property',\n",
       " 'range',\n",
       " 'repr',\n",
       " 'reversed',\n",
       " 'round',\n",
       " 'runfile',\n",
       " 'set',\n",
       " 'setattr',\n",
       " 'slice',\n",
       " 'sorted',\n",
       " 'staticmethod',\n",
       " 'str',\n",
       " 'sum',\n",
       " 'super',\n",
       " 'tuple',\n",
       " 'type',\n",
       " 'vars',\n",
       " 'zip']"
      ]
     },
     "execution_count": 7,
     "metadata": {},
     "output_type": "execute_result"
    }
   ],
   "source": [
    "dir(__builtins__)"
   ]
  },
  {
   "cell_type": "code",
   "execution_count": null,
   "id": "66eb0e00",
   "metadata": {},
   "outputs": [],
   "source": []
  },
  {
   "cell_type": "code",
   "execution_count": null,
   "id": "e6321cde",
   "metadata": {},
   "outputs": [],
   "source": []
  },
  {
   "cell_type": "markdown",
   "id": "7cdd09d0",
   "metadata": {},
   "source": [
    "## 2. 파이썬 표준 라이브러리의 모듈\n",
    "\n",
    "- Python 공식 웹사이트에서 문서화되어 있습니다. 모듈의 기능, 클래스, 함수, 메서드 등에 대한 설명과 예제를 포함한 문서를 확인하여 사용 방법을 익힐 수 있습니다.\n",
    "\n",
    "- 파이썬 표준 라이브러리 문서는 다음 주소에서 참조할 수 있습니다:\n",
    "https://docs.python.org/3/library/"
   ]
  },
  {
   "cell_type": "markdown",
   "id": "fa5f1bf5",
   "metadata": {},
   "source": [
    "## 사용하려면 import 필요"
   ]
  },
  {
   "cell_type": "markdown",
   "id": "b902fb4c",
   "metadata": {},
   "source": [
    "### 수학 모듈"
   ]
  },
  {
   "cell_type": "code",
   "execution_count": 8,
   "id": "0cf6f239",
   "metadata": {},
   "outputs": [],
   "source": [
    "import math"
   ]
  },
  {
   "cell_type": "markdown",
   "id": "df95664a",
   "metadata": {},
   "source": [
    "### 의사난수 생성 모듈 "
   ]
  },
  {
   "cell_type": "code",
   "execution_count": 10,
   "id": "2e247037",
   "metadata": {},
   "outputs": [],
   "source": [
    "import random"
   ]
  },
  {
   "cell_type": "markdown",
   "id": "4c5ec550",
   "metadata": {},
   "source": [
    "### 연산자를 함수로 제공하는 모듈 "
   ]
  },
  {
   "cell_type": "code",
   "execution_count": 9,
   "id": "3d942c19",
   "metadata": {},
   "outputs": [],
   "source": [
    "import operator"
   ]
  },
  {
   "cell_type": "code",
   "execution_count": null,
   "id": "c264017b",
   "metadata": {},
   "outputs": [],
   "source": []
  },
  {
   "cell_type": "markdown",
   "id": "7de2b61a",
   "metadata": {},
   "source": [
    "## 3. 사용자 모듈 정의 및 실행하기 "
   ]
  },
  {
   "cell_type": "code",
   "execution_count": 1,
   "id": "35b77a22",
   "metadata": {},
   "outputs": [
    {
     "name": "stdout",
     "output_type": "stream",
     "text": [
      "Writing math_utils.py\n"
     ]
    }
   ],
   "source": [
    "%%writefile math_utils.py\n",
    "def add(x, y):\n",
    "    return x + y\n",
    "\n",
    "def subtract(x, y):\n",
    "    return x - y\n"
   ]
  },
  {
   "cell_type": "code",
   "execution_count": null,
   "id": "858aac26",
   "metadata": {},
   "outputs": [],
   "source": []
  },
  {
   "cell_type": "code",
   "execution_count": 2,
   "id": "25fb0b9d",
   "metadata": {},
   "outputs": [
    {
     "name": "stdout",
     "output_type": "stream",
     "text": [
      "Writing main.py\n"
     ]
    }
   ],
   "source": [
    "%%writefile main.py\n",
    "\n",
    "from math_utils import add, subtract\n",
    "\n",
    "result_add = add(5, 3)\n",
    "result_sub = subtract(10, 4)\n",
    "\n",
    "if __name__ == \"__main__\" : \n",
    "\n",
    "    print(\"Addition:\", result_add)\n",
    "    print(\"Subtraction:\", result_sub)"
   ]
  },
  {
   "cell_type": "code",
   "execution_count": null,
   "id": "75dbceef",
   "metadata": {},
   "outputs": [],
   "source": []
  },
  {
   "cell_type": "code",
   "execution_count": 4,
   "id": "18dda1e5",
   "metadata": {},
   "outputs": [
    {
     "name": "stdout",
     "output_type": "stream",
     "text": [
      "Addition: 8\r\n",
      "Subtraction: 6\r\n"
     ]
    }
   ],
   "source": [
    "!python main.py"
   ]
  },
  {
   "cell_type": "code",
   "execution_count": 5,
   "id": "2290139b",
   "metadata": {},
   "outputs": [
    {
     "name": "stdout",
     "output_type": "stream",
     "text": [
      "Addition: 8\n",
      "Subtraction: 6\n"
     ]
    }
   ],
   "source": [
    "%run  main.py"
   ]
  },
  {
   "cell_type": "code",
   "execution_count": null,
   "id": "80fd7be1",
   "metadata": {},
   "outputs": [],
   "source": []
  },
  {
   "cell_type": "markdown",
   "id": "d242c023",
   "metadata": {},
   "source": [
    "## 4. 모듈 의 정보를 읽어오기 "
   ]
  },
  {
   "cell_type": "markdown",
   "id": "ff770d66",
   "metadata": {},
   "source": [
    "## 사용자 정의 모듈 생성하기 "
   ]
  },
  {
   "cell_type": "code",
   "execution_count": 1,
   "id": "2f89220e",
   "metadata": {},
   "outputs": [
    {
     "name": "stdout",
     "output_type": "stream",
     "text": [
      "Writing my_module.py\n"
     ]
    }
   ],
   "source": [
    "%%writefile my_module.py\n",
    "\n",
    "def my_function():\n",
    "    print(\"This is my function in my_module\")\n",
    "\n",
    "class MyClass:\n",
    "    def __init__(self, value):\n",
    "        self.value = value\n",
    "\n",
    "    def print_value(self):\n",
    "        print(f\"My value is {self.value}\")"
   ]
  },
  {
   "cell_type": "code",
   "execution_count": null,
   "id": "860ea55b",
   "metadata": {},
   "outputs": [],
   "source": []
  },
  {
   "cell_type": "markdown",
   "id": "706c74ad",
   "metadata": {},
   "source": [
    "##  모듈 전체를 가져와서 사용하기"
   ]
  },
  {
   "cell_type": "code",
   "execution_count": 2,
   "id": "71974006",
   "metadata": {},
   "outputs": [
    {
     "name": "stdout",
     "output_type": "stream",
     "text": [
      "This is my function in my_module\n",
      "My value is 42\n"
     ]
    }
   ],
   "source": [
    "# 모듈 전체를 가져와서 사용하기\n",
    "import my_module\n",
    "\n",
    "my_module.my_function()\n",
    "\n",
    "obj = my_module.MyClass(42)\n",
    "obj.print_value()"
   ]
  },
  {
   "cell_type": "markdown",
   "id": "fcc4f845",
   "metadata": {},
   "source": [
    "## 모듈 내부 요소에 별칭 붙이기"
   ]
  },
  {
   "cell_type": "code",
   "execution_count": 3,
   "id": "648c35f5",
   "metadata": {},
   "outputs": [
    {
     "name": "stdout",
     "output_type": "stream",
     "text": [
      "This is my function in my_module\n",
      "My value is 42\n"
     ]
    }
   ],
   "source": [
    "# 모듈 내부 요소에 별칭 붙이기\n",
    "import my_module as mm\n",
    "\n",
    "mm.my_function()\n",
    "\n",
    "obj = mm.MyClass(42)\n",
    "obj.print_value()"
   ]
  },
  {
   "cell_type": "markdown",
   "id": "0e203663",
   "metadata": {},
   "source": [
    "## 특정 요소만 가져와서 사용하기"
   ]
  },
  {
   "cell_type": "code",
   "execution_count": 4,
   "id": "31b04861",
   "metadata": {},
   "outputs": [
    {
     "name": "stdout",
     "output_type": "stream",
     "text": [
      "This is my function in my_module\n",
      "My value is 42\n"
     ]
    }
   ],
   "source": [
    "# 특정 요소만 가져와서 사용하기\n",
    "from my_module import my_function, MyClass\n",
    "\n",
    "my_function()\n",
    "\n",
    "obj = MyClass(42)\n",
    "obj.print_value()"
   ]
  },
  {
   "cell_type": "markdown",
   "id": "a4780d50",
   "metadata": {},
   "source": [
    "## 모든 요소 가져오기 (주의 필요)\n",
    "\n",
    "- 모듈 내부의 모든 함수, 클래스, 변수 등을 현재 네임스페이스에 가져옵니다. \n",
    "- 모듈 이름 없이 해당 요소의 이름으로 직접 접근할 수 있지만, 네임스페이스 오염에 주의해야 합니다."
   ]
  },
  {
   "cell_type": "code",
   "execution_count": 5,
   "id": "6e303553",
   "metadata": {},
   "outputs": [
    {
     "name": "stdout",
     "output_type": "stream",
     "text": [
      "This is my function in my_module\n",
      "My value is 42\n"
     ]
    }
   ],
   "source": [
    "\n",
    "from my_module import *\n",
    "\n",
    "my_function()\n",
    "\n",
    "obj = MyClass(42)\n",
    "obj.print_value()"
   ]
  },
  {
   "cell_type": "code",
   "execution_count": null,
   "id": "bae871d3",
   "metadata": {},
   "outputs": [],
   "source": []
  }
 ],
 "metadata": {
  "kernelspec": {
   "display_name": "Python 3 (ipykernel)",
   "language": "python",
   "name": "python3"
  },
  "language_info": {
   "codemirror_mode": {
    "name": "ipython",
    "version": 3
   },
   "file_extension": ".py",
   "mimetype": "text/x-python",
   "name": "python",
   "nbconvert_exporter": "python",
   "pygments_lexer": "ipython3",
   "version": "3.11.3"
  }
 },
 "nbformat": 4,
 "nbformat_minor": 5
}
