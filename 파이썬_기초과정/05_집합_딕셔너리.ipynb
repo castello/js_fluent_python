{
 "cells": [
  {
   "cell_type": "code",
   "execution_count": 1,
   "id": "3490aa2d",
   "metadata": {},
   "outputs": [
    {
     "data": {
      "text/plain": [
       "'3.11.3'"
      ]
     },
     "execution_count": 1,
     "metadata": {},
     "output_type": "execute_result"
    }
   ],
   "source": [
    "import platform\n",
    "\n",
    "platform.python_version()"
   ]
  },
  {
   "cell_type": "code",
   "execution_count": null,
   "id": "5eabc48f",
   "metadata": {},
   "outputs": [],
   "source": []
  },
  {
   "cell_type": "markdown",
   "id": "98f69f36",
   "metadata": {},
   "source": [
    "# 1. 집합\n",
    "\n",
    "- 집합(Set)은 고유한 값을 가지는 변경 가능한(mutable) 데이터 구조입니다. \n",
    "- 집합은 중복된 값이 없으며, 순서가 없습니다. 집합은 중괄호 {}를 사용하여 정의하며, 각 요소는 쉼표 ,로 구분됩니다.\n",
    "\n",
    "\n",
    "### 고유한 값: \n",
    "- 집합은 중복된 값을 허용하지 않습니다. 동일한 값이 여러 번 추가되어도 하나의 값으로만 저장됩니다.\n",
    "\n",
    "### 순서가 없음: \n",
    "- 집합은 요소의 순서를 보장하지 않습니다. 따라서 인덱스를 사용하여 요소에 접근할 수 없습니다.\n",
    "\n",
    "### 변경 가능: \n",
    "- 집합은 추가, 삭제 등의 변경이 가능합니다. \n",
    "- 변경불가능한 집합을 frozenset으로 제공함 \n",
    "\n",
    "### 집합 연산: \n",
    "- 집합은 합집합, 교집합, 차집합 등 다양한 집합 연산을 제공합니다."
   ]
  },
  {
   "cell_type": "markdown",
   "id": "be8c7848",
   "metadata": {},
   "source": [
    "## 1-1 집합 생성하기 "
   ]
  },
  {
   "cell_type": "markdown",
   "id": "34dca3a0",
   "metadata": {},
   "source": [
    "### 빈진합 확인하기 "
   ]
  },
  {
   "cell_type": "code",
   "execution_count": 2,
   "id": "8d860843",
   "metadata": {},
   "outputs": [
    {
     "data": {
      "text/plain": [
       "(set(), frozenset())"
      ]
     },
     "execution_count": 2,
     "metadata": {},
     "output_type": "execute_result"
    }
   ],
   "source": [
    "set(), frozenset()"
   ]
  },
  {
   "cell_type": "markdown",
   "id": "ad5c1447",
   "metadata": {},
   "source": [
    "###  집합 객체 생성하기"
   ]
  },
  {
   "cell_type": "code",
   "execution_count": 3,
   "id": "1ab8af44",
   "metadata": {},
   "outputs": [],
   "source": [
    "s = {1,2,3,4,5}               # 갱신이 가능한 집합"
   ]
  },
  {
   "cell_type": "code",
   "execution_count": 4,
   "id": "d59d3763",
   "metadata": {},
   "outputs": [
    {
     "data": {
      "text/plain": [
       "set"
      ]
     },
     "execution_count": 4,
     "metadata": {},
     "output_type": "execute_result"
    }
   ],
   "source": [
    "type(s)"
   ]
  },
  {
   "cell_type": "code",
   "execution_count": 5,
   "id": "0aa2f662",
   "metadata": {},
   "outputs": [],
   "source": [
    "f = frozenset(s)              #  갱신할 수 없는 집합 "
   ]
  },
  {
   "cell_type": "code",
   "execution_count": 6,
   "id": "d00d4529",
   "metadata": {},
   "outputs": [
    {
     "data": {
      "text/plain": [
       "frozenset"
      ]
     },
     "execution_count": 6,
     "metadata": {},
     "output_type": "execute_result"
    }
   ],
   "source": [
    "type(f)"
   ]
  },
  {
   "cell_type": "markdown",
   "id": "74b58722",
   "metadata": {},
   "source": [
    "### 집합 생성 및 제거 "
   ]
  },
  {
   "cell_type": "code",
   "execution_count": 7,
   "id": "01bf4379",
   "metadata": {},
   "outputs": [
    {
     "name": "stdout",
     "output_type": "stream",
     "text": [
      "After adding: {1, 2, 3, 4, 5, 6}\n",
      "After removing: {1, 2, 4, 5, 6}\n"
     ]
    }
   ],
   "source": [
    "# 집합 생성\n",
    "my_set = {1, 2, 3, 4, 5}\n",
    "\n",
    "# 집합에 값 추가\n",
    "my_set.add(6)\n",
    "print(\"After adding:\", my_set)\n",
    "\n",
    "# 집합에서 값 제거\n",
    "my_set.remove(3)\n",
    "print(\"After removing:\", my_set)"
   ]
  },
  {
   "cell_type": "code",
   "execution_count": null,
   "id": "870a6023",
   "metadata": {},
   "outputs": [],
   "source": []
  },
  {
   "cell_type": "markdown",
   "id": "c21328a6",
   "metadata": {},
   "source": [
    "## 1-3 집합 내부 속성과 메서드 확인하기"
   ]
  },
  {
   "cell_type": "markdown",
   "id": "260cbec5",
   "metadata": {},
   "source": [
    "## 집합 처리 "
   ]
  },
  {
   "cell_type": "code",
   "execution_count": 8,
   "id": "f76e83c6",
   "metadata": {},
   "outputs": [
    {
     "name": "stdout",
     "output_type": "stream",
     "text": [
      "__and__, __class__, __class_getitem__, __contains__, __delattr__, __dir__, __doc__, __eq__, __format__, __ge__, __getattribute__, __getstate__, __gt__, __hash__, __iand__, __init__, __init_subclass__, __ior__, __isub__, __iter__, __ixor__, __le__, __len__, __lt__, __ne__, __new__, __or__, __rand__, __reduce__, __reduce_ex__, __repr__, __ror__, __rsub__, __rxor__, __setattr__, __sizeof__, __str__, __sub__, __subclasshook__, __xor__, add, clear, copy, difference, difference_update, discard, intersection, intersection_update, isdisjoint, issubset, issuperset, pop, remove, symmetric_difference, symmetric_difference_update, union, update, "
     ]
    }
   ],
   "source": [
    "for i in dir(s) :\n",
    "    print(i, end=', ')"
   ]
  },
  {
   "cell_type": "code",
   "execution_count": 9,
   "id": "0f5e5bbc",
   "metadata": {},
   "outputs": [],
   "source": [
    "a = {1,2,3,4}\n",
    "b = {2,3}"
   ]
  },
  {
   "cell_type": "markdown",
   "id": "26474d5d",
   "metadata": {},
   "source": [
    "### 집합연산  메서드 처리 "
   ]
  },
  {
   "cell_type": "code",
   "execution_count": 10,
   "id": "1809bca5",
   "metadata": {},
   "outputs": [
    {
     "data": {
      "text/plain": [
       "{2, 3}"
      ]
     },
     "execution_count": 10,
     "metadata": {},
     "output_type": "execute_result"
    }
   ],
   "source": [
    "a.intersection(b)"
   ]
  },
  {
   "cell_type": "code",
   "execution_count": 11,
   "id": "4faca251",
   "metadata": {},
   "outputs": [
    {
     "data": {
      "text/plain": [
       "{1, 2, 3, 4}"
      ]
     },
     "execution_count": 11,
     "metadata": {},
     "output_type": "execute_result"
    }
   ],
   "source": [
    "a.union(b)"
   ]
  },
  {
   "cell_type": "markdown",
   "id": "fd214b11",
   "metadata": {},
   "source": [
    "## 프로즌 셋 처리"
   ]
  },
  {
   "cell_type": "code",
   "execution_count": 12,
   "id": "f6d87b16",
   "metadata": {},
   "outputs": [
    {
     "name": "stdout",
     "output_type": "stream",
     "text": [
      "__and__, __class__, __class_getitem__, __contains__, __delattr__, __dir__, __doc__, __eq__, __format__, __ge__, __getattribute__, __getstate__, __gt__, __hash__, __init__, __init_subclass__, __iter__, __le__, __len__, __lt__, __ne__, __new__, __or__, __rand__, __reduce__, __reduce_ex__, __repr__, __ror__, __rsub__, __rxor__, __setattr__, __sizeof__, __str__, __sub__, __subclasshook__, __xor__, copy, difference, intersection, isdisjoint, issubset, issuperset, symmetric_difference, union, "
     ]
    }
   ],
   "source": [
    "for i in dir(frozenset()) :\n",
    "    print(i, end=', ')"
   ]
  },
  {
   "cell_type": "markdown",
   "id": "a6121199",
   "metadata": {},
   "source": [
    "### 집합연산 메서드 처리 "
   ]
  },
  {
   "cell_type": "code",
   "execution_count": 13,
   "id": "5c10fbf4",
   "metadata": {},
   "outputs": [],
   "source": [
    "fa = frozenset(a)\n",
    "fb = frozenset(b)"
   ]
  },
  {
   "cell_type": "code",
   "execution_count": 14,
   "id": "a97c08fe",
   "metadata": {},
   "outputs": [
    {
     "data": {
      "text/plain": [
       "frozenset({2, 3})"
      ]
     },
     "execution_count": 14,
     "metadata": {},
     "output_type": "execute_result"
    }
   ],
   "source": [
    "fa.intersection(fb)"
   ]
  },
  {
   "cell_type": "code",
   "execution_count": 15,
   "id": "36a05265",
   "metadata": {},
   "outputs": [
    {
     "data": {
      "text/plain": [
       "frozenset({1, 2, 3, 4})"
      ]
     },
     "execution_count": 15,
     "metadata": {},
     "output_type": "execute_result"
    }
   ],
   "source": [
    "fa.union(fb)"
   ]
  },
  {
   "cell_type": "code",
   "execution_count": null,
   "id": "32ff17ba",
   "metadata": {},
   "outputs": [],
   "source": []
  },
  {
   "cell_type": "code",
   "execution_count": null,
   "id": "61fb8c97",
   "metadata": {},
   "outputs": [],
   "source": []
  },
  {
   "cell_type": "markdown",
   "id": "65a282b8",
   "metadata": {},
   "source": [
    "# 2. 딕셔너리 \n",
    "\n",
    "- 딕셔너리(Dictionary)는 키(Key)와 값(Value)의 쌍으로 이루어진 데이터 구조입\n",
    "- 딕셔너리는 중괄호 {}를 사용하여 정의하며, 각 키와 값은 콜론 :로 구분 \n",
    "- 키는 중복되지 않으며, 키를 사용하여 해당 값을 검색하거나 수정\n",
    "\n",
    "### 키와 값: \n",
    "- 딕셔너리는 키와 값의 쌍으로 데이터를 저장합니다. 각 키는 유일하며, 해당 키에 대응하는 값은 중복되지 않습니다.\n",
    "\n",
    "### 순서가 없음: \n",
    "- 파이썬 3.7 이전 버전에서는 딕셔너리의 순서가 보장되지 않았지만, \n",
    "- 파이썬 3.7부터는 순서가 보장되는 딕셔너리(ordered dictionary)가 기본적으로 사용\n",
    "\n",
    "### 변경 가능: \n",
    "- 딕셔너리는 추가, 삭제, 수정이 가능합니다.\n",
    "\n",
    "### 키 검색: \n",
    "- 딕셔너리는 키를 사용하여 해당 값에 접근할 수 있습니다.\n"
   ]
  },
  {
   "cell_type": "markdown",
   "id": "6a96a8b2",
   "metadata": {},
   "source": [
    "## 2-1 딕셔너리 생성하기"
   ]
  },
  {
   "cell_type": "markdown",
   "id": "d05e334a",
   "metadata": {},
   "source": [
    "## 2-1-1 리터럴로 생성하기"
   ]
  },
  {
   "cell_type": "markdown",
   "id": "d86f01f2",
   "metadata": {},
   "source": [
    "### 빈 딕셔너리 "
   ]
  },
  {
   "cell_type": "code",
   "execution_count": 16,
   "id": "caa8f171",
   "metadata": {},
   "outputs": [
    {
     "data": {
      "text/plain": [
       "{}"
      ]
     },
     "execution_count": 16,
     "metadata": {},
     "output_type": "execute_result"
    }
   ],
   "source": [
    "{}"
   ]
  },
  {
   "cell_type": "markdown",
   "id": "9ec490e1",
   "metadata": {},
   "source": [
    "### 값을 가진 딕셔너리 "
   ]
  },
  {
   "cell_type": "code",
   "execution_count": 17,
   "id": "d8604cf7",
   "metadata": {},
   "outputs": [],
   "source": [
    "d = {'a':1, 'b':2}"
   ]
  },
  {
   "cell_type": "markdown",
   "id": "ccd17524",
   "metadata": {},
   "source": [
    "## 2-1-2 생성자로 생성하기 : 두개 원소를 갖는 튜플로 만들고 dict로 객체 생성"
   ]
  },
  {
   "cell_type": "code",
   "execution_count": 18,
   "id": "5e29698e",
   "metadata": {},
   "outputs": [],
   "source": [
    "l = [1,2,3,4]\n",
    "s = list(\"abcd\")\n",
    "c = zip(s,l)                # 키와 값으로 처리할 수 있도록 두 원소를 갖는 튜플로 변환"
   ]
  },
  {
   "cell_type": "code",
   "execution_count": 19,
   "id": "b05def59",
   "metadata": {},
   "outputs": [
    {
     "data": {
      "text/plain": [
       "[('a', 1), ('b', 2), ('c', 3), ('d', 4)]"
      ]
     },
     "execution_count": 19,
     "metadata": {},
     "output_type": "execute_result"
    }
   ],
   "source": [
    "[*c]"
   ]
  },
  {
   "cell_type": "code",
   "execution_count": 20,
   "id": "00fc97db",
   "metadata": {},
   "outputs": [],
   "source": [
    "c = zip(s,l)\n",
    "dd = dict(c)"
   ]
  },
  {
   "cell_type": "code",
   "execution_count": 21,
   "id": "a32ebe69",
   "metadata": {},
   "outputs": [
    {
     "data": {
      "text/plain": [
       "{'a': 1, 'b': 2, 'c': 3, 'd': 4}"
      ]
     },
     "execution_count": 21,
     "metadata": {},
     "output_type": "execute_result"
    }
   ],
   "source": [
    "dd"
   ]
  },
  {
   "cell_type": "markdown",
   "id": "f1420576",
   "metadata": {},
   "source": [
    "## 2-2 딕셔너리 속성과 메서드 확인하기 "
   ]
  },
  {
   "cell_type": "code",
   "execution_count": 22,
   "id": "7cfcc95a",
   "metadata": {},
   "outputs": [
    {
     "name": "stdout",
     "output_type": "stream",
     "text": [
      "__class__, __class_getitem__, __contains__, __delattr__, __delitem__, __dir__, __doc__, __eq__, __format__, __ge__, __getattribute__, __getitem__, __getstate__, __gt__, __hash__, __init__, __init_subclass__, __ior__, __iter__, __le__, __len__, __lt__, __ne__, __new__, __or__, __reduce__, __reduce_ex__, __repr__, __reversed__, __ror__, __setattr__, __setitem__, __sizeof__, __str__, __subclasshook__, clear, copy, fromkeys, get, items, keys, pop, popitem, setdefault, update, values, "
     ]
    }
   ],
   "source": [
    "for i in dir(d) :\n",
    "    print(i, end=', ')"
   ]
  },
  {
   "cell_type": "code",
   "execution_count": null,
   "id": "135303b5",
   "metadata": {},
   "outputs": [],
   "source": []
  },
  {
   "cell_type": "code",
   "execution_count": null,
   "id": "108b4712",
   "metadata": {},
   "outputs": [],
   "source": []
  },
  {
   "cell_type": "markdown",
   "id": "cb5743a6",
   "metadata": {},
   "source": [
    "##  2-3 딕셔너리 원소 조회"
   ]
  },
  {
   "cell_type": "markdown",
   "id": "d85db8c9",
   "metadata": {},
   "source": [
    "### 2-3-1 딕셔너리 내부 원소 조회"
   ]
  },
  {
   "cell_type": "code",
   "execution_count": 23,
   "id": "98972052",
   "metadata": {},
   "outputs": [
    {
     "data": {
      "text/plain": [
       "dict_values([1, 2, 3, 4])"
      ]
     },
     "execution_count": 23,
     "metadata": {},
     "output_type": "execute_result"
    }
   ],
   "source": [
    "dd.values()              # 값 조회 "
   ]
  },
  {
   "cell_type": "code",
   "execution_count": 24,
   "id": "a71213e7",
   "metadata": {},
   "outputs": [
    {
     "data": {
      "text/plain": [
       "dict_keys(['a', 'b', 'c', 'd'])"
      ]
     },
     "execution_count": 24,
     "metadata": {},
     "output_type": "execute_result"
    }
   ],
   "source": [
    "dd.keys()                # 키 조회 "
   ]
  },
  {
   "cell_type": "code",
   "execution_count": 25,
   "id": "24242b34",
   "metadata": {},
   "outputs": [
    {
     "data": {
      "text/plain": [
       "dict_items([('a', 1), ('b', 2), ('c', 3), ('d', 4)])"
      ]
     },
     "execution_count": 25,
     "metadata": {},
     "output_type": "execute_result"
    }
   ],
   "source": [
    "dd.items()               # 키와 값을 쌍으로 조회"
   ]
  },
  {
   "cell_type": "markdown",
   "id": "edfc002a",
   "metadata": {},
   "source": [
    "### 2-3-2  개별 원소 조회하기 "
   ]
  },
  {
   "cell_type": "code",
   "execution_count": 26,
   "id": "b46c93da",
   "metadata": {},
   "outputs": [
    {
     "data": {
      "text/plain": [
       "1"
      ]
     },
     "execution_count": 26,
     "metadata": {},
     "output_type": "execute_result"
    }
   ],
   "source": [
    "dd['a']           # 키로 값을 조회 "
   ]
  },
  {
   "cell_type": "code",
   "execution_count": 27,
   "id": "1cfa33b8",
   "metadata": {},
   "outputs": [],
   "source": [
    "try :\n",
    "    dd['d']\n",
    "except Exception as e :\n",
    "    print(e)"
   ]
  },
  {
   "cell_type": "code",
   "execution_count": null,
   "id": "718c150c",
   "metadata": {},
   "outputs": [],
   "source": []
  },
  {
   "cell_type": "markdown",
   "id": "3a2f173e",
   "metadata": {},
   "source": [
    "### 2-3-3-  딕셔너리 메서드 조회\n",
    "\n",
    "- 특정 키가 없을 경우 초기값만 처리 : get\n",
    "- 특정 키가 없을 경우 주어진 키를 초기값으로 세팅하고 반환 : setdefault"
   ]
  },
  {
   "cell_type": "markdown",
   "id": "2ead8489",
   "metadata": {},
   "source": [
    "### 키가없을 경우 조회 "
   ]
  },
  {
   "cell_type": "code",
   "execution_count": 28,
   "id": "d6c5b53f",
   "metadata": {},
   "outputs": [
    {
     "data": {
      "text/plain": [
       "1"
      ]
     },
     "execution_count": 28,
     "metadata": {},
     "output_type": "execute_result"
    }
   ],
   "source": [
    "dd.get('a', 0)    # 메"
   ]
  },
  {
   "cell_type": "code",
   "execution_count": 29,
   "id": "382955bd",
   "metadata": {},
   "outputs": [
    {
     "data": {
      "text/plain": [
       "3"
      ]
     },
     "execution_count": 29,
     "metadata": {},
     "output_type": "execute_result"
    }
   ],
   "source": [
    "dd.get('c', 0)"
   ]
  },
  {
   "cell_type": "code",
   "execution_count": 30,
   "id": "2185913e",
   "metadata": {},
   "outputs": [
    {
     "data": {
      "text/plain": [
       "3"
      ]
     },
     "execution_count": 30,
     "metadata": {},
     "output_type": "execute_result"
    }
   ],
   "source": [
    "dd.setdefault('c', 0)"
   ]
  },
  {
   "cell_type": "code",
   "execution_count": 31,
   "id": "d0aaf27a",
   "metadata": {},
   "outputs": [
    {
     "data": {
      "text/plain": [
       "{'a': 1, 'b': 2, 'c': 3, 'd': 4}"
      ]
     },
     "execution_count": 31,
     "metadata": {},
     "output_type": "execute_result"
    }
   ],
   "source": [
    "dd"
   ]
  },
  {
   "cell_type": "code",
   "execution_count": null,
   "id": "92cbff2f",
   "metadata": {},
   "outputs": [],
   "source": []
  },
  {
   "cell_type": "markdown",
   "id": "2f6949aa",
   "metadata": {},
   "source": [
    "## 3. 컴프리헨션 \n",
    "\n",
    "- 리스트 처럼 집합과 딕셔너리도 컴프리헨션 표기법을 사용"
   ]
  },
  {
   "cell_type": "markdown",
   "id": "c430fa86",
   "metadata": {},
   "source": [
    "## 3-1 집합 컴프리헨션"
   ]
  },
  {
   "cell_type": "code",
   "execution_count": 32,
   "id": "f1534430",
   "metadata": {},
   "outputs": [],
   "source": [
    "s= { k  for k in [1,2,3,4]}"
   ]
  },
  {
   "cell_type": "code",
   "execution_count": 33,
   "id": "6d0be76c",
   "metadata": {},
   "outputs": [
    {
     "data": {
      "text/plain": [
       "{1, 2, 3, 4}"
      ]
     },
     "execution_count": 33,
     "metadata": {},
     "output_type": "execute_result"
    }
   ],
   "source": [
    "s"
   ]
  },
  {
   "cell_type": "markdown",
   "id": "ef140997",
   "metadata": {},
   "source": [
    "## 3-2 딕셔너리 컴프리헨션"
   ]
  },
  {
   "cell_type": "code",
   "execution_count": 34,
   "id": "d6c96585",
   "metadata": {},
   "outputs": [],
   "source": [
    "dd = { k : v for (k,v) in d.items()}"
   ]
  },
  {
   "cell_type": "code",
   "execution_count": 35,
   "id": "555a713c",
   "metadata": {},
   "outputs": [
    {
     "data": {
      "text/plain": [
       "{'a': 1, 'b': 2}"
      ]
     },
     "execution_count": 35,
     "metadata": {},
     "output_type": "execute_result"
    }
   ],
   "source": [
    "dd"
   ]
  },
  {
   "cell_type": "markdown",
   "id": "300f92b9",
   "metadata": {},
   "source": [
    "### 함수사용하기 "
   ]
  },
  {
   "cell_type": "code",
   "execution_count": 36,
   "id": "6b0d3558",
   "metadata": {},
   "outputs": [
    {
     "name": "stdout",
     "output_type": "stream",
     "text": [
      "{'apple': 5, 'banana': 6, 'cherry': 6, 'date': 4}\n"
     ]
    }
   ],
   "source": [
    "words = [\"apple\", \"banana\", \"cherry\", \"date\"]\n",
    "word_length_mapping = {word: len(word) for word in words}\n",
    "print(word_length_mapping)"
   ]
  },
  {
   "cell_type": "code",
   "execution_count": null,
   "id": "2ad5861b",
   "metadata": {},
   "outputs": [],
   "source": []
  },
  {
   "cell_type": "markdown",
   "id": "5e5b42e6",
   "metadata": {},
   "source": [
    "## 4. 제너레이터 표현식\n",
    "\n",
    "- 파이썬 제너레이터 표현식(Generator Expression)은 리스트 컴프리헨션과 비슷한 문법을 사용하여 제너레이터를 생성하는 방법\n",
    "- 제너레이터 표현식은 루프를 반복하면서 값을 생성하고 메모리를 효율적으로 사용할 수 있게 도와줌\n",
    "\n",
    "### 리스트 컴프리헨션과 제너레이터 표현식의 차이점:\n",
    "\n",
    "- 리스트 컴프리헨션은 리스트를 생성하여 메모리에 모든 값을 저장합니다.\n",
    "- 제너레이터 표현식은 값을 생성하는 제너레이터 객체를 반환하며, 값을 필요할 때마다 생성하여 메모리를 절약합니다."
   ]
  },
  {
   "cell_type": "code",
   "execution_count": 37,
   "id": "6ca9a528",
   "metadata": {},
   "outputs": [],
   "source": [
    "g = (x for x in range(1,10))"
   ]
  },
  {
   "cell_type": "code",
   "execution_count": 38,
   "id": "4e2befce",
   "metadata": {},
   "outputs": [
    {
     "data": {
      "text/plain": [
       "generator"
      ]
     },
     "execution_count": 38,
     "metadata": {},
     "output_type": "execute_result"
    }
   ],
   "source": [
    "g.__class__"
   ]
  },
  {
   "cell_type": "code",
   "execution_count": 39,
   "id": "f45892d8",
   "metadata": {},
   "outputs": [
    {
     "name": "stdout",
     "output_type": "stream",
     "text": [
      "1, 2, 3, 4, 5, 6, 7, 8, 9, "
     ]
    }
   ],
   "source": [
    "for i in g :\n",
    "    print(i, end=\", \")"
   ]
  },
  {
   "cell_type": "code",
   "execution_count": 40,
   "id": "de42d47a",
   "metadata": {},
   "outputs": [
    {
     "name": "stdout",
     "output_type": "stream",
     "text": [
      "더 이상 사용할 원소가 없음 \n"
     ]
    }
   ],
   "source": [
    "try :\n",
    "    next(g)\n",
    "except Exception as e :\n",
    "    print(\"더 이상 사용할 원소가 없음 \")"
   ]
  },
  {
   "cell_type": "code",
   "execution_count": null,
   "id": "0b7eae64",
   "metadata": {},
   "outputs": [],
   "source": []
  }
 ],
 "metadata": {
  "kernelspec": {
   "display_name": "Python 3 (ipykernel)",
   "language": "python",
   "name": "python3"
  },
  "language_info": {
   "codemirror_mode": {
    "name": "ipython",
    "version": 3
   },
   "file_extension": ".py",
   "mimetype": "text/x-python",
   "name": "python",
   "nbconvert_exporter": "python",
   "pygments_lexer": "ipython3",
   "version": "3.11.3"
  }
 },
 "nbformat": 4,
 "nbformat_minor": 5
}
