{
 "cells": [
  {
   "cell_type": "markdown",
   "id": "61a650e9",
   "metadata": {},
   "source": [
    "## 파이썬 버전 확인하기 "
   ]
  },
  {
   "cell_type": "code",
   "execution_count": 19,
   "id": "81f5343f",
   "metadata": {},
   "outputs": [],
   "source": [
    "import platform"
   ]
  },
  {
   "cell_type": "code",
   "execution_count": 20,
   "id": "3b35dcb5",
   "metadata": {},
   "outputs": [
    {
     "data": {
      "text/plain": [
       "'3.11.3'"
      ]
     },
     "execution_count": 20,
     "metadata": {},
     "output_type": "execute_result"
    }
   ],
   "source": [
    "platform.python_version()"
   ]
  },
  {
   "cell_type": "markdown",
   "id": "2c9f2d48",
   "metadata": {},
   "source": [
    "# 자료구조 알아보기"
   ]
  },
  {
   "cell_type": "markdown",
   "id": "44fba420",
   "metadata": {},
   "source": [
    "## 1. 시퀀스 알아보기 "
   ]
  },
  {
   "cell_type": "markdown",
   "id": "59e52d34",
   "metadata": {},
   "source": [
    "### 반복형 (Iterable):\n",
    "- 반복형은 내부에 __iter__ 메서드를 구현하고 있거나, __getitem__ 메서드를 구현하고 양의 정수 인덱스를 사용하여 항목에 접근할 수 있는 객체를 말합니다. 이러한 객체는 for 루프와 같은 반복 구조에서 사용될 수 있습니다. 리스트, 튜플, 문자열과 같은 시퀀스뿐만 아니라, 딕셔너리, 세트, 파일 객체 등이 반복형에 속합니다.\n",
    "\n",
    "### 반복자 (Iterator):\n",
    "- 반복자는 __iter__ 메서드와 __next__ 메서드를 구현한 객체로, __next__ 메서드를 호출하여 다음 항목을 순차적으로 반환합니다. \n",
    "- 반복형 중에서도 반복자를 생성할 수 있으며, iter() 함수를 사용하여 반복자 객체를 얻을 수 있습니다. \n",
    "- 반복자를 통해 항목들을 하나씩 순회할 수 있으며, for 루프는 내부적으로 반복자를 이용하여 반복(iteration)을 수행합니다.\n",
    "\n",
    "### 시퀀스 (Sequence):\n",
    "- 시퀀스는 반복형의 한 종류로, 순서가 있는 데이터의 집합을 말합니다. \n",
    "- 각 항목은 정수 인덱스를 이용하여 접근할 수 있습니다. \n",
    "- 리스트, 튜플, 문자열 등이 시퀀스에 속합니다. \n",
    "- 시퀀스는 반복형이기 때문에 for 루프를 통해 순회할 수 있고, 반복자를 이용하여도 순회할 수 있습니다. \n",
    "- 하지만 시퀀스는 추가적으로 슬라이싱, 항목 검색, 항목 치환 등 다양한 연산이 가능합니다."
   ]
  },
  {
   "cell_type": "code",
   "execution_count": null,
   "id": "d96719ac",
   "metadata": {},
   "outputs": [],
   "source": []
  },
  {
   "cell_type": "code",
   "execution_count": 1,
   "id": "5602b6e9",
   "metadata": {},
   "outputs": [],
   "source": [
    "import collections.abc as abc"
   ]
  },
  {
   "cell_type": "code",
   "execution_count": null,
   "id": "1e47f17f",
   "metadata": {},
   "outputs": [],
   "source": []
  },
  {
   "cell_type": "markdown",
   "id": "5203cecc",
   "metadata": {},
   "source": [
    "## 1-1. collection 추상 클래스 \n",
    "- Collection 추상 클래스는 컬렉션 객체의 추상화를 제공하는 역할을 합니다. \n",
    "- Collection 클래스는 Iterable, Sized, Container 추상 클래스를 상속받으며, 이들의 인터페이스를 구현해야 합니다\n"
   ]
  },
  {
   "cell_type": "code",
   "execution_count": null,
   "id": "8aa8cbe0",
   "metadata": {},
   "outputs": [],
   "source": []
  },
  {
   "cell_type": "markdown",
   "id": "2848086e",
   "metadata": {},
   "source": [
    "### Container 인터페이스 구현: \n",
    "- Collection은 __contains__ 메서드를 구현해야 합니다.\n",
    "- 이는 컬렉션 객체에 특정 요소가 포함되어 있는지를 확인하는데 사용됩니다."
   ]
  },
  {
   "cell_type": "code",
   "execution_count": 36,
   "id": "a1d0a729",
   "metadata": {},
   "outputs": [
    {
     "data": {
      "text/plain": [
       "[collections.abc.Collection]"
      ]
     },
     "execution_count": 36,
     "metadata": {},
     "output_type": "execute_result"
    }
   ],
   "source": [
    "abc.Container.__subclasses__()"
   ]
  },
  {
   "cell_type": "code",
   "execution_count": 42,
   "id": "89a599cb",
   "metadata": {},
   "outputs": [
    {
     "data": {
      "text/plain": [
       "frozenset({'__contains__'})"
      ]
     },
     "execution_count": 42,
     "metadata": {},
     "output_type": "execute_result"
    }
   ],
   "source": [
    "abc.Container.__abstractmethods__"
   ]
  },
  {
   "cell_type": "markdown",
   "id": "7dcb3958",
   "metadata": {},
   "source": [
    "###  Sized 인터페이스 구현: \n",
    "- Collection은 __len__ 메서드를 구현해야 합니다. \n",
    "- 이는 컬렉션 객체의 크기를 반환하게 만들어줍니다."
   ]
  },
  {
   "cell_type": "code",
   "execution_count": 37,
   "id": "67511aa4",
   "metadata": {},
   "outputs": [
    {
     "data": {
      "text/plain": [
       "[collections.abc.Collection, collections.abc.MappingView, __main__.MyList]"
      ]
     },
     "execution_count": 37,
     "metadata": {},
     "output_type": "execute_result"
    }
   ],
   "source": [
    "abc.Sized.__subclasses__()"
   ]
  },
  {
   "cell_type": "code",
   "execution_count": 43,
   "id": "3b7e1d96",
   "metadata": {},
   "outputs": [
    {
     "data": {
      "text/plain": [
       "frozenset({'__len__'})"
      ]
     },
     "execution_count": 43,
     "metadata": {},
     "output_type": "execute_result"
    }
   ],
   "source": [
    "abc.Sized.__abstractmethods__"
   ]
  },
  {
   "cell_type": "markdown",
   "id": "bf307a58",
   "metadata": {},
   "source": [
    "### Iterable 인터페이스 구현: \n",
    "- Collection은 __iter__ 메서드를 구현해야 합니다. \n",
    "- 이는 해당 컬렉션 객체를 이터레이션 가능하게 만들어줍니다. 따라서 for 루프와 같이 반복문에서 사용할 수 있도록 합니다."
   ]
  },
  {
   "cell_type": "code",
   "execution_count": 38,
   "id": "39e8e930",
   "metadata": {},
   "outputs": [
    {
     "data": {
      "text/plain": [
       "[collections.abc.Iterator,\n",
       " collections.abc.Reversible,\n",
       " collections.abc.Collection,\n",
       " __main__.MyIterable]"
      ]
     },
     "execution_count": 38,
     "metadata": {},
     "output_type": "execute_result"
    }
   ],
   "source": [
    "abc.Iterable.__subclasses__()"
   ]
  },
  {
   "cell_type": "code",
   "execution_count": 44,
   "id": "a0769bf8",
   "metadata": {},
   "outputs": [
    {
     "data": {
      "text/plain": [
       "frozenset({'__iter__'})"
      ]
     },
     "execution_count": 44,
     "metadata": {},
     "output_type": "execute_result"
    }
   ],
   "source": [
    "abc.Iterable.__abstractmethods__"
   ]
  },
  {
   "cell_type": "markdown",
   "id": "5c68fba8",
   "metadata": {},
   "source": [
    "### Collection 추상 클래스는 컬렉션 객체의 추상화를 제공하는 역할을 합니다. "
   ]
  },
  {
   "cell_type": "code",
   "execution_count": 41,
   "id": "cad69e1e",
   "metadata": {},
   "outputs": [
    {
     "data": {
      "text/plain": [
       "frozenset({'__contains__', '__iter__', '__len__'})"
      ]
     },
     "execution_count": 41,
     "metadata": {},
     "output_type": "execute_result"
    }
   ],
   "source": [
    "abc.Collection.__abstractmethods__"
   ]
  },
  {
   "cell_type": "code",
   "execution_count": 39,
   "id": "3f3dd805",
   "metadata": {},
   "outputs": [
    {
     "data": {
      "text/plain": [
       "[collections.abc.Set,\n",
       " collections.abc.Mapping,\n",
       " collections.abc.ValuesView,\n",
       " collections.abc.Sequence]"
      ]
     },
     "execution_count": 39,
     "metadata": {},
     "output_type": "execute_result"
    }
   ],
   "source": [
    "abc.Collection.__subclasses__()"
   ]
  },
  {
   "cell_type": "code",
   "execution_count": null,
   "id": "c2c813ba",
   "metadata": {},
   "outputs": [],
   "source": []
  },
  {
   "cell_type": "markdown",
   "id": "3f583c2c",
   "metadata": {},
   "source": [
    "## 1-2. Sequence 추상 클래스 확인하기 "
   ]
  },
  {
   "cell_type": "code",
   "execution_count": 40,
   "id": "0724bb94",
   "metadata": {},
   "outputs": [
    {
     "data": {
      "text/plain": [
       "[collections.abc.ByteString,\n",
       " collections.abc.MutableSequence,\n",
       " collections.UserString,\n",
       " pathlib._PathParents,\n",
       " pkg_resources._vendor.more_itertools.more.numeric_range,\n",
       " pkg_resources._vendor.more_itertools.more.SequenceView,\n",
       " __main__.CustomList]"
      ]
     },
     "execution_count": 40,
     "metadata": {},
     "output_type": "execute_result"
    }
   ],
   "source": [
    "abc.Sequence.__subclasses__()"
   ]
  },
  {
   "cell_type": "code",
   "execution_count": null,
   "id": "f94f9858",
   "metadata": {},
   "outputs": [],
   "source": []
  },
  {
   "cell_type": "code",
   "execution_count": null,
   "id": "254bc10e",
   "metadata": {},
   "outputs": [],
   "source": []
  },
  {
   "cell_type": "code",
   "execution_count": null,
   "id": "a8821125",
   "metadata": {},
   "outputs": [],
   "source": [
    "## 컬렉션 모듈"
   ]
  },
  {
   "cell_type": "code",
   "execution_count": 2,
   "id": "de0032fd",
   "metadata": {},
   "outputs": [
    {
     "data": {
      "text/plain": [
       "collections.abc.Sequence"
      ]
     },
     "execution_count": 2,
     "metadata": {},
     "output_type": "execute_result"
    }
   ],
   "source": [
    "abc.Sequence"
   ]
  },
  {
   "cell_type": "code",
   "execution_count": 3,
   "id": "73d4e898",
   "metadata": {},
   "outputs": [
    {
     "data": {
      "text/plain": [
       "['__abstractmethods__',\n",
       " '__class__',\n",
       " '__class_getitem__',\n",
       " '__contains__',\n",
       " '__delattr__',\n",
       " '__dir__',\n",
       " '__doc__',\n",
       " '__eq__',\n",
       " '__format__',\n",
       " '__ge__',\n",
       " '__getattribute__',\n",
       " '__getitem__',\n",
       " '__getstate__',\n",
       " '__gt__',\n",
       " '__hash__',\n",
       " '__init__',\n",
       " '__init_subclass__',\n",
       " '__iter__',\n",
       " '__le__',\n",
       " '__len__',\n",
       " '__lt__',\n",
       " '__module__',\n",
       " '__ne__',\n",
       " '__new__',\n",
       " '__reduce__',\n",
       " '__reduce_ex__',\n",
       " '__repr__',\n",
       " '__reversed__',\n",
       " '__setattr__',\n",
       " '__sizeof__',\n",
       " '__slots__',\n",
       " '__str__',\n",
       " '__subclasshook__',\n",
       " '_abc_impl',\n",
       " 'count',\n",
       " 'index']"
      ]
     },
     "execution_count": 3,
     "metadata": {},
     "output_type": "execute_result"
    }
   ],
   "source": [
    "dir(abc.Sequence)"
   ]
  },
  {
   "cell_type": "markdown",
   "id": "f1aae4dc",
   "metadata": {},
   "source": [
    "## 추상 클래스의 주요 메서드\n",
    "\n",
    "- 상속을 받은 클래스는 이를 정의해야 함 "
   ]
  },
  {
   "cell_type": "code",
   "execution_count": 4,
   "id": "b5e28165",
   "metadata": {},
   "outputs": [
    {
     "data": {
      "text/plain": [
       "frozenset({'__getitem__', '__len__'})"
      ]
     },
     "execution_count": 4,
     "metadata": {},
     "output_type": "execute_result"
    }
   ],
   "source": [
    "abc.Sequence.__abstractmethods__"
   ]
  },
  {
   "cell_type": "markdown",
   "id": "2297ea43",
   "metadata": {},
   "source": [
    "## 2. 제공하는  시퀀스 클래스 "
   ]
  },
  {
   "cell_type": "markdown",
   "id": "5386798d",
   "metadata": {},
   "source": [
    "## 2-1. 리스트\n",
    "\n",
    "- 가변 시퀀스 : "
   ]
  },
  {
   "cell_type": "code",
   "execution_count": null,
   "id": "bae86910",
   "metadata": {},
   "outputs": [],
   "source": []
  },
  {
   "cell_type": "code",
   "execution_count": 6,
   "id": "06ce67c4",
   "metadata": {},
   "outputs": [
    {
     "data": {
      "text/plain": [
       "True"
      ]
     },
     "execution_count": 6,
     "metadata": {},
     "output_type": "execute_result"
    }
   ],
   "source": [
    "issubclass(list, abc.Sequence)"
   ]
  },
  {
   "cell_type": "code",
   "execution_count": 5,
   "id": "18e9f6da",
   "metadata": {},
   "outputs": [
    {
     "name": "stdout",
     "output_type": "stream",
     "text": [
      "1\n",
      "banana\n",
      "[2, 3, 4]\n",
      "['apple', 'banana', 'orange', 'grape']\n",
      "['banana', 'orange', 'grape']\n"
     ]
    }
   ],
   "source": [
    "# 빈 리스트 생성\n",
    "empty_list = []\n",
    "\n",
    "# 숫자로 이루어진 리스트\n",
    "numbers = [1, 2, 3, 4, 5]\n",
    "\n",
    "# 문자열로 이루어진 리스트\n",
    "fruits = [\"apple\", \"banana\", \"orange\"]\n",
    "\n",
    "# 리스트 항목에 접근\n",
    "print(numbers[0])  # 출력: 1\n",
    "print(fruits[1])   # 출력: banana\n",
    "\n",
    "# 리스트 슬라이싱\n",
    "print(numbers[1:4])  # 출력: [2, 3, 4]\n",
    "\n",
    "# 리스트 항목 추가\n",
    "fruits.append(\"grape\")\n",
    "print(fruits)  # 출력: [\"apple\", \"banana\", \"orange\", \"grape\"]\n",
    "\n",
    "# 리스트 항목 제거\n",
    "fruits.remove(\"apple\")\n",
    "print(fruits)  # 출력: [\"banana\", \"orange\", \"grape\"]"
   ]
  },
  {
   "cell_type": "code",
   "execution_count": null,
   "id": "71120019",
   "metadata": {},
   "outputs": [],
   "source": []
  },
  {
   "cell_type": "markdown",
   "id": "a8f10603",
   "metadata": {},
   "source": [
    "## 2-2. 튜플\n",
    "\n",
    "- 불변 시퀀스 "
   ]
  },
  {
   "cell_type": "code",
   "execution_count": 9,
   "id": "dfd87fc8",
   "metadata": {},
   "outputs": [
    {
     "data": {
      "text/plain": [
       "True"
      ]
     },
     "execution_count": 9,
     "metadata": {},
     "output_type": "execute_result"
    }
   ],
   "source": [
    "issubclass(tuple, abc.Sequence)"
   ]
  },
  {
   "cell_type": "code",
   "execution_count": 8,
   "id": "282b1269",
   "metadata": {},
   "outputs": [
    {
     "name": "stdout",
     "output_type": "stream",
     "text": [
      "10\n",
      "blue\n",
      "('green', 'blue')\n"
     ]
    }
   ],
   "source": [
    "# 빈 튜플 생성\n",
    "empty_tuple = ()\n",
    "\n",
    "# 숫자로 이루어진 튜플\n",
    "point = (10, 20)\n",
    "\n",
    "# 문자열로 이루어진 튜플\n",
    "colors = (\"red\", \"green\", \"blue\")\n",
    "\n",
    "# 튜플 항목에 접근\n",
    "print(point[0])    # 출력: 10\n",
    "print(colors[2])   # 출력: blue\n",
    "\n",
    "# 튜플 슬라이싱\n",
    "print(colors[1:])  # 출력: (\"green\", \"blue\")"
   ]
  },
  {
   "cell_type": "code",
   "execution_count": null,
   "id": "0a22235d",
   "metadata": {},
   "outputs": [],
   "source": []
  },
  {
   "cell_type": "markdown",
   "id": "4e0b2ab4",
   "metadata": {},
   "source": [
    "## 2-3. 문자열\n",
    "\n",
    "- 불변 시퀀스"
   ]
  },
  {
   "cell_type": "code",
   "execution_count": 11,
   "id": "4e32a918",
   "metadata": {},
   "outputs": [
    {
     "data": {
      "text/plain": [
       "True"
      ]
     },
     "execution_count": 11,
     "metadata": {},
     "output_type": "execute_result"
    }
   ],
   "source": [
    "issubclass(str, abc.Sequence)"
   ]
  },
  {
   "cell_type": "code",
   "execution_count": 10,
   "id": "16fbf128",
   "metadata": {},
   "outputs": [
    {
     "name": "stdout",
     "output_type": "stream",
     "text": [
      "13\n",
      "H\n",
      "!\n",
      "World!\n"
     ]
    }
   ],
   "source": [
    "# 빈 문자열 생성\n",
    "empty_string = \"\"\n",
    "\n",
    "# 문자열\n",
    "greeting = \"Hello, World!\"\n",
    "\n",
    "# 문자열 길이 확인\n",
    "print(len(greeting))  # 출력: 13\n",
    "\n",
    "# 문자열 항목에 접근\n",
    "print(greeting[0])    # 출력: H\n",
    "print(greeting[-1])   # 출력: !\n",
    "\n",
    "# 문자열 슬라이싱\n",
    "print(greeting[7:])   # 출력: World!"
   ]
  },
  {
   "cell_type": "code",
   "execution_count": null,
   "id": "d66ea37b",
   "metadata": {},
   "outputs": [],
   "source": []
  },
  {
   "cell_type": "markdown",
   "id": "5a58611f",
   "metadata": {},
   "source": [
    "## 2-4. 사용자 정의 시퀀스 처리하기"
   ]
  },
  {
   "cell_type": "markdown",
   "id": "35e1e88b",
   "metadata": {},
   "source": [
    "### 불변 시퀀스 만들기 "
   ]
  },
  {
   "cell_type": "code",
   "execution_count": 17,
   "id": "974cecf3",
   "metadata": {},
   "outputs": [],
   "source": [
    "from collections.abc import Sequence\n",
    "\n",
    "class CustomList(Sequence):\n",
    "    def __init__(self, elements):\n",
    "        self.elements = elements\n",
    "\n",
    "    def __len__(self):\n",
    "        return len(self.elements)\n",
    "\n",
    "    def __getitem__(self, index):\n",
    "        return self.elements[index]\n",
    "\n",
    "    # 원하는 경우, __contains__ 메서드를 구현하여 `in` 연산자를 사용할 수도 있습니다.\n",
    "    def __contains__(self, item):\n",
    "         return item in self.elements\n",
    "\n"
   ]
  },
  {
   "cell_type": "code",
   "execution_count": 18,
   "id": "2a874a78",
   "metadata": {},
   "outputs": [
    {
     "name": "stdout",
     "output_type": "stream",
     "text": [
      "5\n",
      "1\n",
      "5\n",
      "[2, 3, 4]\n",
      "True\n",
      "False\n"
     ]
    }
   ],
   "source": [
    "# 사용자 정의 시퀀스 객체 생성\n",
    "custom_sequence = CustomList([1, 2, 3, 4, 5])\n",
    "\n",
    "# 시퀀스 길이 확인\n",
    "print(len(custom_sequence))  # 출력: 5\n",
    "\n",
    "# 시퀀스 항목에 접근\n",
    "print(custom_sequence[0])  # 출력: 1\n",
    "print(custom_sequence[-1])  # 출력: 5\n",
    "\n",
    "# 시퀀스 슬라이싱\n",
    "print(custom_sequence[1:4])  # 출력: [2, 3, 4]\n",
    "\n",
    "# `in` 연산자 사용 가능\n",
    "print(3 in custom_sequence)  # 출력: True\n",
    "print(6 in custom_sequence)  # 출력: False"
   ]
  },
  {
   "cell_type": "code",
   "execution_count": 16,
   "id": "ad2a7869",
   "metadata": {},
   "outputs": [
    {
     "data": {
      "text/plain": [
       "True"
      ]
     },
     "execution_count": 16,
     "metadata": {},
     "output_type": "execute_result"
    }
   ],
   "source": [
    "issubclass(CustomList, Sequence)"
   ]
  },
  {
   "cell_type": "markdown",
   "id": "7eca359f",
   "metadata": {},
   "source": [
    "### 가변시퀀스 만들기"
   ]
  },
  {
   "cell_type": "code",
   "execution_count": null,
   "id": "b2c1c9d6",
   "metadata": {},
   "outputs": [],
   "source": []
  },
  {
   "cell_type": "code",
   "execution_count": 47,
   "id": "7b0c0f12",
   "metadata": {},
   "outputs": [],
   "source": [
    "from collections.abc import MutableSequence\n",
    "\n",
    "class CustomList1(MutableSequence):\n",
    "    def __init__(self):\n",
    "        self.items = []\n",
    "\n",
    "    def __getitem__(self, index):\n",
    "        return self.items[index]\n",
    "\n",
    "    def __setitem__(self, index, value):\n",
    "        self.items[index] = value\n",
    "\n",
    "    def __delitem__(self, index):\n",
    "        del self.items[index]\n",
    "\n",
    "    def __len__(self):\n",
    "        return len(self.items)\n",
    "\n",
    "    def insert(self, index, value):\n",
    "        self.items.insert(index, value)\n",
    "\n",
    "    def __str__(self):\n",
    "        return str(self.items)\n"
   ]
  },
  {
   "cell_type": "code",
   "execution_count": null,
   "id": "f0058fed",
   "metadata": {},
   "outputs": [],
   "source": []
  },
  {
   "cell_type": "code",
   "execution_count": 48,
   "id": "3009782f",
   "metadata": {},
   "outputs": [
    {
     "name": "stdout",
     "output_type": "stream",
     "text": [
      "[1, 2, 3]\n",
      "[1, 10, 3]\n",
      "[10, 3]\n",
      "[10, 20, 3]\n"
     ]
    }
   ],
   "source": [
    "# 사용자 정의 가변 시퀀스 테스트\n",
    "my_list = CustomList1()\n",
    "my_list.append(1)\n",
    "my_list.append(2)\n",
    "my_list.append(3)\n",
    "print(my_list)  # 출력: [1, 2, 3]\n",
    "\n",
    "my_list[1] = 10\n",
    "print(my_list)  # 출력: [1, 10, 3]\n",
    "\n",
    "del my_list[0]\n",
    "print(my_list)  # 출력: [10, 3]\n",
    "\n",
    "my_list.insert(1, 20)\n",
    "print(my_list)  # 출력: [10, 20, 3]"
   ]
  },
  {
   "cell_type": "code",
   "execution_count": null,
   "id": "3074cacd",
   "metadata": {},
   "outputs": [],
   "source": []
  },
  {
   "cell_type": "markdown",
   "id": "92ac8b98",
   "metadata": {},
   "source": [
    "## 3.  반복형과 반복자 알아보기 "
   ]
  },
  {
   "cell_type": "code",
   "execution_count": null,
   "id": "009d358e",
   "metadata": {},
   "outputs": [],
   "source": []
  },
  {
   "cell_type": "markdown",
   "id": "83df70e8",
   "metadata": {},
   "source": [
    "## 3-1. 반복형(Iterable):\n",
    "- 반복형은 collections.abc.Iterable 추상 클래스를 상속하고 __iter__ 메서드를 구현하여 만들어집니다. \n",
    "- __iter__ 메서드는 반복자를 반환해야 합니다. 반복형은 for 루프를 사용하여 항목들을 반복하는 데 사용됩니다."
   ]
  },
  {
   "cell_type": "code",
   "execution_count": 21,
   "id": "28d0dd5d",
   "metadata": {},
   "outputs": [],
   "source": [
    "from collections.abc import Iterable"
   ]
  },
  {
   "cell_type": "code",
   "execution_count": 26,
   "id": "8abffc62",
   "metadata": {},
   "outputs": [
    {
     "data": {
      "text/plain": [
       "frozenset({'__iter__'})"
      ]
     },
     "execution_count": 26,
     "metadata": {},
     "output_type": "execute_result"
    }
   ],
   "source": [
    "Iterable.__abstractmethods__"
   ]
  },
  {
   "cell_type": "code",
   "execution_count": null,
   "id": "44eb8903",
   "metadata": {},
   "outputs": [],
   "source": []
  },
  {
   "cell_type": "code",
   "execution_count": 22,
   "id": "cae6c465",
   "metadata": {},
   "outputs": [
    {
     "name": "stdout",
     "output_type": "stream",
     "text": [
      "1\n",
      "2\n",
      "3\n",
      "4\n",
      "5\n"
     ]
    }
   ],
   "source": [
    "class MyIterable(Iterable):\n",
    "    def __init__(self, data):\n",
    "        self.data = data\n",
    "\n",
    "    def __iter__(self):\n",
    "        return iter(self.data)\n",
    "\n",
    "my_iterable = MyIterable([1, 2, 3, 4, 5])\n",
    "\n",
    "for item in my_iterable:\n",
    "    print(item)\n"
   ]
  },
  {
   "cell_type": "code",
   "execution_count": null,
   "id": "168dff92",
   "metadata": {},
   "outputs": [],
   "source": []
  },
  {
   "cell_type": "markdown",
   "id": "92423870",
   "metadata": {},
   "source": [
    "## 3-2. 반복자(Iterator):\n",
    "- 반복자는 collections.abc.Iterator 추상 클래스를 상속하고 __iter__와 __next__ 메서드를 구현하여 만들어집니다. \n",
    "- __iter__ 메서드는 자기 자신(반복자)를 반환하며, __next__ 메서드는 다음 항목을 반환합니다. \n",
    "- 반복자는 next() 함수를 사용하여 항목들을 하나씩 반복하는 데 사용됩니다."
   ]
  },
  {
   "cell_type": "code",
   "execution_count": 23,
   "id": "c3542350",
   "metadata": {},
   "outputs": [],
   "source": [
    "from collections.abc import Iterator"
   ]
  },
  {
   "cell_type": "code",
   "execution_count": 25,
   "id": "ef00b018",
   "metadata": {},
   "outputs": [
    {
     "data": {
      "text/plain": [
       "frozenset({'__next__'})"
      ]
     },
     "execution_count": 25,
     "metadata": {},
     "output_type": "execute_result"
    }
   ],
   "source": [
    "Iterator.__abstractmethods__"
   ]
  },
  {
   "cell_type": "code",
   "execution_count": null,
   "id": "8fd59ecc",
   "metadata": {},
   "outputs": [],
   "source": []
  },
  {
   "cell_type": "code",
   "execution_count": 24,
   "id": "994afaa6",
   "metadata": {},
   "outputs": [
    {
     "name": "stdout",
     "output_type": "stream",
     "text": [
      "1\n",
      "2\n",
      "3\n",
      "4\n",
      "5\n"
     ]
    }
   ],
   "source": [
    "class MyIterator(Iterator):\n",
    "    def __init__(self, data):\n",
    "        self.data = data\n",
    "        self.index = 0\n",
    "\n",
    "    def __iter__(self):\n",
    "        return self\n",
    "\n",
    "    def __next__(self):\n",
    "        if self.index < len(self.data):\n",
    "            item = self.data[self.index]\n",
    "            self.index += 1\n",
    "            return item\n",
    "        else:\n",
    "            raise StopIteration\n",
    "\n",
    "my_iterator = MyIterator([1, 2, 3, 4, 5])\n",
    "\n",
    "while True:\n",
    "    try:\n",
    "        item = next(my_iterator)\n",
    "        print(item)\n",
    "    except StopIteration:\n",
    "        break\n"
   ]
  },
  {
   "cell_type": "markdown",
   "id": "fcd07ab7",
   "metadata": {},
   "source": [
    "# 4. 추상클래스 간의 관계 "
   ]
  },
  {
   "cell_type": "markdown",
   "id": "ea557687",
   "metadata": {},
   "source": [
    "## 시퀀스와 사이즈드 추상클래스 관계 "
   ]
  },
  {
   "cell_type": "code",
   "execution_count": 31,
   "id": "5a95cae1",
   "metadata": {},
   "outputs": [],
   "source": [
    "from collections.abc import Sized"
   ]
  },
  {
   "cell_type": "code",
   "execution_count": 32,
   "id": "90d77ad1",
   "metadata": {},
   "outputs": [
    {
     "data": {
      "text/plain": [
       "frozenset({'__len__'})"
      ]
     },
     "execution_count": 32,
     "metadata": {},
     "output_type": "execute_result"
    }
   ],
   "source": [
    "Sized.__abstractmethods__"
   ]
  },
  {
   "cell_type": "code",
   "execution_count": 30,
   "id": "e99965cc",
   "metadata": {},
   "outputs": [
    {
     "data": {
      "text/plain": [
       "True"
      ]
     },
     "execution_count": 30,
     "metadata": {},
     "output_type": "execute_result"
    }
   ],
   "source": [
    "issubclass(Sequence, Sized)"
   ]
  },
  {
   "cell_type": "code",
   "execution_count": 35,
   "id": "853bb109",
   "metadata": {},
   "outputs": [
    {
     "data": {
      "text/plain": [
       "frozenset({'__getitem__', '__len__'})"
      ]
     },
     "execution_count": 35,
     "metadata": {},
     "output_type": "execute_result"
    }
   ],
   "source": [
    "Sequence.__abstractmethods__"
   ]
  },
  {
   "cell_type": "code",
   "execution_count": 33,
   "id": "08f23431",
   "metadata": {},
   "outputs": [
    {
     "data": {
      "text/plain": [
       "False"
      ]
     },
     "execution_count": 33,
     "metadata": {},
     "output_type": "execute_result"
    }
   ],
   "source": [
    "issubclass(Iterable, Sized)"
   ]
  },
  {
   "cell_type": "code",
   "execution_count": 34,
   "id": "86245c02",
   "metadata": {},
   "outputs": [
    {
     "data": {
      "text/plain": [
       "False"
      ]
     },
     "execution_count": 34,
     "metadata": {},
     "output_type": "execute_result"
    }
   ],
   "source": [
    "issubclass(Iterator, Sized)"
   ]
  },
  {
   "cell_type": "markdown",
   "id": "8cff93a6",
   "metadata": {},
   "source": [
    "## 4-1. 추상클래스 구현하기 "
   ]
  },
  {
   "cell_type": "code",
   "execution_count": 29,
   "id": "0f8483b7",
   "metadata": {},
   "outputs": [
    {
     "name": "stdout",
     "output_type": "stream",
     "text": [
      "5\n"
     ]
    }
   ],
   "source": [
    "class MyList(Sized):\n",
    "    def __init__(self, data):\n",
    "        self.data = data\n",
    "\n",
    "    def __len__(self):\n",
    "        return len(self.data)\n",
    "\n",
    "my_list = MyList([1, 2, 3, 4, 5])\n",
    "print(len(my_list))  # 출력: 5"
   ]
  },
  {
   "cell_type": "markdown",
   "id": "97726d99",
   "metadata": {},
   "source": [
    "## 4-2. 파이썬의 collections.abc 모듈 내의 추상 클래스들은 서로 상속 관계  "
   ]
  },
  {
   "cell_type": "markdown",
   "id": "2fe16042",
   "metadata": {},
   "source": [
    "### Iterable (반복형) → Sized (크기 정보 제공) → Container (멤버십 확인)\n",
    "\n",
    "- Iterable: __iter__ 메서드를 구현하여 반복 가능한 객체를 정의합니다.\n",
    "- Sized: __len__ 메서드를 구현하여 크기 정보를 제공하는 객체를 정의합니다.\n",
    "- Container: __contains__ 메서드를 구현하여 멤버십(원소 포함 여부)을 확인하는 객체를 정의합니다."
   ]
  },
  {
   "cell_type": "code",
   "execution_count": null,
   "id": "4646f81d",
   "metadata": {},
   "outputs": [],
   "source": []
  },
  {
   "cell_type": "code",
   "execution_count": null,
   "id": "ef4a2db4",
   "metadata": {},
   "outputs": [],
   "source": []
  },
  {
   "cell_type": "markdown",
   "id": "4006e3e8",
   "metadata": {},
   "source": [
    "### Iterable (반복형) → Iterator (반복자) → Generator (제너레이터)\n",
    "\n",
    "- Iterable: __iter__ 메서드를 구현하여 반복 가능한 객체를 정의합니다.\n",
    "- Iterator: __iter__와 __next__ 메서드를 구현하여 반복자 객체를 정의합니다.\n",
    "- Generator: 제너레이터 함수로부터 생성되는 반복자 객체를 정의합니다."
   ]
  },
  {
   "cell_type": "code",
   "execution_count": null,
   "id": "9ec0adc1",
   "metadata": {},
   "outputs": [],
   "source": []
  },
  {
   "cell_type": "code",
   "execution_count": null,
   "id": "f82b0649",
   "metadata": {},
   "outputs": [],
   "source": []
  },
  {
   "cell_type": "markdown",
   "id": "5c90a986",
   "metadata": {},
   "source": [
    "### Iterable (반복형) → Sequence (시퀀스) → MutableSequence (가변 시퀀스)\n",
    "\n",
    "- Iterable: __iter__ 메서드를 구현하여 반복 가능한 객체를 정의합니다.\n",
    "- Sequence: __getitem__, __len__ 메서드를 구현하여 시퀀스 객체를 정의합니다.\n",
    "- MutableSequence: 가변적인 시퀀스 객체를 정의합니다."
   ]
  },
  {
   "cell_type": "code",
   "execution_count": null,
   "id": "72671293",
   "metadata": {},
   "outputs": [],
   "source": []
  },
  {
   "cell_type": "markdown",
   "id": "b23fb548",
   "metadata": {},
   "source": [
    "    \n",
    "### Mapping (매핑) → MutableMapping (가변 매핑)\n",
    "\n",
    "- Mapping: __getitem__, __len__, keys, values, items 등의 메서드를 구현하여 매핑 객체를 정의합니다.\n",
    "- MutableMapping: 가변적인 매핑 객체를 정의합니다."
   ]
  },
  {
   "cell_type": "code",
   "execution_count": null,
   "id": "9df55261",
   "metadata": {},
   "outputs": [],
   "source": []
  }
 ],
 "metadata": {
  "kernelspec": {
   "display_name": "Python 3 (ipykernel)",
   "language": "python",
   "name": "python3"
  },
  "language_info": {
   "codemirror_mode": {
    "name": "ipython",
    "version": 3
   },
   "file_extension": ".py",
   "mimetype": "text/x-python",
   "name": "python",
   "nbconvert_exporter": "python",
   "pygments_lexer": "ipython3",
   "version": "3.11.3"
  }
 },
 "nbformat": 4,
 "nbformat_minor": 5
}
