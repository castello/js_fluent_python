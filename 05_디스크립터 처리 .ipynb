{
 "cells": [
  {
   "cell_type": "code",
   "execution_count": null,
   "id": "da67b973",
   "metadata": {},
   "outputs": [],
   "source": []
  },
  {
   "cell_type": "markdown",
   "id": "90e227f1",
   "metadata": {},
   "source": [
    "## 1. 디스크립터 프로토콜 "
   ]
  },
  {
   "cell_type": "markdown",
   "id": "07c01017",
   "metadata": {},
   "source": [
    "## 파이썬 디스크립터 프로토콜\n",
    "\n",
    "- 클래스의 속성(attribute) 접근을 제어하고 커스텀 동작을 정의하기 위한 프로토콜입니다. \n",
    "- 디스크립터는 `__get__`, `__set__`,` __delete__`, `__set_name__` 메서드를 구현하는 클래스로, \n",
    "- 이러한 메서드를 갖는 클래스를 디스크립터 클래스라고 합니다.\n",
    "\n",
    "## 디스크립터 프로토콜의 세 가지 메서드:\n",
    "\n",
    "### ` __get__`(self, instance, owner): \n",
    "- 속성에 접근할 때 호출되는 메서드입니다. \n",
    "- self는 디스크립터 인스턴스 자체를 가리키고, instance는 속성이 접근되는 객체를 가리킵니다. \n",
    "- owner는 속성이 속한 클래스를 가리킵니다. \n",
    "- 이 메서드를 구현하면 객체의 속성에 접근할 때 디스크립터의 동작을 정의할 수 있습니다.\n",
    "\n",
    "### `__set__`(self, instance, value): \n",
    "- 속성에 값을 할당할 때 호출되는 메서드입니다. \n",
    "- self는 디스크립터 인스턴스 자체를 가리키고, instance는 속성이 속한 객체를 가리킵니다. \n",
    "- value는 할당되는 값입니다. \n",
    "- 이 메서드를 구현하면 객체의 속성에 값을 할당할 때 디스크립터의 동작을 정의할 수 있습니다.\n",
    "\n",
    "### `__delete__`(self, instance): \n",
    "- 속성을 삭제할 때 호출되는 메서드입니다. \n",
    "- self는 디스크립터 인스턴스 자체를 가리키고, instance는 속성이 속한 객체를 가리킵니다.\n",
    "- 이 메서드를 구현하면 객체의 속성을 삭제할 때 디스크립터의 동작을 정의할 수 있습니다.\n",
    "\n",
    "###  `__set_name__`(self, owner,name) : \n",
    "- 파이썬 3.6 버전부터 추가된 디스크립터 프로토콜의 메서드입니다. \n",
    "- 이 메서드는 디스크립터를 클래스의 속성으로 할당할 때 호출되며, 속성의 이름과 속성이 속한 클래스에 대한 정보를 전달합니다.\n",
    "- owner: 디스크립터가 속한 클래스를 가리킵니다.\n",
    "- name: 디스크립터가 할당되는 속성의 이름을 가리킵니다.\n"
   ]
  },
  {
   "cell_type": "code",
   "execution_count": null,
   "id": "194a25b5",
   "metadata": {},
   "outputs": [],
   "source": []
  },
  {
   "cell_type": "markdown",
   "id": "999fe721",
   "metadata": {},
   "source": [
    "## 1-1 property "
   ]
  },
  {
   "cell_type": "code",
   "execution_count": null,
   "id": "e10e1a83",
   "metadata": {},
   "outputs": [],
   "source": [
    "class Person:\n",
    "    def __init__(self, name):\n",
    "        self._name = name\n",
    "\n",
    "    @property\n",
    "    def name(self):\n",
    "        return self._name\n",
    "\n",
    "    @name.setter\n",
    "    def name(self, value):\n",
    "        self._name = value\n",
    "\n",
    "# 사용 예시\n",
    "person = Person(\"Alice\")\n",
    "print(person.name)  # 출력: Alice\n",
    "\n",
    "person.name = \"Bob\"\n",
    "print(person.name)  # 출력: Bob\n"
   ]
  },
  {
   "cell_type": "code",
   "execution_count": null,
   "id": "b3681cc7",
   "metadata": {},
   "outputs": [],
   "source": []
  },
  {
   "cell_type": "markdown",
   "id": "3755a850",
   "metadata": {},
   "source": [
    "## 1-2  클래스 메서드"
   ]
  },
  {
   "cell_type": "code",
   "execution_count": null,
   "id": "c82f960b",
   "metadata": {},
   "outputs": [],
   "source": []
  },
  {
   "cell_type": "code",
   "execution_count": 5,
   "id": "0acea715",
   "metadata": {},
   "outputs": [
    {
     "name": "stdout",
     "output_type": "stream",
     "text": [
      "8\n"
     ]
    }
   ],
   "source": [
    "class MathUtils:\n",
    "    @classmethod\n",
    "    def add(cls, a, b):\n",
    "        return a + b\n",
    "\n",
    "# 사용 예시\n",
    "result = MathUtils.add(3, 5)\n",
    "print(result)  # 출력: 8"
   ]
  },
  {
   "cell_type": "code",
   "execution_count": null,
   "id": "8c85a483",
   "metadata": {},
   "outputs": [],
   "source": []
  },
  {
   "cell_type": "code",
   "execution_count": null,
   "id": "3cd00a7b",
   "metadata": {},
   "outputs": [],
   "source": []
  },
  {
   "cell_type": "markdown",
   "id": "3ae1fa5d",
   "metadata": {},
   "source": [
    "## 1-3 스태딕 메서드 "
   ]
  },
  {
   "cell_type": "code",
   "execution_count": null,
   "id": "4db9d373",
   "metadata": {},
   "outputs": [],
   "source": []
  },
  {
   "cell_type": "code",
   "execution_count": 6,
   "id": "20d1fe53",
   "metadata": {},
   "outputs": [
    {
     "name": "stdout",
     "output_type": "stream",
     "text": [
      "olleh\n"
     ]
    }
   ],
   "source": [
    "class StringUtils:\n",
    "    @staticmethod\n",
    "    def reverse(text):\n",
    "        return text[::-1]\n",
    "\n",
    "# 사용 예시\n",
    "result = StringUtils.reverse(\"hello\")\n",
    "print(result)  # 출력: olleh"
   ]
  },
  {
   "cell_type": "code",
   "execution_count": null,
   "id": "b74c8f09",
   "metadata": {},
   "outputs": [],
   "source": []
  },
  {
   "cell_type": "markdown",
   "id": "19b90f24",
   "metadata": {},
   "source": [
    "## 1-4 함수도 디스크립터\n",
    "\n",
    "### 파이썬에서 함수 또한 디스크립터로 동작합니다. \n",
    "\n",
    "- 함수를 디스크립터로 사용하면 함수에 접근할 때 해당 함수가 호출되는 것을 말합니다. \n",
    "- 이렇게 함수를 디스크립터로 사용하는 경우, 클래스의 메서드처럼 동작하면서도 추가적인 로직을 수행할 수 있게 됩니다.\n",
    "\n",
    "- 함수를 디스크립터로 사용하는 방법은 property와 유사합니다. \n",
    "- property와 달리 함수를 디스크립터로 사용하려면 `__get__`메서드만 구현하면 됩니다. \n",
    "- `__get__` 메서드는 함수가 호출될 때 어떤 동작을 할지를 정의합니다."
   ]
  },
  {
   "cell_type": "code",
   "execution_count": null,
   "id": "f5f5d6de",
   "metadata": {},
   "outputs": [],
   "source": []
  },
  {
   "cell_type": "code",
   "execution_count": 8,
   "id": "8c8dafd1",
   "metadata": {},
   "outputs": [
    {
     "name": "stdout",
     "output_type": "stream",
     "text": [
      "Hello, Alice!\n",
      "Goodbye, Bob!\n"
     ]
    }
   ],
   "source": [
    "class Greeting:\n",
    "    def __init__(self, greeting_text):\n",
    "        self.greeting_text = greeting_text\n",
    "\n",
    "    def greet(self, name):\n",
    "        return f\"{self.greeting_text}, {name}!\"\n",
    "\n",
    "    def __get__(self, instance, owner):\n",
    "        # instance는 클래스의 인스턴스, owner는 클래스 자체를 가리킴\n",
    "        return lambda name: self.greet(name)\n",
    "\n",
    "class MyClass:\n",
    "    hello = Greeting(\"Hello\")\n",
    "    goodbye = Greeting(\"Goodbye\")\n",
    "\n",
    "# 사용 예시\n",
    "obj = MyClass()\n",
    "print(obj.hello(\"Alice\"))   # 출력: Hello, Alice!\n",
    "print(obj.goodbye(\"Bob\"))   # 출력: Goodbye, Bob!\n"
   ]
  },
  {
   "cell_type": "code",
   "execution_count": null,
   "id": "8d4b7c93",
   "metadata": {},
   "outputs": [],
   "source": []
  },
  {
   "cell_type": "code",
   "execution_count": null,
   "id": "6ab0257b",
   "metadata": {},
   "outputs": [],
   "source": []
  },
  {
   "cell_type": "markdown",
   "id": "e1e6e378",
   "metadata": {},
   "source": [
    "#  2.  디스크립터 클래스 정의해서 사용하기 "
   ]
  },
  {
   "cell_type": "code",
   "execution_count": null,
   "id": "7b8dd190",
   "metadata": {},
   "outputs": [],
   "source": []
  },
  {
   "cell_type": "markdown",
   "id": "f80a8efa",
   "metadata": {},
   "source": [
    "## 2-1 디스크립터 정의 "
   ]
  },
  {
   "cell_type": "code",
   "execution_count": 3,
   "id": "6fe63875",
   "metadata": {},
   "outputs": [],
   "source": [
    "class CustomDescriptor:\n",
    "    def __set_name__(self, owner, name):\n",
    "        self.name = name\n",
    "\n",
    "    def __get__(self, instance, owner):\n",
    "        return instance.__dict__[self.name]\n",
    "\n",
    "    def __set__(self, instance, value):\n",
    "        instance.__dict__[self.name] = value\n",
    "\n",
    "class MyClass:\n",
    "    attribute = CustomDescriptor()\n"
   ]
  },
  {
   "cell_type": "code",
   "execution_count": 4,
   "id": "ae5698db",
   "metadata": {},
   "outputs": [
    {
     "name": "stdout",
     "output_type": "stream",
     "text": [
      "42\n"
     ]
    }
   ],
   "source": [
    "# 객체 생성\n",
    "obj = MyClass()\n",
    "\n",
    "# 디스크립터를 이용하여 속성 설정\n",
    "obj.attribute = 42\n",
    "\n",
    "# 디스크립터를 이용하여 속성 조회\n",
    "print(obj.attribute)  # 출력: 42"
   ]
  },
  {
   "cell_type": "code",
   "execution_count": null,
   "id": "bb80f903",
   "metadata": {},
   "outputs": [],
   "source": []
  },
  {
   "cell_type": "markdown",
   "id": "1670b2bb",
   "metadata": {},
   "source": [
    "## 2-2 데이터 디스크립터와 비 데이터 디스크립터 사용하기 "
   ]
  },
  {
   "cell_type": "markdown",
   "id": "adfc44ef",
   "metadata": {},
   "source": [
    "## 데이터 디스크립터 (Data Descriptor):\n",
    "- 데이터 디스크립터는 __set__ 메서드를 구현하고 있어서 속성의 값을 설정할 수 있습니다. \n",
    "- 즉, 디스크립터가 클래스의 속성으로 할당되면, 해당 속성에 값을 할당할 때 디스크립터의 __set__ 메서드가 호출되는 것을 말합니다. \n",
    "- 데이터 디스크립터는 속성의 값을 제어하는데 사용될 수 있습니다."
   ]
  },
  {
   "cell_type": "code",
   "execution_count": 9,
   "id": "a25b5f19",
   "metadata": {},
   "outputs": [],
   "source": [
    "class DataDescriptor:\n",
    "    def __set__(self, instance, value):\n",
    "        print(\"Setting value via data descriptor\")\n",
    "        instance._data = value"
   ]
  },
  {
   "cell_type": "markdown",
   "id": "65519e30",
   "metadata": {},
   "source": [
    "## 비데이터 디스크립터 (Non-Data Descriptor):\n",
    "- 비데이터 디스크립터는 __set__ 메서드를 구현하지 않아서 속성의 값을 설정할 수 없습니다. \n",
    "- 디스크립터가 클래스의 속성으로 할당되더라도, 해당 속성에 값을 할당할 때 디스크립터의 __set__ 메서드가 호출되지 않습니다. \n",
    "- 비데이터 디스크립터는 주로 속성의 값을 조회하거나 다른 계산에 사용될 때 유용하게 사용됩니다."
   ]
  },
  {
   "cell_type": "code",
   "execution_count": 10,
   "id": "2092fda9",
   "metadata": {},
   "outputs": [],
   "source": [
    "class NonDataDescriptor:\n",
    "    def __get__(self, instance, owner):\n",
    "        print(\"Getting value via non-data descriptor\")\n",
    "        return instance._data if hasattr(instance, \"_data\") else None"
   ]
  },
  {
   "cell_type": "code",
   "execution_count": null,
   "id": "f43b2f83",
   "metadata": {},
   "outputs": [],
   "source": []
  },
  {
   "cell_type": "code",
   "execution_count": 1,
   "id": "c2bb6880",
   "metadata": {},
   "outputs": [],
   "source": [
    "class MyClass:\n",
    "    data_attr = DataDescriptor()\n",
    "    non_data_attr = NonDataDescriptor()\n",
    "\n"
   ]
  },
  {
   "cell_type": "code",
   "execution_count": 2,
   "id": "06cbbbd7",
   "metadata": {},
   "outputs": [
    {
     "name": "stdout",
     "output_type": "stream",
     "text": [
      "Setting value via data descriptor\n",
      "<__main__.DataDescriptor object at 0x107b3e650>\n"
     ]
    }
   ],
   "source": [
    "obj = MyClass()\n",
    "\n",
    "obj.data_attr = 42\n",
    "# 출력: Setting value via data descriptor\n",
    "\n",
    "print(obj.data_attr)\n",
    "# 출력: Getting value via non-data descriptor\n",
    "# 출력: 42\n",
    "\n",
    "obj.non_data_attr = 10\n",
    "# TypeError: 'NonDataDescriptor' object is not callable"
   ]
  },
  {
   "cell_type": "code",
   "execution_count": null,
   "id": "9238990d",
   "metadata": {},
   "outputs": [],
   "source": []
  },
  {
   "cell_type": "code",
   "execution_count": null,
   "id": "83f156c3",
   "metadata": {},
   "outputs": [],
   "source": []
  },
  {
   "cell_type": "code",
   "execution_count": null,
   "id": "f616fc1d",
   "metadata": {},
   "outputs": [],
   "source": []
  }
 ],
 "metadata": {
  "kernelspec": {
   "display_name": "Python 3 (ipykernel)",
   "language": "python",
   "name": "python3"
  },
  "language_info": {
   "codemirror_mode": {
    "name": "ipython",
    "version": 3
   },
   "file_extension": ".py",
   "mimetype": "text/x-python",
   "name": "python",
   "nbconvert_exporter": "python",
   "pygments_lexer": "ipython3",
   "version": "3.11.3"
  }
 },
 "nbformat": 4,
 "nbformat_minor": 5
}
