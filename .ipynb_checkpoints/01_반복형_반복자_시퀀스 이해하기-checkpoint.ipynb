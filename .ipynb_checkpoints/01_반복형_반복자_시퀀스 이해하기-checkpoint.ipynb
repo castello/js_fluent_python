{
 "cells": [
  {
   "cell_type": "markdown",
   "id": "d6bcfe78",
   "metadata": {},
   "source": [
    "## 파이썬 버전 확인하기 "
   ]
  },
  {
   "cell_type": "code",
   "execution_count": 19,
   "id": "58af5e58",
   "metadata": {},
   "outputs": [],
   "source": [
    "import platform"
   ]
  },
  {
   "cell_type": "code",
   "execution_count": 20,
   "id": "2ada0056",
   "metadata": {},
   "outputs": [
    {
     "data": {
      "text/plain": [
       "'3.11.3'"
      ]
     },
     "execution_count": 20,
     "metadata": {},
     "output_type": "execute_result"
    }
   ],
   "source": [
    "platform.python_version()"
   ]
  },
  {
   "cell_type": "markdown",
   "id": "73cc0a96",
   "metadata": {},
   "source": [
    "# 반복형, 반복자, 시퀀스 알아보기"
   ]
  },
  {
   "cell_type": "markdown",
   "id": "fd9b118e",
   "metadata": {},
   "source": [
    "### 반복형 (Iterable):\n",
    "- 반복형은 내부에 __iter__ 메서드를 구현하고 있거나, __getitem__ 메서드를 구현하고 양의 정수 인덱스를 사용하여 항목에 접근할 수 있는 객체를 말합니다. 이러한 객체는 for 루프와 같은 반복 구조에서 사용될 수 있습니다. 리스트, 튜플, 문자열과 같은 시퀀스뿐만 아니라, 딕셔너리, 세트, 파일 객체 등이 반복형에 속합니다.\n",
    "\n",
    "### 반복자 (Iterator):\n",
    "- 반복자는 __iter__ 메서드와 __next__ 메서드를 구현한 객체로, __next__ 메서드를 호출하여 다음 항목을 순차적으로 반환합니다. \n",
    "- 반복형 중에서도 반복자를 생성할 수 있으며, iter() 함수를 사용하여 반복자 객체를 얻을 수 있습니다. \n",
    "- 반복자를 통해 항목들을 하나씩 순회할 수 있으며, for 루프는 내부적으로 반복자를 이용하여 반복(iteration)을 수행합니다.\n",
    "\n",
    "### 시퀀스 (Sequence):\n",
    "- 시퀀스는 반복형의 한 종류로, 순서가 있는 데이터의 집합을 말합니다. \n",
    "- 각 항목은 정수 인덱스를 이용하여 접근할 수 있습니다. \n",
    "- 리스트, 튜플, 문자열 등이 시퀀스에 속합니다. \n",
    "- 시퀀스는 반복형이기 때문에 for 루프를 통해 순회할 수 있고, 반복자를 이용하여도 순회할 수 있습니다. \n",
    "- 하지만 시퀀스는 추가적으로 슬라이싱, 항목 검색, 항목 치환 등 다양한 연산이 가능합니다."
   ]
  },
  {
   "cell_type": "code",
   "execution_count": null,
   "id": "dbe431e9",
   "metadata": {},
   "outputs": [],
   "source": []
  },
  {
   "cell_type": "code",
   "execution_count": null,
   "id": "b475fc78",
   "metadata": {},
   "outputs": [],
   "source": []
  },
  {
   "cell_type": "markdown",
   "id": "aace5bc8",
   "metadata": {},
   "source": [
    "## 1. Sequence 추상 클래스 확인하기 "
   ]
  },
  {
   "cell_type": "code",
   "execution_count": null,
   "id": "1b93a2bd",
   "metadata": {},
   "outputs": [],
   "source": []
  },
  {
   "cell_type": "code",
   "execution_count": null,
   "id": "92fd912e",
   "metadata": {},
   "outputs": [],
   "source": [
    "## 컬렉션 모듈"
   ]
  },
  {
   "cell_type": "code",
   "execution_count": 1,
   "id": "09baacdd",
   "metadata": {},
   "outputs": [],
   "source": [
    "import collections.abc as abc"
   ]
  },
  {
   "cell_type": "code",
   "execution_count": 2,
   "id": "e72dda77",
   "metadata": {},
   "outputs": [
    {
     "data": {
      "text/plain": [
       "collections.abc.Sequence"
      ]
     },
     "execution_count": 2,
     "metadata": {},
     "output_type": "execute_result"
    }
   ],
   "source": [
    "abc.Sequence"
   ]
  },
  {
   "cell_type": "code",
   "execution_count": 3,
   "id": "aecdec34",
   "metadata": {},
   "outputs": [
    {
     "data": {
      "text/plain": [
       "['__abstractmethods__',\n",
       " '__class__',\n",
       " '__class_getitem__',\n",
       " '__contains__',\n",
       " '__delattr__',\n",
       " '__dir__',\n",
       " '__doc__',\n",
       " '__eq__',\n",
       " '__format__',\n",
       " '__ge__',\n",
       " '__getattribute__',\n",
       " '__getitem__',\n",
       " '__getstate__',\n",
       " '__gt__',\n",
       " '__hash__',\n",
       " '__init__',\n",
       " '__init_subclass__',\n",
       " '__iter__',\n",
       " '__le__',\n",
       " '__len__',\n",
       " '__lt__',\n",
       " '__module__',\n",
       " '__ne__',\n",
       " '__new__',\n",
       " '__reduce__',\n",
       " '__reduce_ex__',\n",
       " '__repr__',\n",
       " '__reversed__',\n",
       " '__setattr__',\n",
       " '__sizeof__',\n",
       " '__slots__',\n",
       " '__str__',\n",
       " '__subclasshook__',\n",
       " '_abc_impl',\n",
       " 'count',\n",
       " 'index']"
      ]
     },
     "execution_count": 3,
     "metadata": {},
     "output_type": "execute_result"
    }
   ],
   "source": [
    "dir(abc.Sequence)"
   ]
  },
  {
   "cell_type": "markdown",
   "id": "1bcd066f",
   "metadata": {},
   "source": [
    "## 추상 클래스의 주요 메서드\n",
    "\n",
    "- 상속을 받은 클래스는 이를 정의해야 함 "
   ]
  },
  {
   "cell_type": "code",
   "execution_count": 4,
   "id": "aae93117",
   "metadata": {},
   "outputs": [
    {
     "data": {
      "text/plain": [
       "frozenset({'__getitem__', '__len__'})"
      ]
     },
     "execution_count": 4,
     "metadata": {},
     "output_type": "execute_result"
    }
   ],
   "source": [
    "abc.Sequence.__abstractmethods__"
   ]
  },
  {
   "cell_type": "code",
   "execution_count": null,
   "id": "99f4469d",
   "metadata": {},
   "outputs": [],
   "source": []
  },
  {
   "cell_type": "markdown",
   "id": "ac86897d",
   "metadata": {},
   "source": [
    "## 1-2. 리스트"
   ]
  },
  {
   "cell_type": "code",
   "execution_count": null,
   "id": "ac641543",
   "metadata": {},
   "outputs": [],
   "source": []
  },
  {
   "cell_type": "code",
   "execution_count": 6,
   "id": "7083f27f",
   "metadata": {},
   "outputs": [
    {
     "data": {
      "text/plain": [
       "True"
      ]
     },
     "execution_count": 6,
     "metadata": {},
     "output_type": "execute_result"
    }
   ],
   "source": [
    "issubclass(list, abc.Sequence)"
   ]
  },
  {
   "cell_type": "code",
   "execution_count": 5,
   "id": "f1e8096f",
   "metadata": {},
   "outputs": [
    {
     "name": "stdout",
     "output_type": "stream",
     "text": [
      "1\n",
      "banana\n",
      "[2, 3, 4]\n",
      "['apple', 'banana', 'orange', 'grape']\n",
      "['banana', 'orange', 'grape']\n"
     ]
    }
   ],
   "source": [
    "# 빈 리스트 생성\n",
    "empty_list = []\n",
    "\n",
    "# 숫자로 이루어진 리스트\n",
    "numbers = [1, 2, 3, 4, 5]\n",
    "\n",
    "# 문자열로 이루어진 리스트\n",
    "fruits = [\"apple\", \"banana\", \"orange\"]\n",
    "\n",
    "# 리스트 항목에 접근\n",
    "print(numbers[0])  # 출력: 1\n",
    "print(fruits[1])   # 출력: banana\n",
    "\n",
    "# 리스트 슬라이싱\n",
    "print(numbers[1:4])  # 출력: [2, 3, 4]\n",
    "\n",
    "# 리스트 항목 추가\n",
    "fruits.append(\"grape\")\n",
    "print(fruits)  # 출력: [\"apple\", \"banana\", \"orange\", \"grape\"]\n",
    "\n",
    "# 리스트 항목 제거\n",
    "fruits.remove(\"apple\")\n",
    "print(fruits)  # 출력: [\"banana\", \"orange\", \"grape\"]"
   ]
  },
  {
   "cell_type": "code",
   "execution_count": null,
   "id": "4ed97e68",
   "metadata": {},
   "outputs": [],
   "source": []
  },
  {
   "cell_type": "markdown",
   "id": "0f4cc578",
   "metadata": {},
   "source": [
    "## 1-3. 튜플"
   ]
  },
  {
   "cell_type": "code",
   "execution_count": 9,
   "id": "8aef6d35",
   "metadata": {},
   "outputs": [
    {
     "data": {
      "text/plain": [
       "True"
      ]
     },
     "execution_count": 9,
     "metadata": {},
     "output_type": "execute_result"
    }
   ],
   "source": [
    "issubclass(tuple, abc.Sequence)"
   ]
  },
  {
   "cell_type": "code",
   "execution_count": 8,
   "id": "0ca0d277",
   "metadata": {},
   "outputs": [
    {
     "name": "stdout",
     "output_type": "stream",
     "text": [
      "10\n",
      "blue\n",
      "('green', 'blue')\n"
     ]
    }
   ],
   "source": [
    "# 빈 튜플 생성\n",
    "empty_tuple = ()\n",
    "\n",
    "# 숫자로 이루어진 튜플\n",
    "point = (10, 20)\n",
    "\n",
    "# 문자열로 이루어진 튜플\n",
    "colors = (\"red\", \"green\", \"blue\")\n",
    "\n",
    "# 튜플 항목에 접근\n",
    "print(point[0])    # 출력: 10\n",
    "print(colors[2])   # 출력: blue\n",
    "\n",
    "# 튜플 슬라이싱\n",
    "print(colors[1:])  # 출력: (\"green\", \"blue\")"
   ]
  },
  {
   "cell_type": "code",
   "execution_count": null,
   "id": "c239ab32",
   "metadata": {},
   "outputs": [],
   "source": []
  },
  {
   "cell_type": "markdown",
   "id": "4101c12f",
   "metadata": {},
   "source": [
    "## 1-4. 문자열"
   ]
  },
  {
   "cell_type": "code",
   "execution_count": 11,
   "id": "ae37da3d",
   "metadata": {},
   "outputs": [
    {
     "data": {
      "text/plain": [
       "True"
      ]
     },
     "execution_count": 11,
     "metadata": {},
     "output_type": "execute_result"
    }
   ],
   "source": [
    "issubclass(str, abc.Sequence)"
   ]
  },
  {
   "cell_type": "code",
   "execution_count": 10,
   "id": "4a09b231",
   "metadata": {},
   "outputs": [
    {
     "name": "stdout",
     "output_type": "stream",
     "text": [
      "13\n",
      "H\n",
      "!\n",
      "World!\n"
     ]
    }
   ],
   "source": [
    "# 빈 문자열 생성\n",
    "empty_string = \"\"\n",
    "\n",
    "# 문자열\n",
    "greeting = \"Hello, World!\"\n",
    "\n",
    "# 문자열 길이 확인\n",
    "print(len(greeting))  # 출력: 13\n",
    "\n",
    "# 문자열 항목에 접근\n",
    "print(greeting[0])    # 출력: H\n",
    "print(greeting[-1])   # 출력: !\n",
    "\n",
    "# 문자열 슬라이싱\n",
    "print(greeting[7:])   # 출력: World!"
   ]
  },
  {
   "cell_type": "code",
   "execution_count": null,
   "id": "43868ab7",
   "metadata": {},
   "outputs": [],
   "source": []
  },
  {
   "cell_type": "markdown",
   "id": "33650fe3",
   "metadata": {},
   "source": [
    "## 1-5. 사용자 정의 시퀀스 처리하기"
   ]
  },
  {
   "cell_type": "code",
   "execution_count": null,
   "id": "fcd6e23b",
   "metadata": {},
   "outputs": [],
   "source": []
  },
  {
   "cell_type": "code",
   "execution_count": 17,
   "id": "d59219d1",
   "metadata": {},
   "outputs": [],
   "source": [
    "from collections.abc import Sequence\n",
    "\n",
    "class CustomList(Sequence):\n",
    "    def __init__(self, elements):\n",
    "        self.elements = elements\n",
    "\n",
    "    def __len__(self):\n",
    "        return len(self.elements)\n",
    "\n",
    "    def __getitem__(self, index):\n",
    "        return self.elements[index]\n",
    "\n",
    "    # 원하는 경우, __contains__ 메서드를 구현하여 `in` 연산자를 사용할 수도 있습니다.\n",
    "    def __contains__(self, item):\n",
    "         return item in self.elements\n",
    "\n"
   ]
  },
  {
   "cell_type": "code",
   "execution_count": 18,
   "id": "5affd81d",
   "metadata": {},
   "outputs": [
    {
     "name": "stdout",
     "output_type": "stream",
     "text": [
      "5\n",
      "1\n",
      "5\n",
      "[2, 3, 4]\n",
      "True\n",
      "False\n"
     ]
    }
   ],
   "source": [
    "# 사용자 정의 시퀀스 객체 생성\n",
    "custom_sequence = CustomList([1, 2, 3, 4, 5])\n",
    "\n",
    "# 시퀀스 길이 확인\n",
    "print(len(custom_sequence))  # 출력: 5\n",
    "\n",
    "# 시퀀스 항목에 접근\n",
    "print(custom_sequence[0])  # 출력: 1\n",
    "print(custom_sequence[-1])  # 출력: 5\n",
    "\n",
    "# 시퀀스 슬라이싱\n",
    "print(custom_sequence[1:4])  # 출력: [2, 3, 4]\n",
    "\n",
    "# `in` 연산자 사용 가능\n",
    "print(3 in custom_sequence)  # 출력: True\n",
    "print(6 in custom_sequence)  # 출력: False"
   ]
  },
  {
   "cell_type": "code",
   "execution_count": 16,
   "id": "f2eca22a",
   "metadata": {},
   "outputs": [
    {
     "data": {
      "text/plain": [
       "True"
      ]
     },
     "execution_count": 16,
     "metadata": {},
     "output_type": "execute_result"
    }
   ],
   "source": [
    "issubclass(CustomList, Sequence)"
   ]
  },
  {
   "cell_type": "code",
   "execution_count": null,
   "id": "aa74369e",
   "metadata": {},
   "outputs": [],
   "source": []
  },
  {
   "cell_type": "markdown",
   "id": "cdb7fba9",
   "metadata": {},
   "source": [
    "## 2 반복형과 반복자 알아보기 "
   ]
  },
  {
   "cell_type": "code",
   "execution_count": null,
   "id": "5e53a039",
   "metadata": {},
   "outputs": [],
   "source": []
  },
  {
   "cell_type": "code",
   "execution_count": null,
   "id": "dbad730e",
   "metadata": {},
   "outputs": [],
   "source": []
  },
  {
   "cell_type": "code",
   "execution_count": null,
   "id": "4e275b31",
   "metadata": {},
   "outputs": [],
   "source": []
  },
  {
   "cell_type": "code",
   "execution_count": null,
   "id": "bb5be15e",
   "metadata": {},
   "outputs": [],
   "source": []
  },
  {
   "cell_type": "code",
   "execution_count": null,
   "id": "bc9b3b13",
   "metadata": {},
   "outputs": [],
   "source": []
  }
 ],
 "metadata": {
  "kernelspec": {
   "display_name": "Python 3 (ipykernel)",
   "language": "python",
   "name": "python3"
  },
  "language_info": {
   "codemirror_mode": {
    "name": "ipython",
    "version": 3
   },
   "file_extension": ".py",
   "mimetype": "text/x-python",
   "name": "python",
   "nbconvert_exporter": "python",
   "pygments_lexer": "ipython3",
   "version": "3.11.3"
  }
 },
 "nbformat": 4,
 "nbformat_minor": 5
}
