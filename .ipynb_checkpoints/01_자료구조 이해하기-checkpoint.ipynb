{
 "cells": [
  {
   "cell_type": "markdown",
   "id": "932b9b51",
   "metadata": {},
   "source": [
    "## 파이썬 버전 확인하기 "
   ]
  },
  {
   "cell_type": "code",
   "execution_count": 1,
   "id": "a4eebb91",
   "metadata": {},
   "outputs": [],
   "source": [
    "import platform"
   ]
  },
  {
   "cell_type": "code",
   "execution_count": 2,
   "id": "47ef847a",
   "metadata": {},
   "outputs": [
    {
     "data": {
      "text/plain": [
       "'3.11.3'"
      ]
     },
     "execution_count": 2,
     "metadata": {},
     "output_type": "execute_result"
    }
   ],
   "source": [
    "platform.python_version()"
   ]
  },
  {
   "cell_type": "markdown",
   "id": "538d6674",
   "metadata": {},
   "source": [
    "# 자료구조 알아보기"
   ]
  },
  {
   "cell_type": "markdown",
   "id": "0b4c44bf",
   "metadata": {},
   "source": [
    "\n",
    "## 파이썬 자료구조를 구성할 때 추상 클래스(Abstract Base Class)를 사용하는 이유\n",
    "\n",
    "- 코드의 일관성, 유지보수성, 확장성, 그리고 문서화에 도움을 주기 위해서입니다. \n",
    "- 추상 클래스는 인터페이스를 정의하는데 사용되며, 해당 인터페이스를 따르는 하위 클래스들은 추상 클래스에서 정의한 메서드들을 구현해야 합니다. \n",
    "\n"
   ]
  },
  {
   "cell_type": "markdown",
   "id": "c2e05d27",
   "metadata": {},
   "source": [
    "## 추상 클래스를 사용하는 장점은 다음과 같습니다:\n",
    "\n",
    "### 인터페이스 정의: \n",
    "- 추상 클래스는 클래스가 가져야 하는 메서드와 속성들을 정의합니다. \n",
    "- 이를 통해 클래스가 어떤 동작을 해야 하는지 명확하게 정의할 수 있습니다.\n",
    "\n",
    "### 코드 일관성: \n",
    "- 추상 클래스를 사용하면 여러 클래스 간의 동작이 일관성 있게 유지됩니다. \n",
    "- 동일한 추상 클래스를 상속받는 클래스들은 해당 추상 클래스에서 정의한 메서드들을 반드시 구현해야 하므로, 공통된 기능을 보장받을 수 있습니다.\n",
    "\n",
    "### 유지보수성: \n",
    "- 추상 클래스를 사용하여 인터페이스를 정의하면, 코드를 수정해야 할 때 하위 클래스들의 구현도 함께 수정해야 함을 보장합니다. \n",
    "- 이는 코드 유지보수를 용이하게 만들어줍니다.\n",
    "\n",
    "### 확장성: \n",
    "- 새로운 클래스를 추가할 때 추상 클래스를 상속받아 해당 클래스가 정의한 인터페이스를 구현하도록 함으로써, 쉽게 확장할 수 있습니다.\n",
    "\n",
    "### 문서화: \n",
    "- 추상 클래스를 사용하면 해당 클래스가 가져야 하는 메서드와 속성들을 명시적으로 문서화할 수 있습니다. \n",
    "- 이는 코드의 이해도를 높이고, 다른 개발자들과의 협업을 용이하게 만듭니다.\n",
    "\n"
   ]
  },
  {
   "cell_type": "code",
   "execution_count": null,
   "id": "b0dbdc9b",
   "metadata": {},
   "outputs": [],
   "source": []
  },
  {
   "cell_type": "code",
   "execution_count": null,
   "id": "657d880d",
   "metadata": {},
   "outputs": [],
   "source": []
  },
  {
   "cell_type": "markdown",
   "id": "142a7d37",
   "metadata": {},
   "source": [
    "## 1. 시퀀스 알아보기 "
   ]
  },
  {
   "cell_type": "markdown",
   "id": "669a5687",
   "metadata": {},
   "source": [
    "### 반복형 (Iterable):\n",
    "- 반복형은 내부에 __iter__ 메서드를 구현하고 있거나, __getitem__ 메서드를 구현하고 양의 정수 인덱스를 사용하여 항목에 접근할 수 있는 객체를 말합니다. 이러한 객체는 for 루프와 같은 반복 구조에서 사용될 수 있습니다. 리스트, 튜플, 문자열과 같은 시퀀스뿐만 아니라, 딕셔너리, 세트, 파일 객체 등이 반복형에 속합니다.\n",
    "\n",
    "\n",
    "### 시퀀스 (Sequence):\n",
    "- 시퀀스는 반복형의 한 종류로, 순서가 있는 데이터의 집합을 말합니다. \n",
    "- 각 항목은 정수 인덱스를 이용하여 접근할 수 있습니다. \n",
    "- 리스트, 튜플, 문자열 등이 시퀀스에 속합니다. \n",
    "- 시퀀스는 반복형이기 때문에 for 루프를 통해 순회할 수 있고, 반복자를 이용하여도 순회할 수 있습니다. \n",
    "- 하지만 시퀀스는 추가적으로 슬라이싱, 항목 검색, 항목 치환 등 다양한 연산이 가능합니다."
   ]
  },
  {
   "cell_type": "code",
   "execution_count": null,
   "id": "a2098e22",
   "metadata": {},
   "outputs": [],
   "source": []
  },
  {
   "cell_type": "code",
   "execution_count": 3,
   "id": "680eecc7",
   "metadata": {},
   "outputs": [],
   "source": [
    "import collections.abc as abc"
   ]
  },
  {
   "cell_type": "code",
   "execution_count": null,
   "id": "87007bbc",
   "metadata": {},
   "outputs": [],
   "source": []
  },
  {
   "cell_type": "markdown",
   "id": "ed51df5b",
   "metadata": {},
   "source": [
    "## 1-1. collection 추상 클래스 \n",
    "- Collection 추상 클래스는 컬렉션 객체의 추상화를 제공하는 역할을 합니다. \n",
    "- Collection 클래스는 Iterable, Sized, Container 추상 클래스를 상속받으며, 이들의 인터페이스를 구현해야 합니다\n"
   ]
  },
  {
   "cell_type": "markdown",
   "id": "232900c6",
   "metadata": {},
   "source": [
    "## 1-1-1. 상위 추상클래스 확인하기 "
   ]
  },
  {
   "cell_type": "markdown",
   "id": "78364f2d",
   "metadata": {},
   "source": [
    "### Container 인터페이스 구현: \n",
    "- Collection은 __contains__ 메서드를 구현해야 합니다.\n",
    "- 이는 컬렉션 객체에 특정 요소가 포함되어 있는지를 확인하는데 사용됩니다."
   ]
  },
  {
   "cell_type": "code",
   "execution_count": 4,
   "id": "9980f9f4",
   "metadata": {},
   "outputs": [
    {
     "data": {
      "text/plain": [
       "[collections.abc.Collection]"
      ]
     },
     "execution_count": 4,
     "metadata": {},
     "output_type": "execute_result"
    }
   ],
   "source": [
    "abc.Container.__subclasses__()"
   ]
  },
  {
   "cell_type": "code",
   "execution_count": 5,
   "id": "d63d76d1",
   "metadata": {},
   "outputs": [
    {
     "data": {
      "text/plain": [
       "frozenset({'__contains__'})"
      ]
     },
     "execution_count": 5,
     "metadata": {},
     "output_type": "execute_result"
    }
   ],
   "source": [
    "abc.Container.__abstractmethods__"
   ]
  },
  {
   "cell_type": "markdown",
   "id": "9b3b9ad3",
   "metadata": {},
   "source": [
    "###  Sized 인터페이스 구현: \n",
    "- Collection은 __len__ 메서드를 구현해야 합니다. \n",
    "- 이는 컬렉션 객체의 크기를 반환하게 만들어줍니다."
   ]
  },
  {
   "cell_type": "code",
   "execution_count": 6,
   "id": "a3316004",
   "metadata": {},
   "outputs": [
    {
     "data": {
      "text/plain": [
       "[collections.abc.Collection, collections.abc.MappingView]"
      ]
     },
     "execution_count": 6,
     "metadata": {},
     "output_type": "execute_result"
    }
   ],
   "source": [
    "abc.Sized.__subclasses__()"
   ]
  },
  {
   "cell_type": "code",
   "execution_count": 7,
   "id": "5c297afb",
   "metadata": {},
   "outputs": [
    {
     "data": {
      "text/plain": [
       "frozenset({'__len__'})"
      ]
     },
     "execution_count": 7,
     "metadata": {},
     "output_type": "execute_result"
    }
   ],
   "source": [
    "abc.Sized.__abstractmethods__"
   ]
  },
  {
   "cell_type": "markdown",
   "id": "cac18603",
   "metadata": {},
   "source": [
    "### Iterable 인터페이스 구현: \n",
    "- Collection은 __iter__ 메서드를 구현해야 합니다. \n",
    "- 이는 해당 컬렉션 객체를 이터레이션 가능하게 만들어줍니다. 따라서 for 루프와 같이 반복문에서 사용할 수 있도록 합니다."
   ]
  },
  {
   "cell_type": "code",
   "execution_count": 8,
   "id": "c41455de",
   "metadata": {},
   "outputs": [
    {
     "data": {
      "text/plain": [
       "[collections.abc.Iterator,\n",
       " collections.abc.Reversible,\n",
       " collections.abc.Collection]"
      ]
     },
     "execution_count": 8,
     "metadata": {},
     "output_type": "execute_result"
    }
   ],
   "source": [
    "abc.Iterable.__subclasses__()"
   ]
  },
  {
   "cell_type": "code",
   "execution_count": 9,
   "id": "71fb5470",
   "metadata": {},
   "outputs": [
    {
     "data": {
      "text/plain": [
       "frozenset({'__iter__'})"
      ]
     },
     "execution_count": 9,
     "metadata": {},
     "output_type": "execute_result"
    }
   ],
   "source": [
    "abc.Iterable.__abstractmethods__"
   ]
  },
  {
   "cell_type": "markdown",
   "id": "b1bb041d",
   "metadata": {},
   "source": [
    "## 1-1-2. Collection 추상 클래스는 컬렉션 객체의 추상화를 제공하는 역할"
   ]
  },
  {
   "cell_type": "markdown",
   "id": "f9c7d889",
   "metadata": {},
   "source": [
    "### 반드시 구현해야할 메서드 "
   ]
  },
  {
   "cell_type": "code",
   "execution_count": 10,
   "id": "95ead6be",
   "metadata": {},
   "outputs": [
    {
     "data": {
      "text/plain": [
       "frozenset({'__contains__', '__iter__', '__len__'})"
      ]
     },
     "execution_count": 10,
     "metadata": {},
     "output_type": "execute_result"
    }
   ],
   "source": [
    "abc.Collection.__abstractmethods__"
   ]
  },
  {
   "cell_type": "markdown",
   "id": "c156424e",
   "metadata": {},
   "source": [
    "### 하위의 서브 클래스 확인하기"
   ]
  },
  {
   "cell_type": "code",
   "execution_count": 11,
   "id": "f9fc9e6d",
   "metadata": {},
   "outputs": [
    {
     "data": {
      "text/plain": [
       "[collections.abc.Set,\n",
       " collections.abc.Mapping,\n",
       " collections.abc.ValuesView,\n",
       " collections.abc.Sequence]"
      ]
     },
     "execution_count": 11,
     "metadata": {},
     "output_type": "execute_result"
    }
   ],
   "source": [
    "abc.Collection.__subclasses__()"
   ]
  },
  {
   "cell_type": "code",
   "execution_count": null,
   "id": "d5f7ac33",
   "metadata": {},
   "outputs": [],
   "source": []
  },
  {
   "cell_type": "markdown",
   "id": "81805cd3",
   "metadata": {},
   "source": [
    "## 1-2. Sequence 추상 클래스 확인하기 "
   ]
  },
  {
   "cell_type": "markdown",
   "id": "fd58952e",
   "metadata": {},
   "source": [
    "## 1-2-1  시퀀스 클래스 기준으로 가변과 불변 구분 "
   ]
  },
  {
   "cell_type": "code",
   "execution_count": 12,
   "id": "d7270eca",
   "metadata": {},
   "outputs": [
    {
     "data": {
      "text/plain": [
       "[collections.abc.ByteString,\n",
       " collections.abc.MutableSequence,\n",
       " collections.UserString,\n",
       " pathlib._PathParents,\n",
       " pkg_resources._vendor.more_itertools.more.numeric_range,\n",
       " pkg_resources._vendor.more_itertools.more.SequenceView]"
      ]
     },
     "execution_count": 12,
     "metadata": {},
     "output_type": "execute_result"
    }
   ],
   "source": [
    "abc.Sequence.__subclasses__()"
   ]
  },
  {
   "cell_type": "code",
   "execution_count": null,
   "id": "c26477f0",
   "metadata": {},
   "outputs": [],
   "source": []
  },
  {
   "cell_type": "code",
   "execution_count": null,
   "id": "c0e283de",
   "metadata": {},
   "outputs": [],
   "source": []
  },
  {
   "cell_type": "markdown",
   "id": "be3c41bb",
   "metadata": {},
   "source": [
    "## 1-2-2. 추상 클래스의 주요 메서드\n",
    "\n",
    "- 상속을 받은 클래스는 이를 정의해야 함 "
   ]
  },
  {
   "cell_type": "code",
   "execution_count": 13,
   "id": "6ab12dd4",
   "metadata": {},
   "outputs": [
    {
     "data": {
      "text/plain": [
       "frozenset({'__getitem__', '__len__'})"
      ]
     },
     "execution_count": 13,
     "metadata": {},
     "output_type": "execute_result"
    }
   ],
   "source": [
    "abc.Sequence.__abstractmethods__"
   ]
  },
  {
   "cell_type": "code",
   "execution_count": null,
   "id": "efe8e228",
   "metadata": {},
   "outputs": [],
   "source": []
  },
  {
   "cell_type": "code",
   "execution_count": null,
   "id": "b8d141db",
   "metadata": {},
   "outputs": [],
   "source": []
  },
  {
   "cell_type": "markdown",
   "id": "f2ef12a1",
   "metadata": {},
   "source": [
    "## 2. 제공하는  시퀀스 클래스 "
   ]
  },
  {
   "cell_type": "markdown",
   "id": "5fa5631a",
   "metadata": {},
   "source": [
    "## 2-1. 리스트\n",
    "\n",
    "- 가변 시퀀스 : "
   ]
  },
  {
   "cell_type": "code",
   "execution_count": null,
   "id": "fa60d086",
   "metadata": {},
   "outputs": [],
   "source": []
  },
  {
   "cell_type": "code",
   "execution_count": 14,
   "id": "53fc333f",
   "metadata": {},
   "outputs": [
    {
     "data": {
      "text/plain": [
       "(True, True)"
      ]
     },
     "execution_count": 14,
     "metadata": {},
     "output_type": "execute_result"
    }
   ],
   "source": [
    "issubclass(list, abc.Sequence), issubclass(list, abc.MutableSequence)"
   ]
  },
  {
   "cell_type": "code",
   "execution_count": 15,
   "id": "e97d74b8",
   "metadata": {},
   "outputs": [
    {
     "name": "stdout",
     "output_type": "stream",
     "text": [
      "1\n",
      "banana\n",
      "[2, 3, 4]\n",
      "['apple', 'banana', 'orange', 'grape']\n",
      "['banana', 'orange', 'grape']\n"
     ]
    }
   ],
   "source": [
    "# 빈 리스트 생성\n",
    "empty_list = []\n",
    "\n",
    "# 숫자로 이루어진 리스트\n",
    "numbers = [1, 2, 3, 4, 5]\n",
    "\n",
    "# 문자열로 이루어진 리스트\n",
    "fruits = [\"apple\", \"banana\", \"orange\"]\n",
    "\n",
    "# 리스트 항목에 접근\n",
    "print(numbers[0])  # 출력: 1\n",
    "print(fruits[1])   # 출력: banana\n",
    "\n",
    "# 리스트 슬라이싱\n",
    "print(numbers[1:4])  # 출력: [2, 3, 4]\n",
    "\n",
    "# 리스트 항목 추가\n",
    "fruits.append(\"grape\")\n",
    "print(fruits)  # 출력: [\"apple\", \"banana\", \"orange\", \"grape\"]\n",
    "\n",
    "# 리스트 항목 제거\n",
    "fruits.remove(\"apple\")\n",
    "print(fruits)  # 출력: [\"banana\", \"orange\", \"grape\"]"
   ]
  },
  {
   "cell_type": "code",
   "execution_count": null,
   "id": "4bba3010",
   "metadata": {},
   "outputs": [],
   "source": []
  },
  {
   "cell_type": "markdown",
   "id": "74aa38cb",
   "metadata": {},
   "source": [
    "## 2-2. 튜플\n",
    "\n",
    "- 불변 시퀀스 "
   ]
  },
  {
   "cell_type": "code",
   "execution_count": 16,
   "id": "cb00bd69",
   "metadata": {},
   "outputs": [
    {
     "data": {
      "text/plain": [
       "(True, False)"
      ]
     },
     "execution_count": 16,
     "metadata": {},
     "output_type": "execute_result"
    }
   ],
   "source": [
    "issubclass(tuple, abc.Sequence), issubclass(tuple, abc.MutableSequence)"
   ]
  },
  {
   "cell_type": "code",
   "execution_count": 17,
   "id": "85c2bc43",
   "metadata": {},
   "outputs": [
    {
     "name": "stdout",
     "output_type": "stream",
     "text": [
      "10\n",
      "blue\n",
      "('green', 'blue')\n"
     ]
    }
   ],
   "source": [
    "# 빈 튜플 생성\n",
    "empty_tuple = ()\n",
    "\n",
    "# 숫자로 이루어진 튜플\n",
    "point = (10, 20)\n",
    "\n",
    "# 문자열로 이루어진 튜플\n",
    "colors = (\"red\", \"green\", \"blue\")\n",
    "\n",
    "# 튜플 항목에 접근\n",
    "print(point[0])    # 출력: 10\n",
    "print(colors[2])   # 출력: blue\n",
    "\n",
    "# 튜플 슬라이싱\n",
    "print(colors[1:])  # 출력: (\"green\", \"blue\")"
   ]
  },
  {
   "cell_type": "code",
   "execution_count": null,
   "id": "fc11cc8c",
   "metadata": {},
   "outputs": [],
   "source": []
  },
  {
   "cell_type": "markdown",
   "id": "8162c0e3",
   "metadata": {},
   "source": [
    "## 2-3. 문자열\n",
    "\n",
    "- 불변 시퀀스"
   ]
  },
  {
   "cell_type": "code",
   "execution_count": 18,
   "id": "72d8b67b",
   "metadata": {},
   "outputs": [
    {
     "data": {
      "text/plain": [
       "(True, False)"
      ]
     },
     "execution_count": 18,
     "metadata": {},
     "output_type": "execute_result"
    }
   ],
   "source": [
    "issubclass(str, abc.Sequence), issubclass(str, abc.MutableSequence)"
   ]
  },
  {
   "cell_type": "code",
   "execution_count": 19,
   "id": "37bca218",
   "metadata": {},
   "outputs": [
    {
     "name": "stdout",
     "output_type": "stream",
     "text": [
      "13\n",
      "H\n",
      "!\n",
      "World!\n"
     ]
    }
   ],
   "source": [
    "# 빈 문자열 생성\n",
    "empty_string = \"\"\n",
    "\n",
    "# 문자열\n",
    "greeting = \"Hello, World!\"\n",
    "\n",
    "# 문자열 길이 확인\n",
    "print(len(greeting))  # 출력: 13\n",
    "\n",
    "# 문자열 항목에 접근\n",
    "print(greeting[0])    # 출력: H\n",
    "print(greeting[-1])   # 출력: !\n",
    "\n",
    "# 문자열 슬라이싱\n",
    "print(greeting[7:])   # 출력: World!"
   ]
  },
  {
   "cell_type": "code",
   "execution_count": null,
   "id": "0f768c32",
   "metadata": {},
   "outputs": [],
   "source": []
  },
  {
   "cell_type": "markdown",
   "id": "e18e429c",
   "metadata": {},
   "source": [
    "## 2-4. 사용자 정의 시퀀스 처리하기"
   ]
  },
  {
   "cell_type": "markdown",
   "id": "ed4b08d5",
   "metadata": {},
   "source": [
    "### 2-4-1. 불변 시퀀스 만들기 "
   ]
  },
  {
   "cell_type": "code",
   "execution_count": 20,
   "id": "07be0d5f",
   "metadata": {},
   "outputs": [],
   "source": [
    "from collections.abc import Sequence\n",
    "\n",
    "class CustomList(Sequence):\n",
    "    def __init__(self, elements):\n",
    "        self.elements = elements\n",
    "\n",
    "    def __len__(self):\n",
    "        return len(self.elements)\n",
    "\n",
    "    def __getitem__(self, index):\n",
    "        return self.elements[index]\n",
    "\n",
    "    # 원하는 경우, __contains__ 메서드를 구현하여 `in` 연산자를 사용할 수도 있습니다.\n",
    "    def __contains__(self, item):\n",
    "         return item in self.elements\n",
    "\n"
   ]
  },
  {
   "cell_type": "code",
   "execution_count": 21,
   "id": "a29a110b",
   "metadata": {},
   "outputs": [
    {
     "name": "stdout",
     "output_type": "stream",
     "text": [
      "5\n",
      "1\n",
      "5\n",
      "[2, 3, 4]\n",
      "True\n",
      "False\n"
     ]
    }
   ],
   "source": [
    "# 사용자 정의 시퀀스 객체 생성\n",
    "custom_sequence = CustomList([1, 2, 3, 4, 5])\n",
    "\n",
    "# 시퀀스 길이 확인\n",
    "print(len(custom_sequence))  # 출력: 5\n",
    "\n",
    "# 시퀀스 항목에 접근\n",
    "print(custom_sequence[0])  # 출력: 1\n",
    "print(custom_sequence[-1])  # 출력: 5\n",
    "\n",
    "# 시퀀스 슬라이싱\n",
    "print(custom_sequence[1:4])  # 출력: [2, 3, 4]\n",
    "\n",
    "# `in` 연산자 사용 가능\n",
    "print(3 in custom_sequence)  # 출력: True\n",
    "print(6 in custom_sequence)  # 출력: False"
   ]
  },
  {
   "cell_type": "code",
   "execution_count": 22,
   "id": "18cf74ef",
   "metadata": {},
   "outputs": [
    {
     "data": {
      "text/plain": [
       "True"
      ]
     },
     "execution_count": 22,
     "metadata": {},
     "output_type": "execute_result"
    }
   ],
   "source": [
    "issubclass(CustomList, Sequence)"
   ]
  },
  {
   "cell_type": "markdown",
   "id": "466731d2",
   "metadata": {},
   "source": [
    "### 2-4-2. 가변시퀀스 만들기"
   ]
  },
  {
   "cell_type": "code",
   "execution_count": null,
   "id": "587cc1d5",
   "metadata": {},
   "outputs": [],
   "source": []
  },
  {
   "cell_type": "code",
   "execution_count": 23,
   "id": "eefb1658",
   "metadata": {},
   "outputs": [],
   "source": [
    "from collections.abc import MutableSequence\n",
    "\n",
    "class CustomList1(MutableSequence):\n",
    "    def __init__(self):\n",
    "        self.items = []\n",
    "\n",
    "    def __getitem__(self, index):\n",
    "        return self.items[index]\n",
    "\n",
    "    def __setitem__(self, index, value):\n",
    "        self.items[index] = value\n",
    "\n",
    "    def __delitem__(self, index):\n",
    "        del self.items[index]\n",
    "\n",
    "    def __len__(self):\n",
    "        return len(self.items)\n",
    "\n",
    "    def insert(self, index, value):\n",
    "        self.items.insert(index, value)\n",
    "\n",
    "    def __str__(self):\n",
    "        return str(self.items)\n"
   ]
  },
  {
   "cell_type": "code",
   "execution_count": null,
   "id": "bfc1c157",
   "metadata": {},
   "outputs": [],
   "source": []
  },
  {
   "cell_type": "code",
   "execution_count": 24,
   "id": "c6708e2d",
   "metadata": {},
   "outputs": [
    {
     "name": "stdout",
     "output_type": "stream",
     "text": [
      "[1, 2, 3]\n",
      "[1, 10, 3]\n",
      "[10, 3]\n",
      "[10, 20, 3]\n"
     ]
    }
   ],
   "source": [
    "# 사용자 정의 가변 시퀀스 테스트\n",
    "my_list = CustomList1()\n",
    "my_list.append(1)\n",
    "my_list.append(2)\n",
    "my_list.append(3)\n",
    "print(my_list)  # 출력: [1, 2, 3]\n",
    "\n",
    "my_list[1] = 10\n",
    "print(my_list)  # 출력: [1, 10, 3]\n",
    "\n",
    "del my_list[0]\n",
    "print(my_list)  # 출력: [10, 3]\n",
    "\n",
    "my_list.insert(1, 20)\n",
    "print(my_list)  # 출력: [10, 20, 3]"
   ]
  },
  {
   "cell_type": "code",
   "execution_count": null,
   "id": "9b11c08e",
   "metadata": {},
   "outputs": [],
   "source": []
  },
  {
   "cell_type": "markdown",
   "id": "9d011618",
   "metadata": {},
   "source": [
    "## 3.  반복형과 반복자 알아보기 "
   ]
  },
  {
   "cell_type": "code",
   "execution_count": null,
   "id": "fa246618",
   "metadata": {},
   "outputs": [],
   "source": []
  },
  {
   "cell_type": "markdown",
   "id": "c9347959",
   "metadata": {},
   "source": [
    "## 3-1. 반복형(Iterable):\n",
    "- 반복형은 collections.abc.Iterable 추상 클래스를 상속하고 `__iter__ `메서드를 구현하여 만들어집니다. \n",
    "- `__iter__ `메서드는 반복자를 반환해야 합니다. 반복형은 for 루프를 사용하여 항목들을 반복하는 데 사용됩니다."
   ]
  },
  {
   "cell_type": "code",
   "execution_count": 25,
   "id": "1e1e746e",
   "metadata": {},
   "outputs": [],
   "source": [
    "from collections.abc import Iterable"
   ]
  },
  {
   "cell_type": "code",
   "execution_count": 26,
   "id": "0b16ce7b",
   "metadata": {},
   "outputs": [
    {
     "data": {
      "text/plain": [
       "frozenset({'__iter__'})"
      ]
     },
     "execution_count": 26,
     "metadata": {},
     "output_type": "execute_result"
    }
   ],
   "source": [
    "Iterable.__abstractmethods__"
   ]
  },
  {
   "cell_type": "code",
   "execution_count": null,
   "id": "ba2fe853",
   "metadata": {},
   "outputs": [],
   "source": []
  },
  {
   "cell_type": "code",
   "execution_count": 27,
   "id": "d6cbe4cd",
   "metadata": {},
   "outputs": [
    {
     "name": "stdout",
     "output_type": "stream",
     "text": [
      "1\n",
      "2\n",
      "3\n",
      "4\n",
      "5\n"
     ]
    }
   ],
   "source": [
    "class MyIterable(Iterable):\n",
    "    def __init__(self, data):\n",
    "        self.data = data\n",
    "\n",
    "    def __iter__(self):\n",
    "        return iter(self.data)\n",
    "\n",
    "my_iterable = MyIterable([1, 2, 3, 4, 5])\n",
    "\n",
    "for item in my_iterable:\n",
    "    print(item)\n"
   ]
  },
  {
   "cell_type": "code",
   "execution_count": null,
   "id": "f579af41",
   "metadata": {},
   "outputs": [],
   "source": []
  },
  {
   "cell_type": "markdown",
   "id": "cebe91e2",
   "metadata": {},
   "source": [
    "## 3-2. 반복자(Iterator):\n",
    "- 반복자는 collections.abc.Iterator 추상 클래스를 상속하고 `__iter__`와 `__next__ `메서드를 구현하여 만들어집니다. \n",
    "- `__iter__ `메서드는 자기 자신(반복자)를 반환하며, `__next__` 메서드는 다음 항목을 반환합니다. \n",
    "- 반복자는 next() 함수를 사용하여 항목들을 하나씩 반복하는 데 사용됩니다."
   ]
  },
  {
   "cell_type": "code",
   "execution_count": 28,
   "id": "55288a2b",
   "metadata": {},
   "outputs": [],
   "source": [
    "from collections.abc import Iterator"
   ]
  },
  {
   "cell_type": "code",
   "execution_count": 29,
   "id": "c63f4dcf",
   "metadata": {},
   "outputs": [
    {
     "data": {
      "text/plain": [
       "frozenset({'__next__'})"
      ]
     },
     "execution_count": 29,
     "metadata": {},
     "output_type": "execute_result"
    }
   ],
   "source": [
    "Iterator.__abstractmethods__"
   ]
  },
  {
   "cell_type": "code",
   "execution_count": null,
   "id": "8e213389",
   "metadata": {},
   "outputs": [],
   "source": []
  },
  {
   "cell_type": "code",
   "execution_count": 30,
   "id": "e3181004",
   "metadata": {},
   "outputs": [
    {
     "name": "stdout",
     "output_type": "stream",
     "text": [
      "1\n",
      "2\n",
      "3\n",
      "4\n",
      "5\n"
     ]
    }
   ],
   "source": [
    "class MyIterator(Iterator):\n",
    "    def __init__(self, data):\n",
    "        self.data = data\n",
    "        self.index = 0\n",
    "\n",
    "    def __iter__(self):\n",
    "        return self\n",
    "\n",
    "    def __next__(self):\n",
    "        if self.index < len(self.data):\n",
    "            item = self.data[self.index]\n",
    "            self.index += 1\n",
    "            return item\n",
    "        else:\n",
    "            raise StopIteration\n",
    "\n",
    "my_iterator = MyIterator([1, 2, 3, 4, 5])\n",
    "\n",
    "while True:\n",
    "    try:\n",
    "        item = next(my_iterator)\n",
    "        print(item)\n",
    "    except StopIteration:\n",
    "        break\n"
   ]
  },
  {
   "cell_type": "markdown",
   "id": "36e2b9db",
   "metadata": {},
   "source": [
    "# 4. 추상클래스 간의 관계 "
   ]
  },
  {
   "cell_type": "markdown",
   "id": "4c681407",
   "metadata": {},
   "source": [
    "## 4-1. 추상클래스 구현하기 "
   ]
  },
  {
   "cell_type": "code",
   "execution_count": null,
   "id": "ead9cbfd",
   "metadata": {},
   "outputs": [],
   "source": []
  },
  {
   "cell_type": "code",
   "execution_count": 31,
   "id": "4da9ef59",
   "metadata": {},
   "outputs": [],
   "source": [
    "from collections.abc import *"
   ]
  },
  {
   "cell_type": "code",
   "execution_count": 32,
   "id": "0765a9fd",
   "metadata": {},
   "outputs": [
    {
     "name": "stdout",
     "output_type": "stream",
     "text": [
      "5\n"
     ]
    }
   ],
   "source": [
    "class MyList(Sized):\n",
    "    def __init__(self, data):\n",
    "        self.data = data\n",
    "\n",
    "    def __len__(self):\n",
    "        return len(self.data)\n",
    "\n",
    "my_list = MyList([1, 2, 3, 4, 5])\n",
    "print(len(my_list))  # 출력: 5"
   ]
  },
  {
   "cell_type": "code",
   "execution_count": null,
   "id": "31afc68c",
   "metadata": {},
   "outputs": [],
   "source": []
  },
  {
   "cell_type": "code",
   "execution_count": null,
   "id": "9f377fa9",
   "metadata": {},
   "outputs": [],
   "source": []
  },
  {
   "cell_type": "markdown",
   "id": "941ad985",
   "metadata": {},
   "source": [
    "## 4-2. 파이썬의 collections.abc 모듈 내의 추상 클래스들은 서로 상속 관계  "
   ]
  },
  {
   "cell_type": "markdown",
   "id": "6687682d",
   "metadata": {},
   "source": [
    "### 4-2-1. Iterable (반복형) + Sized (크기 정보 제공)  + Container (멤버십 확인) ->  Collection\n",
    "\n",
    "- Iterable: `__iter__` 메서드를 구현하여 반복 가능한 객체를 정의합니다.\n",
    "- Sized:` __len__` 메서드를 구현하여 크기 정보를 제공하는 객체를 정의합니다.\n",
    "- Container: `__contains__` 메서드를 구현하여 멤버십(원소 포함 여부)을 확인하는 객체를 정의합니다."
   ]
  },
  {
   "cell_type": "code",
   "execution_count": 33,
   "id": "63414044",
   "metadata": {},
   "outputs": [
    {
     "data": {
      "text/plain": [
       "True"
      ]
     },
     "execution_count": 33,
     "metadata": {},
     "output_type": "execute_result"
    }
   ],
   "source": [
    "issubclass(Collection,Iterable)"
   ]
  },
  {
   "cell_type": "code",
   "execution_count": 34,
   "id": "43aba766",
   "metadata": {},
   "outputs": [
    {
     "data": {
      "text/plain": [
       "True"
      ]
     },
     "execution_count": 34,
     "metadata": {},
     "output_type": "execute_result"
    }
   ],
   "source": [
    "issubclass(Collection,Sized)"
   ]
  },
  {
   "cell_type": "code",
   "execution_count": 35,
   "id": "40364fd1",
   "metadata": {},
   "outputs": [
    {
     "data": {
      "text/plain": [
       "True"
      ]
     },
     "execution_count": 35,
     "metadata": {},
     "output_type": "execute_result"
    }
   ],
   "source": [
    "issubclass(Collection, Container)"
   ]
  },
  {
   "cell_type": "code",
   "execution_count": 36,
   "id": "8ff04a09",
   "metadata": {},
   "outputs": [
    {
     "data": {
      "text/plain": [
       "frozenset({'__contains__', '__iter__', '__len__'})"
      ]
     },
     "execution_count": 36,
     "metadata": {},
     "output_type": "execute_result"
    }
   ],
   "source": [
    "Collection.__abstractmethods__"
   ]
  },
  {
   "cell_type": "code",
   "execution_count": null,
   "id": "0e1e8f18",
   "metadata": {},
   "outputs": [],
   "source": []
  },
  {
   "cell_type": "markdown",
   "id": "0cb85af1",
   "metadata": {},
   "source": [
    "### 4-2-2. Iterable (반복형) → Iterator (반복자) → Generator (제너레이터)\n",
    "\n",
    "- Iterable:` __iter__` 메서드를 구현하여 반복 가능한 객체를 정의합니다.\n",
    "- Iterator: `__iter__와 `__next__` 메서드를 구현하여 반복자 객체를 정의합니다.\n",
    "- Generator: 제너레이터 함수로부터 생성되는 반복자 객체를 정의합니다."
   ]
  },
  {
   "cell_type": "code",
   "execution_count": null,
   "id": "7ed8ef44",
   "metadata": {},
   "outputs": [],
   "source": []
  },
  {
   "cell_type": "code",
   "execution_count": 37,
   "id": "feee4b84",
   "metadata": {},
   "outputs": [
    {
     "data": {
      "text/plain": [
       "True"
      ]
     },
     "execution_count": 37,
     "metadata": {},
     "output_type": "execute_result"
    }
   ],
   "source": [
    "issubclass(Iterator,Iterable)"
   ]
  },
  {
   "cell_type": "code",
   "execution_count": 38,
   "id": "7a601d43",
   "metadata": {},
   "outputs": [
    {
     "data": {
      "text/plain": [
       "True"
      ]
     },
     "execution_count": 38,
     "metadata": {},
     "output_type": "execute_result"
    }
   ],
   "source": [
    "issubclass(Generator, Iterator)"
   ]
  },
  {
   "cell_type": "code",
   "execution_count": 39,
   "id": "1db65d45",
   "metadata": {},
   "outputs": [
    {
     "data": {
      "text/plain": [
       "False"
      ]
     },
     "execution_count": 39,
     "metadata": {},
     "output_type": "execute_result"
    }
   ],
   "source": [
    "issubclass(Iterator,Collection)"
   ]
  },
  {
   "cell_type": "code",
   "execution_count": null,
   "id": "fca42611",
   "metadata": {},
   "outputs": [],
   "source": []
  },
  {
   "cell_type": "markdown",
   "id": "5fcdfa6f",
   "metadata": {},
   "source": [
    "    \n",
    "### 4-2-3. Mapping (매핑) → MutableMapping (가변 매핑)\n",
    "\n",
    "- Mapping: `__getitem__`,` __len__`, keys, values, items 등의 메서드를 구현하여 매핑 객체를 정의합니다.\n",
    "- MutableMapping: 가변적인 매핑 객체를 정의합니다."
   ]
  },
  {
   "cell_type": "code",
   "execution_count": 40,
   "id": "39935dc1",
   "metadata": {},
   "outputs": [
    {
     "data": {
      "text/plain": [
       "[collections.abc.MutableMapping,\n",
       " selectors._SelectorMapping,\n",
       " parso.python.tree.UsedNamesMapping]"
      ]
     },
     "execution_count": 40,
     "metadata": {},
     "output_type": "execute_result"
    }
   ],
   "source": [
    "Mapping.__subclasses__()"
   ]
  },
  {
   "cell_type": "code",
   "execution_count": 41,
   "id": "50d462e2",
   "metadata": {},
   "outputs": [
    {
     "data": {
      "text/plain": [
       "True"
      ]
     },
     "execution_count": 41,
     "metadata": {},
     "output_type": "execute_result"
    }
   ],
   "source": [
    "issubclass(Mapping,Iterable)"
   ]
  },
  {
   "cell_type": "code",
   "execution_count": 42,
   "id": "748dcf98",
   "metadata": {},
   "outputs": [
    {
     "data": {
      "text/plain": [
       "True"
      ]
     },
     "execution_count": 42,
     "metadata": {},
     "output_type": "execute_result"
    }
   ],
   "source": [
    "issubclass(Mapping,Collection)"
   ]
  },
  {
   "cell_type": "code",
   "execution_count": 43,
   "id": "dd88144e",
   "metadata": {},
   "outputs": [
    {
     "data": {
      "text/plain": [
       "False"
      ]
     },
     "execution_count": 43,
     "metadata": {},
     "output_type": "execute_result"
    }
   ],
   "source": [
    "issubclass(Mapping,Sequence)"
   ]
  },
  {
   "cell_type": "code",
   "execution_count": 44,
   "id": "b0ad45ab",
   "metadata": {},
   "outputs": [
    {
     "data": {
      "text/plain": [
       "True"
      ]
     },
     "execution_count": 44,
     "metadata": {},
     "output_type": "execute_result"
    }
   ],
   "source": [
    "issubclass(MutableMapping,Mapping)"
   ]
  },
  {
   "cell_type": "markdown",
   "id": "98ff7c79",
   "metadata": {},
   "source": [
    "### 4-2-3-1 매핑클래스 구현\n",
    "\n",
    "#### Mapping 추상 클래스는 다음과 같은 주요 메서드들을 구현해야 합니다:\n",
    "\n",
    "- `__getitem__`(key): 지정된 키에 해당하는 값을 반환합니다. 만약 키가 없으면 KeyError를 발생시킵니다.\n",
    "- `__iter__`(): 매핑 객체의 키들을 이터레이션 가능하게 만듭니다.\n",
    "- `__len__`(): 매핑 객체의 항목 수(키-값 쌍의 개수)를 반환합니다.\n",
    "- keys(): 매핑 객체의 모든 키들을 반환합니다.\n",
    "- values(): 매핑 객체의 모든 값들을 반환합니다.\n",
    "- items(): 매핑 객체의 모든 키-값 쌍들을 반환합니다."
   ]
  },
  {
   "cell_type": "code",
   "execution_count": 52,
   "id": "44dd9356",
   "metadata": {},
   "outputs": [],
   "source": [
    "from collections.abc import Mapping"
   ]
  },
  {
   "cell_type": "markdown",
   "id": "cf9fa2a2",
   "metadata": {},
   "source": [
    "#### 반드시 구현해야할 메서드 "
   ]
  },
  {
   "cell_type": "code",
   "execution_count": 53,
   "id": "5d3ea2cc",
   "metadata": {},
   "outputs": [
    {
     "data": {
      "text/plain": [
       "frozenset({'__getitem__', '__iter__', '__len__'})"
      ]
     },
     "execution_count": 53,
     "metadata": {},
     "output_type": "execute_result"
    }
   ],
   "source": [
    "Mapping.__abstractmethods__"
   ]
  },
  {
   "cell_type": "code",
   "execution_count": 47,
   "id": "4f554d39",
   "metadata": {},
   "outputs": [],
   "source": [
    "class MyMapping(Mapping):\n",
    "    def __init__(self, mapping_data):\n",
    "        self._data = mapping_data\n",
    "\n",
    "    def __getitem__(self, key):\n",
    "        return self._data[key]\n",
    "\n",
    "    def __iter__(self):\n",
    "        return iter(self._data)\n",
    "\n",
    "    def __len__(self):\n",
    "        return len(self._data)\n",
    "\n",
    "    def keys(self):\n",
    "        return self._data.keys()\n",
    "\n",
    "    def values(self):\n",
    "        return self._data.values()\n",
    "\n",
    "    def items(self):\n",
    "        return self._data.items()\n"
   ]
  },
  {
   "cell_type": "code",
   "execution_count": 46,
   "id": "275caed2",
   "metadata": {},
   "outputs": [
    {
     "name": "stdout",
     "output_type": "stream",
     "text": [
      "1\n",
      "['a', 'b', 'c']\n",
      "[1, 2, 3]\n",
      "[('a', 1), ('b', 2), ('c', 3)]\n",
      "3\n"
     ]
    }
   ],
   "source": [
    "# 사용자 정의 매핑 객체 테스트\n",
    "my_mapping = MyMapping({'a': 1, 'b': 2, 'c': 3})\n",
    "\n",
    "print(my_mapping['a'])          # 출력: 1\n",
    "print(list(my_mapping.keys()))  # 출력: ['a', 'b', 'c']\n",
    "print(list(my_mapping.values()))  # 출력: [1, 2, 3]\n",
    "print(list(my_mapping.items()))   # 출력: [('a', 1), ('b', 2), ('c', 3)]\n",
    "print(len(my_mapping))           # 출력: 3\n"
   ]
  },
  {
   "cell_type": "code",
   "execution_count": null,
   "id": "53b97b3b",
   "metadata": {},
   "outputs": [],
   "source": []
  },
  {
   "cell_type": "markdown",
   "id": "6a14e384",
   "metadata": {},
   "source": [
    "### 4-2-3-2. 가변 매핑 구현 \n",
    "\n",
    "\n",
    "#### MutableMapping 추상 클래스는 다음과 같은 주요 메서드들을 구현해야 합니다:\n",
    "\n",
    "- `__setitem__`(key, value): 지정된 키에 해당하는 값을 설정합니다. 만약 키가 이미 존재하면 해당 키의 값을 변경하고, 존재하지 않으면 새로운 키-값 쌍을 추가합니다.\n",
    "- `__delitem__`(key): 지정된 키와 해당하는 값을 삭제합니다. 만약 키가 존재하지 않으면 KeyError를 발생시킵니다.\n",
    "- clear(): 매핑 객체의 모든 키-값 쌍을 삭제하여 매핑을 비웁니다.\n",
    "- pop(key, default=None): 지정된 키와 해당하는 값을 삭제하고, 삭제한 값을 반환합니다. 만약 키가 존재하지 않으면 default 값이 반환됩니다.\n",
    "- popitem(): 매핑 객체에서 임의의 키-값 쌍을 삭제하고 해당 키-값 쌍을 반환합니다.\n",
    "- update(other): 다른 매핑 객체나 키-값 쌍의 시퀀스를 사용하여 매핑 객체를 갱신합니다."
   ]
  },
  {
   "cell_type": "code",
   "execution_count": 50,
   "id": "c0ab453e",
   "metadata": {},
   "outputs": [],
   "source": [
    "from collections.abc import MutableMapping"
   ]
  },
  {
   "cell_type": "markdown",
   "id": "bd8aa309",
   "metadata": {},
   "source": [
    "### 반드시 구현해야할 메서드 "
   ]
  },
  {
   "cell_type": "code",
   "execution_count": 51,
   "id": "2264ccd4",
   "metadata": {},
   "outputs": [
    {
     "data": {
      "text/plain": [
       "frozenset({'__delitem__', '__getitem__', '__iter__', '__len__', '__setitem__'})"
      ]
     },
     "execution_count": 51,
     "metadata": {},
     "output_type": "execute_result"
    }
   ],
   "source": [
    "MutableMapping.__abstractmethods__"
   ]
  },
  {
   "cell_type": "code",
   "execution_count": 48,
   "id": "7fbb6238",
   "metadata": {},
   "outputs": [],
   "source": [
    "class MyMutableMapping(MutableMapping):\n",
    "    def __init__(self, mapping_data=None):\n",
    "        self._data = {} if mapping_data is None else mapping_data\n",
    "\n",
    "    def __getitem__(self, key):\n",
    "        return self._data[key]\n",
    "\n",
    "    def __setitem__(self, key, value):\n",
    "        self._data[key] = value\n",
    "\n",
    "    def __delitem__(self, key):\n",
    "        del self._data[key]\n",
    "\n",
    "    def __iter__(self):\n",
    "        return iter(self._data)\n",
    "\n",
    "    def __len__(self):\n",
    "        return len(self._data)\n",
    "\n",
    "    def __repr__(self):\n",
    "        return repr(self._data)\n",
    "\n",
    "    def __str__(self):\n",
    "        return str(self._data)\n",
    "\n",
    "    def clear(self):\n",
    "        self._data.clear()\n",
    "\n",
    "    def pop(self, key, default=None):\n",
    "        return self._data.pop(key, default)\n",
    "\n",
    "    def popitem(self):\n",
    "        return self._data.popitem()\n",
    "\n",
    "    def update(self, other):\n",
    "        self._data.update(other)"
   ]
  },
  {
   "cell_type": "code",
   "execution_count": 49,
   "id": "6afed1f4",
   "metadata": {},
   "outputs": [
    {
     "name": "stdout",
     "output_type": "stream",
     "text": [
      "1\n",
      "{'a': 1, 'b': 2, 'c': 3, 'd': 4}\n",
      "{'a': 1, 'c': 3, 'd': 4}\n",
      "{}\n"
     ]
    }
   ],
   "source": [
    "# 사용자 정의 가변 매핑 객체 테스트\n",
    "my_mutable_mapping = MyMutableMapping({'a': 1, 'b': 2, 'c': 3})\n",
    "\n",
    "print(my_mutable_mapping['a'])      # 출력: 1\n",
    "my_mutable_mapping['d'] = 4\n",
    "print(my_mutable_mapping)          # 출력: {'a': 1, 'b': 2, 'c': 3, 'd': 4}\n",
    "\n",
    "del my_mutable_mapping['b']\n",
    "print(my_mutable_mapping)          # 출력: {'a': 1, 'c': 3, 'd': 4}\n",
    "\n",
    "my_mutable_mapping.clear()\n",
    "print(my_mutable_mapping)          # 출력: {}"
   ]
  },
  {
   "cell_type": "code",
   "execution_count": null,
   "id": "3f99b491",
   "metadata": {},
   "outputs": [],
   "source": []
  }
 ],
 "metadata": {
  "kernelspec": {
   "display_name": "Python 3 (ipykernel)",
   "language": "python",
   "name": "python3"
  },
  "language_info": {
   "codemirror_mode": {
    "name": "ipython",
    "version": 3
   },
   "file_extension": ".py",
   "mimetype": "text/x-python",
   "name": "python",
   "nbconvert_exporter": "python",
   "pygments_lexer": "ipython3",
   "version": "3.11.3"
  }
 },
 "nbformat": 4,
 "nbformat_minor": 5
}
