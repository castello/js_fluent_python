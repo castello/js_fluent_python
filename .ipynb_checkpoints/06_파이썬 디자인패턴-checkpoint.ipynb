{
 "cells": [
  {
   "cell_type": "code",
   "execution_count": null,
   "id": "b452f16d",
   "metadata": {},
   "outputs": [],
   "source": []
  },
  {
   "cell_type": "markdown",
   "id": "54d8f445",
   "metadata": {},
   "source": [
    "## 1. 파이썬 인터페이스 처리 패턴 "
   ]
  },
  {
   "cell_type": "markdown",
   "id": "5f882e76",
   "metadata": {},
   "source": [
    "## 덕 타이핑\n",
    "\n",
    "### 덕 타이핑(duck typing) \n",
    "- 파이썬에서 사용되는 동적 타이핑의 한 형태로, 객체의 타입보다는 객체의 속성과 메서드의 존재에 의존하는 프로그래밍 스타일을 말합니다.\n",
    "- 덕 타이핑은 \"오리처럼 걷고, 오리처럼 소리내고, 오리처럼 헤엄치면 그것은 오리다\"라는 유명한 표현에서 유래한 개념입니다. \n",
    "- 즉, 어떤 객체가 특정한 속성이나 메서드를 지원하는지를 검사하는 대신, 해당 속성이나 메서드의 존재 여부를 확인하여 객체를 사용하는 것을 말합니다.\n",
    "\n",
    "- 덕 타이핑은 인터페이스(interface)의 명시적인 정의가 없는 파이썬과 같은 동적 타이핑 언어에서 자주 활용되며, \n",
    "- 객체가 어떤 특정한 인터페이스를 구현하지 않더라도 해당 인터페이스에 필요한 메서드나 속성이 존재한다면 그 객체를 해당 인터페이스의 구현체로 간주합니다."
   ]
  },
  {
   "cell_type": "code",
   "execution_count": null,
   "id": "19ace271",
   "metadata": {},
   "outputs": [],
   "source": []
  },
  {
   "cell_type": "code",
   "execution_count": 1,
   "id": "52a30360",
   "metadata": {},
   "outputs": [
    {
     "name": "stdout",
     "output_type": "stream",
     "text": [
      "Woof!\n",
      "Meow!\n",
      "Quack!\n"
     ]
    }
   ],
   "source": [
    "class Dog:\n",
    "    def speak(self):\n",
    "        return \"Woof!\"\n",
    "\n",
    "class Cat:\n",
    "    def speak(self):\n",
    "        return \"Meow!\"\n",
    "\n",
    "class Duck:\n",
    "    def speak(self):\n",
    "        return \"Quack!\"\n",
    "\n",
    "def animal_sound(animal):\n",
    "    return animal.speak()\n",
    "\n",
    "# 다양한 객체를 전달하여 animal_sound 함수 호출\n",
    "dog = Dog()\n",
    "cat = Cat()\n",
    "duck = Duck()\n",
    "\n",
    "print(animal_sound(dog))   # 출력: Woof!\n",
    "print(animal_sound(cat))   # 출력: Meow!\n",
    "print(animal_sound(duck))  # 출력: Quack!\n"
   ]
  },
  {
   "cell_type": "code",
   "execution_count": null,
   "id": "d3ce621e",
   "metadata": {},
   "outputs": [],
   "source": []
  },
  {
   "cell_type": "code",
   "execution_count": 2,
   "id": "eb6a5bdd",
   "metadata": {},
   "outputs": [
    {
     "name": "stdout",
     "output_type": "stream",
     "text": [
      "꽥꽥!\n",
      "멍멍!\n"
     ]
    }
   ],
   "source": [
    "# 동물 클래스\n",
    "class Animal:\n",
    "    def sound(self):\n",
    "        pass\n",
    "\n",
    "# 오리 클래스\n",
    "class Duck:\n",
    "    def sound(self):\n",
    "        print(\"꽥꽥!\")\n",
    "\n",
    "# 개 클래스\n",
    "class Dog:\n",
    "    def sound(self):\n",
    "        print(\"멍멍!\")\n",
    "\n",
    "# 덕 타이핑 함수\n",
    "def make_sound(animal):\n",
    "    animal.sound()\n",
    "\n",
    "# 오리와 개 객체 생성\n",
    "duck = Duck()\n",
    "dog = Dog()\n",
    "\n",
    "# 덕 타이핑 함수 호출\n",
    "make_sound(duck)  # 출력: 꽥꽥!\n",
    "make_sound(dog)   # 출력: 멍멍!\n"
   ]
  },
  {
   "cell_type": "code",
   "execution_count": null,
   "id": "81773a52",
   "metadata": {},
   "outputs": [],
   "source": []
  },
  {
   "cell_type": "markdown",
   "id": "32f3f566",
   "metadata": {},
   "source": [
    "## 믹스인\n",
    "\n",
    "\n",
    "- 믹스인(Mixin)은 코드 재사용과 다중 상속을 지원하는 디자인 패턴 중 하나입니다. \n",
    "- 믹스인은 다른 클래스에 기능을 제공하기 위해 단독으로 인스턴스화되지 않는 클래스를 말합니다. \n",
    "- 대신 다른 클래스들이 믹스인을 상속받아 해당 기능들을 확장하거나 재사용할 수 있도록 합니다.\n",
    "\n",
    "### 믹스인 클래스는 다음과 같은 특징을 가집니다:\n",
    "\n",
    "- 단독으로 인스턴스화되지 않습니다.\n",
    "- 다른 클래스에 기능을 제공하기 위해 디자인됩니다.\n",
    "- 보통 단일 기능 또는 관심사에 집중된 클래스입니다.\n"
   ]
  },
  {
   "cell_type": "code",
   "execution_count": 3,
   "id": "b3378a18",
   "metadata": {},
   "outputs": [
    {
     "name": "stdout",
     "output_type": "stream",
     "text": [
      "{\"name\": \"John\", \"age\": 30}\n"
     ]
    }
   ],
   "source": [
    "# 믹스인 클래스\n",
    "class JSONMixin:\n",
    "    def to_json(self):\n",
    "        import json\n",
    "        return json.dumps(self.__dict__)\n",
    "\n",
    "# 다른 클래스에 믹스인 적용\n",
    "class Person(JSONMixin):\n",
    "    def __init__(self, name, age):\n",
    "        self.name = name\n",
    "        self.age = age\n",
    "\n",
    "# 믹스인에 정의된 메서드 사용\n",
    "person = Person(\"John\", 30)\n",
    "json_data = person.to_json()\n",
    "print(json_data)  # 출력: {\"name\": \"John\", \"age\": 30}\n"
   ]
  },
  {
   "cell_type": "code",
   "execution_count": null,
   "id": "12aec3bc",
   "metadata": {},
   "outputs": [],
   "source": []
  },
  {
   "cell_type": "code",
   "execution_count": null,
   "id": "cc281358",
   "metadata": {},
   "outputs": [],
   "source": []
  },
  {
   "cell_type": "code",
   "execution_count": 4,
   "id": "c51afe57",
   "metadata": {},
   "outputs": [
    {
     "name": "stdout",
     "output_type": "stream",
     "text": [
      "{\"name\": \"John\", \"age\": 30}\n",
      "<Person>\n",
      "  <name>John</name>\n",
      "  <age>30</age>\n",
      "</Person>\n"
     ]
    }
   ],
   "source": [
    "# 믹스인 클래스 1\n",
    "class JSONMixin:\n",
    "    def to_json(self):\n",
    "        import json\n",
    "        return json.dumps(self.__dict__)\n",
    "\n",
    "# 믹스인 클래스 2\n",
    "class XMLMixin:\n",
    "    def to_xml(self):\n",
    "        xml = f\"<{self.__class__.__name__}>\\n\"\n",
    "        for key, value in self.__dict__.items():\n",
    "            xml += f\"  <{key}>{value}</{key}>\\n\"\n",
    "        xml += f\"</{self.__class__.__name__}>\"\n",
    "        return xml\n",
    "\n",
    "# 다른 클래스에 믹스인 적용\n",
    "class Person(JSONMixin, XMLMixin):\n",
    "    def __init__(self, name, age):\n",
    "        self.name = name\n",
    "        self.age = age\n",
    "\n",
    "# 믹스인에 정의된 메서드 사용\n",
    "person = Person(\"John\", 30)\n",
    "\n",
    "# JSON 직렬화\n",
    "json_data = person.to_json()\n",
    "print(json_data)  # 출력: {\"name\": \"John\", \"age\": 30}\n",
    "\n",
    "# XML 직렬화\n",
    "xml_data = person.to_xml()\n",
    "print(xml_data)\n",
    "\n"
   ]
  },
  {
   "cell_type": "code",
   "execution_count": null,
   "id": "74038be0",
   "metadata": {},
   "outputs": [],
   "source": []
  },
  {
   "cell_type": "markdown",
   "id": "913176e6",
   "metadata": {},
   "source": [
    "# 2. 디자인 패턴\n",
    "\n",
    "일부 파이썬 디자인 패턴들은 다음과 같습니다:\n",
    "\n",
    "- 싱글턴 패턴 (Singleton Pattern): 오직 하나의 인스턴스만을 갖도록 보장하는 패턴입니다.\n",
    "\n",
    "- 팩토리 패턴 (Factory Pattern): 객체 생성을 캡슐화하여 클라이언트에게 생성 과정을 노출하지 않고 객체를 생성하는 패턴입니다.\n",
    "\n",
    "- 어댑터 패턴 (Adapter Pattern): 서로 다른 인터페이스를 가진 클래스들을 함께 동작하도록 해주는 패턴입니다.\n",
    "\n",
    "- 데코레이터 패턴 (Decorator Pattern): 객체의 동작을 동적으로 확장하기 위해 사용되는 패턴입니다.\n",
    "\n",
    "- 옵서버 패턴 (Observer Pattern): 객체 간의 일대다 종속성을 정의하여 한 객체의 상태 변화가 다른 객체에게 알려주는 패턴입니다.\n",
    "\n",
    "- 전략 패턴 (Strategy Pattern): 동일한 문제를 해결하기 위해 서로 다른 알고리즘을 정의하고 각각을 캡슐화하여 상호 교환 가능하도록 하는 패턴입니다.\n",
    "\n",
    "- 커맨드 패턴 (Command Pattern): 요청을 객체의 형태로 캡슐화하여 다양한 요청, 큐, 로깅, 역순 또는 실행 취소 등을 지원하는 패턴입니다.\n",
    "\n",
    "- 템플릿 메서드 패턴 (Template Method Pattern): 알고리즘의 구조를 메서드에 정의하고 하위 클래스에서 알고리즘 구조의 일부를 재정의할 수 있도록 하는 패턴입니다.\n",
    "\n",
    "- 프록시 패턴 (Proxy Pattern): 다른 객체에 대한 인터페이스를 제공하여 접근을 제어하거나 추가적인 동작을 수행하는 패턴입니다.\n",
    "\n"
   ]
  },
  {
   "cell_type": "code",
   "execution_count": null,
   "id": "1fc5a364",
   "metadata": {},
   "outputs": [],
   "source": []
  },
  {
   "cell_type": "markdown",
   "id": "7de01efd",
   "metadata": {},
   "source": [
    "## 2-1. 싱글턴 패턴\n",
    "\n",
    "\n",
    "- 싱글턴 패턴(Singleton Pattern)은 객체지향 프로그래밍에서 사용되는 디자인 패턴 중 하나로, \n",
    "- 클래스의 인스턴스가 하나만 생성되도록 보장하는 패턴입니다. \n",
    "- 즉, 동일한 클래스로 여러 번 객체를 생성해도 항상 같은 인스턴스를 반환하는 것을 의미합니다. \n",
    "- 이를 통해 자원을 절약하고 객체 간의 데이터 공유를 용이하게 할 수 있습니다."
   ]
  },
  {
   "cell_type": "markdown",
   "id": "a60579d8",
   "metadata": {},
   "source": [
    "### 클래스 속성을 사용하는 방법 "
   ]
  },
  {
   "cell_type": "code",
   "execution_count": 5,
   "id": "c5431cd0",
   "metadata": {},
   "outputs": [
    {
     "name": "stdout",
     "output_type": "stream",
     "text": [
      "True\n"
     ]
    }
   ],
   "source": [
    "class Singleton:\n",
    "    _instance = None\n",
    "\n",
    "    def __new__(cls):\n",
    "        if cls._instance is None:\n",
    "            cls._instance = super(Singleton, cls).__new__(cls)\n",
    "        return cls._instance\n",
    "\n",
    "# 싱글턴 인스턴스 생성\n",
    "singleton1 = Singleton()\n",
    "singleton2 = Singleton()\n",
    "\n",
    "# 두 인스턴스는 동일한 객체를 참조함\n",
    "print(singleton1 is singleton2)  # 출력: True\n"
   ]
  },
  {
   "cell_type": "code",
   "execution_count": null,
   "id": "fd190659",
   "metadata": {},
   "outputs": [],
   "source": []
  },
  {
   "cell_type": "code",
   "execution_count": 6,
   "id": "900c414e",
   "metadata": {},
   "outputs": [
    {
     "name": "stdout",
     "output_type": "stream",
     "text": [
      "True\n"
     ]
    }
   ],
   "source": [
    "class SingletonClass:\n",
    "    _instance = None\n",
    "\n",
    "    def __new__(cls, *args, **kwargs):\n",
    "        if cls._instance is None:\n",
    "            cls._instance = super().__new__(cls)\n",
    "        return cls._instance\n",
    "\n",
    "# 테스트\n",
    "singleton_instance1 = SingletonClass()\n",
    "singleton_instance2 = SingletonClass()\n",
    "\n",
    "print(singleton_instance1 is singleton_instance2)  # 출력: True\n"
   ]
  },
  {
   "cell_type": "markdown",
   "id": "fc54cb41",
   "metadata": {},
   "source": [
    "### 모듈을 사용하기"
   ]
  },
  {
   "cell_type": "code",
   "execution_count": 7,
   "id": "320c3156",
   "metadata": {},
   "outputs": [
    {
     "name": "stdout",
     "output_type": "stream",
     "text": [
      "Writing singletonclass.py\n"
     ]
    }
   ],
   "source": [
    "%%writefile singletonclass.py\n",
    "\n",
    "class SingletonClass:\n",
    "    _instance = None\n",
    "\n",
    "    def __new__(cls, *args, **kwargs):\n",
    "        if cls._instance is None:\n",
    "            cls._instance = super().__new__(cls)\n",
    "        return cls._instance\n",
    "    \n",
    "singleton_instance = SingletonClass()"
   ]
  },
  {
   "cell_type": "code",
   "execution_count": null,
   "id": "a3bac515",
   "metadata": {},
   "outputs": [],
   "source": []
  },
  {
   "cell_type": "code",
   "execution_count": 8,
   "id": "fc577ddb",
   "metadata": {},
   "outputs": [
    {
     "name": "stdout",
     "output_type": "stream",
     "text": [
      "True\n"
     ]
    }
   ],
   "source": [
    "from singletonclass import singleton_instance\n",
    "\n",
    "# 테스트\n",
    "singleton_instance1 = singleton_instance\n",
    "singleton_instance2 = singleton_instance\n",
    "\n",
    "print(singleton_instance1 is singleton_instance2)  # 출력: True"
   ]
  },
  {
   "cell_type": "code",
   "execution_count": null,
   "id": "74b78d86",
   "metadata": {},
   "outputs": [],
   "source": []
  },
  {
   "cell_type": "code",
   "execution_count": null,
   "id": "76647f56",
   "metadata": {},
   "outputs": [],
   "source": []
  },
  {
   "cell_type": "markdown",
   "id": "03b5cc2a",
   "metadata": {},
   "source": [
    "## 2-2. 팩토리 패턴\n",
    "\n",
    "\n",
    "- 팩토리 패턴(Factory Pattern)은 객체 생성을 캡슐화하여 클라이언트에게 생성 과정을 노출하지 않고 객체를 생성하는 디자인 패턴입니다. \n",
    "- 이는 클라이언트가 구체적인 클래스를 직접 인스턴스화하지 않고도 객체를 생성할 수 있게 해줍니다. \n",
    "- 팩토리 패턴을 사용하면 객체의 생성과 사용을 분리하여 유연성과 확장성을 제공할 수 있습니다.\n",
    "\n",
    "### 팩토리 패턴은 주로 다음과 같은 상황에서 사용됩니다:\n",
    "\n",
    "- 객체 생성 과정이 복잡하거나 다양한 종류의 객체를 생성해야 할 때.\n",
    "- 객체 생성과정에 변경이 발생하는 경우, 클라이언트 코드를 수정하지 않고도 변경사항을 반영하고자 할 때.\n",
    "- 객체 생성 코드를 중복으로 사용하는 것을 방지하고자 할 때."
   ]
  },
  {
   "cell_type": "code",
   "execution_count": 9,
   "id": "a2a6544a",
   "metadata": {},
   "outputs": [
    {
     "name": "stdout",
     "output_type": "stream",
     "text": [
      "Woof!\n",
      "Meow!\n"
     ]
    }
   ],
   "source": [
    "# 부모 클래스\n",
    "class Animal:\n",
    "    def speak(self):\n",
    "        pass\n",
    "\n",
    "# 구체적인 서브 클래스들\n",
    "class Dog(Animal):\n",
    "    def speak(self):\n",
    "        return \"Woof!\"\n",
    "\n",
    "class Cat(Animal):\n",
    "    def speak(self):\n",
    "        return \"Meow!\"\n",
    "\n",
    "# 팩토리 클래스\n",
    "class AnimalFactory:\n",
    "    def create_animal(self, animal_type):\n",
    "        if animal_type == \"dog\":\n",
    "            return Dog()\n",
    "        elif animal_type == \"cat\":\n",
    "            return Cat()\n",
    "        else:\n",
    "            raise ValueError(\"Invalid animal type!\")\n",
    "\n",
    "# 클라이언트 코드\n",
    "factory = AnimalFactory()\n",
    "dog = factory.create_animal(\"dog\")\n",
    "cat = factory.create_animal(\"cat\")\n",
    "\n",
    "print(dog.speak())  # 출력: Woof!\n",
    "print(cat.speak())  # 출력: Meow!\n"
   ]
  },
  {
   "cell_type": "code",
   "execution_count": null,
   "id": "0f1172a5",
   "metadata": {},
   "outputs": [],
   "source": []
  },
  {
   "cell_type": "markdown",
   "id": "ae28540f",
   "metadata": {},
   "source": [
    "## 2-3. 어댑터 패턴 \n",
    "\n",
    "\n",
    "- 어댑터 패턴(Adapter Pattern)은 서로 다른 인터페이스를 가진 두 개의 클래스를 함께 동작하도록 해주는 디자인 패턴입니다. \n",
    "- 즉, 기존의 인터페이스를 원하는 인터페이스로 변환하여 다른 클래스와 함께 작동하게 만들어주는 역할을 합니다.\n",
    "\n",
    "- 어댑터 패턴은 주로 기존의 코드를 재사용하고자 할 때 사용됩니다. \n",
    "- 기존에 작성된 클래스나 라이브러리를 수정하지 않고 새로운 인터페이스를 제공하여 다른 코드와 통합할 수 있도록 해줍니다.\n"
   ]
  },
  {
   "cell_type": "code",
   "execution_count": 10,
   "id": "0dc3eca3",
   "metadata": {},
   "outputs": [
    {
     "name": "stdout",
     "output_type": "stream",
     "text": [
      "Old System Operation\n"
     ]
    }
   ],
   "source": [
    "# 기존의 인터페이스\n",
    "class OldSystem:\n",
    "    def do_operation(self):\n",
    "        return \"Old System Operation\"\n",
    "\n",
    "# 새로운 인터페이스\n",
    "class NewSystem:\n",
    "    def perform_action(self):\n",
    "        return \"New System Action\"\n",
    "\n",
    "# 어댑터 클래스\n",
    "class Adapter(NewSystem):\n",
    "    def __init__(self, old_system):\n",
    "        self.old_system = old_system\n",
    "\n",
    "    def perform_action(self):\n",
    "        return self.old_system.do_operation()\n",
    "\n",
    "# 클라이언트 코드\n",
    "old_system = OldSystem()\n",
    "adapter = Adapter(old_system)\n",
    "\n",
    "print(adapter.perform_action())  # 출력: Old System Operation\n"
   ]
  },
  {
   "cell_type": "code",
   "execution_count": null,
   "id": "55d3b677",
   "metadata": {},
   "outputs": [],
   "source": []
  },
  {
   "cell_type": "code",
   "execution_count": null,
   "id": "cc4c9c68",
   "metadata": {},
   "outputs": [],
   "source": []
  }
 ],
 "metadata": {
  "kernelspec": {
   "display_name": "Python 3 (ipykernel)",
   "language": "python",
   "name": "python3"
  },
  "language_info": {
   "codemirror_mode": {
    "name": "ipython",
    "version": 3
   },
   "file_extension": ".py",
   "mimetype": "text/x-python",
   "name": "python",
   "nbconvert_exporter": "python",
   "pygments_lexer": "ipython3",
   "version": "3.11.3"
  }
 },
 "nbformat": 4,
 "nbformat_minor": 5
}
