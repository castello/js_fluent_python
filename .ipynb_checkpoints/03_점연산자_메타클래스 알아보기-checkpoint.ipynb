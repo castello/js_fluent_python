{
 "cells": [
  {
   "cell_type": "code",
   "execution_count": null,
   "id": "7ce75e09",
   "metadata": {},
   "outputs": [],
   "source": []
  },
  {
   "cell_type": "markdown",
   "id": "e6341c61",
   "metadata": {},
   "source": [
    "# 1. 점연산자 처리 "
   ]
  },
  {
   "cell_type": "markdown",
   "id": "495a0f37",
   "metadata": {},
   "source": [
    "## 1-1 객체의 점연산자 \n",
    "\n",
    "\n",
    "###  `__getattribute__ `메서드\n",
    "\n",
    "- 객체의 속성(attribute)에 접근할 때 호출되는 특수한 메서드입니다. \n",
    "- 이 메서드를 오버라이딩하면 객체의 속성 접근을 커스텀하게 제어할 수 있습니다.\n",
    "\n",
    "- `__getattribute__ `메서드는 객체의 속성에 접근할 때마다 호출되며, 속성 이름을 인자로 받습니다. \n",
    "- 이 메서드를 사용하여 해당 속성에 접근하는 동작을 원하는대로 정의할 수 있습니다. \n",
    "- 하지만 주의할 점은 `__getattribute__` 메서드를 오버라이딩할 때 반드시 속성에 접근하는 동작을 정의해야 하며, \n",
    "- 무한 재귀를 피하기 위해 object 클래스의 `__getattribute__ `메서드를 호출하는 것이 중요합니다."
   ]
  },
  {
   "cell_type": "code",
   "execution_count": null,
   "id": "f24b1e98",
   "metadata": {},
   "outputs": [],
   "source": []
  },
  {
   "cell_type": "code",
   "execution_count": 1,
   "id": "de6224b6",
   "metadata": {},
   "outputs": [
    {
     "name": "stdout",
     "output_type": "stream",
     "text": [
      "Accessing attribute: _x\n",
      "10\n",
      "Accessing attribute: double_x\n",
      "Accessing attribute: _x\n",
      "20\n"
     ]
    }
   ],
   "source": [
    "class MyClass:\n",
    "    def __init__(self):\n",
    "        self._x = 10\n",
    "\n",
    "    def __getattribute__(self, name):\n",
    "        print(f\"Accessing attribute: {name}\")\n",
    "        # object 클래스의 __getattribute__ 메서드를 호출하여 실제 속성에 접근\n",
    "        return object.__getattribute__(self, name)\n",
    "\n",
    "    def double_x(self):\n",
    "        return self._x * 2\n",
    "\n",
    "# 객체 생성\n",
    "obj = MyClass()\n",
    "\n",
    "# 속성에 접근\n",
    "print(obj._x)          # 출력: Accessing attribute: _x, 10\n",
    "print(obj.double_x())  # 출력: Accessing attribute: double_x, 20\n"
   ]
  },
  {
   "cell_type": "code",
   "execution_count": null,
   "id": "fb61fc9a",
   "metadata": {},
   "outputs": [],
   "source": []
  },
  {
   "cell_type": "markdown",
   "id": "9207d01f",
   "metadata": {},
   "source": [
    "## `__getattr__`\n",
    "\n",
    "\n"
   ]
  },
  {
   "cell_type": "code",
   "execution_count": null,
   "id": "2f444446",
   "metadata": {},
   "outputs": [],
   "source": []
  },
  {
   "cell_type": "code",
   "execution_count": 3,
   "id": "33757379",
   "metadata": {},
   "outputs": [
    {
     "name": "stdout",
     "output_type": "stream",
     "text": [
      "Accessing attribute: double_x\n",
      "Accessing attribute: _x\n",
      "20\n",
      "Accessing attribute: y\n",
      "### Accessing non-existing attribute: y ###\n",
      "y not found\n"
     ]
    }
   ],
   "source": [
    "class MyClass:\n",
    "    def __init__(self):\n",
    "        self._x = 10\n",
    "        \n",
    "    def __getattribute__(self, name):\n",
    "        print(f\"Accessing attribute: {name}\")\n",
    "        # object 클래스의 __getattribute__ 메서드를 호출하여 실제 속성에 접근\n",
    "        return object.__getattribute__(self, name)\n",
    "\n",
    "    def __getattr__(self, name):\n",
    "        print(f\"### Accessing non-existing attribute: {name} ###\")\n",
    "        return f\"{name} not found\"\n",
    "\n",
    "    def double_x(self):\n",
    "        return self._x * 2\n",
    "\n",
    "# 객체 생성\n",
    "obj = MyClass()\n",
    "\n",
    "# 존재하는 속성에 접근\n",
    "print(obj.double_x())  # 출력: 20\n",
    "\n",
    "# 존재하지 않는 속성에 접근\n",
    "print(obj.y)          # 출력: Accessing non-existing attribute: y, y not found\n"
   ]
  },
  {
   "cell_type": "code",
   "execution_count": null,
   "id": "03d99478",
   "metadata": {},
   "outputs": [],
   "source": []
  },
  {
   "cell_type": "markdown",
   "id": "3fc964d6",
   "metadata": {},
   "source": [
    "## 갱신과 삭제 \n",
    "\n",
    "### `__setattr__ `메서드:\n",
    "\n",
    "- 객체의 속성을 설정할 때 호출되는 메서드입니다.\n",
    "- self, name, value 인자를 받으며, name은 설정하려는 속성의 이름이고, value는 설정하려는 속성의 값입니다.\n",
    "- `__setattr__` 메서드에서 속성을 설정하려면 self.`__dict__`[name] = value와 같이 사용합니다.\n",
    "\n",
    "### `__delattr__` 메서드:\n",
    "\n",
    "- 객체의 속성을 삭제할 때 호출되는 메서드입니다.\n",
    "- self와 name 인자를 받으며, name은 삭제하려는 속성의 이름입니다.\n",
    "- `__delattr__` 메서드에서 속성을 삭제하려면 del self.`__dict__`[name]과 같이 사용합니다.\n"
   ]
  },
  {
   "cell_type": "code",
   "execution_count": 4,
   "id": "58575239",
   "metadata": {},
   "outputs": [
    {
     "name": "stdout",
     "output_type": "stream",
     "text": [
      "Setting attribute: _x = None\n",
      "Setting attribute: x = 42\n",
      "42\n",
      "Deleting attribute: x\n"
     ]
    }
   ],
   "source": [
    "class MyClass:\n",
    "    def __init__(self):\n",
    "        self._x = None\n",
    "\n",
    "    def __setattr__(self, name, value):\n",
    "        print(f\"Setting attribute: {name} = {value}\")\n",
    "        self.__dict__[name] = value\n",
    "\n",
    "    def __delattr__(self, name):\n",
    "        print(f\"Deleting attribute: {name}\")\n",
    "        del self.__dict__[name]\n",
    "\n",
    "# 객체 생성\n",
    "obj = MyClass()\n",
    "\n",
    "# 속성 설정\n",
    "obj.x = 42     # 출력: Setting attribute: x = 42\n",
    "\n",
    "# 속성 접근\n",
    "print(obj.x)   # 출력: 42\n",
    "\n",
    "# 속성 삭제\n",
    "del obj.x      # 출력: Deleting attribute: x\n"
   ]
  },
  {
   "cell_type": "code",
   "execution_count": null,
   "id": "8ef43c17",
   "metadata": {},
   "outputs": [],
   "source": []
  },
  {
   "cell_type": "markdown",
   "id": "baebeff7",
   "metadata": {},
   "source": [
    "# 2. 메타 클래스 알아보기"
   ]
  },
  {
   "cell_type": "markdown",
   "id": "b69e3d5a",
   "metadata": {},
   "source": [
    "## 2-1 메타 클래스로 클래스 생성하기"
   ]
  },
  {
   "cell_type": "code",
   "execution_count": null,
   "id": "0c8a9bd9",
   "metadata": {},
   "outputs": [],
   "source": []
  },
  {
   "cell_type": "code",
   "execution_count": null,
   "id": "cff1c42c",
   "metadata": {},
   "outputs": [],
   "source": []
  },
  {
   "cell_type": "code",
   "execution_count": null,
   "id": "b23c9af5",
   "metadata": {},
   "outputs": [],
   "source": []
  },
  {
   "cell_type": "markdown",
   "id": "6641b987",
   "metadata": {},
   "source": [
    "## 2-2 클래스의 점연산자"
   ]
  },
  {
   "cell_type": "code",
   "execution_count": null,
   "id": "5b1a98ee",
   "metadata": {},
   "outputs": [],
   "source": []
  },
  {
   "cell_type": "code",
   "execution_count": null,
   "id": "87d43a6e",
   "metadata": {},
   "outputs": [],
   "source": []
  },
  {
   "cell_type": "code",
   "execution_count": null,
   "id": "c12610ad",
   "metadata": {},
   "outputs": [],
   "source": []
  },
  {
   "cell_type": "code",
   "execution_count": null,
   "id": "fe8f5eca",
   "metadata": {},
   "outputs": [],
   "source": []
  },
  {
   "cell_type": "code",
   "execution_count": null,
   "id": "76bd1e7d",
   "metadata": {},
   "outputs": [],
   "source": []
  },
  {
   "cell_type": "code",
   "execution_count": null,
   "id": "e8a49005",
   "metadata": {},
   "outputs": [],
   "source": []
  },
  {
   "cell_type": "code",
   "execution_count": null,
   "id": "8255a17a",
   "metadata": {},
   "outputs": [],
   "source": []
  },
  {
   "cell_type": "markdown",
   "id": "dfb9bd02",
   "metadata": {},
   "source": [
    "## 2-3 함수클래스로 함수 객체 생성하기 "
   ]
  },
  {
   "cell_type": "code",
   "execution_count": null,
   "id": "6e6ea451",
   "metadata": {},
   "outputs": [],
   "source": []
  }
 ],
 "metadata": {
  "kernelspec": {
   "display_name": "Python 3 (ipykernel)",
   "language": "python",
   "name": "python3"
  },
  "language_info": {
   "codemirror_mode": {
    "name": "ipython",
    "version": 3
   },
   "file_extension": ".py",
   "mimetype": "text/x-python",
   "name": "python",
   "nbconvert_exporter": "python",
   "pygments_lexer": "ipython3",
   "version": "3.11.3"
  }
 },
 "nbformat": 4,
 "nbformat_minor": 5
}
